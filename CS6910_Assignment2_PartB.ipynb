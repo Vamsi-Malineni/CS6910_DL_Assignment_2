{
  "nbformat": 4,
  "nbformat_minor": 0,
  "metadata": {
    "colab": {
      "name": "CS6910-Assignment2-PartB",
      "provenance": [],
      "collapsed_sections": [],
      "mount_file_id": "1qRf0lYGxBXXRWoPM_eXzHfasy77Sp_DZ",
      "authorship_tag": "ABX9TyM6Em7R84mD8BvYRiPWE4Pt",
      "include_colab_link": true
    },
    "kernelspec": {
      "name": "python3",
      "display_name": "Python 3"
    },
    "language_info": {
      "name": "python"
    }
  },
  "cells": [
    {
      "cell_type": "markdown",
      "metadata": {
        "id": "view-in-github",
        "colab_type": "text"
      },
      "source": [
        "<a href=\"https://colab.research.google.com/github/safikhanSoofiyani/CS6910-Assignment-2/blob/main/CS6910_Assignment2_PartB.ipynb\" target=\"_parent\"><img src=\"https://colab.research.google.com/assets/colab-badge.svg\" alt=\"Open In Colab\"/></a>"
      ]
    },
    {
      "cell_type": "markdown",
      "source": [
        "# CS6910-Assignment2-Part B\n",
        "Using Pretrained model for Image Classification"
      ],
      "metadata": {
        "id": "XDeU2CS7WZMp"
      }
    },
    {
      "cell_type": "code",
      "source": [
        "!pip install -q wandb\n",
        "import wandb\n",
        "import pathlib\n",
        "import numpy as np\n",
        "import pandas as pd\n",
        "import tensorflow as tf\n",
        "from tensorflow.keras.preprocessing import image_dataset_from_directory\n",
        "from tensorflow.keras.preprocessing.image import ImageDataGenerator\n",
        "from tensorflow.keras import layers, Model\n",
        "from tensorflow.keras.layers.experimental.preprocessing import Rescaling\n",
        "from PIL import Image"
      ],
      "metadata": {
        "id": "XZS6Eod-WCXU"
      },
      "execution_count": null,
      "outputs": []
    },
    {
      "cell_type": "code",
      "source": [
        "def get_data():\n",
        "    path=r\"/content/drive/MyDrive/nature_12K/inaturalist_12K/train\"\n",
        "\n",
        "    # Training dataset:\n",
        "    train_dataset=tf.keras.preprocessing.image_dataset_from_directory(\n",
        "        directory=path,\n",
        "        labels='inferred',\n",
        "        label_mode='categorical',\n",
        "        color_mode='rgb',\n",
        "        batch_size=32,\n",
        "        image_size=(256,256),\n",
        "        shuffle=True,\n",
        "        seed=19,\n",
        "        validation_split=0.1,\n",
        "        subset='training'\n",
        "    )\n",
        "    # Validation dataset:\n",
        "    valid_dataset=tf.keras.preprocessing.image_dataset_from_directory(\n",
        "        directory=path,\n",
        "        labels='inferred',\n",
        "        label_mode='categorical',\n",
        "        color_mode='rgb',\n",
        "        batch_size=32,\n",
        "        image_size=(256,256),\n",
        "        shuffle=True,\n",
        "        seed=19,\n",
        "        validation_split=0.1,\n",
        "        subset='validation'\n",
        "    )\n",
        "    \n",
        "    #return train_data, valid_data\n",
        "    return train_dataset, valid_dataset\n"
      ],
      "metadata": {
        "id": "84oe-Pu4Wv2R"
      },
      "execution_count": null,
      "outputs": []
    },
    {
      "cell_type": "code",
      "source": [
        "def get_augmented_data():\n",
        "    training_data_augmentation=ImageDataGenerator(rescale=1./255,\n",
        "                                        height_shift_range=0.2,\n",
        "                                        width_shift_range=0.2,\n",
        "                                        horizontal_flip=True,\n",
        "                                        zoom_range=0.2,\n",
        "                                        fill_mode=\"nearest\",\n",
        "                                        validation_split = 0.1)\n",
        "\n",
        "    # Validation data is not being augmented\n",
        "    validation_data_augmentation=ImageDataGenerator(\n",
        "        validation_split=0.1\n",
        "    )\n",
        "\n",
        "    train_aug=training_data_augmentation.flow_from_directory(path,shuffle=True,seed=19,subset='training')\n",
        "    valid_aug=validation_data_augmentation.flow_from_directory(path,shuffle=True,seed=19,subset='validation')\n",
        "\n",
        "    return train_aug, valid_aug\n"
      ],
      "metadata": {
        "id": "Yg42DuXIYOJu"
      },
      "execution_count": null,
      "outputs": []
    },
    {
      "cell_type": "markdown",
      "source": [
        "Transfer Learning reference: https://www.tensorflow.org/tutorials/images/transfer_learning"
      ],
      "metadata": {
        "id": "YoqX0f_03oIb"
      }
    },
    {
      "cell_type": "code",
      "source": [
        "# image shape: \n",
        "image_shape=(256,256,3)\n",
        "# Enter the name of pre-trained model:\n",
        "pre_model=\"InceptionV3\"\n",
        "\n",
        "# Initializing the model\n",
        "\n",
        "# NOTE: By using include_top=False, we are not using the final classification\n",
        "# layer of the pre trained model.\n",
        "\n",
        "def initialize_model(pm,img_shape):\n",
        "  if pm ==\"InceptionV3\":\n",
        "    model=tf.keras.applications.InceptionV3(input_shape=img_shape,\n",
        "                                            include_top=False,\n",
        "                                            weights='imagenet')\n",
        "  elif pm==\"InceptionResNetV2\":\n",
        "    model=tf.keras.applications.InceptionResNetV2(input_shape=img_shape,\n",
        "                                                        include_top=False,\n",
        "                                                        weights='imagenet')\n",
        "  elif pm==\"ResNet50\":\n",
        "    model=tf.keras.applications.ResNet50(input_shape=img_shape,\n",
        "                                         include_top=False,\n",
        "                                         weights='imagenet')\n",
        "  elif pm==\"Xception\":\n",
        "    model=tf.keras.applications.Xception(input_shape=img_shape,\n",
        "                                         include_top=False,\n",
        "                                         weights='imagenet')\n",
        "  else:\n",
        "    print(\"Enter a valid model name\")\n",
        "  \n",
        "  return model\n",
        "\n",
        "\n",
        "    "
      ],
      "metadata": {
        "id": "5FuDsYrrYQHs"
      },
      "execution_count": null,
      "outputs": []
    }
  ]
}