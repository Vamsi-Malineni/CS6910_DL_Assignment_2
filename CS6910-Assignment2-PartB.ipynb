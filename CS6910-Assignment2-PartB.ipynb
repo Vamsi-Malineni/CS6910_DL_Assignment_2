{
  "cells": [
    {
      "cell_type": "markdown",
      "metadata": {
        "id": "view-in-github",
        "colab_type": "text"
      },
      "source": [
        "<a href=\"https://colab.research.google.com/github/safikhanSoofiyani/CS6910-Assignment-2/blob/main/CS6910-Assignment2-PartB.ipynb\" target=\"_parent\"><img src=\"https://colab.research.google.com/assets/colab-badge.svg\" alt=\"Open In Colab\"/></a>"
      ]
    },
    {
      "cell_type": "code",
      "execution_count": null,
      "metadata": {
        "id": "pWmAENDRgjCh"
      },
      "outputs": [],
      "source": [
        "import random\n",
        "import numpy as np\n",
        "import tensorflow as tf\n",
        "import random\n",
        "import matplotlib.pyplot as plt\n",
        "import os\n",
        "import math\n",
        "\n",
        "# Importing libraries related to Image Preprocessing\n",
        "from tensorflow.keras.utils import image_dataset_from_directory\n",
        "from tensorflow.keras.preprocessing.image import ImageDataGenerator\n",
        "from tensorflow.keras.layers.experimental.preprocessing import Rescaling\n",
        "\n",
        "# Importing libraries related to CNN Model building\n",
        "from tensorflow import keras\n",
        "from tensorflow.keras.models import Sequential,Model\n",
        "from tensorflow.keras import Input\n",
        "from tensorflow.keras.layers import Dense,Flatten,Conv2D,MaxPool2D,Activation,Dropout,BatchNormalization\n",
        "from keras.models import Model\n",
        "from keras.callbacks import ModelCheckpoint\n",
        "from keras.preprocessing.image import load_img\n",
        "from keras.preprocessing.image import img_to_array\n",
        "from tensorflow.keras.applications import ResNet50, InceptionV3, InceptionResNetV2, Xception\n",
        "\n",
        "random.seed(hash(\"seriously you compete with me\") % 2**32 - 1)\n",
        "np.random.seed(hash(\"i am mohammed safi\") % 2**32 - 1)\n",
        "tf.random.set_seed(hash(\"ur rahman khan\") % 2**32 - 1)\n",
        "tf.random.set_seed(hash(\"ur rahman khan\") % 2**32 - 1)"
      ]
    },
    {
      "cell_type": "code",
      "execution_count": null,
      "metadata": {
        "colab": {
          "base_uri": "https://localhost:8080/"
        },
        "id": "2VK3BXsLhHOo",
        "outputId": "6c9f0418-5e34-4b8e-b2dc-0a2b3d31988f"
      },
      "outputs": [
        {
          "output_type": "stream",
          "name": "stdout",
          "text": [
            "\u001b[K     |████████████████████████████████| 1.7 MB 4.3 MB/s \n",
            "\u001b[K     |████████████████████████████████| 181 kB 65.8 MB/s \n",
            "\u001b[K     |████████████████████████████████| 144 kB 69.6 MB/s \n",
            "\u001b[K     |████████████████████████████████| 63 kB 2.3 MB/s \n",
            "\u001b[?25h  Building wheel for pathtools (setup.py) ... \u001b[?25l\u001b[?25hdone\n"
          ]
        }
      ],
      "source": [
        "!pip install -q wandb\n",
        "import wandb\n",
        "from wandb.keras import WandbCallback"
      ]
    },
    {
      "cell_type": "code",
      "execution_count": null,
      "metadata": {
        "colab": {
          "base_uri": "https://localhost:8080/"
        },
        "id": "kChx8ruvglcA",
        "outputId": "0f74c472-84b5-4fc9-e432-7808ba1bf29d"
      },
      "outputs": [
        {
          "output_type": "stream",
          "name": "stdout",
          "text": [
            "Mounted at /content/drive\n"
          ]
        }
      ],
      "source": [
        "from google.colab import drive\n",
        "drive.mount('/content/drive')"
      ]
    },
    {
      "cell_type": "code",
      "execution_count": null,
      "metadata": {
        "id": "cNof1Xsxgn6c"
      },
      "outputs": [],
      "source": [
        "input_image_shape = (256, 256, 3)"
      ]
    },
    {
      "cell_type": "code",
      "execution_count": null,
      "metadata": {
        "id": "wRzVu9cUgrcM"
      },
      "outputs": [],
      "source": [
        "def get_data():\n",
        "    #path=r\"C:\\Users\\vamsi_oe20s302\\Downloads\\nature_12K\\inaturalist_12K\\train\"\n",
        "    path=r\"/content/drive/MyDrive/nature_12K/inaturalist_12K/train\"\n",
        "\n",
        "    \n",
        "    training_data_augmentation=ImageDataGenerator(rescale=1./255,\n",
        "                                        validation_split = 0.1)\n",
        "\n",
        "    # Validation data is not being augmented\n",
        "    validation_data_augmentation=ImageDataGenerator(\n",
        "        rescale=1./255,\n",
        "        validation_split=0.1\n",
        "    )\n",
        "\n",
        "    train_dataset=training_data_augmentation.flow_from_directory(path,shuffle=True,seed=19,subset='training')\n",
        "    valid_dataset=validation_data_augmentation.flow_from_directory(path,shuffle=True,seed=19,subset='validation')\n",
        "\n",
        "    #return train_aug, valid_aug\n",
        "\n",
        "    \n",
        "    #return train_data, valid_data\n",
        "    return train_dataset, valid_dataset"
      ]
    },
    {
      "cell_type": "code",
      "execution_count": null,
      "metadata": {
        "id": "adzOG4Ffgvln"
      },
      "outputs": [],
      "source": [
        "def get_augmented_data():\n",
        "    #path=r\"C:\\Users\\vamsi_oe20s302\\Downloads\\nature_12K\\inaturalist_12K\\train\"\n",
        "    path=r\"/content/drive/MyDrive/nature_12K/inaturalist_12K/train\"\n",
        "    training_data_augmentation=ImageDataGenerator(rescale=1./255,\n",
        "                                        height_shift_range=0.2,\n",
        "                                        width_shift_range=0.2,\n",
        "                                        horizontal_flip=True,\n",
        "                                        zoom_range=0.2,\n",
        "                                        fill_mode=\"nearest\",\n",
        "                                        validation_split = 0.1)\n",
        "\n",
        "    # Validation data is not being augmented\n",
        "    validation_data_augmentation=ImageDataGenerator(\n",
        "        rescale=1./255,\n",
        "        validation_split=0.1\n",
        "    )\n",
        "\n",
        "    train_aug=training_data_augmentation.flow_from_directory(path,shuffle=True,seed=19,subset='training')\n",
        "    valid_aug=validation_data_augmentation.flow_from_directory(path,shuffle=True,seed=19,subset='validation')\n",
        "\n",
        "    return train_aug, valid_aug"
      ]
    },
    {
      "cell_type": "code",
      "execution_count": null,
      "metadata": {
        "id": "rm0foBx0g5G3"
      },
      "outputs": [],
      "source": [
        "def build_model(model_name, dense_activation, dense_layer, dropout, trainable_layers):\n",
        "    '''\n",
        "    define a keras sequential model based on a pre-trained model intended to be fine tuned\n",
        "    '''\n",
        "    input_image_shape = (256, 256, 3)\n",
        "    input_layer = Input(shape = input_image_shape)\n",
        "\n",
        "    # add a pretrained model without the top dense layer\n",
        "    if model_name == 'ResNet50':\n",
        "      pretrained_model = ResNet50(include_top = False, weights='imagenet',input_tensor = input_layer)\n",
        "    elif model_name == 'InceptionV3':\n",
        "      pretrained_model = InceptionV3(include_top = False, weights='imagenet',input_tensor = input_layer)\n",
        "    elif model_name == 'InceptionResNetV2':\n",
        "      pretrained_model = InceptionResNetV2(include_top = False, weights='imagenet',input_tensor = input_layer)\n",
        "    else:\n",
        "      pretrained_model = Xception(include_top = False, weights='imagenet',input_tensor = input_layer)\n",
        "    \n",
        "    #freeze all layers\n",
        "    for layer in pretrained_model.layers:\n",
        "        layer.trainable=False \n",
        "    \n",
        "    #set some of the top layers as trainable\n",
        "    if trainable_layers != 0:\n",
        "      for layer in pretrained_model.layers[-trainable_layers:]:\n",
        "        layer.trainable=True\n",
        "\n",
        "    model = Sequential()\n",
        "    model.add(pretrained_model)#add pretrained model\n",
        "    model.add(Flatten()) # The flatten layer is essential to convert the feature map into a column vector\n",
        "    model.add(Dense(dense_layer, activation=dense_activation))#add a dense layer\n",
        "    model.add(Dropout(dropout)) # For dropout\n",
        "    model.add(Dense(10, activation=\"softmax\"))#softmax layer\n",
        "\n",
        "    return model"
      ]
    },
    {
      "cell_type": "code",
      "execution_count": null,
      "metadata": {
        "id": "uwDYivBji5J1"
      },
      "outputs": [],
      "source": [
        "def wandb_train():\n",
        "   # initializing wandb with the above configuration\n",
        "\n",
        "    config_defaults = {\n",
        "        \"model_name\": \"InceptionV3\",\n",
        "        \"data_augmentation\": True,\n",
        "        \"dense_layer\": 128,\n",
        "        \"dropout\": 0.0,\n",
        "        \"trainable_layers\": 0,\n",
        "        \"batch_size\": 64,\n",
        "        \"num_epochs\": 10\n",
        "        \n",
        "    }\n",
        "\n",
        "    # Initialize a new wandb run\n",
        "    wandb.init(config=config_defaults)\n",
        "    \n",
        "    # collecting the configuration information\n",
        "    config = wandb.config\n",
        "\n",
        "    # Local variables, values obtained from wandb config\n",
        "    model_name = config.model_name\n",
        "    data_augmentation = config.data_augmentation\n",
        "    dense_layer = config.dense_layer\n",
        "    dropout = config.dropout\n",
        "    trainable_layers = config.trainable_layers\n",
        "    batch_size = config.batch_size\n",
        "    num_epochs = config.num_epochs\n",
        "    dense_activation = \"relu\"\n",
        "    \n",
        "    \n",
        "    # run name\n",
        "    run_name='Model_{}_trainable_{}_Data_aug_{}_dropout_{}_dense_layer_{}'.format(config.model_name,\n",
        "                                                                             config.trainable_layers,\n",
        "                                                                             config.data_augmentation,\n",
        "                                                                             config.dropout,\n",
        "                                                                             config.dense_layer,                                                                       \n",
        "                                                                             )\n",
        "\n",
        "    wandb.run.name = run_name\n",
        "\n",
        "    # Create the data generators\n",
        "\n",
        "    if data_augmentation == False:\n",
        "        train_data, validation_data = get_data()\n",
        "    else:\n",
        "        train_data, validation_data = get_augmented_data()\n",
        "    \n",
        "    # Define the model\n",
        "    model = build_model(model_name, dense_activation, dense_layer, dropout, trainable_layers)\n",
        "\n",
        "\n",
        "    model.compile(optimizer=tf.keras.optimizers.Adam(learning_rate=0.0001),\n",
        "                loss=tf.keras.losses.CategoricalCrossentropy(name='loss'),\n",
        "                metrics=[tf.keras.metrics.CategoricalAccuracy(name='acc')])\n",
        "\n",
        "\n",
        "    # To save the model with best validation accuracy\n",
        "    mc = ModelCheckpoint('/content/drive/MyDrive/nature_12K/best_model.h5', monitor='val_accuracy', mode='max', verbose=0, save_best_only=True)\n",
        "\n",
        "    history = model.fit(train_data,\n",
        "                        validation_data = validation_data,\n",
        "                        epochs=num_epochs, \n",
        "                        callbacks=[WandbCallback()]\n",
        "                        )\n",
        "    \n",
        "    \n",
        "    # Meaningful name for the run\n",
        "\n",
        "    wandb_log = True\n",
        "    wandb.run.finish()\n",
        "    return history"
      ]
    },
    {
      "cell_type": "code",
      "execution_count": null,
      "metadata": {
        "id": "rZyvbZvTk9LG"
      },
      "outputs": [],
      "source": [
        "hyperparameters = {\n",
        "\n",
        "        \"model_name\":{\n",
        "            'values': [\"InceptionV3\", \"ResNet50\", \"InceptionResNetV2\", \"Xception\"]\n",
        "        },\n",
        "\n",
        "        \"data_augmentation\": {\n",
        "            \"values\": [True, False]\n",
        "        },\n",
        "\n",
        "        \"dense_layer\": {\n",
        "            \"values\": [64, 128, 256, 512]\n",
        "        },\n",
        "\n",
        "        \"dropout\": {\n",
        "            \"values\": [0.0, 0.1, 0.2, 0.3]\n",
        "        },\n",
        "        \n",
        "        \"trainable_layers\": {\n",
        "            \"values\": [0, 10, 15, 20]\n",
        "        },\n",
        "\n",
        "        \"batch_size\": {\n",
        "            \"values\": [64, 128]\n",
        "        },\n",
        "\n",
        "        \"num_epochs\":{\n",
        "            \"values\": [5, 10, 15]\n",
        "        }\n",
        "        \n",
        "    }"
      ]
    },
    {
      "cell_type": "code",
      "execution_count": null,
      "metadata": {
        "colab": {
          "base_uri": "https://localhost:8080/"
        },
        "id": "4MjX28njlt5-",
        "outputId": "f4369bf0-14f0-4635-bb7c-0157e72f2ca4"
      },
      "outputs": [
        {
          "output_type": "stream",
          "name": "stdout",
          "text": [
            "\u001b[34m\u001b[1mwandb\u001b[0m: You can find your API key in your browser here: https://wandb.ai/authorize\n",
            "\u001b[34m\u001b[1mwandb\u001b[0m: Paste an API key from your profile and hit enter, or press ctrl+c to quit: \n",
            "\u001b[34m\u001b[1mwandb\u001b[0m: Appending key for api.wandb.ai to your netrc file: /root/.netrc\n"
          ]
        }
      ],
      "source": [
        "!wandb login --relogin\n",
        "entity_name = \"safi-vamsi-cs6910\"\n",
        "project_name = \"Assignment 2\""
      ]
    },
    {
      "cell_type": "code",
      "execution_count": null,
      "metadata": {
        "colab": {
          "base_uri": "https://localhost:8080/",
          "height": 1000,
          "referenced_widgets": [
            "78ac573702df479989a9603b5df0f5cb",
            "feb9d950c0ca498785b293d13058069f",
            "5782506794f54ac5977c5fdf2ef96ca0",
            "75cca78b01a64e02a1b5ad84b3143eff",
            "71d78fe320634248a0cd336918abf1a1",
            "7800d391c6fa47bea6946e9281a59808",
            "706e9b5bd2484904b5109a4fb42aac8f",
            "a9dd4d6a8c74440ba6f7bd42ca2e0317",
            "d4b792d5ebd2435fbf348edef3648fbf",
            "38bbb0746bd249a7a50fdd47a1994876",
            "f0d8d1199de148df99033e9439bef04e",
            "52b5a73f404449a9a30a88b801aeec3a",
            "99f63b4ada9c4e8eae6897cafcff7d91",
            "f8cb77a5568949b9a4603b45823e586e",
            "2794e43e99b542db8095ce8f893aaa20",
            "b6375c2df8e64fb1b9234c2908030695",
            "1dfa24d34e664de294d35ebd515a4d49",
            "13e7ac9b7efe4cf4b126d55e955d386c",
            "e3da2fd52871432d8851ec1e823ced3e",
            "b6a3f667784842c5895ed65757d41cff",
            "d7a9b15100b54df9b6147656ccf3c74d",
            "78ae7bcff8074425ac8a30200e8a2355",
            "2ac8a2d2441d4a4f82cf1b4e6d3fb24a",
            "90f0852f76d34ac6a6a0592b0217a116",
            "e6fec7d5c4c04a8381344f001f30697a",
            "8dab2dbe0e4c4d9cb64939ef96666e8d",
            "ba41835d84664507a42eca0b5e00989b",
            "90450bf2ac594403b2b7edfbb0b0d214",
            "f59fd92bf5984d7a8357a97c8223a3d7",
            "1fb9c688bdfc49d6b3e952a92cfc966b",
            "da759c056fae48c788455647d51f16e1",
            "ffc9aad0190746058b9524f000bad7e0",
            "e2e4fd08a58f4c169d4404bc67ec7908",
            "9b2fa07e2bd34a18b9fc994112021240",
            "bbeb921c32d44557a34315e93c0a1f8c",
            "aa8f22c235a74390bfb06a33349346e1",
            "f781e802512c4d0b8a3d0b404ec94543",
            "4ef16522dc0646c08850f7d7e25430ae",
            "a586260870a7498ca6c2a811cc8b4234",
            "583cbcd33bff47bea90fc56a4f970ecf",
            "7776927eb2a2447b85aee188d95de281",
            "9c6d1284a9634e79b5c16c6999dc4a5f",
            "fa3eae5e5a7a420c94e7193402d27c61",
            "c5654746b9c640b09a8d0db6afb57439",
            "15472693f8634fbc80ef4f84e466de38",
            "52ea02a6148e40b080f30bad0b5fae57",
            "2bec3c5b1c7e47fab72a896cc9117207",
            "15353488886a499bb14c8fabb1358762",
            "ed55234bc2e0435e84c989bb5c3919fd",
            "92a072c665c74f8cb633704062908d56",
            "82eec3b9e6844cd7a939c6243f2506b1",
            "a121a46a7a424cf2ae6be9ef2e20bd16",
            "0eb94cdd67dd4d0d8c49e54ad436865e",
            "5aad70662f9e4b7e8b72d9af1c0b8940",
            "da91a2d8284f403a8266a5c533fb68b7",
            "4a805ef7aafc4dddb3d7402a2ebdb825",
            "018e0b0025a4491abbdfbe622530852f",
            "a0d91bc803d34e9ab9d2a73aaeb97f12",
            "4f5a4064d20743b6a8ac2885d1c6ee38",
            "d2de7c636b60479b8e60e9ff7281ec7b",
            "359dcb45a5474839b611ff98ae7641f9",
            "583bb63129ea48ed949278a5989fbaaf",
            "a9d7edd4b2c44e559db4b00046ed8b81",
            "601e3e6c40b04868a284b1701518b1b2",
            "0686d4bf1b0f4915b8349cf2cdee1edd",
            "3accd9c7bd024251ba0cf04a8db44731",
            "43e9201fa5414092b7e5c460050dc9d8",
            "665d72ed30be48d9ac4aa4beb9b21e76",
            "3c6363e7d0044d37b188a494dbf21de0",
            "c489148035564a048b9785085da36bcb",
            "d77a40232088472f9e5c015dcc22c84a",
            "ea29851412774754a0496fad3bcb5dc7",
            "1b4c73617b29417a877235c452564885",
            "bafb8b29d441432cac24da14342efadd",
            "ad088ec7a2864352aa6e2a85344f0096",
            "abffd3321f554f009f886a2e10c40ba3",
            "329e05cab7c94a5c934c295f3f81f214",
            "43da07956a2a4fea856c1329912abc12",
            "5d809e58cafa43aba6451726baac9f6b",
            "5c47c7a7faad410fbe3b2a7a1c878109",
            "28cce1916e5c4686a192353d918e23c9",
            "ed602221267549b6a3280b9f8db85998",
            "dc9f21513fb440038224f98785c43cd8",
            "621bbf261d7748e494ba1f1b0d7fe52d",
            "c3606cec9ae7417d9642ea0b62f3a22f",
            "1497926a53564baba9dd45096ec41ae0",
            "0b701143b33c47d181fa4300955637bd",
            "a3a75eb4b8554c9ab8a14357a1e5a123",
            "61b07ed6c28343688d151dd9d39e086a",
            "ab792f3444514362843718dee76a1e26",
            "abd8b816e6da46b9be500552ccd0a7ef",
            "66698976766049c5897b3ae191c555c1",
            "c2bae11f900d426fbd875ec4e6bf33a7",
            "0af4dd19a07d4952894adf9358ca5c2f",
            "9dc10ffcc83e470ab237c46ceba5fa02",
            "3d59b18ca82948d9b8584f39180a77ec",
            "b2f03da4a283464cb07c8d2a2257e625",
            "26f18f42f826485ca0341de821b51961",
            "77196ba54a3842989fd1d951161d7a5c",
            "d632f4ebdaa246db8181c19e99514963",
            "449ae53ac33145f5a147a3de14ea72b9",
            "e03bcc1e27434162983ed3dfa2814529"
          ]
        },
        "id": "GsBRrNl1j2MO",
        "outputId": "3e163900-bd3f-4425-be2e-893e8d7c31b9"
      },
      "outputs": [
        {
          "data": {
            "text/html": [
              "<style>\n",
              "    table.wandb td:nth-child(1) { padding: 0 10px; text-align: right }\n",
              "    .wandb-row { display: flex; flex-direction: row; flex-wrap: wrap; width: 100% }\n",
              "    .wandb-col { display: flex; flex-direction: column; flex-basis: 100%; flex: 1; padding: 10px; }\n",
              "    </style>\n",
              "<div class=\"wandb-row\"><div class=\"wandb-col\"><h3>Run history:</h3><br/><table class=\"wandb\"><tr><td>acc</td><td>▁█▂▅</td></tr><tr><td>epoch</td><td>▁▃▆█</td></tr><tr><td>loss</td><td>█▁▁▁</td></tr><tr><td>val_acc</td><td>▁▁█▁</td></tr><tr><td>val_loss</td><td>▁▁█▁</td></tr></table><br/></div><div class=\"wandb-col\"><h3>Run summary:</h3><br/><table class=\"wandb\"><tr><td>acc</td><td>0.09778</td></tr><tr><td>best_epoch</td><td>3</td></tr><tr><td>best_val_loss</td><td>2.30258</td></tr><tr><td>epoch</td><td>3</td></tr><tr><td>loss</td><td>2.30304</td></tr><tr><td>val_acc</td><td>0.1001</td></tr><tr><td>val_loss</td><td>2.30258</td></tr></table><br/></div></div>"
            ],
            "text/plain": [
              "<IPython.core.display.HTML object>"
            ]
          },
          "metadata": {},
          "output_type": "display_data"
        },
        {
          "data": {
            "text/html": [
              "Synced <strong style=\"color:#cdcd00\">vocal-sweep-15</strong>: <a href=\"https://wandb.ai/safi-vamsi-cs6910/Assignment%202/runs/vuloafyn\" target=\"_blank\">https://wandb.ai/safi-vamsi-cs6910/Assignment%202/runs/vuloafyn</a><br/>Synced 5 W&B file(s), 1 media file(s), 0 artifact file(s) and 1 other file(s)"
            ],
            "text/plain": [
              "<IPython.core.display.HTML object>"
            ]
          },
          "metadata": {},
          "output_type": "display_data"
        },
        {
          "data": {
            "text/html": [
              "Find logs at: <code>./wandb/run-20220330_022150-vuloafyn/logs</code>"
            ],
            "text/plain": [
              "<IPython.core.display.HTML object>"
            ]
          },
          "metadata": {},
          "output_type": "display_data"
        },
        {
          "metadata": {
            "tags": null
          },
          "name": "stdout",
          "output_type": "stream",
          "text": [
            "Create sweep with ID: rrfukwss\n",
            "Sweep URL: https://wandb.ai/safi-vamsi-cs6910/Assignment%202/sweeps/rrfukwss\n"
          ]
        },
        {
          "metadata": {
            "tags": null
          },
          "name": "stderr",
          "output_type": "stream",
          "text": [
            "\u001b[34m\u001b[1mwandb\u001b[0m: Agent Starting Run: kdat1bys with config:\n",
            "\u001b[34m\u001b[1mwandb\u001b[0m: \tbatch_size: 64\n",
            "\u001b[34m\u001b[1mwandb\u001b[0m: \tdata_augmentation: True\n",
            "\u001b[34m\u001b[1mwandb\u001b[0m: \tdense_layer: 512\n",
            "\u001b[34m\u001b[1mwandb\u001b[0m: \tdropout: 0.3\n",
            "\u001b[34m\u001b[1mwandb\u001b[0m: \tmodel_name: Xception\n",
            "\u001b[34m\u001b[1mwandb\u001b[0m: \tnum_epochs: 15\n",
            "\u001b[34m\u001b[1mwandb\u001b[0m: \ttrainable_layers: 10\n"
          ]
        },
        {
          "data": {
            "text/html": [
              "Tracking run with wandb version 0.12.11"
            ],
            "text/plain": [
              "<IPython.core.display.HTML object>"
            ]
          },
          "metadata": {},
          "output_type": "display_data"
        },
        {
          "data": {
            "text/html": [
              "Run data is saved locally in <code>/content/wandb/run-20220330_024011-kdat1bys</code>"
            ],
            "text/plain": [
              "<IPython.core.display.HTML object>"
            ]
          },
          "metadata": {},
          "output_type": "display_data"
        },
        {
          "data": {
            "text/html": [
              "Syncing run <strong><a href=\"https://wandb.ai/safi-vamsi-cs6910/Assignment%202/runs/kdat1bys\" target=\"_blank\">twilight-sweep-1</a></strong> to <a href=\"https://wandb.ai/safi-vamsi-cs6910/Assignment%202\" target=\"_blank\">Weights & Biases</a> (<a href=\"https://wandb.me/run\" target=\"_blank\">docs</a>)<br/>Sweep page:  <a href=\"https://wandb.ai/safi-vamsi-cs6910/Assignment%202/sweeps/rrfukwss\" target=\"_blank\">https://wandb.ai/safi-vamsi-cs6910/Assignment%202/sweeps/rrfukwss</a>"
            ],
            "text/plain": [
              "<IPython.core.display.HTML object>"
            ]
          },
          "metadata": {},
          "output_type": "display_data"
        },
        {
          "metadata": {
            "tags": null
          },
          "name": "stdout",
          "output_type": "stream",
          "text": [
            "Found 9000 images belonging to 10 classes.\n",
            "Found 999 images belonging to 10 classes.\n",
            "Epoch 1/15\n",
            "282/282 [==============================] - 261s 914ms/step - loss: 1.1517 - acc: 0.6413 - val_loss: 0.7023 - val_acc: 0.7798 - _timestamp: 1648608276.0000 - _runtime: 265.0000\n",
            "Epoch 2/15\n",
            "282/282 [==============================] - 255s 905ms/step - loss: 0.7767 - acc: 0.7487 - val_loss: 0.6667 - val_acc: 0.7748 - _timestamp: 1648608531.0000 - _runtime: 520.0000\n",
            "Epoch 3/15\n",
            "282/282 [==============================] - 257s 913ms/step - loss: 0.6492 - acc: 0.7880 - val_loss: 0.6509 - val_acc: 0.7778 - _timestamp: 1648608795.0000 - _runtime: 784.0000\n",
            "Epoch 4/15\n",
            "282/282 [==============================] - 258s 915ms/step - loss: 0.5578 - acc: 0.8172 - val_loss: 0.6627 - val_acc: 0.8028 - _timestamp: 1648609057.0000 - _runtime: 1046.0000\n",
            "Epoch 5/15\n",
            "282/282 [==============================] - 257s 910ms/step - loss: 0.4878 - acc: 0.8370 - val_loss: 0.6446 - val_acc: 0.8008 - _timestamp: 1648609307.0000 - _runtime: 1296.0000\n",
            "Epoch 6/15\n",
            "282/282 [==============================] - 257s 911ms/step - loss: 0.4172 - acc: 0.8591 - val_loss: 0.6699 - val_acc: 0.7928 - _timestamp: 1648609571.0000 - _runtime: 1560.0000\n",
            "Epoch 7/15\n",
            "282/282 [==============================] - 249s 884ms/step - loss: 0.3571 - acc: 0.8780 - val_loss: 0.7204 - val_acc: 0.7998 - _timestamp: 1648609820.0000 - _runtime: 1809.0000\n",
            "Epoch 8/15\n",
            "282/282 [==============================] - 249s 884ms/step - loss: 0.3208 - acc: 0.8902 - val_loss: 0.7445 - val_acc: 0.8028 - _timestamp: 1648610070.0000 - _runtime: 2059.0000\n",
            "Epoch 9/15\n",
            "282/282 [==============================] - 249s 882ms/step - loss: 0.2710 - acc: 0.9100 - val_loss: 0.8326 - val_acc: 0.7838 - _timestamp: 1648610319.0000 - _runtime: 2308.0000\n",
            "Epoch 10/15\n",
            "282/282 [==============================] - 249s 882ms/step - loss: 0.2478 - acc: 0.9183 - val_loss: 0.7847 - val_acc: 0.8218 - _timestamp: 1648610567.0000 - _runtime: 2556.0000\n",
            "Epoch 11/15\n",
            "282/282 [==============================] - 248s 880ms/step - loss: 0.2230 - acc: 0.9242 - val_loss: 0.8665 - val_acc: 0.7988 - _timestamp: 1648610816.0000 - _runtime: 2805.0000\n",
            "Epoch 12/15\n",
            "282/282 [==============================] - 249s 883ms/step - loss: 0.1967 - acc: 0.9344 - val_loss: 0.8772 - val_acc: 0.7968 - _timestamp: 1648611065.0000 - _runtime: 3054.0000\n",
            "Epoch 13/15\n",
            "282/282 [==============================] - 250s 885ms/step - loss: 0.1792 - acc: 0.9384 - val_loss: 0.9808 - val_acc: 0.7968 - _timestamp: 1648611314.0000 - _runtime: 3303.0000\n",
            "Epoch 14/15\n",
            "282/282 [==============================] - 250s 886ms/step - loss: 0.1500 - acc: 0.9508 - val_loss: 0.9649 - val_acc: 0.7988 - _timestamp: 1648611564.0000 - _runtime: 3553.0000\n",
            "Epoch 15/15\n",
            "282/282 [==============================] - 250s 885ms/step - loss: 0.1455 - acc: 0.9516 - val_loss: 0.9735 - val_acc: 0.8098 - _timestamp: 1648611814.0000 - _runtime: 3803.0000\n",
            "\n"
          ]
        },
        {
          "data": {
            "text/html": [
              "Waiting for W&B process to finish... <strong style=\"color:green\">(success).</strong>"
            ],
            "text/plain": [
              "<IPython.core.display.HTML object>"
            ]
          },
          "metadata": {},
          "output_type": "display_data"
        },
        {
          "data": {
            "application/vnd.jupyter.widget-view+json": {
              "model_id": "78ac573702df479989a9603b5df0f5cb",
              "version_major": 2,
              "version_minor": 0
            },
            "text/plain": [
              "VBox(children=(Label(value='889.871 MB of 889.871 MB uploaded (0.000 MB deduped)\\r'), FloatProgress(value=1.0,…"
            ]
          },
          "metadata": {},
          "output_type": "display_data"
        },
        {
          "data": {
            "text/html": [
              "<style>\n",
              "    table.wandb td:nth-child(1) { padding: 0 10px; text-align: right }\n",
              "    .wandb-row { display: flex; flex-direction: row; flex-wrap: wrap; width: 100% }\n",
              "    .wandb-col { display: flex; flex-direction: column; flex-basis: 100%; flex: 1; padding: 10px; }\n",
              "    </style>\n",
              "<div class=\"wandb-row\"><div class=\"wandb-col\"><h3>Run history:</h3><br/><table class=\"wandb\"><tr><td>acc</td><td>▁▃▄▅▅▆▆▇▇▇▇████</td></tr><tr><td>epoch</td><td>▁▁▂▃▃▃▄▅▅▅▆▇▇▇█</td></tr><tr><td>loss</td><td>█▅▅▄▃▃▂▂▂▂▂▁▁▁▁</td></tr><tr><td>val_acc</td><td>▂▁▁▅▅▄▅▅▂█▅▄▄▅▆</td></tr><tr><td>val_loss</td><td>▂▁▁▁▁▂▃▃▅▄▆▆███</td></tr></table><br/></div><div class=\"wandb-col\"><h3>Run summary:</h3><br/><table class=\"wandb\"><tr><td>acc</td><td>0.95156</td></tr><tr><td>best_epoch</td><td>4</td></tr><tr><td>best_val_loss</td><td>0.64464</td></tr><tr><td>epoch</td><td>14</td></tr><tr><td>loss</td><td>0.14552</td></tr><tr><td>val_acc</td><td>0.80981</td></tr><tr><td>val_loss</td><td>0.97353</td></tr></table><br/></div></div>"
            ],
            "text/plain": [
              "<IPython.core.display.HTML object>"
            ]
          },
          "metadata": {},
          "output_type": "display_data"
        },
        {
          "data": {
            "text/html": [
              "Synced <strong style=\"color:#cdcd00\">twilight-sweep-1</strong>: <a href=\"https://wandb.ai/safi-vamsi-cs6910/Assignment%202/runs/kdat1bys\" target=\"_blank\">https://wandb.ai/safi-vamsi-cs6910/Assignment%202/runs/kdat1bys</a><br/>Synced 5 W&B file(s), 1 media file(s), 0 artifact file(s) and 1 other file(s)"
            ],
            "text/plain": [
              "<IPython.core.display.HTML object>"
            ]
          },
          "metadata": {},
          "output_type": "display_data"
        },
        {
          "data": {
            "text/html": [
              "Find logs at: <code>./wandb/run-20220330_024011-kdat1bys/logs</code>"
            ],
            "text/plain": [
              "<IPython.core.display.HTML object>"
            ]
          },
          "metadata": {},
          "output_type": "display_data"
        },
        {
          "metadata": {
            "tags": null
          },
          "name": "stderr",
          "output_type": "stream",
          "text": [
            "\u001b[34m\u001b[1mwandb\u001b[0m: Agent Starting Run: 4vxxx6om with config:\n",
            "\u001b[34m\u001b[1mwandb\u001b[0m: \tbatch_size: 128\n",
            "\u001b[34m\u001b[1mwandb\u001b[0m: \tdata_augmentation: True\n",
            "\u001b[34m\u001b[1mwandb\u001b[0m: \tdense_layer: 512\n",
            "\u001b[34m\u001b[1mwandb\u001b[0m: \tdropout: 0\n",
            "\u001b[34m\u001b[1mwandb\u001b[0m: \tmodel_name: InceptionResNetV2\n",
            "\u001b[34m\u001b[1mwandb\u001b[0m: \tnum_epochs: 10\n",
            "\u001b[34m\u001b[1mwandb\u001b[0m: \ttrainable_layers: 20\n"
          ]
        },
        {
          "data": {
            "text/html": [
              "Tracking run with wandb version 0.12.11"
            ],
            "text/plain": [
              "<IPython.core.display.HTML object>"
            ]
          },
          "metadata": {},
          "output_type": "display_data"
        },
        {
          "data": {
            "text/html": [
              "Run data is saved locally in <code>/content/wandb/run-20220330_034402-4vxxx6om</code>"
            ],
            "text/plain": [
              "<IPython.core.display.HTML object>"
            ]
          },
          "metadata": {},
          "output_type": "display_data"
        },
        {
          "data": {
            "text/html": [
              "Syncing run <strong><a href=\"https://wandb.ai/safi-vamsi-cs6910/Assignment%202/runs/4vxxx6om\" target=\"_blank\">ruby-sweep-2</a></strong> to <a href=\"https://wandb.ai/safi-vamsi-cs6910/Assignment%202\" target=\"_blank\">Weights & Biases</a> (<a href=\"https://wandb.me/run\" target=\"_blank\">docs</a>)<br/>Sweep page:  <a href=\"https://wandb.ai/safi-vamsi-cs6910/Assignment%202/sweeps/rrfukwss\" target=\"_blank\">https://wandb.ai/safi-vamsi-cs6910/Assignment%202/sweeps/rrfukwss</a>"
            ],
            "text/plain": [
              "<IPython.core.display.HTML object>"
            ]
          },
          "metadata": {},
          "output_type": "display_data"
        },
        {
          "metadata": {
            "tags": null
          },
          "name": "stdout",
          "output_type": "stream",
          "text": [
            "Found 9000 images belonging to 10 classes.\n",
            "Found 999 images belonging to 10 classes.\n",
            "Epoch 1/10\n",
            "282/282 [==============================] - 277s 944ms/step - loss: 0.9796 - acc: 0.7068 - val_loss: 0.6717 - val_acc: 0.7748 - _timestamp: 1648612135.0000 - _runtime: 293.0000\n",
            "Epoch 2/10\n",
            "282/282 [==============================] - 272s 965ms/step - loss: 0.6887 - acc: 0.7763 - val_loss: 0.5657 - val_acc: 0.8138 - _timestamp: 1648612407.0000 - _runtime: 565.0000\n",
            "Epoch 3/10\n",
            "282/282 [==============================] - 259s 918ms/step - loss: 0.5880 - acc: 0.8051 - val_loss: 0.6798 - val_acc: 0.7918 - _timestamp: 1648612719.0000 - _runtime: 877.0000\n",
            "Epoch 4/10\n",
            "282/282 [==============================] - 255s 903ms/step - loss: 0.5220 - acc: 0.8231 - val_loss: 0.6070 - val_acc: 0.8028 - _timestamp: 1648612973.0000 - _runtime: 1131.0000\n",
            "Epoch 5/10\n",
            "282/282 [==============================] - 254s 901ms/step - loss: 0.4727 - acc: 0.8406 - val_loss: 0.6402 - val_acc: 0.8028 - _timestamp: 1648613227.0000 - _runtime: 1385.0000\n",
            "Epoch 6/10\n",
            "282/282 [==============================] - 254s 899ms/step - loss: 0.4208 - acc: 0.8576 - val_loss: 0.7006 - val_acc: 0.8028 - _timestamp: 1648613481.0000 - _runtime: 1639.0000\n",
            "Epoch 7/10\n",
            "282/282 [==============================] - 253s 897ms/step - loss: 0.3823 - acc: 0.8669 - val_loss: 0.6921 - val_acc: 0.8088 - _timestamp: 1648613734.0000 - _runtime: 1892.0000\n",
            "Epoch 8/10\n",
            "282/282 [==============================] - 253s 897ms/step - loss: 0.3427 - acc: 0.8850 - val_loss: 0.6697 - val_acc: 0.8278 - _timestamp: 1648613987.0000 - _runtime: 2145.0000\n",
            "Epoch 9/10\n",
            "282/282 [==============================] - 253s 898ms/step - loss: 0.3076 - acc: 0.8918 - val_loss: 0.7608 - val_acc: 0.8158 - _timestamp: 1648614240.0000 - _runtime: 2398.0000\n",
            "Epoch 10/10\n",
            "282/282 [==============================] - 252s 895ms/step - loss: 0.2879 - acc: 0.9017 - val_loss: 0.7469 - val_acc: 0.8058 - _timestamp: 1648614493.0000 - _runtime: 2651.0000\n",
            "\n"
          ]
        },
        {
          "data": {
            "text/html": [
              "Waiting for W&B process to finish... <strong style=\"color:green\">(success).</strong>"
            ],
            "text/plain": [
              "<IPython.core.display.HTML object>"
            ]
          },
          "metadata": {},
          "output_type": "display_data"
        },
        {
          "data": {
            "application/vnd.jupyter.widget-view+json": {
              "model_id": "d4b792d5ebd2435fbf348edef3648fbf",
              "version_major": 2,
              "version_minor": 0
            },
            "text/plain": [
              "VBox(children=(Label(value='108.398 MB of 108.398 MB uploaded (0.000 MB deduped)\\r'), FloatProgress(value=1.0,…"
            ]
          },
          "metadata": {},
          "output_type": "display_data"
        },
        {
          "data": {
            "text/html": [
              "<style>\n",
              "    table.wandb td:nth-child(1) { padding: 0 10px; text-align: right }\n",
              "    .wandb-row { display: flex; flex-direction: row; flex-wrap: wrap; width: 100% }\n",
              "    .wandb-col { display: flex; flex-direction: column; flex-basis: 100%; flex: 1; padding: 10px; }\n",
              "    </style>\n",
              "<div class=\"wandb-row\"><div class=\"wandb-col\"><h3>Run history:</h3><br/><table class=\"wandb\"><tr><td>acc</td><td>▁▃▅▅▆▆▇▇██</td></tr><tr><td>epoch</td><td>▁▂▃▃▄▅▆▆▇█</td></tr><tr><td>loss</td><td>█▅▄▃▃▂▂▂▁▁</td></tr><tr><td>val_acc</td><td>▁▆▃▅▅▅▅█▆▅</td></tr><tr><td>val_loss</td><td>▅▁▅▂▄▆▆▅█▇</td></tr></table><br/></div><div class=\"wandb-col\"><h3>Run summary:</h3><br/><table class=\"wandb\"><tr><td>acc</td><td>0.90167</td></tr><tr><td>best_epoch</td><td>1</td></tr><tr><td>best_val_loss</td><td>0.56573</td></tr><tr><td>epoch</td><td>9</td></tr><tr><td>loss</td><td>0.28794</td></tr><tr><td>val_acc</td><td>0.80581</td></tr><tr><td>val_loss</td><td>0.74687</td></tr></table><br/></div></div>"
            ],
            "text/plain": [
              "<IPython.core.display.HTML object>"
            ]
          },
          "metadata": {},
          "output_type": "display_data"
        },
        {
          "data": {
            "text/html": [
              "Synced <strong style=\"color:#cdcd00\">ruby-sweep-2</strong>: <a href=\"https://wandb.ai/safi-vamsi-cs6910/Assignment%202/runs/4vxxx6om\" target=\"_blank\">https://wandb.ai/safi-vamsi-cs6910/Assignment%202/runs/4vxxx6om</a><br/>Synced 5 W&B file(s), 1 media file(s), 0 artifact file(s) and 1 other file(s)"
            ],
            "text/plain": [
              "<IPython.core.display.HTML object>"
            ]
          },
          "metadata": {},
          "output_type": "display_data"
        },
        {
          "data": {
            "text/html": [
              "Find logs at: <code>./wandb/run-20220330_034402-4vxxx6om/logs</code>"
            ],
            "text/plain": [
              "<IPython.core.display.HTML object>"
            ]
          },
          "metadata": {},
          "output_type": "display_data"
        },
        {
          "metadata": {
            "tags": null
          },
          "name": "stderr",
          "output_type": "stream",
          "text": [
            "\u001b[34m\u001b[1mwandb\u001b[0m: Agent Starting Run: wbi415cy with config:\n",
            "\u001b[34m\u001b[1mwandb\u001b[0m: \tbatch_size: 128\n",
            "\u001b[34m\u001b[1mwandb\u001b[0m: \tdata_augmentation: True\n",
            "\u001b[34m\u001b[1mwandb\u001b[0m: \tdense_layer: 512\n",
            "\u001b[34m\u001b[1mwandb\u001b[0m: \tdropout: 0.2\n",
            "\u001b[34m\u001b[1mwandb\u001b[0m: \tmodel_name: ResNet50\n",
            "\u001b[34m\u001b[1mwandb\u001b[0m: \tnum_epochs: 10\n",
            "\u001b[34m\u001b[1mwandb\u001b[0m: \ttrainable_layers: 0\n"
          ]
        },
        {
          "data": {
            "text/html": [
              "Tracking run with wandb version 0.12.11"
            ],
            "text/plain": [
              "<IPython.core.display.HTML object>"
            ]
          },
          "metadata": {},
          "output_type": "display_data"
        },
        {
          "data": {
            "text/html": [
              "Run data is saved locally in <code>/content/wandb/run-20220330_042831-wbi415cy</code>"
            ],
            "text/plain": [
              "<IPython.core.display.HTML object>"
            ]
          },
          "metadata": {},
          "output_type": "display_data"
        },
        {
          "data": {
            "text/html": [
              "Syncing run <strong><a href=\"https://wandb.ai/safi-vamsi-cs6910/Assignment%202/runs/wbi415cy\" target=\"_blank\">misunderstood-sweep-3</a></strong> to <a href=\"https://wandb.ai/safi-vamsi-cs6910/Assignment%202\" target=\"_blank\">Weights & Biases</a> (<a href=\"https://wandb.me/run\" target=\"_blank\">docs</a>)<br/>Sweep page:  <a href=\"https://wandb.ai/safi-vamsi-cs6910/Assignment%202/sweeps/rrfukwss\" target=\"_blank\">https://wandb.ai/safi-vamsi-cs6910/Assignment%202/sweeps/rrfukwss</a>"
            ],
            "text/plain": [
              "<IPython.core.display.HTML object>"
            ]
          },
          "metadata": {},
          "output_type": "display_data"
        },
        {
          "metadata": {
            "tags": null
          },
          "name": "stdout",
          "output_type": "stream",
          "text": [
            "Found 9000 images belonging to 10 classes.\n",
            "Found 999 images belonging to 10 classes.\n",
            "Epoch 1/10\n",
            "282/282 [==============================] - 257s 897ms/step - loss: 2.4630 - acc: 0.1070 - val_loss: 2.3126 - val_acc: 0.1001 - _timestamp: 1648614779.0000 - _runtime: 268.0000\n",
            "Epoch 2/10\n",
            "282/282 [==============================] - 258s 915ms/step - loss: 2.3040 - acc: 0.0949 - val_loss: 2.3004 - val_acc: 0.1031 - _timestamp: 1648615037.0000 - _runtime: 526.0000\n",
            "Epoch 3/10\n",
            "282/282 [==============================] - 254s 902ms/step - loss: 2.3023 - acc: 0.0926 - val_loss: 2.3030 - val_acc: 0.1061 - _timestamp: 1648615295.0000 - _runtime: 784.0000\n",
            "Epoch 4/10\n",
            "282/282 [==============================] - 248s 880ms/step - loss: 2.3017 - acc: 0.0970 - val_loss: 2.3018 - val_acc: 0.0991 - _timestamp: 1648615543.0000 - _runtime: 1032.0000\n",
            "Epoch 5/10\n",
            "282/282 [==============================] - 248s 881ms/step - loss: 2.3023 - acc: 0.0931 - val_loss: 2.3016 - val_acc: 0.1001 - _timestamp: 1648615792.0000 - _runtime: 1281.0000\n",
            "Epoch 6/10\n",
            "282/282 [==============================] - 249s 881ms/step - loss: 2.3033 - acc: 0.0997 - val_loss: 2.3012 - val_acc: 0.1021 - _timestamp: 1648616040.0000 - _runtime: 1529.0000\n",
            "Epoch 7/10\n",
            "282/282 [==============================] - 255s 904ms/step - loss: 2.3020 - acc: 0.0966 - val_loss: 2.2987 - val_acc: 0.1071 - _timestamp: 1648616288.0000 - _runtime: 1777.0000\n",
            "Epoch 8/10\n",
            "282/282 [==============================] - 253s 895ms/step - loss: 2.3023 - acc: 0.0988 - val_loss: 2.2989 - val_acc: 0.1051 - _timestamp: 1648616548.0000 - _runtime: 2037.0000\n",
            "Epoch 9/10\n",
            "282/282 [==============================] - 248s 881ms/step - loss: 2.3023 - acc: 0.0964 - val_loss: 2.3013 - val_acc: 0.1081 - _timestamp: 1648616796.0000 - _runtime: 2285.0000\n",
            "Epoch 10/10\n",
            "282/282 [==============================] - 248s 879ms/step - loss: 2.3025 - acc: 0.0966 - val_loss: 2.3019 - val_acc: 0.1051 - _timestamp: 1648617044.0000 - _runtime: 2533.0000\n",
            "\n"
          ]
        },
        {
          "data": {
            "text/html": [
              "Waiting for W&B process to finish... <strong style=\"color:green\">(success).</strong>"
            ],
            "text/plain": [
              "<IPython.core.display.HTML object>"
            ]
          },
          "metadata": {},
          "output_type": "display_data"
        },
        {
          "data": {
            "application/vnd.jupyter.widget-view+json": {
              "model_id": "1dfa24d34e664de294d35ebd515a4d49",
              "version_major": 2,
              "version_minor": 0
            },
            "text/plain": [
              "VBox(children=(Label(value='858.373 MB of 858.373 MB uploaded (0.000 MB deduped)\\r'), FloatProgress(value=1.0,…"
            ]
          },
          "metadata": {},
          "output_type": "display_data"
        },
        {
          "data": {
            "text/html": [
              "<style>\n",
              "    table.wandb td:nth-child(1) { padding: 0 10px; text-align: right }\n",
              "    .wandb-row { display: flex; flex-direction: row; flex-wrap: wrap; width: 100% }\n",
              "    .wandb-col { display: flex; flex-direction: column; flex-basis: 100%; flex: 1; padding: 10px; }\n",
              "    </style>\n",
              "<div class=\"wandb-row\"><div class=\"wandb-col\"><h3>Run history:</h3><br/><table class=\"wandb\"><tr><td>acc</td><td>█▂▁▃▁▄▃▄▃▃</td></tr><tr><td>epoch</td><td>▁▂▃▃▄▅▆▆▇█</td></tr><tr><td>loss</td><td>█▁▁▁▁▁▁▁▁▁</td></tr><tr><td>val_acc</td><td>▂▄▆▁▂▃▇▆█▆</td></tr><tr><td>val_loss</td><td>█▂▃▃▂▂▁▁▂▃</td></tr></table><br/></div><div class=\"wandb-col\"><h3>Run summary:</h3><br/><table class=\"wandb\"><tr><td>acc</td><td>0.09656</td></tr><tr><td>best_epoch</td><td>6</td></tr><tr><td>best_val_loss</td><td>2.29871</td></tr><tr><td>epoch</td><td>9</td></tr><tr><td>loss</td><td>2.30253</td></tr><tr><td>val_acc</td><td>0.10511</td></tr><tr><td>val_loss</td><td>2.3019</td></tr></table><br/></div></div>"
            ],
            "text/plain": [
              "<IPython.core.display.HTML object>"
            ]
          },
          "metadata": {},
          "output_type": "display_data"
        },
        {
          "data": {
            "text/html": [
              "Synced <strong style=\"color:#cdcd00\">misunderstood-sweep-3</strong>: <a href=\"https://wandb.ai/safi-vamsi-cs6910/Assignment%202/runs/wbi415cy\" target=\"_blank\">https://wandb.ai/safi-vamsi-cs6910/Assignment%202/runs/wbi415cy</a><br/>Synced 5 W&B file(s), 1 media file(s), 0 artifact file(s) and 1 other file(s)"
            ],
            "text/plain": [
              "<IPython.core.display.HTML object>"
            ]
          },
          "metadata": {},
          "output_type": "display_data"
        },
        {
          "data": {
            "text/html": [
              "Find logs at: <code>./wandb/run-20220330_042831-wbi415cy/logs</code>"
            ],
            "text/plain": [
              "<IPython.core.display.HTML object>"
            ]
          },
          "metadata": {},
          "output_type": "display_data"
        },
        {
          "metadata": {
            "tags": null
          },
          "name": "stderr",
          "output_type": "stream",
          "text": [
            "\u001b[34m\u001b[1mwandb\u001b[0m: Sweep Agent: Waiting for job.\n",
            "\u001b[34m\u001b[1mwandb\u001b[0m: Job received.\n",
            "\u001b[34m\u001b[1mwandb\u001b[0m: Agent Starting Run: jle9kta6 with config:\n",
            "\u001b[34m\u001b[1mwandb\u001b[0m: \tbatch_size: 128\n",
            "\u001b[34m\u001b[1mwandb\u001b[0m: \tdata_augmentation: False\n",
            "\u001b[34m\u001b[1mwandb\u001b[0m: \tdense_layer: 512\n",
            "\u001b[34m\u001b[1mwandb\u001b[0m: \tdropout: 0.2\n",
            "\u001b[34m\u001b[1mwandb\u001b[0m: \tmodel_name: InceptionResNetV2\n",
            "\u001b[34m\u001b[1mwandb\u001b[0m: \tnum_epochs: 10\n",
            "\u001b[34m\u001b[1mwandb\u001b[0m: \ttrainable_layers: 20\n"
          ]
        },
        {
          "data": {
            "text/html": [
              "Tracking run with wandb version 0.12.11"
            ],
            "text/plain": [
              "<IPython.core.display.HTML object>"
            ]
          },
          "metadata": {},
          "output_type": "display_data"
        },
        {
          "data": {
            "text/html": [
              "Run data is saved locally in <code>/content/wandb/run-20220330_051129-jle9kta6</code>"
            ],
            "text/plain": [
              "<IPython.core.display.HTML object>"
            ]
          },
          "metadata": {},
          "output_type": "display_data"
        },
        {
          "data": {
            "text/html": [
              "Syncing run <strong><a href=\"https://wandb.ai/safi-vamsi-cs6910/Assignment%202/runs/jle9kta6\" target=\"_blank\">soft-sweep-4</a></strong> to <a href=\"https://wandb.ai/safi-vamsi-cs6910/Assignment%202\" target=\"_blank\">Weights & Biases</a> (<a href=\"https://wandb.me/run\" target=\"_blank\">docs</a>)<br/>Sweep page:  <a href=\"https://wandb.ai/safi-vamsi-cs6910/Assignment%202/sweeps/rrfukwss\" target=\"_blank\">https://wandb.ai/safi-vamsi-cs6910/Assignment%202/sweeps/rrfukwss</a>"
            ],
            "text/plain": [
              "<IPython.core.display.HTML object>"
            ]
          },
          "metadata": {},
          "output_type": "display_data"
        },
        {
          "metadata": {
            "tags": null
          },
          "name": "stdout",
          "output_type": "stream",
          "text": [
            "Found 9000 images belonging to 10 classes.\n",
            "Found 999 images belonging to 10 classes.\n",
            "Epoch 1/10\n",
            "282/282 [==============================] - 169s 562ms/step - loss: 0.8910 - acc: 0.7361 - val_loss: 0.6545 - val_acc: 0.7928 - _timestamp: 1648617276.0000 - _runtime: 187.0000\n",
            "Epoch 2/10\n",
            "282/282 [==============================] - 161s 572ms/step - loss: 0.3997 - acc: 0.8682 - val_loss: 0.6646 - val_acc: 0.7998 - _timestamp: 1648617440.0000 - _runtime: 351.0000\n",
            "Epoch 3/10\n",
            "282/282 [==============================] - 144s 511ms/step - loss: 0.1832 - acc: 0.9373 - val_loss: 0.7298 - val_acc: 0.8088 - _timestamp: 1648617585.0000 - _runtime: 496.0000\n",
            "Epoch 4/10\n",
            "282/282 [==============================] - 145s 513ms/step - loss: 0.0873 - acc: 0.9726 - val_loss: 0.7594 - val_acc: 0.8058 - _timestamp: 1648617729.0000 - _runtime: 640.0000\n",
            "Epoch 5/10\n",
            "282/282 [==============================] - 144s 512ms/step - loss: 0.0481 - acc: 0.9860 - val_loss: 0.8641 - val_acc: 0.8128 - _timestamp: 1648617874.0000 - _runtime: 785.0000\n",
            "Epoch 6/10\n",
            "282/282 [==============================] - 143s 507ms/step - loss: 0.0312 - acc: 0.9903 - val_loss: 0.9283 - val_acc: 0.8208 - _timestamp: 1648618017.0000 - _runtime: 928.0000\n",
            "Epoch 7/10\n",
            "282/282 [==============================] - 143s 508ms/step - loss: 0.0296 - acc: 0.9903 - val_loss: 0.9616 - val_acc: 0.8138 - _timestamp: 1648618160.0000 - _runtime: 1071.0000\n",
            "Epoch 8/10\n",
            "282/282 [==============================] - 143s 508ms/step - loss: 0.0238 - acc: 0.9924 - val_loss: 1.0777 - val_acc: 0.8018 - _timestamp: 1648618303.0000 - _runtime: 1214.0000\n",
            "Epoch 9/10\n",
            "282/282 [==============================] - 144s 509ms/step - loss: 0.0229 - acc: 0.9937 - val_loss: 1.0394 - val_acc: 0.8148 - _timestamp: 1648618447.0000 - _runtime: 1358.0000\n",
            "Epoch 10/10\n",
            "282/282 [==============================] - 143s 507ms/step - loss: 0.0573 - acc: 0.9820 - val_loss: 1.1439 - val_acc: 0.7978 - _timestamp: 1648618648.0000 - _runtime: 1559.0000\n",
            "\n"
          ]
        },
        {
          "data": {
            "text/html": [
              "Waiting for W&B process to finish... <strong style=\"color:green\">(success).</strong>"
            ],
            "text/plain": [
              "<IPython.core.display.HTML object>"
            ]
          },
          "metadata": {},
          "output_type": "display_data"
        },
        {
          "data": {
            "application/vnd.jupyter.widget-view+json": {
              "model_id": "e6fec7d5c4c04a8381344f001f30697a",
              "version_major": 2,
              "version_minor": 0
            },
            "text/plain": [
              "VBox(children=(Label(value='131.479 MB of 131.479 MB uploaded (0.000 MB deduped)\\r'), FloatProgress(value=1.0,…"
            ]
          },
          "metadata": {},
          "output_type": "display_data"
        },
        {
          "data": {
            "text/html": [
              "<style>\n",
              "    table.wandb td:nth-child(1) { padding: 0 10px; text-align: right }\n",
              "    .wandb-row { display: flex; flex-direction: row; flex-wrap: wrap; width: 100% }\n",
              "    .wandb-col { display: flex; flex-direction: column; flex-basis: 100%; flex: 1; padding: 10px; }\n",
              "    </style>\n",
              "<div class=\"wandb-row\"><div class=\"wandb-col\"><h3>Run history:</h3><br/><table class=\"wandb\"><tr><td>acc</td><td>▁▅▆▇██████</td></tr><tr><td>epoch</td><td>▁▂▃▃▄▅▆▆▇█</td></tr><tr><td>loss</td><td>█▄▂▂▁▁▁▁▁▁</td></tr><tr><td>val_acc</td><td>▁▃▅▄▆█▆▃▇▂</td></tr><tr><td>val_loss</td><td>▁▁▂▃▄▅▅▇▇█</td></tr></table><br/></div><div class=\"wandb-col\"><h3>Run summary:</h3><br/><table class=\"wandb\"><tr><td>acc</td><td>0.982</td></tr><tr><td>best_epoch</td><td>0</td></tr><tr><td>best_val_loss</td><td>0.65455</td></tr><tr><td>epoch</td><td>9</td></tr><tr><td>loss</td><td>0.05733</td></tr><tr><td>val_acc</td><td>0.7978</td></tr><tr><td>val_loss</td><td>1.14388</td></tr></table><br/></div></div>"
            ],
            "text/plain": [
              "<IPython.core.display.HTML object>"
            ]
          },
          "metadata": {},
          "output_type": "display_data"
        },
        {
          "data": {
            "text/html": [
              "Synced <strong style=\"color:#cdcd00\">soft-sweep-4</strong>: <a href=\"https://wandb.ai/safi-vamsi-cs6910/Assignment%202/runs/jle9kta6\" target=\"_blank\">https://wandb.ai/safi-vamsi-cs6910/Assignment%202/runs/jle9kta6</a><br/>Synced 5 W&B file(s), 1 media file(s), 0 artifact file(s) and 1 other file(s)"
            ],
            "text/plain": [
              "<IPython.core.display.HTML object>"
            ]
          },
          "metadata": {},
          "output_type": "display_data"
        },
        {
          "data": {
            "text/html": [
              "Find logs at: <code>./wandb/run-20220330_051129-jle9kta6/logs</code>"
            ],
            "text/plain": [
              "<IPython.core.display.HTML object>"
            ]
          },
          "metadata": {},
          "output_type": "display_data"
        },
        {
          "metadata": {
            "tags": null
          },
          "name": "stderr",
          "output_type": "stream",
          "text": [
            "\u001b[34m\u001b[1mwandb\u001b[0m: Agent Starting Run: es2xgg77 with config:\n",
            "\u001b[34m\u001b[1mwandb\u001b[0m: \tbatch_size: 128\n",
            "\u001b[34m\u001b[1mwandb\u001b[0m: \tdata_augmentation: False\n",
            "\u001b[34m\u001b[1mwandb\u001b[0m: \tdense_layer: 512\n",
            "\u001b[34m\u001b[1mwandb\u001b[0m: \tdropout: 0.3\n",
            "\u001b[34m\u001b[1mwandb\u001b[0m: \tmodel_name: Xception\n",
            "\u001b[34m\u001b[1mwandb\u001b[0m: \tnum_epochs: 15\n",
            "\u001b[34m\u001b[1mwandb\u001b[0m: \ttrainable_layers: 15\n"
          ]
        },
        {
          "data": {
            "text/html": [
              "Tracking run with wandb version 0.12.11"
            ],
            "text/plain": [
              "<IPython.core.display.HTML object>"
            ]
          },
          "metadata": {},
          "output_type": "display_data"
        },
        {
          "data": {
            "text/html": [
              "Run data is saved locally in <code>/content/wandb/run-20220330_053849-es2xgg77</code>"
            ],
            "text/plain": [
              "<IPython.core.display.HTML object>"
            ]
          },
          "metadata": {},
          "output_type": "display_data"
        },
        {
          "data": {
            "text/html": [
              "Syncing run <strong><a href=\"https://wandb.ai/safi-vamsi-cs6910/Assignment%202/runs/es2xgg77\" target=\"_blank\">morning-sweep-5</a></strong> to <a href=\"https://wandb.ai/safi-vamsi-cs6910/Assignment%202\" target=\"_blank\">Weights & Biases</a> (<a href=\"https://wandb.me/run\" target=\"_blank\">docs</a>)<br/>Sweep page:  <a href=\"https://wandb.ai/safi-vamsi-cs6910/Assignment%202/sweeps/rrfukwss\" target=\"_blank\">https://wandb.ai/safi-vamsi-cs6910/Assignment%202/sweeps/rrfukwss</a>"
            ],
            "text/plain": [
              "<IPython.core.display.HTML object>"
            ]
          },
          "metadata": {},
          "output_type": "display_data"
        },
        {
          "metadata": {
            "tags": null
          },
          "name": "stdout",
          "output_type": "stream",
          "text": [
            "Found 9000 images belonging to 10 classes.\n",
            "Found 999 images belonging to 10 classes.\n",
            "Epoch 1/15\n",
            "282/282 [==============================] - 153s 529ms/step - loss: 0.9485 - acc: 0.7044 - val_loss: 0.6831 - val_acc: 0.7888 - _timestamp: 1648618892.0000 - _runtime: 163.0000\n",
            "Epoch 2/15\n",
            "282/282 [==============================] - 157s 557ms/step - loss: 0.4632 - acc: 0.8494 - val_loss: 0.6638 - val_acc: 0.7868 - _timestamp: 1648619101.0000 - _runtime: 372.0000\n",
            "Epoch 3/15\n",
            "282/282 [==============================] - 153s 544ms/step - loss: 0.1964 - acc: 0.9377 - val_loss: 0.8244 - val_acc: 0.7778 - _timestamp: 1648619259.0000 - _runtime: 530.0000\n",
            "Epoch 4/15\n",
            "282/282 [==============================] - 142s 502ms/step - loss: 0.1037 - acc: 0.9672 - val_loss: 0.9543 - val_acc: 0.7768 - _timestamp: 1648619400.0000 - _runtime: 671.0000\n",
            "Epoch 5/15\n",
            "282/282 [==============================] - 141s 500ms/step - loss: 0.0670 - acc: 0.9791 - val_loss: 1.0025 - val_acc: 0.7898 - _timestamp: 1648619541.0000 - _runtime: 812.0000\n",
            "Epoch 6/15\n",
            "282/282 [==============================] - 141s 499ms/step - loss: 0.0426 - acc: 0.9876 - val_loss: 1.0324 - val_acc: 0.7998 - _timestamp: 1648619682.0000 - _runtime: 953.0000\n",
            "Epoch 7/15\n",
            "282/282 [==============================] - 140s 498ms/step - loss: 0.0334 - acc: 0.9901 - val_loss: 1.1213 - val_acc: 0.7968 - _timestamp: 1648619823.0000 - _runtime: 1094.0000\n",
            "Epoch 8/15\n",
            "282/282 [==============================] - 141s 502ms/step - loss: 0.0269 - acc: 0.9920 - val_loss: 1.2187 - val_acc: 0.7958 - _timestamp: 1648619964.0000 - _runtime: 1235.0000\n",
            "Epoch 9/15\n",
            "282/282 [==============================] - 141s 500ms/step - loss: 0.0341 - acc: 0.9907 - val_loss: 1.1846 - val_acc: 0.7898 - _timestamp: 1648620105.0000 - _runtime: 1376.0000\n",
            "Epoch 10/15\n",
            "282/282 [==============================] - 141s 500ms/step - loss: 0.0245 - acc: 0.9924 - val_loss: 1.3931 - val_acc: 0.7768 - _timestamp: 1648620246.0000 - _runtime: 1517.0000\n",
            "Epoch 11/15\n",
            "282/282 [==============================] - 141s 498ms/step - loss: 0.0260 - acc: 0.9920 - val_loss: 1.2131 - val_acc: 0.7978 - _timestamp: 1648620387.0000 - _runtime: 1658.0000\n",
            "Epoch 12/15\n",
            "282/282 [==============================] - 141s 500ms/step - loss: 0.0234 - acc: 0.9923 - val_loss: 1.2517 - val_acc: 0.7958 - _timestamp: 1648620528.0000 - _runtime: 1799.0000\n",
            "Epoch 13/15\n",
            "282/282 [==============================] - 141s 498ms/step - loss: 0.0152 - acc: 0.9951 - val_loss: 1.3782 - val_acc: 0.7918 - _timestamp: 1648620669.0000 - _runtime: 1940.0000\n",
            "Epoch 14/15\n",
            "282/282 [==============================] - 141s 499ms/step - loss: 0.0164 - acc: 0.9940 - val_loss: 1.4671 - val_acc: 0.7848 - _timestamp: 1648620809.0000 - _runtime: 2080.0000\n",
            "Epoch 15/15\n",
            "282/282 [==============================] - 141s 498ms/step - loss: 0.0223 - acc: 0.9929 - val_loss: 1.3164 - val_acc: 0.7878 - _timestamp: 1648620950.0000 - _runtime: 2221.0000\n",
            "\n"
          ]
        },
        {
          "data": {
            "text/html": [
              "Waiting for W&B process to finish... <strong style=\"color:green\">(success).</strong>"
            ],
            "text/plain": [
              "<IPython.core.display.HTML object>"
            ]
          },
          "metadata": {},
          "output_type": "display_data"
        },
        {
          "data": {
            "application/vnd.jupyter.widget-view+json": {
              "model_id": "e2e4fd08a58f4c169d4404bc67ec7908",
              "version_major": 2,
              "version_minor": 0
            },
            "text/plain": [
              "VBox(children=(Label(value='0.002 MB of 0.002 MB uploaded (0.000 MB deduped)\\r'), FloatProgress(value=1.0, max…"
            ]
          },
          "metadata": {},
          "output_type": "display_data"
        },
        {
          "data": {
            "text/html": [
              "<style>\n",
              "    table.wandb td:nth-child(1) { padding: 0 10px; text-align: right }\n",
              "    .wandb-row { display: flex; flex-direction: row; flex-wrap: wrap; width: 100% }\n",
              "    .wandb-col { display: flex; flex-direction: column; flex-basis: 100%; flex: 1; padding: 10px; }\n",
              "    </style>\n",
              "<div class=\"wandb-row\"><div class=\"wandb-col\"><h3>Run history:</h3><br/><table class=\"wandb\"><tr><td>acc</td><td>▁▄▇▇███████████</td></tr><tr><td>epoch</td><td>▁▁▂▃▃▃▄▅▅▅▆▇▇▇█</td></tr><tr><td>loss</td><td>█▄▂▂▁▁▁▁▁▁▁▁▁▁▁</td></tr><tr><td>val_acc</td><td>▅▄▁▁▅█▇▇▅▁▇▇▆▃▄</td></tr><tr><td>val_loss</td><td>▁▁▂▄▄▄▅▆▆▇▆▆▇█▇</td></tr></table><br/></div><div class=\"wandb-col\"><h3>Run summary:</h3><br/><table class=\"wandb\"><tr><td>acc</td><td>0.99289</td></tr><tr><td>best_epoch</td><td>1</td></tr><tr><td>best_val_loss</td><td>0.66376</td></tr><tr><td>epoch</td><td>14</td></tr><tr><td>loss</td><td>0.02231</td></tr><tr><td>val_acc</td><td>0.78779</td></tr><tr><td>val_loss</td><td>1.31637</td></tr></table><br/></div></div>"
            ],
            "text/plain": [
              "<IPython.core.display.HTML object>"
            ]
          },
          "metadata": {},
          "output_type": "display_data"
        },
        {
          "data": {
            "text/html": [
              "Synced <strong style=\"color:#cdcd00\">morning-sweep-5</strong>: <a href=\"https://wandb.ai/safi-vamsi-cs6910/Assignment%202/runs/es2xgg77\" target=\"_blank\">https://wandb.ai/safi-vamsi-cs6910/Assignment%202/runs/es2xgg77</a><br/>Synced 5 W&B file(s), 1 media file(s), 0 artifact file(s) and 1 other file(s)"
            ],
            "text/plain": [
              "<IPython.core.display.HTML object>"
            ]
          },
          "metadata": {},
          "output_type": "display_data"
        },
        {
          "data": {
            "text/html": [
              "Find logs at: <code>./wandb/run-20220330_053849-es2xgg77/logs</code>"
            ],
            "text/plain": [
              "<IPython.core.display.HTML object>"
            ]
          },
          "metadata": {},
          "output_type": "display_data"
        },
        {
          "metadata": {
            "tags": null
          },
          "name": "stderr",
          "output_type": "stream",
          "text": [
            "\u001b[34m\u001b[1mwandb\u001b[0m: Agent Starting Run: 8g64c1ol with config:\n",
            "\u001b[34m\u001b[1mwandb\u001b[0m: \tbatch_size: 128\n",
            "\u001b[34m\u001b[1mwandb\u001b[0m: \tdata_augmentation: False\n",
            "\u001b[34m\u001b[1mwandb\u001b[0m: \tdense_layer: 512\n",
            "\u001b[34m\u001b[1mwandb\u001b[0m: \tdropout: 0.1\n",
            "\u001b[34m\u001b[1mwandb\u001b[0m: \tmodel_name: Xception\n",
            "\u001b[34m\u001b[1mwandb\u001b[0m: \tnum_epochs: 15\n",
            "\u001b[34m\u001b[1mwandb\u001b[0m: \ttrainable_layers: 20\n"
          ]
        },
        {
          "data": {
            "text/html": [
              "Tracking run with wandb version 0.12.11"
            ],
            "text/plain": [
              "<IPython.core.display.HTML object>"
            ]
          },
          "metadata": {},
          "output_type": "display_data"
        },
        {
          "data": {
            "text/html": [
              "Run data is saved locally in <code>/content/wandb/run-20220330_061623-8g64c1ol</code>"
            ],
            "text/plain": [
              "<IPython.core.display.HTML object>"
            ]
          },
          "metadata": {},
          "output_type": "display_data"
        },
        {
          "data": {
            "text/html": [
              "Syncing run <strong><a href=\"https://wandb.ai/safi-vamsi-cs6910/Assignment%202/runs/8g64c1ol\" target=\"_blank\">wobbly-sweep-6</a></strong> to <a href=\"https://wandb.ai/safi-vamsi-cs6910/Assignment%202\" target=\"_blank\">Weights & Biases</a> (<a href=\"https://wandb.me/run\" target=\"_blank\">docs</a>)<br/>Sweep page:  <a href=\"https://wandb.ai/safi-vamsi-cs6910/Assignment%202/sweeps/rrfukwss\" target=\"_blank\">https://wandb.ai/safi-vamsi-cs6910/Assignment%202/sweeps/rrfukwss</a>"
            ],
            "text/plain": [
              "<IPython.core.display.HTML object>"
            ]
          },
          "metadata": {},
          "output_type": "display_data"
        },
        {
          "metadata": {
            "tags": null
          },
          "name": "stdout",
          "output_type": "stream",
          "text": [
            "Found 9000 images belonging to 10 classes.\n",
            "Found 999 images belonging to 10 classes.\n",
            "Epoch 1/15\n",
            "282/282 [==============================] - 157s 546ms/step - loss: 0.9137 - acc: 0.7059 - val_loss: 0.6643 - val_acc: 0.7928 - _timestamp: 1648621151.0000 - _runtime: 168.0000\n",
            "Epoch 2/15\n",
            "282/282 [==============================] - 158s 560ms/step - loss: 0.3820 - acc: 0.8751 - val_loss: 0.7613 - val_acc: 0.7698 - _timestamp: 1648621312.0000 - _runtime: 329.0000\n",
            "Epoch 3/15\n",
            "282/282 [==============================] - 143s 505ms/step - loss: 0.1372 - acc: 0.9569 - val_loss: 1.0071 - val_acc: 0.7748 - _timestamp: 1648621455.0000 - _runtime: 472.0000\n",
            "Epoch 4/15\n",
            "282/282 [==============================] - 142s 505ms/step - loss: 0.0839 - acc: 0.9748 - val_loss: 0.9446 - val_acc: 0.7708 - _timestamp: 1648621597.0000 - _runtime: 614.0000\n",
            "Epoch 5/15\n",
            "282/282 [==============================] - 141s 501ms/step - loss: 0.0440 - acc: 0.9867 - val_loss: 1.0595 - val_acc: 0.7818 - _timestamp: 1648621738.0000 - _runtime: 755.0000\n",
            "Epoch 6/15\n",
            "282/282 [==============================] - 142s 502ms/step - loss: 0.0472 - acc: 0.9862 - val_loss: 1.0118 - val_acc: 0.7808 - _timestamp: 1648621880.0000 - _runtime: 897.0000\n",
            "Epoch 7/15\n",
            "282/282 [==============================] - 141s 499ms/step - loss: 0.0303 - acc: 0.9898 - val_loss: 1.3535 - val_acc: 0.7888 - _timestamp: 1648622021.0000 - _runtime: 1038.0000\n",
            "Epoch 8/15\n",
            "282/282 [==============================] - 141s 498ms/step - loss: 0.0190 - acc: 0.9953 - val_loss: 1.2447 - val_acc: 0.7918 - _timestamp: 1648622161.0000 - _runtime: 1178.0000\n",
            "Epoch 9/15\n",
            "282/282 [==============================] - 141s 498ms/step - loss: 0.0207 - acc: 0.9938 - val_loss: 1.3101 - val_acc: 0.7848 - _timestamp: 1648622302.0000 - _runtime: 1319.0000\n",
            "Epoch 10/15\n",
            "282/282 [==============================] - 141s 498ms/step - loss: 0.0279 - acc: 0.9917 - val_loss: 1.4730 - val_acc: 0.7608 - _timestamp: 1648622443.0000 - _runtime: 1460.0000\n",
            "Epoch 11/15\n",
            "282/282 [==============================] - 140s 497ms/step - loss: 0.0300 - acc: 0.9916 - val_loss: 1.1840 - val_acc: 0.7888 - _timestamp: 1648622583.0000 - _runtime: 1600.0000\n",
            "Epoch 12/15\n",
            "282/282 [==============================] - 141s 499ms/step - loss: 0.0273 - acc: 0.9921 - val_loss: 1.4027 - val_acc: 0.7828 - _timestamp: 1648622724.0000 - _runtime: 1741.0000\n",
            "Epoch 13/15\n",
            "282/282 [==============================] - 140s 497ms/step - loss: 0.0199 - acc: 0.9937 - val_loss: 1.4627 - val_acc: 0.7798 - _timestamp: 1648622864.0000 - _runtime: 1881.0000\n",
            "Epoch 14/15\n",
            "282/282 [==============================] - 140s 498ms/step - loss: 0.0182 - acc: 0.9938 - val_loss: 1.5856 - val_acc: 0.7708 - _timestamp: 1648623004.0000 - _runtime: 2021.0000\n",
            "Epoch 15/15\n",
            "282/282 [==============================] - 141s 498ms/step - loss: 0.0323 - acc: 0.9909 - val_loss: 1.2259 - val_acc: 0.7858 - _timestamp: 1648623145.0000 - _runtime: 2162.0000\n",
            "\n"
          ]
        },
        {
          "data": {
            "text/html": [
              "Waiting for W&B process to finish... <strong style=\"color:green\">(success).</strong>"
            ],
            "text/plain": [
              "<IPython.core.display.HTML object>"
            ]
          },
          "metadata": {},
          "output_type": "display_data"
        },
        {
          "data": {
            "application/vnd.jupyter.widget-view+json": {
              "model_id": "9b2fa07e2bd34a18b9fc994112021240",
              "version_major": 2,
              "version_minor": 0
            },
            "text/plain": [
              "VBox(children=(Label(value='0.002 MB of 0.002 MB uploaded (0.000 MB deduped)\\r'), FloatProgress(value=1.0, max…"
            ]
          },
          "metadata": {},
          "output_type": "display_data"
        },
        {
          "data": {
            "text/html": [
              "<style>\n",
              "    table.wandb td:nth-child(1) { padding: 0 10px; text-align: right }\n",
              "    .wandb-row { display: flex; flex-direction: row; flex-wrap: wrap; width: 100% }\n",
              "    .wandb-col { display: flex; flex-direction: column; flex-basis: 100%; flex: 1; padding: 10px; }\n",
              "    </style>\n",
              "<div class=\"wandb-row\"><div class=\"wandb-col\"><h3>Run history:</h3><br/><table class=\"wandb\"><tr><td>acc</td><td>▁▅▇████████████</td></tr><tr><td>epoch</td><td>▁▁▂▃▃▃▄▅▅▅▆▇▇▇█</td></tr><tr><td>loss</td><td>█▄▂▂▁▁▁▁▁▁▁▁▁▁▁</td></tr><tr><td>val_acc</td><td>█▃▄▃▆▅▇█▆▁▇▆▅▃▆</td></tr><tr><td>val_loss</td><td>▁▂▄▃▄▄▆▅▆▇▅▇▇█▅</td></tr></table><br/></div><div class=\"wandb-col\"><h3>Run summary:</h3><br/><table class=\"wandb\"><tr><td>acc</td><td>0.99089</td></tr><tr><td>best_epoch</td><td>0</td></tr><tr><td>best_val_loss</td><td>0.66428</td></tr><tr><td>epoch</td><td>14</td></tr><tr><td>loss</td><td>0.03228</td></tr><tr><td>val_acc</td><td>0.78579</td></tr><tr><td>val_loss</td><td>1.22588</td></tr></table><br/></div></div>"
            ],
            "text/plain": [
              "<IPython.core.display.HTML object>"
            ]
          },
          "metadata": {},
          "output_type": "display_data"
        },
        {
          "data": {
            "text/html": [
              "Synced <strong style=\"color:#cdcd00\">wobbly-sweep-6</strong>: <a href=\"https://wandb.ai/safi-vamsi-cs6910/Assignment%202/runs/8g64c1ol\" target=\"_blank\">https://wandb.ai/safi-vamsi-cs6910/Assignment%202/runs/8g64c1ol</a><br/>Synced 5 W&B file(s), 1 media file(s), 0 artifact file(s) and 1 other file(s)"
            ],
            "text/plain": [
              "<IPython.core.display.HTML object>"
            ]
          },
          "metadata": {},
          "output_type": "display_data"
        },
        {
          "data": {
            "text/html": [
              "Find logs at: <code>./wandb/run-20220330_061623-8g64c1ol/logs</code>"
            ],
            "text/plain": [
              "<IPython.core.display.HTML object>"
            ]
          },
          "metadata": {},
          "output_type": "display_data"
        },
        {
          "metadata": {
            "tags": null
          },
          "name": "stderr",
          "output_type": "stream",
          "text": [
            "\u001b[34m\u001b[1mwandb\u001b[0m: Agent Starting Run: 3hmxg483 with config:\n",
            "\u001b[34m\u001b[1mwandb\u001b[0m: \tbatch_size: 128\n",
            "\u001b[34m\u001b[1mwandb\u001b[0m: \tdata_augmentation: False\n",
            "\u001b[34m\u001b[1mwandb\u001b[0m: \tdense_layer: 512\n",
            "\u001b[34m\u001b[1mwandb\u001b[0m: \tdropout: 0.1\n",
            "\u001b[34m\u001b[1mwandb\u001b[0m: \tmodel_name: Xception\n",
            "\u001b[34m\u001b[1mwandb\u001b[0m: \tnum_epochs: 15\n",
            "\u001b[34m\u001b[1mwandb\u001b[0m: \ttrainable_layers: 20\n"
          ]
        },
        {
          "data": {
            "text/html": [
              "Tracking run with wandb version 0.12.11"
            ],
            "text/plain": [
              "<IPython.core.display.HTML object>"
            ]
          },
          "metadata": {},
          "output_type": "display_data"
        },
        {
          "data": {
            "text/html": [
              "Run data is saved locally in <code>/content/wandb/run-20220330_065257-3hmxg483</code>"
            ],
            "text/plain": [
              "<IPython.core.display.HTML object>"
            ]
          },
          "metadata": {},
          "output_type": "display_data"
        },
        {
          "data": {
            "text/html": [
              "Syncing run <strong><a href=\"https://wandb.ai/safi-vamsi-cs6910/Assignment%202/runs/3hmxg483\" target=\"_blank\">zany-sweep-7</a></strong> to <a href=\"https://wandb.ai/safi-vamsi-cs6910/Assignment%202\" target=\"_blank\">Weights & Biases</a> (<a href=\"https://wandb.me/run\" target=\"_blank\">docs</a>)<br/>Sweep page:  <a href=\"https://wandb.ai/safi-vamsi-cs6910/Assignment%202/sweeps/rrfukwss\" target=\"_blank\">https://wandb.ai/safi-vamsi-cs6910/Assignment%202/sweeps/rrfukwss</a>"
            ],
            "text/plain": [
              "<IPython.core.display.HTML object>"
            ]
          },
          "metadata": {},
          "output_type": "display_data"
        },
        {
          "metadata": {
            "tags": null
          },
          "name": "stdout",
          "output_type": "stream",
          "text": [
            "Found 9000 images belonging to 10 classes.\n",
            "Found 999 images belonging to 10 classes.\n",
            "Epoch 1/15\n",
            "282/282 [==============================] - 155s 539ms/step - loss: 0.9333 - acc: 0.7146 - val_loss: 0.6768 - val_acc: 0.7838 - _timestamp: 1648623341.0000 - _runtime: 164.0000\n",
            "Epoch 2/15\n",
            "282/282 [==============================] - 153s 541ms/step - loss: 0.3933 - acc: 0.8707 - val_loss: 0.7331 - val_acc: 0.7708 - _timestamp: 1648623499.0000 - _runtime: 322.0000\n",
            "Epoch 3/15\n",
            "282/282 [==============================] - 143s 507ms/step - loss: 0.1437 - acc: 0.9524 - val_loss: 0.9754 - val_acc: 0.7888 - _timestamp: 1648623691.0000 - _runtime: 514.0000\n",
            "Epoch 4/15\n",
            "282/282 [==============================] - 141s 500ms/step - loss: 0.0763 - acc: 0.9752 - val_loss: 1.1130 - val_acc: 0.7798 - _timestamp: 1648623832.0000 - _runtime: 655.0000\n",
            "Epoch 5/15\n",
            "282/282 [==============================] - 141s 501ms/step - loss: 0.0438 - acc: 0.9869 - val_loss: 1.1863 - val_acc: 0.7858 - _timestamp: 1648623973.0000 - _runtime: 796.0000\n",
            "Epoch 6/15\n",
            "282/282 [==============================] - 141s 500ms/step - loss: 0.0406 - acc: 0.9889 - val_loss: 1.1811 - val_acc: 0.7828 - _timestamp: 1648624114.0000 - _runtime: 937.0000\n",
            "Epoch 7/15\n",
            "282/282 [==============================] - 141s 500ms/step - loss: 0.0312 - acc: 0.9907 - val_loss: 1.1350 - val_acc: 0.7928 - _timestamp: 1648624255.0000 - _runtime: 1078.0000\n",
            "Epoch 8/15\n",
            "282/282 [==============================] - 141s 500ms/step - loss: 0.0287 - acc: 0.9914 - val_loss: 1.2277 - val_acc: 0.7978 - _timestamp: 1648624396.0000 - _runtime: 1219.0000\n",
            "Epoch 9/15\n",
            "282/282 [==============================] - 141s 500ms/step - loss: 0.0235 - acc: 0.9934 - val_loss: 1.3226 - val_acc: 0.7818 - _timestamp: 1648624537.0000 - _runtime: 1360.0000\n",
            "Epoch 10/15\n",
            "282/282 [==============================] - 141s 501ms/step - loss: 0.0314 - acc: 0.9892 - val_loss: 1.2682 - val_acc: 0.7898 - _timestamp: 1648624679.0000 - _runtime: 1502.0000\n",
            "Epoch 11/15\n",
            "282/282 [==============================] - 141s 500ms/step - loss: 0.0167 - acc: 0.9951 - val_loss: 1.3373 - val_acc: 0.7838 - _timestamp: 1648624820.0000 - _runtime: 1643.0000\n",
            "Epoch 12/15\n",
            "282/282 [==============================] - 141s 499ms/step - loss: 0.0265 - acc: 0.9922 - val_loss: 1.3224 - val_acc: 0.7938 - _timestamp: 1648624961.0000 - _runtime: 1784.0000\n",
            "Epoch 13/15\n",
            "282/282 [==============================] - 141s 499ms/step - loss: 0.0174 - acc: 0.9947 - val_loss: 1.3907 - val_acc: 0.7928 - _timestamp: 1648625101.0000 - _runtime: 1924.0000\n",
            "Epoch 14/15\n",
            "282/282 [==============================] - 140s 498ms/step - loss: 0.0207 - acc: 0.9940 - val_loss: 1.2829 - val_acc: 0.7988 - _timestamp: 1648625242.0000 - _runtime: 2065.0000\n",
            "Epoch 15/15\n",
            "282/282 [==============================] - 141s 499ms/step - loss: 0.0162 - acc: 0.9951 - val_loss: 1.5087 - val_acc: 0.7798 - _timestamp: 1648625383.0000 - _runtime: 2206.0000\n",
            "\n"
          ]
        },
        {
          "data": {
            "text/html": [
              "Waiting for W&B process to finish... <strong style=\"color:green\">(success).</strong>"
            ],
            "text/plain": [
              "<IPython.core.display.HTML object>"
            ]
          },
          "metadata": {},
          "output_type": "display_data"
        },
        {
          "data": {
            "application/vnd.jupyter.widget-view+json": {
              "model_id": "bbeb921c32d44557a34315e93c0a1f8c",
              "version_major": 2,
              "version_minor": 0
            },
            "text/plain": [
              "VBox(children=(Label(value='335.859 MB of 335.859 MB uploaded (0.000 MB deduped)\\r'), FloatProgress(value=1.0,…"
            ]
          },
          "metadata": {},
          "output_type": "display_data"
        },
        {
          "data": {
            "text/html": [
              "<style>\n",
              "    table.wandb td:nth-child(1) { padding: 0 10px; text-align: right }\n",
              "    .wandb-row { display: flex; flex-direction: row; flex-wrap: wrap; width: 100% }\n",
              "    .wandb-col { display: flex; flex-direction: column; flex-basis: 100%; flex: 1; padding: 10px; }\n",
              "    </style>\n",
              "<div class=\"wandb-row\"><div class=\"wandb-col\"><h3>Run history:</h3><br/><table class=\"wandb\"><tr><td>acc</td><td>▁▅▇████████████</td></tr><tr><td>epoch</td><td>▁▁▂▃▃▃▄▅▅▅▆▇▇▇█</td></tr><tr><td>loss</td><td>█▄▂▁▁▁▁▁▁▁▁▁▁▁▁</td></tr><tr><td>val_acc</td><td>▄▁▅▃▅▄▇█▄▆▄▇▇█▃</td></tr><tr><td>val_loss</td><td>▁▁▄▅▅▅▅▆▆▆▇▆▇▆█</td></tr></table><br/></div><div class=\"wandb-col\"><h3>Run summary:</h3><br/><table class=\"wandb\"><tr><td>acc</td><td>0.99511</td></tr><tr><td>best_epoch</td><td>0</td></tr><tr><td>best_val_loss</td><td>0.67682</td></tr><tr><td>epoch</td><td>14</td></tr><tr><td>loss</td><td>0.0162</td></tr><tr><td>val_acc</td><td>0.77978</td></tr><tr><td>val_loss</td><td>1.50872</td></tr></table><br/></div></div>"
            ],
            "text/plain": [
              "<IPython.core.display.HTML object>"
            ]
          },
          "metadata": {},
          "output_type": "display_data"
        },
        {
          "data": {
            "text/html": [
              "Synced <strong style=\"color:#cdcd00\">zany-sweep-7</strong>: <a href=\"https://wandb.ai/safi-vamsi-cs6910/Assignment%202/runs/3hmxg483\" target=\"_blank\">https://wandb.ai/safi-vamsi-cs6910/Assignment%202/runs/3hmxg483</a><br/>Synced 5 W&B file(s), 1 media file(s), 0 artifact file(s) and 1 other file(s)"
            ],
            "text/plain": [
              "<IPython.core.display.HTML object>"
            ]
          },
          "metadata": {},
          "output_type": "display_data"
        },
        {
          "data": {
            "text/html": [
              "Find logs at: <code>./wandb/run-20220330_065257-3hmxg483/logs</code>"
            ],
            "text/plain": [
              "<IPython.core.display.HTML object>"
            ]
          },
          "metadata": {},
          "output_type": "display_data"
        },
        {
          "metadata": {
            "tags": null
          },
          "name": "stderr",
          "output_type": "stream",
          "text": [
            "\u001b[34m\u001b[1mwandb\u001b[0m: Agent Starting Run: fmhus315 with config:\n",
            "\u001b[34m\u001b[1mwandb\u001b[0m: \tbatch_size: 128\n",
            "\u001b[34m\u001b[1mwandb\u001b[0m: \tdata_augmentation: False\n",
            "\u001b[34m\u001b[1mwandb\u001b[0m: \tdense_layer: 512\n",
            "\u001b[34m\u001b[1mwandb\u001b[0m: \tdropout: 0.2\n",
            "\u001b[34m\u001b[1mwandb\u001b[0m: \tmodel_name: Xception\n",
            "\u001b[34m\u001b[1mwandb\u001b[0m: \tnum_epochs: 15\n",
            "\u001b[34m\u001b[1mwandb\u001b[0m: \ttrainable_layers: 20\n"
          ]
        },
        {
          "data": {
            "text/html": [
              "Tracking run with wandb version 0.12.11"
            ],
            "text/plain": [
              "<IPython.core.display.HTML object>"
            ]
          },
          "metadata": {},
          "output_type": "display_data"
        },
        {
          "data": {
            "text/html": [
              "Run data is saved locally in <code>/content/wandb/run-20220330_073012-fmhus315</code>"
            ],
            "text/plain": [
              "<IPython.core.display.HTML object>"
            ]
          },
          "metadata": {},
          "output_type": "display_data"
        },
        {
          "data": {
            "text/html": [
              "Syncing run <strong><a href=\"https://wandb.ai/safi-vamsi-cs6910/Assignment%202/runs/fmhus315\" target=\"_blank\">fallen-sweep-8</a></strong> to <a href=\"https://wandb.ai/safi-vamsi-cs6910/Assignment%202\" target=\"_blank\">Weights & Biases</a> (<a href=\"https://wandb.me/run\" target=\"_blank\">docs</a>)<br/>Sweep page:  <a href=\"https://wandb.ai/safi-vamsi-cs6910/Assignment%202/sweeps/rrfukwss\" target=\"_blank\">https://wandb.ai/safi-vamsi-cs6910/Assignment%202/sweeps/rrfukwss</a>"
            ],
            "text/plain": [
              "<IPython.core.display.HTML object>"
            ]
          },
          "metadata": {},
          "output_type": "display_data"
        },
        {
          "metadata": {
            "tags": null
          },
          "name": "stdout",
          "output_type": "stream",
          "text": [
            "Found 9000 images belonging to 10 classes.\n",
            "Found 999 images belonging to 10 classes.\n",
            "Epoch 1/15\n",
            "282/282 [==============================] - 159s 552ms/step - loss: 0.9265 - acc: 0.7101 - val_loss: 0.6799 - val_acc: 0.7858 - _timestamp: 1648625577.0000 - _runtime: 164.0000\n",
            "Epoch 2/15\n",
            "282/282 [==============================] - 161s 570ms/step - loss: 0.4106 - acc: 0.8616 - val_loss: 0.7132 - val_acc: 0.7948 - _timestamp: 1648625791.0000 - _runtime: 378.0000\n",
            "Epoch 3/15\n",
            "282/282 [==============================] - 143s 506ms/step - loss: 0.1623 - acc: 0.9443 - val_loss: 0.9160 - val_acc: 0.7878 - _timestamp: 1648625934.0000 - _runtime: 521.0000\n",
            "Epoch 4/15\n",
            "282/282 [==============================] - 142s 505ms/step - loss: 0.0811 - acc: 0.9740 - val_loss: 0.9963 - val_acc: 0.7718 - _timestamp: 1648626076.0000 - _runtime: 663.0000\n",
            "Epoch 5/15\n",
            "282/282 [==============================] - 143s 505ms/step - loss: 0.0470 - acc: 0.9873 - val_loss: 1.0304 - val_acc: 0.7988 - _timestamp: 1648626219.0000 - _runtime: 806.0000\n",
            "Epoch 6/15\n",
            "282/282 [==============================] - 143s 505ms/step - loss: 0.0333 - acc: 0.9906 - val_loss: 0.9437 - val_acc: 0.7928 - _timestamp: 1648626362.0000 - _runtime: 949.0000\n",
            "Epoch 7/15\n",
            "282/282 [==============================] - 143s 507ms/step - loss: 0.0481 - acc: 0.9863 - val_loss: 1.2066 - val_acc: 0.7708 - _timestamp: 1648626505.0000 - _runtime: 1092.0000\n",
            "Epoch 8/15\n",
            "282/282 [==============================] - 144s 509ms/step - loss: 0.0429 - acc: 0.9857 - val_loss: 1.1453 - val_acc: 0.7928 - _timestamp: 1648626648.0000 - _runtime: 1235.0000\n",
            "Epoch 9/15\n",
            "282/282 [==============================] - 143s 508ms/step - loss: 0.0288 - acc: 0.9911 - val_loss: 1.2788 - val_acc: 0.7908 - _timestamp: 1648626792.0000 - _runtime: 1379.0000\n",
            "Epoch 10/15\n",
            "282/282 [==============================] - 143s 507ms/step - loss: 0.0262 - acc: 0.9916 - val_loss: 1.2667 - val_acc: 0.7888 - _timestamp: 1648626935.0000 - _runtime: 1522.0000\n",
            "Epoch 11/15\n",
            "282/282 [==============================] - 143s 508ms/step - loss: 0.0253 - acc: 0.9930 - val_loss: 1.1950 - val_acc: 0.7988 - _timestamp: 1648627078.0000 - _runtime: 1665.0000\n",
            "Epoch 12/15\n",
            "282/282 [==============================] - 142s 504ms/step - loss: 0.0194 - acc: 0.9946 - val_loss: 1.2337 - val_acc: 0.7918 - _timestamp: 1648627220.0000 - _runtime: 1807.0000\n",
            "Epoch 13/15\n",
            "282/282 [==============================] - 142s 505ms/step - loss: 0.0184 - acc: 0.9940 - val_loss: 1.6358 - val_acc: 0.7788 - _timestamp: 1648627363.0000 - _runtime: 1950.0000\n",
            "Epoch 14/15\n",
            "282/282 [==============================] - 141s 501ms/step - loss: 0.0192 - acc: 0.9940 - val_loss: 1.2957 - val_acc: 0.8018 - _timestamp: 1648627504.0000 - _runtime: 2091.0000\n",
            "Epoch 15/15\n",
            "282/282 [==============================] - 139s 492ms/step - loss: 0.0215 - acc: 0.9931 - val_loss: 1.3128 - val_acc: 0.7888 - _timestamp: 1648627643.0000 - _runtime: 2230.0000\n",
            "\n"
          ]
        },
        {
          "data": {
            "text/html": [
              "Waiting for W&B process to finish... <strong style=\"color:green\">(success).</strong>"
            ],
            "text/plain": [
              "<IPython.core.display.HTML object>"
            ]
          },
          "metadata": {},
          "output_type": "display_data"
        },
        {
          "data": {
            "application/vnd.jupyter.widget-view+json": {
              "model_id": "aa8f22c235a74390bfb06a33349346e1",
              "version_major": 2,
              "version_minor": 0
            },
            "text/plain": [
              "VBox(children=(Label(value='903.859 MB of 903.859 MB uploaded (0.000 MB deduped)\\r'), FloatProgress(value=1.0,…"
            ]
          },
          "metadata": {},
          "output_type": "display_data"
        },
        {
          "data": {
            "text/html": [
              "<style>\n",
              "    table.wandb td:nth-child(1) { padding: 0 10px; text-align: right }\n",
              "    .wandb-row { display: flex; flex-direction: row; flex-wrap: wrap; width: 100% }\n",
              "    .wandb-col { display: flex; flex-direction: column; flex-basis: 100%; flex: 1; padding: 10px; }\n",
              "    </style>\n",
              "<div class=\"wandb-row\"><div class=\"wandb-col\"><h3>Run history:</h3><br/><table class=\"wandb\"><tr><td>acc</td><td>▁▅▇▇███████████</td></tr><tr><td>epoch</td><td>▁▁▂▃▃▃▄▅▅▅▆▇▇▇█</td></tr><tr><td>loss</td><td>█▄▂▁▁▁▁▁▁▁▁▁▁▁▁</td></tr><tr><td>val_acc</td><td>▄▆▅▁▇▆▁▆▆▅▇▆▃█▅</td></tr><tr><td>val_loss</td><td>▁▁▃▃▄▃▅▄▅▅▅▅█▆▆</td></tr></table><br/></div><div class=\"wandb-col\"><h3>Run summary:</h3><br/><table class=\"wandb\"><tr><td>acc</td><td>0.99311</td></tr><tr><td>best_epoch</td><td>0</td></tr><tr><td>best_val_loss</td><td>0.67986</td></tr><tr><td>epoch</td><td>14</td></tr><tr><td>loss</td><td>0.02147</td></tr><tr><td>val_acc</td><td>0.78879</td></tr><tr><td>val_loss</td><td>1.31275</td></tr></table><br/></div></div>"
            ],
            "text/plain": [
              "<IPython.core.display.HTML object>"
            ]
          },
          "metadata": {},
          "output_type": "display_data"
        },
        {
          "data": {
            "text/html": [
              "Synced <strong style=\"color:#cdcd00\">fallen-sweep-8</strong>: <a href=\"https://wandb.ai/safi-vamsi-cs6910/Assignment%202/runs/fmhus315\" target=\"_blank\">https://wandb.ai/safi-vamsi-cs6910/Assignment%202/runs/fmhus315</a><br/>Synced 5 W&B file(s), 1 media file(s), 0 artifact file(s) and 1 other file(s)"
            ],
            "text/plain": [
              "<IPython.core.display.HTML object>"
            ]
          },
          "metadata": {},
          "output_type": "display_data"
        },
        {
          "data": {
            "text/html": [
              "Find logs at: <code>./wandb/run-20220330_073012-fmhus315/logs</code>"
            ],
            "text/plain": [
              "<IPython.core.display.HTML object>"
            ]
          },
          "metadata": {},
          "output_type": "display_data"
        },
        {
          "metadata": {
            "tags": null
          },
          "name": "stderr",
          "output_type": "stream",
          "text": [
            "\u001b[34m\u001b[1mwandb\u001b[0m: Agent Starting Run: cu15to50 with config:\n",
            "\u001b[34m\u001b[1mwandb\u001b[0m: \tbatch_size: 64\n",
            "\u001b[34m\u001b[1mwandb\u001b[0m: \tdata_augmentation: False\n",
            "\u001b[34m\u001b[1mwandb\u001b[0m: \tdense_layer: 512\n",
            "\u001b[34m\u001b[1mwandb\u001b[0m: \tdropout: 0.3\n",
            "\u001b[34m\u001b[1mwandb\u001b[0m: \tmodel_name: Xception\n",
            "\u001b[34m\u001b[1mwandb\u001b[0m: \tnum_epochs: 15\n",
            "\u001b[34m\u001b[1mwandb\u001b[0m: \ttrainable_layers: 20\n"
          ]
        },
        {
          "data": {
            "text/html": [
              "Tracking run with wandb version 0.12.11"
            ],
            "text/plain": [
              "<IPython.core.display.HTML object>"
            ]
          },
          "metadata": {},
          "output_type": "display_data"
        },
        {
          "data": {
            "text/html": [
              "Run data is saved locally in <code>/content/wandb/run-20220330_080750-cu15to50</code>"
            ],
            "text/plain": [
              "<IPython.core.display.HTML object>"
            ]
          },
          "metadata": {},
          "output_type": "display_data"
        },
        {
          "data": {
            "text/html": [
              "Syncing run <strong><a href=\"https://wandb.ai/safi-vamsi-cs6910/Assignment%202/runs/cu15to50\" target=\"_blank\">morning-sweep-9</a></strong> to <a href=\"https://wandb.ai/safi-vamsi-cs6910/Assignment%202\" target=\"_blank\">Weights & Biases</a> (<a href=\"https://wandb.me/run\" target=\"_blank\">docs</a>)<br/>Sweep page:  <a href=\"https://wandb.ai/safi-vamsi-cs6910/Assignment%202/sweeps/rrfukwss\" target=\"_blank\">https://wandb.ai/safi-vamsi-cs6910/Assignment%202/sweeps/rrfukwss</a>"
            ],
            "text/plain": [
              "<IPython.core.display.HTML object>"
            ]
          },
          "metadata": {},
          "output_type": "display_data"
        },
        {
          "metadata": {
            "tags": null
          },
          "name": "stdout",
          "output_type": "stream",
          "text": [
            "Found 9000 images belonging to 10 classes.\n",
            "Found 999 images belonging to 10 classes.\n",
            "Epoch 1/15\n",
            "282/282 [==============================] - 155s 541ms/step - loss: 0.9855 - acc: 0.6954 - val_loss: 0.8566 - val_acc: 0.7508 - _timestamp: 1648627833.0000 - _runtime: 163.0000\n",
            "Epoch 2/15\n",
            "282/282 [==============================] - 161s 568ms/step - loss: 0.4105 - acc: 0.8630 - val_loss: 0.7525 - val_acc: 0.7748 - _timestamp: 1648627997.0000 - _runtime: 327.0000\n",
            "Epoch 3/15\n",
            "282/282 [==============================] - 149s 527ms/step - loss: 0.1659 - acc: 0.9452 - val_loss: 0.8885 - val_acc: 0.7778 - _timestamp: 1648628191.0000 - _runtime: 521.0000\n",
            "Epoch 4/15\n",
            "282/282 [==============================] - 140s 498ms/step - loss: 0.0795 - acc: 0.9760 - val_loss: 0.9964 - val_acc: 0.7928 - _timestamp: 1648628331.0000 - _runtime: 661.0000\n",
            "Epoch 5/15\n",
            "282/282 [==============================] - 140s 496ms/step - loss: 0.0551 - acc: 0.9816 - val_loss: 1.0157 - val_acc: 0.7858 - _timestamp: 1648628471.0000 - _runtime: 801.0000\n",
            "Epoch 6/15\n",
            "282/282 [==============================] - 140s 495ms/step - loss: 0.0409 - acc: 0.9873 - val_loss: 1.0432 - val_acc: 0.7788 - _timestamp: 1648628611.0000 - _runtime: 941.0000\n",
            "Epoch 7/15\n",
            "282/282 [==============================] - 139s 492ms/step - loss: 0.0338 - acc: 0.9904 - val_loss: 1.1584 - val_acc: 0.7898 - _timestamp: 1648628752.0000 - _runtime: 1082.0000\n",
            "Epoch 8/15\n",
            "282/282 [==============================] - 139s 493ms/step - loss: 0.0378 - acc: 0.9892 - val_loss: 1.1802 - val_acc: 0.7858 - _timestamp: 1648628891.0000 - _runtime: 1221.0000\n",
            "Epoch 9/15\n",
            "282/282 [==============================] - 138s 490ms/step - loss: 0.0270 - acc: 0.9918 - val_loss: 1.1829 - val_acc: 0.7738 - _timestamp: 1648629029.0000 - _runtime: 1359.0000\n",
            "Epoch 10/15\n",
            "282/282 [==============================] - 138s 490ms/step - loss: 0.0333 - acc: 0.9886 - val_loss: 1.1926 - val_acc: 0.7758 - _timestamp: 1648629168.0000 - _runtime: 1498.0000\n",
            "Epoch 11/15\n",
            "282/282 [==============================] - 138s 490ms/step - loss: 0.0278 - acc: 0.9919 - val_loss: 1.3281 - val_acc: 0.7848 - _timestamp: 1648629306.0000 - _runtime: 1636.0000\n",
            "Epoch 12/15\n",
            "282/282 [==============================] - 138s 488ms/step - loss: 0.0384 - acc: 0.9887 - val_loss: 1.1687 - val_acc: 0.7918 - _timestamp: 1648629443.0000 - _runtime: 1773.0000\n",
            "Epoch 13/15\n",
            "282/282 [==============================] - 139s 492ms/step - loss: 0.0278 - acc: 0.9927 - val_loss: 1.5111 - val_acc: 0.7828 - _timestamp: 1648629582.0000 - _runtime: 1912.0000\n",
            "Epoch 14/15\n",
            "282/282 [==============================] - 138s 490ms/step - loss: 0.0260 - acc: 0.9920 - val_loss: 1.5219 - val_acc: 0.7748 - _timestamp: 1648629720.0000 - _runtime: 2050.0000\n",
            "Epoch 15/15\n",
            "282/282 [==============================] - 138s 489ms/step - loss: 0.0352 - acc: 0.9898 - val_loss: 1.4288 - val_acc: 0.7968 - _timestamp: 1648629858.0000 - _runtime: 2188.0000\n",
            "\n"
          ]
        },
        {
          "data": {
            "text/html": [
              "Waiting for W&B process to finish... <strong style=\"color:green\">(success).</strong>"
            ],
            "text/plain": [
              "<IPython.core.display.HTML object>"
            ]
          },
          "metadata": {},
          "output_type": "display_data"
        },
        {
          "data": {
            "application/vnd.jupyter.widget-view+json": {
              "model_id": "f781e802512c4d0b8a3d0b404ec94543",
              "version_major": 2,
              "version_minor": 0
            },
            "text/plain": [
              "VBox(children=(Label(value='903.859 MB of 903.859 MB uploaded (0.000 MB deduped)\\r'), FloatProgress(value=1.0,…"
            ]
          },
          "metadata": {},
          "output_type": "display_data"
        },
        {
          "data": {
            "text/html": [
              "<style>\n",
              "    table.wandb td:nth-child(1) { padding: 0 10px; text-align: right }\n",
              "    .wandb-row { display: flex; flex-direction: row; flex-wrap: wrap; width: 100% }\n",
              "    .wandb-col { display: flex; flex-direction: column; flex-basis: 100%; flex: 1; padding: 10px; }\n",
              "    </style>\n",
              "<div class=\"wandb-row\"><div class=\"wandb-col\"><h3>Run history:</h3><br/><table class=\"wandb\"><tr><td>acc</td><td>▁▅▇████████████</td></tr><tr><td>epoch</td><td>▁▁▂▃▃▃▄▅▅▅▆▇▇▇█</td></tr><tr><td>loss</td><td>█▄▂▁▁▁▁▁▁▁▁▁▁▁▁</td></tr><tr><td>val_acc</td><td>▁▅▅▇▆▅▇▆▅▅▆▇▆▅█</td></tr><tr><td>val_loss</td><td>▂▁▂▃▃▄▅▅▅▅▆▅██▇</td></tr></table><br/></div><div class=\"wandb-col\"><h3>Run summary:</h3><br/><table class=\"wandb\"><tr><td>acc</td><td>0.98978</td></tr><tr><td>best_epoch</td><td>1</td></tr><tr><td>best_val_loss</td><td>0.75248</td></tr><tr><td>epoch</td><td>14</td></tr><tr><td>loss</td><td>0.03519</td></tr><tr><td>val_acc</td><td>0.7968</td></tr><tr><td>val_loss</td><td>1.42879</td></tr></table><br/></div></div>"
            ],
            "text/plain": [
              "<IPython.core.display.HTML object>"
            ]
          },
          "metadata": {},
          "output_type": "display_data"
        },
        {
          "data": {
            "text/html": [
              "Synced <strong style=\"color:#cdcd00\">morning-sweep-9</strong>: <a href=\"https://wandb.ai/safi-vamsi-cs6910/Assignment%202/runs/cu15to50\" target=\"_blank\">https://wandb.ai/safi-vamsi-cs6910/Assignment%202/runs/cu15to50</a><br/>Synced 5 W&B file(s), 1 media file(s), 0 artifact file(s) and 1 other file(s)"
            ],
            "text/plain": [
              "<IPython.core.display.HTML object>"
            ]
          },
          "metadata": {},
          "output_type": "display_data"
        },
        {
          "data": {
            "text/html": [
              "Find logs at: <code>./wandb/run-20220330_080750-cu15to50/logs</code>"
            ],
            "text/plain": [
              "<IPython.core.display.HTML object>"
            ]
          },
          "metadata": {},
          "output_type": "display_data"
        },
        {
          "metadata": {
            "tags": null
          },
          "name": "stderr",
          "output_type": "stream",
          "text": [
            "\u001b[34m\u001b[1mwandb\u001b[0m: Agent Starting Run: jv1c362s with config:\n",
            "\u001b[34m\u001b[1mwandb\u001b[0m: \tbatch_size: 64\n",
            "\u001b[34m\u001b[1mwandb\u001b[0m: \tdata_augmentation: True\n",
            "\u001b[34m\u001b[1mwandb\u001b[0m: \tdense_layer: 256\n",
            "\u001b[34m\u001b[1mwandb\u001b[0m: \tdropout: 0.3\n",
            "\u001b[34m\u001b[1mwandb\u001b[0m: \tmodel_name: InceptionResNetV2\n",
            "\u001b[34m\u001b[1mwandb\u001b[0m: \tnum_epochs: 15\n",
            "\u001b[34m\u001b[1mwandb\u001b[0m: \ttrainable_layers: 20\n"
          ]
        },
        {
          "data": {
            "text/html": [
              "Tracking run with wandb version 0.12.11"
            ],
            "text/plain": [
              "<IPython.core.display.HTML object>"
            ]
          },
          "metadata": {},
          "output_type": "display_data"
        },
        {
          "data": {
            "text/html": [
              "Run data is saved locally in <code>/content/wandb/run-20220330_084454-jv1c362s</code>"
            ],
            "text/plain": [
              "<IPython.core.display.HTML object>"
            ]
          },
          "metadata": {},
          "output_type": "display_data"
        },
        {
          "data": {
            "text/html": [
              "Syncing run <strong><a href=\"https://wandb.ai/safi-vamsi-cs6910/Assignment%202/runs/jv1c362s\" target=\"_blank\">pretty-sweep-10</a></strong> to <a href=\"https://wandb.ai/safi-vamsi-cs6910/Assignment%202\" target=\"_blank\">Weights & Biases</a> (<a href=\"https://wandb.me/run\" target=\"_blank\">docs</a>)<br/>Sweep page:  <a href=\"https://wandb.ai/safi-vamsi-cs6910/Assignment%202/sweeps/rrfukwss\" target=\"_blank\">https://wandb.ai/safi-vamsi-cs6910/Assignment%202/sweeps/rrfukwss</a>"
            ],
            "text/plain": [
              "<IPython.core.display.HTML object>"
            ]
          },
          "metadata": {},
          "output_type": "display_data"
        },
        {
          "metadata": {
            "tags": null
          },
          "name": "stdout",
          "output_type": "stream",
          "text": [
            "Found 9000 images belonging to 10 classes.\n",
            "Found 999 images belonging to 10 classes.\n",
            "Epoch 1/15\n",
            "282/282 [==============================] - 270s 922ms/step - loss: 1.0506 - acc: 0.6709 - val_loss: 0.6320 - val_acc: 0.7998 - _timestamp: 1648630182.0000 - _runtime: 288.0000\n",
            "Epoch 2/15\n",
            "282/282 [==============================] - 256s 908ms/step - loss: 0.7624 - acc: 0.7566 - val_loss: 0.6241 - val_acc: 0.7938 - _timestamp: 1648630438.0000 - _runtime: 544.0000\n",
            "Epoch 3/15\n",
            "282/282 [==============================] - 252s 893ms/step - loss: 0.6922 - acc: 0.7791 - val_loss: 0.5972 - val_acc: 0.8198 - _timestamp: 1648630689.0000 - _runtime: 795.0000\n",
            "Epoch 4/15\n",
            "282/282 [==============================] - 249s 883ms/step - loss: 0.6283 - acc: 0.7943 - val_loss: 0.6671 - val_acc: 0.7968 - _timestamp: 1648630941.0000 - _runtime: 1047.0000\n",
            "Epoch 5/15\n",
            "282/282 [==============================] - 247s 877ms/step - loss: 0.5811 - acc: 0.8106 - val_loss: 0.6170 - val_acc: 0.8078 - _timestamp: 1648631188.0000 - _runtime: 1294.0000\n",
            "Epoch 6/15\n",
            "282/282 [==============================] - 248s 879ms/step - loss: 0.5368 - acc: 0.8268 - val_loss: 0.6133 - val_acc: 0.8018 - _timestamp: 1648631436.0000 - _runtime: 1542.0000\n",
            "Epoch 7/15\n",
            "282/282 [==============================] - 248s 878ms/step - loss: 0.4680 - acc: 0.8417 - val_loss: 0.6460 - val_acc: 0.8208 - _timestamp: 1648631684.0000 - _runtime: 1790.0000\n",
            "Epoch 8/15\n",
            "282/282 [==============================] - 248s 878ms/step - loss: 0.4359 - acc: 0.8557 - val_loss: 0.6431 - val_acc: 0.8158 - _timestamp: 1648631932.0000 - _runtime: 2038.0000\n",
            "Epoch 9/15\n",
            "282/282 [==============================] - 248s 878ms/step - loss: 0.4167 - acc: 0.8662 - val_loss: 0.6338 - val_acc: 0.8178 - _timestamp: 1648632179.0000 - _runtime: 2285.0000\n",
            "Epoch 10/15\n",
            "282/282 [==============================] - 248s 878ms/step - loss: 0.3810 - acc: 0.8780 - val_loss: 0.8254 - val_acc: 0.8048 - _timestamp: 1648632427.0000 - _runtime: 2533.0000\n",
            "Epoch 11/15\n",
            "282/282 [==============================] - 248s 878ms/step - loss: 0.3621 - acc: 0.8803 - val_loss: 0.7192 - val_acc: 0.8108 - _timestamp: 1648632675.0000 - _runtime: 2781.0000\n",
            "Epoch 12/15\n",
            "282/282 [==============================] - 247s 877ms/step - loss: 0.3573 - acc: 0.8837 - val_loss: 0.7638 - val_acc: 0.8188 - _timestamp: 1648632922.0000 - _runtime: 3028.0000\n",
            "Epoch 13/15\n",
            "282/282 [==============================] - 247s 876ms/step - loss: 0.3215 - acc: 0.8933 - val_loss: 0.8295 - val_acc: 0.8148 - _timestamp: 1648633170.0000 - _runtime: 3276.0000\n",
            "Epoch 14/15\n",
            "282/282 [==============================] - 248s 877ms/step - loss: 0.3057 - acc: 0.8979 - val_loss: 0.8021 - val_acc: 0.8178 - _timestamp: 1648633417.0000 - _runtime: 3523.0000\n",
            "Epoch 15/15\n",
            "282/282 [==============================] - 249s 882ms/step - loss: 0.2699 - acc: 0.9133 - val_loss: 0.8169 - val_acc: 0.8198 - _timestamp: 1648633666.0000 - _runtime: 3772.0000\n",
            "\n"
          ]
        },
        {
          "data": {
            "text/html": [
              "Waiting for W&B process to finish... <strong style=\"color:green\">(success).</strong>"
            ],
            "text/plain": [
              "<IPython.core.display.HTML object>"
            ]
          },
          "metadata": {},
          "output_type": "display_data"
        },
        {
          "data": {
            "application/vnd.jupyter.widget-view+json": {
              "model_id": "15472693f8634fbc80ef4f84e466de38",
              "version_major": 2,
              "version_minor": 0
            },
            "text/plain": [
              "VBox(children=(Label(value='0.002 MB of 0.002 MB uploaded (0.000 MB deduped)\\r'), FloatProgress(value=1.0, max…"
            ]
          },
          "metadata": {},
          "output_type": "display_data"
        },
        {
          "data": {
            "text/html": [
              "<style>\n",
              "    table.wandb td:nth-child(1) { padding: 0 10px; text-align: right }\n",
              "    .wandb-row { display: flex; flex-direction: row; flex-wrap: wrap; width: 100% }\n",
              "    .wandb-col { display: flex; flex-direction: column; flex-basis: 100%; flex: 1; padding: 10px; }\n",
              "    </style>\n",
              "<div class=\"wandb-row\"><div class=\"wandb-col\"><h3>Run history:</h3><br/><table class=\"wandb\"><tr><td>acc</td><td>▁▃▄▅▅▆▆▆▇▇▇▇▇██</td></tr><tr><td>epoch</td><td>▁▁▂▃▃▃▄▅▅▅▆▇▇▇█</td></tr><tr><td>loss</td><td>█▅▅▄▄▃▃▂▂▂▂▂▁▁▁</td></tr><tr><td>val_acc</td><td>▃▁█▂▅▃█▇▇▄▅▇▆▇█</td></tr><tr><td>val_loss</td><td>▂▂▁▃▂▁▂▂▂█▅▆█▇█</td></tr></table><br/></div><div class=\"wandb-col\"><h3>Run summary:</h3><br/><table class=\"wandb\"><tr><td>acc</td><td>0.91333</td></tr><tr><td>best_epoch</td><td>2</td></tr><tr><td>best_val_loss</td><td>0.59722</td></tr><tr><td>epoch</td><td>14</td></tr><tr><td>loss</td><td>0.26986</td></tr><tr><td>val_acc</td><td>0.81982</td></tr><tr><td>val_loss</td><td>0.81691</td></tr></table><br/></div></div>"
            ],
            "text/plain": [
              "<IPython.core.display.HTML object>"
            ]
          },
          "metadata": {},
          "output_type": "display_data"
        },
        {
          "data": {
            "text/html": [
              "Synced <strong style=\"color:#cdcd00\">pretty-sweep-10</strong>: <a href=\"https://wandb.ai/safi-vamsi-cs6910/Assignment%202/runs/jv1c362s\" target=\"_blank\">https://wandb.ai/safi-vamsi-cs6910/Assignment%202/runs/jv1c362s</a><br/>Synced 5 W&B file(s), 1 media file(s), 0 artifact file(s) and 1 other file(s)"
            ],
            "text/plain": [
              "<IPython.core.display.HTML object>"
            ]
          },
          "metadata": {},
          "output_type": "display_data"
        },
        {
          "data": {
            "text/html": [
              "Find logs at: <code>./wandb/run-20220330_084454-jv1c362s/logs</code>"
            ],
            "text/plain": [
              "<IPython.core.display.HTML object>"
            ]
          },
          "metadata": {},
          "output_type": "display_data"
        },
        {
          "metadata": {
            "tags": null
          },
          "name": "stderr",
          "output_type": "stream",
          "text": [
            "\u001b[34m\u001b[1mwandb\u001b[0m: Agent Starting Run: w69fl41x with config:\n",
            "\u001b[34m\u001b[1mwandb\u001b[0m: \tbatch_size: 64\n",
            "\u001b[34m\u001b[1mwandb\u001b[0m: \tdata_augmentation: True\n",
            "\u001b[34m\u001b[1mwandb\u001b[0m: \tdense_layer: 256\n",
            "\u001b[34m\u001b[1mwandb\u001b[0m: \tdropout: 0.3\n",
            "\u001b[34m\u001b[1mwandb\u001b[0m: \tmodel_name: Xception\n",
            "\u001b[34m\u001b[1mwandb\u001b[0m: \tnum_epochs: 15\n",
            "\u001b[34m\u001b[1mwandb\u001b[0m: \ttrainable_layers: 20\n"
          ]
        },
        {
          "data": {
            "text/html": [
              "Tracking run with wandb version 0.12.11"
            ],
            "text/plain": [
              "<IPython.core.display.HTML object>"
            ]
          },
          "metadata": {},
          "output_type": "display_data"
        },
        {
          "data": {
            "text/html": [
              "Run data is saved locally in <code>/content/wandb/run-20220330_094805-w69fl41x</code>"
            ],
            "text/plain": [
              "<IPython.core.display.HTML object>"
            ]
          },
          "metadata": {},
          "output_type": "display_data"
        },
        {
          "data": {
            "text/html": [
              "Syncing run <strong><a href=\"https://wandb.ai/safi-vamsi-cs6910/Assignment%202/runs/w69fl41x\" target=\"_blank\">divine-sweep-11</a></strong> to <a href=\"https://wandb.ai/safi-vamsi-cs6910/Assignment%202\" target=\"_blank\">Weights & Biases</a> (<a href=\"https://wandb.me/run\" target=\"_blank\">docs</a>)<br/>Sweep page:  <a href=\"https://wandb.ai/safi-vamsi-cs6910/Assignment%202/sweeps/rrfukwss\" target=\"_blank\">https://wandb.ai/safi-vamsi-cs6910/Assignment%202/sweeps/rrfukwss</a>"
            ],
            "text/plain": [
              "<IPython.core.display.HTML object>"
            ]
          },
          "metadata": {},
          "output_type": "display_data"
        },
        {
          "metadata": {
            "tags": null
          },
          "name": "stdout",
          "output_type": "stream",
          "text": [
            "Found 9000 images belonging to 10 classes.\n",
            "Found 999 images belonging to 10 classes.\n",
            "Epoch 1/15\n",
            "282/282 [==============================] - 254s 891ms/step - loss: 1.1256 - acc: 0.6434 - val_loss: 0.7257 - val_acc: 0.7638 - _timestamp: 1648633952.0000 - _runtime: 267.0000\n",
            "Epoch 2/15\n",
            "282/282 [==============================] - 252s 895ms/step - loss: 0.7501 - acc: 0.7536 - val_loss: 0.6307 - val_acc: 0.7938 - _timestamp: 1648634205.0000 - _runtime: 520.0000\n",
            "Epoch 3/15\n",
            "282/282 [==============================] - 250s 886ms/step - loss: 0.6103 - acc: 0.7986 - val_loss: 0.6284 - val_acc: 0.7938 - _timestamp: 1648634454.0000 - _runtime: 769.0000\n",
            "Epoch 4/15\n",
            "282/282 [==============================] - 248s 879ms/step - loss: 0.5019 - acc: 0.8309 - val_loss: 0.6441 - val_acc: 0.8068 - _timestamp: 1648634705.0000 - _runtime: 1020.0000\n",
            "Epoch 5/15\n",
            "282/282 [==============================] - 246s 873ms/step - loss: 0.4186 - acc: 0.8611 - val_loss: 0.7282 - val_acc: 0.7888 - _timestamp: 1648634951.0000 - _runtime: 1266.0000\n",
            "Epoch 6/15\n",
            "282/282 [==============================] - 246s 873ms/step - loss: 0.3671 - acc: 0.8776 - val_loss: 0.7445 - val_acc: 0.7898 - _timestamp: 1648635197.0000 - _runtime: 1512.0000\n",
            "Epoch 7/15\n",
            "282/282 [==============================] - 246s 870ms/step - loss: 0.3151 - acc: 0.8949 - val_loss: 0.8601 - val_acc: 0.7978 - _timestamp: 1648635443.0000 - _runtime: 1758.0000\n",
            "Epoch 8/15\n",
            "282/282 [==============================] - 245s 869ms/step - loss: 0.2649 - acc: 0.9101 - val_loss: 0.9184 - val_acc: 0.7948 - _timestamp: 1648635688.0000 - _runtime: 2003.0000\n",
            "Epoch 9/15\n",
            "282/282 [==============================] - 246s 871ms/step - loss: 0.2366 - acc: 0.9206 - val_loss: 0.8597 - val_acc: 0.7988 - _timestamp: 1648635934.0000 - _runtime: 2249.0000\n",
            "Epoch 10/15\n",
            "282/282 [==============================] - 247s 874ms/step - loss: 0.1972 - acc: 0.9368 - val_loss: 0.9226 - val_acc: 0.8038 - _timestamp: 1648636180.0000 - _runtime: 2495.0000\n",
            "Epoch 11/15\n",
            "282/282 [==============================] - 247s 877ms/step - loss: 0.1876 - acc: 0.9364 - val_loss: 1.0221 - val_acc: 0.8098 - _timestamp: 1648636428.0000 - _runtime: 2743.0000\n",
            "Epoch 12/15\n",
            "282/282 [==============================] - 247s 876ms/step - loss: 0.1682 - acc: 0.9446 - val_loss: 0.9485 - val_acc: 0.8118 - _timestamp: 1648636675.0000 - _runtime: 2990.0000\n",
            "Epoch 13/15\n",
            "282/282 [==============================] - 247s 874ms/step - loss: 0.1350 - acc: 0.9558 - val_loss: 0.9263 - val_acc: 0.8068 - _timestamp: 1648636921.0000 - _runtime: 3236.0000\n",
            "Epoch 14/15\n",
            "282/282 [==============================] - 247s 875ms/step - loss: 0.1232 - acc: 0.9591 - val_loss: 1.1533 - val_acc: 0.7728 - _timestamp: 1648637168.0000 - _runtime: 3483.0000\n",
            "Epoch 15/15\n",
            "282/282 [==============================] - 246s 871ms/step - loss: 0.1207 - acc: 0.9607 - val_loss: 0.9081 - val_acc: 0.8108 - _timestamp: 1648637414.0000 - _runtime: 3729.0000\n",
            "\n"
          ]
        },
        {
          "data": {
            "text/html": [
              "Waiting for W&B process to finish... <strong style=\"color:green\">(success).</strong>"
            ],
            "text/plain": [
              "<IPython.core.display.HTML object>"
            ]
          },
          "metadata": {},
          "output_type": "display_data"
        },
        {
          "data": {
            "application/vnd.jupyter.widget-view+json": {
              "model_id": "0eb94cdd67dd4d0d8c49e54ad436865e",
              "version_major": 2,
              "version_minor": 0
            },
            "text/plain": [
              "VBox(children=(Label(value='156.449 MB of 156.449 MB uploaded (0.000 MB deduped)\\r'), FloatProgress(value=1.0,…"
            ]
          },
          "metadata": {},
          "output_type": "display_data"
        },
        {
          "data": {
            "text/html": [
              "<style>\n",
              "    table.wandb td:nth-child(1) { padding: 0 10px; text-align: right }\n",
              "    .wandb-row { display: flex; flex-direction: row; flex-wrap: wrap; width: 100% }\n",
              "    .wandb-col { display: flex; flex-direction: column; flex-basis: 100%; flex: 1; padding: 10px; }\n",
              "    </style>\n",
              "<div class=\"wandb-row\"><div class=\"wandb-col\"><h3>Run history:</h3><br/><table class=\"wandb\"><tr><td>acc</td><td>▁▃▄▅▆▆▇▇▇▇▇████</td></tr><tr><td>epoch</td><td>▁▁▂▃▃▃▄▅▅▅▆▇▇▇█</td></tr><tr><td>loss</td><td>█▅▄▄▃▃▂▂▂▂▁▁▁▁▁</td></tr><tr><td>val_acc</td><td>▁▅▅▇▅▅▆▆▆▇██▇▂█</td></tr><tr><td>val_loss</td><td>▂▁▁▁▂▃▄▅▄▅▆▅▅█▅</td></tr></table><br/></div><div class=\"wandb-col\"><h3>Run summary:</h3><br/><table class=\"wandb\"><tr><td>acc</td><td>0.96067</td></tr><tr><td>best_epoch</td><td>2</td></tr><tr><td>best_val_loss</td><td>0.62841</td></tr><tr><td>epoch</td><td>14</td></tr><tr><td>loss</td><td>0.12066</td></tr><tr><td>val_acc</td><td>0.81081</td></tr><tr><td>val_loss</td><td>0.90814</td></tr></table><br/></div></div>"
            ],
            "text/plain": [
              "<IPython.core.display.HTML object>"
            ]
          },
          "metadata": {},
          "output_type": "display_data"
        },
        {
          "data": {
            "text/html": [
              "Synced <strong style=\"color:#cdcd00\">divine-sweep-11</strong>: <a href=\"https://wandb.ai/safi-vamsi-cs6910/Assignment%202/runs/w69fl41x\" target=\"_blank\">https://wandb.ai/safi-vamsi-cs6910/Assignment%202/runs/w69fl41x</a><br/>Synced 5 W&B file(s), 1 media file(s), 0 artifact file(s) and 1 other file(s)"
            ],
            "text/plain": [
              "<IPython.core.display.HTML object>"
            ]
          },
          "metadata": {},
          "output_type": "display_data"
        },
        {
          "data": {
            "text/html": [
              "Find logs at: <code>./wandb/run-20220330_094805-w69fl41x/logs</code>"
            ],
            "text/plain": [
              "<IPython.core.display.HTML object>"
            ]
          },
          "metadata": {},
          "output_type": "display_data"
        },
        {
          "metadata": {
            "tags": null
          },
          "name": "stderr",
          "output_type": "stream",
          "text": [
            "\u001b[34m\u001b[1mwandb\u001b[0m: Agent Starting Run: kmadpiqm with config:\n",
            "\u001b[34m\u001b[1mwandb\u001b[0m: \tbatch_size: 64\n",
            "\u001b[34m\u001b[1mwandb\u001b[0m: \tdata_augmentation: True\n",
            "\u001b[34m\u001b[1mwandb\u001b[0m: \tdense_layer: 512\n",
            "\u001b[34m\u001b[1mwandb\u001b[0m: \tdropout: 0\n",
            "\u001b[34m\u001b[1mwandb\u001b[0m: \tmodel_name: Xception\n",
            "\u001b[34m\u001b[1mwandb\u001b[0m: \tnum_epochs: 15\n",
            "\u001b[34m\u001b[1mwandb\u001b[0m: \ttrainable_layers: 20\n"
          ]
        },
        {
          "data": {
            "text/html": [
              "Tracking run with wandb version 0.12.11"
            ],
            "text/plain": [
              "<IPython.core.display.HTML object>"
            ]
          },
          "metadata": {},
          "output_type": "display_data"
        },
        {
          "data": {
            "text/html": [
              "Run data is saved locally in <code>/content/wandb/run-20220330_105035-kmadpiqm</code>"
            ],
            "text/plain": [
              "<IPython.core.display.HTML object>"
            ]
          },
          "metadata": {},
          "output_type": "display_data"
        },
        {
          "data": {
            "text/html": [
              "Syncing run <strong><a href=\"https://wandb.ai/safi-vamsi-cs6910/Assignment%202/runs/kmadpiqm\" target=\"_blank\">rose-sweep-12</a></strong> to <a href=\"https://wandb.ai/safi-vamsi-cs6910/Assignment%202\" target=\"_blank\">Weights & Biases</a> (<a href=\"https://wandb.me/run\" target=\"_blank\">docs</a>)<br/>Sweep page:  <a href=\"https://wandb.ai/safi-vamsi-cs6910/Assignment%202/sweeps/rrfukwss\" target=\"_blank\">https://wandb.ai/safi-vamsi-cs6910/Assignment%202/sweeps/rrfukwss</a>"
            ],
            "text/plain": [
              "<IPython.core.display.HTML object>"
            ]
          },
          "metadata": {},
          "output_type": "display_data"
        },
        {
          "metadata": {
            "tags": null
          },
          "name": "stdout",
          "output_type": "stream",
          "text": [
            "Found 9000 images belonging to 10 classes.\n",
            "Found 999 images belonging to 10 classes.\n",
            "Epoch 1/15\n",
            "282/282 [==============================] - 256s 896ms/step - loss: 1.1124 - acc: 0.6517 - val_loss: 0.7465 - val_acc: 0.7798 - _timestamp: 1648637701.0000 - _runtime: 266.0000\n",
            "Epoch 2/15\n",
            "282/282 [==============================] - 265s 938ms/step - loss: 0.6996 - acc: 0.7674 - val_loss: 0.7290 - val_acc: 0.7698 - _timestamp: 1648637967.0000 - _runtime: 532.0000\n",
            "Epoch 3/15\n",
            "282/282 [==============================] - 261s 925ms/step - loss: 0.5626 - acc: 0.8098 - val_loss: 0.6150 - val_acc: 0.7988 - _timestamp: 1648638227.0000 - _runtime: 792.0000\n",
            "Epoch 4/15\n",
            "282/282 [==============================] - 254s 900ms/step - loss: 0.4542 - acc: 0.8460 - val_loss: 0.6507 - val_acc: 0.7938 - _timestamp: 1648638486.0000 - _runtime: 1051.0000\n",
            "Epoch 5/15\n",
            "282/282 [==============================] - 244s 866ms/step - loss: 0.3612 - acc: 0.8774 - val_loss: 0.6793 - val_acc: 0.8088 - _timestamp: 1648638730.0000 - _runtime: 1295.0000\n",
            "Epoch 6/15\n",
            "282/282 [==============================] - 245s 868ms/step - loss: 0.3088 - acc: 0.8946 - val_loss: 0.6948 - val_acc: 0.8098 - _timestamp: 1648638975.0000 - _runtime: 1540.0000\n",
            "Epoch 7/15\n",
            "282/282 [==============================] - 246s 873ms/step - loss: 0.2748 - acc: 0.9106 - val_loss: 0.7419 - val_acc: 0.8138 - _timestamp: 1648639221.0000 - _runtime: 1786.0000\n",
            "Epoch 8/15\n",
            "282/282 [==============================] - 246s 871ms/step - loss: 0.2335 - acc: 0.9204 - val_loss: 0.8491 - val_acc: 0.7878 - _timestamp: 1648639467.0000 - _runtime: 2032.0000\n",
            "Epoch 9/15\n",
            "282/282 [==============================] - 245s 869ms/step - loss: 0.1949 - acc: 0.9340 - val_loss: 0.9143 - val_acc: 0.8038 - _timestamp: 1648639712.0000 - _runtime: 2277.0000\n",
            "Epoch 10/15\n",
            "282/282 [==============================] - 245s 869ms/step - loss: 0.1683 - acc: 0.9442 - val_loss: 0.8285 - val_acc: 0.8118 - _timestamp: 1648639957.0000 - _runtime: 2522.0000\n",
            "Epoch 11/15\n",
            "282/282 [==============================] - 245s 868ms/step - loss: 0.1555 - acc: 0.9506 - val_loss: 0.8623 - val_acc: 0.8148 - _timestamp: 1648640202.0000 - _runtime: 2767.0000\n",
            "Epoch 12/15\n",
            "282/282 [==============================] - 245s 867ms/step - loss: 0.1387 - acc: 0.9526 - val_loss: 0.9922 - val_acc: 0.8088 - _timestamp: 1648640447.0000 - _runtime: 3012.0000\n",
            "Epoch 13/15\n",
            "282/282 [==============================] - 245s 868ms/step - loss: 0.1333 - acc: 0.9537 - val_loss: 0.9657 - val_acc: 0.8008 - _timestamp: 1648640692.0000 - _runtime: 3257.0000\n",
            "Epoch 14/15\n",
            "282/282 [==============================] - 244s 866ms/step - loss: 0.1052 - acc: 0.9657 - val_loss: 0.9318 - val_acc: 0.8208 - _timestamp: 1648640936.0000 - _runtime: 3501.0000\n",
            "Epoch 15/15\n",
            "282/282 [==============================] - 244s 866ms/step - loss: 0.1018 - acc: 0.9663 - val_loss: 0.9813 - val_acc: 0.8078 - _timestamp: 1648641180.0000 - _runtime: 3745.0000\n",
            "\n"
          ]
        },
        {
          "data": {
            "text/html": [
              "Waiting for W&B process to finish... <strong style=\"color:green\">(success).</strong>"
            ],
            "text/plain": [
              "<IPython.core.display.HTML object>"
            ]
          },
          "metadata": {},
          "output_type": "display_data"
        },
        {
          "data": {
            "application/vnd.jupyter.widget-view+json": {
              "model_id": "359dcb45a5474839b611ff98ae7641f9",
              "version_major": 2,
              "version_minor": 0
            },
            "text/plain": [
              "VBox(children=(Label(value='335.859 MB of 335.859 MB uploaded (0.000 MB deduped)\\r'), FloatProgress(value=1.0,…"
            ]
          },
          "metadata": {},
          "output_type": "display_data"
        },
        {
          "data": {
            "text/html": [
              "<style>\n",
              "    table.wandb td:nth-child(1) { padding: 0 10px; text-align: right }\n",
              "    .wandb-row { display: flex; flex-direction: row; flex-wrap: wrap; width: 100% }\n",
              "    .wandb-col { display: flex; flex-direction: column; flex-basis: 100%; flex: 1; padding: 10px; }\n",
              "    </style>\n",
              "<div class=\"wandb-row\"><div class=\"wandb-col\"><h3>Run history:</h3><br/><table class=\"wandb\"><tr><td>acc</td><td>▁▄▅▅▆▆▇▇▇██████</td></tr><tr><td>epoch</td><td>▁▁▂▃▃▃▄▅▅▅▆▇▇▇█</td></tr><tr><td>loss</td><td>█▅▄▃▃▂▂▂▂▁▁▁▁▁▁</td></tr><tr><td>val_acc</td><td>▂▁▅▄▆▆▇▃▆▇▇▆▅█▆</td></tr><tr><td>val_loss</td><td>▃▃▁▂▂▂▃▅▇▅▆██▇█</td></tr></table><br/></div><div class=\"wandb-col\"><h3>Run summary:</h3><br/><table class=\"wandb\"><tr><td>acc</td><td>0.96633</td></tr><tr><td>best_epoch</td><td>2</td></tr><tr><td>best_val_loss</td><td>0.61503</td></tr><tr><td>epoch</td><td>14</td></tr><tr><td>loss</td><td>0.10182</td></tr><tr><td>val_acc</td><td>0.80781</td></tr><tr><td>val_loss</td><td>0.98134</td></tr></table><br/></div></div>"
            ],
            "text/plain": [
              "<IPython.core.display.HTML object>"
            ]
          },
          "metadata": {},
          "output_type": "display_data"
        },
        {
          "data": {
            "text/html": [
              "Synced <strong style=\"color:#cdcd00\">rose-sweep-12</strong>: <a href=\"https://wandb.ai/safi-vamsi-cs6910/Assignment%202/runs/kmadpiqm\" target=\"_blank\">https://wandb.ai/safi-vamsi-cs6910/Assignment%202/runs/kmadpiqm</a><br/>Synced 5 W&B file(s), 1 media file(s), 0 artifact file(s) and 1 other file(s)"
            ],
            "text/plain": [
              "<IPython.core.display.HTML object>"
            ]
          },
          "metadata": {},
          "output_type": "display_data"
        },
        {
          "data": {
            "text/html": [
              "Find logs at: <code>./wandb/run-20220330_105035-kmadpiqm/logs</code>"
            ],
            "text/plain": [
              "<IPython.core.display.HTML object>"
            ]
          },
          "metadata": {},
          "output_type": "display_data"
        },
        {
          "metadata": {
            "tags": null
          },
          "name": "stderr",
          "output_type": "stream",
          "text": [
            "\u001b[34m\u001b[1mwandb\u001b[0m: Agent Starting Run: xumot8yj with config:\n",
            "\u001b[34m\u001b[1mwandb\u001b[0m: \tbatch_size: 64\n",
            "\u001b[34m\u001b[1mwandb\u001b[0m: \tdata_augmentation: False\n",
            "\u001b[34m\u001b[1mwandb\u001b[0m: \tdense_layer: 512\n",
            "\u001b[34m\u001b[1mwandb\u001b[0m: \tdropout: 0.2\n",
            "\u001b[34m\u001b[1mwandb\u001b[0m: \tmodel_name: Xception\n",
            "\u001b[34m\u001b[1mwandb\u001b[0m: \tnum_epochs: 15\n",
            "\u001b[34m\u001b[1mwandb\u001b[0m: \ttrainable_layers: 20\n"
          ]
        },
        {
          "data": {
            "text/html": [
              "Tracking run with wandb version 0.12.11"
            ],
            "text/plain": [
              "<IPython.core.display.HTML object>"
            ]
          },
          "metadata": {},
          "output_type": "display_data"
        },
        {
          "data": {
            "text/html": [
              "Run data is saved locally in <code>/content/wandb/run-20220330_115348-xumot8yj</code>"
            ],
            "text/plain": [
              "<IPython.core.display.HTML object>"
            ]
          },
          "metadata": {},
          "output_type": "display_data"
        },
        {
          "data": {
            "text/html": [
              "Syncing run <strong><a href=\"https://wandb.ai/safi-vamsi-cs6910/Assignment%202/runs/xumot8yj\" target=\"_blank\">wise-sweep-13</a></strong> to <a href=\"https://wandb.ai/safi-vamsi-cs6910/Assignment%202\" target=\"_blank\">Weights & Biases</a> (<a href=\"https://wandb.me/run\" target=\"_blank\">docs</a>)<br/>Sweep page:  <a href=\"https://wandb.ai/safi-vamsi-cs6910/Assignment%202/sweeps/rrfukwss\" target=\"_blank\">https://wandb.ai/safi-vamsi-cs6910/Assignment%202/sweeps/rrfukwss</a>"
            ],
            "text/plain": [
              "<IPython.core.display.HTML object>"
            ]
          },
          "metadata": {},
          "output_type": "display_data"
        },
        {
          "output_type": "stream",
          "name": "stdout",
          "text": [
            "Found 9000 images belonging to 10 classes.\n",
            "Found 999 images belonging to 10 classes.\n",
            "Epoch 1/15\n",
            "282/282 [==============================] - 156s 545ms/step - loss: 0.8942 - acc: 0.7172 - val_loss: 0.6634 - val_acc: 0.7908 - _timestamp: 1648641395.0000 - _runtime: 167.0000\n",
            "Epoch 2/15\n",
            "282/282 [==============================] - 159s 565ms/step - loss: 0.4079 - acc: 0.8677 - val_loss: 0.6814 - val_acc: 0.7928 - _timestamp: 1648641606.0000 - _runtime: 378.0000\n",
            "Epoch 3/15\n",
            "282/282 [==============================] - 141s 498ms/step - loss: 0.1505 - acc: 0.9498 - val_loss: 0.8412 - val_acc: 0.7838 - _timestamp: 1648641747.0000 - _runtime: 519.0000\n",
            "Epoch 4/15\n",
            "282/282 [==============================] - 139s 493ms/step - loss: 0.0782 - acc: 0.9751 - val_loss: 1.0550 - val_acc: 0.7718 - _timestamp: 1648641886.0000 - _runtime: 658.0000\n",
            "Epoch 5/15\n",
            "282/282 [==============================] - 140s 496ms/step - loss: 0.0488 - acc: 0.9847 - val_loss: 1.0592 - val_acc: 0.7998 - _timestamp: 1648642026.0000 - _runtime: 798.0000\n",
            "Epoch 6/15\n",
            "282/282 [==============================] - 140s 495ms/step - loss: 0.0337 - acc: 0.9904 - val_loss: 1.1688 - val_acc: 0.7868 - _timestamp: 1648642165.0000 - _runtime: 937.0000\n",
            "Epoch 7/15\n",
            "282/282 [==============================] - 141s 499ms/step - loss: 0.0350 - acc: 0.9891 - val_loss: 1.2412 - val_acc: 0.7718 - _timestamp: 1648642306.0000 - _runtime: 1078.0000\n",
            "Epoch 8/15\n",
            "282/282 [==============================] - 140s 497ms/step - loss: 0.0333 - acc: 0.9911 - val_loss: 1.1953 - val_acc: 0.7828 - _timestamp: 1648642446.0000 - _runtime: 1218.0000\n",
            "Epoch 9/15\n",
            "282/282 [==============================] - 140s 497ms/step - loss: 0.0222 - acc: 0.9942 - val_loss: 1.4053 - val_acc: 0.7938 - _timestamp: 1648642586.0000 - _runtime: 1358.0000\n",
            "Epoch 10/15\n",
            "282/282 [==============================] - 140s 495ms/step - loss: 0.0222 - acc: 0.9937 - val_loss: 1.2536 - val_acc: 0.7888 - _timestamp: 1648642726.0000 - _runtime: 1498.0000\n",
            "Epoch 11/15\n",
            "282/282 [==============================] - 140s 495ms/step - loss: 0.0234 - acc: 0.9924 - val_loss: 1.3369 - val_acc: 0.7768 - _timestamp: 1648642866.0000 - _runtime: 1638.0000\n",
            "Epoch 12/15\n",
            "282/282 [==============================] - 139s 492ms/step - loss: 0.0252 - acc: 0.9922 - val_loss: 1.4898 - val_acc: 0.7898 - _timestamp: 1648643004.0000 - _runtime: 1776.0000\n",
            "Epoch 13/15\n",
            "282/282 [==============================] - 139s 492ms/step - loss: 0.0242 - acc: 0.9937 - val_loss: 1.4572 - val_acc: 0.7878 - _timestamp: 1648643143.0000 - _runtime: 1915.0000\n",
            "Epoch 14/15\n",
            "282/282 [==============================] - 139s 494ms/step - loss: 0.0196 - acc: 0.9947 - val_loss: 1.3159 - val_acc: 0.7948 - _timestamp: 1648643283.0000 - _runtime: 2055.0000\n",
            "Epoch 15/15\n",
            "282/282 [==============================] - 139s 493ms/step - loss: 0.0237 - acc: 0.9946 - val_loss: 1.3033 - val_acc: 0.7738 - _timestamp: 1648643422.0000 - _runtime: 2194.0000\n",
            "\n"
          ]
        },
        {
          "output_type": "display_data",
          "data": {
            "text/plain": [
              "<IPython.core.display.HTML object>"
            ],
            "text/html": [
              "Waiting for W&B process to finish... <strong style=\"color:green\">(success).</strong>"
            ]
          },
          "metadata": {}
        },
        {
          "output_type": "display_data",
          "data": {
            "text/plain": [
              "VBox(children=(Label(value='0.002 MB of 0.002 MB uploaded (0.000 MB deduped)\\r'), FloatProgress(value=1.0, max…"
            ],
            "application/vnd.jupyter.widget-view+json": {
              "version_major": 2,
              "version_minor": 0,
              "model_id": "583bb63129ea48ed949278a5989fbaaf"
            }
          },
          "metadata": {}
        },
        {
          "output_type": "display_data",
          "data": {
            "text/plain": [
              "<IPython.core.display.HTML object>"
            ],
            "text/html": [
              "<style>\n",
              "    table.wandb td:nth-child(1) { padding: 0 10px; text-align: right }\n",
              "    .wandb-row { display: flex; flex-direction: row; flex-wrap: wrap; width: 100% }\n",
              "    .wandb-col { display: flex; flex-direction: column; flex-basis: 100%; flex: 1; padding: 10px; }\n",
              "    </style>\n",
              "<div class=\"wandb-row\"><div class=\"wandb-col\"><h3>Run history:</h3><br/><table class=\"wandb\"><tr><td>acc</td><td>▁▅▇████████████</td></tr><tr><td>epoch</td><td>▁▁▂▃▃▃▄▅▅▅▆▇▇▇█</td></tr><tr><td>loss</td><td>█▄▂▁▁▁▁▁▁▁▁▁▁▁▁</td></tr><tr><td>val_acc</td><td>▆▆▄▁█▅▁▄▇▅▂▅▅▇▁</td></tr><tr><td>val_loss</td><td>▁▁▃▄▄▅▆▆▇▆▇██▇▆</td></tr></table><br/></div><div class=\"wandb-col\"><h3>Run summary:</h3><br/><table class=\"wandb\"><tr><td>acc</td><td>0.99456</td></tr><tr><td>best_epoch</td><td>0</td></tr><tr><td>best_val_loss</td><td>0.66338</td></tr><tr><td>epoch</td><td>14</td></tr><tr><td>loss</td><td>0.02366</td></tr><tr><td>val_acc</td><td>0.77377</td></tr><tr><td>val_loss</td><td>1.30332</td></tr></table><br/></div></div>"
            ]
          },
          "metadata": {}
        },
        {
          "output_type": "display_data",
          "data": {
            "text/plain": [
              "<IPython.core.display.HTML object>"
            ],
            "text/html": [
              "Synced <strong style=\"color:#cdcd00\">wise-sweep-13</strong>: <a href=\"https://wandb.ai/safi-vamsi-cs6910/Assignment%202/runs/xumot8yj\" target=\"_blank\">https://wandb.ai/safi-vamsi-cs6910/Assignment%202/runs/xumot8yj</a><br/>Synced 5 W&B file(s), 1 media file(s), 0 artifact file(s) and 1 other file(s)"
            ]
          },
          "metadata": {}
        },
        {
          "output_type": "display_data",
          "data": {
            "text/plain": [
              "<IPython.core.display.HTML object>"
            ],
            "text/html": [
              "Find logs at: <code>./wandb/run-20220330_115348-xumot8yj/logs</code>"
            ]
          },
          "metadata": {}
        },
        {
          "output_type": "stream",
          "name": "stderr",
          "text": [
            "\u001b[34m\u001b[1mwandb\u001b[0m: Sweep Agent: Waiting for job.\n",
            "\u001b[34m\u001b[1mwandb\u001b[0m: Job received.\n",
            "\u001b[34m\u001b[1mwandb\u001b[0m: Agent Starting Run: sy9vqey9 with config:\n",
            "\u001b[34m\u001b[1mwandb\u001b[0m: \tbatch_size: 64\n",
            "\u001b[34m\u001b[1mwandb\u001b[0m: \tdata_augmentation: True\n",
            "\u001b[34m\u001b[1mwandb\u001b[0m: \tdense_layer: 256\n",
            "\u001b[34m\u001b[1mwandb\u001b[0m: \tdropout: 0.2\n",
            "\u001b[34m\u001b[1mwandb\u001b[0m: \tmodel_name: Xception\n",
            "\u001b[34m\u001b[1mwandb\u001b[0m: \tnum_epochs: 15\n",
            "\u001b[34m\u001b[1mwandb\u001b[0m: \ttrainable_layers: 20\n"
          ]
        },
        {
          "output_type": "display_data",
          "data": {
            "text/plain": [
              "<IPython.core.display.HTML object>"
            ],
            "text/html": [
              "Tracking run with wandb version 0.12.11"
            ]
          },
          "metadata": {}
        },
        {
          "output_type": "display_data",
          "data": {
            "text/plain": [
              "<IPython.core.display.HTML object>"
            ],
            "text/html": [
              "Run data is saved locally in <code>/content/wandb/run-20220330_123102-sy9vqey9</code>"
            ]
          },
          "metadata": {}
        },
        {
          "output_type": "display_data",
          "data": {
            "text/plain": [
              "<IPython.core.display.HTML object>"
            ],
            "text/html": [
              "Syncing run <strong><a href=\"https://wandb.ai/safi-vamsi-cs6910/Assignment%202/runs/sy9vqey9\" target=\"_blank\">genial-sweep-14</a></strong> to <a href=\"https://wandb.ai/safi-vamsi-cs6910/Assignment%202\" target=\"_blank\">Weights & Biases</a> (<a href=\"https://wandb.me/run\" target=\"_blank\">docs</a>)<br/>Sweep page:  <a href=\"https://wandb.ai/safi-vamsi-cs6910/Assignment%202/sweeps/rrfukwss\" target=\"_blank\">https://wandb.ai/safi-vamsi-cs6910/Assignment%202/sweeps/rrfukwss</a>"
            ]
          },
          "metadata": {}
        },
        {
          "output_type": "stream",
          "name": "stdout",
          "text": [
            "Found 9000 images belonging to 10 classes.\n",
            "Found 999 images belonging to 10 classes.\n",
            "Epoch 1/15\n",
            "282/282 [==============================] - 259s 907ms/step - loss: 1.1057 - acc: 0.6431 - val_loss: 0.7545 - val_acc: 0.7678 - _timestamp: 1648643732.0000 - _runtime: 270.0000\n",
            "Epoch 2/15\n",
            "282/282 [==============================] - 253s 896ms/step - loss: 0.7321 - acc: 0.7639 - val_loss: 0.6401 - val_acc: 0.7908 - _timestamp: 1648643991.0000 - _runtime: 529.0000\n",
            "Epoch 3/15\n",
            "282/282 [==============================] - 250s 887ms/step - loss: 0.5998 - acc: 0.7999 - val_loss: 0.7740 - val_acc: 0.7588 - _timestamp: 1648644244.0000 - _runtime: 782.0000\n",
            "Epoch 4/15\n",
            "282/282 [==============================] - 246s 873ms/step - loss: 0.4993 - acc: 0.8331 - val_loss: 0.6492 - val_acc: 0.8168 - _timestamp: 1648644490.0000 - _runtime: 1028.0000\n",
            "Epoch 5/15\n",
            "282/282 [==============================] - 246s 874ms/step - loss: 0.4261 - acc: 0.8587 - val_loss: 0.7352 - val_acc: 0.7888 - _timestamp: 1648644737.0000 - _runtime: 1275.0000\n",
            "Epoch 6/15\n",
            "282/282 [==============================] - 245s 869ms/step - loss: 0.3538 - acc: 0.8832 - val_loss: 0.7318 - val_acc: 0.8008 - _timestamp: 1648644982.0000 - _runtime: 1520.0000\n",
            "Epoch 7/15\n",
            "282/282 [==============================] - 246s 871ms/step - loss: 0.3072 - acc: 0.8970 - val_loss: 0.7618 - val_acc: 0.8048 - _timestamp: 1648645227.0000 - _runtime: 1765.0000\n",
            "Epoch 8/15\n",
            "282/282 [==============================] - 245s 870ms/step - loss: 0.2587 - acc: 0.9131 - val_loss: 0.7772 - val_acc: 0.8228 - _timestamp: 1648645473.0000 - _runtime: 2011.0000\n",
            "Epoch 9/15\n",
            "282/282 [==============================] - 245s 870ms/step - loss: 0.2301 - acc: 0.9247 - val_loss: 0.8281 - val_acc: 0.8138 - _timestamp: 1648645718.0000 - _runtime: 2256.0000\n",
            "Epoch 10/15\n",
            "282/282 [==============================] - 246s 871ms/step - loss: 0.2029 - acc: 0.9324 - val_loss: 0.8215 - val_acc: 0.8088 - _timestamp: 1648645964.0000 - _runtime: 2502.0000\n",
            "Epoch 11/15\n",
            "282/282 [==============================] - 245s 868ms/step - loss: 0.1868 - acc: 0.9367 - val_loss: 0.8700 - val_acc: 0.8108 - _timestamp: 1648646209.0000 - _runtime: 2747.0000\n",
            "Epoch 12/15\n",
            "282/282 [==============================] - 245s 869ms/step - loss: 0.1611 - acc: 0.9482 - val_loss: 0.8814 - val_acc: 0.8148 - _timestamp: 1648646454.0000 - _runtime: 2992.0000\n",
            "Epoch 13/15\n",
            "282/282 [==============================] - 246s 871ms/step - loss: 0.1422 - acc: 0.9536 - val_loss: 0.8729 - val_acc: 0.8218 - _timestamp: 1648646716.0000 - _runtime: 3254.0000\n",
            "Epoch 14/15\n",
            "282/282 [==============================] - 247s 876ms/step - loss: 0.1158 - acc: 0.9619 - val_loss: 0.9893 - val_acc: 0.8178 - _timestamp: 1648646964.0000 - _runtime: 3502.0000\n",
            "Epoch 15/15\n",
            "282/282 [==============================] - 247s 874ms/step - loss: 0.1214 - acc: 0.9594 - val_loss: 0.9002 - val_acc: 0.8218 - _timestamp: 1648647210.0000 - _runtime: 3748.0000\n",
            "\n"
          ]
        },
        {
          "output_type": "display_data",
          "data": {
            "text/plain": [
              "<IPython.core.display.HTML object>"
            ],
            "text/html": [
              "Waiting for W&B process to finish... <strong style=\"color:green\">(success).</strong>"
            ]
          },
          "metadata": {}
        },
        {
          "output_type": "display_data",
          "data": {
            "text/plain": [
              "VBox(children=(Label(value='207.849 MB of 207.849 MB uploaded (0.000 MB deduped)\\r'), FloatProgress(value=1.0,…"
            ],
            "application/vnd.jupyter.widget-view+json": {
              "version_major": 2,
              "version_minor": 0,
              "model_id": "a9d7edd4b2c44e559db4b00046ed8b81"
            }
          },
          "metadata": {}
        },
        {
          "output_type": "display_data",
          "data": {
            "text/plain": [
              "<IPython.core.display.HTML object>"
            ],
            "text/html": [
              "<style>\n",
              "    table.wandb td:nth-child(1) { padding: 0 10px; text-align: right }\n",
              "    .wandb-row { display: flex; flex-direction: row; flex-wrap: wrap; width: 100% }\n",
              "    .wandb-col { display: flex; flex-direction: column; flex-basis: 100%; flex: 1; padding: 10px; }\n",
              "    </style>\n",
              "<div class=\"wandb-row\"><div class=\"wandb-col\"><h3>Run history:</h3><br/><table class=\"wandb\"><tr><td>acc</td><td>▁▄▄▅▆▆▇▇▇▇▇████</td></tr><tr><td>epoch</td><td>▁▁▂▃▃▃▄▅▅▅▆▇▇▇█</td></tr><tr><td>loss</td><td>█▅▄▄▃▃▂▂▂▂▂▁▁▁▁</td></tr><tr><td>val_acc</td><td>▂▅▁▇▄▆▆█▇▆▇▇█▇█</td></tr><tr><td>val_loss</td><td>▃▁▄▁▃▃▃▄▅▅▆▆▆█▆</td></tr></table><br/></div><div class=\"wandb-col\"><h3>Run summary:</h3><br/><table class=\"wandb\"><tr><td>acc</td><td>0.95944</td></tr><tr><td>best_epoch</td><td>1</td></tr><tr><td>best_val_loss</td><td>0.64006</td></tr><tr><td>epoch</td><td>14</td></tr><tr><td>loss</td><td>0.12137</td></tr><tr><td>val_acc</td><td>0.82182</td></tr><tr><td>val_loss</td><td>0.90024</td></tr></table><br/></div></div>"
            ]
          },
          "metadata": {}
        },
        {
          "output_type": "display_data",
          "data": {
            "text/plain": [
              "<IPython.core.display.HTML object>"
            ],
            "text/html": [
              "Synced <strong style=\"color:#cdcd00\">genial-sweep-14</strong>: <a href=\"https://wandb.ai/safi-vamsi-cs6910/Assignment%202/runs/sy9vqey9\" target=\"_blank\">https://wandb.ai/safi-vamsi-cs6910/Assignment%202/runs/sy9vqey9</a><br/>Synced 5 W&B file(s), 1 media file(s), 0 artifact file(s) and 1 other file(s)"
            ]
          },
          "metadata": {}
        },
        {
          "output_type": "display_data",
          "data": {
            "text/plain": [
              "<IPython.core.display.HTML object>"
            ],
            "text/html": [
              "Find logs at: <code>./wandb/run-20220330_123102-sy9vqey9/logs</code>"
            ]
          },
          "metadata": {}
        },
        {
          "output_type": "stream",
          "name": "stderr",
          "text": [
            "\u001b[34m\u001b[1mwandb\u001b[0m: Agent Starting Run: fbwwhsxc with config:\n",
            "\u001b[34m\u001b[1mwandb\u001b[0m: \tbatch_size: 64\n",
            "\u001b[34m\u001b[1mwandb\u001b[0m: \tdata_augmentation: False\n",
            "\u001b[34m\u001b[1mwandb\u001b[0m: \tdense_layer: 64\n",
            "\u001b[34m\u001b[1mwandb\u001b[0m: \tdropout: 0.3\n",
            "\u001b[34m\u001b[1mwandb\u001b[0m: \tmodel_name: Xception\n",
            "\u001b[34m\u001b[1mwandb\u001b[0m: \tnum_epochs: 15\n",
            "\u001b[34m\u001b[1mwandb\u001b[0m: \ttrainable_layers: 20\n"
          ]
        },
        {
          "output_type": "display_data",
          "data": {
            "text/plain": [
              "<IPython.core.display.HTML object>"
            ],
            "text/html": [
              "Tracking run with wandb version 0.12.11"
            ]
          },
          "metadata": {}
        },
        {
          "output_type": "display_data",
          "data": {
            "text/plain": [
              "<IPython.core.display.HTML object>"
            ],
            "text/html": [
              "Run data is saved locally in <code>/content/wandb/run-20220330_133406-fbwwhsxc</code>"
            ]
          },
          "metadata": {}
        },
        {
          "output_type": "display_data",
          "data": {
            "text/plain": [
              "<IPython.core.display.HTML object>"
            ],
            "text/html": [
              "Syncing run <strong><a href=\"https://wandb.ai/safi-vamsi-cs6910/Assignment%202/runs/fbwwhsxc\" target=\"_blank\">stellar-sweep-15</a></strong> to <a href=\"https://wandb.ai/safi-vamsi-cs6910/Assignment%202\" target=\"_blank\">Weights & Biases</a> (<a href=\"https://wandb.me/run\" target=\"_blank\">docs</a>)<br/>Sweep page:  <a href=\"https://wandb.ai/safi-vamsi-cs6910/Assignment%202/sweeps/rrfukwss\" target=\"_blank\">https://wandb.ai/safi-vamsi-cs6910/Assignment%202/sweeps/rrfukwss</a>"
            ]
          },
          "metadata": {}
        },
        {
          "output_type": "stream",
          "name": "stdout",
          "text": [
            "Found 9000 images belonging to 10 classes.\n",
            "Found 999 images belonging to 10 classes.\n",
            "Epoch 1/15\n",
            "282/282 [==============================] - 145s 501ms/step - loss: 1.0667 - acc: 0.6662 - val_loss: 0.7590 - val_acc: 0.7858 - _timestamp: 1648647403.0000 - _runtime: 157.0000\n",
            "Epoch 2/15\n",
            "282/282 [==============================] - 141s 499ms/step - loss: 0.5897 - acc: 0.8140 - val_loss: 0.7249 - val_acc: 0.7818 - _timestamp: 1648647545.0000 - _runtime: 299.0000\n",
            "Epoch 3/15\n",
            "282/282 [==============================] - 139s 492ms/step - loss: 0.3493 - acc: 0.8833 - val_loss: 0.8149 - val_acc: 0.7928 - _timestamp: 1648647684.0000 - _runtime: 438.0000\n",
            "Epoch 4/15\n",
            "282/282 [==============================] - 139s 493ms/step - loss: 0.1990 - acc: 0.9342 - val_loss: 0.8109 - val_acc: 0.7878 - _timestamp: 1648647823.0000 - _runtime: 577.0000\n",
            "Epoch 5/15\n",
            "282/282 [==============================] - 139s 492ms/step - loss: 0.1206 - acc: 0.9617 - val_loss: 0.9688 - val_acc: 0.8098 - _timestamp: 1648647962.0000 - _runtime: 716.0000\n",
            "Epoch 6/15\n",
            "282/282 [==============================] - 138s 490ms/step - loss: 0.0824 - acc: 0.9744 - val_loss: 1.0104 - val_acc: 0.7998 - _timestamp: 1648648101.0000 - _runtime: 855.0000\n",
            "Epoch 7/15\n",
            "282/282 [==============================] - 139s 493ms/step - loss: 0.0694 - acc: 0.9784 - val_loss: 1.1073 - val_acc: 0.8048 - _timestamp: 1648648240.0000 - _runtime: 994.0000\n",
            "Epoch 8/15\n",
            "282/282 [==============================] - 139s 494ms/step - loss: 0.0628 - acc: 0.9796 - val_loss: 1.4062 - val_acc: 0.7838 - _timestamp: 1648648379.0000 - _runtime: 1133.0000\n",
            "Epoch 9/15\n",
            "282/282 [==============================] - 138s 489ms/step - loss: 0.0460 - acc: 0.9862 - val_loss: 1.0730 - val_acc: 0.8028 - _timestamp: 1648648517.0000 - _runtime: 1271.0000\n",
            "Epoch 10/15\n",
            "282/282 [==============================] - 138s 489ms/step - loss: 0.0466 - acc: 0.9851 - val_loss: 1.3430 - val_acc: 0.7998 - _timestamp: 1648648655.0000 - _runtime: 1409.0000\n",
            "Epoch 11/15\n",
            "282/282 [==============================] - 138s 490ms/step - loss: 0.0479 - acc: 0.9854 - val_loss: 1.1473 - val_acc: 0.8088 - _timestamp: 1648648793.0000 - _runtime: 1547.0000\n",
            "Epoch 12/15\n",
            "282/282 [==============================] - 138s 488ms/step - loss: 0.0411 - acc: 0.9856 - val_loss: 1.2494 - val_acc: 0.8038 - _timestamp: 1648648931.0000 - _runtime: 1685.0000\n",
            "Epoch 13/15\n",
            "282/282 [==============================] - 138s 491ms/step - loss: 0.0319 - acc: 0.9903 - val_loss: 1.4518 - val_acc: 0.8018 - _timestamp: 1648649069.0000 - _runtime: 1823.0000\n",
            "Epoch 14/15\n",
            "282/282 [==============================] - 138s 490ms/step - loss: 0.0317 - acc: 0.9902 - val_loss: 1.4769 - val_acc: 0.7998 - _timestamp: 1648649207.0000 - _runtime: 1961.0000\n",
            "Epoch 15/15\n",
            "282/282 [==============================] - 139s 492ms/step - loss: 0.0256 - acc: 0.9931 - val_loss: 1.4266 - val_acc: 0.7928 - _timestamp: 1648649346.0000 - _runtime: 2100.0000\n",
            "\n"
          ]
        },
        {
          "output_type": "display_data",
          "data": {
            "text/plain": [
              "<IPython.core.display.HTML object>"
            ],
            "text/html": [
              "Waiting for W&B process to finish... <strong style=\"color:green\">(success).</strong>"
            ]
          },
          "metadata": {}
        },
        {
          "output_type": "display_data",
          "data": {
            "text/plain": [
              "VBox(children=(Label(value='231.804 MB of 231.804 MB uploaded (0.000 MB deduped)\\r'), FloatProgress(value=1.0,…"
            ],
            "application/vnd.jupyter.widget-view+json": {
              "version_major": 2,
              "version_minor": 0,
              "model_id": "d77a40232088472f9e5c015dcc22c84a"
            }
          },
          "metadata": {}
        },
        {
          "output_type": "display_data",
          "data": {
            "text/plain": [
              "<IPython.core.display.HTML object>"
            ],
            "text/html": [
              "<style>\n",
              "    table.wandb td:nth-child(1) { padding: 0 10px; text-align: right }\n",
              "    .wandb-row { display: flex; flex-direction: row; flex-wrap: wrap; width: 100% }\n",
              "    .wandb-col { display: flex; flex-direction: column; flex-basis: 100%; flex: 1; padding: 10px; }\n",
              "    </style>\n",
              "<div class=\"wandb-row\"><div class=\"wandb-col\"><h3>Run history:</h3><br/><table class=\"wandb\"><tr><td>acc</td><td>▁▄▆▇▇██████████</td></tr><tr><td>epoch</td><td>▁▁▂▃▃▃▄▅▅▅▆▇▇▇█</td></tr><tr><td>loss</td><td>█▅▃▂▂▁▁▁▁▁▁▁▁▁▁</td></tr><tr><td>val_acc</td><td>▂▁▄▃█▅▇▁▆▅█▇▆▅▄</td></tr><tr><td>val_loss</td><td>▁▁▂▂▃▄▅▇▄▇▅▆███</td></tr></table><br/></div><div class=\"wandb-col\"><h3>Run summary:</h3><br/><table class=\"wandb\"><tr><td>acc</td><td>0.99311</td></tr><tr><td>best_epoch</td><td>1</td></tr><tr><td>best_val_loss</td><td>0.72488</td></tr><tr><td>epoch</td><td>14</td></tr><tr><td>loss</td><td>0.0256</td></tr><tr><td>val_acc</td><td>0.79279</td></tr><tr><td>val_loss</td><td>1.42662</td></tr></table><br/></div></div>"
            ]
          },
          "metadata": {}
        },
        {
          "output_type": "display_data",
          "data": {
            "text/plain": [
              "<IPython.core.display.HTML object>"
            ],
            "text/html": [
              "Synced <strong style=\"color:#cdcd00\">stellar-sweep-15</strong>: <a href=\"https://wandb.ai/safi-vamsi-cs6910/Assignment%202/runs/fbwwhsxc\" target=\"_blank\">https://wandb.ai/safi-vamsi-cs6910/Assignment%202/runs/fbwwhsxc</a><br/>Synced 5 W&B file(s), 1 media file(s), 0 artifact file(s) and 1 other file(s)"
            ]
          },
          "metadata": {}
        },
        {
          "output_type": "display_data",
          "data": {
            "text/plain": [
              "<IPython.core.display.HTML object>"
            ],
            "text/html": [
              "Find logs at: <code>./wandb/run-20220330_133406-fbwwhsxc/logs</code>"
            ]
          },
          "metadata": {}
        },
        {
          "output_type": "stream",
          "name": "stderr",
          "text": [
            "\u001b[34m\u001b[1mwandb\u001b[0m: Agent Starting Run: avqdojxe with config:\n",
            "\u001b[34m\u001b[1mwandb\u001b[0m: \tbatch_size: 64\n",
            "\u001b[34m\u001b[1mwandb\u001b[0m: \tdata_augmentation: True\n",
            "\u001b[34m\u001b[1mwandb\u001b[0m: \tdense_layer: 128\n",
            "\u001b[34m\u001b[1mwandb\u001b[0m: \tdropout: 0.3\n",
            "\u001b[34m\u001b[1mwandb\u001b[0m: \tmodel_name: Xception\n",
            "\u001b[34m\u001b[1mwandb\u001b[0m: \tnum_epochs: 15\n",
            "\u001b[34m\u001b[1mwandb\u001b[0m: \ttrainable_layers: 20\n"
          ]
        },
        {
          "output_type": "display_data",
          "data": {
            "text/plain": [
              "<IPython.core.display.HTML object>"
            ],
            "text/html": [
              "Tracking run with wandb version 0.12.11"
            ]
          },
          "metadata": {}
        },
        {
          "output_type": "display_data",
          "data": {
            "text/plain": [
              "<IPython.core.display.HTML object>"
            ],
            "text/html": [
              "Run data is saved locally in <code>/content/wandb/run-20220330_140921-avqdojxe</code>"
            ]
          },
          "metadata": {}
        },
        {
          "output_type": "display_data",
          "data": {
            "text/plain": [
              "<IPython.core.display.HTML object>"
            ],
            "text/html": [
              "Syncing run <strong><a href=\"https://wandb.ai/safi-vamsi-cs6910/Assignment%202/runs/avqdojxe\" target=\"_blank\">swept-sweep-16</a></strong> to <a href=\"https://wandb.ai/safi-vamsi-cs6910/Assignment%202\" target=\"_blank\">Weights & Biases</a> (<a href=\"https://wandb.me/run\" target=\"_blank\">docs</a>)<br/>Sweep page:  <a href=\"https://wandb.ai/safi-vamsi-cs6910/Assignment%202/sweeps/rrfukwss\" target=\"_blank\">https://wandb.ai/safi-vamsi-cs6910/Assignment%202/sweeps/rrfukwss</a>"
            ]
          },
          "metadata": {}
        },
        {
          "output_type": "stream",
          "name": "stdout",
          "text": [
            "Found 9000 images belonging to 10 classes.\n",
            "Found 999 images belonging to 10 classes.\n",
            "Epoch 1/15\n",
            "282/282 [==============================] - 251s 880ms/step - loss: 1.2066 - acc: 0.6153 - val_loss: 0.7434 - val_acc: 0.7748 - _timestamp: 1648649624.0000 - _runtime: 263.0000\n",
            "Epoch 2/15\n",
            "282/282 [==============================] - 248s 878ms/step - loss: 0.8148 - acc: 0.7417 - val_loss: 0.6485 - val_acc: 0.7908 - _timestamp: 1648649872.0000 - _runtime: 511.0000\n",
            "Epoch 3/15\n",
            "282/282 [==============================] - 246s 871ms/step - loss: 0.6639 - acc: 0.7879 - val_loss: 0.6724 - val_acc: 0.7848 - _timestamp: 1648650119.0000 - _runtime: 758.0000\n",
            "Epoch 4/15\n",
            "282/282 [==============================] - 246s 873ms/step - loss: 0.5699 - acc: 0.8178 - val_loss: 0.6435 - val_acc: 0.8098 - _timestamp: 1648650364.0000 - _runtime: 1003.0000\n",
            "Epoch 5/15\n",
            "282/282 [==============================] - 246s 872ms/step - loss: 0.4919 - acc: 0.8400 - val_loss: 0.6466 - val_acc: 0.8028 - _timestamp: 1648650612.0000 - _runtime: 1251.0000\n",
            "Epoch 6/15\n",
            "282/282 [==============================] - 245s 867ms/step - loss: 0.4201 - acc: 0.8596 - val_loss: 0.7394 - val_acc: 0.8078 - _timestamp: 1648650856.0000 - _runtime: 1495.0000\n",
            "Epoch 7/15\n",
            "282/282 [==============================] - 245s 867ms/step - loss: 0.3676 - acc: 0.8813 - val_loss: 0.6802 - val_acc: 0.8048 - _timestamp: 1648651101.0000 - _runtime: 1740.0000\n",
            "Epoch 8/15\n",
            "282/282 [==============================] - 245s 867ms/step - loss: 0.3144 - acc: 0.9009 - val_loss: 0.7177 - val_acc: 0.8198 - _timestamp: 1648651346.0000 - _runtime: 1985.0000\n",
            "Epoch 9/15\n",
            "282/282 [==============================] - 251s 890ms/step - loss: 0.2818 - acc: 0.9062 - val_loss: 0.7564 - val_acc: 0.8068 - _timestamp: 1648651597.0000 - _runtime: 2236.0000\n",
            "Epoch 10/15\n",
            "282/282 [==============================] - 245s 867ms/step - loss: 0.2574 - acc: 0.9154 - val_loss: 0.8853 - val_acc: 0.8138 - _timestamp: 1648651841.0000 - _runtime: 2480.0000\n",
            "Epoch 11/15\n",
            "282/282 [==============================] - 245s 868ms/step - loss: 0.2172 - acc: 0.9303 - val_loss: 0.8774 - val_acc: 0.8078 - _timestamp: 1648652086.0000 - _runtime: 2725.0000\n",
            "Epoch 12/15\n",
            "282/282 [==============================] - 244s 867ms/step - loss: 0.1925 - acc: 0.9364 - val_loss: 0.8852 - val_acc: 0.8178 - _timestamp: 1648652331.0000 - _runtime: 2970.0000\n",
            "Epoch 13/15\n",
            "282/282 [==============================] - 245s 869ms/step - loss: 0.1807 - acc: 0.9406 - val_loss: 0.9386 - val_acc: 0.7968 - _timestamp: 1648652576.0000 - _runtime: 3215.0000\n",
            "Epoch 14/15\n",
            "282/282 [==============================] - 245s 870ms/step - loss: 0.1506 - acc: 0.9528 - val_loss: 0.8815 - val_acc: 0.8188 - _timestamp: 1648652821.0000 - _runtime: 3460.0000\n",
            "Epoch 15/15\n",
            "282/282 [==============================] - 245s 869ms/step - loss: 0.1365 - acc: 0.9536 - val_loss: 0.8809 - val_acc: 0.8278 - _timestamp: 1648653066.0000 - _runtime: 3705.0000\n",
            "\n"
          ]
        },
        {
          "output_type": "display_data",
          "data": {
            "text/plain": [
              "<IPython.core.display.HTML object>"
            ],
            "text/html": [
              "Waiting for W&B process to finish... <strong style=\"color:green\">(success).</strong>"
            ]
          },
          "metadata": {}
        },
        {
          "output_type": "display_data",
          "data": {
            "text/plain": [
              "VBox(children=(Label(value='327.811 MB of 327.811 MB uploaded (0.000 MB deduped)\\r'), FloatProgress(value=1.0,…"
            ],
            "application/vnd.jupyter.widget-view+json": {
              "version_major": 2,
              "version_minor": 0,
              "model_id": "5d809e58cafa43aba6451726baac9f6b"
            }
          },
          "metadata": {}
        },
        {
          "output_type": "display_data",
          "data": {
            "text/plain": [
              "<IPython.core.display.HTML object>"
            ],
            "text/html": [
              "<style>\n",
              "    table.wandb td:nth-child(1) { padding: 0 10px; text-align: right }\n",
              "    .wandb-row { display: flex; flex-direction: row; flex-wrap: wrap; width: 100% }\n",
              "    .wandb-col { display: flex; flex-direction: column; flex-basis: 100%; flex: 1; padding: 10px; }\n",
              "    </style>\n",
              "<div class=\"wandb-row\"><div class=\"wandb-col\"><h3>Run history:</h3><br/><table class=\"wandb\"><tr><td>acc</td><td>▁▄▅▅▆▆▇▇▇▇█████</td></tr><tr><td>epoch</td><td>▁▁▂▃▃▃▄▅▅▅▆▇▇▇█</td></tr><tr><td>loss</td><td>█▅▄▄▃▃▃▂▂▂▂▁▁▁▁</td></tr><tr><td>val_acc</td><td>▁▃▂▆▅▅▅▇▅▆▅▇▄▇█</td></tr><tr><td>val_loss</td><td>▃▁▂▁▁▃▂▃▄▇▇▇█▇▇</td></tr></table><br/></div><div class=\"wandb-col\"><h3>Run summary:</h3><br/><table class=\"wandb\"><tr><td>acc</td><td>0.95356</td></tr><tr><td>best_epoch</td><td>3</td></tr><tr><td>best_val_loss</td><td>0.64348</td></tr><tr><td>epoch</td><td>14</td></tr><tr><td>loss</td><td>0.13648</td></tr><tr><td>val_acc</td><td>0.82783</td></tr><tr><td>val_loss</td><td>0.8809</td></tr></table><br/></div></div>"
            ]
          },
          "metadata": {}
        },
        {
          "output_type": "display_data",
          "data": {
            "text/plain": [
              "<IPython.core.display.HTML object>"
            ],
            "text/html": [
              "Synced <strong style=\"color:#cdcd00\">swept-sweep-16</strong>: <a href=\"https://wandb.ai/safi-vamsi-cs6910/Assignment%202/runs/avqdojxe\" target=\"_blank\">https://wandb.ai/safi-vamsi-cs6910/Assignment%202/runs/avqdojxe</a><br/>Synced 5 W&B file(s), 1 media file(s), 0 artifact file(s) and 1 other file(s)"
            ]
          },
          "metadata": {}
        },
        {
          "output_type": "display_data",
          "data": {
            "text/plain": [
              "<IPython.core.display.HTML object>"
            ],
            "text/html": [
              "Find logs at: <code>./wandb/run-20220330_140921-avqdojxe/logs</code>"
            ]
          },
          "metadata": {}
        },
        {
          "output_type": "stream",
          "name": "stderr",
          "text": [
            "\u001b[34m\u001b[1mwandb\u001b[0m: Agent Starting Run: 82facypu with config:\n",
            "\u001b[34m\u001b[1mwandb\u001b[0m: \tbatch_size: 64\n",
            "\u001b[34m\u001b[1mwandb\u001b[0m: \tdata_augmentation: True\n",
            "\u001b[34m\u001b[1mwandb\u001b[0m: \tdense_layer: 128\n",
            "\u001b[34m\u001b[1mwandb\u001b[0m: \tdropout: 0\n",
            "\u001b[34m\u001b[1mwandb\u001b[0m: \tmodel_name: Xception\n",
            "\u001b[34m\u001b[1mwandb\u001b[0m: \tnum_epochs: 15\n",
            "\u001b[34m\u001b[1mwandb\u001b[0m: \ttrainable_layers: 20\n"
          ]
        },
        {
          "output_type": "display_data",
          "data": {
            "text/plain": [
              "<IPython.core.display.HTML object>"
            ],
            "text/html": [
              "Tracking run with wandb version 0.12.11"
            ]
          },
          "metadata": {}
        },
        {
          "output_type": "display_data",
          "data": {
            "text/plain": [
              "<IPython.core.display.HTML object>"
            ],
            "text/html": [
              "Run data is saved locally in <code>/content/wandb/run-20220330_151120-82facypu</code>"
            ]
          },
          "metadata": {}
        },
        {
          "output_type": "display_data",
          "data": {
            "text/plain": [
              "<IPython.core.display.HTML object>"
            ],
            "text/html": [
              "Syncing run <strong><a href=\"https://wandb.ai/safi-vamsi-cs6910/Assignment%202/runs/82facypu\" target=\"_blank\">apricot-sweep-17</a></strong> to <a href=\"https://wandb.ai/safi-vamsi-cs6910/Assignment%202\" target=\"_blank\">Weights & Biases</a> (<a href=\"https://wandb.me/run\" target=\"_blank\">docs</a>)<br/>Sweep page:  <a href=\"https://wandb.ai/safi-vamsi-cs6910/Assignment%202/sweeps/rrfukwss\" target=\"_blank\">https://wandb.ai/safi-vamsi-cs6910/Assignment%202/sweeps/rrfukwss</a>"
            ]
          },
          "metadata": {}
        },
        {
          "output_type": "stream",
          "name": "stdout",
          "text": [
            "Found 9000 images belonging to 10 classes.\n",
            "Found 999 images belonging to 10 classes.\n",
            "Epoch 1/15\n",
            "282/282 [==============================] - 251s 882ms/step - loss: 1.0499 - acc: 0.6617 - val_loss: 0.7173 - val_acc: 0.7668 - _timestamp: 1648653342.0000 - _runtime: 262.0000\n",
            "Epoch 2/15\n",
            "282/282 [==============================] - 248s 877ms/step - loss: 0.6950 - acc: 0.7730 - val_loss: 0.7066 - val_acc: 0.7638 - _timestamp: 1648653590.0000 - _runtime: 510.0000\n",
            "Epoch 3/15\n",
            "282/282 [==============================] - 247s 877ms/step - loss: 0.5690 - acc: 0.8087 - val_loss: 0.6694 - val_acc: 0.7998 - _timestamp: 1648653837.0000 - _runtime: 757.0000\n",
            "Epoch 4/15\n",
            "282/282 [==============================] - 246s 871ms/step - loss: 0.4673 - acc: 0.8429 - val_loss: 0.6882 - val_acc: 0.7968 - _timestamp: 1648654084.0000 - _runtime: 1004.0000\n",
            "Epoch 5/15\n",
            "282/282 [==============================] - 245s 869ms/step - loss: 0.3807 - acc: 0.8738 - val_loss: 0.7404 - val_acc: 0.7978 - _timestamp: 1648654329.0000 - _runtime: 1249.0000\n",
            "Epoch 6/15\n",
            "282/282 [==============================] - 245s 868ms/step - loss: 0.3254 - acc: 0.8882 - val_loss: 0.7278 - val_acc: 0.7988 - _timestamp: 1648654574.0000 - _runtime: 1494.0000\n",
            "Epoch 7/15\n",
            "282/282 [==============================] - 245s 870ms/step - loss: 0.2692 - acc: 0.9059 - val_loss: 0.7883 - val_acc: 0.8018 - _timestamp: 1648654819.0000 - _runtime: 1739.0000\n",
            "Epoch 8/15\n",
            "282/282 [==============================] - 244s 866ms/step - loss: 0.2324 - acc: 0.9181 - val_loss: 0.8501 - val_acc: 0.8028 - _timestamp: 1648655064.0000 - _runtime: 1984.0000\n",
            "Epoch 9/15\n",
            "282/282 [==============================] - 245s 868ms/step - loss: 0.2054 - acc: 0.9308 - val_loss: 0.8394 - val_acc: 0.8028 - _timestamp: 1648655309.0000 - _runtime: 2229.0000\n",
            "Epoch 10/15\n",
            "282/282 [==============================] - 245s 868ms/step - loss: 0.1835 - acc: 0.9398 - val_loss: 0.8411 - val_acc: 0.8208 - _timestamp: 1648655553.0000 - _runtime: 2473.0000\n",
            "Epoch 11/15\n",
            "282/282 [==============================] - 244s 866ms/step - loss: 0.1625 - acc: 0.9450 - val_loss: 0.9670 - val_acc: 0.7948 - _timestamp: 1648655798.0000 - _runtime: 2718.0000\n",
            "Epoch 12/15\n",
            "282/282 [==============================] - 244s 866ms/step - loss: 0.1375 - acc: 0.9531 - val_loss: 1.0217 - val_acc: 0.8018 - _timestamp: 1648656042.0000 - _runtime: 2962.0000\n",
            "Epoch 13/15\n",
            "282/282 [==============================] - 245s 868ms/step - loss: 0.1258 - acc: 0.9584 - val_loss: 0.9687 - val_acc: 0.8088 - _timestamp: 1648656287.0000 - _runtime: 3207.0000\n",
            "Epoch 14/15\n",
            "282/282 [==============================] - 244s 864ms/step - loss: 0.1142 - acc: 0.9620 - val_loss: 1.0747 - val_acc: 0.7968 - _timestamp: 1648656531.0000 - _runtime: 3451.0000\n",
            "Epoch 15/15\n",
            "282/282 [==============================] - 244s 865ms/step - loss: 0.1072 - acc: 0.9657 - val_loss: 1.0699 - val_acc: 0.7968 - _timestamp: 1648656775.0000 - _runtime: 3695.0000\n",
            "\n"
          ]
        },
        {
          "output_type": "display_data",
          "data": {
            "text/plain": [
              "<IPython.core.display.HTML object>"
            ],
            "text/html": [
              "Waiting for W&B process to finish... <strong style=\"color:green\">(success).</strong>"
            ]
          },
          "metadata": {}
        },
        {
          "output_type": "display_data",
          "data": {
            "text/plain": [
              "VBox(children=(Label(value='327.811 MB of 327.811 MB uploaded (0.000 MB deduped)\\r'), FloatProgress(value=1.0,…"
            ],
            "application/vnd.jupyter.widget-view+json": {
              "version_major": 2,
              "version_minor": 0,
              "model_id": "0b701143b33c47d181fa4300955637bd"
            }
          },
          "metadata": {}
        },
        {
          "output_type": "display_data",
          "data": {
            "text/plain": [
              "<IPython.core.display.HTML object>"
            ],
            "text/html": [
              "<style>\n",
              "    table.wandb td:nth-child(1) { padding: 0 10px; text-align: right }\n",
              "    .wandb-row { display: flex; flex-direction: row; flex-wrap: wrap; width: 100% }\n",
              "    .wandb-col { display: flex; flex-direction: column; flex-basis: 100%; flex: 1; padding: 10px; }\n",
              "    </style>\n",
              "<div class=\"wandb-row\"><div class=\"wandb-col\"><h3>Run history:</h3><br/><table class=\"wandb\"><tr><td>acc</td><td>▁▄▄▅▆▆▇▇▇▇█████</td></tr><tr><td>epoch</td><td>▁▁▂▃▃▃▄▅▅▅▆▇▇▇█</td></tr><tr><td>loss</td><td>█▅▄▄▃▃▂▂▂▂▁▁▁▁▁</td></tr><tr><td>val_acc</td><td>▁▁▅▅▅▅▆▆▆█▅▆▇▅▅</td></tr><tr><td>val_loss</td><td>▂▂▁▁▂▂▃▄▄▄▆▇▆██</td></tr></table><br/></div><div class=\"wandb-col\"><h3>Run summary:</h3><br/><table class=\"wandb\"><tr><td>acc</td><td>0.96567</td></tr><tr><td>best_epoch</td><td>2</td></tr><tr><td>best_val_loss</td><td>0.66936</td></tr><tr><td>epoch</td><td>14</td></tr><tr><td>loss</td><td>0.10715</td></tr><tr><td>val_acc</td><td>0.7968</td></tr><tr><td>val_loss</td><td>1.06994</td></tr></table><br/></div></div>"
            ]
          },
          "metadata": {}
        },
        {
          "output_type": "display_data",
          "data": {
            "text/plain": [
              "<IPython.core.display.HTML object>"
            ],
            "text/html": [
              "Synced <strong style=\"color:#cdcd00\">apricot-sweep-17</strong>: <a href=\"https://wandb.ai/safi-vamsi-cs6910/Assignment%202/runs/82facypu\" target=\"_blank\">https://wandb.ai/safi-vamsi-cs6910/Assignment%202/runs/82facypu</a><br/>Synced 5 W&B file(s), 1 media file(s), 0 artifact file(s) and 1 other file(s)"
            ]
          },
          "metadata": {}
        },
        {
          "output_type": "display_data",
          "data": {
            "text/plain": [
              "<IPython.core.display.HTML object>"
            ],
            "text/html": [
              "Find logs at: <code>./wandb/run-20220330_151120-82facypu/logs</code>"
            ]
          },
          "metadata": {}
        },
        {
          "output_type": "stream",
          "name": "stderr",
          "text": [
            "\u001b[34m\u001b[1mwandb\u001b[0m: Sweep Agent: Waiting for job.\n",
            "\u001b[34m\u001b[1mwandb\u001b[0m: Job received.\n",
            "\u001b[34m\u001b[1mwandb\u001b[0m: Agent Starting Run: fbg31x7q with config:\n",
            "\u001b[34m\u001b[1mwandb\u001b[0m: \tbatch_size: 64\n",
            "\u001b[34m\u001b[1mwandb\u001b[0m: \tdata_augmentation: True\n",
            "\u001b[34m\u001b[1mwandb\u001b[0m: \tdense_layer: 512\n",
            "\u001b[34m\u001b[1mwandb\u001b[0m: \tdropout: 0.3\n",
            "\u001b[34m\u001b[1mwandb\u001b[0m: \tmodel_name: Xception\n",
            "\u001b[34m\u001b[1mwandb\u001b[0m: \tnum_epochs: 15\n",
            "\u001b[34m\u001b[1mwandb\u001b[0m: \ttrainable_layers: 20\n"
          ]
        },
        {
          "output_type": "display_data",
          "data": {
            "text/plain": [
              "<IPython.core.display.HTML object>"
            ],
            "text/html": [
              "Tracking run with wandb version 0.12.11"
            ]
          },
          "metadata": {}
        },
        {
          "output_type": "display_data",
          "data": {
            "text/plain": [
              "<IPython.core.display.HTML object>"
            ],
            "text/html": [
              "Run data is saved locally in <code>/content/wandb/run-20220330_161339-fbg31x7q</code>"
            ]
          },
          "metadata": {}
        },
        {
          "output_type": "display_data",
          "data": {
            "text/plain": [
              "<IPython.core.display.HTML object>"
            ],
            "text/html": [
              "Syncing run <strong><a href=\"https://wandb.ai/safi-vamsi-cs6910/Assignment%202/runs/fbg31x7q\" target=\"_blank\">bright-sweep-18</a></strong> to <a href=\"https://wandb.ai/safi-vamsi-cs6910/Assignment%202\" target=\"_blank\">Weights & Biases</a> (<a href=\"https://wandb.me/run\" target=\"_blank\">docs</a>)<br/>Sweep page:  <a href=\"https://wandb.ai/safi-vamsi-cs6910/Assignment%202/sweeps/rrfukwss\" target=\"_blank\">https://wandb.ai/safi-vamsi-cs6910/Assignment%202/sweeps/rrfukwss</a>"
            ]
          },
          "metadata": {}
        },
        {
          "output_type": "stream",
          "name": "stdout",
          "text": [
            "Found 9000 images belonging to 10 classes.\n",
            "Found 999 images belonging to 10 classes.\n",
            "Epoch 1/15\n",
            "282/282 [==============================] - 258s 906ms/step - loss: 1.1391 - acc: 0.6392 - val_loss: 0.7349 - val_acc: 0.7758 - _timestamp: 1648657081.0000 - _runtime: 262.0000\n",
            "Epoch 2/15\n",
            "282/282 [==============================] - 263s 931ms/step - loss: 0.7281 - acc: 0.7607 - val_loss: 0.6721 - val_acc: 0.8098 - _timestamp: 1648657354.0000 - _runtime: 535.0000\n",
            "Epoch 3/15\n",
            "282/282 [==============================] - 258s 915ms/step - loss: 0.5978 - acc: 0.8039 - val_loss: 0.6808 - val_acc: 0.8058 - _timestamp: 1648657616.0000 - _runtime: 797.0000\n",
            "Epoch 4/15\n",
            "282/282 [==============================] - 252s 894ms/step - loss: 0.5115 - acc: 0.8313 - val_loss: 0.6170 - val_acc: 0.8148 - _timestamp: 1648657862.0000 - _runtime: 1043.0000\n",
            "Epoch 5/15\n",
            "282/282 [==============================] - 254s 898ms/step - loss: 0.4153 - acc: 0.8634 - val_loss: 0.6616 - val_acc: 0.8128 - _timestamp: 1648658131.0000 - _runtime: 1312.0000\n",
            "Epoch 6/15\n",
            "282/282 [==============================] - 245s 867ms/step - loss: 0.3379 - acc: 0.8866 - val_loss: 0.7708 - val_acc: 0.8018 - _timestamp: 1648658376.0000 - _runtime: 1557.0000\n",
            "Epoch 7/15\n",
            "282/282 [==============================] - 245s 867ms/step - loss: 0.2997 - acc: 0.9014 - val_loss: 0.8746 - val_acc: 0.7948 - _timestamp: 1648658621.0000 - _runtime: 1802.0000\n",
            "Epoch 8/15\n",
            "282/282 [==============================] - 244s 866ms/step - loss: 0.2473 - acc: 0.9146 - val_loss: 0.8028 - val_acc: 0.8128 - _timestamp: 1648658865.0000 - _runtime: 2046.0000\n",
            "Epoch 9/15\n",
            "282/282 [==============================] - 245s 867ms/step - loss: 0.2344 - acc: 0.9237 - val_loss: 0.8492 - val_acc: 0.8048 - _timestamp: 1648659109.0000 - _runtime: 2290.0000\n",
            "Epoch 10/15\n",
            "282/282 [==============================] - 245s 867ms/step - loss: 0.1932 - acc: 0.9354 - val_loss: 0.8321 - val_acc: 0.8078 - _timestamp: 1648659354.0000 - _runtime: 2535.0000\n",
            "Epoch 11/15\n",
            "282/282 [==============================] - 244s 866ms/step - loss: 0.1700 - acc: 0.9422 - val_loss: 0.8778 - val_acc: 0.7938 - _timestamp: 1648659598.0000 - _runtime: 2779.0000\n",
            "Epoch 12/15\n",
            "282/282 [==============================] - 244s 867ms/step - loss: 0.1514 - acc: 0.9497 - val_loss: 0.9366 - val_acc: 0.8038 - _timestamp: 1648659843.0000 - _runtime: 3024.0000\n",
            "Epoch 13/15\n",
            "282/282 [==============================] - 244s 866ms/step - loss: 0.1401 - acc: 0.9554 - val_loss: 0.8513 - val_acc: 0.8128 - _timestamp: 1648660087.0000 - _runtime: 3268.0000\n",
            "Epoch 14/15\n",
            "282/282 [==============================] - 245s 867ms/step - loss: 0.1365 - acc: 0.9554 - val_loss: 0.9572 - val_acc: 0.8068 - _timestamp: 1648660332.0000 - _runtime: 3513.0000\n",
            "Epoch 15/15\n",
            "282/282 [==============================] - 244s 865ms/step - loss: 0.1156 - acc: 0.9641 - val_loss: 1.1013 - val_acc: 0.8108 - _timestamp: 1648660576.0000 - _runtime: 3757.0000\n",
            "\n"
          ]
        },
        {
          "output_type": "display_data",
          "data": {
            "text/plain": [
              "<IPython.core.display.HTML object>"
            ],
            "text/html": [
              "Waiting for W&B process to finish... <strong style=\"color:green\">(success).</strong>"
            ]
          },
          "metadata": {}
        },
        {
          "output_type": "display_data",
          "data": {
            "text/plain": [
              "VBox(children=(Label(value='903.859 MB of 903.859 MB uploaded (0.000 MB deduped)\\r'), FloatProgress(value=1.0,…"
            ],
            "application/vnd.jupyter.widget-view+json": {
              "version_major": 2,
              "version_minor": 0,
              "model_id": "9dc10ffcc83e470ab237c46ceba5fa02"
            }
          },
          "metadata": {}
        },
        {
          "output_type": "display_data",
          "data": {
            "text/plain": [
              "<IPython.core.display.HTML object>"
            ],
            "text/html": [
              "<style>\n",
              "    table.wandb td:nth-child(1) { padding: 0 10px; text-align: right }\n",
              "    .wandb-row { display: flex; flex-direction: row; flex-wrap: wrap; width: 100% }\n",
              "    .wandb-col { display: flex; flex-direction: column; flex-basis: 100%; flex: 1; padding: 10px; }\n",
              "    </style>\n",
              "<div class=\"wandb-row\"><div class=\"wandb-col\"><h3>Run history:</h3><br/><table class=\"wandb\"><tr><td>acc</td><td>▁▄▅▅▆▆▇▇▇▇█████</td></tr><tr><td>epoch</td><td>▁▁▂▃▃▃▄▅▅▅▆▇▇▇█</td></tr><tr><td>loss</td><td>█▅▄▄▃▃▂▂▂▂▁▁▁▁▁</td></tr><tr><td>val_acc</td><td>▁▇▆██▆▄█▆▇▄▆█▇▇</td></tr><tr><td>val_loss</td><td>▃▂▂▁▂▃▅▄▄▄▅▆▄▆█</td></tr></table><br/></div><div class=\"wandb-col\"><h3>Run summary:</h3><br/><table class=\"wandb\"><tr><td>acc</td><td>0.96411</td></tr><tr><td>best_epoch</td><td>3</td></tr><tr><td>best_val_loss</td><td>0.61702</td></tr><tr><td>epoch</td><td>14</td></tr><tr><td>loss</td><td>0.11564</td></tr><tr><td>val_acc</td><td>0.81081</td></tr><tr><td>val_loss</td><td>1.1013</td></tr></table><br/></div></div>"
            ]
          },
          "metadata": {}
        },
        {
          "output_type": "display_data",
          "data": {
            "text/plain": [
              "<IPython.core.display.HTML object>"
            ],
            "text/html": [
              "Synced <strong style=\"color:#cdcd00\">bright-sweep-18</strong>: <a href=\"https://wandb.ai/safi-vamsi-cs6910/Assignment%202/runs/fbg31x7q\" target=\"_blank\">https://wandb.ai/safi-vamsi-cs6910/Assignment%202/runs/fbg31x7q</a><br/>Synced 5 W&B file(s), 1 media file(s), 0 artifact file(s) and 1 other file(s)"
            ]
          },
          "metadata": {}
        },
        {
          "output_type": "display_data",
          "data": {
            "text/plain": [
              "<IPython.core.display.HTML object>"
            ],
            "text/html": [
              "Find logs at: <code>./wandb/run-20220330_161339-fbg31x7q/logs</code>"
            ]
          },
          "metadata": {}
        },
        {
          "output_type": "stream",
          "name": "stderr",
          "text": [
            "\u001b[34m\u001b[1mwandb\u001b[0m: Agent Starting Run: 79cbxt03 with config:\n",
            "\u001b[34m\u001b[1mwandb\u001b[0m: \tbatch_size: 64\n",
            "\u001b[34m\u001b[1mwandb\u001b[0m: \tdata_augmentation: False\n",
            "\u001b[34m\u001b[1mwandb\u001b[0m: \tdense_layer: 128\n",
            "\u001b[34m\u001b[1mwandb\u001b[0m: \tdropout: 0.3\n",
            "\u001b[34m\u001b[1mwandb\u001b[0m: \tmodel_name: Xception\n",
            "\u001b[34m\u001b[1mwandb\u001b[0m: \tnum_epochs: 15\n",
            "\u001b[34m\u001b[1mwandb\u001b[0m: \ttrainable_layers: 20\n"
          ]
        },
        {
          "output_type": "display_data",
          "data": {
            "text/plain": [
              "<IPython.core.display.HTML object>"
            ],
            "text/html": [
              "Tracking run with wandb version 0.12.11"
            ]
          },
          "metadata": {}
        },
        {
          "output_type": "display_data",
          "data": {
            "text/plain": [
              "<IPython.core.display.HTML object>"
            ],
            "text/html": [
              "Run data is saved locally in <code>/content/wandb/run-20220330_171706-79cbxt03</code>"
            ]
          },
          "metadata": {}
        },
        {
          "output_type": "display_data",
          "data": {
            "text/plain": [
              "<IPython.core.display.HTML object>"
            ],
            "text/html": [
              "Syncing run <strong><a href=\"https://wandb.ai/safi-vamsi-cs6910/Assignment%202/runs/79cbxt03\" target=\"_blank\">sunny-sweep-19</a></strong> to <a href=\"https://wandb.ai/safi-vamsi-cs6910/Assignment%202\" target=\"_blank\">Weights & Biases</a> (<a href=\"https://wandb.me/run\" target=\"_blank\">docs</a>)<br/>Sweep page:  <a href=\"https://wandb.ai/safi-vamsi-cs6910/Assignment%202/sweeps/rrfukwss\" target=\"_blank\">https://wandb.ai/safi-vamsi-cs6910/Assignment%202/sweeps/rrfukwss</a>"
            ]
          },
          "metadata": {}
        },
        {
          "output_type": "stream",
          "name": "stdout",
          "text": [
            "Found 9000 images belonging to 10 classes.\n",
            "Found 999 images belonging to 10 classes.\n",
            "Epoch 1/15\n",
            "140/282 [=============>................] - ETA: 1:05 - loss: 1.1525 - acc: 0.6254"
          ]
        }
      ],
      "source": [
        "sweep_config = {\n",
        "\n",
        "  \"method\": \"bayes\",\n",
        "  \"metric\": {\n",
        "      \"name\":\"val_acc\",\n",
        "      \"goal\": \"maximize\"\n",
        "  },\n",
        "  \n",
        "  \"parameters\": hyperparameters\n",
        "}\n",
        "\n",
        "sweep_id = wandb.sweep(sweep_config, entity=entity_name, project=project_name)\n",
        "wandb.agent(sweep_id, wandb_train)"
      ]
    },
    {
      "cell_type": "code",
      "source": [
        ""
      ],
      "metadata": {
        "id": "FQVLV8Mb5Sts"
      },
      "execution_count": null,
      "outputs": []
    },
    {
      "cell_type": "code",
      "source": [
        ""
      ],
      "metadata": {
        "id": "gzoRx4JL5SrY"
      },
      "execution_count": null,
      "outputs": []
    },
    {
      "cell_type": "code",
      "source": [
        ""
      ],
      "metadata": {
        "id": "FnLJGqgt5Son"
      },
      "execution_count": null,
      "outputs": []
    },
    {
      "cell_type": "code",
      "source": [
        "best_hyperparameters = {\n",
        "      'batch_norm': True,\n",
        "      'num_filters': 32,\n",
        "      'filter_org': 2,\n",
        "      'dropout': 0.4,\n",
        "      'data_augmentation': False,\n",
        "      'num_epochs' : 10,\n",
        "      'batch_size': 128,\n",
        "      'dense_layer': 512,\n",
        "      'learning_rate': 0.0001,\n",
        "      'kernel_size': 3\n",
        "}"
      ],
      "metadata": {
        "id": "l3ZDyj7M5Sge"
      },
      "execution_count": null,
      "outputs": []
    },
    {
      "cell_type": "code",
      "source": [
        "def get_test_data():\n",
        "    #path=r\"C:\\Users\\vamsi_oe20s302\\Downloads\\nature_12K\\inaturalist_12K\\train\"\n",
        "    path_train = r\"/content/drive/MyDrive/nature_12K/inaturalist_12K/train\"\n",
        "    path_test = r\"/content/drive/MyDrive/nature_12K/inaturalist_12K/val\"\n",
        "\n",
        "    \n",
        "    training_data=ImageDataGenerator(rescale=1./255)\n",
        "\n",
        "    test_data=ImageDataGenerator(rescale=1./255)\n",
        "\n",
        "    train_dataset = training_data.flow_from_directory(path_train,shuffle=True,seed=19)\n",
        "    test_dataset = test_data.flow_from_directory(path_test,shuffle=True,seed=19)\n",
        "\n",
        "    #return train_aug, valid_aug\n",
        "\n",
        "    \n",
        "    #return train_data, valid_data\n",
        "    return train_dataset, test_dataset"
      ],
      "metadata": {
        "id": "H9nh2KoR5yN0"
      },
      "execution_count": null,
      "outputs": []
    },
    {
      "cell_type": "code",
      "source": [
        "def get_test_augmented_data():\n",
        "    #path=r\"C:\\Users\\vamsi_oe20s302\\Downloads\\nature_12K\\inaturalist_12K\\train\"\n",
        "    path_train = r\"/content/drive/MyDrive/nature_12K/inaturalist_12K/train\"\n",
        "    path_test = r\"/content/drive/MyDrive/nature_12K/inaturalist_12K/val\"    \n",
        "    training_data_augmentation=ImageDataGenerator(rescale=1./255,\n",
        "                                        height_shift_range=0.2,\n",
        "                                        width_shift_range=0.2,\n",
        "                                        horizontal_flip=True,\n",
        "                                        zoom_range=0.2,\n",
        "                                        fill_mode=\"nearest\")\n",
        "\n",
        "    # test data is not being augmented\n",
        "    test_data_augmentation=ImageDataGenerator(\n",
        "        rescale=1./255\n",
        "        )\n",
        "\n",
        "    train_aug=training_data_augmentation.flow_from_directory(path_train,shuffle=True,seed=19)\n",
        "    test_aug=test_data_augmentation.flow_from_directory(path_test,shuffle=True,seed=19)\n",
        "\n",
        "    return train_aug, test_aug"
      ],
      "metadata": {
        "id": "6Yjy4CT97fAC"
      },
      "execution_count": null,
      "outputs": []
    },
    {
      "cell_type": "code",
      "source": [
        "def testing(entity_name, project_name):\n",
        "\n",
        "    best_hyperparameters = {\n",
        "        \"model_name\": \"Xception\",\n",
        "        \"data_augmentation\": True,\n",
        "        \"dense_layer\": 128,\n",
        "        \"dropout\": 0.3,\n",
        "        \"trainable_layers\": 20,\n",
        "        \"batch_size\": 64,\n",
        "        \"num_epochs\": 15\n",
        "        \n",
        "    }\n",
        "\n",
        "    # Initialize a new wandb run\n",
        "    wandb.init(config=best_hyperparameters, project = project_name, entity=entity_name)\n",
        "    \n",
        "    # collecting the configuration information\n",
        "    config = wandb.config\n",
        "\n",
        "    # Local variables, values obtained from wandb config\n",
        "    model_name = config.model_name\n",
        "    data_augmentation = config.data_augmentation\n",
        "    dense_layer = config.dense_layer\n",
        "    dropout = config.dropout\n",
        "    trainable_layers = config.trainable_layers\n",
        "    batch_size = config.batch_size\n",
        "    num_epochs = config.num_epochs\n",
        "    dense_activation = \"relu\"\n",
        "    \n",
        "    \n",
        "    # run name\n",
        "    run_name='test run - partb'\n",
        "\n",
        "    wandb.run.name = run_name\n",
        "\n",
        "    # Create the data generators\n",
        "\n",
        "    if data_augmentation == False:\n",
        "        train_data, test_data = get_test_data()\n",
        "    else:\n",
        "        train_data, test_data = get_test_augmented_data()\n",
        "    \n",
        "    # Define the model\n",
        "    model = build_model(model_name, dense_activation, dense_layer, dropout, trainable_layers)\n",
        "\n",
        "    model.summary()\n",
        "    model.compile(optimizer=tf.keras.optimizers.Adam(learning_rate=0.0001),\n",
        "                loss=tf.keras.losses.CategoricalCrossentropy(name='loss'),\n",
        "                metrics=[tf.keras.metrics.CategoricalAccuracy(name='acc')])\n",
        "\n",
        "\n",
        "    # To save the model with best validation accuracy\n",
        "    #mc = ModelCheckpoint('/content/drive/MyDrive/nature_12K/best_model.h5', monitor='val_accuracy', mode='max', verbose=0, save_best_only=True)\n",
        "    wandb_log = True\n",
        "    model.save(\"best_pretrained_model.h5\")\n",
        "    history = model.fit(train_data,\n",
        "                        epochs=num_epochs, \n",
        "                        callbacks=[WandbCallback()]\n",
        "                        )\n",
        "    \n",
        "    test_loss, test_accuracy = model.evaluate(x = test_data)\n",
        "    print(test_loss)\n",
        "    print(test_accuracy)\n",
        "    wandb.log({'test_accuracy':test_accuracy, 'test_loss':test_loss})\n",
        "    \n",
        "    \n",
        "    # Meaningful name for the run\n",
        "\n",
        "    \n",
        "    wandb.run.finish()\n",
        "    return history"
      ],
      "metadata": {
        "id": "_mthP_gp6Z7A"
      },
      "execution_count": null,
      "outputs": []
    },
    {
      "cell_type": "code",
      "source": [
        "testing(entity_name, project_name)"
      ],
      "metadata": {
        "colab": {
          "base_uri": "https://localhost:8080/",
          "height": 1000,
          "referenced_widgets": [
            "d46f9b048da54008b64c6ced0b44727c",
            "1aa7b2129c4642e1866cff3b6652f796",
            "c7d590b5e8f4417c98ebc35ad6e7dae9",
            "2008dc781ed649a3a2963617e3f698bc",
            "ac3b7a83ccbc49649033cc21fb501737",
            "7559284bc3bd4868a868e621d5a32e7c",
            "e1478bb97de4459e96580a87023659a6",
            "96167ca96d2a44359d515b73f14afd04"
          ]
        },
        "id": "QN4OcjdO4Jxz",
        "outputId": "6b4299fa-2e5a-4103-dbb9-d4dca7a100ad"
      },
      "execution_count": null,
      "outputs": [
        {
          "metadata": {
            "tags": null
          },
          "name": "stderr",
          "output_type": "stream",
          "text": [
            "\u001b[34m\u001b[1mwandb\u001b[0m: Currently logged in as: \u001b[33msafikhan\u001b[0m (use `wandb login --relogin` to force relogin)\n"
          ]
        },
        {
          "data": {
            "text/html": [
              "Tracking run with wandb version 0.12.11"
            ],
            "text/plain": [
              "<IPython.core.display.HTML object>"
            ]
          },
          "metadata": {},
          "output_type": "display_data"
        },
        {
          "data": {
            "text/html": [
              "Run data is saved locally in <code>/content/wandb/run-20220330_173234-re0l8otw</code>"
            ],
            "text/plain": [
              "<IPython.core.display.HTML object>"
            ]
          },
          "metadata": {},
          "output_type": "display_data"
        },
        {
          "data": {
            "text/html": [
              "Syncing run <strong><a href=\"https://wandb.ai/safi-vamsi-cs6910/Assignment%202/runs/re0l8otw\" target=\"_blank\">dutiful-violet-168</a></strong> to <a href=\"https://wandb.ai/safi-vamsi-cs6910/Assignment%202\" target=\"_blank\">Weights & Biases</a> (<a href=\"https://wandb.me/run\" target=\"_blank\">docs</a>)<br/>"
            ],
            "text/plain": [
              "<IPython.core.display.HTML object>"
            ]
          },
          "metadata": {},
          "output_type": "display_data"
        },
        {
          "output_type": "stream",
          "name": "stdout",
          "text": [
            "Found 9999 images belonging to 10 classes.\n",
            "Found 2000 images belonging to 10 classes.\n",
            "Downloading data from https://storage.googleapis.com/tensorflow/keras-applications/xception/xception_weights_tf_dim_ordering_tf_kernels_notop.h5\n",
            "83689472/83683744 [==============================] - 2s 0us/step\n",
            "83697664/83683744 [==============================] - 2s 0us/step\n",
            "Model: \"sequential\"\n",
            "_________________________________________________________________\n",
            " Layer (type)                Output Shape              Param #   \n",
            "=================================================================\n",
            " xception (Functional)       (None, 8, 8, 2048)        20861480  \n",
            "                                                                 \n",
            " flatten (Flatten)           (None, 131072)            0         \n",
            "                                                                 \n",
            " dense (Dense)               (None, 128)               16777344  \n",
            "                                                                 \n",
            " dropout (Dropout)           (None, 128)               0         \n",
            "                                                                 \n",
            " dense_1 (Dense)             (None, 10)                1290      \n",
            "                                                                 \n",
            "=================================================================\n",
            "Total params: 37,640,114\n",
            "Trainable params: 24,105,010\n",
            "Non-trainable params: 13,535,104\n",
            "_________________________________________________________________\n",
            "Epoch 1/15\n",
            "313/313 [==============================] - 5609s 18s/step - loss: 1.1411 - acc: 0.6342 - _timestamp: 1648667212.0000 - _runtime: 5658.0000\n",
            "Epoch 2/15\n",
            "313/313 [==============================] - 259s 826ms/step - loss: 0.7748 - acc: 0.7573 - _timestamp: 1648667471.0000 - _runtime: 5917.0000\n",
            "Epoch 3/15\n",
            "313/313 [==============================] - 250s 797ms/step - loss: 0.6365 - acc: 0.7975 - _timestamp: 1648667721.0000 - _runtime: 6167.0000\n",
            "Epoch 4/15\n",
            "313/313 [==============================] - 250s 800ms/step - loss: 0.5375 - acc: 0.8223 - _timestamp: 1648667971.0000 - _runtime: 6417.0000\n",
            "Epoch 5/15\n",
            "313/313 [==============================] - 252s 804ms/step - loss: 0.4478 - acc: 0.8523 - _timestamp: 1648668223.0000 - _runtime: 6669.0000\n",
            "Epoch 6/15\n",
            "313/313 [==============================] - 252s 806ms/step - loss: 0.4166 - acc: 0.8662 - _timestamp: 1648668475.0000 - _runtime: 6921.0000\n",
            "Epoch 7/15\n",
            "313/313 [==============================] - 253s 806ms/step - loss: 0.3434 - acc: 0.8852 - _timestamp: 1648668728.0000 - _runtime: 7174.0000\n",
            "Epoch 8/15\n",
            "313/313 [==============================] - 252s 805ms/step - loss: 0.3004 - acc: 0.9015 - _timestamp: 1648668980.0000 - _runtime: 7426.0000\n",
            "Epoch 9/15\n",
            "313/313 [==============================] - 252s 806ms/step - loss: 0.2629 - acc: 0.9131 - _timestamp: 1648669232.0000 - _runtime: 7678.0000\n",
            "Epoch 10/15\n",
            "313/313 [==============================] - 252s 806ms/step - loss: 0.2339 - acc: 0.9246 - _timestamp: 1648669485.0000 - _runtime: 7931.0000\n",
            "Epoch 11/15\n",
            "313/313 [==============================] - 252s 804ms/step - loss: 0.2167 - acc: 0.9318 - _timestamp: 1648669736.0000 - _runtime: 8182.0000\n",
            "Epoch 12/15\n",
            "313/313 [==============================] - 252s 804ms/step - loss: 0.1864 - acc: 0.9411 - _timestamp: 1648669988.0000 - _runtime: 8434.0000\n",
            "Epoch 13/15\n",
            "313/313 [==============================] - 252s 805ms/step - loss: 0.1717 - acc: 0.9432 - _timestamp: 1648670240.0000 - _runtime: 8686.0000\n",
            "Epoch 14/15\n",
            "313/313 [==============================] - 252s 805ms/step - loss: 0.1447 - acc: 0.9545 - _timestamp: 1648670492.0000 - _runtime: 8938.0000\n",
            "Epoch 15/15\n",
            "313/313 [==============================] - 252s 805ms/step - loss: 0.1389 - acc: 0.9548 - _timestamp: 1648670745.0000 - _runtime: 9191.0000\n",
            "63/63 [==============================] - 1153s 19s/step - loss: 1.1326 - acc: 0.7965\n",
            "1.132563829421997\n",
            "0.796500027179718\n",
            "\n"
          ]
        },
        {
          "output_type": "display_data",
          "data": {
            "text/plain": [
              "<IPython.core.display.HTML object>"
            ],
            "text/html": [
              "Waiting for W&B process to finish... <strong style=\"color:green\">(success).</strong>"
            ]
          },
          "metadata": {}
        },
        {
          "output_type": "display_data",
          "data": {
            "text/plain": [
              "VBox(children=(Label(value='0.001 MB of 0.001 MB uploaded (0.000 MB deduped)\\r'), FloatProgress(value=1.0, max…"
            ],
            "application/vnd.jupyter.widget-view+json": {
              "version_major": 2,
              "version_minor": 0,
              "model_id": "d46f9b048da54008b64c6ced0b44727c"
            }
          },
          "metadata": {}
        },
        {
          "output_type": "display_data",
          "data": {
            "text/plain": [
              "<IPython.core.display.HTML object>"
            ],
            "text/html": [
              "<style>\n",
              "    table.wandb td:nth-child(1) { padding: 0 10px; text-align: right }\n",
              "    .wandb-row { display: flex; flex-direction: row; flex-wrap: wrap; width: 100% }\n",
              "    .wandb-col { display: flex; flex-direction: column; flex-basis: 100%; flex: 1; padding: 10px; }\n",
              "    </style>\n",
              "<div class=\"wandb-row\"><div class=\"wandb-col\"><h3>Run history:</h3><br/><table class=\"wandb\"><tr><td>acc</td><td>▁▄▅▅▆▆▆▇▇▇▇████</td></tr><tr><td>epoch</td><td>▁▁▂▃▃▃▄▅▅▅▆▇▇▇█</td></tr><tr><td>loss</td><td>█▅▄▄▃▃▂▂▂▂▂▁▁▁▁</td></tr><tr><td>test_accuracy</td><td>▁</td></tr><tr><td>test_loss</td><td>▁</td></tr></table><br/></div><div class=\"wandb-col\"><h3>Run summary:</h3><br/><table class=\"wandb\"><tr><td>acc</td><td>0.9548</td></tr><tr><td>epoch</td><td>14</td></tr><tr><td>loss</td><td>0.13893</td></tr><tr><td>test_accuracy</td><td>0.7965</td></tr><tr><td>test_loss</td><td>1.13256</td></tr></table><br/></div></div>"
            ]
          },
          "metadata": {}
        },
        {
          "output_type": "display_data",
          "data": {
            "text/plain": [
              "<IPython.core.display.HTML object>"
            ],
            "text/html": [
              "Synced <strong style=\"color:#cdcd00\">dutiful-violet-168</strong>: <a href=\"https://wandb.ai/safi-vamsi-cs6910/Assignment%202/runs/re0l8otw\" target=\"_blank\">https://wandb.ai/safi-vamsi-cs6910/Assignment%202/runs/re0l8otw</a><br/>Synced 5 W&B file(s), 1 media file(s), 0 artifact file(s) and 0 other file(s)"
            ]
          },
          "metadata": {}
        },
        {
          "output_type": "display_data",
          "data": {
            "text/plain": [
              "<IPython.core.display.HTML object>"
            ],
            "text/html": [
              "Find logs at: <code>./wandb/run-20220330_173234-re0l8otw/logs</code>"
            ]
          },
          "metadata": {}
        },
        {
          "output_type": "execute_result",
          "data": {
            "text/plain": [
              "<keras.callbacks.History at 0x7f5de40da110>"
            ]
          },
          "metadata": {},
          "execution_count": 11
        }
      ]
    },
    {
      "cell_type": "code",
      "source": [
        ""
      ],
      "metadata": {
        "id": "hjYnxOXz8Nk3"
      },
      "execution_count": null,
      "outputs": []
    }
  ],
  "metadata": {
    "accelerator": "GPU",
    "colab": {
      "background_execution": "on",
      "name": "partb.ipynb",
      "provenance": [],
      "collapsed_sections": [],
      "include_colab_link": true
    },
    "kernelspec": {
      "display_name": "Python 3",
      "name": "python3"
    },
    "language_info": {
      "name": "python"
    },
    "widgets": {
      "application/vnd.jupyter.widget-state+json": {
        "78ac573702df479989a9603b5df0f5cb": {
          "model_module": "@jupyter-widgets/controls",
          "model_name": "VBoxModel",
          "model_module_version": "1.5.0",
          "state": {
            "_dom_classes": [],
            "_model_module": "@jupyter-widgets/controls",
            "_model_module_version": "1.5.0",
            "_model_name": "VBoxModel",
            "_view_count": null,
            "_view_module": "@jupyter-widgets/controls",
            "_view_module_version": "1.5.0",
            "_view_name": "VBoxView",
            "box_style": "",
            "children": [
              "IPY_MODEL_feb9d950c0ca498785b293d13058069f",
              "IPY_MODEL_5782506794f54ac5977c5fdf2ef96ca0"
            ],
            "layout": "IPY_MODEL_75cca78b01a64e02a1b5ad84b3143eff"
          }
        },
        "feb9d950c0ca498785b293d13058069f": {
          "model_module": "@jupyter-widgets/controls",
          "model_name": "LabelModel",
          "model_module_version": "1.5.0",
          "state": {
            "_dom_classes": [],
            "_model_module": "@jupyter-widgets/controls",
            "_model_module_version": "1.5.0",
            "_model_name": "LabelModel",
            "_view_count": null,
            "_view_module": "@jupyter-widgets/controls",
            "_view_module_version": "1.5.0",
            "_view_name": "LabelView",
            "description": "",
            "description_tooltip": null,
            "layout": "IPY_MODEL_71d78fe320634248a0cd336918abf1a1",
            "placeholder": "​",
            "style": "IPY_MODEL_7800d391c6fa47bea6946e9281a59808",
            "value": "889.883 MB of 889.883 MB uploaded (0.000 MB deduped)\r"
          }
        },
        "5782506794f54ac5977c5fdf2ef96ca0": {
          "model_module": "@jupyter-widgets/controls",
          "model_name": "FloatProgressModel",
          "model_module_version": "1.5.0",
          "state": {
            "_dom_classes": [],
            "_model_module": "@jupyter-widgets/controls",
            "_model_module_version": "1.5.0",
            "_model_name": "FloatProgressModel",
            "_view_count": null,
            "_view_module": "@jupyter-widgets/controls",
            "_view_module_version": "1.5.0",
            "_view_name": "ProgressView",
            "bar_style": "",
            "description": "",
            "description_tooltip": null,
            "layout": "IPY_MODEL_706e9b5bd2484904b5109a4fb42aac8f",
            "max": 1,
            "min": 0,
            "orientation": "horizontal",
            "style": "IPY_MODEL_a9dd4d6a8c74440ba6f7bd42ca2e0317",
            "value": 1
          }
        },
        "75cca78b01a64e02a1b5ad84b3143eff": {
          "model_module": "@jupyter-widgets/base",
          "model_name": "LayoutModel",
          "model_module_version": "1.2.0",
          "state": {
            "_model_module": "@jupyter-widgets/base",
            "_model_module_version": "1.2.0",
            "_model_name": "LayoutModel",
            "_view_count": null,
            "_view_module": "@jupyter-widgets/base",
            "_view_module_version": "1.2.0",
            "_view_name": "LayoutView",
            "align_content": null,
            "align_items": null,
            "align_self": null,
            "border": null,
            "bottom": null,
            "display": null,
            "flex": null,
            "flex_flow": null,
            "grid_area": null,
            "grid_auto_columns": null,
            "grid_auto_flow": null,
            "grid_auto_rows": null,
            "grid_column": null,
            "grid_gap": null,
            "grid_row": null,
            "grid_template_areas": null,
            "grid_template_columns": null,
            "grid_template_rows": null,
            "height": null,
            "justify_content": null,
            "justify_items": null,
            "left": null,
            "margin": null,
            "max_height": null,
            "max_width": null,
            "min_height": null,
            "min_width": null,
            "object_fit": null,
            "object_position": null,
            "order": null,
            "overflow": null,
            "overflow_x": null,
            "overflow_y": null,
            "padding": null,
            "right": null,
            "top": null,
            "visibility": null,
            "width": null
          }
        },
        "71d78fe320634248a0cd336918abf1a1": {
          "model_module": "@jupyter-widgets/base",
          "model_name": "LayoutModel",
          "model_module_version": "1.2.0",
          "state": {
            "_model_module": "@jupyter-widgets/base",
            "_model_module_version": "1.2.0",
            "_model_name": "LayoutModel",
            "_view_count": null,
            "_view_module": "@jupyter-widgets/base",
            "_view_module_version": "1.2.0",
            "_view_name": "LayoutView",
            "align_content": null,
            "align_items": null,
            "align_self": null,
            "border": null,
            "bottom": null,
            "display": null,
            "flex": null,
            "flex_flow": null,
            "grid_area": null,
            "grid_auto_columns": null,
            "grid_auto_flow": null,
            "grid_auto_rows": null,
            "grid_column": null,
            "grid_gap": null,
            "grid_row": null,
            "grid_template_areas": null,
            "grid_template_columns": null,
            "grid_template_rows": null,
            "height": null,
            "justify_content": null,
            "justify_items": null,
            "left": null,
            "margin": null,
            "max_height": null,
            "max_width": null,
            "min_height": null,
            "min_width": null,
            "object_fit": null,
            "object_position": null,
            "order": null,
            "overflow": null,
            "overflow_x": null,
            "overflow_y": null,
            "padding": null,
            "right": null,
            "top": null,
            "visibility": null,
            "width": null
          }
        },
        "7800d391c6fa47bea6946e9281a59808": {
          "model_module": "@jupyter-widgets/controls",
          "model_name": "DescriptionStyleModel",
          "model_module_version": "1.5.0",
          "state": {
            "_model_module": "@jupyter-widgets/controls",
            "_model_module_version": "1.5.0",
            "_model_name": "DescriptionStyleModel",
            "_view_count": null,
            "_view_module": "@jupyter-widgets/base",
            "_view_module_version": "1.2.0",
            "_view_name": "StyleView",
            "description_width": ""
          }
        },
        "706e9b5bd2484904b5109a4fb42aac8f": {
          "model_module": "@jupyter-widgets/base",
          "model_name": "LayoutModel",
          "model_module_version": "1.2.0",
          "state": {
            "_model_module": "@jupyter-widgets/base",
            "_model_module_version": "1.2.0",
            "_model_name": "LayoutModel",
            "_view_count": null,
            "_view_module": "@jupyter-widgets/base",
            "_view_module_version": "1.2.0",
            "_view_name": "LayoutView",
            "align_content": null,
            "align_items": null,
            "align_self": null,
            "border": null,
            "bottom": null,
            "display": null,
            "flex": null,
            "flex_flow": null,
            "grid_area": null,
            "grid_auto_columns": null,
            "grid_auto_flow": null,
            "grid_auto_rows": null,
            "grid_column": null,
            "grid_gap": null,
            "grid_row": null,
            "grid_template_areas": null,
            "grid_template_columns": null,
            "grid_template_rows": null,
            "height": null,
            "justify_content": null,
            "justify_items": null,
            "left": null,
            "margin": null,
            "max_height": null,
            "max_width": null,
            "min_height": null,
            "min_width": null,
            "object_fit": null,
            "object_position": null,
            "order": null,
            "overflow": null,
            "overflow_x": null,
            "overflow_y": null,
            "padding": null,
            "right": null,
            "top": null,
            "visibility": null,
            "width": null
          }
        },
        "a9dd4d6a8c74440ba6f7bd42ca2e0317": {
          "model_module": "@jupyter-widgets/controls",
          "model_name": "ProgressStyleModel",
          "model_module_version": "1.5.0",
          "state": {
            "_model_module": "@jupyter-widgets/controls",
            "_model_module_version": "1.5.0",
            "_model_name": "ProgressStyleModel",
            "_view_count": null,
            "_view_module": "@jupyter-widgets/base",
            "_view_module_version": "1.2.0",
            "_view_name": "StyleView",
            "bar_color": null,
            "description_width": ""
          }
        },
        "d4b792d5ebd2435fbf348edef3648fbf": {
          "model_module": "@jupyter-widgets/controls",
          "model_name": "VBoxModel",
          "model_module_version": "1.5.0",
          "state": {
            "_dom_classes": [],
            "_model_module": "@jupyter-widgets/controls",
            "_model_module_version": "1.5.0",
            "_model_name": "VBoxModel",
            "_view_count": null,
            "_view_module": "@jupyter-widgets/controls",
            "_view_module_version": "1.5.0",
            "_view_name": "VBoxView",
            "box_style": "",
            "children": [
              "IPY_MODEL_38bbb0746bd249a7a50fdd47a1994876",
              "IPY_MODEL_f0d8d1199de148df99033e9439bef04e"
            ],
            "layout": "IPY_MODEL_52b5a73f404449a9a30a88b801aeec3a"
          }
        },
        "38bbb0746bd249a7a50fdd47a1994876": {
          "model_module": "@jupyter-widgets/controls",
          "model_name": "LabelModel",
          "model_module_version": "1.5.0",
          "state": {
            "_dom_classes": [],
            "_model_module": "@jupyter-widgets/controls",
            "_model_module_version": "1.5.0",
            "_model_name": "LabelModel",
            "_view_count": null,
            "_view_module": "@jupyter-widgets/controls",
            "_view_module_version": "1.5.0",
            "_view_name": "LabelView",
            "description": "",
            "description_tooltip": null,
            "layout": "IPY_MODEL_99f63b4ada9c4e8eae6897cafcff7d91",
            "placeholder": "​",
            "style": "IPY_MODEL_f8cb77a5568949b9a4603b45823e586e",
            "value": "572.489 MB of 572.489 MB uploaded (0.000 MB deduped)\r"
          }
        },
        "f0d8d1199de148df99033e9439bef04e": {
          "model_module": "@jupyter-widgets/controls",
          "model_name": "FloatProgressModel",
          "model_module_version": "1.5.0",
          "state": {
            "_dom_classes": [],
            "_model_module": "@jupyter-widgets/controls",
            "_model_module_version": "1.5.0",
            "_model_name": "FloatProgressModel",
            "_view_count": null,
            "_view_module": "@jupyter-widgets/controls",
            "_view_module_version": "1.5.0",
            "_view_name": "ProgressView",
            "bar_style": "",
            "description": "",
            "description_tooltip": null,
            "layout": "IPY_MODEL_2794e43e99b542db8095ce8f893aaa20",
            "max": 1,
            "min": 0,
            "orientation": "horizontal",
            "style": "IPY_MODEL_b6375c2df8e64fb1b9234c2908030695",
            "value": 1
          }
        },
        "52b5a73f404449a9a30a88b801aeec3a": {
          "model_module": "@jupyter-widgets/base",
          "model_name": "LayoutModel",
          "model_module_version": "1.2.0",
          "state": {
            "_model_module": "@jupyter-widgets/base",
            "_model_module_version": "1.2.0",
            "_model_name": "LayoutModel",
            "_view_count": null,
            "_view_module": "@jupyter-widgets/base",
            "_view_module_version": "1.2.0",
            "_view_name": "LayoutView",
            "align_content": null,
            "align_items": null,
            "align_self": null,
            "border": null,
            "bottom": null,
            "display": null,
            "flex": null,
            "flex_flow": null,
            "grid_area": null,
            "grid_auto_columns": null,
            "grid_auto_flow": null,
            "grid_auto_rows": null,
            "grid_column": null,
            "grid_gap": null,
            "grid_row": null,
            "grid_template_areas": null,
            "grid_template_columns": null,
            "grid_template_rows": null,
            "height": null,
            "justify_content": null,
            "justify_items": null,
            "left": null,
            "margin": null,
            "max_height": null,
            "max_width": null,
            "min_height": null,
            "min_width": null,
            "object_fit": null,
            "object_position": null,
            "order": null,
            "overflow": null,
            "overflow_x": null,
            "overflow_y": null,
            "padding": null,
            "right": null,
            "top": null,
            "visibility": null,
            "width": null
          }
        },
        "99f63b4ada9c4e8eae6897cafcff7d91": {
          "model_module": "@jupyter-widgets/base",
          "model_name": "LayoutModel",
          "model_module_version": "1.2.0",
          "state": {
            "_model_module": "@jupyter-widgets/base",
            "_model_module_version": "1.2.0",
            "_model_name": "LayoutModel",
            "_view_count": null,
            "_view_module": "@jupyter-widgets/base",
            "_view_module_version": "1.2.0",
            "_view_name": "LayoutView",
            "align_content": null,
            "align_items": null,
            "align_self": null,
            "border": null,
            "bottom": null,
            "display": null,
            "flex": null,
            "flex_flow": null,
            "grid_area": null,
            "grid_auto_columns": null,
            "grid_auto_flow": null,
            "grid_auto_rows": null,
            "grid_column": null,
            "grid_gap": null,
            "grid_row": null,
            "grid_template_areas": null,
            "grid_template_columns": null,
            "grid_template_rows": null,
            "height": null,
            "justify_content": null,
            "justify_items": null,
            "left": null,
            "margin": null,
            "max_height": null,
            "max_width": null,
            "min_height": null,
            "min_width": null,
            "object_fit": null,
            "object_position": null,
            "order": null,
            "overflow": null,
            "overflow_x": null,
            "overflow_y": null,
            "padding": null,
            "right": null,
            "top": null,
            "visibility": null,
            "width": null
          }
        },
        "f8cb77a5568949b9a4603b45823e586e": {
          "model_module": "@jupyter-widgets/controls",
          "model_name": "DescriptionStyleModel",
          "model_module_version": "1.5.0",
          "state": {
            "_model_module": "@jupyter-widgets/controls",
            "_model_module_version": "1.5.0",
            "_model_name": "DescriptionStyleModel",
            "_view_count": null,
            "_view_module": "@jupyter-widgets/base",
            "_view_module_version": "1.2.0",
            "_view_name": "StyleView",
            "description_width": ""
          }
        },
        "2794e43e99b542db8095ce8f893aaa20": {
          "model_module": "@jupyter-widgets/base",
          "model_name": "LayoutModel",
          "model_module_version": "1.2.0",
          "state": {
            "_model_module": "@jupyter-widgets/base",
            "_model_module_version": "1.2.0",
            "_model_name": "LayoutModel",
            "_view_count": null,
            "_view_module": "@jupyter-widgets/base",
            "_view_module_version": "1.2.0",
            "_view_name": "LayoutView",
            "align_content": null,
            "align_items": null,
            "align_self": null,
            "border": null,
            "bottom": null,
            "display": null,
            "flex": null,
            "flex_flow": null,
            "grid_area": null,
            "grid_auto_columns": null,
            "grid_auto_flow": null,
            "grid_auto_rows": null,
            "grid_column": null,
            "grid_gap": null,
            "grid_row": null,
            "grid_template_areas": null,
            "grid_template_columns": null,
            "grid_template_rows": null,
            "height": null,
            "justify_content": null,
            "justify_items": null,
            "left": null,
            "margin": null,
            "max_height": null,
            "max_width": null,
            "min_height": null,
            "min_width": null,
            "object_fit": null,
            "object_position": null,
            "order": null,
            "overflow": null,
            "overflow_x": null,
            "overflow_y": null,
            "padding": null,
            "right": null,
            "top": null,
            "visibility": null,
            "width": null
          }
        },
        "b6375c2df8e64fb1b9234c2908030695": {
          "model_module": "@jupyter-widgets/controls",
          "model_name": "ProgressStyleModel",
          "model_module_version": "1.5.0",
          "state": {
            "_model_module": "@jupyter-widgets/controls",
            "_model_module_version": "1.5.0",
            "_model_name": "ProgressStyleModel",
            "_view_count": null,
            "_view_module": "@jupyter-widgets/base",
            "_view_module_version": "1.2.0",
            "_view_name": "StyleView",
            "bar_color": null,
            "description_width": ""
          }
        },
        "1dfa24d34e664de294d35ebd515a4d49": {
          "model_module": "@jupyter-widgets/controls",
          "model_name": "VBoxModel",
          "model_module_version": "1.5.0",
          "state": {
            "_dom_classes": [],
            "_model_module": "@jupyter-widgets/controls",
            "_model_module_version": "1.5.0",
            "_model_name": "VBoxModel",
            "_view_count": null,
            "_view_module": "@jupyter-widgets/controls",
            "_view_module_version": "1.5.0",
            "_view_name": "VBoxView",
            "box_style": "",
            "children": [
              "IPY_MODEL_13e7ac9b7efe4cf4b126d55e955d386c",
              "IPY_MODEL_e3da2fd52871432d8851ec1e823ced3e"
            ],
            "layout": "IPY_MODEL_b6a3f667784842c5895ed65757d41cff"
          }
        },
        "13e7ac9b7efe4cf4b126d55e955d386c": {
          "model_module": "@jupyter-widgets/controls",
          "model_name": "LabelModel",
          "model_module_version": "1.5.0",
          "state": {
            "_dom_classes": [],
            "_model_module": "@jupyter-widgets/controls",
            "_model_module_version": "1.5.0",
            "_model_name": "LabelModel",
            "_view_count": null,
            "_view_module": "@jupyter-widgets/controls",
            "_view_module_version": "1.5.0",
            "_view_name": "LabelView",
            "description": "",
            "description_tooltip": null,
            "layout": "IPY_MODEL_d7a9b15100b54df9b6147656ccf3c74d",
            "placeholder": "​",
            "style": "IPY_MODEL_78ae7bcff8074425ac8a30200e8a2355",
            "value": "858.384 MB of 858.384 MB uploaded (0.000 MB deduped)\r"
          }
        },
        "e3da2fd52871432d8851ec1e823ced3e": {
          "model_module": "@jupyter-widgets/controls",
          "model_name": "FloatProgressModel",
          "model_module_version": "1.5.0",
          "state": {
            "_dom_classes": [],
            "_model_module": "@jupyter-widgets/controls",
            "_model_module_version": "1.5.0",
            "_model_name": "FloatProgressModel",
            "_view_count": null,
            "_view_module": "@jupyter-widgets/controls",
            "_view_module_version": "1.5.0",
            "_view_name": "ProgressView",
            "bar_style": "",
            "description": "",
            "description_tooltip": null,
            "layout": "IPY_MODEL_2ac8a2d2441d4a4f82cf1b4e6d3fb24a",
            "max": 1,
            "min": 0,
            "orientation": "horizontal",
            "style": "IPY_MODEL_90f0852f76d34ac6a6a0592b0217a116",
            "value": 1
          }
        },
        "b6a3f667784842c5895ed65757d41cff": {
          "model_module": "@jupyter-widgets/base",
          "model_name": "LayoutModel",
          "model_module_version": "1.2.0",
          "state": {
            "_model_module": "@jupyter-widgets/base",
            "_model_module_version": "1.2.0",
            "_model_name": "LayoutModel",
            "_view_count": null,
            "_view_module": "@jupyter-widgets/base",
            "_view_module_version": "1.2.0",
            "_view_name": "LayoutView",
            "align_content": null,
            "align_items": null,
            "align_self": null,
            "border": null,
            "bottom": null,
            "display": null,
            "flex": null,
            "flex_flow": null,
            "grid_area": null,
            "grid_auto_columns": null,
            "grid_auto_flow": null,
            "grid_auto_rows": null,
            "grid_column": null,
            "grid_gap": null,
            "grid_row": null,
            "grid_template_areas": null,
            "grid_template_columns": null,
            "grid_template_rows": null,
            "height": null,
            "justify_content": null,
            "justify_items": null,
            "left": null,
            "margin": null,
            "max_height": null,
            "max_width": null,
            "min_height": null,
            "min_width": null,
            "object_fit": null,
            "object_position": null,
            "order": null,
            "overflow": null,
            "overflow_x": null,
            "overflow_y": null,
            "padding": null,
            "right": null,
            "top": null,
            "visibility": null,
            "width": null
          }
        },
        "d7a9b15100b54df9b6147656ccf3c74d": {
          "model_module": "@jupyter-widgets/base",
          "model_name": "LayoutModel",
          "model_module_version": "1.2.0",
          "state": {
            "_model_module": "@jupyter-widgets/base",
            "_model_module_version": "1.2.0",
            "_model_name": "LayoutModel",
            "_view_count": null,
            "_view_module": "@jupyter-widgets/base",
            "_view_module_version": "1.2.0",
            "_view_name": "LayoutView",
            "align_content": null,
            "align_items": null,
            "align_self": null,
            "border": null,
            "bottom": null,
            "display": null,
            "flex": null,
            "flex_flow": null,
            "grid_area": null,
            "grid_auto_columns": null,
            "grid_auto_flow": null,
            "grid_auto_rows": null,
            "grid_column": null,
            "grid_gap": null,
            "grid_row": null,
            "grid_template_areas": null,
            "grid_template_columns": null,
            "grid_template_rows": null,
            "height": null,
            "justify_content": null,
            "justify_items": null,
            "left": null,
            "margin": null,
            "max_height": null,
            "max_width": null,
            "min_height": null,
            "min_width": null,
            "object_fit": null,
            "object_position": null,
            "order": null,
            "overflow": null,
            "overflow_x": null,
            "overflow_y": null,
            "padding": null,
            "right": null,
            "top": null,
            "visibility": null,
            "width": null
          }
        },
        "78ae7bcff8074425ac8a30200e8a2355": {
          "model_module": "@jupyter-widgets/controls",
          "model_name": "DescriptionStyleModel",
          "model_module_version": "1.5.0",
          "state": {
            "_model_module": "@jupyter-widgets/controls",
            "_model_module_version": "1.5.0",
            "_model_name": "DescriptionStyleModel",
            "_view_count": null,
            "_view_module": "@jupyter-widgets/base",
            "_view_module_version": "1.2.0",
            "_view_name": "StyleView",
            "description_width": ""
          }
        },
        "2ac8a2d2441d4a4f82cf1b4e6d3fb24a": {
          "model_module": "@jupyter-widgets/base",
          "model_name": "LayoutModel",
          "model_module_version": "1.2.0",
          "state": {
            "_model_module": "@jupyter-widgets/base",
            "_model_module_version": "1.2.0",
            "_model_name": "LayoutModel",
            "_view_count": null,
            "_view_module": "@jupyter-widgets/base",
            "_view_module_version": "1.2.0",
            "_view_name": "LayoutView",
            "align_content": null,
            "align_items": null,
            "align_self": null,
            "border": null,
            "bottom": null,
            "display": null,
            "flex": null,
            "flex_flow": null,
            "grid_area": null,
            "grid_auto_columns": null,
            "grid_auto_flow": null,
            "grid_auto_rows": null,
            "grid_column": null,
            "grid_gap": null,
            "grid_row": null,
            "grid_template_areas": null,
            "grid_template_columns": null,
            "grid_template_rows": null,
            "height": null,
            "justify_content": null,
            "justify_items": null,
            "left": null,
            "margin": null,
            "max_height": null,
            "max_width": null,
            "min_height": null,
            "min_width": null,
            "object_fit": null,
            "object_position": null,
            "order": null,
            "overflow": null,
            "overflow_x": null,
            "overflow_y": null,
            "padding": null,
            "right": null,
            "top": null,
            "visibility": null,
            "width": null
          }
        },
        "90f0852f76d34ac6a6a0592b0217a116": {
          "model_module": "@jupyter-widgets/controls",
          "model_name": "ProgressStyleModel",
          "model_module_version": "1.5.0",
          "state": {
            "_model_module": "@jupyter-widgets/controls",
            "_model_module_version": "1.5.0",
            "_model_name": "ProgressStyleModel",
            "_view_count": null,
            "_view_module": "@jupyter-widgets/base",
            "_view_module_version": "1.2.0",
            "_view_name": "StyleView",
            "bar_color": null,
            "description_width": ""
          }
        },
        "e6fec7d5c4c04a8381344f001f30697a": {
          "model_module": "@jupyter-widgets/controls",
          "model_name": "VBoxModel",
          "model_module_version": "1.5.0",
          "state": {
            "_dom_classes": [],
            "_model_module": "@jupyter-widgets/controls",
            "_model_module_version": "1.5.0",
            "_model_name": "VBoxModel",
            "_view_count": null,
            "_view_module": "@jupyter-widgets/controls",
            "_view_module_version": "1.5.0",
            "_view_name": "VBoxView",
            "box_style": "",
            "children": [
              "IPY_MODEL_8dab2dbe0e4c4d9cb64939ef96666e8d",
              "IPY_MODEL_ba41835d84664507a42eca0b5e00989b"
            ],
            "layout": "IPY_MODEL_90450bf2ac594403b2b7edfbb0b0d214"
          }
        },
        "8dab2dbe0e4c4d9cb64939ef96666e8d": {
          "model_module": "@jupyter-widgets/controls",
          "model_name": "LabelModel",
          "model_module_version": "1.5.0",
          "state": {
            "_dom_classes": [],
            "_model_module": "@jupyter-widgets/controls",
            "_model_module_version": "1.5.0",
            "_model_name": "LabelModel",
            "_view_count": null,
            "_view_module": "@jupyter-widgets/controls",
            "_view_module_version": "1.5.0",
            "_view_name": "LabelView",
            "description": "",
            "description_tooltip": null,
            "layout": "IPY_MODEL_f59fd92bf5984d7a8357a97c8223a3d7",
            "placeholder": "​",
            "style": "IPY_MODEL_1fb9c688bdfc49d6b3e952a92cfc966b",
            "value": ""
          }
        },
        "ba41835d84664507a42eca0b5e00989b": {
          "model_module": "@jupyter-widgets/controls",
          "model_name": "FloatProgressModel",
          "model_module_version": "1.5.0",
          "state": {
            "_dom_classes": [],
            "_model_module": "@jupyter-widgets/controls",
            "_model_module_version": "1.5.0",
            "_model_name": "FloatProgressModel",
            "_view_count": null,
            "_view_module": "@jupyter-widgets/controls",
            "_view_module_version": "1.5.0",
            "_view_name": "ProgressView",
            "bar_style": "",
            "description": "",
            "description_tooltip": null,
            "layout": "IPY_MODEL_da759c056fae48c788455647d51f16e1",
            "max": 1,
            "min": 0,
            "orientation": "horizontal",
            "style": "IPY_MODEL_ffc9aad0190746058b9524f000bad7e0",
            "value": 0
          }
        },
        "90450bf2ac594403b2b7edfbb0b0d214": {
          "model_module": "@jupyter-widgets/base",
          "model_name": "LayoutModel",
          "model_module_version": "1.2.0",
          "state": {
            "_model_module": "@jupyter-widgets/base",
            "_model_module_version": "1.2.0",
            "_model_name": "LayoutModel",
            "_view_count": null,
            "_view_module": "@jupyter-widgets/base",
            "_view_module_version": "1.2.0",
            "_view_name": "LayoutView",
            "align_content": null,
            "align_items": null,
            "align_self": null,
            "border": null,
            "bottom": null,
            "display": null,
            "flex": null,
            "flex_flow": null,
            "grid_area": null,
            "grid_auto_columns": null,
            "grid_auto_flow": null,
            "grid_auto_rows": null,
            "grid_column": null,
            "grid_gap": null,
            "grid_row": null,
            "grid_template_areas": null,
            "grid_template_columns": null,
            "grid_template_rows": null,
            "height": null,
            "justify_content": null,
            "justify_items": null,
            "left": null,
            "margin": null,
            "max_height": null,
            "max_width": null,
            "min_height": null,
            "min_width": null,
            "object_fit": null,
            "object_position": null,
            "order": null,
            "overflow": null,
            "overflow_x": null,
            "overflow_y": null,
            "padding": null,
            "right": null,
            "top": null,
            "visibility": null,
            "width": null
          }
        },
        "f59fd92bf5984d7a8357a97c8223a3d7": {
          "model_module": "@jupyter-widgets/base",
          "model_name": "LayoutModel",
          "model_module_version": "1.2.0",
          "state": {
            "_model_module": "@jupyter-widgets/base",
            "_model_module_version": "1.2.0",
            "_model_name": "LayoutModel",
            "_view_count": null,
            "_view_module": "@jupyter-widgets/base",
            "_view_module_version": "1.2.0",
            "_view_name": "LayoutView",
            "align_content": null,
            "align_items": null,
            "align_self": null,
            "border": null,
            "bottom": null,
            "display": null,
            "flex": null,
            "flex_flow": null,
            "grid_area": null,
            "grid_auto_columns": null,
            "grid_auto_flow": null,
            "grid_auto_rows": null,
            "grid_column": null,
            "grid_gap": null,
            "grid_row": null,
            "grid_template_areas": null,
            "grid_template_columns": null,
            "grid_template_rows": null,
            "height": null,
            "justify_content": null,
            "justify_items": null,
            "left": null,
            "margin": null,
            "max_height": null,
            "max_width": null,
            "min_height": null,
            "min_width": null,
            "object_fit": null,
            "object_position": null,
            "order": null,
            "overflow": null,
            "overflow_x": null,
            "overflow_y": null,
            "padding": null,
            "right": null,
            "top": null,
            "visibility": null,
            "width": null
          }
        },
        "1fb9c688bdfc49d6b3e952a92cfc966b": {
          "model_module": "@jupyter-widgets/controls",
          "model_name": "DescriptionStyleModel",
          "model_module_version": "1.5.0",
          "state": {
            "_model_module": "@jupyter-widgets/controls",
            "_model_module_version": "1.5.0",
            "_model_name": "DescriptionStyleModel",
            "_view_count": null,
            "_view_module": "@jupyter-widgets/base",
            "_view_module_version": "1.2.0",
            "_view_name": "StyleView",
            "description_width": ""
          }
        },
        "da759c056fae48c788455647d51f16e1": {
          "model_module": "@jupyter-widgets/base",
          "model_name": "LayoutModel",
          "model_module_version": "1.2.0",
          "state": {
            "_model_module": "@jupyter-widgets/base",
            "_model_module_version": "1.2.0",
            "_model_name": "LayoutModel",
            "_view_count": null,
            "_view_module": "@jupyter-widgets/base",
            "_view_module_version": "1.2.0",
            "_view_name": "LayoutView",
            "align_content": null,
            "align_items": null,
            "align_self": null,
            "border": null,
            "bottom": null,
            "display": null,
            "flex": null,
            "flex_flow": null,
            "grid_area": null,
            "grid_auto_columns": null,
            "grid_auto_flow": null,
            "grid_auto_rows": null,
            "grid_column": null,
            "grid_gap": null,
            "grid_row": null,
            "grid_template_areas": null,
            "grid_template_columns": null,
            "grid_template_rows": null,
            "height": null,
            "justify_content": null,
            "justify_items": null,
            "left": null,
            "margin": null,
            "max_height": null,
            "max_width": null,
            "min_height": null,
            "min_width": null,
            "object_fit": null,
            "object_position": null,
            "order": null,
            "overflow": null,
            "overflow_x": null,
            "overflow_y": null,
            "padding": null,
            "right": null,
            "top": null,
            "visibility": null,
            "width": null
          }
        },
        "ffc9aad0190746058b9524f000bad7e0": {
          "model_module": "@jupyter-widgets/controls",
          "model_name": "ProgressStyleModel",
          "model_module_version": "1.5.0",
          "state": {
            "_model_module": "@jupyter-widgets/controls",
            "_model_module_version": "1.5.0",
            "_model_name": "ProgressStyleModel",
            "_view_count": null,
            "_view_module": "@jupyter-widgets/base",
            "_view_module_version": "1.2.0",
            "_view_name": "StyleView",
            "bar_color": null,
            "description_width": ""
          }
        },
        "f781e802512c4d0b8a3d0b404ec94543": {
          "model_module": "@jupyter-widgets/controls",
          "model_name": "VBoxModel",
          "model_module_version": "1.5.0",
          "state": {
            "_dom_classes": [],
            "_model_module": "@jupyter-widgets/controls",
            "_model_module_version": "1.5.0",
            "_model_name": "VBoxModel",
            "_view_count": null,
            "_view_module": "@jupyter-widgets/controls",
            "_view_module_version": "1.5.0",
            "_view_name": "VBoxView",
            "box_style": "",
            "children": [
              "IPY_MODEL_4ef16522dc0646c08850f7d7e25430ae",
              "IPY_MODEL_a586260870a7498ca6c2a811cc8b4234"
            ],
            "layout": "IPY_MODEL_583cbcd33bff47bea90fc56a4f970ecf"
          }
        },
        "4ef16522dc0646c08850f7d7e25430ae": {
          "model_module": "@jupyter-widgets/controls",
          "model_name": "LabelModel",
          "model_module_version": "1.5.0",
          "state": {
            "_dom_classes": [],
            "_model_module": "@jupyter-widgets/controls",
            "_model_module_version": "1.5.0",
            "_model_name": "LabelModel",
            "_view_count": null,
            "_view_module": "@jupyter-widgets/controls",
            "_view_module_version": "1.5.0",
            "_view_name": "LabelView",
            "description": "",
            "description_tooltip": null,
            "layout": "IPY_MODEL_7776927eb2a2447b85aee188d95de281",
            "placeholder": "​",
            "style": "IPY_MODEL_9c6d1284a9634e79b5c16c6999dc4a5f",
            "value": "903.870 MB of 903.870 MB uploaded (0.000 MB deduped)\r"
          }
        },
        "a586260870a7498ca6c2a811cc8b4234": {
          "model_module": "@jupyter-widgets/controls",
          "model_name": "FloatProgressModel",
          "model_module_version": "1.5.0",
          "state": {
            "_dom_classes": [],
            "_model_module": "@jupyter-widgets/controls",
            "_model_module_version": "1.5.0",
            "_model_name": "FloatProgressModel",
            "_view_count": null,
            "_view_module": "@jupyter-widgets/controls",
            "_view_module_version": "1.5.0",
            "_view_name": "ProgressView",
            "bar_style": "",
            "description": "",
            "description_tooltip": null,
            "layout": "IPY_MODEL_fa3eae5e5a7a420c94e7193402d27c61",
            "max": 1,
            "min": 0,
            "orientation": "horizontal",
            "style": "IPY_MODEL_c5654746b9c640b09a8d0db6afb57439",
            "value": 1
          }
        },
        "583cbcd33bff47bea90fc56a4f970ecf": {
          "model_module": "@jupyter-widgets/base",
          "model_name": "LayoutModel",
          "model_module_version": "1.2.0",
          "state": {
            "_model_module": "@jupyter-widgets/base",
            "_model_module_version": "1.2.0",
            "_model_name": "LayoutModel",
            "_view_count": null,
            "_view_module": "@jupyter-widgets/base",
            "_view_module_version": "1.2.0",
            "_view_name": "LayoutView",
            "align_content": null,
            "align_items": null,
            "align_self": null,
            "border": null,
            "bottom": null,
            "display": null,
            "flex": null,
            "flex_flow": null,
            "grid_area": null,
            "grid_auto_columns": null,
            "grid_auto_flow": null,
            "grid_auto_rows": null,
            "grid_column": null,
            "grid_gap": null,
            "grid_row": null,
            "grid_template_areas": null,
            "grid_template_columns": null,
            "grid_template_rows": null,
            "height": null,
            "justify_content": null,
            "justify_items": null,
            "left": null,
            "margin": null,
            "max_height": null,
            "max_width": null,
            "min_height": null,
            "min_width": null,
            "object_fit": null,
            "object_position": null,
            "order": null,
            "overflow": null,
            "overflow_x": null,
            "overflow_y": null,
            "padding": null,
            "right": null,
            "top": null,
            "visibility": null,
            "width": null
          }
        },
        "7776927eb2a2447b85aee188d95de281": {
          "model_module": "@jupyter-widgets/base",
          "model_name": "LayoutModel",
          "model_module_version": "1.2.0",
          "state": {
            "_model_module": "@jupyter-widgets/base",
            "_model_module_version": "1.2.0",
            "_model_name": "LayoutModel",
            "_view_count": null,
            "_view_module": "@jupyter-widgets/base",
            "_view_module_version": "1.2.0",
            "_view_name": "LayoutView",
            "align_content": null,
            "align_items": null,
            "align_self": null,
            "border": null,
            "bottom": null,
            "display": null,
            "flex": null,
            "flex_flow": null,
            "grid_area": null,
            "grid_auto_columns": null,
            "grid_auto_flow": null,
            "grid_auto_rows": null,
            "grid_column": null,
            "grid_gap": null,
            "grid_row": null,
            "grid_template_areas": null,
            "grid_template_columns": null,
            "grid_template_rows": null,
            "height": null,
            "justify_content": null,
            "justify_items": null,
            "left": null,
            "margin": null,
            "max_height": null,
            "max_width": null,
            "min_height": null,
            "min_width": null,
            "object_fit": null,
            "object_position": null,
            "order": null,
            "overflow": null,
            "overflow_x": null,
            "overflow_y": null,
            "padding": null,
            "right": null,
            "top": null,
            "visibility": null,
            "width": null
          }
        },
        "9c6d1284a9634e79b5c16c6999dc4a5f": {
          "model_module": "@jupyter-widgets/controls",
          "model_name": "DescriptionStyleModel",
          "model_module_version": "1.5.0",
          "state": {
            "_model_module": "@jupyter-widgets/controls",
            "_model_module_version": "1.5.0",
            "_model_name": "DescriptionStyleModel",
            "_view_count": null,
            "_view_module": "@jupyter-widgets/base",
            "_view_module_version": "1.2.0",
            "_view_name": "StyleView",
            "description_width": ""
          }
        },
        "fa3eae5e5a7a420c94e7193402d27c61": {
          "model_module": "@jupyter-widgets/base",
          "model_name": "LayoutModel",
          "model_module_version": "1.2.0",
          "state": {
            "_model_module": "@jupyter-widgets/base",
            "_model_module_version": "1.2.0",
            "_model_name": "LayoutModel",
            "_view_count": null,
            "_view_module": "@jupyter-widgets/base",
            "_view_module_version": "1.2.0",
            "_view_name": "LayoutView",
            "align_content": null,
            "align_items": null,
            "align_self": null,
            "border": null,
            "bottom": null,
            "display": null,
            "flex": null,
            "flex_flow": null,
            "grid_area": null,
            "grid_auto_columns": null,
            "grid_auto_flow": null,
            "grid_auto_rows": null,
            "grid_column": null,
            "grid_gap": null,
            "grid_row": null,
            "grid_template_areas": null,
            "grid_template_columns": null,
            "grid_template_rows": null,
            "height": null,
            "justify_content": null,
            "justify_items": null,
            "left": null,
            "margin": null,
            "max_height": null,
            "max_width": null,
            "min_height": null,
            "min_width": null,
            "object_fit": null,
            "object_position": null,
            "order": null,
            "overflow": null,
            "overflow_x": null,
            "overflow_y": null,
            "padding": null,
            "right": null,
            "top": null,
            "visibility": null,
            "width": null
          }
        },
        "c5654746b9c640b09a8d0db6afb57439": {
          "model_module": "@jupyter-widgets/controls",
          "model_name": "ProgressStyleModel",
          "model_module_version": "1.5.0",
          "state": {
            "_model_module": "@jupyter-widgets/controls",
            "_model_module_version": "1.5.0",
            "_model_name": "ProgressStyleModel",
            "_view_count": null,
            "_view_module": "@jupyter-widgets/base",
            "_view_module_version": "1.2.0",
            "_view_name": "StyleView",
            "bar_color": null,
            "description_width": ""
          }
        },
        "15472693f8634fbc80ef4f84e466de38": {
          "model_module": "@jupyter-widgets/controls",
          "model_name": "VBoxModel",
          "model_module_version": "1.5.0",
          "state": {
            "_dom_classes": [],
            "_model_module": "@jupyter-widgets/controls",
            "_model_module_version": "1.5.0",
            "_model_name": "VBoxModel",
            "_view_count": null,
            "_view_module": "@jupyter-widgets/controls",
            "_view_module_version": "1.5.0",
            "_view_name": "VBoxView",
            "box_style": "",
            "children": [
              "IPY_MODEL_52ea02a6148e40b080f30bad0b5fae57",
              "IPY_MODEL_2bec3c5b1c7e47fab72a896cc9117207"
            ],
            "layout": "IPY_MODEL_15353488886a499bb14c8fabb1358762"
          }
        },
        "52ea02a6148e40b080f30bad0b5fae57": {
          "model_module": "@jupyter-widgets/controls",
          "model_name": "LabelModel",
          "model_module_version": "1.5.0",
          "state": {
            "_dom_classes": [],
            "_model_module": "@jupyter-widgets/controls",
            "_model_module_version": "1.5.0",
            "_model_name": "LabelModel",
            "_view_count": null,
            "_view_module": "@jupyter-widgets/controls",
            "_view_module_version": "1.5.0",
            "_view_name": "LabelView",
            "description": "",
            "description_tooltip": null,
            "layout": "IPY_MODEL_ed55234bc2e0435e84c989bb5c3919fd",
            "placeholder": "​",
            "style": "IPY_MODEL_92a072c665c74f8cb633704062908d56",
            "value": "410.459 MB of 410.459 MB uploaded (0.000 MB deduped)\r"
          }
        },
        "2bec3c5b1c7e47fab72a896cc9117207": {
          "model_module": "@jupyter-widgets/controls",
          "model_name": "FloatProgressModel",
          "model_module_version": "1.5.0",
          "state": {
            "_dom_classes": [],
            "_model_module": "@jupyter-widgets/controls",
            "_model_module_version": "1.5.0",
            "_model_name": "FloatProgressModel",
            "_view_count": null,
            "_view_module": "@jupyter-widgets/controls",
            "_view_module_version": "1.5.0",
            "_view_name": "ProgressView",
            "bar_style": "",
            "description": "",
            "description_tooltip": null,
            "layout": "IPY_MODEL_82eec3b9e6844cd7a939c6243f2506b1",
            "max": 1,
            "min": 0,
            "orientation": "horizontal",
            "style": "IPY_MODEL_a121a46a7a424cf2ae6be9ef2e20bd16",
            "value": 1
          }
        },
        "15353488886a499bb14c8fabb1358762": {
          "model_module": "@jupyter-widgets/base",
          "model_name": "LayoutModel",
          "model_module_version": "1.2.0",
          "state": {
            "_model_module": "@jupyter-widgets/base",
            "_model_module_version": "1.2.0",
            "_model_name": "LayoutModel",
            "_view_count": null,
            "_view_module": "@jupyter-widgets/base",
            "_view_module_version": "1.2.0",
            "_view_name": "LayoutView",
            "align_content": null,
            "align_items": null,
            "align_self": null,
            "border": null,
            "bottom": null,
            "display": null,
            "flex": null,
            "flex_flow": null,
            "grid_area": null,
            "grid_auto_columns": null,
            "grid_auto_flow": null,
            "grid_auto_rows": null,
            "grid_column": null,
            "grid_gap": null,
            "grid_row": null,
            "grid_template_areas": null,
            "grid_template_columns": null,
            "grid_template_rows": null,
            "height": null,
            "justify_content": null,
            "justify_items": null,
            "left": null,
            "margin": null,
            "max_height": null,
            "max_width": null,
            "min_height": null,
            "min_width": null,
            "object_fit": null,
            "object_position": null,
            "order": null,
            "overflow": null,
            "overflow_x": null,
            "overflow_y": null,
            "padding": null,
            "right": null,
            "top": null,
            "visibility": null,
            "width": null
          }
        },
        "ed55234bc2e0435e84c989bb5c3919fd": {
          "model_module": "@jupyter-widgets/base",
          "model_name": "LayoutModel",
          "model_module_version": "1.2.0",
          "state": {
            "_model_module": "@jupyter-widgets/base",
            "_model_module_version": "1.2.0",
            "_model_name": "LayoutModel",
            "_view_count": null,
            "_view_module": "@jupyter-widgets/base",
            "_view_module_version": "1.2.0",
            "_view_name": "LayoutView",
            "align_content": null,
            "align_items": null,
            "align_self": null,
            "border": null,
            "bottom": null,
            "display": null,
            "flex": null,
            "flex_flow": null,
            "grid_area": null,
            "grid_auto_columns": null,
            "grid_auto_flow": null,
            "grid_auto_rows": null,
            "grid_column": null,
            "grid_gap": null,
            "grid_row": null,
            "grid_template_areas": null,
            "grid_template_columns": null,
            "grid_template_rows": null,
            "height": null,
            "justify_content": null,
            "justify_items": null,
            "left": null,
            "margin": null,
            "max_height": null,
            "max_width": null,
            "min_height": null,
            "min_width": null,
            "object_fit": null,
            "object_position": null,
            "order": null,
            "overflow": null,
            "overflow_x": null,
            "overflow_y": null,
            "padding": null,
            "right": null,
            "top": null,
            "visibility": null,
            "width": null
          }
        },
        "92a072c665c74f8cb633704062908d56": {
          "model_module": "@jupyter-widgets/controls",
          "model_name": "DescriptionStyleModel",
          "model_module_version": "1.5.0",
          "state": {
            "_model_module": "@jupyter-widgets/controls",
            "_model_module_version": "1.5.0",
            "_model_name": "DescriptionStyleModel",
            "_view_count": null,
            "_view_module": "@jupyter-widgets/base",
            "_view_module_version": "1.2.0",
            "_view_name": "StyleView",
            "description_width": ""
          }
        },
        "82eec3b9e6844cd7a939c6243f2506b1": {
          "model_module": "@jupyter-widgets/base",
          "model_name": "LayoutModel",
          "model_module_version": "1.2.0",
          "state": {
            "_model_module": "@jupyter-widgets/base",
            "_model_module_version": "1.2.0",
            "_model_name": "LayoutModel",
            "_view_count": null,
            "_view_module": "@jupyter-widgets/base",
            "_view_module_version": "1.2.0",
            "_view_name": "LayoutView",
            "align_content": null,
            "align_items": null,
            "align_self": null,
            "border": null,
            "bottom": null,
            "display": null,
            "flex": null,
            "flex_flow": null,
            "grid_area": null,
            "grid_auto_columns": null,
            "grid_auto_flow": null,
            "grid_auto_rows": null,
            "grid_column": null,
            "grid_gap": null,
            "grid_row": null,
            "grid_template_areas": null,
            "grid_template_columns": null,
            "grid_template_rows": null,
            "height": null,
            "justify_content": null,
            "justify_items": null,
            "left": null,
            "margin": null,
            "max_height": null,
            "max_width": null,
            "min_height": null,
            "min_width": null,
            "object_fit": null,
            "object_position": null,
            "order": null,
            "overflow": null,
            "overflow_x": null,
            "overflow_y": null,
            "padding": null,
            "right": null,
            "top": null,
            "visibility": null,
            "width": null
          }
        },
        "a121a46a7a424cf2ae6be9ef2e20bd16": {
          "model_module": "@jupyter-widgets/controls",
          "model_name": "ProgressStyleModel",
          "model_module_version": "1.5.0",
          "state": {
            "_model_module": "@jupyter-widgets/controls",
            "_model_module_version": "1.5.0",
            "_model_name": "ProgressStyleModel",
            "_view_count": null,
            "_view_module": "@jupyter-widgets/base",
            "_view_module_version": "1.2.0",
            "_view_name": "StyleView",
            "bar_color": null,
            "description_width": ""
          }
        },
        "0eb94cdd67dd4d0d8c49e54ad436865e": {
          "model_module": "@jupyter-widgets/controls",
          "model_name": "VBoxModel",
          "model_module_version": "1.5.0",
          "state": {
            "_dom_classes": [],
            "_model_module": "@jupyter-widgets/controls",
            "_model_module_version": "1.5.0",
            "_model_name": "VBoxModel",
            "_view_count": null,
            "_view_module": "@jupyter-widgets/controls",
            "_view_module_version": "1.5.0",
            "_view_name": "VBoxView",
            "box_style": "",
            "children": [
              "IPY_MODEL_5aad70662f9e4b7e8b72d9af1c0b8940",
              "IPY_MODEL_da91a2d8284f403a8266a5c533fb68b7"
            ],
            "layout": "IPY_MODEL_4a805ef7aafc4dddb3d7402a2ebdb825"
          }
        },
        "5aad70662f9e4b7e8b72d9af1c0b8940": {
          "model_module": "@jupyter-widgets/controls",
          "model_name": "LabelModel",
          "model_module_version": "1.5.0",
          "state": {
            "_dom_classes": [],
            "_model_module": "@jupyter-widgets/controls",
            "_model_module_version": "1.5.0",
            "_model_name": "LabelModel",
            "_view_count": null,
            "_view_module": "@jupyter-widgets/controls",
            "_view_module_version": "1.5.0",
            "_view_name": "LabelView",
            "description": "",
            "description_tooltip": null,
            "layout": "IPY_MODEL_018e0b0025a4491abbdfbe622530852f",
            "placeholder": "​",
            "style": "IPY_MODEL_a0d91bc803d34e9ab9d2a73aaeb97f12",
            "value": "519.839 MB of 519.839 MB uploaded (0.000 MB deduped)\r"
          }
        },
        "da91a2d8284f403a8266a5c533fb68b7": {
          "model_module": "@jupyter-widgets/controls",
          "model_name": "FloatProgressModel",
          "model_module_version": "1.5.0",
          "state": {
            "_dom_classes": [],
            "_model_module": "@jupyter-widgets/controls",
            "_model_module_version": "1.5.0",
            "_model_name": "FloatProgressModel",
            "_view_count": null,
            "_view_module": "@jupyter-widgets/controls",
            "_view_module_version": "1.5.0",
            "_view_name": "ProgressView",
            "bar_style": "",
            "description": "",
            "description_tooltip": null,
            "layout": "IPY_MODEL_4f5a4064d20743b6a8ac2885d1c6ee38",
            "max": 1,
            "min": 0,
            "orientation": "horizontal",
            "style": "IPY_MODEL_d2de7c636b60479b8e60e9ff7281ec7b",
            "value": 1
          }
        },
        "4a805ef7aafc4dddb3d7402a2ebdb825": {
          "model_module": "@jupyter-widgets/base",
          "model_name": "LayoutModel",
          "model_module_version": "1.2.0",
          "state": {
            "_model_module": "@jupyter-widgets/base",
            "_model_module_version": "1.2.0",
            "_model_name": "LayoutModel",
            "_view_count": null,
            "_view_module": "@jupyter-widgets/base",
            "_view_module_version": "1.2.0",
            "_view_name": "LayoutView",
            "align_content": null,
            "align_items": null,
            "align_self": null,
            "border": null,
            "bottom": null,
            "display": null,
            "flex": null,
            "flex_flow": null,
            "grid_area": null,
            "grid_auto_columns": null,
            "grid_auto_flow": null,
            "grid_auto_rows": null,
            "grid_column": null,
            "grid_gap": null,
            "grid_row": null,
            "grid_template_areas": null,
            "grid_template_columns": null,
            "grid_template_rows": null,
            "height": null,
            "justify_content": null,
            "justify_items": null,
            "left": null,
            "margin": null,
            "max_height": null,
            "max_width": null,
            "min_height": null,
            "min_width": null,
            "object_fit": null,
            "object_position": null,
            "order": null,
            "overflow": null,
            "overflow_x": null,
            "overflow_y": null,
            "padding": null,
            "right": null,
            "top": null,
            "visibility": null,
            "width": null
          }
        },
        "018e0b0025a4491abbdfbe622530852f": {
          "model_module": "@jupyter-widgets/base",
          "model_name": "LayoutModel",
          "model_module_version": "1.2.0",
          "state": {
            "_model_module": "@jupyter-widgets/base",
            "_model_module_version": "1.2.0",
            "_model_name": "LayoutModel",
            "_view_count": null,
            "_view_module": "@jupyter-widgets/base",
            "_view_module_version": "1.2.0",
            "_view_name": "LayoutView",
            "align_content": null,
            "align_items": null,
            "align_self": null,
            "border": null,
            "bottom": null,
            "display": null,
            "flex": null,
            "flex_flow": null,
            "grid_area": null,
            "grid_auto_columns": null,
            "grid_auto_flow": null,
            "grid_auto_rows": null,
            "grid_column": null,
            "grid_gap": null,
            "grid_row": null,
            "grid_template_areas": null,
            "grid_template_columns": null,
            "grid_template_rows": null,
            "height": null,
            "justify_content": null,
            "justify_items": null,
            "left": null,
            "margin": null,
            "max_height": null,
            "max_width": null,
            "min_height": null,
            "min_width": null,
            "object_fit": null,
            "object_position": null,
            "order": null,
            "overflow": null,
            "overflow_x": null,
            "overflow_y": null,
            "padding": null,
            "right": null,
            "top": null,
            "visibility": null,
            "width": null
          }
        },
        "a0d91bc803d34e9ab9d2a73aaeb97f12": {
          "model_module": "@jupyter-widgets/controls",
          "model_name": "DescriptionStyleModel",
          "model_module_version": "1.5.0",
          "state": {
            "_model_module": "@jupyter-widgets/controls",
            "_model_module_version": "1.5.0",
            "_model_name": "DescriptionStyleModel",
            "_view_count": null,
            "_view_module": "@jupyter-widgets/base",
            "_view_module_version": "1.2.0",
            "_view_name": "StyleView",
            "description_width": ""
          }
        },
        "4f5a4064d20743b6a8ac2885d1c6ee38": {
          "model_module": "@jupyter-widgets/base",
          "model_name": "LayoutModel",
          "model_module_version": "1.2.0",
          "state": {
            "_model_module": "@jupyter-widgets/base",
            "_model_module_version": "1.2.0",
            "_model_name": "LayoutModel",
            "_view_count": null,
            "_view_module": "@jupyter-widgets/base",
            "_view_module_version": "1.2.0",
            "_view_name": "LayoutView",
            "align_content": null,
            "align_items": null,
            "align_self": null,
            "border": null,
            "bottom": null,
            "display": null,
            "flex": null,
            "flex_flow": null,
            "grid_area": null,
            "grid_auto_columns": null,
            "grid_auto_flow": null,
            "grid_auto_rows": null,
            "grid_column": null,
            "grid_gap": null,
            "grid_row": null,
            "grid_template_areas": null,
            "grid_template_columns": null,
            "grid_template_rows": null,
            "height": null,
            "justify_content": null,
            "justify_items": null,
            "left": null,
            "margin": null,
            "max_height": null,
            "max_width": null,
            "min_height": null,
            "min_width": null,
            "object_fit": null,
            "object_position": null,
            "order": null,
            "overflow": null,
            "overflow_x": null,
            "overflow_y": null,
            "padding": null,
            "right": null,
            "top": null,
            "visibility": null,
            "width": null
          }
        },
        "d2de7c636b60479b8e60e9ff7281ec7b": {
          "model_module": "@jupyter-widgets/controls",
          "model_name": "ProgressStyleModel",
          "model_module_version": "1.5.0",
          "state": {
            "_model_module": "@jupyter-widgets/controls",
            "_model_module_version": "1.5.0",
            "_model_name": "ProgressStyleModel",
            "_view_count": null,
            "_view_module": "@jupyter-widgets/base",
            "_view_module_version": "1.2.0",
            "_view_name": "StyleView",
            "bar_color": null,
            "description_width": ""
          }
        },
        "a9d7edd4b2c44e559db4b00046ed8b81": {
          "model_module": "@jupyter-widgets/controls",
          "model_name": "VBoxModel",
          "model_module_version": "1.5.0",
          "state": {
            "_dom_classes": [],
            "_model_module": "@jupyter-widgets/controls",
            "_model_module_version": "1.5.0",
            "_model_name": "VBoxModel",
            "_view_count": null,
            "_view_module": "@jupyter-widgets/controls",
            "_view_module_version": "1.5.0",
            "_view_name": "VBoxView",
            "box_style": "",
            "children": [
              "IPY_MODEL_601e3e6c40b04868a284b1701518b1b2",
              "IPY_MODEL_0686d4bf1b0f4915b8349cf2cdee1edd"
            ],
            "layout": "IPY_MODEL_3accd9c7bd024251ba0cf04a8db44731"
          }
        },
        "601e3e6c40b04868a284b1701518b1b2": {
          "model_module": "@jupyter-widgets/controls",
          "model_name": "LabelModel",
          "model_module_version": "1.5.0",
          "state": {
            "_dom_classes": [],
            "_model_module": "@jupyter-widgets/controls",
            "_model_module_version": "1.5.0",
            "_model_name": "LabelModel",
            "_view_count": null,
            "_view_module": "@jupyter-widgets/controls",
            "_view_module_version": "1.5.0",
            "_view_name": "LabelView",
            "description": "",
            "description_tooltip": null,
            "layout": "IPY_MODEL_43e9201fa5414092b7e5c460050dc9d8",
            "placeholder": "​",
            "style": "IPY_MODEL_665d72ed30be48d9ac4aa4beb9b21e76",
            "value": "519.839 MB of 519.839 MB uploaded (0.000 MB deduped)\r"
          }
        },
        "0686d4bf1b0f4915b8349cf2cdee1edd": {
          "model_module": "@jupyter-widgets/controls",
          "model_name": "FloatProgressModel",
          "model_module_version": "1.5.0",
          "state": {
            "_dom_classes": [],
            "_model_module": "@jupyter-widgets/controls",
            "_model_module_version": "1.5.0",
            "_model_name": "FloatProgressModel",
            "_view_count": null,
            "_view_module": "@jupyter-widgets/controls",
            "_view_module_version": "1.5.0",
            "_view_name": "ProgressView",
            "bar_style": "",
            "description": "",
            "description_tooltip": null,
            "layout": "IPY_MODEL_3c6363e7d0044d37b188a494dbf21de0",
            "max": 1,
            "min": 0,
            "orientation": "horizontal",
            "style": "IPY_MODEL_c489148035564a048b9785085da36bcb",
            "value": 1
          }
        },
        "3accd9c7bd024251ba0cf04a8db44731": {
          "model_module": "@jupyter-widgets/base",
          "model_name": "LayoutModel",
          "model_module_version": "1.2.0",
          "state": {
            "_model_module": "@jupyter-widgets/base",
            "_model_module_version": "1.2.0",
            "_model_name": "LayoutModel",
            "_view_count": null,
            "_view_module": "@jupyter-widgets/base",
            "_view_module_version": "1.2.0",
            "_view_name": "LayoutView",
            "align_content": null,
            "align_items": null,
            "align_self": null,
            "border": null,
            "bottom": null,
            "display": null,
            "flex": null,
            "flex_flow": null,
            "grid_area": null,
            "grid_auto_columns": null,
            "grid_auto_flow": null,
            "grid_auto_rows": null,
            "grid_column": null,
            "grid_gap": null,
            "grid_row": null,
            "grid_template_areas": null,
            "grid_template_columns": null,
            "grid_template_rows": null,
            "height": null,
            "justify_content": null,
            "justify_items": null,
            "left": null,
            "margin": null,
            "max_height": null,
            "max_width": null,
            "min_height": null,
            "min_width": null,
            "object_fit": null,
            "object_position": null,
            "order": null,
            "overflow": null,
            "overflow_x": null,
            "overflow_y": null,
            "padding": null,
            "right": null,
            "top": null,
            "visibility": null,
            "width": null
          }
        },
        "43e9201fa5414092b7e5c460050dc9d8": {
          "model_module": "@jupyter-widgets/base",
          "model_name": "LayoutModel",
          "model_module_version": "1.2.0",
          "state": {
            "_model_module": "@jupyter-widgets/base",
            "_model_module_version": "1.2.0",
            "_model_name": "LayoutModel",
            "_view_count": null,
            "_view_module": "@jupyter-widgets/base",
            "_view_module_version": "1.2.0",
            "_view_name": "LayoutView",
            "align_content": null,
            "align_items": null,
            "align_self": null,
            "border": null,
            "bottom": null,
            "display": null,
            "flex": null,
            "flex_flow": null,
            "grid_area": null,
            "grid_auto_columns": null,
            "grid_auto_flow": null,
            "grid_auto_rows": null,
            "grid_column": null,
            "grid_gap": null,
            "grid_row": null,
            "grid_template_areas": null,
            "grid_template_columns": null,
            "grid_template_rows": null,
            "height": null,
            "justify_content": null,
            "justify_items": null,
            "left": null,
            "margin": null,
            "max_height": null,
            "max_width": null,
            "min_height": null,
            "min_width": null,
            "object_fit": null,
            "object_position": null,
            "order": null,
            "overflow": null,
            "overflow_x": null,
            "overflow_y": null,
            "padding": null,
            "right": null,
            "top": null,
            "visibility": null,
            "width": null
          }
        },
        "665d72ed30be48d9ac4aa4beb9b21e76": {
          "model_module": "@jupyter-widgets/controls",
          "model_name": "DescriptionStyleModel",
          "model_module_version": "1.5.0",
          "state": {
            "_model_module": "@jupyter-widgets/controls",
            "_model_module_version": "1.5.0",
            "_model_name": "DescriptionStyleModel",
            "_view_count": null,
            "_view_module": "@jupyter-widgets/base",
            "_view_module_version": "1.2.0",
            "_view_name": "StyleView",
            "description_width": ""
          }
        },
        "3c6363e7d0044d37b188a494dbf21de0": {
          "model_module": "@jupyter-widgets/base",
          "model_name": "LayoutModel",
          "model_module_version": "1.2.0",
          "state": {
            "_model_module": "@jupyter-widgets/base",
            "_model_module_version": "1.2.0",
            "_model_name": "LayoutModel",
            "_view_count": null,
            "_view_module": "@jupyter-widgets/base",
            "_view_module_version": "1.2.0",
            "_view_name": "LayoutView",
            "align_content": null,
            "align_items": null,
            "align_self": null,
            "border": null,
            "bottom": null,
            "display": null,
            "flex": null,
            "flex_flow": null,
            "grid_area": null,
            "grid_auto_columns": null,
            "grid_auto_flow": null,
            "grid_auto_rows": null,
            "grid_column": null,
            "grid_gap": null,
            "grid_row": null,
            "grid_template_areas": null,
            "grid_template_columns": null,
            "grid_template_rows": null,
            "height": null,
            "justify_content": null,
            "justify_items": null,
            "left": null,
            "margin": null,
            "max_height": null,
            "max_width": null,
            "min_height": null,
            "min_width": null,
            "object_fit": null,
            "object_position": null,
            "order": null,
            "overflow": null,
            "overflow_x": null,
            "overflow_y": null,
            "padding": null,
            "right": null,
            "top": null,
            "visibility": null,
            "width": null
          }
        },
        "c489148035564a048b9785085da36bcb": {
          "model_module": "@jupyter-widgets/controls",
          "model_name": "ProgressStyleModel",
          "model_module_version": "1.5.0",
          "state": {
            "_model_module": "@jupyter-widgets/controls",
            "_model_module_version": "1.5.0",
            "_model_name": "ProgressStyleModel",
            "_view_count": null,
            "_view_module": "@jupyter-widgets/base",
            "_view_module_version": "1.2.0",
            "_view_name": "StyleView",
            "bar_color": null,
            "description_width": ""
          }
        },
        "d77a40232088472f9e5c015dcc22c84a": {
          "model_module": "@jupyter-widgets/controls",
          "model_name": "VBoxModel",
          "model_module_version": "1.5.0",
          "state": {
            "_dom_classes": [],
            "_model_module": "@jupyter-widgets/controls",
            "_model_module_version": "1.5.0",
            "_model_name": "VBoxModel",
            "_view_count": null,
            "_view_module": "@jupyter-widgets/controls",
            "_view_module_version": "1.5.0",
            "_view_name": "VBoxView",
            "box_style": "",
            "children": [
              "IPY_MODEL_ea29851412774754a0496fad3bcb5dc7",
              "IPY_MODEL_1b4c73617b29417a877235c452564885"
            ],
            "layout": "IPY_MODEL_bafb8b29d441432cac24da14342efadd"
          }
        },
        "ea29851412774754a0496fad3bcb5dc7": {
          "model_module": "@jupyter-widgets/controls",
          "model_name": "LabelModel",
          "model_module_version": "1.5.0",
          "state": {
            "_dom_classes": [],
            "_model_module": "@jupyter-widgets/controls",
            "_model_module_version": "1.5.0",
            "_model_name": "LabelModel",
            "_view_count": null,
            "_view_module": "@jupyter-widgets/controls",
            "_view_module_version": "1.5.0",
            "_view_name": "LabelView",
            "description": "",
            "description_tooltip": null,
            "layout": "IPY_MODEL_ad088ec7a2864352aa6e2a85344f0096",
            "placeholder": "​",
            "style": "IPY_MODEL_abffd3321f554f009f886a2e10c40ba3",
            "value": "231.815 MB of 231.815 MB uploaded (0.000 MB deduped)\r"
          }
        },
        "1b4c73617b29417a877235c452564885": {
          "model_module": "@jupyter-widgets/controls",
          "model_name": "FloatProgressModel",
          "model_module_version": "1.5.0",
          "state": {
            "_dom_classes": [],
            "_model_module": "@jupyter-widgets/controls",
            "_model_module_version": "1.5.0",
            "_model_name": "FloatProgressModel",
            "_view_count": null,
            "_view_module": "@jupyter-widgets/controls",
            "_view_module_version": "1.5.0",
            "_view_name": "ProgressView",
            "bar_style": "",
            "description": "",
            "description_tooltip": null,
            "layout": "IPY_MODEL_329e05cab7c94a5c934c295f3f81f214",
            "max": 1,
            "min": 0,
            "orientation": "horizontal",
            "style": "IPY_MODEL_43da07956a2a4fea856c1329912abc12",
            "value": 1
          }
        },
        "bafb8b29d441432cac24da14342efadd": {
          "model_module": "@jupyter-widgets/base",
          "model_name": "LayoutModel",
          "model_module_version": "1.2.0",
          "state": {
            "_model_module": "@jupyter-widgets/base",
            "_model_module_version": "1.2.0",
            "_model_name": "LayoutModel",
            "_view_count": null,
            "_view_module": "@jupyter-widgets/base",
            "_view_module_version": "1.2.0",
            "_view_name": "LayoutView",
            "align_content": null,
            "align_items": null,
            "align_self": null,
            "border": null,
            "bottom": null,
            "display": null,
            "flex": null,
            "flex_flow": null,
            "grid_area": null,
            "grid_auto_columns": null,
            "grid_auto_flow": null,
            "grid_auto_rows": null,
            "grid_column": null,
            "grid_gap": null,
            "grid_row": null,
            "grid_template_areas": null,
            "grid_template_columns": null,
            "grid_template_rows": null,
            "height": null,
            "justify_content": null,
            "justify_items": null,
            "left": null,
            "margin": null,
            "max_height": null,
            "max_width": null,
            "min_height": null,
            "min_width": null,
            "object_fit": null,
            "object_position": null,
            "order": null,
            "overflow": null,
            "overflow_x": null,
            "overflow_y": null,
            "padding": null,
            "right": null,
            "top": null,
            "visibility": null,
            "width": null
          }
        },
        "ad088ec7a2864352aa6e2a85344f0096": {
          "model_module": "@jupyter-widgets/base",
          "model_name": "LayoutModel",
          "model_module_version": "1.2.0",
          "state": {
            "_model_module": "@jupyter-widgets/base",
            "_model_module_version": "1.2.0",
            "_model_name": "LayoutModel",
            "_view_count": null,
            "_view_module": "@jupyter-widgets/base",
            "_view_module_version": "1.2.0",
            "_view_name": "LayoutView",
            "align_content": null,
            "align_items": null,
            "align_self": null,
            "border": null,
            "bottom": null,
            "display": null,
            "flex": null,
            "flex_flow": null,
            "grid_area": null,
            "grid_auto_columns": null,
            "grid_auto_flow": null,
            "grid_auto_rows": null,
            "grid_column": null,
            "grid_gap": null,
            "grid_row": null,
            "grid_template_areas": null,
            "grid_template_columns": null,
            "grid_template_rows": null,
            "height": null,
            "justify_content": null,
            "justify_items": null,
            "left": null,
            "margin": null,
            "max_height": null,
            "max_width": null,
            "min_height": null,
            "min_width": null,
            "object_fit": null,
            "object_position": null,
            "order": null,
            "overflow": null,
            "overflow_x": null,
            "overflow_y": null,
            "padding": null,
            "right": null,
            "top": null,
            "visibility": null,
            "width": null
          }
        },
        "abffd3321f554f009f886a2e10c40ba3": {
          "model_module": "@jupyter-widgets/controls",
          "model_name": "DescriptionStyleModel",
          "model_module_version": "1.5.0",
          "state": {
            "_model_module": "@jupyter-widgets/controls",
            "_model_module_version": "1.5.0",
            "_model_name": "DescriptionStyleModel",
            "_view_count": null,
            "_view_module": "@jupyter-widgets/base",
            "_view_module_version": "1.2.0",
            "_view_name": "StyleView",
            "description_width": ""
          }
        },
        "329e05cab7c94a5c934c295f3f81f214": {
          "model_module": "@jupyter-widgets/base",
          "model_name": "LayoutModel",
          "model_module_version": "1.2.0",
          "state": {
            "_model_module": "@jupyter-widgets/base",
            "_model_module_version": "1.2.0",
            "_model_name": "LayoutModel",
            "_view_count": null,
            "_view_module": "@jupyter-widgets/base",
            "_view_module_version": "1.2.0",
            "_view_name": "LayoutView",
            "align_content": null,
            "align_items": null,
            "align_self": null,
            "border": null,
            "bottom": null,
            "display": null,
            "flex": null,
            "flex_flow": null,
            "grid_area": null,
            "grid_auto_columns": null,
            "grid_auto_flow": null,
            "grid_auto_rows": null,
            "grid_column": null,
            "grid_gap": null,
            "grid_row": null,
            "grid_template_areas": null,
            "grid_template_columns": null,
            "grid_template_rows": null,
            "height": null,
            "justify_content": null,
            "justify_items": null,
            "left": null,
            "margin": null,
            "max_height": null,
            "max_width": null,
            "min_height": null,
            "min_width": null,
            "object_fit": null,
            "object_position": null,
            "order": null,
            "overflow": null,
            "overflow_x": null,
            "overflow_y": null,
            "padding": null,
            "right": null,
            "top": null,
            "visibility": null,
            "width": null
          }
        },
        "43da07956a2a4fea856c1329912abc12": {
          "model_module": "@jupyter-widgets/controls",
          "model_name": "ProgressStyleModel",
          "model_module_version": "1.5.0",
          "state": {
            "_model_module": "@jupyter-widgets/controls",
            "_model_module_version": "1.5.0",
            "_model_name": "ProgressStyleModel",
            "_view_count": null,
            "_view_module": "@jupyter-widgets/base",
            "_view_module_version": "1.2.0",
            "_view_name": "StyleView",
            "bar_color": null,
            "description_width": ""
          }
        },
        "5d809e58cafa43aba6451726baac9f6b": {
          "model_module": "@jupyter-widgets/controls",
          "model_name": "VBoxModel",
          "model_module_version": "1.5.0",
          "state": {
            "_dom_classes": [],
            "_model_module": "@jupyter-widgets/controls",
            "_model_module_version": "1.5.0",
            "_model_name": "VBoxModel",
            "_view_count": null,
            "_view_module": "@jupyter-widgets/controls",
            "_view_module_version": "1.5.0",
            "_view_name": "VBoxView",
            "box_style": "",
            "children": [
              "IPY_MODEL_5c47c7a7faad410fbe3b2a7a1c878109",
              "IPY_MODEL_28cce1916e5c4686a192353d918e23c9"
            ],
            "layout": "IPY_MODEL_ed602221267549b6a3280b9f8db85998"
          }
        },
        "5c47c7a7faad410fbe3b2a7a1c878109": {
          "model_module": "@jupyter-widgets/controls",
          "model_name": "LabelModel",
          "model_module_version": "1.5.0",
          "state": {
            "_dom_classes": [],
            "_model_module": "@jupyter-widgets/controls",
            "_model_module_version": "1.5.0",
            "_model_name": "LabelModel",
            "_view_count": null,
            "_view_module": "@jupyter-widgets/controls",
            "_view_module_version": "1.5.0",
            "_view_name": "LabelView",
            "description": "",
            "description_tooltip": null,
            "layout": "IPY_MODEL_dc9f21513fb440038224f98785c43cd8",
            "placeholder": "​",
            "style": "IPY_MODEL_621bbf261d7748e494ba1f1b0d7fe52d",
            "value": "327.824 MB of 327.824 MB uploaded (0.000 MB deduped)\r"
          }
        },
        "28cce1916e5c4686a192353d918e23c9": {
          "model_module": "@jupyter-widgets/controls",
          "model_name": "FloatProgressModel",
          "model_module_version": "1.5.0",
          "state": {
            "_dom_classes": [],
            "_model_module": "@jupyter-widgets/controls",
            "_model_module_version": "1.5.0",
            "_model_name": "FloatProgressModel",
            "_view_count": null,
            "_view_module": "@jupyter-widgets/controls",
            "_view_module_version": "1.5.0",
            "_view_name": "ProgressView",
            "bar_style": "",
            "description": "",
            "description_tooltip": null,
            "layout": "IPY_MODEL_c3606cec9ae7417d9642ea0b62f3a22f",
            "max": 1,
            "min": 0,
            "orientation": "horizontal",
            "style": "IPY_MODEL_1497926a53564baba9dd45096ec41ae0",
            "value": 1
          }
        },
        "ed602221267549b6a3280b9f8db85998": {
          "model_module": "@jupyter-widgets/base",
          "model_name": "LayoutModel",
          "model_module_version": "1.2.0",
          "state": {
            "_model_module": "@jupyter-widgets/base",
            "_model_module_version": "1.2.0",
            "_model_name": "LayoutModel",
            "_view_count": null,
            "_view_module": "@jupyter-widgets/base",
            "_view_module_version": "1.2.0",
            "_view_name": "LayoutView",
            "align_content": null,
            "align_items": null,
            "align_self": null,
            "border": null,
            "bottom": null,
            "display": null,
            "flex": null,
            "flex_flow": null,
            "grid_area": null,
            "grid_auto_columns": null,
            "grid_auto_flow": null,
            "grid_auto_rows": null,
            "grid_column": null,
            "grid_gap": null,
            "grid_row": null,
            "grid_template_areas": null,
            "grid_template_columns": null,
            "grid_template_rows": null,
            "height": null,
            "justify_content": null,
            "justify_items": null,
            "left": null,
            "margin": null,
            "max_height": null,
            "max_width": null,
            "min_height": null,
            "min_width": null,
            "object_fit": null,
            "object_position": null,
            "order": null,
            "overflow": null,
            "overflow_x": null,
            "overflow_y": null,
            "padding": null,
            "right": null,
            "top": null,
            "visibility": null,
            "width": null
          }
        },
        "dc9f21513fb440038224f98785c43cd8": {
          "model_module": "@jupyter-widgets/base",
          "model_name": "LayoutModel",
          "model_module_version": "1.2.0",
          "state": {
            "_model_module": "@jupyter-widgets/base",
            "_model_module_version": "1.2.0",
            "_model_name": "LayoutModel",
            "_view_count": null,
            "_view_module": "@jupyter-widgets/base",
            "_view_module_version": "1.2.0",
            "_view_name": "LayoutView",
            "align_content": null,
            "align_items": null,
            "align_self": null,
            "border": null,
            "bottom": null,
            "display": null,
            "flex": null,
            "flex_flow": null,
            "grid_area": null,
            "grid_auto_columns": null,
            "grid_auto_flow": null,
            "grid_auto_rows": null,
            "grid_column": null,
            "grid_gap": null,
            "grid_row": null,
            "grid_template_areas": null,
            "grid_template_columns": null,
            "grid_template_rows": null,
            "height": null,
            "justify_content": null,
            "justify_items": null,
            "left": null,
            "margin": null,
            "max_height": null,
            "max_width": null,
            "min_height": null,
            "min_width": null,
            "object_fit": null,
            "object_position": null,
            "order": null,
            "overflow": null,
            "overflow_x": null,
            "overflow_y": null,
            "padding": null,
            "right": null,
            "top": null,
            "visibility": null,
            "width": null
          }
        },
        "621bbf261d7748e494ba1f1b0d7fe52d": {
          "model_module": "@jupyter-widgets/controls",
          "model_name": "DescriptionStyleModel",
          "model_module_version": "1.5.0",
          "state": {
            "_model_module": "@jupyter-widgets/controls",
            "_model_module_version": "1.5.0",
            "_model_name": "DescriptionStyleModel",
            "_view_count": null,
            "_view_module": "@jupyter-widgets/base",
            "_view_module_version": "1.2.0",
            "_view_name": "StyleView",
            "description_width": ""
          }
        },
        "c3606cec9ae7417d9642ea0b62f3a22f": {
          "model_module": "@jupyter-widgets/base",
          "model_name": "LayoutModel",
          "model_module_version": "1.2.0",
          "state": {
            "_model_module": "@jupyter-widgets/base",
            "_model_module_version": "1.2.0",
            "_model_name": "LayoutModel",
            "_view_count": null,
            "_view_module": "@jupyter-widgets/base",
            "_view_module_version": "1.2.0",
            "_view_name": "LayoutView",
            "align_content": null,
            "align_items": null,
            "align_self": null,
            "border": null,
            "bottom": null,
            "display": null,
            "flex": null,
            "flex_flow": null,
            "grid_area": null,
            "grid_auto_columns": null,
            "grid_auto_flow": null,
            "grid_auto_rows": null,
            "grid_column": null,
            "grid_gap": null,
            "grid_row": null,
            "grid_template_areas": null,
            "grid_template_columns": null,
            "grid_template_rows": null,
            "height": null,
            "justify_content": null,
            "justify_items": null,
            "left": null,
            "margin": null,
            "max_height": null,
            "max_width": null,
            "min_height": null,
            "min_width": null,
            "object_fit": null,
            "object_position": null,
            "order": null,
            "overflow": null,
            "overflow_x": null,
            "overflow_y": null,
            "padding": null,
            "right": null,
            "top": null,
            "visibility": null,
            "width": null
          }
        },
        "1497926a53564baba9dd45096ec41ae0": {
          "model_module": "@jupyter-widgets/controls",
          "model_name": "ProgressStyleModel",
          "model_module_version": "1.5.0",
          "state": {
            "_model_module": "@jupyter-widgets/controls",
            "_model_module_version": "1.5.0",
            "_model_name": "ProgressStyleModel",
            "_view_count": null,
            "_view_module": "@jupyter-widgets/base",
            "_view_module_version": "1.2.0",
            "_view_name": "StyleView",
            "bar_color": null,
            "description_width": ""
          }
        },
        "0b701143b33c47d181fa4300955637bd": {
          "model_module": "@jupyter-widgets/controls",
          "model_name": "VBoxModel",
          "model_module_version": "1.5.0",
          "state": {
            "_dom_classes": [],
            "_model_module": "@jupyter-widgets/controls",
            "_model_module_version": "1.5.0",
            "_model_name": "VBoxModel",
            "_view_count": null,
            "_view_module": "@jupyter-widgets/controls",
            "_view_module_version": "1.5.0",
            "_view_name": "VBoxView",
            "box_style": "",
            "children": [
              "IPY_MODEL_a3a75eb4b8554c9ab8a14357a1e5a123",
              "IPY_MODEL_61b07ed6c28343688d151dd9d39e086a"
            ],
            "layout": "IPY_MODEL_ab792f3444514362843718dee76a1e26"
          }
        },
        "a3a75eb4b8554c9ab8a14357a1e5a123": {
          "model_module": "@jupyter-widgets/controls",
          "model_name": "LabelModel",
          "model_module_version": "1.5.0",
          "state": {
            "_dom_classes": [],
            "_model_module": "@jupyter-widgets/controls",
            "_model_module_version": "1.5.0",
            "_model_name": "LabelModel",
            "_view_count": null,
            "_view_module": "@jupyter-widgets/controls",
            "_view_module_version": "1.5.0",
            "_view_name": "LabelView",
            "description": "",
            "description_tooltip": null,
            "layout": "IPY_MODEL_abd8b816e6da46b9be500552ccd0a7ef",
            "placeholder": "​",
            "style": "IPY_MODEL_66698976766049c5897b3ae191c555c1",
            "value": "327.824 MB of 327.824 MB uploaded (0.000 MB deduped)\r"
          }
        },
        "61b07ed6c28343688d151dd9d39e086a": {
          "model_module": "@jupyter-widgets/controls",
          "model_name": "FloatProgressModel",
          "model_module_version": "1.5.0",
          "state": {
            "_dom_classes": [],
            "_model_module": "@jupyter-widgets/controls",
            "_model_module_version": "1.5.0",
            "_model_name": "FloatProgressModel",
            "_view_count": null,
            "_view_module": "@jupyter-widgets/controls",
            "_view_module_version": "1.5.0",
            "_view_name": "ProgressView",
            "bar_style": "",
            "description": "",
            "description_tooltip": null,
            "layout": "IPY_MODEL_c2bae11f900d426fbd875ec4e6bf33a7",
            "max": 1,
            "min": 0,
            "orientation": "horizontal",
            "style": "IPY_MODEL_0af4dd19a07d4952894adf9358ca5c2f",
            "value": 1
          }
        },
        "ab792f3444514362843718dee76a1e26": {
          "model_module": "@jupyter-widgets/base",
          "model_name": "LayoutModel",
          "model_module_version": "1.2.0",
          "state": {
            "_model_module": "@jupyter-widgets/base",
            "_model_module_version": "1.2.0",
            "_model_name": "LayoutModel",
            "_view_count": null,
            "_view_module": "@jupyter-widgets/base",
            "_view_module_version": "1.2.0",
            "_view_name": "LayoutView",
            "align_content": null,
            "align_items": null,
            "align_self": null,
            "border": null,
            "bottom": null,
            "display": null,
            "flex": null,
            "flex_flow": null,
            "grid_area": null,
            "grid_auto_columns": null,
            "grid_auto_flow": null,
            "grid_auto_rows": null,
            "grid_column": null,
            "grid_gap": null,
            "grid_row": null,
            "grid_template_areas": null,
            "grid_template_columns": null,
            "grid_template_rows": null,
            "height": null,
            "justify_content": null,
            "justify_items": null,
            "left": null,
            "margin": null,
            "max_height": null,
            "max_width": null,
            "min_height": null,
            "min_width": null,
            "object_fit": null,
            "object_position": null,
            "order": null,
            "overflow": null,
            "overflow_x": null,
            "overflow_y": null,
            "padding": null,
            "right": null,
            "top": null,
            "visibility": null,
            "width": null
          }
        },
        "abd8b816e6da46b9be500552ccd0a7ef": {
          "model_module": "@jupyter-widgets/base",
          "model_name": "LayoutModel",
          "model_module_version": "1.2.0",
          "state": {
            "_model_module": "@jupyter-widgets/base",
            "_model_module_version": "1.2.0",
            "_model_name": "LayoutModel",
            "_view_count": null,
            "_view_module": "@jupyter-widgets/base",
            "_view_module_version": "1.2.0",
            "_view_name": "LayoutView",
            "align_content": null,
            "align_items": null,
            "align_self": null,
            "border": null,
            "bottom": null,
            "display": null,
            "flex": null,
            "flex_flow": null,
            "grid_area": null,
            "grid_auto_columns": null,
            "grid_auto_flow": null,
            "grid_auto_rows": null,
            "grid_column": null,
            "grid_gap": null,
            "grid_row": null,
            "grid_template_areas": null,
            "grid_template_columns": null,
            "grid_template_rows": null,
            "height": null,
            "justify_content": null,
            "justify_items": null,
            "left": null,
            "margin": null,
            "max_height": null,
            "max_width": null,
            "min_height": null,
            "min_width": null,
            "object_fit": null,
            "object_position": null,
            "order": null,
            "overflow": null,
            "overflow_x": null,
            "overflow_y": null,
            "padding": null,
            "right": null,
            "top": null,
            "visibility": null,
            "width": null
          }
        },
        "66698976766049c5897b3ae191c555c1": {
          "model_module": "@jupyter-widgets/controls",
          "model_name": "DescriptionStyleModel",
          "model_module_version": "1.5.0",
          "state": {
            "_model_module": "@jupyter-widgets/controls",
            "_model_module_version": "1.5.0",
            "_model_name": "DescriptionStyleModel",
            "_view_count": null,
            "_view_module": "@jupyter-widgets/base",
            "_view_module_version": "1.2.0",
            "_view_name": "StyleView",
            "description_width": ""
          }
        },
        "c2bae11f900d426fbd875ec4e6bf33a7": {
          "model_module": "@jupyter-widgets/base",
          "model_name": "LayoutModel",
          "model_module_version": "1.2.0",
          "state": {
            "_model_module": "@jupyter-widgets/base",
            "_model_module_version": "1.2.0",
            "_model_name": "LayoutModel",
            "_view_count": null,
            "_view_module": "@jupyter-widgets/base",
            "_view_module_version": "1.2.0",
            "_view_name": "LayoutView",
            "align_content": null,
            "align_items": null,
            "align_self": null,
            "border": null,
            "bottom": null,
            "display": null,
            "flex": null,
            "flex_flow": null,
            "grid_area": null,
            "grid_auto_columns": null,
            "grid_auto_flow": null,
            "grid_auto_rows": null,
            "grid_column": null,
            "grid_gap": null,
            "grid_row": null,
            "grid_template_areas": null,
            "grid_template_columns": null,
            "grid_template_rows": null,
            "height": null,
            "justify_content": null,
            "justify_items": null,
            "left": null,
            "margin": null,
            "max_height": null,
            "max_width": null,
            "min_height": null,
            "min_width": null,
            "object_fit": null,
            "object_position": null,
            "order": null,
            "overflow": null,
            "overflow_x": null,
            "overflow_y": null,
            "padding": null,
            "right": null,
            "top": null,
            "visibility": null,
            "width": null
          }
        },
        "0af4dd19a07d4952894adf9358ca5c2f": {
          "model_module": "@jupyter-widgets/controls",
          "model_name": "ProgressStyleModel",
          "model_module_version": "1.5.0",
          "state": {
            "_model_module": "@jupyter-widgets/controls",
            "_model_module_version": "1.5.0",
            "_model_name": "ProgressStyleModel",
            "_view_count": null,
            "_view_module": "@jupyter-widgets/base",
            "_view_module_version": "1.2.0",
            "_view_name": "StyleView",
            "bar_color": null,
            "description_width": ""
          }
        },
        "9dc10ffcc83e470ab237c46ceba5fa02": {
          "model_module": "@jupyter-widgets/controls",
          "model_name": "VBoxModel",
          "model_module_version": "1.5.0",
          "state": {
            "_dom_classes": [],
            "_model_module": "@jupyter-widgets/controls",
            "_model_module_version": "1.5.0",
            "_model_name": "VBoxModel",
            "_view_count": null,
            "_view_module": "@jupyter-widgets/controls",
            "_view_module_version": "1.5.0",
            "_view_name": "VBoxView",
            "box_style": "",
            "children": [
              "IPY_MODEL_3d59b18ca82948d9b8584f39180a77ec",
              "IPY_MODEL_b2f03da4a283464cb07c8d2a2257e625"
            ],
            "layout": "IPY_MODEL_26f18f42f826485ca0341de821b51961"
          }
        },
        "3d59b18ca82948d9b8584f39180a77ec": {
          "model_module": "@jupyter-widgets/controls",
          "model_name": "LabelModel",
          "model_module_version": "1.5.0",
          "state": {
            "_dom_classes": [],
            "_model_module": "@jupyter-widgets/controls",
            "_model_module_version": "1.5.0",
            "_model_name": "LabelModel",
            "_view_count": null,
            "_view_module": "@jupyter-widgets/controls",
            "_view_module_version": "1.5.0",
            "_view_name": "LabelView",
            "description": "",
            "description_tooltip": null,
            "layout": "IPY_MODEL_77196ba54a3842989fd1d951161d7a5c",
            "placeholder": "​",
            "style": "IPY_MODEL_d632f4ebdaa246db8181c19e99514963",
            "value": "903.871 MB of 903.871 MB uploaded (0.000 MB deduped)\r"
          }
        },
        "b2f03da4a283464cb07c8d2a2257e625": {
          "model_module": "@jupyter-widgets/controls",
          "model_name": "FloatProgressModel",
          "model_module_version": "1.5.0",
          "state": {
            "_dom_classes": [],
            "_model_module": "@jupyter-widgets/controls",
            "_model_module_version": "1.5.0",
            "_model_name": "FloatProgressModel",
            "_view_count": null,
            "_view_module": "@jupyter-widgets/controls",
            "_view_module_version": "1.5.0",
            "_view_name": "ProgressView",
            "bar_style": "",
            "description": "",
            "description_tooltip": null,
            "layout": "IPY_MODEL_449ae53ac33145f5a147a3de14ea72b9",
            "max": 1,
            "min": 0,
            "orientation": "horizontal",
            "style": "IPY_MODEL_e03bcc1e27434162983ed3dfa2814529",
            "value": 1
          }
        },
        "26f18f42f826485ca0341de821b51961": {
          "model_module": "@jupyter-widgets/base",
          "model_name": "LayoutModel",
          "model_module_version": "1.2.0",
          "state": {
            "_model_module": "@jupyter-widgets/base",
            "_model_module_version": "1.2.0",
            "_model_name": "LayoutModel",
            "_view_count": null,
            "_view_module": "@jupyter-widgets/base",
            "_view_module_version": "1.2.0",
            "_view_name": "LayoutView",
            "align_content": null,
            "align_items": null,
            "align_self": null,
            "border": null,
            "bottom": null,
            "display": null,
            "flex": null,
            "flex_flow": null,
            "grid_area": null,
            "grid_auto_columns": null,
            "grid_auto_flow": null,
            "grid_auto_rows": null,
            "grid_column": null,
            "grid_gap": null,
            "grid_row": null,
            "grid_template_areas": null,
            "grid_template_columns": null,
            "grid_template_rows": null,
            "height": null,
            "justify_content": null,
            "justify_items": null,
            "left": null,
            "margin": null,
            "max_height": null,
            "max_width": null,
            "min_height": null,
            "min_width": null,
            "object_fit": null,
            "object_position": null,
            "order": null,
            "overflow": null,
            "overflow_x": null,
            "overflow_y": null,
            "padding": null,
            "right": null,
            "top": null,
            "visibility": null,
            "width": null
          }
        },
        "77196ba54a3842989fd1d951161d7a5c": {
          "model_module": "@jupyter-widgets/base",
          "model_name": "LayoutModel",
          "model_module_version": "1.2.0",
          "state": {
            "_model_module": "@jupyter-widgets/base",
            "_model_module_version": "1.2.0",
            "_model_name": "LayoutModel",
            "_view_count": null,
            "_view_module": "@jupyter-widgets/base",
            "_view_module_version": "1.2.0",
            "_view_name": "LayoutView",
            "align_content": null,
            "align_items": null,
            "align_self": null,
            "border": null,
            "bottom": null,
            "display": null,
            "flex": null,
            "flex_flow": null,
            "grid_area": null,
            "grid_auto_columns": null,
            "grid_auto_flow": null,
            "grid_auto_rows": null,
            "grid_column": null,
            "grid_gap": null,
            "grid_row": null,
            "grid_template_areas": null,
            "grid_template_columns": null,
            "grid_template_rows": null,
            "height": null,
            "justify_content": null,
            "justify_items": null,
            "left": null,
            "margin": null,
            "max_height": null,
            "max_width": null,
            "min_height": null,
            "min_width": null,
            "object_fit": null,
            "object_position": null,
            "order": null,
            "overflow": null,
            "overflow_x": null,
            "overflow_y": null,
            "padding": null,
            "right": null,
            "top": null,
            "visibility": null,
            "width": null
          }
        },
        "d632f4ebdaa246db8181c19e99514963": {
          "model_module": "@jupyter-widgets/controls",
          "model_name": "DescriptionStyleModel",
          "model_module_version": "1.5.0",
          "state": {
            "_model_module": "@jupyter-widgets/controls",
            "_model_module_version": "1.5.0",
            "_model_name": "DescriptionStyleModel",
            "_view_count": null,
            "_view_module": "@jupyter-widgets/base",
            "_view_module_version": "1.2.0",
            "_view_name": "StyleView",
            "description_width": ""
          }
        },
        "449ae53ac33145f5a147a3de14ea72b9": {
          "model_module": "@jupyter-widgets/base",
          "model_name": "LayoutModel",
          "model_module_version": "1.2.0",
          "state": {
            "_model_module": "@jupyter-widgets/base",
            "_model_module_version": "1.2.0",
            "_model_name": "LayoutModel",
            "_view_count": null,
            "_view_module": "@jupyter-widgets/base",
            "_view_module_version": "1.2.0",
            "_view_name": "LayoutView",
            "align_content": null,
            "align_items": null,
            "align_self": null,
            "border": null,
            "bottom": null,
            "display": null,
            "flex": null,
            "flex_flow": null,
            "grid_area": null,
            "grid_auto_columns": null,
            "grid_auto_flow": null,
            "grid_auto_rows": null,
            "grid_column": null,
            "grid_gap": null,
            "grid_row": null,
            "grid_template_areas": null,
            "grid_template_columns": null,
            "grid_template_rows": null,
            "height": null,
            "justify_content": null,
            "justify_items": null,
            "left": null,
            "margin": null,
            "max_height": null,
            "max_width": null,
            "min_height": null,
            "min_width": null,
            "object_fit": null,
            "object_position": null,
            "order": null,
            "overflow": null,
            "overflow_x": null,
            "overflow_y": null,
            "padding": null,
            "right": null,
            "top": null,
            "visibility": null,
            "width": null
          }
        },
        "e03bcc1e27434162983ed3dfa2814529": {
          "model_module": "@jupyter-widgets/controls",
          "model_name": "ProgressStyleModel",
          "model_module_version": "1.5.0",
          "state": {
            "_model_module": "@jupyter-widgets/controls",
            "_model_module_version": "1.5.0",
            "_model_name": "ProgressStyleModel",
            "_view_count": null,
            "_view_module": "@jupyter-widgets/base",
            "_view_module_version": "1.2.0",
            "_view_name": "StyleView",
            "bar_color": null,
            "description_width": ""
          }
        },
        "d46f9b048da54008b64c6ced0b44727c": {
          "model_module": "@jupyter-widgets/controls",
          "model_name": "VBoxModel",
          "model_module_version": "1.5.0",
          "state": {
            "_dom_classes": [],
            "_model_module": "@jupyter-widgets/controls",
            "_model_module_version": "1.5.0",
            "_model_name": "VBoxModel",
            "_view_count": null,
            "_view_module": "@jupyter-widgets/controls",
            "_view_module_version": "1.5.0",
            "_view_name": "VBoxView",
            "box_style": "",
            "children": [
              "IPY_MODEL_1aa7b2129c4642e1866cff3b6652f796",
              "IPY_MODEL_c7d590b5e8f4417c98ebc35ad6e7dae9"
            ],
            "layout": "IPY_MODEL_2008dc781ed649a3a2963617e3f698bc"
          }
        },
        "1aa7b2129c4642e1866cff3b6652f796": {
          "model_module": "@jupyter-widgets/controls",
          "model_name": "LabelModel",
          "model_module_version": "1.5.0",
          "state": {
            "_dom_classes": [],
            "_model_module": "@jupyter-widgets/controls",
            "_model_module_version": "1.5.0",
            "_model_name": "LabelModel",
            "_view_count": null,
            "_view_module": "@jupyter-widgets/controls",
            "_view_module_version": "1.5.0",
            "_view_name": "LabelView",
            "description": "",
            "description_tooltip": null,
            "layout": "IPY_MODEL_ac3b7a83ccbc49649033cc21fb501737",
            "placeholder": "​",
            "style": "IPY_MODEL_7559284bc3bd4868a868e621d5a32e7c",
            "value": "0.015 MB of 0.015 MB uploaded (0.000 MB deduped)\r"
          }
        },
        "c7d590b5e8f4417c98ebc35ad6e7dae9": {
          "model_module": "@jupyter-widgets/controls",
          "model_name": "FloatProgressModel",
          "model_module_version": "1.5.0",
          "state": {
            "_dom_classes": [],
            "_model_module": "@jupyter-widgets/controls",
            "_model_module_version": "1.5.0",
            "_model_name": "FloatProgressModel",
            "_view_count": null,
            "_view_module": "@jupyter-widgets/controls",
            "_view_module_version": "1.5.0",
            "_view_name": "ProgressView",
            "bar_style": "",
            "description": "",
            "description_tooltip": null,
            "layout": "IPY_MODEL_e1478bb97de4459e96580a87023659a6",
            "max": 1,
            "min": 0,
            "orientation": "horizontal",
            "style": "IPY_MODEL_96167ca96d2a44359d515b73f14afd04",
            "value": 1
          }
        },
        "2008dc781ed649a3a2963617e3f698bc": {
          "model_module": "@jupyter-widgets/base",
          "model_name": "LayoutModel",
          "model_module_version": "1.2.0",
          "state": {
            "_model_module": "@jupyter-widgets/base",
            "_model_module_version": "1.2.0",
            "_model_name": "LayoutModel",
            "_view_count": null,
            "_view_module": "@jupyter-widgets/base",
            "_view_module_version": "1.2.0",
            "_view_name": "LayoutView",
            "align_content": null,
            "align_items": null,
            "align_self": null,
            "border": null,
            "bottom": null,
            "display": null,
            "flex": null,
            "flex_flow": null,
            "grid_area": null,
            "grid_auto_columns": null,
            "grid_auto_flow": null,
            "grid_auto_rows": null,
            "grid_column": null,
            "grid_gap": null,
            "grid_row": null,
            "grid_template_areas": null,
            "grid_template_columns": null,
            "grid_template_rows": null,
            "height": null,
            "justify_content": null,
            "justify_items": null,
            "left": null,
            "margin": null,
            "max_height": null,
            "max_width": null,
            "min_height": null,
            "min_width": null,
            "object_fit": null,
            "object_position": null,
            "order": null,
            "overflow": null,
            "overflow_x": null,
            "overflow_y": null,
            "padding": null,
            "right": null,
            "top": null,
            "visibility": null,
            "width": null
          }
        },
        "ac3b7a83ccbc49649033cc21fb501737": {
          "model_module": "@jupyter-widgets/base",
          "model_name": "LayoutModel",
          "model_module_version": "1.2.0",
          "state": {
            "_model_module": "@jupyter-widgets/base",
            "_model_module_version": "1.2.0",
            "_model_name": "LayoutModel",
            "_view_count": null,
            "_view_module": "@jupyter-widgets/base",
            "_view_module_version": "1.2.0",
            "_view_name": "LayoutView",
            "align_content": null,
            "align_items": null,
            "align_self": null,
            "border": null,
            "bottom": null,
            "display": null,
            "flex": null,
            "flex_flow": null,
            "grid_area": null,
            "grid_auto_columns": null,
            "grid_auto_flow": null,
            "grid_auto_rows": null,
            "grid_column": null,
            "grid_gap": null,
            "grid_row": null,
            "grid_template_areas": null,
            "grid_template_columns": null,
            "grid_template_rows": null,
            "height": null,
            "justify_content": null,
            "justify_items": null,
            "left": null,
            "margin": null,
            "max_height": null,
            "max_width": null,
            "min_height": null,
            "min_width": null,
            "object_fit": null,
            "object_position": null,
            "order": null,
            "overflow": null,
            "overflow_x": null,
            "overflow_y": null,
            "padding": null,
            "right": null,
            "top": null,
            "visibility": null,
            "width": null
          }
        },
        "7559284bc3bd4868a868e621d5a32e7c": {
          "model_module": "@jupyter-widgets/controls",
          "model_name": "DescriptionStyleModel",
          "model_module_version": "1.5.0",
          "state": {
            "_model_module": "@jupyter-widgets/controls",
            "_model_module_version": "1.5.0",
            "_model_name": "DescriptionStyleModel",
            "_view_count": null,
            "_view_module": "@jupyter-widgets/base",
            "_view_module_version": "1.2.0",
            "_view_name": "StyleView",
            "description_width": ""
          }
        },
        "e1478bb97de4459e96580a87023659a6": {
          "model_module": "@jupyter-widgets/base",
          "model_name": "LayoutModel",
          "model_module_version": "1.2.0",
          "state": {
            "_model_module": "@jupyter-widgets/base",
            "_model_module_version": "1.2.0",
            "_model_name": "LayoutModel",
            "_view_count": null,
            "_view_module": "@jupyter-widgets/base",
            "_view_module_version": "1.2.0",
            "_view_name": "LayoutView",
            "align_content": null,
            "align_items": null,
            "align_self": null,
            "border": null,
            "bottom": null,
            "display": null,
            "flex": null,
            "flex_flow": null,
            "grid_area": null,
            "grid_auto_columns": null,
            "grid_auto_flow": null,
            "grid_auto_rows": null,
            "grid_column": null,
            "grid_gap": null,
            "grid_row": null,
            "grid_template_areas": null,
            "grid_template_columns": null,
            "grid_template_rows": null,
            "height": null,
            "justify_content": null,
            "justify_items": null,
            "left": null,
            "margin": null,
            "max_height": null,
            "max_width": null,
            "min_height": null,
            "min_width": null,
            "object_fit": null,
            "object_position": null,
            "order": null,
            "overflow": null,
            "overflow_x": null,
            "overflow_y": null,
            "padding": null,
            "right": null,
            "top": null,
            "visibility": null,
            "width": null
          }
        },
        "96167ca96d2a44359d515b73f14afd04": {
          "model_module": "@jupyter-widgets/controls",
          "model_name": "ProgressStyleModel",
          "model_module_version": "1.5.0",
          "state": {
            "_model_module": "@jupyter-widgets/controls",
            "_model_module_version": "1.5.0",
            "_model_name": "ProgressStyleModel",
            "_view_count": null,
            "_view_module": "@jupyter-widgets/base",
            "_view_module_version": "1.2.0",
            "_view_name": "StyleView",
            "bar_color": null,
            "description_width": ""
          }
        }
      }
    }
  },
  "nbformat": 4,
  "nbformat_minor": 0
}