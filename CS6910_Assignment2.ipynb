{
  "nbformat": 4,
  "nbformat_minor": 0,
  "metadata": {
    "colab": {
      "name": "CS6910-Assignment2",
      "provenance": [],
      "collapsed_sections": [],
      "authorship_tag": "ABX9TyNu4ujpyBec7FLZXUiwrjsJ",
      "include_colab_link": true
    },
    "kernelspec": {
      "name": "python3",
      "display_name": "Python 3"
    },
    "language_info": {
      "name": "python"
    },
    "accelerator": "GPU"
  },
  "cells": [
    {
      "cell_type": "markdown",
      "metadata": {
        "id": "view-in-github",
        "colab_type": "text"
      },
      "source": [
        "<a href=\"https://colab.research.google.com/github/safikhanSoofiyani/CS6910-Assignment-2/blob/main/CS6910_Assignment2.ipynb\" target=\"_parent\"><img src=\"https://colab.research.google.com/assets/colab-badge.svg\" alt=\"Open In Colab\"/></a>"
      ]
    },
    {
      "cell_type": "code",
      "execution_count": null,
      "metadata": {
        "id": "3Sq11UttEtFE"
      },
      "outputs": [],
      "source": [
        "import numpy as np\n",
        "import tensorflow as tf\n",
        "\n",
        "# Importing libraries related to Image Preprocessing\n",
        "from tensorflow.keras.utils import image_dataset_from_directory\n",
        "from tensorflow.keras.preprocessing.image import ImageDataGenerator\n",
        "from tensorflow.keras.layers.experimental.preprocessing import Rescaling\n",
        "\n",
        "# Importing libraries related to CNN Model building\n",
        "from tensorflow import keras\n",
        "from tensorflow.keras.models import Sequential,Model\n",
        "from tensorflow.keras.layers import Dense,Flatten,Conv2D,MaxPool2D,Activation,Dropout,BatchNormalization\n",
        "\n",
        "\n"
      ]
    },
    {
      "cell_type": "code",
      "source": [
        "# !pip install wandb\n",
        "# import wandb"
      ],
      "metadata": {
        "id": "ZRsWFbsjFs8w"
      },
      "execution_count": null,
      "outputs": []
    },
    {
      "cell_type": "code",
      "source": [
        "from google.colab import drive\n",
        "drive.mount('/content/drive')"
      ],
      "metadata": {
        "id": "CY6uKcSlGSjG",
        "colab": {
          "base_uri": "https://localhost:8080/"
        },
        "outputId": "b2aeb340-bff4-4663-a634-b7c2ae206c04"
      },
      "execution_count": null,
      "outputs": [
        {
          "output_type": "stream",
          "name": "stdout",
          "text": [
            "Drive already mounted at /content/drive; to attempt to forcibly remount, call drive.mount(\"/content/drive\", force_remount=True).\n"
          ]
        }
      ]
    },
    {
      "cell_type": "code",
      "source": [
        "# Creating a CNN: number of filters, size of filters, activation function has to be \n",
        "# user specified\n",
        "img_shape=(256,256,3)\n",
        "def build_cnn(conv_act , dense_act,num_filters, conv_filter_size, pool_filter_size, batch_norm, dim_final, dropout):\n",
        "  # conv_act         : \"List\" activation used for convolution layer\n",
        "  # dense_act        : \"String\" acitvation used for densely connected layers\n",
        "  # num_filters      : \"List\" number of activation filters for each layer\n",
        "  # conv_filter_size : \"List\" kernel sizes for convultion layers\n",
        "  # pool_filter_size : \"List\" kernel sizes for maxpooling layers\n",
        "  # batch_norm       : \"Boolean\" set to True, if you are using batch normalization\n",
        "  # dim_final        : \"Integer\" dimensionality of output space after 5 blocks of convultion, maxpooling blocks\n",
        "  # dropout          : \"float or double\" specify the dropout % for regularization (in decimals)\n",
        "  \n",
        "  model=Sequential()\n",
        "  # Adding the first conv,activ,maxpool layers\n",
        "  model.add(Conv2D(filters=num_filters[0],\n",
        "                   kernel_size=conv_filter_size[0],\n",
        "                   input_shape=img_shape))\n",
        "  \n",
        "  # Add batch normalization layer, if the user specifies\n",
        "  if batch_norm:\n",
        "    model.add(BatchNormalization())\n",
        "  \n",
        "  model.add(Activation(conv_act[0]))\n",
        "  model.add(MaxPool2D(pool_size=pool_filter_size[0],strides=(2,2)))\n",
        "\n",
        "  # Adding the next 4 layer blocks\n",
        "  for i in range(1,5):\n",
        "    model.add(Conv2D(filters=num_filters[i],kernel_size=conv_filter_size[i]))\n",
        "    if batch_norm:\n",
        "      model.add(BatchNormalization())\n",
        "    model.add(Activation(conv_act[i]))\n",
        "    model.add(MaxPool2D(pool_size=pool_filter_size[i],strides=(2,2)))\n",
        "  \n",
        "  # Flattening the feature map to a column vector\n",
        "  model.add(Flatten())\n",
        "  model.add(Dense(units=dim_final,activation=dense_act))\n",
        "  # Adding dropout regularization\n",
        "  model.add(Dropout(dropout))\n",
        "  # Adding the final Dense layer with dimensions equal to number of classes and softmax activation\n",
        "  model.add(Dense(10,activation=\"softmax\"))\n",
        "\n",
        "  return model\n"
      ],
      "metadata": {
        "id": "5Wg2lDFoRLyc"
      },
      "execution_count": null,
      "outputs": []
    },
    {
      "cell_type": "code",
      "source": [
        "conv=[\"relu\",\"relu\",\"relu\",\"relu\",\"relu\"]\n",
        "den=\"relu\"\n",
        "filt=[32,64,128,256,512]\n",
        "conv_size=[(3, 3), (3, 3), (3, 3), (5, 5), (7, 7)]\n",
        "pool_size = [(2, 2), (2, 2), (2, 2), (2, 2), (2, 2)]\n",
        "model=build_cnn(conv,den,filt,conv_size,pool_size,True,512,0.8)"
      ],
      "metadata": {
        "id": "AfsCz9RsdFkn"
      },
      "execution_count": null,
      "outputs": []
    },
    {
      "cell_type": "markdown",
      "source": [
        "Input pipeline for image classification reference :\n",
        "https://towardsdatascience.com/what-is-the-best-input-pipeline-to-train-image-classification-models-with-tf-keras-eb3fe26d3cc5"
      ],
      "metadata": {
        "id": "p2qktvDTENP9"
      }
    },
    {
      "cell_type": "code",
      "source": [
        "# Dataset without augmentation\n",
        "\n",
        "# Enter the path of dataset\n",
        "path=r\"/content/drive/MyDrive/nature_12K/inaturalist_12K/train\"\n",
        "\n",
        "# Training dataset:\n",
        "train_dataset=tf.keras.preprocessing.image_dataset_from_directory(\n",
        "    directory=path,\n",
        "    labels='inferred',\n",
        "    label_mode='categorical',\n",
        "    color_mode='rgb',\n",
        "    batch_size=32,\n",
        "    image_size=(256,256),\n",
        "    shuffle=True,\n",
        "    seed=19,\n",
        "    validation_split=0.1,\n",
        "    subset='training'\n",
        ")\n",
        "# Validation dataset:\n",
        "valid_dataset=tf.keras.preprocessing.image_dataset_from_directory(\n",
        "    directory=path,\n",
        "    labels='inferred',\n",
        "    label_mode='categorical',\n",
        "    color_mode='rgb',\n",
        "    batch_size=32,\n",
        "    image_size=(256,256),\n",
        "    shuffle=True,\n",
        "    seed=19,\n",
        "    validation_split=0.1,\n",
        "    subset='validation'\n",
        ")"
      ],
      "metadata": {
        "id": "NSN6_D4rfk0V",
        "colab": {
          "base_uri": "https://localhost:8080/"
        },
        "outputId": "2456c136-e028-4515-b220-f109b28b1942"
      },
      "execution_count": null,
      "outputs": [
        {
          "output_type": "stream",
          "name": "stdout",
          "text": [
            "Found 9999 files belonging to 10 classes.\n",
            "Using 9000 files for training.\n",
            "Found 9999 files belonging to 10 classes.\n",
            "Using 999 files for validation.\n"
          ]
        }
      ]
    },
    {
      "cell_type": "code",
      "source": [
        "len_train,len_valid=len(train_dataset),len(valid_dataset)\n",
        "# Retaining 10% of data for hyperparameter tuning\n",
        "train_data=train_dataset.take(int(0.1*len_train))\n",
        "valid_data=valid_dataset.take(int(0.1*len_valid))"
      ],
      "metadata": {
        "id": "3Ya9UDKmBjqe"
      },
      "execution_count": null,
      "outputs": []
    },
    {
      "cell_type": "code",
      "source": [
        "# Dataset with augmentation\n",
        "\n",
        "training_data_augmentation=ImageDataGenerator(\n",
        "    rescale=None,\n",
        "    rotation_range=20,\n",
        "    width_shift_range=0.2,\n",
        "    height_shift_range=0.2,\n",
        "    brightness_range=[0.2,1.5],\n",
        "    shear_range=0.2,\n",
        "    zoom_range=0.2,\n",
        "    horizontal_flip=True,\n",
        "    data_format='channels_last',\n",
        "    validation_split=0.1\n",
        ")\n",
        "\n",
        "# Validation data is not being augmented\n",
        "validation_data_augmentation=ImageDataGenerator(\n",
        "    validation_split=0.1\n",
        ")\n",
        "\n",
        "train_aug=training_data_augmentation.flow_from_directory(path,shuffle=True,seed=19,subset='training')\n",
        "valid_aug=validation_data_augmentation.flow_from_directory(path,shuffle=True,seed=19,subset='validation')\n",
        "\n"
      ],
      "metadata": {
        "id": "Hsdo-tPv0u3t"
      },
      "execution_count": null,
      "outputs": []
    },
    {
      "cell_type": "code",
      "source": [
        "model.compile(optimizer='adam',\n",
        "              loss=tf.keras.losses.CategoricalCrossentropy(name='loss'),\n",
        "              metrics=[tf.keras.metrics.CategoricalAccuracy(name='acc')])\n",
        "\n",
        "history=model.fit(x=train_data,\n",
        "                  epochs=50,\n",
        "                  validation_data=valid_data,callbacks = [tf.keras.callbacks.EarlyStopping(monitor = 'val_acc', patience = 5)]\n",
        "                  )"
      ],
      "metadata": {
        "id": "7u0hpnXiFD9l"
      },
      "execution_count": null,
      "outputs": []
    },
    {
      "cell_type": "code",
      "source": [
        "def cnn_wandb():\n",
        "  "
      ],
      "metadata": {
        "id": "pxi5VddlFdbF"
      },
      "execution_count": null,
      "outputs": []
    },
    {
      "cell_type": "code",
      "source": [
        "act_conv=[\"relu\",\"relu\",\"relu\",\"relu\",\"relu\"]\n",
        "act_den=\"relu\"\n",
        "num_filt=[32,64,128,256,512]\n",
        "conv_size=[(3, 3), (3, 3), (3, 3), (5, 5), (7, 7)]\n",
        "pool_size = [(2, 2), (2, 2), (2, 2), (2, 2), (2, 2)]\n",
        "model=build_cnn(conv,den,filt,conv_size,pool_size,True,512,0.8)"
      ],
      "metadata": {
        "id": "CAzJVYB3lhhR"
      },
      "execution_count": null,
      "outputs": []
    },
    {
      "cell_type": "code",
      "source": [
        "# hyper parameters: activation function for convolution layer and dense layer,\n",
        "# batch normalization, % of dropout\n",
        "hyperparameters={\n",
        "    \n",
        "    'batch_norm': {\n",
        "        'values':[True,False]\n",
        "    },\n",
        "    'num_filter':{\n",
        "        'values':[32,64,128,256,512]\n",
        "\n",
        "    },\n",
        "    \n",
        "   \n",
        "\n",
        "\n",
        "}"
      ],
      "metadata": {
        "id": "-QtC9Ot7gc8k"
      },
      "execution_count": null,
      "outputs": []
    }
  ]
}