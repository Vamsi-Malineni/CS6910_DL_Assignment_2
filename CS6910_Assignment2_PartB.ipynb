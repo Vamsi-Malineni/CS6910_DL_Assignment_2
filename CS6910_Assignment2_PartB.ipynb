{
  "nbformat": 4,
  "nbformat_minor": 0,
  "metadata": {
    "colab": {
      "name": "CS6910-Assignment2-PartB",
      "provenance": [],
      "collapsed_sections": [],
      "mount_file_id": "1qRf0lYGxBXXRWoPM_eXzHfasy77Sp_DZ",
      "authorship_tag": "ABX9TyMmFgvWKib0mDkCzgRcMdf7",
      "include_colab_link": true
    },
    "kernelspec": {
      "name": "python3",
      "display_name": "Python 3"
    },
    "language_info": {
      "name": "python"
    }
  },
  "cells": [
    {
      "cell_type": "markdown",
      "metadata": {
        "id": "view-in-github",
        "colab_type": "text"
      },
      "source": [
        "<a href=\"https://colab.research.google.com/github/safikhanSoofiyani/CS6910-Assignment-2/blob/main/CS6910_Assignment2_PartB.ipynb\" target=\"_parent\"><img src=\"https://colab.research.google.com/assets/colab-badge.svg\" alt=\"Open In Colab\"/></a>"
      ]
    },
    {
      "cell_type": "markdown",
      "source": [
        "# CS6910-Assignment2-Part B\n",
        "Using Pretrained model for Image Classification"
      ],
      "metadata": {
        "id": "XDeU2CS7WZMp"
      }
    },
    {
      "cell_type": "code",
      "source": [
        "#!pip install -q wandb\n",
        "#import wandb\n",
        "import pathlib\n",
        "import numpy as np\n",
        "import pandas as pd\n",
        "import tensorflow as tf\n",
        "from tensorflow.keras.preprocessing import image_dataset_from_directory\n",
        "from tensorflow.keras.preprocessing.image import ImageDataGenerator\n",
        "from tensorflow.keras import layers, Model\n",
        "from tensorflow.keras.layers.experimental.preprocessing import Rescaling"
      ],
      "metadata": {
        "id": "XZS6Eod-WCXU"
      },
      "execution_count": 2,
      "outputs": []
    },
    {
      "cell_type": "code",
      "source": [
        "def get_data():\n",
        "    path=r\"/content/drive/MyDrive/nature_12K/inaturalist_12K/train\"\n",
        "\n",
        "    # Training dataset:\n",
        "    train_dataset=tf.keras.preprocessing.image_dataset_from_directory(\n",
        "        directory=path,\n",
        "        labels='inferred',\n",
        "        label_mode='categorical',\n",
        "        color_mode='rgb',\n",
        "        batch_size=32,\n",
        "        image_size=(256,256),\n",
        "        shuffle=True,\n",
        "        seed=19,\n",
        "        validation_split=0.1,\n",
        "        subset='training'\n",
        "    )\n",
        "    # Validation dataset:\n",
        "    valid_dataset=tf.keras.preprocessing.image_dataset_from_directory(\n",
        "        directory=path,\n",
        "        labels='inferred',\n",
        "        label_mode='categorical',\n",
        "        color_mode='rgb',\n",
        "        batch_size=32,\n",
        "        image_size=(256,256),\n",
        "        shuffle=True,\n",
        "        seed=19,\n",
        "        validation_split=0.1,\n",
        "        subset='validation'\n",
        "    )\n",
        "    \n",
        "    #return train_data, valid_data\n",
        "    return train_dataset, valid_dataset\n"
      ],
      "metadata": {
        "id": "84oe-Pu4Wv2R"
      },
      "execution_count": 3,
      "outputs": []
    },
    {
      "cell_type": "code",
      "source": [
        "def get_augmented_data():\n",
        "    path=r\"/content/drive/MyDrive/nature_12K/inaturalist_12K/train\"\n",
        "    training_data_augmentation=ImageDataGenerator(rescale=1./255,\n",
        "                                        height_shift_range=0.2,\n",
        "                                        width_shift_range=0.2,\n",
        "                                        horizontal_flip=True,\n",
        "                                        zoom_range=0.2,\n",
        "                                        fill_mode=\"nearest\",\n",
        "                                        validation_split = 0.1)\n",
        "\n",
        "    # Validation data is not being augmented\n",
        "    validation_data_augmentation=ImageDataGenerator(\n",
        "        validation_split=0.1\n",
        "    )\n",
        "\n",
        "    train_aug=training_data_augmentation.flow_from_directory(path,shuffle=True,seed=19,subset='training')\n",
        "    valid_aug=validation_data_augmentation.flow_from_directory(path,shuffle=True,seed=19,subset='validation')\n",
        "\n",
        "    return train_aug, valid_aug\n"
      ],
      "metadata": {
        "id": "Yg42DuXIYOJu"
      },
      "execution_count": 25,
      "outputs": []
    },
    {
      "cell_type": "markdown",
      "source": [
        "#Transfer Learning \n",
        "1. Reference 1: https://www.tensorflow.org/tutorials/images/transfer_learning\n",
        "2. Reference 2: https://towardsdatascience.com/transfer-learning-from-pre-trained-models-f2393f124751"
      ],
      "metadata": {
        "id": "YoqX0f_03oIb"
      }
    },
    {
      "cell_type": "code",
      "source": [
        "class build_cnn(Model):\n",
        "  \n",
        "  def __init__(self,model_name,tune=False,freeze=20):\n",
        "    \n",
        "    super(build_cnn,self).__init__()\n",
        "    \n",
        "    self.image_shape=(256,256,3)\n",
        "    self.model_name=model_name\n",
        "    self.initialize_model()\n",
        "\n",
        "    if tune == True:\n",
        "      self.model.trainable= True\n",
        "      train_and_tune=len(self.model.layers)-freeze\n",
        "\n",
        "      for layer in self.model.layers[:freeze]:\n",
        "        layer.trainable = False\n",
        "    else:\n",
        "      self.model.trainable = False\n",
        "\n",
        "  # here we are using global average pooling layer as classifier on top of \n",
        "  # the pretrained convolution layers \n",
        "    self.avg_pool=layers.GlobalAveragePooling2D()\n",
        "    self.dense=layers.Dense(10)\n",
        "  \n",
        "  # Initializing the model\n",
        "  # NOTE: By using include_top=False, we are not using the final classification\n",
        "  # layer of the pre trained model.\n",
        "  def inceptionv3(self):\n",
        "      model=tf.keras.applications.InceptionV3(input_shape=self.image_shape,\n",
        "                                            include_top=False,\n",
        "                                            weights='imagenet')\n",
        "      return model\n",
        "\n",
        "  def resnet50(self):\n",
        "      model=tf.keras.applications.ResNet50(input_shape=self.image_shape,\n",
        "                                         include_top=False,\n",
        "                                         weights='imagenet')\n",
        "      return model\n",
        "\n",
        "  def inceptionresnetv2(self):\n",
        "      model=tf.keras.applications.InceptionResNetV2(input_shape=self.image_shape,\n",
        "                                                        include_top=False,\n",
        "                                                        weights='imagenet')\n",
        "      return model\n",
        "  \n",
        "  def xception(self):\n",
        "      model=tf.keras.applications.Xception(input_shape=self.image_shape,\n",
        "                                         include_top=False,\n",
        "                                         weights='imagenet')\n",
        "      return model\n",
        "    \n",
        "  \n",
        "  def initialize_model(self):\n",
        "    \n",
        "    if self.model_name  == \"InceptionV3\":\n",
        "      self.model=self.inceptionv3()\n",
        "    \n",
        "    elif self.model_name == \"InceptionResNetV2\":\n",
        "      self.model=self.inceptionresnetv2()\n",
        "    \n",
        "    elif self.model_name == \"ResNet50\":\n",
        "      self.model=self.resnet50()\n",
        "\n",
        "    elif self.model_name == \"Xception\":\n",
        "      self.model=self.xception()\n",
        "    \n",
        "    else:\n",
        "      print(\"Enter a valid model name\")\n",
        "  \n",
        "  \n",
        "  def call(self,inputs):\n",
        "    a=self.model(inputs)\n",
        "    a=self.avg_pool(a)\n",
        "    a=self.dense(a)\n",
        "    return a"
      ],
      "metadata": {
        "id": "FeR6SgB7-B5l"
      },
      "execution_count": 29,
      "outputs": []
    },
    {
      "cell_type": "code",
      "source": [
        "base_model = \"ResNet50\"\n",
        "tune = False\n",
        "freeze = 20\n",
        "\n",
        "model = build_cnn(base_model, tune, freeze)\n",
        "\n",
        "base_learning_rate = 0.0001\n",
        "model.compile(optimizer=tf.keras.optimizers.Adam(lr=base_learning_rate),\n",
        "                loss=tf.keras.losses.CategoricalCrossentropy(from_logits=True),\n",
        "                metrics=['accuracy'])\n",
        "\n",
        "train_aug_gen=get_augmented_data()[0]\n",
        "val_aug_gen=get_augmented_data()[1]\n",
        "\n",
        "history = model.fit(train_aug_gen, steps_per_epoch=62, \\\n",
        "                    epochs=10, validation_data=val_aug_gen, \\\n",
        "                    validation_steps=62, workers=8)"
      ],
      "metadata": {
        "id": "_K2aFZmNMX73"
      },
      "execution_count": null,
      "outputs": []
    },
    {
      "cell_type": "code",
      "source": [
        ""
      ],
      "metadata": {
        "id": "t-HGyE98MgEX"
      },
      "execution_count": null,
      "outputs": []
    }
  ]
}