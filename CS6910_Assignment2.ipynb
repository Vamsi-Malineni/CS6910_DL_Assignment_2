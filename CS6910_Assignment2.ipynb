{
  "nbformat": 4,
  "nbformat_minor": 0,
  "metadata": {
    "colab": {
      "name": "CS6910-Assignment2",
      "provenance": [],
      "collapsed_sections": [],
      "background_execution": "on",
      "include_colab_link": true
    },
    "kernelspec": {
      "name": "python3",
      "display_name": "Python 3"
    },
    "language_info": {
      "name": "python"
    },
    "accelerator": "GPU",
    "widgets": {
      "application/vnd.jupyter.widget-state+json": {
        "d5fa3828dc1543dab7bcebee165fd08e": {
          "model_module": "@jupyter-widgets/controls",
          "model_name": "VBoxModel",
          "model_module_version": "1.5.0",
          "state": {
            "_dom_classes": [],
            "_model_module": "@jupyter-widgets/controls",
            "_model_module_version": "1.5.0",
            "_model_name": "VBoxModel",
            "_view_count": null,
            "_view_module": "@jupyter-widgets/controls",
            "_view_module_version": "1.5.0",
            "_view_name": "VBoxView",
            "box_style": "",
            "children": [
              "IPY_MODEL_77435642deb94f01a9e6829246919c04",
              "IPY_MODEL_199928c0a20e47afa234ad3bf6c6f505"
            ],
            "layout": "IPY_MODEL_dbfb0c2ad7814ce0b0a2d9531e62fc64"
          }
        },
        "77435642deb94f01a9e6829246919c04": {
          "model_module": "@jupyter-widgets/controls",
          "model_name": "LabelModel",
          "model_module_version": "1.5.0",
          "state": {
            "_dom_classes": [],
            "_model_module": "@jupyter-widgets/controls",
            "_model_module_version": "1.5.0",
            "_model_name": "LabelModel",
            "_view_count": null,
            "_view_module": "@jupyter-widgets/controls",
            "_view_module_version": "1.5.0",
            "_view_name": "LabelView",
            "description": "",
            "description_tooltip": null,
            "layout": "IPY_MODEL_bebf6c37217240eba7d806fa57db4b84",
            "placeholder": "​",
            "style": "IPY_MODEL_15a4ee3c8f624af9985539a8f295f3a3",
            "value": "31.626 MB of 31.626 MB uploaded (0.000 MB deduped)\r"
          }
        },
        "199928c0a20e47afa234ad3bf6c6f505": {
          "model_module": "@jupyter-widgets/controls",
          "model_name": "FloatProgressModel",
          "model_module_version": "1.5.0",
          "state": {
            "_dom_classes": [],
            "_model_module": "@jupyter-widgets/controls",
            "_model_module_version": "1.5.0",
            "_model_name": "FloatProgressModel",
            "_view_count": null,
            "_view_module": "@jupyter-widgets/controls",
            "_view_module_version": "1.5.0",
            "_view_name": "ProgressView",
            "bar_style": "",
            "description": "",
            "description_tooltip": null,
            "layout": "IPY_MODEL_976b530b94a64de680168fb1744a3fa2",
            "max": 1,
            "min": 0,
            "orientation": "horizontal",
            "style": "IPY_MODEL_83d5765052d742008e6f676277b0cc5e",
            "value": 1
          }
        },
        "dbfb0c2ad7814ce0b0a2d9531e62fc64": {
          "model_module": "@jupyter-widgets/base",
          "model_name": "LayoutModel",
          "model_module_version": "1.2.0",
          "state": {
            "_model_module": "@jupyter-widgets/base",
            "_model_module_version": "1.2.0",
            "_model_name": "LayoutModel",
            "_view_count": null,
            "_view_module": "@jupyter-widgets/base",
            "_view_module_version": "1.2.0",
            "_view_name": "LayoutView",
            "align_content": null,
            "align_items": null,
            "align_self": null,
            "border": null,
            "bottom": null,
            "display": null,
            "flex": null,
            "flex_flow": null,
            "grid_area": null,
            "grid_auto_columns": null,
            "grid_auto_flow": null,
            "grid_auto_rows": null,
            "grid_column": null,
            "grid_gap": null,
            "grid_row": null,
            "grid_template_areas": null,
            "grid_template_columns": null,
            "grid_template_rows": null,
            "height": null,
            "justify_content": null,
            "justify_items": null,
            "left": null,
            "margin": null,
            "max_height": null,
            "max_width": null,
            "min_height": null,
            "min_width": null,
            "object_fit": null,
            "object_position": null,
            "order": null,
            "overflow": null,
            "overflow_x": null,
            "overflow_y": null,
            "padding": null,
            "right": null,
            "top": null,
            "visibility": null,
            "width": null
          }
        },
        "bebf6c37217240eba7d806fa57db4b84": {
          "model_module": "@jupyter-widgets/base",
          "model_name": "LayoutModel",
          "model_module_version": "1.2.0",
          "state": {
            "_model_module": "@jupyter-widgets/base",
            "_model_module_version": "1.2.0",
            "_model_name": "LayoutModel",
            "_view_count": null,
            "_view_module": "@jupyter-widgets/base",
            "_view_module_version": "1.2.0",
            "_view_name": "LayoutView",
            "align_content": null,
            "align_items": null,
            "align_self": null,
            "border": null,
            "bottom": null,
            "display": null,
            "flex": null,
            "flex_flow": null,
            "grid_area": null,
            "grid_auto_columns": null,
            "grid_auto_flow": null,
            "grid_auto_rows": null,
            "grid_column": null,
            "grid_gap": null,
            "grid_row": null,
            "grid_template_areas": null,
            "grid_template_columns": null,
            "grid_template_rows": null,
            "height": null,
            "justify_content": null,
            "justify_items": null,
            "left": null,
            "margin": null,
            "max_height": null,
            "max_width": null,
            "min_height": null,
            "min_width": null,
            "object_fit": null,
            "object_position": null,
            "order": null,
            "overflow": null,
            "overflow_x": null,
            "overflow_y": null,
            "padding": null,
            "right": null,
            "top": null,
            "visibility": null,
            "width": null
          }
        },
        "15a4ee3c8f624af9985539a8f295f3a3": {
          "model_module": "@jupyter-widgets/controls",
          "model_name": "DescriptionStyleModel",
          "model_module_version": "1.5.0",
          "state": {
            "_model_module": "@jupyter-widgets/controls",
            "_model_module_version": "1.5.0",
            "_model_name": "DescriptionStyleModel",
            "_view_count": null,
            "_view_module": "@jupyter-widgets/base",
            "_view_module_version": "1.2.0",
            "_view_name": "StyleView",
            "description_width": ""
          }
        },
        "976b530b94a64de680168fb1744a3fa2": {
          "model_module": "@jupyter-widgets/base",
          "model_name": "LayoutModel",
          "model_module_version": "1.2.0",
          "state": {
            "_model_module": "@jupyter-widgets/base",
            "_model_module_version": "1.2.0",
            "_model_name": "LayoutModel",
            "_view_count": null,
            "_view_module": "@jupyter-widgets/base",
            "_view_module_version": "1.2.0",
            "_view_name": "LayoutView",
            "align_content": null,
            "align_items": null,
            "align_self": null,
            "border": null,
            "bottom": null,
            "display": null,
            "flex": null,
            "flex_flow": null,
            "grid_area": null,
            "grid_auto_columns": null,
            "grid_auto_flow": null,
            "grid_auto_rows": null,
            "grid_column": null,
            "grid_gap": null,
            "grid_row": null,
            "grid_template_areas": null,
            "grid_template_columns": null,
            "grid_template_rows": null,
            "height": null,
            "justify_content": null,
            "justify_items": null,
            "left": null,
            "margin": null,
            "max_height": null,
            "max_width": null,
            "min_height": null,
            "min_width": null,
            "object_fit": null,
            "object_position": null,
            "order": null,
            "overflow": null,
            "overflow_x": null,
            "overflow_y": null,
            "padding": null,
            "right": null,
            "top": null,
            "visibility": null,
            "width": null
          }
        },
        "83d5765052d742008e6f676277b0cc5e": {
          "model_module": "@jupyter-widgets/controls",
          "model_name": "ProgressStyleModel",
          "model_module_version": "1.5.0",
          "state": {
            "_model_module": "@jupyter-widgets/controls",
            "_model_module_version": "1.5.0",
            "_model_name": "ProgressStyleModel",
            "_view_count": null,
            "_view_module": "@jupyter-widgets/base",
            "_view_module_version": "1.2.0",
            "_view_name": "StyleView",
            "bar_color": null,
            "description_width": ""
          }
        },
        "a188203de6214f6290009478cbf91010": {
          "model_module": "@jupyter-widgets/controls",
          "model_name": "VBoxModel",
          "model_module_version": "1.5.0",
          "state": {
            "_dom_classes": [],
            "_model_module": "@jupyter-widgets/controls",
            "_model_module_version": "1.5.0",
            "_model_name": "VBoxModel",
            "_view_count": null,
            "_view_module": "@jupyter-widgets/controls",
            "_view_module_version": "1.5.0",
            "_view_name": "VBoxView",
            "box_style": "",
            "children": [
              "IPY_MODEL_76d98ee8296841faa8c73ea76f190417",
              "IPY_MODEL_9dadc290078b4767b811d4b7355a2553"
            ],
            "layout": "IPY_MODEL_1f3e961cfa4a4edf9b566fbee78e9618"
          }
        },
        "76d98ee8296841faa8c73ea76f190417": {
          "model_module": "@jupyter-widgets/controls",
          "model_name": "LabelModel",
          "model_module_version": "1.5.0",
          "state": {
            "_dom_classes": [],
            "_model_module": "@jupyter-widgets/controls",
            "_model_module_version": "1.5.0",
            "_model_name": "LabelModel",
            "_view_count": null,
            "_view_module": "@jupyter-widgets/controls",
            "_view_module_version": "1.5.0",
            "_view_name": "LabelView",
            "description": "",
            "description_tooltip": null,
            "layout": "IPY_MODEL_70d9e7995d514639a86664ed7721a628",
            "placeholder": "​",
            "style": "IPY_MODEL_9e64acdff0e44bcca76e20c4b3946995",
            "value": "99.283 MB of 99.283 MB uploaded (0.000 MB deduped)\r"
          }
        },
        "9dadc290078b4767b811d4b7355a2553": {
          "model_module": "@jupyter-widgets/controls",
          "model_name": "FloatProgressModel",
          "model_module_version": "1.5.0",
          "state": {
            "_dom_classes": [],
            "_model_module": "@jupyter-widgets/controls",
            "_model_module_version": "1.5.0",
            "_model_name": "FloatProgressModel",
            "_view_count": null,
            "_view_module": "@jupyter-widgets/controls",
            "_view_module_version": "1.5.0",
            "_view_name": "ProgressView",
            "bar_style": "",
            "description": "",
            "description_tooltip": null,
            "layout": "IPY_MODEL_8faccd1230864a62978270495ff7cc81",
            "max": 1,
            "min": 0,
            "orientation": "horizontal",
            "style": "IPY_MODEL_aaa5c3a69c904d559df6bc4e0a431604",
            "value": 1
          }
        },
        "1f3e961cfa4a4edf9b566fbee78e9618": {
          "model_module": "@jupyter-widgets/base",
          "model_name": "LayoutModel",
          "model_module_version": "1.2.0",
          "state": {
            "_model_module": "@jupyter-widgets/base",
            "_model_module_version": "1.2.0",
            "_model_name": "LayoutModel",
            "_view_count": null,
            "_view_module": "@jupyter-widgets/base",
            "_view_module_version": "1.2.0",
            "_view_name": "LayoutView",
            "align_content": null,
            "align_items": null,
            "align_self": null,
            "border": null,
            "bottom": null,
            "display": null,
            "flex": null,
            "flex_flow": null,
            "grid_area": null,
            "grid_auto_columns": null,
            "grid_auto_flow": null,
            "grid_auto_rows": null,
            "grid_column": null,
            "grid_gap": null,
            "grid_row": null,
            "grid_template_areas": null,
            "grid_template_columns": null,
            "grid_template_rows": null,
            "height": null,
            "justify_content": null,
            "justify_items": null,
            "left": null,
            "margin": null,
            "max_height": null,
            "max_width": null,
            "min_height": null,
            "min_width": null,
            "object_fit": null,
            "object_position": null,
            "order": null,
            "overflow": null,
            "overflow_x": null,
            "overflow_y": null,
            "padding": null,
            "right": null,
            "top": null,
            "visibility": null,
            "width": null
          }
        },
        "70d9e7995d514639a86664ed7721a628": {
          "model_module": "@jupyter-widgets/base",
          "model_name": "LayoutModel",
          "model_module_version": "1.2.0",
          "state": {
            "_model_module": "@jupyter-widgets/base",
            "_model_module_version": "1.2.0",
            "_model_name": "LayoutModel",
            "_view_count": null,
            "_view_module": "@jupyter-widgets/base",
            "_view_module_version": "1.2.0",
            "_view_name": "LayoutView",
            "align_content": null,
            "align_items": null,
            "align_self": null,
            "border": null,
            "bottom": null,
            "display": null,
            "flex": null,
            "flex_flow": null,
            "grid_area": null,
            "grid_auto_columns": null,
            "grid_auto_flow": null,
            "grid_auto_rows": null,
            "grid_column": null,
            "grid_gap": null,
            "grid_row": null,
            "grid_template_areas": null,
            "grid_template_columns": null,
            "grid_template_rows": null,
            "height": null,
            "justify_content": null,
            "justify_items": null,
            "left": null,
            "margin": null,
            "max_height": null,
            "max_width": null,
            "min_height": null,
            "min_width": null,
            "object_fit": null,
            "object_position": null,
            "order": null,
            "overflow": null,
            "overflow_x": null,
            "overflow_y": null,
            "padding": null,
            "right": null,
            "top": null,
            "visibility": null,
            "width": null
          }
        },
        "9e64acdff0e44bcca76e20c4b3946995": {
          "model_module": "@jupyter-widgets/controls",
          "model_name": "DescriptionStyleModel",
          "model_module_version": "1.5.0",
          "state": {
            "_model_module": "@jupyter-widgets/controls",
            "_model_module_version": "1.5.0",
            "_model_name": "DescriptionStyleModel",
            "_view_count": null,
            "_view_module": "@jupyter-widgets/base",
            "_view_module_version": "1.2.0",
            "_view_name": "StyleView",
            "description_width": ""
          }
        },
        "8faccd1230864a62978270495ff7cc81": {
          "model_module": "@jupyter-widgets/base",
          "model_name": "LayoutModel",
          "model_module_version": "1.2.0",
          "state": {
            "_model_module": "@jupyter-widgets/base",
            "_model_module_version": "1.2.0",
            "_model_name": "LayoutModel",
            "_view_count": null,
            "_view_module": "@jupyter-widgets/base",
            "_view_module_version": "1.2.0",
            "_view_name": "LayoutView",
            "align_content": null,
            "align_items": null,
            "align_self": null,
            "border": null,
            "bottom": null,
            "display": null,
            "flex": null,
            "flex_flow": null,
            "grid_area": null,
            "grid_auto_columns": null,
            "grid_auto_flow": null,
            "grid_auto_rows": null,
            "grid_column": null,
            "grid_gap": null,
            "grid_row": null,
            "grid_template_areas": null,
            "grid_template_columns": null,
            "grid_template_rows": null,
            "height": null,
            "justify_content": null,
            "justify_items": null,
            "left": null,
            "margin": null,
            "max_height": null,
            "max_width": null,
            "min_height": null,
            "min_width": null,
            "object_fit": null,
            "object_position": null,
            "order": null,
            "overflow": null,
            "overflow_x": null,
            "overflow_y": null,
            "padding": null,
            "right": null,
            "top": null,
            "visibility": null,
            "width": null
          }
        },
        "aaa5c3a69c904d559df6bc4e0a431604": {
          "model_module": "@jupyter-widgets/controls",
          "model_name": "ProgressStyleModel",
          "model_module_version": "1.5.0",
          "state": {
            "_model_module": "@jupyter-widgets/controls",
            "_model_module_version": "1.5.0",
            "_model_name": "ProgressStyleModel",
            "_view_count": null,
            "_view_module": "@jupyter-widgets/base",
            "_view_module_version": "1.2.0",
            "_view_name": "StyleView",
            "bar_color": null,
            "description_width": ""
          }
        },
        "920e6e7c04214d91a0de0dbfe931e9c1": {
          "model_module": "@jupyter-widgets/controls",
          "model_name": "VBoxModel",
          "model_module_version": "1.5.0",
          "state": {
            "_dom_classes": [],
            "_model_module": "@jupyter-widgets/controls",
            "_model_module_version": "1.5.0",
            "_model_name": "VBoxModel",
            "_view_count": null,
            "_view_module": "@jupyter-widgets/controls",
            "_view_module_version": "1.5.0",
            "_view_name": "VBoxView",
            "box_style": "",
            "children": [
              "IPY_MODEL_63f865e47f5e4350a6ed39ee2e94d5b1",
              "IPY_MODEL_7cdf4a58e7b44ad6b21d9a5fa8c89376"
            ],
            "layout": "IPY_MODEL_8868b4747c974e1387991c5a8e203a9d"
          }
        },
        "63f865e47f5e4350a6ed39ee2e94d5b1": {
          "model_module": "@jupyter-widgets/controls",
          "model_name": "LabelModel",
          "model_module_version": "1.5.0",
          "state": {
            "_dom_classes": [],
            "_model_module": "@jupyter-widgets/controls",
            "_model_module_version": "1.5.0",
            "_model_name": "LabelModel",
            "_view_count": null,
            "_view_module": "@jupyter-widgets/controls",
            "_view_module_version": "1.5.0",
            "_view_name": "LabelView",
            "description": "",
            "description_tooltip": null,
            "layout": "IPY_MODEL_006231c8c8454a6783995914f216eb5e",
            "placeholder": "​",
            "style": "IPY_MODEL_760909f6e1a0413f9d463663839d0a65",
            "value": "0.010 MB of 0.010 MB uploaded (0.000 MB deduped)\r"
          }
        },
        "7cdf4a58e7b44ad6b21d9a5fa8c89376": {
          "model_module": "@jupyter-widgets/controls",
          "model_name": "FloatProgressModel",
          "model_module_version": "1.5.0",
          "state": {
            "_dom_classes": [],
            "_model_module": "@jupyter-widgets/controls",
            "_model_module_version": "1.5.0",
            "_model_name": "FloatProgressModel",
            "_view_count": null,
            "_view_module": "@jupyter-widgets/controls",
            "_view_module_version": "1.5.0",
            "_view_name": "ProgressView",
            "bar_style": "",
            "description": "",
            "description_tooltip": null,
            "layout": "IPY_MODEL_fc0e649add5b415aa55ec2ca3a26cb99",
            "max": 1,
            "min": 0,
            "orientation": "horizontal",
            "style": "IPY_MODEL_8b40914320e848d1a932df951f91f8e2",
            "value": 1
          }
        },
        "8868b4747c974e1387991c5a8e203a9d": {
          "model_module": "@jupyter-widgets/base",
          "model_name": "LayoutModel",
          "model_module_version": "1.2.0",
          "state": {
            "_model_module": "@jupyter-widgets/base",
            "_model_module_version": "1.2.0",
            "_model_name": "LayoutModel",
            "_view_count": null,
            "_view_module": "@jupyter-widgets/base",
            "_view_module_version": "1.2.0",
            "_view_name": "LayoutView",
            "align_content": null,
            "align_items": null,
            "align_self": null,
            "border": null,
            "bottom": null,
            "display": null,
            "flex": null,
            "flex_flow": null,
            "grid_area": null,
            "grid_auto_columns": null,
            "grid_auto_flow": null,
            "grid_auto_rows": null,
            "grid_column": null,
            "grid_gap": null,
            "grid_row": null,
            "grid_template_areas": null,
            "grid_template_columns": null,
            "grid_template_rows": null,
            "height": null,
            "justify_content": null,
            "justify_items": null,
            "left": null,
            "margin": null,
            "max_height": null,
            "max_width": null,
            "min_height": null,
            "min_width": null,
            "object_fit": null,
            "object_position": null,
            "order": null,
            "overflow": null,
            "overflow_x": null,
            "overflow_y": null,
            "padding": null,
            "right": null,
            "top": null,
            "visibility": null,
            "width": null
          }
        },
        "006231c8c8454a6783995914f216eb5e": {
          "model_module": "@jupyter-widgets/base",
          "model_name": "LayoutModel",
          "model_module_version": "1.2.0",
          "state": {
            "_model_module": "@jupyter-widgets/base",
            "_model_module_version": "1.2.0",
            "_model_name": "LayoutModel",
            "_view_count": null,
            "_view_module": "@jupyter-widgets/base",
            "_view_module_version": "1.2.0",
            "_view_name": "LayoutView",
            "align_content": null,
            "align_items": null,
            "align_self": null,
            "border": null,
            "bottom": null,
            "display": null,
            "flex": null,
            "flex_flow": null,
            "grid_area": null,
            "grid_auto_columns": null,
            "grid_auto_flow": null,
            "grid_auto_rows": null,
            "grid_column": null,
            "grid_gap": null,
            "grid_row": null,
            "grid_template_areas": null,
            "grid_template_columns": null,
            "grid_template_rows": null,
            "height": null,
            "justify_content": null,
            "justify_items": null,
            "left": null,
            "margin": null,
            "max_height": null,
            "max_width": null,
            "min_height": null,
            "min_width": null,
            "object_fit": null,
            "object_position": null,
            "order": null,
            "overflow": null,
            "overflow_x": null,
            "overflow_y": null,
            "padding": null,
            "right": null,
            "top": null,
            "visibility": null,
            "width": null
          }
        },
        "760909f6e1a0413f9d463663839d0a65": {
          "model_module": "@jupyter-widgets/controls",
          "model_name": "DescriptionStyleModel",
          "model_module_version": "1.5.0",
          "state": {
            "_model_module": "@jupyter-widgets/controls",
            "_model_module_version": "1.5.0",
            "_model_name": "DescriptionStyleModel",
            "_view_count": null,
            "_view_module": "@jupyter-widgets/base",
            "_view_module_version": "1.2.0",
            "_view_name": "StyleView",
            "description_width": ""
          }
        },
        "fc0e649add5b415aa55ec2ca3a26cb99": {
          "model_module": "@jupyter-widgets/base",
          "model_name": "LayoutModel",
          "model_module_version": "1.2.0",
          "state": {
            "_model_module": "@jupyter-widgets/base",
            "_model_module_version": "1.2.0",
            "_model_name": "LayoutModel",
            "_view_count": null,
            "_view_module": "@jupyter-widgets/base",
            "_view_module_version": "1.2.0",
            "_view_name": "LayoutView",
            "align_content": null,
            "align_items": null,
            "align_self": null,
            "border": null,
            "bottom": null,
            "display": null,
            "flex": null,
            "flex_flow": null,
            "grid_area": null,
            "grid_auto_columns": null,
            "grid_auto_flow": null,
            "grid_auto_rows": null,
            "grid_column": null,
            "grid_gap": null,
            "grid_row": null,
            "grid_template_areas": null,
            "grid_template_columns": null,
            "grid_template_rows": null,
            "height": null,
            "justify_content": null,
            "justify_items": null,
            "left": null,
            "margin": null,
            "max_height": null,
            "max_width": null,
            "min_height": null,
            "min_width": null,
            "object_fit": null,
            "object_position": null,
            "order": null,
            "overflow": null,
            "overflow_x": null,
            "overflow_y": null,
            "padding": null,
            "right": null,
            "top": null,
            "visibility": null,
            "width": null
          }
        },
        "8b40914320e848d1a932df951f91f8e2": {
          "model_module": "@jupyter-widgets/controls",
          "model_name": "ProgressStyleModel",
          "model_module_version": "1.5.0",
          "state": {
            "_model_module": "@jupyter-widgets/controls",
            "_model_module_version": "1.5.0",
            "_model_name": "ProgressStyleModel",
            "_view_count": null,
            "_view_module": "@jupyter-widgets/base",
            "_view_module_version": "1.2.0",
            "_view_name": "StyleView",
            "bar_color": null,
            "description_width": ""
          }
        },
        "dc3647d3be4d4fd28b7d05a3132fe178": {
          "model_module": "@jupyter-widgets/controls",
          "model_name": "VBoxModel",
          "model_module_version": "1.5.0",
          "state": {
            "_dom_classes": [],
            "_model_module": "@jupyter-widgets/controls",
            "_model_module_version": "1.5.0",
            "_model_name": "VBoxModel",
            "_view_count": null,
            "_view_module": "@jupyter-widgets/controls",
            "_view_module_version": "1.5.0",
            "_view_name": "VBoxView",
            "box_style": "",
            "children": [
              "IPY_MODEL_5243b27a8805425da1a9620fe0087305",
              "IPY_MODEL_5696b3e7797e40889fba317289b269a4"
            ],
            "layout": "IPY_MODEL_a1ab5e3548584060be19859cfa92004e"
          }
        },
        "5243b27a8805425da1a9620fe0087305": {
          "model_module": "@jupyter-widgets/controls",
          "model_name": "LabelModel",
          "model_module_version": "1.5.0",
          "state": {
            "_dom_classes": [],
            "_model_module": "@jupyter-widgets/controls",
            "_model_module_version": "1.5.0",
            "_model_name": "LabelModel",
            "_view_count": null,
            "_view_module": "@jupyter-widgets/controls",
            "_view_module_version": "1.5.0",
            "_view_name": "LabelView",
            "description": "",
            "description_tooltip": null,
            "layout": "IPY_MODEL_c61392409bfa473ea44137099dfe2bde",
            "placeholder": "​",
            "style": "IPY_MODEL_97999ad6854e4a23be903a942b676b68",
            "value": "45.060 MB of 45.060 MB uploaded (0.000 MB deduped)\r"
          }
        },
        "5696b3e7797e40889fba317289b269a4": {
          "model_module": "@jupyter-widgets/controls",
          "model_name": "FloatProgressModel",
          "model_module_version": "1.5.0",
          "state": {
            "_dom_classes": [],
            "_model_module": "@jupyter-widgets/controls",
            "_model_module_version": "1.5.0",
            "_model_name": "FloatProgressModel",
            "_view_count": null,
            "_view_module": "@jupyter-widgets/controls",
            "_view_module_version": "1.5.0",
            "_view_name": "ProgressView",
            "bar_style": "",
            "description": "",
            "description_tooltip": null,
            "layout": "IPY_MODEL_02973d2ff0354677b0d69db67d7ec75b",
            "max": 1,
            "min": 0,
            "orientation": "horizontal",
            "style": "IPY_MODEL_049b7b9c1259439f84df626f994fca35",
            "value": 1
          }
        },
        "a1ab5e3548584060be19859cfa92004e": {
          "model_module": "@jupyter-widgets/base",
          "model_name": "LayoutModel",
          "model_module_version": "1.2.0",
          "state": {
            "_model_module": "@jupyter-widgets/base",
            "_model_module_version": "1.2.0",
            "_model_name": "LayoutModel",
            "_view_count": null,
            "_view_module": "@jupyter-widgets/base",
            "_view_module_version": "1.2.0",
            "_view_name": "LayoutView",
            "align_content": null,
            "align_items": null,
            "align_self": null,
            "border": null,
            "bottom": null,
            "display": null,
            "flex": null,
            "flex_flow": null,
            "grid_area": null,
            "grid_auto_columns": null,
            "grid_auto_flow": null,
            "grid_auto_rows": null,
            "grid_column": null,
            "grid_gap": null,
            "grid_row": null,
            "grid_template_areas": null,
            "grid_template_columns": null,
            "grid_template_rows": null,
            "height": null,
            "justify_content": null,
            "justify_items": null,
            "left": null,
            "margin": null,
            "max_height": null,
            "max_width": null,
            "min_height": null,
            "min_width": null,
            "object_fit": null,
            "object_position": null,
            "order": null,
            "overflow": null,
            "overflow_x": null,
            "overflow_y": null,
            "padding": null,
            "right": null,
            "top": null,
            "visibility": null,
            "width": null
          }
        },
        "c61392409bfa473ea44137099dfe2bde": {
          "model_module": "@jupyter-widgets/base",
          "model_name": "LayoutModel",
          "model_module_version": "1.2.0",
          "state": {
            "_model_module": "@jupyter-widgets/base",
            "_model_module_version": "1.2.0",
            "_model_name": "LayoutModel",
            "_view_count": null,
            "_view_module": "@jupyter-widgets/base",
            "_view_module_version": "1.2.0",
            "_view_name": "LayoutView",
            "align_content": null,
            "align_items": null,
            "align_self": null,
            "border": null,
            "bottom": null,
            "display": null,
            "flex": null,
            "flex_flow": null,
            "grid_area": null,
            "grid_auto_columns": null,
            "grid_auto_flow": null,
            "grid_auto_rows": null,
            "grid_column": null,
            "grid_gap": null,
            "grid_row": null,
            "grid_template_areas": null,
            "grid_template_columns": null,
            "grid_template_rows": null,
            "height": null,
            "justify_content": null,
            "justify_items": null,
            "left": null,
            "margin": null,
            "max_height": null,
            "max_width": null,
            "min_height": null,
            "min_width": null,
            "object_fit": null,
            "object_position": null,
            "order": null,
            "overflow": null,
            "overflow_x": null,
            "overflow_y": null,
            "padding": null,
            "right": null,
            "top": null,
            "visibility": null,
            "width": null
          }
        },
        "97999ad6854e4a23be903a942b676b68": {
          "model_module": "@jupyter-widgets/controls",
          "model_name": "DescriptionStyleModel",
          "model_module_version": "1.5.0",
          "state": {
            "_model_module": "@jupyter-widgets/controls",
            "_model_module_version": "1.5.0",
            "_model_name": "DescriptionStyleModel",
            "_view_count": null,
            "_view_module": "@jupyter-widgets/base",
            "_view_module_version": "1.2.0",
            "_view_name": "StyleView",
            "description_width": ""
          }
        },
        "02973d2ff0354677b0d69db67d7ec75b": {
          "model_module": "@jupyter-widgets/base",
          "model_name": "LayoutModel",
          "model_module_version": "1.2.0",
          "state": {
            "_model_module": "@jupyter-widgets/base",
            "_model_module_version": "1.2.0",
            "_model_name": "LayoutModel",
            "_view_count": null,
            "_view_module": "@jupyter-widgets/base",
            "_view_module_version": "1.2.0",
            "_view_name": "LayoutView",
            "align_content": null,
            "align_items": null,
            "align_self": null,
            "border": null,
            "bottom": null,
            "display": null,
            "flex": null,
            "flex_flow": null,
            "grid_area": null,
            "grid_auto_columns": null,
            "grid_auto_flow": null,
            "grid_auto_rows": null,
            "grid_column": null,
            "grid_gap": null,
            "grid_row": null,
            "grid_template_areas": null,
            "grid_template_columns": null,
            "grid_template_rows": null,
            "height": null,
            "justify_content": null,
            "justify_items": null,
            "left": null,
            "margin": null,
            "max_height": null,
            "max_width": null,
            "min_height": null,
            "min_width": null,
            "object_fit": null,
            "object_position": null,
            "order": null,
            "overflow": null,
            "overflow_x": null,
            "overflow_y": null,
            "padding": null,
            "right": null,
            "top": null,
            "visibility": null,
            "width": null
          }
        },
        "049b7b9c1259439f84df626f994fca35": {
          "model_module": "@jupyter-widgets/controls",
          "model_name": "ProgressStyleModel",
          "model_module_version": "1.5.0",
          "state": {
            "_model_module": "@jupyter-widgets/controls",
            "_model_module_version": "1.5.0",
            "_model_name": "ProgressStyleModel",
            "_view_count": null,
            "_view_module": "@jupyter-widgets/base",
            "_view_module_version": "1.2.0",
            "_view_name": "StyleView",
            "bar_color": null,
            "description_width": ""
          }
        },
        "213e510e67284a878f1e99351c9c2b80": {
          "model_module": "@jupyter-widgets/controls",
          "model_name": "VBoxModel",
          "model_module_version": "1.5.0",
          "state": {
            "_dom_classes": [],
            "_model_module": "@jupyter-widgets/controls",
            "_model_module_version": "1.5.0",
            "_model_name": "VBoxModel",
            "_view_count": null,
            "_view_module": "@jupyter-widgets/controls",
            "_view_module_version": "1.5.0",
            "_view_name": "VBoxView",
            "box_style": "",
            "children": [
              "IPY_MODEL_d09cfb6993a5489b9d70717398cc0c97",
              "IPY_MODEL_61c6f545b9d84ed284d61dea9b8e9fdd"
            ],
            "layout": "IPY_MODEL_f2776d2c14c049d29162240e9ce5e20a"
          }
        },
        "d09cfb6993a5489b9d70717398cc0c97": {
          "model_module": "@jupyter-widgets/controls",
          "model_name": "LabelModel",
          "model_module_version": "1.5.0",
          "state": {
            "_dom_classes": [],
            "_model_module": "@jupyter-widgets/controls",
            "_model_module_version": "1.5.0",
            "_model_name": "LabelModel",
            "_view_count": null,
            "_view_module": "@jupyter-widgets/controls",
            "_view_module_version": "1.5.0",
            "_view_name": "LabelView",
            "description": "",
            "description_tooltip": null,
            "layout": "IPY_MODEL_1ac8c438a843414ea6fcfa7958350c3c",
            "placeholder": "​",
            "style": "IPY_MODEL_6461e4ad7eec4c6abf9531146ce5122e",
            "value": "0.010 MB of 0.010 MB uploaded (0.000 MB deduped)\r"
          }
        },
        "61c6f545b9d84ed284d61dea9b8e9fdd": {
          "model_module": "@jupyter-widgets/controls",
          "model_name": "FloatProgressModel",
          "model_module_version": "1.5.0",
          "state": {
            "_dom_classes": [],
            "_model_module": "@jupyter-widgets/controls",
            "_model_module_version": "1.5.0",
            "_model_name": "FloatProgressModel",
            "_view_count": null,
            "_view_module": "@jupyter-widgets/controls",
            "_view_module_version": "1.5.0",
            "_view_name": "ProgressView",
            "bar_style": "",
            "description": "",
            "description_tooltip": null,
            "layout": "IPY_MODEL_27d7f86d14e642cda8a618d4c9a540aa",
            "max": 1,
            "min": 0,
            "orientation": "horizontal",
            "style": "IPY_MODEL_5ba4a9a3762341aa9d5ec1b02a6bb89c",
            "value": 1
          }
        },
        "f2776d2c14c049d29162240e9ce5e20a": {
          "model_module": "@jupyter-widgets/base",
          "model_name": "LayoutModel",
          "model_module_version": "1.2.0",
          "state": {
            "_model_module": "@jupyter-widgets/base",
            "_model_module_version": "1.2.0",
            "_model_name": "LayoutModel",
            "_view_count": null,
            "_view_module": "@jupyter-widgets/base",
            "_view_module_version": "1.2.0",
            "_view_name": "LayoutView",
            "align_content": null,
            "align_items": null,
            "align_self": null,
            "border": null,
            "bottom": null,
            "display": null,
            "flex": null,
            "flex_flow": null,
            "grid_area": null,
            "grid_auto_columns": null,
            "grid_auto_flow": null,
            "grid_auto_rows": null,
            "grid_column": null,
            "grid_gap": null,
            "grid_row": null,
            "grid_template_areas": null,
            "grid_template_columns": null,
            "grid_template_rows": null,
            "height": null,
            "justify_content": null,
            "justify_items": null,
            "left": null,
            "margin": null,
            "max_height": null,
            "max_width": null,
            "min_height": null,
            "min_width": null,
            "object_fit": null,
            "object_position": null,
            "order": null,
            "overflow": null,
            "overflow_x": null,
            "overflow_y": null,
            "padding": null,
            "right": null,
            "top": null,
            "visibility": null,
            "width": null
          }
        },
        "1ac8c438a843414ea6fcfa7958350c3c": {
          "model_module": "@jupyter-widgets/base",
          "model_name": "LayoutModel",
          "model_module_version": "1.2.0",
          "state": {
            "_model_module": "@jupyter-widgets/base",
            "_model_module_version": "1.2.0",
            "_model_name": "LayoutModel",
            "_view_count": null,
            "_view_module": "@jupyter-widgets/base",
            "_view_module_version": "1.2.0",
            "_view_name": "LayoutView",
            "align_content": null,
            "align_items": null,
            "align_self": null,
            "border": null,
            "bottom": null,
            "display": null,
            "flex": null,
            "flex_flow": null,
            "grid_area": null,
            "grid_auto_columns": null,
            "grid_auto_flow": null,
            "grid_auto_rows": null,
            "grid_column": null,
            "grid_gap": null,
            "grid_row": null,
            "grid_template_areas": null,
            "grid_template_columns": null,
            "grid_template_rows": null,
            "height": null,
            "justify_content": null,
            "justify_items": null,
            "left": null,
            "margin": null,
            "max_height": null,
            "max_width": null,
            "min_height": null,
            "min_width": null,
            "object_fit": null,
            "object_position": null,
            "order": null,
            "overflow": null,
            "overflow_x": null,
            "overflow_y": null,
            "padding": null,
            "right": null,
            "top": null,
            "visibility": null,
            "width": null
          }
        },
        "6461e4ad7eec4c6abf9531146ce5122e": {
          "model_module": "@jupyter-widgets/controls",
          "model_name": "DescriptionStyleModel",
          "model_module_version": "1.5.0",
          "state": {
            "_model_module": "@jupyter-widgets/controls",
            "_model_module_version": "1.5.0",
            "_model_name": "DescriptionStyleModel",
            "_view_count": null,
            "_view_module": "@jupyter-widgets/base",
            "_view_module_version": "1.2.0",
            "_view_name": "StyleView",
            "description_width": ""
          }
        },
        "27d7f86d14e642cda8a618d4c9a540aa": {
          "model_module": "@jupyter-widgets/base",
          "model_name": "LayoutModel",
          "model_module_version": "1.2.0",
          "state": {
            "_model_module": "@jupyter-widgets/base",
            "_model_module_version": "1.2.0",
            "_model_name": "LayoutModel",
            "_view_count": null,
            "_view_module": "@jupyter-widgets/base",
            "_view_module_version": "1.2.0",
            "_view_name": "LayoutView",
            "align_content": null,
            "align_items": null,
            "align_self": null,
            "border": null,
            "bottom": null,
            "display": null,
            "flex": null,
            "flex_flow": null,
            "grid_area": null,
            "grid_auto_columns": null,
            "grid_auto_flow": null,
            "grid_auto_rows": null,
            "grid_column": null,
            "grid_gap": null,
            "grid_row": null,
            "grid_template_areas": null,
            "grid_template_columns": null,
            "grid_template_rows": null,
            "height": null,
            "justify_content": null,
            "justify_items": null,
            "left": null,
            "margin": null,
            "max_height": null,
            "max_width": null,
            "min_height": null,
            "min_width": null,
            "object_fit": null,
            "object_position": null,
            "order": null,
            "overflow": null,
            "overflow_x": null,
            "overflow_y": null,
            "padding": null,
            "right": null,
            "top": null,
            "visibility": null,
            "width": null
          }
        },
        "5ba4a9a3762341aa9d5ec1b02a6bb89c": {
          "model_module": "@jupyter-widgets/controls",
          "model_name": "ProgressStyleModel",
          "model_module_version": "1.5.0",
          "state": {
            "_model_module": "@jupyter-widgets/controls",
            "_model_module_version": "1.5.0",
            "_model_name": "ProgressStyleModel",
            "_view_count": null,
            "_view_module": "@jupyter-widgets/base",
            "_view_module_version": "1.2.0",
            "_view_name": "StyleView",
            "bar_color": null,
            "description_width": ""
          }
        },
        "11feb4ba51f74201adb4384cf261b36f": {
          "model_module": "@jupyter-widgets/controls",
          "model_name": "VBoxModel",
          "model_module_version": "1.5.0",
          "state": {
            "_dom_classes": [],
            "_model_module": "@jupyter-widgets/controls",
            "_model_module_version": "1.5.0",
            "_model_name": "VBoxModel",
            "_view_count": null,
            "_view_module": "@jupyter-widgets/controls",
            "_view_module_version": "1.5.0",
            "_view_name": "VBoxView",
            "box_style": "",
            "children": [
              "IPY_MODEL_fd9b5174548c45b48e810c4cc2f92570",
              "IPY_MODEL_72eed78afc0048d7a16c1f00bdc13532"
            ],
            "layout": "IPY_MODEL_31a2e705072e45fa80853a284c53c84d"
          }
        },
        "fd9b5174548c45b48e810c4cc2f92570": {
          "model_module": "@jupyter-widgets/controls",
          "model_name": "LabelModel",
          "model_module_version": "1.5.0",
          "state": {
            "_dom_classes": [],
            "_model_module": "@jupyter-widgets/controls",
            "_model_module_version": "1.5.0",
            "_model_name": "LabelModel",
            "_view_count": null,
            "_view_module": "@jupyter-widgets/controls",
            "_view_module_version": "1.5.0",
            "_view_name": "LabelView",
            "description": "",
            "description_tooltip": null,
            "layout": "IPY_MODEL_16da19f51936420797c45f7b6bf59803",
            "placeholder": "​",
            "style": "IPY_MODEL_c3ed9f751fe14eb1a63931d178544bf7",
            "value": "0.010 MB of 0.010 MB uploaded (0.000 MB deduped)\r"
          }
        },
        "72eed78afc0048d7a16c1f00bdc13532": {
          "model_module": "@jupyter-widgets/controls",
          "model_name": "FloatProgressModel",
          "model_module_version": "1.5.0",
          "state": {
            "_dom_classes": [],
            "_model_module": "@jupyter-widgets/controls",
            "_model_module_version": "1.5.0",
            "_model_name": "FloatProgressModel",
            "_view_count": null,
            "_view_module": "@jupyter-widgets/controls",
            "_view_module_version": "1.5.0",
            "_view_name": "ProgressView",
            "bar_style": "",
            "description": "",
            "description_tooltip": null,
            "layout": "IPY_MODEL_d0665e924d83400480ef4c05496fbe7d",
            "max": 1,
            "min": 0,
            "orientation": "horizontal",
            "style": "IPY_MODEL_e44b6335027f474e8e1ee7347c9d4a34",
            "value": 1
          }
        },
        "31a2e705072e45fa80853a284c53c84d": {
          "model_module": "@jupyter-widgets/base",
          "model_name": "LayoutModel",
          "model_module_version": "1.2.0",
          "state": {
            "_model_module": "@jupyter-widgets/base",
            "_model_module_version": "1.2.0",
            "_model_name": "LayoutModel",
            "_view_count": null,
            "_view_module": "@jupyter-widgets/base",
            "_view_module_version": "1.2.0",
            "_view_name": "LayoutView",
            "align_content": null,
            "align_items": null,
            "align_self": null,
            "border": null,
            "bottom": null,
            "display": null,
            "flex": null,
            "flex_flow": null,
            "grid_area": null,
            "grid_auto_columns": null,
            "grid_auto_flow": null,
            "grid_auto_rows": null,
            "grid_column": null,
            "grid_gap": null,
            "grid_row": null,
            "grid_template_areas": null,
            "grid_template_columns": null,
            "grid_template_rows": null,
            "height": null,
            "justify_content": null,
            "justify_items": null,
            "left": null,
            "margin": null,
            "max_height": null,
            "max_width": null,
            "min_height": null,
            "min_width": null,
            "object_fit": null,
            "object_position": null,
            "order": null,
            "overflow": null,
            "overflow_x": null,
            "overflow_y": null,
            "padding": null,
            "right": null,
            "top": null,
            "visibility": null,
            "width": null
          }
        },
        "16da19f51936420797c45f7b6bf59803": {
          "model_module": "@jupyter-widgets/base",
          "model_name": "LayoutModel",
          "model_module_version": "1.2.0",
          "state": {
            "_model_module": "@jupyter-widgets/base",
            "_model_module_version": "1.2.0",
            "_model_name": "LayoutModel",
            "_view_count": null,
            "_view_module": "@jupyter-widgets/base",
            "_view_module_version": "1.2.0",
            "_view_name": "LayoutView",
            "align_content": null,
            "align_items": null,
            "align_self": null,
            "border": null,
            "bottom": null,
            "display": null,
            "flex": null,
            "flex_flow": null,
            "grid_area": null,
            "grid_auto_columns": null,
            "grid_auto_flow": null,
            "grid_auto_rows": null,
            "grid_column": null,
            "grid_gap": null,
            "grid_row": null,
            "grid_template_areas": null,
            "grid_template_columns": null,
            "grid_template_rows": null,
            "height": null,
            "justify_content": null,
            "justify_items": null,
            "left": null,
            "margin": null,
            "max_height": null,
            "max_width": null,
            "min_height": null,
            "min_width": null,
            "object_fit": null,
            "object_position": null,
            "order": null,
            "overflow": null,
            "overflow_x": null,
            "overflow_y": null,
            "padding": null,
            "right": null,
            "top": null,
            "visibility": null,
            "width": null
          }
        },
        "c3ed9f751fe14eb1a63931d178544bf7": {
          "model_module": "@jupyter-widgets/controls",
          "model_name": "DescriptionStyleModel",
          "model_module_version": "1.5.0",
          "state": {
            "_model_module": "@jupyter-widgets/controls",
            "_model_module_version": "1.5.0",
            "_model_name": "DescriptionStyleModel",
            "_view_count": null,
            "_view_module": "@jupyter-widgets/base",
            "_view_module_version": "1.2.0",
            "_view_name": "StyleView",
            "description_width": ""
          }
        },
        "d0665e924d83400480ef4c05496fbe7d": {
          "model_module": "@jupyter-widgets/base",
          "model_name": "LayoutModel",
          "model_module_version": "1.2.0",
          "state": {
            "_model_module": "@jupyter-widgets/base",
            "_model_module_version": "1.2.0",
            "_model_name": "LayoutModel",
            "_view_count": null,
            "_view_module": "@jupyter-widgets/base",
            "_view_module_version": "1.2.0",
            "_view_name": "LayoutView",
            "align_content": null,
            "align_items": null,
            "align_self": null,
            "border": null,
            "bottom": null,
            "display": null,
            "flex": null,
            "flex_flow": null,
            "grid_area": null,
            "grid_auto_columns": null,
            "grid_auto_flow": null,
            "grid_auto_rows": null,
            "grid_column": null,
            "grid_gap": null,
            "grid_row": null,
            "grid_template_areas": null,
            "grid_template_columns": null,
            "grid_template_rows": null,
            "height": null,
            "justify_content": null,
            "justify_items": null,
            "left": null,
            "margin": null,
            "max_height": null,
            "max_width": null,
            "min_height": null,
            "min_width": null,
            "object_fit": null,
            "object_position": null,
            "order": null,
            "overflow": null,
            "overflow_x": null,
            "overflow_y": null,
            "padding": null,
            "right": null,
            "top": null,
            "visibility": null,
            "width": null
          }
        },
        "e44b6335027f474e8e1ee7347c9d4a34": {
          "model_module": "@jupyter-widgets/controls",
          "model_name": "ProgressStyleModel",
          "model_module_version": "1.5.0",
          "state": {
            "_model_module": "@jupyter-widgets/controls",
            "_model_module_version": "1.5.0",
            "_model_name": "ProgressStyleModel",
            "_view_count": null,
            "_view_module": "@jupyter-widgets/base",
            "_view_module_version": "1.2.0",
            "_view_name": "StyleView",
            "bar_color": null,
            "description_width": ""
          }
        },
        "c2d447f3dba442c1b2c0a21ada95b035": {
          "model_module": "@jupyter-widgets/controls",
          "model_name": "VBoxModel",
          "model_module_version": "1.5.0",
          "state": {
            "_dom_classes": [],
            "_model_module": "@jupyter-widgets/controls",
            "_model_module_version": "1.5.0",
            "_model_name": "VBoxModel",
            "_view_count": null,
            "_view_module": "@jupyter-widgets/controls",
            "_view_module_version": "1.5.0",
            "_view_name": "VBoxView",
            "box_style": "",
            "children": [
              "IPY_MODEL_235f41057f2642e99d767172226fc22a",
              "IPY_MODEL_88f2dac3ab7243be871aade9308db0f7"
            ],
            "layout": "IPY_MODEL_f9959af05bc5447b8a44a3a6d11aac71"
          }
        },
        "235f41057f2642e99d767172226fc22a": {
          "model_module": "@jupyter-widgets/controls",
          "model_name": "LabelModel",
          "model_module_version": "1.5.0",
          "state": {
            "_dom_classes": [],
            "_model_module": "@jupyter-widgets/controls",
            "_model_module_version": "1.5.0",
            "_model_name": "LabelModel",
            "_view_count": null,
            "_view_module": "@jupyter-widgets/controls",
            "_view_module_version": "1.5.0",
            "_view_name": "LabelView",
            "description": "",
            "description_tooltip": null,
            "layout": "IPY_MODEL_802eb8e01fc34ea599e3042b4dbfc8e0",
            "placeholder": "​",
            "style": "IPY_MODEL_04388285b5e2409698aa93db7695e283",
            "value": "2.060 MB of 2.060 MB uploaded (0.000 MB deduped)\r"
          }
        },
        "88f2dac3ab7243be871aade9308db0f7": {
          "model_module": "@jupyter-widgets/controls",
          "model_name": "FloatProgressModel",
          "model_module_version": "1.5.0",
          "state": {
            "_dom_classes": [],
            "_model_module": "@jupyter-widgets/controls",
            "_model_module_version": "1.5.0",
            "_model_name": "FloatProgressModel",
            "_view_count": null,
            "_view_module": "@jupyter-widgets/controls",
            "_view_module_version": "1.5.0",
            "_view_name": "ProgressView",
            "bar_style": "",
            "description": "",
            "description_tooltip": null,
            "layout": "IPY_MODEL_830454191d47461cb4abc4f3b506c133",
            "max": 1,
            "min": 0,
            "orientation": "horizontal",
            "style": "IPY_MODEL_1abf798eaa9349ddb9b40eb7933fc291",
            "value": 1
          }
        },
        "f9959af05bc5447b8a44a3a6d11aac71": {
          "model_module": "@jupyter-widgets/base",
          "model_name": "LayoutModel",
          "model_module_version": "1.2.0",
          "state": {
            "_model_module": "@jupyter-widgets/base",
            "_model_module_version": "1.2.0",
            "_model_name": "LayoutModel",
            "_view_count": null,
            "_view_module": "@jupyter-widgets/base",
            "_view_module_version": "1.2.0",
            "_view_name": "LayoutView",
            "align_content": null,
            "align_items": null,
            "align_self": null,
            "border": null,
            "bottom": null,
            "display": null,
            "flex": null,
            "flex_flow": null,
            "grid_area": null,
            "grid_auto_columns": null,
            "grid_auto_flow": null,
            "grid_auto_rows": null,
            "grid_column": null,
            "grid_gap": null,
            "grid_row": null,
            "grid_template_areas": null,
            "grid_template_columns": null,
            "grid_template_rows": null,
            "height": null,
            "justify_content": null,
            "justify_items": null,
            "left": null,
            "margin": null,
            "max_height": null,
            "max_width": null,
            "min_height": null,
            "min_width": null,
            "object_fit": null,
            "object_position": null,
            "order": null,
            "overflow": null,
            "overflow_x": null,
            "overflow_y": null,
            "padding": null,
            "right": null,
            "top": null,
            "visibility": null,
            "width": null
          }
        },
        "802eb8e01fc34ea599e3042b4dbfc8e0": {
          "model_module": "@jupyter-widgets/base",
          "model_name": "LayoutModel",
          "model_module_version": "1.2.0",
          "state": {
            "_model_module": "@jupyter-widgets/base",
            "_model_module_version": "1.2.0",
            "_model_name": "LayoutModel",
            "_view_count": null,
            "_view_module": "@jupyter-widgets/base",
            "_view_module_version": "1.2.0",
            "_view_name": "LayoutView",
            "align_content": null,
            "align_items": null,
            "align_self": null,
            "border": null,
            "bottom": null,
            "display": null,
            "flex": null,
            "flex_flow": null,
            "grid_area": null,
            "grid_auto_columns": null,
            "grid_auto_flow": null,
            "grid_auto_rows": null,
            "grid_column": null,
            "grid_gap": null,
            "grid_row": null,
            "grid_template_areas": null,
            "grid_template_columns": null,
            "grid_template_rows": null,
            "height": null,
            "justify_content": null,
            "justify_items": null,
            "left": null,
            "margin": null,
            "max_height": null,
            "max_width": null,
            "min_height": null,
            "min_width": null,
            "object_fit": null,
            "object_position": null,
            "order": null,
            "overflow": null,
            "overflow_x": null,
            "overflow_y": null,
            "padding": null,
            "right": null,
            "top": null,
            "visibility": null,
            "width": null
          }
        },
        "04388285b5e2409698aa93db7695e283": {
          "model_module": "@jupyter-widgets/controls",
          "model_name": "DescriptionStyleModel",
          "model_module_version": "1.5.0",
          "state": {
            "_model_module": "@jupyter-widgets/controls",
            "_model_module_version": "1.5.0",
            "_model_name": "DescriptionStyleModel",
            "_view_count": null,
            "_view_module": "@jupyter-widgets/base",
            "_view_module_version": "1.2.0",
            "_view_name": "StyleView",
            "description_width": ""
          }
        },
        "830454191d47461cb4abc4f3b506c133": {
          "model_module": "@jupyter-widgets/base",
          "model_name": "LayoutModel",
          "model_module_version": "1.2.0",
          "state": {
            "_model_module": "@jupyter-widgets/base",
            "_model_module_version": "1.2.0",
            "_model_name": "LayoutModel",
            "_view_count": null,
            "_view_module": "@jupyter-widgets/base",
            "_view_module_version": "1.2.0",
            "_view_name": "LayoutView",
            "align_content": null,
            "align_items": null,
            "align_self": null,
            "border": null,
            "bottom": null,
            "display": null,
            "flex": null,
            "flex_flow": null,
            "grid_area": null,
            "grid_auto_columns": null,
            "grid_auto_flow": null,
            "grid_auto_rows": null,
            "grid_column": null,
            "grid_gap": null,
            "grid_row": null,
            "grid_template_areas": null,
            "grid_template_columns": null,
            "grid_template_rows": null,
            "height": null,
            "justify_content": null,
            "justify_items": null,
            "left": null,
            "margin": null,
            "max_height": null,
            "max_width": null,
            "min_height": null,
            "min_width": null,
            "object_fit": null,
            "object_position": null,
            "order": null,
            "overflow": null,
            "overflow_x": null,
            "overflow_y": null,
            "padding": null,
            "right": null,
            "top": null,
            "visibility": null,
            "width": null
          }
        },
        "1abf798eaa9349ddb9b40eb7933fc291": {
          "model_module": "@jupyter-widgets/controls",
          "model_name": "ProgressStyleModel",
          "model_module_version": "1.5.0",
          "state": {
            "_model_module": "@jupyter-widgets/controls",
            "_model_module_version": "1.5.0",
            "_model_name": "ProgressStyleModel",
            "_view_count": null,
            "_view_module": "@jupyter-widgets/base",
            "_view_module_version": "1.2.0",
            "_view_name": "StyleView",
            "bar_color": null,
            "description_width": ""
          }
        },
        "fb8eb1d5a23d4915a4c6bc0691f29b7c": {
          "model_module": "@jupyter-widgets/controls",
          "model_name": "VBoxModel",
          "model_module_version": "1.5.0",
          "state": {
            "_dom_classes": [],
            "_model_module": "@jupyter-widgets/controls",
            "_model_module_version": "1.5.0",
            "_model_name": "VBoxModel",
            "_view_count": null,
            "_view_module": "@jupyter-widgets/controls",
            "_view_module_version": "1.5.0",
            "_view_name": "VBoxView",
            "box_style": "",
            "children": [
              "IPY_MODEL_438f23cafcac42e68ae819008edfa724",
              "IPY_MODEL_5007035a26eb4a168838d67bbd333a36"
            ],
            "layout": "IPY_MODEL_aed400b804df4205a88cd0c4d8ce3916"
          }
        },
        "438f23cafcac42e68ae819008edfa724": {
          "model_module": "@jupyter-widgets/controls",
          "model_name": "LabelModel",
          "model_module_version": "1.5.0",
          "state": {
            "_dom_classes": [],
            "_model_module": "@jupyter-widgets/controls",
            "_model_module_version": "1.5.0",
            "_model_name": "LabelModel",
            "_view_count": null,
            "_view_module": "@jupyter-widgets/controls",
            "_view_module_version": "1.5.0",
            "_view_name": "LabelView",
            "description": "",
            "description_tooltip": null,
            "layout": "IPY_MODEL_caf20b981efa45e5b19f98f2f2ef26d7",
            "placeholder": "​",
            "style": "IPY_MODEL_37a0654881cb4857bc9cb2360b4d5079",
            "value": "100.866 MB of 100.866 MB uploaded (0.000 MB deduped)\r"
          }
        },
        "5007035a26eb4a168838d67bbd333a36": {
          "model_module": "@jupyter-widgets/controls",
          "model_name": "FloatProgressModel",
          "model_module_version": "1.5.0",
          "state": {
            "_dom_classes": [],
            "_model_module": "@jupyter-widgets/controls",
            "_model_module_version": "1.5.0",
            "_model_name": "FloatProgressModel",
            "_view_count": null,
            "_view_module": "@jupyter-widgets/controls",
            "_view_module_version": "1.5.0",
            "_view_name": "ProgressView",
            "bar_style": "",
            "description": "",
            "description_tooltip": null,
            "layout": "IPY_MODEL_cb3d951a325c409f936192fb89716721",
            "max": 1,
            "min": 0,
            "orientation": "horizontal",
            "style": "IPY_MODEL_aea74f69f48e437cad192ce5de9ccc75",
            "value": 1
          }
        },
        "aed400b804df4205a88cd0c4d8ce3916": {
          "model_module": "@jupyter-widgets/base",
          "model_name": "LayoutModel",
          "model_module_version": "1.2.0",
          "state": {
            "_model_module": "@jupyter-widgets/base",
            "_model_module_version": "1.2.0",
            "_model_name": "LayoutModel",
            "_view_count": null,
            "_view_module": "@jupyter-widgets/base",
            "_view_module_version": "1.2.0",
            "_view_name": "LayoutView",
            "align_content": null,
            "align_items": null,
            "align_self": null,
            "border": null,
            "bottom": null,
            "display": null,
            "flex": null,
            "flex_flow": null,
            "grid_area": null,
            "grid_auto_columns": null,
            "grid_auto_flow": null,
            "grid_auto_rows": null,
            "grid_column": null,
            "grid_gap": null,
            "grid_row": null,
            "grid_template_areas": null,
            "grid_template_columns": null,
            "grid_template_rows": null,
            "height": null,
            "justify_content": null,
            "justify_items": null,
            "left": null,
            "margin": null,
            "max_height": null,
            "max_width": null,
            "min_height": null,
            "min_width": null,
            "object_fit": null,
            "object_position": null,
            "order": null,
            "overflow": null,
            "overflow_x": null,
            "overflow_y": null,
            "padding": null,
            "right": null,
            "top": null,
            "visibility": null,
            "width": null
          }
        },
        "caf20b981efa45e5b19f98f2f2ef26d7": {
          "model_module": "@jupyter-widgets/base",
          "model_name": "LayoutModel",
          "model_module_version": "1.2.0",
          "state": {
            "_model_module": "@jupyter-widgets/base",
            "_model_module_version": "1.2.0",
            "_model_name": "LayoutModel",
            "_view_count": null,
            "_view_module": "@jupyter-widgets/base",
            "_view_module_version": "1.2.0",
            "_view_name": "LayoutView",
            "align_content": null,
            "align_items": null,
            "align_self": null,
            "border": null,
            "bottom": null,
            "display": null,
            "flex": null,
            "flex_flow": null,
            "grid_area": null,
            "grid_auto_columns": null,
            "grid_auto_flow": null,
            "grid_auto_rows": null,
            "grid_column": null,
            "grid_gap": null,
            "grid_row": null,
            "grid_template_areas": null,
            "grid_template_columns": null,
            "grid_template_rows": null,
            "height": null,
            "justify_content": null,
            "justify_items": null,
            "left": null,
            "margin": null,
            "max_height": null,
            "max_width": null,
            "min_height": null,
            "min_width": null,
            "object_fit": null,
            "object_position": null,
            "order": null,
            "overflow": null,
            "overflow_x": null,
            "overflow_y": null,
            "padding": null,
            "right": null,
            "top": null,
            "visibility": null,
            "width": null
          }
        },
        "37a0654881cb4857bc9cb2360b4d5079": {
          "model_module": "@jupyter-widgets/controls",
          "model_name": "DescriptionStyleModel",
          "model_module_version": "1.5.0",
          "state": {
            "_model_module": "@jupyter-widgets/controls",
            "_model_module_version": "1.5.0",
            "_model_name": "DescriptionStyleModel",
            "_view_count": null,
            "_view_module": "@jupyter-widgets/base",
            "_view_module_version": "1.2.0",
            "_view_name": "StyleView",
            "description_width": ""
          }
        },
        "cb3d951a325c409f936192fb89716721": {
          "model_module": "@jupyter-widgets/base",
          "model_name": "LayoutModel",
          "model_module_version": "1.2.0",
          "state": {
            "_model_module": "@jupyter-widgets/base",
            "_model_module_version": "1.2.0",
            "_model_name": "LayoutModel",
            "_view_count": null,
            "_view_module": "@jupyter-widgets/base",
            "_view_module_version": "1.2.0",
            "_view_name": "LayoutView",
            "align_content": null,
            "align_items": null,
            "align_self": null,
            "border": null,
            "bottom": null,
            "display": null,
            "flex": null,
            "flex_flow": null,
            "grid_area": null,
            "grid_auto_columns": null,
            "grid_auto_flow": null,
            "grid_auto_rows": null,
            "grid_column": null,
            "grid_gap": null,
            "grid_row": null,
            "grid_template_areas": null,
            "grid_template_columns": null,
            "grid_template_rows": null,
            "height": null,
            "justify_content": null,
            "justify_items": null,
            "left": null,
            "margin": null,
            "max_height": null,
            "max_width": null,
            "min_height": null,
            "min_width": null,
            "object_fit": null,
            "object_position": null,
            "order": null,
            "overflow": null,
            "overflow_x": null,
            "overflow_y": null,
            "padding": null,
            "right": null,
            "top": null,
            "visibility": null,
            "width": null
          }
        },
        "aea74f69f48e437cad192ce5de9ccc75": {
          "model_module": "@jupyter-widgets/controls",
          "model_name": "ProgressStyleModel",
          "model_module_version": "1.5.0",
          "state": {
            "_model_module": "@jupyter-widgets/controls",
            "_model_module_version": "1.5.0",
            "_model_name": "ProgressStyleModel",
            "_view_count": null,
            "_view_module": "@jupyter-widgets/base",
            "_view_module_version": "1.2.0",
            "_view_name": "StyleView",
            "bar_color": null,
            "description_width": ""
          }
        },
        "445181ca52434e8da6200595f7344e86": {
          "model_module": "@jupyter-widgets/controls",
          "model_name": "VBoxModel",
          "model_module_version": "1.5.0",
          "state": {
            "_dom_classes": [],
            "_model_module": "@jupyter-widgets/controls",
            "_model_module_version": "1.5.0",
            "_model_name": "VBoxModel",
            "_view_count": null,
            "_view_module": "@jupyter-widgets/controls",
            "_view_module_version": "1.5.0",
            "_view_name": "VBoxView",
            "box_style": "",
            "children": [
              "IPY_MODEL_9751d439c81548e0a4d6291053f02ba8",
              "IPY_MODEL_9c3bef1c9291422cb830b4c9fc5eed8d"
            ],
            "layout": "IPY_MODEL_7ca1488ae737492c9fb152e9cfaf05da"
          }
        },
        "9751d439c81548e0a4d6291053f02ba8": {
          "model_module": "@jupyter-widgets/controls",
          "model_name": "LabelModel",
          "model_module_version": "1.5.0",
          "state": {
            "_dom_classes": [],
            "_model_module": "@jupyter-widgets/controls",
            "_model_module_version": "1.5.0",
            "_model_name": "LabelModel",
            "_view_count": null,
            "_view_module": "@jupyter-widgets/controls",
            "_view_module_version": "1.5.0",
            "_view_name": "LabelView",
            "description": "",
            "description_tooltip": null,
            "layout": "IPY_MODEL_893f15b4f72c4bff87636021739741d1",
            "placeholder": "​",
            "style": "IPY_MODEL_50c5f8b447174170a01d2ad790d06edb",
            "value": "2.230 MB of 2.230 MB uploaded (0.000 MB deduped)\r"
          }
        },
        "9c3bef1c9291422cb830b4c9fc5eed8d": {
          "model_module": "@jupyter-widgets/controls",
          "model_name": "FloatProgressModel",
          "model_module_version": "1.5.0",
          "state": {
            "_dom_classes": [],
            "_model_module": "@jupyter-widgets/controls",
            "_model_module_version": "1.5.0",
            "_model_name": "FloatProgressModel",
            "_view_count": null,
            "_view_module": "@jupyter-widgets/controls",
            "_view_module_version": "1.5.0",
            "_view_name": "ProgressView",
            "bar_style": "",
            "description": "",
            "description_tooltip": null,
            "layout": "IPY_MODEL_86600ec81eba4a4295d8c9c4dea45797",
            "max": 1,
            "min": 0,
            "orientation": "horizontal",
            "style": "IPY_MODEL_d21b2a176ac1437ba6297f4688b71bd9",
            "value": 1
          }
        },
        "7ca1488ae737492c9fb152e9cfaf05da": {
          "model_module": "@jupyter-widgets/base",
          "model_name": "LayoutModel",
          "model_module_version": "1.2.0",
          "state": {
            "_model_module": "@jupyter-widgets/base",
            "_model_module_version": "1.2.0",
            "_model_name": "LayoutModel",
            "_view_count": null,
            "_view_module": "@jupyter-widgets/base",
            "_view_module_version": "1.2.0",
            "_view_name": "LayoutView",
            "align_content": null,
            "align_items": null,
            "align_self": null,
            "border": null,
            "bottom": null,
            "display": null,
            "flex": null,
            "flex_flow": null,
            "grid_area": null,
            "grid_auto_columns": null,
            "grid_auto_flow": null,
            "grid_auto_rows": null,
            "grid_column": null,
            "grid_gap": null,
            "grid_row": null,
            "grid_template_areas": null,
            "grid_template_columns": null,
            "grid_template_rows": null,
            "height": null,
            "justify_content": null,
            "justify_items": null,
            "left": null,
            "margin": null,
            "max_height": null,
            "max_width": null,
            "min_height": null,
            "min_width": null,
            "object_fit": null,
            "object_position": null,
            "order": null,
            "overflow": null,
            "overflow_x": null,
            "overflow_y": null,
            "padding": null,
            "right": null,
            "top": null,
            "visibility": null,
            "width": null
          }
        },
        "893f15b4f72c4bff87636021739741d1": {
          "model_module": "@jupyter-widgets/base",
          "model_name": "LayoutModel",
          "model_module_version": "1.2.0",
          "state": {
            "_model_module": "@jupyter-widgets/base",
            "_model_module_version": "1.2.0",
            "_model_name": "LayoutModel",
            "_view_count": null,
            "_view_module": "@jupyter-widgets/base",
            "_view_module_version": "1.2.0",
            "_view_name": "LayoutView",
            "align_content": null,
            "align_items": null,
            "align_self": null,
            "border": null,
            "bottom": null,
            "display": null,
            "flex": null,
            "flex_flow": null,
            "grid_area": null,
            "grid_auto_columns": null,
            "grid_auto_flow": null,
            "grid_auto_rows": null,
            "grid_column": null,
            "grid_gap": null,
            "grid_row": null,
            "grid_template_areas": null,
            "grid_template_columns": null,
            "grid_template_rows": null,
            "height": null,
            "justify_content": null,
            "justify_items": null,
            "left": null,
            "margin": null,
            "max_height": null,
            "max_width": null,
            "min_height": null,
            "min_width": null,
            "object_fit": null,
            "object_position": null,
            "order": null,
            "overflow": null,
            "overflow_x": null,
            "overflow_y": null,
            "padding": null,
            "right": null,
            "top": null,
            "visibility": null,
            "width": null
          }
        },
        "50c5f8b447174170a01d2ad790d06edb": {
          "model_module": "@jupyter-widgets/controls",
          "model_name": "DescriptionStyleModel",
          "model_module_version": "1.5.0",
          "state": {
            "_model_module": "@jupyter-widgets/controls",
            "_model_module_version": "1.5.0",
            "_model_name": "DescriptionStyleModel",
            "_view_count": null,
            "_view_module": "@jupyter-widgets/base",
            "_view_module_version": "1.2.0",
            "_view_name": "StyleView",
            "description_width": ""
          }
        },
        "86600ec81eba4a4295d8c9c4dea45797": {
          "model_module": "@jupyter-widgets/base",
          "model_name": "LayoutModel",
          "model_module_version": "1.2.0",
          "state": {
            "_model_module": "@jupyter-widgets/base",
            "_model_module_version": "1.2.0",
            "_model_name": "LayoutModel",
            "_view_count": null,
            "_view_module": "@jupyter-widgets/base",
            "_view_module_version": "1.2.0",
            "_view_name": "LayoutView",
            "align_content": null,
            "align_items": null,
            "align_self": null,
            "border": null,
            "bottom": null,
            "display": null,
            "flex": null,
            "flex_flow": null,
            "grid_area": null,
            "grid_auto_columns": null,
            "grid_auto_flow": null,
            "grid_auto_rows": null,
            "grid_column": null,
            "grid_gap": null,
            "grid_row": null,
            "grid_template_areas": null,
            "grid_template_columns": null,
            "grid_template_rows": null,
            "height": null,
            "justify_content": null,
            "justify_items": null,
            "left": null,
            "margin": null,
            "max_height": null,
            "max_width": null,
            "min_height": null,
            "min_width": null,
            "object_fit": null,
            "object_position": null,
            "order": null,
            "overflow": null,
            "overflow_x": null,
            "overflow_y": null,
            "padding": null,
            "right": null,
            "top": null,
            "visibility": null,
            "width": null
          }
        },
        "d21b2a176ac1437ba6297f4688b71bd9": {
          "model_module": "@jupyter-widgets/controls",
          "model_name": "ProgressStyleModel",
          "model_module_version": "1.5.0",
          "state": {
            "_model_module": "@jupyter-widgets/controls",
            "_model_module_version": "1.5.0",
            "_model_name": "ProgressStyleModel",
            "_view_count": null,
            "_view_module": "@jupyter-widgets/base",
            "_view_module_version": "1.2.0",
            "_view_name": "StyleView",
            "bar_color": null,
            "description_width": ""
          }
        },
        "b6f9de7c53594546a7639725d6268bce": {
          "model_module": "@jupyter-widgets/controls",
          "model_name": "VBoxModel",
          "model_module_version": "1.5.0",
          "state": {
            "_dom_classes": [],
            "_model_module": "@jupyter-widgets/controls",
            "_model_module_version": "1.5.0",
            "_model_name": "VBoxModel",
            "_view_count": null,
            "_view_module": "@jupyter-widgets/controls",
            "_view_module_version": "1.5.0",
            "_view_name": "VBoxView",
            "box_style": "",
            "children": [
              "IPY_MODEL_6a61cc8189004e03b79d70bb30d9de98",
              "IPY_MODEL_b12c44acdf1e43bb95bc39de94d1340b"
            ],
            "layout": "IPY_MODEL_5cac5f240ba346ba81a9e7edec05ef01"
          }
        },
        "6a61cc8189004e03b79d70bb30d9de98": {
          "model_module": "@jupyter-widgets/controls",
          "model_name": "LabelModel",
          "model_module_version": "1.5.0",
          "state": {
            "_dom_classes": [],
            "_model_module": "@jupyter-widgets/controls",
            "_model_module_version": "1.5.0",
            "_model_name": "LabelModel",
            "_view_count": null,
            "_view_module": "@jupyter-widgets/controls",
            "_view_module_version": "1.5.0",
            "_view_name": "LabelView",
            "description": "",
            "description_tooltip": null,
            "layout": "IPY_MODEL_829ee2bd77754edd976cc6ab9159d52d",
            "placeholder": "​",
            "style": "IPY_MODEL_0dd21dd86b964673b5bfba9502952107",
            "value": "56.018 MB of 56.018 MB uploaded (0.000 MB deduped)\r"
          }
        },
        "b12c44acdf1e43bb95bc39de94d1340b": {
          "model_module": "@jupyter-widgets/controls",
          "model_name": "FloatProgressModel",
          "model_module_version": "1.5.0",
          "state": {
            "_dom_classes": [],
            "_model_module": "@jupyter-widgets/controls",
            "_model_module_version": "1.5.0",
            "_model_name": "FloatProgressModel",
            "_view_count": null,
            "_view_module": "@jupyter-widgets/controls",
            "_view_module_version": "1.5.0",
            "_view_name": "ProgressView",
            "bar_style": "",
            "description": "",
            "description_tooltip": null,
            "layout": "IPY_MODEL_a69a8fd4608b41a3838930b4cf3e5b32",
            "max": 1,
            "min": 0,
            "orientation": "horizontal",
            "style": "IPY_MODEL_e9af234ee6ed4a738c0f18543c00c7a1",
            "value": 1
          }
        },
        "5cac5f240ba346ba81a9e7edec05ef01": {
          "model_module": "@jupyter-widgets/base",
          "model_name": "LayoutModel",
          "model_module_version": "1.2.0",
          "state": {
            "_model_module": "@jupyter-widgets/base",
            "_model_module_version": "1.2.0",
            "_model_name": "LayoutModel",
            "_view_count": null,
            "_view_module": "@jupyter-widgets/base",
            "_view_module_version": "1.2.0",
            "_view_name": "LayoutView",
            "align_content": null,
            "align_items": null,
            "align_self": null,
            "border": null,
            "bottom": null,
            "display": null,
            "flex": null,
            "flex_flow": null,
            "grid_area": null,
            "grid_auto_columns": null,
            "grid_auto_flow": null,
            "grid_auto_rows": null,
            "grid_column": null,
            "grid_gap": null,
            "grid_row": null,
            "grid_template_areas": null,
            "grid_template_columns": null,
            "grid_template_rows": null,
            "height": null,
            "justify_content": null,
            "justify_items": null,
            "left": null,
            "margin": null,
            "max_height": null,
            "max_width": null,
            "min_height": null,
            "min_width": null,
            "object_fit": null,
            "object_position": null,
            "order": null,
            "overflow": null,
            "overflow_x": null,
            "overflow_y": null,
            "padding": null,
            "right": null,
            "top": null,
            "visibility": null,
            "width": null
          }
        },
        "829ee2bd77754edd976cc6ab9159d52d": {
          "model_module": "@jupyter-widgets/base",
          "model_name": "LayoutModel",
          "model_module_version": "1.2.0",
          "state": {
            "_model_module": "@jupyter-widgets/base",
            "_model_module_version": "1.2.0",
            "_model_name": "LayoutModel",
            "_view_count": null,
            "_view_module": "@jupyter-widgets/base",
            "_view_module_version": "1.2.0",
            "_view_name": "LayoutView",
            "align_content": null,
            "align_items": null,
            "align_self": null,
            "border": null,
            "bottom": null,
            "display": null,
            "flex": null,
            "flex_flow": null,
            "grid_area": null,
            "grid_auto_columns": null,
            "grid_auto_flow": null,
            "grid_auto_rows": null,
            "grid_column": null,
            "grid_gap": null,
            "grid_row": null,
            "grid_template_areas": null,
            "grid_template_columns": null,
            "grid_template_rows": null,
            "height": null,
            "justify_content": null,
            "justify_items": null,
            "left": null,
            "margin": null,
            "max_height": null,
            "max_width": null,
            "min_height": null,
            "min_width": null,
            "object_fit": null,
            "object_position": null,
            "order": null,
            "overflow": null,
            "overflow_x": null,
            "overflow_y": null,
            "padding": null,
            "right": null,
            "top": null,
            "visibility": null,
            "width": null
          }
        },
        "0dd21dd86b964673b5bfba9502952107": {
          "model_module": "@jupyter-widgets/controls",
          "model_name": "DescriptionStyleModel",
          "model_module_version": "1.5.0",
          "state": {
            "_model_module": "@jupyter-widgets/controls",
            "_model_module_version": "1.5.0",
            "_model_name": "DescriptionStyleModel",
            "_view_count": null,
            "_view_module": "@jupyter-widgets/base",
            "_view_module_version": "1.2.0",
            "_view_name": "StyleView",
            "description_width": ""
          }
        },
        "a69a8fd4608b41a3838930b4cf3e5b32": {
          "model_module": "@jupyter-widgets/base",
          "model_name": "LayoutModel",
          "model_module_version": "1.2.0",
          "state": {
            "_model_module": "@jupyter-widgets/base",
            "_model_module_version": "1.2.0",
            "_model_name": "LayoutModel",
            "_view_count": null,
            "_view_module": "@jupyter-widgets/base",
            "_view_module_version": "1.2.0",
            "_view_name": "LayoutView",
            "align_content": null,
            "align_items": null,
            "align_self": null,
            "border": null,
            "bottom": null,
            "display": null,
            "flex": null,
            "flex_flow": null,
            "grid_area": null,
            "grid_auto_columns": null,
            "grid_auto_flow": null,
            "grid_auto_rows": null,
            "grid_column": null,
            "grid_gap": null,
            "grid_row": null,
            "grid_template_areas": null,
            "grid_template_columns": null,
            "grid_template_rows": null,
            "height": null,
            "justify_content": null,
            "justify_items": null,
            "left": null,
            "margin": null,
            "max_height": null,
            "max_width": null,
            "min_height": null,
            "min_width": null,
            "object_fit": null,
            "object_position": null,
            "order": null,
            "overflow": null,
            "overflow_x": null,
            "overflow_y": null,
            "padding": null,
            "right": null,
            "top": null,
            "visibility": null,
            "width": null
          }
        },
        "e9af234ee6ed4a738c0f18543c00c7a1": {
          "model_module": "@jupyter-widgets/controls",
          "model_name": "ProgressStyleModel",
          "model_module_version": "1.5.0",
          "state": {
            "_model_module": "@jupyter-widgets/controls",
            "_model_module_version": "1.5.0",
            "_model_name": "ProgressStyleModel",
            "_view_count": null,
            "_view_module": "@jupyter-widgets/base",
            "_view_module_version": "1.2.0",
            "_view_name": "StyleView",
            "bar_color": null,
            "description_width": ""
          }
        },
        "ffbe4c1f167745748f4007f10cc66f96": {
          "model_module": "@jupyter-widgets/controls",
          "model_name": "VBoxModel",
          "model_module_version": "1.5.0",
          "state": {
            "_dom_classes": [],
            "_model_module": "@jupyter-widgets/controls",
            "_model_module_version": "1.5.0",
            "_model_name": "VBoxModel",
            "_view_count": null,
            "_view_module": "@jupyter-widgets/controls",
            "_view_module_version": "1.5.0",
            "_view_name": "VBoxView",
            "box_style": "",
            "children": [
              "IPY_MODEL_d6a58edcae3b462486041c509b73a7af",
              "IPY_MODEL_beb46646b0ee42b0979bbaed9c3e3999"
            ],
            "layout": "IPY_MODEL_ac91e6ac74eb4c9aa63d2e783a42fcf4"
          }
        },
        "d6a58edcae3b462486041c509b73a7af": {
          "model_module": "@jupyter-widgets/controls",
          "model_name": "LabelModel",
          "model_module_version": "1.5.0",
          "state": {
            "_dom_classes": [],
            "_model_module": "@jupyter-widgets/controls",
            "_model_module_version": "1.5.0",
            "_model_name": "LabelModel",
            "_view_count": null,
            "_view_module": "@jupyter-widgets/controls",
            "_view_module_version": "1.5.0",
            "_view_name": "LabelView",
            "description": "",
            "description_tooltip": null,
            "layout": "IPY_MODEL_27dae3308bc34eeea3c287248491c062",
            "placeholder": "​",
            "style": "IPY_MODEL_bfd9c2c271f847259b2d81b0457b2852",
            "value": "0.010 MB of 0.010 MB uploaded (0.000 MB deduped)\r"
          }
        },
        "beb46646b0ee42b0979bbaed9c3e3999": {
          "model_module": "@jupyter-widgets/controls",
          "model_name": "FloatProgressModel",
          "model_module_version": "1.5.0",
          "state": {
            "_dom_classes": [],
            "_model_module": "@jupyter-widgets/controls",
            "_model_module_version": "1.5.0",
            "_model_name": "FloatProgressModel",
            "_view_count": null,
            "_view_module": "@jupyter-widgets/controls",
            "_view_module_version": "1.5.0",
            "_view_name": "ProgressView",
            "bar_style": "",
            "description": "",
            "description_tooltip": null,
            "layout": "IPY_MODEL_abafe9d9e4a3442290a4acdbdc0d187d",
            "max": 1,
            "min": 0,
            "orientation": "horizontal",
            "style": "IPY_MODEL_c9cb107529d540bda6df2bdc67a345b5",
            "value": 1
          }
        },
        "ac91e6ac74eb4c9aa63d2e783a42fcf4": {
          "model_module": "@jupyter-widgets/base",
          "model_name": "LayoutModel",
          "model_module_version": "1.2.0",
          "state": {
            "_model_module": "@jupyter-widgets/base",
            "_model_module_version": "1.2.0",
            "_model_name": "LayoutModel",
            "_view_count": null,
            "_view_module": "@jupyter-widgets/base",
            "_view_module_version": "1.2.0",
            "_view_name": "LayoutView",
            "align_content": null,
            "align_items": null,
            "align_self": null,
            "border": null,
            "bottom": null,
            "display": null,
            "flex": null,
            "flex_flow": null,
            "grid_area": null,
            "grid_auto_columns": null,
            "grid_auto_flow": null,
            "grid_auto_rows": null,
            "grid_column": null,
            "grid_gap": null,
            "grid_row": null,
            "grid_template_areas": null,
            "grid_template_columns": null,
            "grid_template_rows": null,
            "height": null,
            "justify_content": null,
            "justify_items": null,
            "left": null,
            "margin": null,
            "max_height": null,
            "max_width": null,
            "min_height": null,
            "min_width": null,
            "object_fit": null,
            "object_position": null,
            "order": null,
            "overflow": null,
            "overflow_x": null,
            "overflow_y": null,
            "padding": null,
            "right": null,
            "top": null,
            "visibility": null,
            "width": null
          }
        },
        "27dae3308bc34eeea3c287248491c062": {
          "model_module": "@jupyter-widgets/base",
          "model_name": "LayoutModel",
          "model_module_version": "1.2.0",
          "state": {
            "_model_module": "@jupyter-widgets/base",
            "_model_module_version": "1.2.0",
            "_model_name": "LayoutModel",
            "_view_count": null,
            "_view_module": "@jupyter-widgets/base",
            "_view_module_version": "1.2.0",
            "_view_name": "LayoutView",
            "align_content": null,
            "align_items": null,
            "align_self": null,
            "border": null,
            "bottom": null,
            "display": null,
            "flex": null,
            "flex_flow": null,
            "grid_area": null,
            "grid_auto_columns": null,
            "grid_auto_flow": null,
            "grid_auto_rows": null,
            "grid_column": null,
            "grid_gap": null,
            "grid_row": null,
            "grid_template_areas": null,
            "grid_template_columns": null,
            "grid_template_rows": null,
            "height": null,
            "justify_content": null,
            "justify_items": null,
            "left": null,
            "margin": null,
            "max_height": null,
            "max_width": null,
            "min_height": null,
            "min_width": null,
            "object_fit": null,
            "object_position": null,
            "order": null,
            "overflow": null,
            "overflow_x": null,
            "overflow_y": null,
            "padding": null,
            "right": null,
            "top": null,
            "visibility": null,
            "width": null
          }
        },
        "bfd9c2c271f847259b2d81b0457b2852": {
          "model_module": "@jupyter-widgets/controls",
          "model_name": "DescriptionStyleModel",
          "model_module_version": "1.5.0",
          "state": {
            "_model_module": "@jupyter-widgets/controls",
            "_model_module_version": "1.5.0",
            "_model_name": "DescriptionStyleModel",
            "_view_count": null,
            "_view_module": "@jupyter-widgets/base",
            "_view_module_version": "1.2.0",
            "_view_name": "StyleView",
            "description_width": ""
          }
        },
        "abafe9d9e4a3442290a4acdbdc0d187d": {
          "model_module": "@jupyter-widgets/base",
          "model_name": "LayoutModel",
          "model_module_version": "1.2.0",
          "state": {
            "_model_module": "@jupyter-widgets/base",
            "_model_module_version": "1.2.0",
            "_model_name": "LayoutModel",
            "_view_count": null,
            "_view_module": "@jupyter-widgets/base",
            "_view_module_version": "1.2.0",
            "_view_name": "LayoutView",
            "align_content": null,
            "align_items": null,
            "align_self": null,
            "border": null,
            "bottom": null,
            "display": null,
            "flex": null,
            "flex_flow": null,
            "grid_area": null,
            "grid_auto_columns": null,
            "grid_auto_flow": null,
            "grid_auto_rows": null,
            "grid_column": null,
            "grid_gap": null,
            "grid_row": null,
            "grid_template_areas": null,
            "grid_template_columns": null,
            "grid_template_rows": null,
            "height": null,
            "justify_content": null,
            "justify_items": null,
            "left": null,
            "margin": null,
            "max_height": null,
            "max_width": null,
            "min_height": null,
            "min_width": null,
            "object_fit": null,
            "object_position": null,
            "order": null,
            "overflow": null,
            "overflow_x": null,
            "overflow_y": null,
            "padding": null,
            "right": null,
            "top": null,
            "visibility": null,
            "width": null
          }
        },
        "c9cb107529d540bda6df2bdc67a345b5": {
          "model_module": "@jupyter-widgets/controls",
          "model_name": "ProgressStyleModel",
          "model_module_version": "1.5.0",
          "state": {
            "_model_module": "@jupyter-widgets/controls",
            "_model_module_version": "1.5.0",
            "_model_name": "ProgressStyleModel",
            "_view_count": null,
            "_view_module": "@jupyter-widgets/base",
            "_view_module_version": "1.2.0",
            "_view_name": "StyleView",
            "bar_color": null,
            "description_width": ""
          }
        },
        "cb13b78e1c9347fea58b67b2e3b888e1": {
          "model_module": "@jupyter-widgets/controls",
          "model_name": "VBoxModel",
          "model_module_version": "1.5.0",
          "state": {
            "_dom_classes": [],
            "_model_module": "@jupyter-widgets/controls",
            "_model_module_version": "1.5.0",
            "_model_name": "VBoxModel",
            "_view_count": null,
            "_view_module": "@jupyter-widgets/controls",
            "_view_module_version": "1.5.0",
            "_view_name": "VBoxView",
            "box_style": "",
            "children": [
              "IPY_MODEL_89dc440323864bb5ba501d0f78b46fd5",
              "IPY_MODEL_894cf8515be5400a983521e4af324137"
            ],
            "layout": "IPY_MODEL_9fa3889a3e894c31bd9403646511a4f5"
          }
        },
        "89dc440323864bb5ba501d0f78b46fd5": {
          "model_module": "@jupyter-widgets/controls",
          "model_name": "LabelModel",
          "model_module_version": "1.5.0",
          "state": {
            "_dom_classes": [],
            "_model_module": "@jupyter-widgets/controls",
            "_model_module_version": "1.5.0",
            "_model_name": "LabelModel",
            "_view_count": null,
            "_view_module": "@jupyter-widgets/controls",
            "_view_module_version": "1.5.0",
            "_view_name": "LabelView",
            "description": "",
            "description_tooltip": null,
            "layout": "IPY_MODEL_dcfc133aa5c74f0984d5a13d44967c40",
            "placeholder": "​",
            "style": "IPY_MODEL_ff4c3e3e301345358ea583818c45439a",
            "value": "45.135 MB of 45.135 MB uploaded (0.000 MB deduped)\r"
          }
        },
        "894cf8515be5400a983521e4af324137": {
          "model_module": "@jupyter-widgets/controls",
          "model_name": "FloatProgressModel",
          "model_module_version": "1.5.0",
          "state": {
            "_dom_classes": [],
            "_model_module": "@jupyter-widgets/controls",
            "_model_module_version": "1.5.0",
            "_model_name": "FloatProgressModel",
            "_view_count": null,
            "_view_module": "@jupyter-widgets/controls",
            "_view_module_version": "1.5.0",
            "_view_name": "ProgressView",
            "bar_style": "",
            "description": "",
            "description_tooltip": null,
            "layout": "IPY_MODEL_b320b00f2ca046ea8b34ebd2452b535f",
            "max": 1,
            "min": 0,
            "orientation": "horizontal",
            "style": "IPY_MODEL_d29a20560add43b69badfab857761126",
            "value": 1
          }
        },
        "9fa3889a3e894c31bd9403646511a4f5": {
          "model_module": "@jupyter-widgets/base",
          "model_name": "LayoutModel",
          "model_module_version": "1.2.0",
          "state": {
            "_model_module": "@jupyter-widgets/base",
            "_model_module_version": "1.2.0",
            "_model_name": "LayoutModel",
            "_view_count": null,
            "_view_module": "@jupyter-widgets/base",
            "_view_module_version": "1.2.0",
            "_view_name": "LayoutView",
            "align_content": null,
            "align_items": null,
            "align_self": null,
            "border": null,
            "bottom": null,
            "display": null,
            "flex": null,
            "flex_flow": null,
            "grid_area": null,
            "grid_auto_columns": null,
            "grid_auto_flow": null,
            "grid_auto_rows": null,
            "grid_column": null,
            "grid_gap": null,
            "grid_row": null,
            "grid_template_areas": null,
            "grid_template_columns": null,
            "grid_template_rows": null,
            "height": null,
            "justify_content": null,
            "justify_items": null,
            "left": null,
            "margin": null,
            "max_height": null,
            "max_width": null,
            "min_height": null,
            "min_width": null,
            "object_fit": null,
            "object_position": null,
            "order": null,
            "overflow": null,
            "overflow_x": null,
            "overflow_y": null,
            "padding": null,
            "right": null,
            "top": null,
            "visibility": null,
            "width": null
          }
        },
        "dcfc133aa5c74f0984d5a13d44967c40": {
          "model_module": "@jupyter-widgets/base",
          "model_name": "LayoutModel",
          "model_module_version": "1.2.0",
          "state": {
            "_model_module": "@jupyter-widgets/base",
            "_model_module_version": "1.2.0",
            "_model_name": "LayoutModel",
            "_view_count": null,
            "_view_module": "@jupyter-widgets/base",
            "_view_module_version": "1.2.0",
            "_view_name": "LayoutView",
            "align_content": null,
            "align_items": null,
            "align_self": null,
            "border": null,
            "bottom": null,
            "display": null,
            "flex": null,
            "flex_flow": null,
            "grid_area": null,
            "grid_auto_columns": null,
            "grid_auto_flow": null,
            "grid_auto_rows": null,
            "grid_column": null,
            "grid_gap": null,
            "grid_row": null,
            "grid_template_areas": null,
            "grid_template_columns": null,
            "grid_template_rows": null,
            "height": null,
            "justify_content": null,
            "justify_items": null,
            "left": null,
            "margin": null,
            "max_height": null,
            "max_width": null,
            "min_height": null,
            "min_width": null,
            "object_fit": null,
            "object_position": null,
            "order": null,
            "overflow": null,
            "overflow_x": null,
            "overflow_y": null,
            "padding": null,
            "right": null,
            "top": null,
            "visibility": null,
            "width": null
          }
        },
        "ff4c3e3e301345358ea583818c45439a": {
          "model_module": "@jupyter-widgets/controls",
          "model_name": "DescriptionStyleModel",
          "model_module_version": "1.5.0",
          "state": {
            "_model_module": "@jupyter-widgets/controls",
            "_model_module_version": "1.5.0",
            "_model_name": "DescriptionStyleModel",
            "_view_count": null,
            "_view_module": "@jupyter-widgets/base",
            "_view_module_version": "1.2.0",
            "_view_name": "StyleView",
            "description_width": ""
          }
        },
        "b320b00f2ca046ea8b34ebd2452b535f": {
          "model_module": "@jupyter-widgets/base",
          "model_name": "LayoutModel",
          "model_module_version": "1.2.0",
          "state": {
            "_model_module": "@jupyter-widgets/base",
            "_model_module_version": "1.2.0",
            "_model_name": "LayoutModel",
            "_view_count": null,
            "_view_module": "@jupyter-widgets/base",
            "_view_module_version": "1.2.0",
            "_view_name": "LayoutView",
            "align_content": null,
            "align_items": null,
            "align_self": null,
            "border": null,
            "bottom": null,
            "display": null,
            "flex": null,
            "flex_flow": null,
            "grid_area": null,
            "grid_auto_columns": null,
            "grid_auto_flow": null,
            "grid_auto_rows": null,
            "grid_column": null,
            "grid_gap": null,
            "grid_row": null,
            "grid_template_areas": null,
            "grid_template_columns": null,
            "grid_template_rows": null,
            "height": null,
            "justify_content": null,
            "justify_items": null,
            "left": null,
            "margin": null,
            "max_height": null,
            "max_width": null,
            "min_height": null,
            "min_width": null,
            "object_fit": null,
            "object_position": null,
            "order": null,
            "overflow": null,
            "overflow_x": null,
            "overflow_y": null,
            "padding": null,
            "right": null,
            "top": null,
            "visibility": null,
            "width": null
          }
        },
        "d29a20560add43b69badfab857761126": {
          "model_module": "@jupyter-widgets/controls",
          "model_name": "ProgressStyleModel",
          "model_module_version": "1.5.0",
          "state": {
            "_model_module": "@jupyter-widgets/controls",
            "_model_module_version": "1.5.0",
            "_model_name": "ProgressStyleModel",
            "_view_count": null,
            "_view_module": "@jupyter-widgets/base",
            "_view_module_version": "1.2.0",
            "_view_name": "StyleView",
            "bar_color": null,
            "description_width": ""
          }
        },
        "cf5c549e0af14f12a2e2addae7271dca": {
          "model_module": "@jupyter-widgets/controls",
          "model_name": "VBoxModel",
          "model_module_version": "1.5.0",
          "state": {
            "_dom_classes": [],
            "_model_module": "@jupyter-widgets/controls",
            "_model_module_version": "1.5.0",
            "_model_name": "VBoxModel",
            "_view_count": null,
            "_view_module": "@jupyter-widgets/controls",
            "_view_module_version": "1.5.0",
            "_view_name": "VBoxView",
            "box_style": "",
            "children": [
              "IPY_MODEL_6321b727a3d047ccbb0ee9c8dfc6d8ec",
              "IPY_MODEL_d2e4eceec6bf4bc484c7f2914c726e1f"
            ],
            "layout": "IPY_MODEL_7f5352408991423da25dfcff97d2d7fd"
          }
        },
        "6321b727a3d047ccbb0ee9c8dfc6d8ec": {
          "model_module": "@jupyter-widgets/controls",
          "model_name": "LabelModel",
          "model_module_version": "1.5.0",
          "state": {
            "_dom_classes": [],
            "_model_module": "@jupyter-widgets/controls",
            "_model_module_version": "1.5.0",
            "_model_name": "LabelModel",
            "_view_count": null,
            "_view_module": "@jupyter-widgets/controls",
            "_view_module_version": "1.5.0",
            "_view_name": "LabelView",
            "description": "",
            "description_tooltip": null,
            "layout": "IPY_MODEL_9ddba037b1894934ad2de0123babbbbd",
            "placeholder": "​",
            "style": "IPY_MODEL_5bef736a78344f8fa320893f60c531a3",
            "value": "126.183 MB of 126.183 MB uploaded (0.000 MB deduped)\r"
          }
        },
        "d2e4eceec6bf4bc484c7f2914c726e1f": {
          "model_module": "@jupyter-widgets/controls",
          "model_name": "FloatProgressModel",
          "model_module_version": "1.5.0",
          "state": {
            "_dom_classes": [],
            "_model_module": "@jupyter-widgets/controls",
            "_model_module_version": "1.5.0",
            "_model_name": "FloatProgressModel",
            "_view_count": null,
            "_view_module": "@jupyter-widgets/controls",
            "_view_module_version": "1.5.0",
            "_view_name": "ProgressView",
            "bar_style": "",
            "description": "",
            "description_tooltip": null,
            "layout": "IPY_MODEL_993800c0658248db9234a75518bd4ddb",
            "max": 1,
            "min": 0,
            "orientation": "horizontal",
            "style": "IPY_MODEL_9e7453d804a8406092fa0e40d2d58b40",
            "value": 1
          }
        },
        "7f5352408991423da25dfcff97d2d7fd": {
          "model_module": "@jupyter-widgets/base",
          "model_name": "LayoutModel",
          "model_module_version": "1.2.0",
          "state": {
            "_model_module": "@jupyter-widgets/base",
            "_model_module_version": "1.2.0",
            "_model_name": "LayoutModel",
            "_view_count": null,
            "_view_module": "@jupyter-widgets/base",
            "_view_module_version": "1.2.0",
            "_view_name": "LayoutView",
            "align_content": null,
            "align_items": null,
            "align_self": null,
            "border": null,
            "bottom": null,
            "display": null,
            "flex": null,
            "flex_flow": null,
            "grid_area": null,
            "grid_auto_columns": null,
            "grid_auto_flow": null,
            "grid_auto_rows": null,
            "grid_column": null,
            "grid_gap": null,
            "grid_row": null,
            "grid_template_areas": null,
            "grid_template_columns": null,
            "grid_template_rows": null,
            "height": null,
            "justify_content": null,
            "justify_items": null,
            "left": null,
            "margin": null,
            "max_height": null,
            "max_width": null,
            "min_height": null,
            "min_width": null,
            "object_fit": null,
            "object_position": null,
            "order": null,
            "overflow": null,
            "overflow_x": null,
            "overflow_y": null,
            "padding": null,
            "right": null,
            "top": null,
            "visibility": null,
            "width": null
          }
        },
        "9ddba037b1894934ad2de0123babbbbd": {
          "model_module": "@jupyter-widgets/base",
          "model_name": "LayoutModel",
          "model_module_version": "1.2.0",
          "state": {
            "_model_module": "@jupyter-widgets/base",
            "_model_module_version": "1.2.0",
            "_model_name": "LayoutModel",
            "_view_count": null,
            "_view_module": "@jupyter-widgets/base",
            "_view_module_version": "1.2.0",
            "_view_name": "LayoutView",
            "align_content": null,
            "align_items": null,
            "align_self": null,
            "border": null,
            "bottom": null,
            "display": null,
            "flex": null,
            "flex_flow": null,
            "grid_area": null,
            "grid_auto_columns": null,
            "grid_auto_flow": null,
            "grid_auto_rows": null,
            "grid_column": null,
            "grid_gap": null,
            "grid_row": null,
            "grid_template_areas": null,
            "grid_template_columns": null,
            "grid_template_rows": null,
            "height": null,
            "justify_content": null,
            "justify_items": null,
            "left": null,
            "margin": null,
            "max_height": null,
            "max_width": null,
            "min_height": null,
            "min_width": null,
            "object_fit": null,
            "object_position": null,
            "order": null,
            "overflow": null,
            "overflow_x": null,
            "overflow_y": null,
            "padding": null,
            "right": null,
            "top": null,
            "visibility": null,
            "width": null
          }
        },
        "5bef736a78344f8fa320893f60c531a3": {
          "model_module": "@jupyter-widgets/controls",
          "model_name": "DescriptionStyleModel",
          "model_module_version": "1.5.0",
          "state": {
            "_model_module": "@jupyter-widgets/controls",
            "_model_module_version": "1.5.0",
            "_model_name": "DescriptionStyleModel",
            "_view_count": null,
            "_view_module": "@jupyter-widgets/base",
            "_view_module_version": "1.2.0",
            "_view_name": "StyleView",
            "description_width": ""
          }
        },
        "993800c0658248db9234a75518bd4ddb": {
          "model_module": "@jupyter-widgets/base",
          "model_name": "LayoutModel",
          "model_module_version": "1.2.0",
          "state": {
            "_model_module": "@jupyter-widgets/base",
            "_model_module_version": "1.2.0",
            "_model_name": "LayoutModel",
            "_view_count": null,
            "_view_module": "@jupyter-widgets/base",
            "_view_module_version": "1.2.0",
            "_view_name": "LayoutView",
            "align_content": null,
            "align_items": null,
            "align_self": null,
            "border": null,
            "bottom": null,
            "display": null,
            "flex": null,
            "flex_flow": null,
            "grid_area": null,
            "grid_auto_columns": null,
            "grid_auto_flow": null,
            "grid_auto_rows": null,
            "grid_column": null,
            "grid_gap": null,
            "grid_row": null,
            "grid_template_areas": null,
            "grid_template_columns": null,
            "grid_template_rows": null,
            "height": null,
            "justify_content": null,
            "justify_items": null,
            "left": null,
            "margin": null,
            "max_height": null,
            "max_width": null,
            "min_height": null,
            "min_width": null,
            "object_fit": null,
            "object_position": null,
            "order": null,
            "overflow": null,
            "overflow_x": null,
            "overflow_y": null,
            "padding": null,
            "right": null,
            "top": null,
            "visibility": null,
            "width": null
          }
        },
        "9e7453d804a8406092fa0e40d2d58b40": {
          "model_module": "@jupyter-widgets/controls",
          "model_name": "ProgressStyleModel",
          "model_module_version": "1.5.0",
          "state": {
            "_model_module": "@jupyter-widgets/controls",
            "_model_module_version": "1.5.0",
            "_model_name": "ProgressStyleModel",
            "_view_count": null,
            "_view_module": "@jupyter-widgets/base",
            "_view_module_version": "1.2.0",
            "_view_name": "StyleView",
            "bar_color": null,
            "description_width": ""
          }
        },
        "c8ff06523d4041fe9fa624b416c6ef6d": {
          "model_module": "@jupyter-widgets/controls",
          "model_name": "VBoxModel",
          "model_module_version": "1.5.0",
          "state": {
            "_dom_classes": [],
            "_model_module": "@jupyter-widgets/controls",
            "_model_module_version": "1.5.0",
            "_model_name": "VBoxModel",
            "_view_count": null,
            "_view_module": "@jupyter-widgets/controls",
            "_view_module_version": "1.5.0",
            "_view_name": "VBoxView",
            "box_style": "",
            "children": [
              "IPY_MODEL_9ad08a66a9a947c4b521c3e7f95b32d5",
              "IPY_MODEL_04ed03cd57954ee39f7f90cb2cb1a96f"
            ],
            "layout": "IPY_MODEL_06449615d44742268f6db1ff70e77580"
          }
        },
        "9ad08a66a9a947c4b521c3e7f95b32d5": {
          "model_module": "@jupyter-widgets/controls",
          "model_name": "LabelModel",
          "model_module_version": "1.5.0",
          "state": {
            "_dom_classes": [],
            "_model_module": "@jupyter-widgets/controls",
            "_model_module_version": "1.5.0",
            "_model_name": "LabelModel",
            "_view_count": null,
            "_view_module": "@jupyter-widgets/controls",
            "_view_module_version": "1.5.0",
            "_view_name": "LabelView",
            "description": "",
            "description_tooltip": null,
            "layout": "IPY_MODEL_21539c2e6ec74dd29cd8860714ec34fa",
            "placeholder": "​",
            "style": "IPY_MODEL_76e9afb40df64e4fa11e8aff12afe816",
            "value": "4.358 MB of 4.358 MB uploaded (0.000 MB deduped)\r"
          }
        },
        "04ed03cd57954ee39f7f90cb2cb1a96f": {
          "model_module": "@jupyter-widgets/controls",
          "model_name": "FloatProgressModel",
          "model_module_version": "1.5.0",
          "state": {
            "_dom_classes": [],
            "_model_module": "@jupyter-widgets/controls",
            "_model_module_version": "1.5.0",
            "_model_name": "FloatProgressModel",
            "_view_count": null,
            "_view_module": "@jupyter-widgets/controls",
            "_view_module_version": "1.5.0",
            "_view_name": "ProgressView",
            "bar_style": "",
            "description": "",
            "description_tooltip": null,
            "layout": "IPY_MODEL_be959d0faa304c5d8c490256d97cce02",
            "max": 1,
            "min": 0,
            "orientation": "horizontal",
            "style": "IPY_MODEL_3db6638ec2b747ba977df235b6e077a5",
            "value": 1
          }
        },
        "06449615d44742268f6db1ff70e77580": {
          "model_module": "@jupyter-widgets/base",
          "model_name": "LayoutModel",
          "model_module_version": "1.2.0",
          "state": {
            "_model_module": "@jupyter-widgets/base",
            "_model_module_version": "1.2.0",
            "_model_name": "LayoutModel",
            "_view_count": null,
            "_view_module": "@jupyter-widgets/base",
            "_view_module_version": "1.2.0",
            "_view_name": "LayoutView",
            "align_content": null,
            "align_items": null,
            "align_self": null,
            "border": null,
            "bottom": null,
            "display": null,
            "flex": null,
            "flex_flow": null,
            "grid_area": null,
            "grid_auto_columns": null,
            "grid_auto_flow": null,
            "grid_auto_rows": null,
            "grid_column": null,
            "grid_gap": null,
            "grid_row": null,
            "grid_template_areas": null,
            "grid_template_columns": null,
            "grid_template_rows": null,
            "height": null,
            "justify_content": null,
            "justify_items": null,
            "left": null,
            "margin": null,
            "max_height": null,
            "max_width": null,
            "min_height": null,
            "min_width": null,
            "object_fit": null,
            "object_position": null,
            "order": null,
            "overflow": null,
            "overflow_x": null,
            "overflow_y": null,
            "padding": null,
            "right": null,
            "top": null,
            "visibility": null,
            "width": null
          }
        },
        "21539c2e6ec74dd29cd8860714ec34fa": {
          "model_module": "@jupyter-widgets/base",
          "model_name": "LayoutModel",
          "model_module_version": "1.2.0",
          "state": {
            "_model_module": "@jupyter-widgets/base",
            "_model_module_version": "1.2.0",
            "_model_name": "LayoutModel",
            "_view_count": null,
            "_view_module": "@jupyter-widgets/base",
            "_view_module_version": "1.2.0",
            "_view_name": "LayoutView",
            "align_content": null,
            "align_items": null,
            "align_self": null,
            "border": null,
            "bottom": null,
            "display": null,
            "flex": null,
            "flex_flow": null,
            "grid_area": null,
            "grid_auto_columns": null,
            "grid_auto_flow": null,
            "grid_auto_rows": null,
            "grid_column": null,
            "grid_gap": null,
            "grid_row": null,
            "grid_template_areas": null,
            "grid_template_columns": null,
            "grid_template_rows": null,
            "height": null,
            "justify_content": null,
            "justify_items": null,
            "left": null,
            "margin": null,
            "max_height": null,
            "max_width": null,
            "min_height": null,
            "min_width": null,
            "object_fit": null,
            "object_position": null,
            "order": null,
            "overflow": null,
            "overflow_x": null,
            "overflow_y": null,
            "padding": null,
            "right": null,
            "top": null,
            "visibility": null,
            "width": null
          }
        },
        "76e9afb40df64e4fa11e8aff12afe816": {
          "model_module": "@jupyter-widgets/controls",
          "model_name": "DescriptionStyleModel",
          "model_module_version": "1.5.0",
          "state": {
            "_model_module": "@jupyter-widgets/controls",
            "_model_module_version": "1.5.0",
            "_model_name": "DescriptionStyleModel",
            "_view_count": null,
            "_view_module": "@jupyter-widgets/base",
            "_view_module_version": "1.2.0",
            "_view_name": "StyleView",
            "description_width": ""
          }
        },
        "be959d0faa304c5d8c490256d97cce02": {
          "model_module": "@jupyter-widgets/base",
          "model_name": "LayoutModel",
          "model_module_version": "1.2.0",
          "state": {
            "_model_module": "@jupyter-widgets/base",
            "_model_module_version": "1.2.0",
            "_model_name": "LayoutModel",
            "_view_count": null,
            "_view_module": "@jupyter-widgets/base",
            "_view_module_version": "1.2.0",
            "_view_name": "LayoutView",
            "align_content": null,
            "align_items": null,
            "align_self": null,
            "border": null,
            "bottom": null,
            "display": null,
            "flex": null,
            "flex_flow": null,
            "grid_area": null,
            "grid_auto_columns": null,
            "grid_auto_flow": null,
            "grid_auto_rows": null,
            "grid_column": null,
            "grid_gap": null,
            "grid_row": null,
            "grid_template_areas": null,
            "grid_template_columns": null,
            "grid_template_rows": null,
            "height": null,
            "justify_content": null,
            "justify_items": null,
            "left": null,
            "margin": null,
            "max_height": null,
            "max_width": null,
            "min_height": null,
            "min_width": null,
            "object_fit": null,
            "object_position": null,
            "order": null,
            "overflow": null,
            "overflow_x": null,
            "overflow_y": null,
            "padding": null,
            "right": null,
            "top": null,
            "visibility": null,
            "width": null
          }
        },
        "3db6638ec2b747ba977df235b6e077a5": {
          "model_module": "@jupyter-widgets/controls",
          "model_name": "ProgressStyleModel",
          "model_module_version": "1.5.0",
          "state": {
            "_model_module": "@jupyter-widgets/controls",
            "_model_module_version": "1.5.0",
            "_model_name": "ProgressStyleModel",
            "_view_count": null,
            "_view_module": "@jupyter-widgets/base",
            "_view_module_version": "1.2.0",
            "_view_name": "StyleView",
            "bar_color": null,
            "description_width": ""
          }
        },
        "dbcd877072ca4f02bca26065f79f135c": {
          "model_module": "@jupyter-widgets/controls",
          "model_name": "VBoxModel",
          "model_module_version": "1.5.0",
          "state": {
            "_dom_classes": [],
            "_model_module": "@jupyter-widgets/controls",
            "_model_module_version": "1.5.0",
            "_model_name": "VBoxModel",
            "_view_count": null,
            "_view_module": "@jupyter-widgets/controls",
            "_view_module_version": "1.5.0",
            "_view_name": "VBoxView",
            "box_style": "",
            "children": [
              "IPY_MODEL_8f362234a1a04362b374a81ae2e7fe1f",
              "IPY_MODEL_5b0508b2c72e416eadb6fe6dd8c71e9e"
            ],
            "layout": "IPY_MODEL_6e5d4872b26c4c3b8a04f4036f0eedb3"
          }
        },
        "8f362234a1a04362b374a81ae2e7fe1f": {
          "model_module": "@jupyter-widgets/controls",
          "model_name": "LabelModel",
          "model_module_version": "1.5.0",
          "state": {
            "_dom_classes": [],
            "_model_module": "@jupyter-widgets/controls",
            "_model_module_version": "1.5.0",
            "_model_name": "LabelModel",
            "_view_count": null,
            "_view_module": "@jupyter-widgets/controls",
            "_view_module_version": "1.5.0",
            "_view_name": "LabelView",
            "description": "",
            "description_tooltip": null,
            "layout": "IPY_MODEL_e02572e8e19445f1b88f0b58899578ad",
            "placeholder": "​",
            "style": "IPY_MODEL_7453a85ddef34e838c5e2c7465cd8dc1",
            "value": "2.278 MB of 2.278 MB uploaded (0.000 MB deduped)\r"
          }
        },
        "5b0508b2c72e416eadb6fe6dd8c71e9e": {
          "model_module": "@jupyter-widgets/controls",
          "model_name": "FloatProgressModel",
          "model_module_version": "1.5.0",
          "state": {
            "_dom_classes": [],
            "_model_module": "@jupyter-widgets/controls",
            "_model_module_version": "1.5.0",
            "_model_name": "FloatProgressModel",
            "_view_count": null,
            "_view_module": "@jupyter-widgets/controls",
            "_view_module_version": "1.5.0",
            "_view_name": "ProgressView",
            "bar_style": "",
            "description": "",
            "description_tooltip": null,
            "layout": "IPY_MODEL_a084e7f3531941e381c6e92ff74b2eec",
            "max": 1,
            "min": 0,
            "orientation": "horizontal",
            "style": "IPY_MODEL_7a46f8ee848f4e2d828d458a5f746754",
            "value": 1
          }
        },
        "6e5d4872b26c4c3b8a04f4036f0eedb3": {
          "model_module": "@jupyter-widgets/base",
          "model_name": "LayoutModel",
          "model_module_version": "1.2.0",
          "state": {
            "_model_module": "@jupyter-widgets/base",
            "_model_module_version": "1.2.0",
            "_model_name": "LayoutModel",
            "_view_count": null,
            "_view_module": "@jupyter-widgets/base",
            "_view_module_version": "1.2.0",
            "_view_name": "LayoutView",
            "align_content": null,
            "align_items": null,
            "align_self": null,
            "border": null,
            "bottom": null,
            "display": null,
            "flex": null,
            "flex_flow": null,
            "grid_area": null,
            "grid_auto_columns": null,
            "grid_auto_flow": null,
            "grid_auto_rows": null,
            "grid_column": null,
            "grid_gap": null,
            "grid_row": null,
            "grid_template_areas": null,
            "grid_template_columns": null,
            "grid_template_rows": null,
            "height": null,
            "justify_content": null,
            "justify_items": null,
            "left": null,
            "margin": null,
            "max_height": null,
            "max_width": null,
            "min_height": null,
            "min_width": null,
            "object_fit": null,
            "object_position": null,
            "order": null,
            "overflow": null,
            "overflow_x": null,
            "overflow_y": null,
            "padding": null,
            "right": null,
            "top": null,
            "visibility": null,
            "width": null
          }
        },
        "e02572e8e19445f1b88f0b58899578ad": {
          "model_module": "@jupyter-widgets/base",
          "model_name": "LayoutModel",
          "model_module_version": "1.2.0",
          "state": {
            "_model_module": "@jupyter-widgets/base",
            "_model_module_version": "1.2.0",
            "_model_name": "LayoutModel",
            "_view_count": null,
            "_view_module": "@jupyter-widgets/base",
            "_view_module_version": "1.2.0",
            "_view_name": "LayoutView",
            "align_content": null,
            "align_items": null,
            "align_self": null,
            "border": null,
            "bottom": null,
            "display": null,
            "flex": null,
            "flex_flow": null,
            "grid_area": null,
            "grid_auto_columns": null,
            "grid_auto_flow": null,
            "grid_auto_rows": null,
            "grid_column": null,
            "grid_gap": null,
            "grid_row": null,
            "grid_template_areas": null,
            "grid_template_columns": null,
            "grid_template_rows": null,
            "height": null,
            "justify_content": null,
            "justify_items": null,
            "left": null,
            "margin": null,
            "max_height": null,
            "max_width": null,
            "min_height": null,
            "min_width": null,
            "object_fit": null,
            "object_position": null,
            "order": null,
            "overflow": null,
            "overflow_x": null,
            "overflow_y": null,
            "padding": null,
            "right": null,
            "top": null,
            "visibility": null,
            "width": null
          }
        },
        "7453a85ddef34e838c5e2c7465cd8dc1": {
          "model_module": "@jupyter-widgets/controls",
          "model_name": "DescriptionStyleModel",
          "model_module_version": "1.5.0",
          "state": {
            "_model_module": "@jupyter-widgets/controls",
            "_model_module_version": "1.5.0",
            "_model_name": "DescriptionStyleModel",
            "_view_count": null,
            "_view_module": "@jupyter-widgets/base",
            "_view_module_version": "1.2.0",
            "_view_name": "StyleView",
            "description_width": ""
          }
        },
        "a084e7f3531941e381c6e92ff74b2eec": {
          "model_module": "@jupyter-widgets/base",
          "model_name": "LayoutModel",
          "model_module_version": "1.2.0",
          "state": {
            "_model_module": "@jupyter-widgets/base",
            "_model_module_version": "1.2.0",
            "_model_name": "LayoutModel",
            "_view_count": null,
            "_view_module": "@jupyter-widgets/base",
            "_view_module_version": "1.2.0",
            "_view_name": "LayoutView",
            "align_content": null,
            "align_items": null,
            "align_self": null,
            "border": null,
            "bottom": null,
            "display": null,
            "flex": null,
            "flex_flow": null,
            "grid_area": null,
            "grid_auto_columns": null,
            "grid_auto_flow": null,
            "grid_auto_rows": null,
            "grid_column": null,
            "grid_gap": null,
            "grid_row": null,
            "grid_template_areas": null,
            "grid_template_columns": null,
            "grid_template_rows": null,
            "height": null,
            "justify_content": null,
            "justify_items": null,
            "left": null,
            "margin": null,
            "max_height": null,
            "max_width": null,
            "min_height": null,
            "min_width": null,
            "object_fit": null,
            "object_position": null,
            "order": null,
            "overflow": null,
            "overflow_x": null,
            "overflow_y": null,
            "padding": null,
            "right": null,
            "top": null,
            "visibility": null,
            "width": null
          }
        },
        "7a46f8ee848f4e2d828d458a5f746754": {
          "model_module": "@jupyter-widgets/controls",
          "model_name": "ProgressStyleModel",
          "model_module_version": "1.5.0",
          "state": {
            "_model_module": "@jupyter-widgets/controls",
            "_model_module_version": "1.5.0",
            "_model_name": "ProgressStyleModel",
            "_view_count": null,
            "_view_module": "@jupyter-widgets/base",
            "_view_module_version": "1.2.0",
            "_view_name": "StyleView",
            "bar_color": null,
            "description_width": ""
          }
        },
        "9d85aebd9f834e5bb5f09347b8892a2d": {
          "model_module": "@jupyter-widgets/controls",
          "model_name": "VBoxModel",
          "model_module_version": "1.5.0",
          "state": {
            "_dom_classes": [],
            "_model_module": "@jupyter-widgets/controls",
            "_model_module_version": "1.5.0",
            "_model_name": "VBoxModel",
            "_view_count": null,
            "_view_module": "@jupyter-widgets/controls",
            "_view_module_version": "1.5.0",
            "_view_name": "VBoxView",
            "box_style": "",
            "children": [
              "IPY_MODEL_f8f06f3e3c54437594160a1ef397ba4f",
              "IPY_MODEL_43b5171e856840f9a7f116456cb250ab"
            ],
            "layout": "IPY_MODEL_8df6210fdb6444c08f6dc8989de8b12c"
          }
        },
        "f8f06f3e3c54437594160a1ef397ba4f": {
          "model_module": "@jupyter-widgets/controls",
          "model_name": "LabelModel",
          "model_module_version": "1.5.0",
          "state": {
            "_dom_classes": [],
            "_model_module": "@jupyter-widgets/controls",
            "_model_module_version": "1.5.0",
            "_model_name": "LabelModel",
            "_view_count": null,
            "_view_module": "@jupyter-widgets/controls",
            "_view_module_version": "1.5.0",
            "_view_name": "LabelView",
            "description": "",
            "description_tooltip": null,
            "layout": "IPY_MODEL_b3340d7a115742e187827076aee66632",
            "placeholder": "​",
            "style": "IPY_MODEL_679d8445222b4ca8baa3c1aa4c54644a",
            "value": "2.278 MB of 2.278 MB uploaded (0.000 MB deduped)\r"
          }
        },
        "43b5171e856840f9a7f116456cb250ab": {
          "model_module": "@jupyter-widgets/controls",
          "model_name": "FloatProgressModel",
          "model_module_version": "1.5.0",
          "state": {
            "_dom_classes": [],
            "_model_module": "@jupyter-widgets/controls",
            "_model_module_version": "1.5.0",
            "_model_name": "FloatProgressModel",
            "_view_count": null,
            "_view_module": "@jupyter-widgets/controls",
            "_view_module_version": "1.5.0",
            "_view_name": "ProgressView",
            "bar_style": "",
            "description": "",
            "description_tooltip": null,
            "layout": "IPY_MODEL_8221e702fd1c45dfa23930b00de9f5d4",
            "max": 1,
            "min": 0,
            "orientation": "horizontal",
            "style": "IPY_MODEL_ac16b28ef46442dc8e3c5b2c55418569",
            "value": 1
          }
        },
        "8df6210fdb6444c08f6dc8989de8b12c": {
          "model_module": "@jupyter-widgets/base",
          "model_name": "LayoutModel",
          "model_module_version": "1.2.0",
          "state": {
            "_model_module": "@jupyter-widgets/base",
            "_model_module_version": "1.2.0",
            "_model_name": "LayoutModel",
            "_view_count": null,
            "_view_module": "@jupyter-widgets/base",
            "_view_module_version": "1.2.0",
            "_view_name": "LayoutView",
            "align_content": null,
            "align_items": null,
            "align_self": null,
            "border": null,
            "bottom": null,
            "display": null,
            "flex": null,
            "flex_flow": null,
            "grid_area": null,
            "grid_auto_columns": null,
            "grid_auto_flow": null,
            "grid_auto_rows": null,
            "grid_column": null,
            "grid_gap": null,
            "grid_row": null,
            "grid_template_areas": null,
            "grid_template_columns": null,
            "grid_template_rows": null,
            "height": null,
            "justify_content": null,
            "justify_items": null,
            "left": null,
            "margin": null,
            "max_height": null,
            "max_width": null,
            "min_height": null,
            "min_width": null,
            "object_fit": null,
            "object_position": null,
            "order": null,
            "overflow": null,
            "overflow_x": null,
            "overflow_y": null,
            "padding": null,
            "right": null,
            "top": null,
            "visibility": null,
            "width": null
          }
        },
        "b3340d7a115742e187827076aee66632": {
          "model_module": "@jupyter-widgets/base",
          "model_name": "LayoutModel",
          "model_module_version": "1.2.0",
          "state": {
            "_model_module": "@jupyter-widgets/base",
            "_model_module_version": "1.2.0",
            "_model_name": "LayoutModel",
            "_view_count": null,
            "_view_module": "@jupyter-widgets/base",
            "_view_module_version": "1.2.0",
            "_view_name": "LayoutView",
            "align_content": null,
            "align_items": null,
            "align_self": null,
            "border": null,
            "bottom": null,
            "display": null,
            "flex": null,
            "flex_flow": null,
            "grid_area": null,
            "grid_auto_columns": null,
            "grid_auto_flow": null,
            "grid_auto_rows": null,
            "grid_column": null,
            "grid_gap": null,
            "grid_row": null,
            "grid_template_areas": null,
            "grid_template_columns": null,
            "grid_template_rows": null,
            "height": null,
            "justify_content": null,
            "justify_items": null,
            "left": null,
            "margin": null,
            "max_height": null,
            "max_width": null,
            "min_height": null,
            "min_width": null,
            "object_fit": null,
            "object_position": null,
            "order": null,
            "overflow": null,
            "overflow_x": null,
            "overflow_y": null,
            "padding": null,
            "right": null,
            "top": null,
            "visibility": null,
            "width": null
          }
        },
        "679d8445222b4ca8baa3c1aa4c54644a": {
          "model_module": "@jupyter-widgets/controls",
          "model_name": "DescriptionStyleModel",
          "model_module_version": "1.5.0",
          "state": {
            "_model_module": "@jupyter-widgets/controls",
            "_model_module_version": "1.5.0",
            "_model_name": "DescriptionStyleModel",
            "_view_count": null,
            "_view_module": "@jupyter-widgets/base",
            "_view_module_version": "1.2.0",
            "_view_name": "StyleView",
            "description_width": ""
          }
        },
        "8221e702fd1c45dfa23930b00de9f5d4": {
          "model_module": "@jupyter-widgets/base",
          "model_name": "LayoutModel",
          "model_module_version": "1.2.0",
          "state": {
            "_model_module": "@jupyter-widgets/base",
            "_model_module_version": "1.2.0",
            "_model_name": "LayoutModel",
            "_view_count": null,
            "_view_module": "@jupyter-widgets/base",
            "_view_module_version": "1.2.0",
            "_view_name": "LayoutView",
            "align_content": null,
            "align_items": null,
            "align_self": null,
            "border": null,
            "bottom": null,
            "display": null,
            "flex": null,
            "flex_flow": null,
            "grid_area": null,
            "grid_auto_columns": null,
            "grid_auto_flow": null,
            "grid_auto_rows": null,
            "grid_column": null,
            "grid_gap": null,
            "grid_row": null,
            "grid_template_areas": null,
            "grid_template_columns": null,
            "grid_template_rows": null,
            "height": null,
            "justify_content": null,
            "justify_items": null,
            "left": null,
            "margin": null,
            "max_height": null,
            "max_width": null,
            "min_height": null,
            "min_width": null,
            "object_fit": null,
            "object_position": null,
            "order": null,
            "overflow": null,
            "overflow_x": null,
            "overflow_y": null,
            "padding": null,
            "right": null,
            "top": null,
            "visibility": null,
            "width": null
          }
        },
        "ac16b28ef46442dc8e3c5b2c55418569": {
          "model_module": "@jupyter-widgets/controls",
          "model_name": "ProgressStyleModel",
          "model_module_version": "1.5.0",
          "state": {
            "_model_module": "@jupyter-widgets/controls",
            "_model_module_version": "1.5.0",
            "_model_name": "ProgressStyleModel",
            "_view_count": null,
            "_view_module": "@jupyter-widgets/base",
            "_view_module_version": "1.2.0",
            "_view_name": "StyleView",
            "bar_color": null,
            "description_width": ""
          }
        },
        "dc1510441aa74fe5b084bf98b42fcac1": {
          "model_module": "@jupyter-widgets/controls",
          "model_name": "VBoxModel",
          "model_module_version": "1.5.0",
          "state": {
            "_dom_classes": [],
            "_model_module": "@jupyter-widgets/controls",
            "_model_module_version": "1.5.0",
            "_model_name": "VBoxModel",
            "_view_count": null,
            "_view_module": "@jupyter-widgets/controls",
            "_view_module_version": "1.5.0",
            "_view_name": "VBoxView",
            "box_style": "",
            "children": [
              "IPY_MODEL_f8470fac36764dd9ac69805b9fb6ab7f",
              "IPY_MODEL_ce3b5b81516241e9867814025f701a1a"
            ],
            "layout": "IPY_MODEL_bada4a7864104c9fbde7574227c83b9c"
          }
        },
        "f8470fac36764dd9ac69805b9fb6ab7f": {
          "model_module": "@jupyter-widgets/controls",
          "model_name": "LabelModel",
          "model_module_version": "1.5.0",
          "state": {
            "_dom_classes": [],
            "_model_module": "@jupyter-widgets/controls",
            "_model_module_version": "1.5.0",
            "_model_name": "LabelModel",
            "_view_count": null,
            "_view_module": "@jupyter-widgets/controls",
            "_view_module_version": "1.5.0",
            "_view_name": "LabelView",
            "description": "",
            "description_tooltip": null,
            "layout": "IPY_MODEL_5f41d28a63d74a6a97a4d5c410921bef",
            "placeholder": "​",
            "style": "IPY_MODEL_82435781822a4ad7b2cb6e9418858ffa",
            "value": "126.183 MB of 126.183 MB uploaded (0.000 MB deduped)\r"
          }
        },
        "ce3b5b81516241e9867814025f701a1a": {
          "model_module": "@jupyter-widgets/controls",
          "model_name": "FloatProgressModel",
          "model_module_version": "1.5.0",
          "state": {
            "_dom_classes": [],
            "_model_module": "@jupyter-widgets/controls",
            "_model_module_version": "1.5.0",
            "_model_name": "FloatProgressModel",
            "_view_count": null,
            "_view_module": "@jupyter-widgets/controls",
            "_view_module_version": "1.5.0",
            "_view_name": "ProgressView",
            "bar_style": "",
            "description": "",
            "description_tooltip": null,
            "layout": "IPY_MODEL_7ef4a946a450432da8169d06f5ba999a",
            "max": 1,
            "min": 0,
            "orientation": "horizontal",
            "style": "IPY_MODEL_08267125e8b34f8cb3517386e6585fec",
            "value": 1
          }
        },
        "bada4a7864104c9fbde7574227c83b9c": {
          "model_module": "@jupyter-widgets/base",
          "model_name": "LayoutModel",
          "model_module_version": "1.2.0",
          "state": {
            "_model_module": "@jupyter-widgets/base",
            "_model_module_version": "1.2.0",
            "_model_name": "LayoutModel",
            "_view_count": null,
            "_view_module": "@jupyter-widgets/base",
            "_view_module_version": "1.2.0",
            "_view_name": "LayoutView",
            "align_content": null,
            "align_items": null,
            "align_self": null,
            "border": null,
            "bottom": null,
            "display": null,
            "flex": null,
            "flex_flow": null,
            "grid_area": null,
            "grid_auto_columns": null,
            "grid_auto_flow": null,
            "grid_auto_rows": null,
            "grid_column": null,
            "grid_gap": null,
            "grid_row": null,
            "grid_template_areas": null,
            "grid_template_columns": null,
            "grid_template_rows": null,
            "height": null,
            "justify_content": null,
            "justify_items": null,
            "left": null,
            "margin": null,
            "max_height": null,
            "max_width": null,
            "min_height": null,
            "min_width": null,
            "object_fit": null,
            "object_position": null,
            "order": null,
            "overflow": null,
            "overflow_x": null,
            "overflow_y": null,
            "padding": null,
            "right": null,
            "top": null,
            "visibility": null,
            "width": null
          }
        },
        "5f41d28a63d74a6a97a4d5c410921bef": {
          "model_module": "@jupyter-widgets/base",
          "model_name": "LayoutModel",
          "model_module_version": "1.2.0",
          "state": {
            "_model_module": "@jupyter-widgets/base",
            "_model_module_version": "1.2.0",
            "_model_name": "LayoutModel",
            "_view_count": null,
            "_view_module": "@jupyter-widgets/base",
            "_view_module_version": "1.2.0",
            "_view_name": "LayoutView",
            "align_content": null,
            "align_items": null,
            "align_self": null,
            "border": null,
            "bottom": null,
            "display": null,
            "flex": null,
            "flex_flow": null,
            "grid_area": null,
            "grid_auto_columns": null,
            "grid_auto_flow": null,
            "grid_auto_rows": null,
            "grid_column": null,
            "grid_gap": null,
            "grid_row": null,
            "grid_template_areas": null,
            "grid_template_columns": null,
            "grid_template_rows": null,
            "height": null,
            "justify_content": null,
            "justify_items": null,
            "left": null,
            "margin": null,
            "max_height": null,
            "max_width": null,
            "min_height": null,
            "min_width": null,
            "object_fit": null,
            "object_position": null,
            "order": null,
            "overflow": null,
            "overflow_x": null,
            "overflow_y": null,
            "padding": null,
            "right": null,
            "top": null,
            "visibility": null,
            "width": null
          }
        },
        "82435781822a4ad7b2cb6e9418858ffa": {
          "model_module": "@jupyter-widgets/controls",
          "model_name": "DescriptionStyleModel",
          "model_module_version": "1.5.0",
          "state": {
            "_model_module": "@jupyter-widgets/controls",
            "_model_module_version": "1.5.0",
            "_model_name": "DescriptionStyleModel",
            "_view_count": null,
            "_view_module": "@jupyter-widgets/base",
            "_view_module_version": "1.2.0",
            "_view_name": "StyleView",
            "description_width": ""
          }
        },
        "7ef4a946a450432da8169d06f5ba999a": {
          "model_module": "@jupyter-widgets/base",
          "model_name": "LayoutModel",
          "model_module_version": "1.2.0",
          "state": {
            "_model_module": "@jupyter-widgets/base",
            "_model_module_version": "1.2.0",
            "_model_name": "LayoutModel",
            "_view_count": null,
            "_view_module": "@jupyter-widgets/base",
            "_view_module_version": "1.2.0",
            "_view_name": "LayoutView",
            "align_content": null,
            "align_items": null,
            "align_self": null,
            "border": null,
            "bottom": null,
            "display": null,
            "flex": null,
            "flex_flow": null,
            "grid_area": null,
            "grid_auto_columns": null,
            "grid_auto_flow": null,
            "grid_auto_rows": null,
            "grid_column": null,
            "grid_gap": null,
            "grid_row": null,
            "grid_template_areas": null,
            "grid_template_columns": null,
            "grid_template_rows": null,
            "height": null,
            "justify_content": null,
            "justify_items": null,
            "left": null,
            "margin": null,
            "max_height": null,
            "max_width": null,
            "min_height": null,
            "min_width": null,
            "object_fit": null,
            "object_position": null,
            "order": null,
            "overflow": null,
            "overflow_x": null,
            "overflow_y": null,
            "padding": null,
            "right": null,
            "top": null,
            "visibility": null,
            "width": null
          }
        },
        "08267125e8b34f8cb3517386e6585fec": {
          "model_module": "@jupyter-widgets/controls",
          "model_name": "ProgressStyleModel",
          "model_module_version": "1.5.0",
          "state": {
            "_model_module": "@jupyter-widgets/controls",
            "_model_module_version": "1.5.0",
            "_model_name": "ProgressStyleModel",
            "_view_count": null,
            "_view_module": "@jupyter-widgets/base",
            "_view_module_version": "1.2.0",
            "_view_name": "StyleView",
            "bar_color": null,
            "description_width": ""
          }
        },
        "fefba1f92c534786adad347ffe4f16ce": {
          "model_module": "@jupyter-widgets/controls",
          "model_name": "VBoxModel",
          "model_module_version": "1.5.0",
          "state": {
            "_dom_classes": [],
            "_model_module": "@jupyter-widgets/controls",
            "_model_module_version": "1.5.0",
            "_model_name": "VBoxModel",
            "_view_count": null,
            "_view_module": "@jupyter-widgets/controls",
            "_view_module_version": "1.5.0",
            "_view_name": "VBoxView",
            "box_style": "",
            "children": [
              "IPY_MODEL_73dbe1782f384f62a5fe8ec82fd1caee",
              "IPY_MODEL_d0d214f272574a3598c4ef2afb1090d7"
            ],
            "layout": "IPY_MODEL_4309c552ba5945d7b044982b4fc34807"
          }
        },
        "73dbe1782f384f62a5fe8ec82fd1caee": {
          "model_module": "@jupyter-widgets/controls",
          "model_name": "LabelModel",
          "model_module_version": "1.5.0",
          "state": {
            "_dom_classes": [],
            "_model_module": "@jupyter-widgets/controls",
            "_model_module_version": "1.5.0",
            "_model_name": "LabelModel",
            "_view_count": null,
            "_view_module": "@jupyter-widgets/controls",
            "_view_module_version": "1.5.0",
            "_view_name": "LabelView",
            "description": "",
            "description_tooltip": null,
            "layout": "IPY_MODEL_8a21836082624d72a69d67391c34176f",
            "placeholder": "​",
            "style": "IPY_MODEL_15862b39e38b43b58d8d423f54abfdd7",
            "value": "3.309 MB of 3.309 MB uploaded (0.000 MB deduped)\r"
          }
        },
        "d0d214f272574a3598c4ef2afb1090d7": {
          "model_module": "@jupyter-widgets/controls",
          "model_name": "FloatProgressModel",
          "model_module_version": "1.5.0",
          "state": {
            "_dom_classes": [],
            "_model_module": "@jupyter-widgets/controls",
            "_model_module_version": "1.5.0",
            "_model_name": "FloatProgressModel",
            "_view_count": null,
            "_view_module": "@jupyter-widgets/controls",
            "_view_module_version": "1.5.0",
            "_view_name": "ProgressView",
            "bar_style": "",
            "description": "",
            "description_tooltip": null,
            "layout": "IPY_MODEL_114462818f8f482795e6a590c60ba997",
            "max": 1,
            "min": 0,
            "orientation": "horizontal",
            "style": "IPY_MODEL_7c21eff39d6b44119e5416bdbe95c0a5",
            "value": 1
          }
        },
        "4309c552ba5945d7b044982b4fc34807": {
          "model_module": "@jupyter-widgets/base",
          "model_name": "LayoutModel",
          "model_module_version": "1.2.0",
          "state": {
            "_model_module": "@jupyter-widgets/base",
            "_model_module_version": "1.2.0",
            "_model_name": "LayoutModel",
            "_view_count": null,
            "_view_module": "@jupyter-widgets/base",
            "_view_module_version": "1.2.0",
            "_view_name": "LayoutView",
            "align_content": null,
            "align_items": null,
            "align_self": null,
            "border": null,
            "bottom": null,
            "display": null,
            "flex": null,
            "flex_flow": null,
            "grid_area": null,
            "grid_auto_columns": null,
            "grid_auto_flow": null,
            "grid_auto_rows": null,
            "grid_column": null,
            "grid_gap": null,
            "grid_row": null,
            "grid_template_areas": null,
            "grid_template_columns": null,
            "grid_template_rows": null,
            "height": null,
            "justify_content": null,
            "justify_items": null,
            "left": null,
            "margin": null,
            "max_height": null,
            "max_width": null,
            "min_height": null,
            "min_width": null,
            "object_fit": null,
            "object_position": null,
            "order": null,
            "overflow": null,
            "overflow_x": null,
            "overflow_y": null,
            "padding": null,
            "right": null,
            "top": null,
            "visibility": null,
            "width": null
          }
        },
        "8a21836082624d72a69d67391c34176f": {
          "model_module": "@jupyter-widgets/base",
          "model_name": "LayoutModel",
          "model_module_version": "1.2.0",
          "state": {
            "_model_module": "@jupyter-widgets/base",
            "_model_module_version": "1.2.0",
            "_model_name": "LayoutModel",
            "_view_count": null,
            "_view_module": "@jupyter-widgets/base",
            "_view_module_version": "1.2.0",
            "_view_name": "LayoutView",
            "align_content": null,
            "align_items": null,
            "align_self": null,
            "border": null,
            "bottom": null,
            "display": null,
            "flex": null,
            "flex_flow": null,
            "grid_area": null,
            "grid_auto_columns": null,
            "grid_auto_flow": null,
            "grid_auto_rows": null,
            "grid_column": null,
            "grid_gap": null,
            "grid_row": null,
            "grid_template_areas": null,
            "grid_template_columns": null,
            "grid_template_rows": null,
            "height": null,
            "justify_content": null,
            "justify_items": null,
            "left": null,
            "margin": null,
            "max_height": null,
            "max_width": null,
            "min_height": null,
            "min_width": null,
            "object_fit": null,
            "object_position": null,
            "order": null,
            "overflow": null,
            "overflow_x": null,
            "overflow_y": null,
            "padding": null,
            "right": null,
            "top": null,
            "visibility": null,
            "width": null
          }
        },
        "15862b39e38b43b58d8d423f54abfdd7": {
          "model_module": "@jupyter-widgets/controls",
          "model_name": "DescriptionStyleModel",
          "model_module_version": "1.5.0",
          "state": {
            "_model_module": "@jupyter-widgets/controls",
            "_model_module_version": "1.5.0",
            "_model_name": "DescriptionStyleModel",
            "_view_count": null,
            "_view_module": "@jupyter-widgets/base",
            "_view_module_version": "1.2.0",
            "_view_name": "StyleView",
            "description_width": ""
          }
        },
        "114462818f8f482795e6a590c60ba997": {
          "model_module": "@jupyter-widgets/base",
          "model_name": "LayoutModel",
          "model_module_version": "1.2.0",
          "state": {
            "_model_module": "@jupyter-widgets/base",
            "_model_module_version": "1.2.0",
            "_model_name": "LayoutModel",
            "_view_count": null,
            "_view_module": "@jupyter-widgets/base",
            "_view_module_version": "1.2.0",
            "_view_name": "LayoutView",
            "align_content": null,
            "align_items": null,
            "align_self": null,
            "border": null,
            "bottom": null,
            "display": null,
            "flex": null,
            "flex_flow": null,
            "grid_area": null,
            "grid_auto_columns": null,
            "grid_auto_flow": null,
            "grid_auto_rows": null,
            "grid_column": null,
            "grid_gap": null,
            "grid_row": null,
            "grid_template_areas": null,
            "grid_template_columns": null,
            "grid_template_rows": null,
            "height": null,
            "justify_content": null,
            "justify_items": null,
            "left": null,
            "margin": null,
            "max_height": null,
            "max_width": null,
            "min_height": null,
            "min_width": null,
            "object_fit": null,
            "object_position": null,
            "order": null,
            "overflow": null,
            "overflow_x": null,
            "overflow_y": null,
            "padding": null,
            "right": null,
            "top": null,
            "visibility": null,
            "width": null
          }
        },
        "7c21eff39d6b44119e5416bdbe95c0a5": {
          "model_module": "@jupyter-widgets/controls",
          "model_name": "ProgressStyleModel",
          "model_module_version": "1.5.0",
          "state": {
            "_model_module": "@jupyter-widgets/controls",
            "_model_module_version": "1.5.0",
            "_model_name": "ProgressStyleModel",
            "_view_count": null,
            "_view_module": "@jupyter-widgets/base",
            "_view_module_version": "1.2.0",
            "_view_name": "StyleView",
            "bar_color": null,
            "description_width": ""
          }
        },
        "f6e4a5bf67d040a88c66fa785a25b3c7": {
          "model_module": "@jupyter-widgets/controls",
          "model_name": "VBoxModel",
          "model_module_version": "1.5.0",
          "state": {
            "_dom_classes": [],
            "_model_module": "@jupyter-widgets/controls",
            "_model_module_version": "1.5.0",
            "_model_name": "VBoxModel",
            "_view_count": null,
            "_view_module": "@jupyter-widgets/controls",
            "_view_module_version": "1.5.0",
            "_view_name": "VBoxView",
            "box_style": "",
            "children": [
              "IPY_MODEL_67a7e4a8f12c469d9276f8c703d316be",
              "IPY_MODEL_6aca244dea2d48df8370e4a41a176d18"
            ],
            "layout": "IPY_MODEL_595841bca65242a2ad842d2e868713a9"
          }
        },
        "67a7e4a8f12c469d9276f8c703d316be": {
          "model_module": "@jupyter-widgets/controls",
          "model_name": "LabelModel",
          "model_module_version": "1.5.0",
          "state": {
            "_dom_classes": [],
            "_model_module": "@jupyter-widgets/controls",
            "_model_module_version": "1.5.0",
            "_model_name": "LabelModel",
            "_view_count": null,
            "_view_module": "@jupyter-widgets/controls",
            "_view_module_version": "1.5.0",
            "_view_name": "LabelView",
            "description": "",
            "description_tooltip": null,
            "layout": "IPY_MODEL_2f42652b52ed4b9fbe68d4686558a9f8",
            "placeholder": "​",
            "style": "IPY_MODEL_41b74cbb02454e659efa819f684f3a26",
            "value": "2.278 MB of 2.278 MB uploaded (0.000 MB deduped)\r"
          }
        },
        "6aca244dea2d48df8370e4a41a176d18": {
          "model_module": "@jupyter-widgets/controls",
          "model_name": "FloatProgressModel",
          "model_module_version": "1.5.0",
          "state": {
            "_dom_classes": [],
            "_model_module": "@jupyter-widgets/controls",
            "_model_module_version": "1.5.0",
            "_model_name": "FloatProgressModel",
            "_view_count": null,
            "_view_module": "@jupyter-widgets/controls",
            "_view_module_version": "1.5.0",
            "_view_name": "ProgressView",
            "bar_style": "",
            "description": "",
            "description_tooltip": null,
            "layout": "IPY_MODEL_d38a96c957f24b30bc7bd59c2862ba55",
            "max": 1,
            "min": 0,
            "orientation": "horizontal",
            "style": "IPY_MODEL_dd9f3e5b3b4c4a6e8c9b1e2cf3176fd3",
            "value": 1
          }
        },
        "595841bca65242a2ad842d2e868713a9": {
          "model_module": "@jupyter-widgets/base",
          "model_name": "LayoutModel",
          "model_module_version": "1.2.0",
          "state": {
            "_model_module": "@jupyter-widgets/base",
            "_model_module_version": "1.2.0",
            "_model_name": "LayoutModel",
            "_view_count": null,
            "_view_module": "@jupyter-widgets/base",
            "_view_module_version": "1.2.0",
            "_view_name": "LayoutView",
            "align_content": null,
            "align_items": null,
            "align_self": null,
            "border": null,
            "bottom": null,
            "display": null,
            "flex": null,
            "flex_flow": null,
            "grid_area": null,
            "grid_auto_columns": null,
            "grid_auto_flow": null,
            "grid_auto_rows": null,
            "grid_column": null,
            "grid_gap": null,
            "grid_row": null,
            "grid_template_areas": null,
            "grid_template_columns": null,
            "grid_template_rows": null,
            "height": null,
            "justify_content": null,
            "justify_items": null,
            "left": null,
            "margin": null,
            "max_height": null,
            "max_width": null,
            "min_height": null,
            "min_width": null,
            "object_fit": null,
            "object_position": null,
            "order": null,
            "overflow": null,
            "overflow_x": null,
            "overflow_y": null,
            "padding": null,
            "right": null,
            "top": null,
            "visibility": null,
            "width": null
          }
        },
        "2f42652b52ed4b9fbe68d4686558a9f8": {
          "model_module": "@jupyter-widgets/base",
          "model_name": "LayoutModel",
          "model_module_version": "1.2.0",
          "state": {
            "_model_module": "@jupyter-widgets/base",
            "_model_module_version": "1.2.0",
            "_model_name": "LayoutModel",
            "_view_count": null,
            "_view_module": "@jupyter-widgets/base",
            "_view_module_version": "1.2.0",
            "_view_name": "LayoutView",
            "align_content": null,
            "align_items": null,
            "align_self": null,
            "border": null,
            "bottom": null,
            "display": null,
            "flex": null,
            "flex_flow": null,
            "grid_area": null,
            "grid_auto_columns": null,
            "grid_auto_flow": null,
            "grid_auto_rows": null,
            "grid_column": null,
            "grid_gap": null,
            "grid_row": null,
            "grid_template_areas": null,
            "grid_template_columns": null,
            "grid_template_rows": null,
            "height": null,
            "justify_content": null,
            "justify_items": null,
            "left": null,
            "margin": null,
            "max_height": null,
            "max_width": null,
            "min_height": null,
            "min_width": null,
            "object_fit": null,
            "object_position": null,
            "order": null,
            "overflow": null,
            "overflow_x": null,
            "overflow_y": null,
            "padding": null,
            "right": null,
            "top": null,
            "visibility": null,
            "width": null
          }
        },
        "41b74cbb02454e659efa819f684f3a26": {
          "model_module": "@jupyter-widgets/controls",
          "model_name": "DescriptionStyleModel",
          "model_module_version": "1.5.0",
          "state": {
            "_model_module": "@jupyter-widgets/controls",
            "_model_module_version": "1.5.0",
            "_model_name": "DescriptionStyleModel",
            "_view_count": null,
            "_view_module": "@jupyter-widgets/base",
            "_view_module_version": "1.2.0",
            "_view_name": "StyleView",
            "description_width": ""
          }
        },
        "d38a96c957f24b30bc7bd59c2862ba55": {
          "model_module": "@jupyter-widgets/base",
          "model_name": "LayoutModel",
          "model_module_version": "1.2.0",
          "state": {
            "_model_module": "@jupyter-widgets/base",
            "_model_module_version": "1.2.0",
            "_model_name": "LayoutModel",
            "_view_count": null,
            "_view_module": "@jupyter-widgets/base",
            "_view_module_version": "1.2.0",
            "_view_name": "LayoutView",
            "align_content": null,
            "align_items": null,
            "align_self": null,
            "border": null,
            "bottom": null,
            "display": null,
            "flex": null,
            "flex_flow": null,
            "grid_area": null,
            "grid_auto_columns": null,
            "grid_auto_flow": null,
            "grid_auto_rows": null,
            "grid_column": null,
            "grid_gap": null,
            "grid_row": null,
            "grid_template_areas": null,
            "grid_template_columns": null,
            "grid_template_rows": null,
            "height": null,
            "justify_content": null,
            "justify_items": null,
            "left": null,
            "margin": null,
            "max_height": null,
            "max_width": null,
            "min_height": null,
            "min_width": null,
            "object_fit": null,
            "object_position": null,
            "order": null,
            "overflow": null,
            "overflow_x": null,
            "overflow_y": null,
            "padding": null,
            "right": null,
            "top": null,
            "visibility": null,
            "width": null
          }
        },
        "dd9f3e5b3b4c4a6e8c9b1e2cf3176fd3": {
          "model_module": "@jupyter-widgets/controls",
          "model_name": "ProgressStyleModel",
          "model_module_version": "1.5.0",
          "state": {
            "_model_module": "@jupyter-widgets/controls",
            "_model_module_version": "1.5.0",
            "_model_name": "ProgressStyleModel",
            "_view_count": null,
            "_view_module": "@jupyter-widgets/base",
            "_view_module_version": "1.2.0",
            "_view_name": "StyleView",
            "bar_color": null,
            "description_width": ""
          }
        },
        "a72cab83e2ab456788779c990d0e5e90": {
          "model_module": "@jupyter-widgets/controls",
          "model_name": "VBoxModel",
          "model_module_version": "1.5.0",
          "state": {
            "_dom_classes": [],
            "_model_module": "@jupyter-widgets/controls",
            "_model_module_version": "1.5.0",
            "_model_name": "VBoxModel",
            "_view_count": null,
            "_view_module": "@jupyter-widgets/controls",
            "_view_module_version": "1.5.0",
            "_view_name": "VBoxView",
            "box_style": "",
            "children": [
              "IPY_MODEL_6c25731dfacb4e198bbff4d66ecd7e42",
              "IPY_MODEL_b3edb89d1fa94ceeadb20eb63ac5b8c8"
            ],
            "layout": "IPY_MODEL_84e75cd3d96b4febb7aab47646f57983"
          }
        },
        "6c25731dfacb4e198bbff4d66ecd7e42": {
          "model_module": "@jupyter-widgets/controls",
          "model_name": "LabelModel",
          "model_module_version": "1.5.0",
          "state": {
            "_dom_classes": [],
            "_model_module": "@jupyter-widgets/controls",
            "_model_module_version": "1.5.0",
            "_model_name": "LabelModel",
            "_view_count": null,
            "_view_module": "@jupyter-widgets/controls",
            "_view_module_version": "1.5.0",
            "_view_name": "LabelView",
            "description": "",
            "description_tooltip": null,
            "layout": "IPY_MODEL_93f2968ba79549cb810aa92f8c080051",
            "placeholder": "​",
            "style": "IPY_MODEL_ce615cfd7b274272a060df4a86318ae4",
            "value": "109.914 MB of 109.914 MB uploaded (0.000 MB deduped)\r"
          }
        },
        "b3edb89d1fa94ceeadb20eb63ac5b8c8": {
          "model_module": "@jupyter-widgets/controls",
          "model_name": "FloatProgressModel",
          "model_module_version": "1.5.0",
          "state": {
            "_dom_classes": [],
            "_model_module": "@jupyter-widgets/controls",
            "_model_module_version": "1.5.0",
            "_model_name": "FloatProgressModel",
            "_view_count": null,
            "_view_module": "@jupyter-widgets/controls",
            "_view_module_version": "1.5.0",
            "_view_name": "ProgressView",
            "bar_style": "",
            "description": "",
            "description_tooltip": null,
            "layout": "IPY_MODEL_f6c94b5b36a64fd9ba391289d94575fd",
            "max": 1,
            "min": 0,
            "orientation": "horizontal",
            "style": "IPY_MODEL_3307984e6c8c47e283a27fdd7f01e043",
            "value": 1
          }
        },
        "84e75cd3d96b4febb7aab47646f57983": {
          "model_module": "@jupyter-widgets/base",
          "model_name": "LayoutModel",
          "model_module_version": "1.2.0",
          "state": {
            "_model_module": "@jupyter-widgets/base",
            "_model_module_version": "1.2.0",
            "_model_name": "LayoutModel",
            "_view_count": null,
            "_view_module": "@jupyter-widgets/base",
            "_view_module_version": "1.2.0",
            "_view_name": "LayoutView",
            "align_content": null,
            "align_items": null,
            "align_self": null,
            "border": null,
            "bottom": null,
            "display": null,
            "flex": null,
            "flex_flow": null,
            "grid_area": null,
            "grid_auto_columns": null,
            "grid_auto_flow": null,
            "grid_auto_rows": null,
            "grid_column": null,
            "grid_gap": null,
            "grid_row": null,
            "grid_template_areas": null,
            "grid_template_columns": null,
            "grid_template_rows": null,
            "height": null,
            "justify_content": null,
            "justify_items": null,
            "left": null,
            "margin": null,
            "max_height": null,
            "max_width": null,
            "min_height": null,
            "min_width": null,
            "object_fit": null,
            "object_position": null,
            "order": null,
            "overflow": null,
            "overflow_x": null,
            "overflow_y": null,
            "padding": null,
            "right": null,
            "top": null,
            "visibility": null,
            "width": null
          }
        },
        "93f2968ba79549cb810aa92f8c080051": {
          "model_module": "@jupyter-widgets/base",
          "model_name": "LayoutModel",
          "model_module_version": "1.2.0",
          "state": {
            "_model_module": "@jupyter-widgets/base",
            "_model_module_version": "1.2.0",
            "_model_name": "LayoutModel",
            "_view_count": null,
            "_view_module": "@jupyter-widgets/base",
            "_view_module_version": "1.2.0",
            "_view_name": "LayoutView",
            "align_content": null,
            "align_items": null,
            "align_self": null,
            "border": null,
            "bottom": null,
            "display": null,
            "flex": null,
            "flex_flow": null,
            "grid_area": null,
            "grid_auto_columns": null,
            "grid_auto_flow": null,
            "grid_auto_rows": null,
            "grid_column": null,
            "grid_gap": null,
            "grid_row": null,
            "grid_template_areas": null,
            "grid_template_columns": null,
            "grid_template_rows": null,
            "height": null,
            "justify_content": null,
            "justify_items": null,
            "left": null,
            "margin": null,
            "max_height": null,
            "max_width": null,
            "min_height": null,
            "min_width": null,
            "object_fit": null,
            "object_position": null,
            "order": null,
            "overflow": null,
            "overflow_x": null,
            "overflow_y": null,
            "padding": null,
            "right": null,
            "top": null,
            "visibility": null,
            "width": null
          }
        },
        "ce615cfd7b274272a060df4a86318ae4": {
          "model_module": "@jupyter-widgets/controls",
          "model_name": "DescriptionStyleModel",
          "model_module_version": "1.5.0",
          "state": {
            "_model_module": "@jupyter-widgets/controls",
            "_model_module_version": "1.5.0",
            "_model_name": "DescriptionStyleModel",
            "_view_count": null,
            "_view_module": "@jupyter-widgets/base",
            "_view_module_version": "1.2.0",
            "_view_name": "StyleView",
            "description_width": ""
          }
        },
        "f6c94b5b36a64fd9ba391289d94575fd": {
          "model_module": "@jupyter-widgets/base",
          "model_name": "LayoutModel",
          "model_module_version": "1.2.0",
          "state": {
            "_model_module": "@jupyter-widgets/base",
            "_model_module_version": "1.2.0",
            "_model_name": "LayoutModel",
            "_view_count": null,
            "_view_module": "@jupyter-widgets/base",
            "_view_module_version": "1.2.0",
            "_view_name": "LayoutView",
            "align_content": null,
            "align_items": null,
            "align_self": null,
            "border": null,
            "bottom": null,
            "display": null,
            "flex": null,
            "flex_flow": null,
            "grid_area": null,
            "grid_auto_columns": null,
            "grid_auto_flow": null,
            "grid_auto_rows": null,
            "grid_column": null,
            "grid_gap": null,
            "grid_row": null,
            "grid_template_areas": null,
            "grid_template_columns": null,
            "grid_template_rows": null,
            "height": null,
            "justify_content": null,
            "justify_items": null,
            "left": null,
            "margin": null,
            "max_height": null,
            "max_width": null,
            "min_height": null,
            "min_width": null,
            "object_fit": null,
            "object_position": null,
            "order": null,
            "overflow": null,
            "overflow_x": null,
            "overflow_y": null,
            "padding": null,
            "right": null,
            "top": null,
            "visibility": null,
            "width": null
          }
        },
        "3307984e6c8c47e283a27fdd7f01e043": {
          "model_module": "@jupyter-widgets/controls",
          "model_name": "ProgressStyleModel",
          "model_module_version": "1.5.0",
          "state": {
            "_model_module": "@jupyter-widgets/controls",
            "_model_module_version": "1.5.0",
            "_model_name": "ProgressStyleModel",
            "_view_count": null,
            "_view_module": "@jupyter-widgets/base",
            "_view_module_version": "1.2.0",
            "_view_name": "StyleView",
            "bar_color": null,
            "description_width": ""
          }
        },
        "7034c54409a64bb497a46c31c06290f1": {
          "model_module": "@jupyter-widgets/controls",
          "model_name": "VBoxModel",
          "model_module_version": "1.5.0",
          "state": {
            "_dom_classes": [],
            "_model_module": "@jupyter-widgets/controls",
            "_model_module_version": "1.5.0",
            "_model_name": "VBoxModel",
            "_view_count": null,
            "_view_module": "@jupyter-widgets/controls",
            "_view_module_version": "1.5.0",
            "_view_name": "VBoxView",
            "box_style": "",
            "children": [
              "IPY_MODEL_1eff78fdf3e140f3b20339ac149306fc",
              "IPY_MODEL_1781df09f272441aa275902c7315376b"
            ],
            "layout": "IPY_MODEL_6dcfd1193e2e4061b7af259599e73f7b"
          }
        },
        "1eff78fdf3e140f3b20339ac149306fc": {
          "model_module": "@jupyter-widgets/controls",
          "model_name": "LabelModel",
          "model_module_version": "1.5.0",
          "state": {
            "_dom_classes": [],
            "_model_module": "@jupyter-widgets/controls",
            "_model_module_version": "1.5.0",
            "_model_name": "LabelModel",
            "_view_count": null,
            "_view_module": "@jupyter-widgets/controls",
            "_view_module_version": "1.5.0",
            "_view_name": "LabelView",
            "description": "",
            "description_tooltip": null,
            "layout": "IPY_MODEL_93efa897e53b4cb2b95f393ad585eddb",
            "placeholder": "​",
            "style": "IPY_MODEL_8ab4d347914f4ae18b30c8d33603478c",
            "value": "126.183 MB of 126.183 MB uploaded (0.000 MB deduped)\r"
          }
        },
        "1781df09f272441aa275902c7315376b": {
          "model_module": "@jupyter-widgets/controls",
          "model_name": "FloatProgressModel",
          "model_module_version": "1.5.0",
          "state": {
            "_dom_classes": [],
            "_model_module": "@jupyter-widgets/controls",
            "_model_module_version": "1.5.0",
            "_model_name": "FloatProgressModel",
            "_view_count": null,
            "_view_module": "@jupyter-widgets/controls",
            "_view_module_version": "1.5.0",
            "_view_name": "ProgressView",
            "bar_style": "",
            "description": "",
            "description_tooltip": null,
            "layout": "IPY_MODEL_ade9b0d44cd845319bc6029f8a10ae04",
            "max": 1,
            "min": 0,
            "orientation": "horizontal",
            "style": "IPY_MODEL_90572ed32f404b6889f6244fba0dce29",
            "value": 1
          }
        },
        "6dcfd1193e2e4061b7af259599e73f7b": {
          "model_module": "@jupyter-widgets/base",
          "model_name": "LayoutModel",
          "model_module_version": "1.2.0",
          "state": {
            "_model_module": "@jupyter-widgets/base",
            "_model_module_version": "1.2.0",
            "_model_name": "LayoutModel",
            "_view_count": null,
            "_view_module": "@jupyter-widgets/base",
            "_view_module_version": "1.2.0",
            "_view_name": "LayoutView",
            "align_content": null,
            "align_items": null,
            "align_self": null,
            "border": null,
            "bottom": null,
            "display": null,
            "flex": null,
            "flex_flow": null,
            "grid_area": null,
            "grid_auto_columns": null,
            "grid_auto_flow": null,
            "grid_auto_rows": null,
            "grid_column": null,
            "grid_gap": null,
            "grid_row": null,
            "grid_template_areas": null,
            "grid_template_columns": null,
            "grid_template_rows": null,
            "height": null,
            "justify_content": null,
            "justify_items": null,
            "left": null,
            "margin": null,
            "max_height": null,
            "max_width": null,
            "min_height": null,
            "min_width": null,
            "object_fit": null,
            "object_position": null,
            "order": null,
            "overflow": null,
            "overflow_x": null,
            "overflow_y": null,
            "padding": null,
            "right": null,
            "top": null,
            "visibility": null,
            "width": null
          }
        },
        "93efa897e53b4cb2b95f393ad585eddb": {
          "model_module": "@jupyter-widgets/base",
          "model_name": "LayoutModel",
          "model_module_version": "1.2.0",
          "state": {
            "_model_module": "@jupyter-widgets/base",
            "_model_module_version": "1.2.0",
            "_model_name": "LayoutModel",
            "_view_count": null,
            "_view_module": "@jupyter-widgets/base",
            "_view_module_version": "1.2.0",
            "_view_name": "LayoutView",
            "align_content": null,
            "align_items": null,
            "align_self": null,
            "border": null,
            "bottom": null,
            "display": null,
            "flex": null,
            "flex_flow": null,
            "grid_area": null,
            "grid_auto_columns": null,
            "grid_auto_flow": null,
            "grid_auto_rows": null,
            "grid_column": null,
            "grid_gap": null,
            "grid_row": null,
            "grid_template_areas": null,
            "grid_template_columns": null,
            "grid_template_rows": null,
            "height": null,
            "justify_content": null,
            "justify_items": null,
            "left": null,
            "margin": null,
            "max_height": null,
            "max_width": null,
            "min_height": null,
            "min_width": null,
            "object_fit": null,
            "object_position": null,
            "order": null,
            "overflow": null,
            "overflow_x": null,
            "overflow_y": null,
            "padding": null,
            "right": null,
            "top": null,
            "visibility": null,
            "width": null
          }
        },
        "8ab4d347914f4ae18b30c8d33603478c": {
          "model_module": "@jupyter-widgets/controls",
          "model_name": "DescriptionStyleModel",
          "model_module_version": "1.5.0",
          "state": {
            "_model_module": "@jupyter-widgets/controls",
            "_model_module_version": "1.5.0",
            "_model_name": "DescriptionStyleModel",
            "_view_count": null,
            "_view_module": "@jupyter-widgets/base",
            "_view_module_version": "1.2.0",
            "_view_name": "StyleView",
            "description_width": ""
          }
        },
        "ade9b0d44cd845319bc6029f8a10ae04": {
          "model_module": "@jupyter-widgets/base",
          "model_name": "LayoutModel",
          "model_module_version": "1.2.0",
          "state": {
            "_model_module": "@jupyter-widgets/base",
            "_model_module_version": "1.2.0",
            "_model_name": "LayoutModel",
            "_view_count": null,
            "_view_module": "@jupyter-widgets/base",
            "_view_module_version": "1.2.0",
            "_view_name": "LayoutView",
            "align_content": null,
            "align_items": null,
            "align_self": null,
            "border": null,
            "bottom": null,
            "display": null,
            "flex": null,
            "flex_flow": null,
            "grid_area": null,
            "grid_auto_columns": null,
            "grid_auto_flow": null,
            "grid_auto_rows": null,
            "grid_column": null,
            "grid_gap": null,
            "grid_row": null,
            "grid_template_areas": null,
            "grid_template_columns": null,
            "grid_template_rows": null,
            "height": null,
            "justify_content": null,
            "justify_items": null,
            "left": null,
            "margin": null,
            "max_height": null,
            "max_width": null,
            "min_height": null,
            "min_width": null,
            "object_fit": null,
            "object_position": null,
            "order": null,
            "overflow": null,
            "overflow_x": null,
            "overflow_y": null,
            "padding": null,
            "right": null,
            "top": null,
            "visibility": null,
            "width": null
          }
        },
        "90572ed32f404b6889f6244fba0dce29": {
          "model_module": "@jupyter-widgets/controls",
          "model_name": "ProgressStyleModel",
          "model_module_version": "1.5.0",
          "state": {
            "_model_module": "@jupyter-widgets/controls",
            "_model_module_version": "1.5.0",
            "_model_name": "ProgressStyleModel",
            "_view_count": null,
            "_view_module": "@jupyter-widgets/base",
            "_view_module_version": "1.2.0",
            "_view_name": "StyleView",
            "bar_color": null,
            "description_width": ""
          }
        },
        "346c30a6905b412bba86802ef119c344": {
          "model_module": "@jupyter-widgets/controls",
          "model_name": "VBoxModel",
          "model_module_version": "1.5.0",
          "state": {
            "_dom_classes": [],
            "_model_module": "@jupyter-widgets/controls",
            "_model_module_version": "1.5.0",
            "_model_name": "VBoxModel",
            "_view_count": null,
            "_view_module": "@jupyter-widgets/controls",
            "_view_module_version": "1.5.0",
            "_view_name": "VBoxView",
            "box_style": "",
            "children": [
              "IPY_MODEL_7e01d7f5babd44e4b34d8e9e32782f9c",
              "IPY_MODEL_40cea2d96d314941a15e09272256a5e0"
            ],
            "layout": "IPY_MODEL_74395837c6cc4341a5565a79f3e6e9bb"
          }
        },
        "7e01d7f5babd44e4b34d8e9e32782f9c": {
          "model_module": "@jupyter-widgets/controls",
          "model_name": "LabelModel",
          "model_module_version": "1.5.0",
          "state": {
            "_dom_classes": [],
            "_model_module": "@jupyter-widgets/controls",
            "_model_module_version": "1.5.0",
            "_model_name": "LabelModel",
            "_view_count": null,
            "_view_module": "@jupyter-widgets/controls",
            "_view_module_version": "1.5.0",
            "_view_name": "LabelView",
            "description": "",
            "description_tooltip": null,
            "layout": "IPY_MODEL_569da6e6401745c69a4bea7a208d535f",
            "placeholder": "​",
            "style": "IPY_MODEL_13b9a230661e4b629150c03f5651b4fb",
            "value": "0.706 MB of 0.706 MB uploaded (0.000 MB deduped)\r"
          }
        },
        "40cea2d96d314941a15e09272256a5e0": {
          "model_module": "@jupyter-widgets/controls",
          "model_name": "FloatProgressModel",
          "model_module_version": "1.5.0",
          "state": {
            "_dom_classes": [],
            "_model_module": "@jupyter-widgets/controls",
            "_model_module_version": "1.5.0",
            "_model_name": "FloatProgressModel",
            "_view_count": null,
            "_view_module": "@jupyter-widgets/controls",
            "_view_module_version": "1.5.0",
            "_view_name": "ProgressView",
            "bar_style": "",
            "description": "",
            "description_tooltip": null,
            "layout": "IPY_MODEL_d6a97d4556e347beb6d27339635bf93a",
            "max": 1,
            "min": 0,
            "orientation": "horizontal",
            "style": "IPY_MODEL_b0f8863a55334e93a7345e62d8e7ffdd",
            "value": 1
          }
        },
        "74395837c6cc4341a5565a79f3e6e9bb": {
          "model_module": "@jupyter-widgets/base",
          "model_name": "LayoutModel",
          "model_module_version": "1.2.0",
          "state": {
            "_model_module": "@jupyter-widgets/base",
            "_model_module_version": "1.2.0",
            "_model_name": "LayoutModel",
            "_view_count": null,
            "_view_module": "@jupyter-widgets/base",
            "_view_module_version": "1.2.0",
            "_view_name": "LayoutView",
            "align_content": null,
            "align_items": null,
            "align_self": null,
            "border": null,
            "bottom": null,
            "display": null,
            "flex": null,
            "flex_flow": null,
            "grid_area": null,
            "grid_auto_columns": null,
            "grid_auto_flow": null,
            "grid_auto_rows": null,
            "grid_column": null,
            "grid_gap": null,
            "grid_row": null,
            "grid_template_areas": null,
            "grid_template_columns": null,
            "grid_template_rows": null,
            "height": null,
            "justify_content": null,
            "justify_items": null,
            "left": null,
            "margin": null,
            "max_height": null,
            "max_width": null,
            "min_height": null,
            "min_width": null,
            "object_fit": null,
            "object_position": null,
            "order": null,
            "overflow": null,
            "overflow_x": null,
            "overflow_y": null,
            "padding": null,
            "right": null,
            "top": null,
            "visibility": null,
            "width": null
          }
        },
        "569da6e6401745c69a4bea7a208d535f": {
          "model_module": "@jupyter-widgets/base",
          "model_name": "LayoutModel",
          "model_module_version": "1.2.0",
          "state": {
            "_model_module": "@jupyter-widgets/base",
            "_model_module_version": "1.2.0",
            "_model_name": "LayoutModel",
            "_view_count": null,
            "_view_module": "@jupyter-widgets/base",
            "_view_module_version": "1.2.0",
            "_view_name": "LayoutView",
            "align_content": null,
            "align_items": null,
            "align_self": null,
            "border": null,
            "bottom": null,
            "display": null,
            "flex": null,
            "flex_flow": null,
            "grid_area": null,
            "grid_auto_columns": null,
            "grid_auto_flow": null,
            "grid_auto_rows": null,
            "grid_column": null,
            "grid_gap": null,
            "grid_row": null,
            "grid_template_areas": null,
            "grid_template_columns": null,
            "grid_template_rows": null,
            "height": null,
            "justify_content": null,
            "justify_items": null,
            "left": null,
            "margin": null,
            "max_height": null,
            "max_width": null,
            "min_height": null,
            "min_width": null,
            "object_fit": null,
            "object_position": null,
            "order": null,
            "overflow": null,
            "overflow_x": null,
            "overflow_y": null,
            "padding": null,
            "right": null,
            "top": null,
            "visibility": null,
            "width": null
          }
        },
        "13b9a230661e4b629150c03f5651b4fb": {
          "model_module": "@jupyter-widgets/controls",
          "model_name": "DescriptionStyleModel",
          "model_module_version": "1.5.0",
          "state": {
            "_model_module": "@jupyter-widgets/controls",
            "_model_module_version": "1.5.0",
            "_model_name": "DescriptionStyleModel",
            "_view_count": null,
            "_view_module": "@jupyter-widgets/base",
            "_view_module_version": "1.2.0",
            "_view_name": "StyleView",
            "description_width": ""
          }
        },
        "d6a97d4556e347beb6d27339635bf93a": {
          "model_module": "@jupyter-widgets/base",
          "model_name": "LayoutModel",
          "model_module_version": "1.2.0",
          "state": {
            "_model_module": "@jupyter-widgets/base",
            "_model_module_version": "1.2.0",
            "_model_name": "LayoutModel",
            "_view_count": null,
            "_view_module": "@jupyter-widgets/base",
            "_view_module_version": "1.2.0",
            "_view_name": "LayoutView",
            "align_content": null,
            "align_items": null,
            "align_self": null,
            "border": null,
            "bottom": null,
            "display": null,
            "flex": null,
            "flex_flow": null,
            "grid_area": null,
            "grid_auto_columns": null,
            "grid_auto_flow": null,
            "grid_auto_rows": null,
            "grid_column": null,
            "grid_gap": null,
            "grid_row": null,
            "grid_template_areas": null,
            "grid_template_columns": null,
            "grid_template_rows": null,
            "height": null,
            "justify_content": null,
            "justify_items": null,
            "left": null,
            "margin": null,
            "max_height": null,
            "max_width": null,
            "min_height": null,
            "min_width": null,
            "object_fit": null,
            "object_position": null,
            "order": null,
            "overflow": null,
            "overflow_x": null,
            "overflow_y": null,
            "padding": null,
            "right": null,
            "top": null,
            "visibility": null,
            "width": null
          }
        },
        "b0f8863a55334e93a7345e62d8e7ffdd": {
          "model_module": "@jupyter-widgets/controls",
          "model_name": "ProgressStyleModel",
          "model_module_version": "1.5.0",
          "state": {
            "_model_module": "@jupyter-widgets/controls",
            "_model_module_version": "1.5.0",
            "_model_name": "ProgressStyleModel",
            "_view_count": null,
            "_view_module": "@jupyter-widgets/base",
            "_view_module_version": "1.2.0",
            "_view_name": "StyleView",
            "bar_color": null,
            "description_width": ""
          }
        },
        "35c05ae92a7348bf9b7c175701406521": {
          "model_module": "@jupyter-widgets/controls",
          "model_name": "VBoxModel",
          "model_module_version": "1.5.0",
          "state": {
            "_dom_classes": [],
            "_model_module": "@jupyter-widgets/controls",
            "_model_module_version": "1.5.0",
            "_model_name": "VBoxModel",
            "_view_count": null,
            "_view_module": "@jupyter-widgets/controls",
            "_view_module_version": "1.5.0",
            "_view_name": "VBoxView",
            "box_style": "",
            "children": [
              "IPY_MODEL_fd21622a1e5b4f38a91311b2dcdf9f5d",
              "IPY_MODEL_690251a17bb748bfb636925d3aa4cf32"
            ],
            "layout": "IPY_MODEL_e48a29411b0447c7a943beaba37c1ee8"
          }
        },
        "fd21622a1e5b4f38a91311b2dcdf9f5d": {
          "model_module": "@jupyter-widgets/controls",
          "model_name": "LabelModel",
          "model_module_version": "1.5.0",
          "state": {
            "_dom_classes": [],
            "_model_module": "@jupyter-widgets/controls",
            "_model_module_version": "1.5.0",
            "_model_name": "LabelModel",
            "_view_count": null,
            "_view_module": "@jupyter-widgets/controls",
            "_view_module_version": "1.5.0",
            "_view_name": "LabelView",
            "description": "",
            "description_tooltip": null,
            "layout": "IPY_MODEL_f9166f22de0e43b7b3fdabc6fbdfc34d",
            "placeholder": "​",
            "style": "IPY_MODEL_697e3572d9b34b3491eb347118e9bc68",
            "value": "2.108 MB of 2.108 MB uploaded (0.000 MB deduped)\r"
          }
        },
        "690251a17bb748bfb636925d3aa4cf32": {
          "model_module": "@jupyter-widgets/controls",
          "model_name": "FloatProgressModel",
          "model_module_version": "1.5.0",
          "state": {
            "_dom_classes": [],
            "_model_module": "@jupyter-widgets/controls",
            "_model_module_version": "1.5.0",
            "_model_name": "FloatProgressModel",
            "_view_count": null,
            "_view_module": "@jupyter-widgets/controls",
            "_view_module_version": "1.5.0",
            "_view_name": "ProgressView",
            "bar_style": "",
            "description": "",
            "description_tooltip": null,
            "layout": "IPY_MODEL_58d05e2f5eee4c88bc0db7175164f8d1",
            "max": 1,
            "min": 0,
            "orientation": "horizontal",
            "style": "IPY_MODEL_721a38d50ead4a009005386ec8ac88a1",
            "value": 1
          }
        },
        "e48a29411b0447c7a943beaba37c1ee8": {
          "model_module": "@jupyter-widgets/base",
          "model_name": "LayoutModel",
          "model_module_version": "1.2.0",
          "state": {
            "_model_module": "@jupyter-widgets/base",
            "_model_module_version": "1.2.0",
            "_model_name": "LayoutModel",
            "_view_count": null,
            "_view_module": "@jupyter-widgets/base",
            "_view_module_version": "1.2.0",
            "_view_name": "LayoutView",
            "align_content": null,
            "align_items": null,
            "align_self": null,
            "border": null,
            "bottom": null,
            "display": null,
            "flex": null,
            "flex_flow": null,
            "grid_area": null,
            "grid_auto_columns": null,
            "grid_auto_flow": null,
            "grid_auto_rows": null,
            "grid_column": null,
            "grid_gap": null,
            "grid_row": null,
            "grid_template_areas": null,
            "grid_template_columns": null,
            "grid_template_rows": null,
            "height": null,
            "justify_content": null,
            "justify_items": null,
            "left": null,
            "margin": null,
            "max_height": null,
            "max_width": null,
            "min_height": null,
            "min_width": null,
            "object_fit": null,
            "object_position": null,
            "order": null,
            "overflow": null,
            "overflow_x": null,
            "overflow_y": null,
            "padding": null,
            "right": null,
            "top": null,
            "visibility": null,
            "width": null
          }
        },
        "f9166f22de0e43b7b3fdabc6fbdfc34d": {
          "model_module": "@jupyter-widgets/base",
          "model_name": "LayoutModel",
          "model_module_version": "1.2.0",
          "state": {
            "_model_module": "@jupyter-widgets/base",
            "_model_module_version": "1.2.0",
            "_model_name": "LayoutModel",
            "_view_count": null,
            "_view_module": "@jupyter-widgets/base",
            "_view_module_version": "1.2.0",
            "_view_name": "LayoutView",
            "align_content": null,
            "align_items": null,
            "align_self": null,
            "border": null,
            "bottom": null,
            "display": null,
            "flex": null,
            "flex_flow": null,
            "grid_area": null,
            "grid_auto_columns": null,
            "grid_auto_flow": null,
            "grid_auto_rows": null,
            "grid_column": null,
            "grid_gap": null,
            "grid_row": null,
            "grid_template_areas": null,
            "grid_template_columns": null,
            "grid_template_rows": null,
            "height": null,
            "justify_content": null,
            "justify_items": null,
            "left": null,
            "margin": null,
            "max_height": null,
            "max_width": null,
            "min_height": null,
            "min_width": null,
            "object_fit": null,
            "object_position": null,
            "order": null,
            "overflow": null,
            "overflow_x": null,
            "overflow_y": null,
            "padding": null,
            "right": null,
            "top": null,
            "visibility": null,
            "width": null
          }
        },
        "697e3572d9b34b3491eb347118e9bc68": {
          "model_module": "@jupyter-widgets/controls",
          "model_name": "DescriptionStyleModel",
          "model_module_version": "1.5.0",
          "state": {
            "_model_module": "@jupyter-widgets/controls",
            "_model_module_version": "1.5.0",
            "_model_name": "DescriptionStyleModel",
            "_view_count": null,
            "_view_module": "@jupyter-widgets/base",
            "_view_module_version": "1.2.0",
            "_view_name": "StyleView",
            "description_width": ""
          }
        },
        "58d05e2f5eee4c88bc0db7175164f8d1": {
          "model_module": "@jupyter-widgets/base",
          "model_name": "LayoutModel",
          "model_module_version": "1.2.0",
          "state": {
            "_model_module": "@jupyter-widgets/base",
            "_model_module_version": "1.2.0",
            "_model_name": "LayoutModel",
            "_view_count": null,
            "_view_module": "@jupyter-widgets/base",
            "_view_module_version": "1.2.0",
            "_view_name": "LayoutView",
            "align_content": null,
            "align_items": null,
            "align_self": null,
            "border": null,
            "bottom": null,
            "display": null,
            "flex": null,
            "flex_flow": null,
            "grid_area": null,
            "grid_auto_columns": null,
            "grid_auto_flow": null,
            "grid_auto_rows": null,
            "grid_column": null,
            "grid_gap": null,
            "grid_row": null,
            "grid_template_areas": null,
            "grid_template_columns": null,
            "grid_template_rows": null,
            "height": null,
            "justify_content": null,
            "justify_items": null,
            "left": null,
            "margin": null,
            "max_height": null,
            "max_width": null,
            "min_height": null,
            "min_width": null,
            "object_fit": null,
            "object_position": null,
            "order": null,
            "overflow": null,
            "overflow_x": null,
            "overflow_y": null,
            "padding": null,
            "right": null,
            "top": null,
            "visibility": null,
            "width": null
          }
        },
        "721a38d50ead4a009005386ec8ac88a1": {
          "model_module": "@jupyter-widgets/controls",
          "model_name": "ProgressStyleModel",
          "model_module_version": "1.5.0",
          "state": {
            "_model_module": "@jupyter-widgets/controls",
            "_model_module_version": "1.5.0",
            "_model_name": "ProgressStyleModel",
            "_view_count": null,
            "_view_module": "@jupyter-widgets/base",
            "_view_module_version": "1.2.0",
            "_view_name": "StyleView",
            "bar_color": null,
            "description_width": ""
          }
        },
        "9602f86252444cdfb7230fb81edff303": {
          "model_module": "@jupyter-widgets/controls",
          "model_name": "VBoxModel",
          "model_module_version": "1.5.0",
          "state": {
            "_dom_classes": [],
            "_model_module": "@jupyter-widgets/controls",
            "_model_module_version": "1.5.0",
            "_model_name": "VBoxModel",
            "_view_count": null,
            "_view_module": "@jupyter-widgets/controls",
            "_view_module_version": "1.5.0",
            "_view_name": "VBoxView",
            "box_style": "",
            "children": [
              "IPY_MODEL_1bbcb2453cb240d3bf3bd8bf79f144c8",
              "IPY_MODEL_760c1441ca474ccca51e711d13a18eea"
            ],
            "layout": "IPY_MODEL_39686f9eabc24144af229b68473cdf08"
          }
        },
        "1bbcb2453cb240d3bf3bd8bf79f144c8": {
          "model_module": "@jupyter-widgets/controls",
          "model_name": "LabelModel",
          "model_module_version": "1.5.0",
          "state": {
            "_dom_classes": [],
            "_model_module": "@jupyter-widgets/controls",
            "_model_module_version": "1.5.0",
            "_model_name": "LabelModel",
            "_view_count": null,
            "_view_module": "@jupyter-widgets/controls",
            "_view_module_version": "1.5.0",
            "_view_name": "LabelView",
            "description": "",
            "description_tooltip": null,
            "layout": "IPY_MODEL_c7fa26de12b34afdb99276c7f86c94f5",
            "placeholder": "​",
            "style": "IPY_MODEL_8f928454df7c4b889b113d7de9484aae",
            "value": "0.686 MB of 0.686 MB uploaded (0.000 MB deduped)\r"
          }
        },
        "760c1441ca474ccca51e711d13a18eea": {
          "model_module": "@jupyter-widgets/controls",
          "model_name": "FloatProgressModel",
          "model_module_version": "1.5.0",
          "state": {
            "_dom_classes": [],
            "_model_module": "@jupyter-widgets/controls",
            "_model_module_version": "1.5.0",
            "_model_name": "FloatProgressModel",
            "_view_count": null,
            "_view_module": "@jupyter-widgets/controls",
            "_view_module_version": "1.5.0",
            "_view_name": "ProgressView",
            "bar_style": "",
            "description": "",
            "description_tooltip": null,
            "layout": "IPY_MODEL_41378d3c263f4cf59b29e9fc7a8340a2",
            "max": 1,
            "min": 0,
            "orientation": "horizontal",
            "style": "IPY_MODEL_b65aee9a2a8c4c0a8aa2c40750755197",
            "value": 1
          }
        },
        "39686f9eabc24144af229b68473cdf08": {
          "model_module": "@jupyter-widgets/base",
          "model_name": "LayoutModel",
          "model_module_version": "1.2.0",
          "state": {
            "_model_module": "@jupyter-widgets/base",
            "_model_module_version": "1.2.0",
            "_model_name": "LayoutModel",
            "_view_count": null,
            "_view_module": "@jupyter-widgets/base",
            "_view_module_version": "1.2.0",
            "_view_name": "LayoutView",
            "align_content": null,
            "align_items": null,
            "align_self": null,
            "border": null,
            "bottom": null,
            "display": null,
            "flex": null,
            "flex_flow": null,
            "grid_area": null,
            "grid_auto_columns": null,
            "grid_auto_flow": null,
            "grid_auto_rows": null,
            "grid_column": null,
            "grid_gap": null,
            "grid_row": null,
            "grid_template_areas": null,
            "grid_template_columns": null,
            "grid_template_rows": null,
            "height": null,
            "justify_content": null,
            "justify_items": null,
            "left": null,
            "margin": null,
            "max_height": null,
            "max_width": null,
            "min_height": null,
            "min_width": null,
            "object_fit": null,
            "object_position": null,
            "order": null,
            "overflow": null,
            "overflow_x": null,
            "overflow_y": null,
            "padding": null,
            "right": null,
            "top": null,
            "visibility": null,
            "width": null
          }
        },
        "c7fa26de12b34afdb99276c7f86c94f5": {
          "model_module": "@jupyter-widgets/base",
          "model_name": "LayoutModel",
          "model_module_version": "1.2.0",
          "state": {
            "_model_module": "@jupyter-widgets/base",
            "_model_module_version": "1.2.0",
            "_model_name": "LayoutModel",
            "_view_count": null,
            "_view_module": "@jupyter-widgets/base",
            "_view_module_version": "1.2.0",
            "_view_name": "LayoutView",
            "align_content": null,
            "align_items": null,
            "align_self": null,
            "border": null,
            "bottom": null,
            "display": null,
            "flex": null,
            "flex_flow": null,
            "grid_area": null,
            "grid_auto_columns": null,
            "grid_auto_flow": null,
            "grid_auto_rows": null,
            "grid_column": null,
            "grid_gap": null,
            "grid_row": null,
            "grid_template_areas": null,
            "grid_template_columns": null,
            "grid_template_rows": null,
            "height": null,
            "justify_content": null,
            "justify_items": null,
            "left": null,
            "margin": null,
            "max_height": null,
            "max_width": null,
            "min_height": null,
            "min_width": null,
            "object_fit": null,
            "object_position": null,
            "order": null,
            "overflow": null,
            "overflow_x": null,
            "overflow_y": null,
            "padding": null,
            "right": null,
            "top": null,
            "visibility": null,
            "width": null
          }
        },
        "8f928454df7c4b889b113d7de9484aae": {
          "model_module": "@jupyter-widgets/controls",
          "model_name": "DescriptionStyleModel",
          "model_module_version": "1.5.0",
          "state": {
            "_model_module": "@jupyter-widgets/controls",
            "_model_module_version": "1.5.0",
            "_model_name": "DescriptionStyleModel",
            "_view_count": null,
            "_view_module": "@jupyter-widgets/base",
            "_view_module_version": "1.2.0",
            "_view_name": "StyleView",
            "description_width": ""
          }
        },
        "41378d3c263f4cf59b29e9fc7a8340a2": {
          "model_module": "@jupyter-widgets/base",
          "model_name": "LayoutModel",
          "model_module_version": "1.2.0",
          "state": {
            "_model_module": "@jupyter-widgets/base",
            "_model_module_version": "1.2.0",
            "_model_name": "LayoutModel",
            "_view_count": null,
            "_view_module": "@jupyter-widgets/base",
            "_view_module_version": "1.2.0",
            "_view_name": "LayoutView",
            "align_content": null,
            "align_items": null,
            "align_self": null,
            "border": null,
            "bottom": null,
            "display": null,
            "flex": null,
            "flex_flow": null,
            "grid_area": null,
            "grid_auto_columns": null,
            "grid_auto_flow": null,
            "grid_auto_rows": null,
            "grid_column": null,
            "grid_gap": null,
            "grid_row": null,
            "grid_template_areas": null,
            "grid_template_columns": null,
            "grid_template_rows": null,
            "height": null,
            "justify_content": null,
            "justify_items": null,
            "left": null,
            "margin": null,
            "max_height": null,
            "max_width": null,
            "min_height": null,
            "min_width": null,
            "object_fit": null,
            "object_position": null,
            "order": null,
            "overflow": null,
            "overflow_x": null,
            "overflow_y": null,
            "padding": null,
            "right": null,
            "top": null,
            "visibility": null,
            "width": null
          }
        },
        "b65aee9a2a8c4c0a8aa2c40750755197": {
          "model_module": "@jupyter-widgets/controls",
          "model_name": "ProgressStyleModel",
          "model_module_version": "1.5.0",
          "state": {
            "_model_module": "@jupyter-widgets/controls",
            "_model_module_version": "1.5.0",
            "_model_name": "ProgressStyleModel",
            "_view_count": null,
            "_view_module": "@jupyter-widgets/base",
            "_view_module_version": "1.2.0",
            "_view_name": "StyleView",
            "bar_color": null,
            "description_width": ""
          }
        },
        "4755168cbb7343e5af985e8095b61c34": {
          "model_module": "@jupyter-widgets/controls",
          "model_name": "VBoxModel",
          "model_module_version": "1.5.0",
          "state": {
            "_dom_classes": [],
            "_model_module": "@jupyter-widgets/controls",
            "_model_module_version": "1.5.0",
            "_model_name": "VBoxModel",
            "_view_count": null,
            "_view_module": "@jupyter-widgets/controls",
            "_view_module_version": "1.5.0",
            "_view_name": "VBoxView",
            "box_style": "",
            "children": [
              "IPY_MODEL_c8828ba5cf5d4d8aa8741ac903886a36",
              "IPY_MODEL_12d0f9e0325c40c0b10508909c069130"
            ],
            "layout": "IPY_MODEL_72892c5cd3ae4681a92952cd77587871"
          }
        },
        "c8828ba5cf5d4d8aa8741ac903886a36": {
          "model_module": "@jupyter-widgets/controls",
          "model_name": "LabelModel",
          "model_module_version": "1.5.0",
          "state": {
            "_dom_classes": [],
            "_model_module": "@jupyter-widgets/controls",
            "_model_module_version": "1.5.0",
            "_model_name": "LabelModel",
            "_view_count": null,
            "_view_module": "@jupyter-widgets/controls",
            "_view_module_version": "1.5.0",
            "_view_name": "LabelView",
            "description": "",
            "description_tooltip": null,
            "layout": "IPY_MODEL_f3507e06ca97416d888cb669008f18e4",
            "placeholder": "​",
            "style": "IPY_MODEL_02a59756b44040da833a4c6c903cbeb7",
            "value": "4.408 MB of 4.408 MB uploaded (0.000 MB deduped)\r"
          }
        },
        "12d0f9e0325c40c0b10508909c069130": {
          "model_module": "@jupyter-widgets/controls",
          "model_name": "FloatProgressModel",
          "model_module_version": "1.5.0",
          "state": {
            "_dom_classes": [],
            "_model_module": "@jupyter-widgets/controls",
            "_model_module_version": "1.5.0",
            "_model_name": "FloatProgressModel",
            "_view_count": null,
            "_view_module": "@jupyter-widgets/controls",
            "_view_module_version": "1.5.0",
            "_view_name": "ProgressView",
            "bar_style": "",
            "description": "",
            "description_tooltip": null,
            "layout": "IPY_MODEL_6becbb7fc75d4e9d94e16ba0806868ec",
            "max": 1,
            "min": 0,
            "orientation": "horizontal",
            "style": "IPY_MODEL_8a2c139c13624bdba3af362cc763ce78",
            "value": 1
          }
        },
        "72892c5cd3ae4681a92952cd77587871": {
          "model_module": "@jupyter-widgets/base",
          "model_name": "LayoutModel",
          "model_module_version": "1.2.0",
          "state": {
            "_model_module": "@jupyter-widgets/base",
            "_model_module_version": "1.2.0",
            "_model_name": "LayoutModel",
            "_view_count": null,
            "_view_module": "@jupyter-widgets/base",
            "_view_module_version": "1.2.0",
            "_view_name": "LayoutView",
            "align_content": null,
            "align_items": null,
            "align_self": null,
            "border": null,
            "bottom": null,
            "display": null,
            "flex": null,
            "flex_flow": null,
            "grid_area": null,
            "grid_auto_columns": null,
            "grid_auto_flow": null,
            "grid_auto_rows": null,
            "grid_column": null,
            "grid_gap": null,
            "grid_row": null,
            "grid_template_areas": null,
            "grid_template_columns": null,
            "grid_template_rows": null,
            "height": null,
            "justify_content": null,
            "justify_items": null,
            "left": null,
            "margin": null,
            "max_height": null,
            "max_width": null,
            "min_height": null,
            "min_width": null,
            "object_fit": null,
            "object_position": null,
            "order": null,
            "overflow": null,
            "overflow_x": null,
            "overflow_y": null,
            "padding": null,
            "right": null,
            "top": null,
            "visibility": null,
            "width": null
          }
        },
        "f3507e06ca97416d888cb669008f18e4": {
          "model_module": "@jupyter-widgets/base",
          "model_name": "LayoutModel",
          "model_module_version": "1.2.0",
          "state": {
            "_model_module": "@jupyter-widgets/base",
            "_model_module_version": "1.2.0",
            "_model_name": "LayoutModel",
            "_view_count": null,
            "_view_module": "@jupyter-widgets/base",
            "_view_module_version": "1.2.0",
            "_view_name": "LayoutView",
            "align_content": null,
            "align_items": null,
            "align_self": null,
            "border": null,
            "bottom": null,
            "display": null,
            "flex": null,
            "flex_flow": null,
            "grid_area": null,
            "grid_auto_columns": null,
            "grid_auto_flow": null,
            "grid_auto_rows": null,
            "grid_column": null,
            "grid_gap": null,
            "grid_row": null,
            "grid_template_areas": null,
            "grid_template_columns": null,
            "grid_template_rows": null,
            "height": null,
            "justify_content": null,
            "justify_items": null,
            "left": null,
            "margin": null,
            "max_height": null,
            "max_width": null,
            "min_height": null,
            "min_width": null,
            "object_fit": null,
            "object_position": null,
            "order": null,
            "overflow": null,
            "overflow_x": null,
            "overflow_y": null,
            "padding": null,
            "right": null,
            "top": null,
            "visibility": null,
            "width": null
          }
        },
        "02a59756b44040da833a4c6c903cbeb7": {
          "model_module": "@jupyter-widgets/controls",
          "model_name": "DescriptionStyleModel",
          "model_module_version": "1.5.0",
          "state": {
            "_model_module": "@jupyter-widgets/controls",
            "_model_module_version": "1.5.0",
            "_model_name": "DescriptionStyleModel",
            "_view_count": null,
            "_view_module": "@jupyter-widgets/base",
            "_view_module_version": "1.2.0",
            "_view_name": "StyleView",
            "description_width": ""
          }
        },
        "6becbb7fc75d4e9d94e16ba0806868ec": {
          "model_module": "@jupyter-widgets/base",
          "model_name": "LayoutModel",
          "model_module_version": "1.2.0",
          "state": {
            "_model_module": "@jupyter-widgets/base",
            "_model_module_version": "1.2.0",
            "_model_name": "LayoutModel",
            "_view_count": null,
            "_view_module": "@jupyter-widgets/base",
            "_view_module_version": "1.2.0",
            "_view_name": "LayoutView",
            "align_content": null,
            "align_items": null,
            "align_self": null,
            "border": null,
            "bottom": null,
            "display": null,
            "flex": null,
            "flex_flow": null,
            "grid_area": null,
            "grid_auto_columns": null,
            "grid_auto_flow": null,
            "grid_auto_rows": null,
            "grid_column": null,
            "grid_gap": null,
            "grid_row": null,
            "grid_template_areas": null,
            "grid_template_columns": null,
            "grid_template_rows": null,
            "height": null,
            "justify_content": null,
            "justify_items": null,
            "left": null,
            "margin": null,
            "max_height": null,
            "max_width": null,
            "min_height": null,
            "min_width": null,
            "object_fit": null,
            "object_position": null,
            "order": null,
            "overflow": null,
            "overflow_x": null,
            "overflow_y": null,
            "padding": null,
            "right": null,
            "top": null,
            "visibility": null,
            "width": null
          }
        },
        "8a2c139c13624bdba3af362cc763ce78": {
          "model_module": "@jupyter-widgets/controls",
          "model_name": "ProgressStyleModel",
          "model_module_version": "1.5.0",
          "state": {
            "_model_module": "@jupyter-widgets/controls",
            "_model_module_version": "1.5.0",
            "_model_name": "ProgressStyleModel",
            "_view_count": null,
            "_view_module": "@jupyter-widgets/base",
            "_view_module_version": "1.2.0",
            "_view_name": "StyleView",
            "bar_color": null,
            "description_width": ""
          }
        },
        "64b74d45d5124a33a8c0aa640160660a": {
          "model_module": "@jupyter-widgets/controls",
          "model_name": "VBoxModel",
          "model_module_version": "1.5.0",
          "state": {
            "_dom_classes": [],
            "_model_module": "@jupyter-widgets/controls",
            "_model_module_version": "1.5.0",
            "_model_name": "VBoxModel",
            "_view_count": null,
            "_view_module": "@jupyter-widgets/controls",
            "_view_module_version": "1.5.0",
            "_view_name": "VBoxView",
            "box_style": "",
            "children": [
              "IPY_MODEL_9099274fe3a84944afd746b2264af4ba",
              "IPY_MODEL_03071a1a8b7b472c9eaa4236a026d091"
            ],
            "layout": "IPY_MODEL_ee5d29a6836047d385e3796e08e27044"
          }
        },
        "9099274fe3a84944afd746b2264af4ba": {
          "model_module": "@jupyter-widgets/controls",
          "model_name": "LabelModel",
          "model_module_version": "1.5.0",
          "state": {
            "_dom_classes": [],
            "_model_module": "@jupyter-widgets/controls",
            "_model_module_version": "1.5.0",
            "_model_name": "LabelModel",
            "_view_count": null,
            "_view_module": "@jupyter-widgets/controls",
            "_view_module_version": "1.5.0",
            "_view_name": "LabelView",
            "description": "",
            "description_tooltip": null,
            "layout": "IPY_MODEL_d4656f3c0d3044439060706518eaf0bb",
            "placeholder": "​",
            "style": "IPY_MODEL_6bca9ca196f44904ab6bf15143d6b818",
            "value": "31.625 MB of 31.625 MB uploaded (0.000 MB deduped)\r"
          }
        },
        "03071a1a8b7b472c9eaa4236a026d091": {
          "model_module": "@jupyter-widgets/controls",
          "model_name": "FloatProgressModel",
          "model_module_version": "1.5.0",
          "state": {
            "_dom_classes": [],
            "_model_module": "@jupyter-widgets/controls",
            "_model_module_version": "1.5.0",
            "_model_name": "FloatProgressModel",
            "_view_count": null,
            "_view_module": "@jupyter-widgets/controls",
            "_view_module_version": "1.5.0",
            "_view_name": "ProgressView",
            "bar_style": "",
            "description": "",
            "description_tooltip": null,
            "layout": "IPY_MODEL_dd0301d64fab42be956d0e39236fb3a1",
            "max": 1,
            "min": 0,
            "orientation": "horizontal",
            "style": "IPY_MODEL_7b9729f8c9514d1fb380d71014667c0c",
            "value": 1
          }
        },
        "ee5d29a6836047d385e3796e08e27044": {
          "model_module": "@jupyter-widgets/base",
          "model_name": "LayoutModel",
          "model_module_version": "1.2.0",
          "state": {
            "_model_module": "@jupyter-widgets/base",
            "_model_module_version": "1.2.0",
            "_model_name": "LayoutModel",
            "_view_count": null,
            "_view_module": "@jupyter-widgets/base",
            "_view_module_version": "1.2.0",
            "_view_name": "LayoutView",
            "align_content": null,
            "align_items": null,
            "align_self": null,
            "border": null,
            "bottom": null,
            "display": null,
            "flex": null,
            "flex_flow": null,
            "grid_area": null,
            "grid_auto_columns": null,
            "grid_auto_flow": null,
            "grid_auto_rows": null,
            "grid_column": null,
            "grid_gap": null,
            "grid_row": null,
            "grid_template_areas": null,
            "grid_template_columns": null,
            "grid_template_rows": null,
            "height": null,
            "justify_content": null,
            "justify_items": null,
            "left": null,
            "margin": null,
            "max_height": null,
            "max_width": null,
            "min_height": null,
            "min_width": null,
            "object_fit": null,
            "object_position": null,
            "order": null,
            "overflow": null,
            "overflow_x": null,
            "overflow_y": null,
            "padding": null,
            "right": null,
            "top": null,
            "visibility": null,
            "width": null
          }
        },
        "d4656f3c0d3044439060706518eaf0bb": {
          "model_module": "@jupyter-widgets/base",
          "model_name": "LayoutModel",
          "model_module_version": "1.2.0",
          "state": {
            "_model_module": "@jupyter-widgets/base",
            "_model_module_version": "1.2.0",
            "_model_name": "LayoutModel",
            "_view_count": null,
            "_view_module": "@jupyter-widgets/base",
            "_view_module_version": "1.2.0",
            "_view_name": "LayoutView",
            "align_content": null,
            "align_items": null,
            "align_self": null,
            "border": null,
            "bottom": null,
            "display": null,
            "flex": null,
            "flex_flow": null,
            "grid_area": null,
            "grid_auto_columns": null,
            "grid_auto_flow": null,
            "grid_auto_rows": null,
            "grid_column": null,
            "grid_gap": null,
            "grid_row": null,
            "grid_template_areas": null,
            "grid_template_columns": null,
            "grid_template_rows": null,
            "height": null,
            "justify_content": null,
            "justify_items": null,
            "left": null,
            "margin": null,
            "max_height": null,
            "max_width": null,
            "min_height": null,
            "min_width": null,
            "object_fit": null,
            "object_position": null,
            "order": null,
            "overflow": null,
            "overflow_x": null,
            "overflow_y": null,
            "padding": null,
            "right": null,
            "top": null,
            "visibility": null,
            "width": null
          }
        },
        "6bca9ca196f44904ab6bf15143d6b818": {
          "model_module": "@jupyter-widgets/controls",
          "model_name": "DescriptionStyleModel",
          "model_module_version": "1.5.0",
          "state": {
            "_model_module": "@jupyter-widgets/controls",
            "_model_module_version": "1.5.0",
            "_model_name": "DescriptionStyleModel",
            "_view_count": null,
            "_view_module": "@jupyter-widgets/base",
            "_view_module_version": "1.2.0",
            "_view_name": "StyleView",
            "description_width": ""
          }
        },
        "dd0301d64fab42be956d0e39236fb3a1": {
          "model_module": "@jupyter-widgets/base",
          "model_name": "LayoutModel",
          "model_module_version": "1.2.0",
          "state": {
            "_model_module": "@jupyter-widgets/base",
            "_model_module_version": "1.2.0",
            "_model_name": "LayoutModel",
            "_view_count": null,
            "_view_module": "@jupyter-widgets/base",
            "_view_module_version": "1.2.0",
            "_view_name": "LayoutView",
            "align_content": null,
            "align_items": null,
            "align_self": null,
            "border": null,
            "bottom": null,
            "display": null,
            "flex": null,
            "flex_flow": null,
            "grid_area": null,
            "grid_auto_columns": null,
            "grid_auto_flow": null,
            "grid_auto_rows": null,
            "grid_column": null,
            "grid_gap": null,
            "grid_row": null,
            "grid_template_areas": null,
            "grid_template_columns": null,
            "grid_template_rows": null,
            "height": null,
            "justify_content": null,
            "justify_items": null,
            "left": null,
            "margin": null,
            "max_height": null,
            "max_width": null,
            "min_height": null,
            "min_width": null,
            "object_fit": null,
            "object_position": null,
            "order": null,
            "overflow": null,
            "overflow_x": null,
            "overflow_y": null,
            "padding": null,
            "right": null,
            "top": null,
            "visibility": null,
            "width": null
          }
        },
        "7b9729f8c9514d1fb380d71014667c0c": {
          "model_module": "@jupyter-widgets/controls",
          "model_name": "ProgressStyleModel",
          "model_module_version": "1.5.0",
          "state": {
            "_model_module": "@jupyter-widgets/controls",
            "_model_module_version": "1.5.0",
            "_model_name": "ProgressStyleModel",
            "_view_count": null,
            "_view_module": "@jupyter-widgets/base",
            "_view_module_version": "1.2.0",
            "_view_name": "StyleView",
            "bar_color": null,
            "description_width": ""
          }
        },
        "4348a8720b3c469480150c12cd838046": {
          "model_module": "@jupyter-widgets/controls",
          "model_name": "VBoxModel",
          "model_module_version": "1.5.0",
          "state": {
            "_dom_classes": [],
            "_model_module": "@jupyter-widgets/controls",
            "_model_module_version": "1.5.0",
            "_model_name": "VBoxModel",
            "_view_count": null,
            "_view_module": "@jupyter-widgets/controls",
            "_view_module_version": "1.5.0",
            "_view_name": "VBoxView",
            "box_style": "",
            "children": [
              "IPY_MODEL_cea551eeb8ee49f5b91f51dea9886d59",
              "IPY_MODEL_effd3472ce3f42d483822717222ced13"
            ],
            "layout": "IPY_MODEL_ea953b8d527c4f4589b66e3365817e5d"
          }
        },
        "cea551eeb8ee49f5b91f51dea9886d59": {
          "model_module": "@jupyter-widgets/controls",
          "model_name": "LabelModel",
          "model_module_version": "1.5.0",
          "state": {
            "_dom_classes": [],
            "_model_module": "@jupyter-widgets/controls",
            "_model_module_version": "1.5.0",
            "_model_name": "LabelModel",
            "_view_count": null,
            "_view_module": "@jupyter-widgets/controls",
            "_view_module_version": "1.5.0",
            "_view_name": "LabelView",
            "description": "",
            "description_tooltip": null,
            "layout": "IPY_MODEL_abb241fa1a4a4166b71275bc38ddf328",
            "placeholder": "​",
            "style": "IPY_MODEL_beb2b13e5120491cb32f18d9f0d31ea5",
            "value": "109.914 MB of 109.914 MB uploaded (0.000 MB deduped)\r"
          }
        },
        "effd3472ce3f42d483822717222ced13": {
          "model_module": "@jupyter-widgets/controls",
          "model_name": "FloatProgressModel",
          "model_module_version": "1.5.0",
          "state": {
            "_dom_classes": [],
            "_model_module": "@jupyter-widgets/controls",
            "_model_module_version": "1.5.0",
            "_model_name": "FloatProgressModel",
            "_view_count": null,
            "_view_module": "@jupyter-widgets/controls",
            "_view_module_version": "1.5.0",
            "_view_name": "ProgressView",
            "bar_style": "",
            "description": "",
            "description_tooltip": null,
            "layout": "IPY_MODEL_0ae27a6e18d04a7a9ef46585f79858c2",
            "max": 1,
            "min": 0,
            "orientation": "horizontal",
            "style": "IPY_MODEL_abde9421c468455f95c0537ce5f7ede0",
            "value": 1
          }
        },
        "ea953b8d527c4f4589b66e3365817e5d": {
          "model_module": "@jupyter-widgets/base",
          "model_name": "LayoutModel",
          "model_module_version": "1.2.0",
          "state": {
            "_model_module": "@jupyter-widgets/base",
            "_model_module_version": "1.2.0",
            "_model_name": "LayoutModel",
            "_view_count": null,
            "_view_module": "@jupyter-widgets/base",
            "_view_module_version": "1.2.0",
            "_view_name": "LayoutView",
            "align_content": null,
            "align_items": null,
            "align_self": null,
            "border": null,
            "bottom": null,
            "display": null,
            "flex": null,
            "flex_flow": null,
            "grid_area": null,
            "grid_auto_columns": null,
            "grid_auto_flow": null,
            "grid_auto_rows": null,
            "grid_column": null,
            "grid_gap": null,
            "grid_row": null,
            "grid_template_areas": null,
            "grid_template_columns": null,
            "grid_template_rows": null,
            "height": null,
            "justify_content": null,
            "justify_items": null,
            "left": null,
            "margin": null,
            "max_height": null,
            "max_width": null,
            "min_height": null,
            "min_width": null,
            "object_fit": null,
            "object_position": null,
            "order": null,
            "overflow": null,
            "overflow_x": null,
            "overflow_y": null,
            "padding": null,
            "right": null,
            "top": null,
            "visibility": null,
            "width": null
          }
        },
        "abb241fa1a4a4166b71275bc38ddf328": {
          "model_module": "@jupyter-widgets/base",
          "model_name": "LayoutModel",
          "model_module_version": "1.2.0",
          "state": {
            "_model_module": "@jupyter-widgets/base",
            "_model_module_version": "1.2.0",
            "_model_name": "LayoutModel",
            "_view_count": null,
            "_view_module": "@jupyter-widgets/base",
            "_view_module_version": "1.2.0",
            "_view_name": "LayoutView",
            "align_content": null,
            "align_items": null,
            "align_self": null,
            "border": null,
            "bottom": null,
            "display": null,
            "flex": null,
            "flex_flow": null,
            "grid_area": null,
            "grid_auto_columns": null,
            "grid_auto_flow": null,
            "grid_auto_rows": null,
            "grid_column": null,
            "grid_gap": null,
            "grid_row": null,
            "grid_template_areas": null,
            "grid_template_columns": null,
            "grid_template_rows": null,
            "height": null,
            "justify_content": null,
            "justify_items": null,
            "left": null,
            "margin": null,
            "max_height": null,
            "max_width": null,
            "min_height": null,
            "min_width": null,
            "object_fit": null,
            "object_position": null,
            "order": null,
            "overflow": null,
            "overflow_x": null,
            "overflow_y": null,
            "padding": null,
            "right": null,
            "top": null,
            "visibility": null,
            "width": null
          }
        },
        "beb2b13e5120491cb32f18d9f0d31ea5": {
          "model_module": "@jupyter-widgets/controls",
          "model_name": "DescriptionStyleModel",
          "model_module_version": "1.5.0",
          "state": {
            "_model_module": "@jupyter-widgets/controls",
            "_model_module_version": "1.5.0",
            "_model_name": "DescriptionStyleModel",
            "_view_count": null,
            "_view_module": "@jupyter-widgets/base",
            "_view_module_version": "1.2.0",
            "_view_name": "StyleView",
            "description_width": ""
          }
        },
        "0ae27a6e18d04a7a9ef46585f79858c2": {
          "model_module": "@jupyter-widgets/base",
          "model_name": "LayoutModel",
          "model_module_version": "1.2.0",
          "state": {
            "_model_module": "@jupyter-widgets/base",
            "_model_module_version": "1.2.0",
            "_model_name": "LayoutModel",
            "_view_count": null,
            "_view_module": "@jupyter-widgets/base",
            "_view_module_version": "1.2.0",
            "_view_name": "LayoutView",
            "align_content": null,
            "align_items": null,
            "align_self": null,
            "border": null,
            "bottom": null,
            "display": null,
            "flex": null,
            "flex_flow": null,
            "grid_area": null,
            "grid_auto_columns": null,
            "grid_auto_flow": null,
            "grid_auto_rows": null,
            "grid_column": null,
            "grid_gap": null,
            "grid_row": null,
            "grid_template_areas": null,
            "grid_template_columns": null,
            "grid_template_rows": null,
            "height": null,
            "justify_content": null,
            "justify_items": null,
            "left": null,
            "margin": null,
            "max_height": null,
            "max_width": null,
            "min_height": null,
            "min_width": null,
            "object_fit": null,
            "object_position": null,
            "order": null,
            "overflow": null,
            "overflow_x": null,
            "overflow_y": null,
            "padding": null,
            "right": null,
            "top": null,
            "visibility": null,
            "width": null
          }
        },
        "abde9421c468455f95c0537ce5f7ede0": {
          "model_module": "@jupyter-widgets/controls",
          "model_name": "ProgressStyleModel",
          "model_module_version": "1.5.0",
          "state": {
            "_model_module": "@jupyter-widgets/controls",
            "_model_module_version": "1.5.0",
            "_model_name": "ProgressStyleModel",
            "_view_count": null,
            "_view_module": "@jupyter-widgets/base",
            "_view_module_version": "1.2.0",
            "_view_name": "StyleView",
            "bar_color": null,
            "description_width": ""
          }
        },
        "545878b7a45f402096c1c37abbda3d9f": {
          "model_module": "@jupyter-widgets/controls",
          "model_name": "VBoxModel",
          "model_module_version": "1.5.0",
          "state": {
            "_dom_classes": [],
            "_model_module": "@jupyter-widgets/controls",
            "_model_module_version": "1.5.0",
            "_model_name": "VBoxModel",
            "_view_count": null,
            "_view_module": "@jupyter-widgets/controls",
            "_view_module_version": "1.5.0",
            "_view_name": "VBoxView",
            "box_style": "",
            "children": [
              "IPY_MODEL_3813353031eb4bd587aa647471c938aa",
              "IPY_MODEL_c5da41383d064786adeb84933b2cbe21"
            ],
            "layout": "IPY_MODEL_34102bd8b39949e7b1c3852a6a764d4a"
          }
        },
        "3813353031eb4bd587aa647471c938aa": {
          "model_module": "@jupyter-widgets/controls",
          "model_name": "LabelModel",
          "model_module_version": "1.5.0",
          "state": {
            "_dom_classes": [],
            "_model_module": "@jupyter-widgets/controls",
            "_model_module_version": "1.5.0",
            "_model_name": "LabelModel",
            "_view_count": null,
            "_view_module": "@jupyter-widgets/controls",
            "_view_module_version": "1.5.0",
            "_view_name": "LabelView",
            "description": "",
            "description_tooltip": null,
            "layout": "IPY_MODEL_1968d7c495934367b3c4f8007976e396",
            "placeholder": "​",
            "style": "IPY_MODEL_7292432e322a4324a56ce705742646ca",
            "value": "126.183 MB of 126.183 MB uploaded (0.000 MB deduped)\r"
          }
        },
        "c5da41383d064786adeb84933b2cbe21": {
          "model_module": "@jupyter-widgets/controls",
          "model_name": "FloatProgressModel",
          "model_module_version": "1.5.0",
          "state": {
            "_dom_classes": [],
            "_model_module": "@jupyter-widgets/controls",
            "_model_module_version": "1.5.0",
            "_model_name": "FloatProgressModel",
            "_view_count": null,
            "_view_module": "@jupyter-widgets/controls",
            "_view_module_version": "1.5.0",
            "_view_name": "ProgressView",
            "bar_style": "",
            "description": "",
            "description_tooltip": null,
            "layout": "IPY_MODEL_6c437776a0a04f888befd575fed55e19",
            "max": 1,
            "min": 0,
            "orientation": "horizontal",
            "style": "IPY_MODEL_e713305e6e604fe98fde72cf28bcf657",
            "value": 1
          }
        },
        "34102bd8b39949e7b1c3852a6a764d4a": {
          "model_module": "@jupyter-widgets/base",
          "model_name": "LayoutModel",
          "model_module_version": "1.2.0",
          "state": {
            "_model_module": "@jupyter-widgets/base",
            "_model_module_version": "1.2.0",
            "_model_name": "LayoutModel",
            "_view_count": null,
            "_view_module": "@jupyter-widgets/base",
            "_view_module_version": "1.2.0",
            "_view_name": "LayoutView",
            "align_content": null,
            "align_items": null,
            "align_self": null,
            "border": null,
            "bottom": null,
            "display": null,
            "flex": null,
            "flex_flow": null,
            "grid_area": null,
            "grid_auto_columns": null,
            "grid_auto_flow": null,
            "grid_auto_rows": null,
            "grid_column": null,
            "grid_gap": null,
            "grid_row": null,
            "grid_template_areas": null,
            "grid_template_columns": null,
            "grid_template_rows": null,
            "height": null,
            "justify_content": null,
            "justify_items": null,
            "left": null,
            "margin": null,
            "max_height": null,
            "max_width": null,
            "min_height": null,
            "min_width": null,
            "object_fit": null,
            "object_position": null,
            "order": null,
            "overflow": null,
            "overflow_x": null,
            "overflow_y": null,
            "padding": null,
            "right": null,
            "top": null,
            "visibility": null,
            "width": null
          }
        },
        "1968d7c495934367b3c4f8007976e396": {
          "model_module": "@jupyter-widgets/base",
          "model_name": "LayoutModel",
          "model_module_version": "1.2.0",
          "state": {
            "_model_module": "@jupyter-widgets/base",
            "_model_module_version": "1.2.0",
            "_model_name": "LayoutModel",
            "_view_count": null,
            "_view_module": "@jupyter-widgets/base",
            "_view_module_version": "1.2.0",
            "_view_name": "LayoutView",
            "align_content": null,
            "align_items": null,
            "align_self": null,
            "border": null,
            "bottom": null,
            "display": null,
            "flex": null,
            "flex_flow": null,
            "grid_area": null,
            "grid_auto_columns": null,
            "grid_auto_flow": null,
            "grid_auto_rows": null,
            "grid_column": null,
            "grid_gap": null,
            "grid_row": null,
            "grid_template_areas": null,
            "grid_template_columns": null,
            "grid_template_rows": null,
            "height": null,
            "justify_content": null,
            "justify_items": null,
            "left": null,
            "margin": null,
            "max_height": null,
            "max_width": null,
            "min_height": null,
            "min_width": null,
            "object_fit": null,
            "object_position": null,
            "order": null,
            "overflow": null,
            "overflow_x": null,
            "overflow_y": null,
            "padding": null,
            "right": null,
            "top": null,
            "visibility": null,
            "width": null
          }
        },
        "7292432e322a4324a56ce705742646ca": {
          "model_module": "@jupyter-widgets/controls",
          "model_name": "DescriptionStyleModel",
          "model_module_version": "1.5.0",
          "state": {
            "_model_module": "@jupyter-widgets/controls",
            "_model_module_version": "1.5.0",
            "_model_name": "DescriptionStyleModel",
            "_view_count": null,
            "_view_module": "@jupyter-widgets/base",
            "_view_module_version": "1.2.0",
            "_view_name": "StyleView",
            "description_width": ""
          }
        },
        "6c437776a0a04f888befd575fed55e19": {
          "model_module": "@jupyter-widgets/base",
          "model_name": "LayoutModel",
          "model_module_version": "1.2.0",
          "state": {
            "_model_module": "@jupyter-widgets/base",
            "_model_module_version": "1.2.0",
            "_model_name": "LayoutModel",
            "_view_count": null,
            "_view_module": "@jupyter-widgets/base",
            "_view_module_version": "1.2.0",
            "_view_name": "LayoutView",
            "align_content": null,
            "align_items": null,
            "align_self": null,
            "border": null,
            "bottom": null,
            "display": null,
            "flex": null,
            "flex_flow": null,
            "grid_area": null,
            "grid_auto_columns": null,
            "grid_auto_flow": null,
            "grid_auto_rows": null,
            "grid_column": null,
            "grid_gap": null,
            "grid_row": null,
            "grid_template_areas": null,
            "grid_template_columns": null,
            "grid_template_rows": null,
            "height": null,
            "justify_content": null,
            "justify_items": null,
            "left": null,
            "margin": null,
            "max_height": null,
            "max_width": null,
            "min_height": null,
            "min_width": null,
            "object_fit": null,
            "object_position": null,
            "order": null,
            "overflow": null,
            "overflow_x": null,
            "overflow_y": null,
            "padding": null,
            "right": null,
            "top": null,
            "visibility": null,
            "width": null
          }
        },
        "e713305e6e604fe98fde72cf28bcf657": {
          "model_module": "@jupyter-widgets/controls",
          "model_name": "ProgressStyleModel",
          "model_module_version": "1.5.0",
          "state": {
            "_model_module": "@jupyter-widgets/controls",
            "_model_module_version": "1.5.0",
            "_model_name": "ProgressStyleModel",
            "_view_count": null,
            "_view_module": "@jupyter-widgets/base",
            "_view_module_version": "1.2.0",
            "_view_name": "StyleView",
            "bar_color": null,
            "description_width": ""
          }
        },
        "e29531e6d8c9458592c3c43ecec61fe2": {
          "model_module": "@jupyter-widgets/controls",
          "model_name": "VBoxModel",
          "model_module_version": "1.5.0",
          "state": {
            "_dom_classes": [],
            "_model_module": "@jupyter-widgets/controls",
            "_model_module_version": "1.5.0",
            "_model_name": "VBoxModel",
            "_view_count": null,
            "_view_module": "@jupyter-widgets/controls",
            "_view_module_version": "1.5.0",
            "_view_name": "VBoxView",
            "box_style": "",
            "children": [
              "IPY_MODEL_c426d4232424418fb5747b26d446e804",
              "IPY_MODEL_658ecf099b70414c84da60448fc28fb3"
            ],
            "layout": "IPY_MODEL_18383151d2ee43baa4916f109cb55f3a"
          }
        },
        "c426d4232424418fb5747b26d446e804": {
          "model_module": "@jupyter-widgets/controls",
          "model_name": "LabelModel",
          "model_module_version": "1.5.0",
          "state": {
            "_dom_classes": [],
            "_model_module": "@jupyter-widgets/controls",
            "_model_module_version": "1.5.0",
            "_model_name": "LabelModel",
            "_view_count": null,
            "_view_module": "@jupyter-widgets/controls",
            "_view_module_version": "1.5.0",
            "_view_name": "LabelView",
            "description": "",
            "description_tooltip": null,
            "layout": "IPY_MODEL_9f0e12e7b7e04eac82e99f1b9e5e29db",
            "placeholder": "​",
            "style": "IPY_MODEL_1d468287e20941a3b5d68f3edb0735d2",
            "value": "126.183 MB of 126.183 MB uploaded (0.000 MB deduped)\r"
          }
        },
        "658ecf099b70414c84da60448fc28fb3": {
          "model_module": "@jupyter-widgets/controls",
          "model_name": "FloatProgressModel",
          "model_module_version": "1.5.0",
          "state": {
            "_dom_classes": [],
            "_model_module": "@jupyter-widgets/controls",
            "_model_module_version": "1.5.0",
            "_model_name": "FloatProgressModel",
            "_view_count": null,
            "_view_module": "@jupyter-widgets/controls",
            "_view_module_version": "1.5.0",
            "_view_name": "ProgressView",
            "bar_style": "",
            "description": "",
            "description_tooltip": null,
            "layout": "IPY_MODEL_ddc7e80d53654bccbe56c6e0a1140f30",
            "max": 1,
            "min": 0,
            "orientation": "horizontal",
            "style": "IPY_MODEL_f2c94a47629e4c97b20fbacbd6eb4b94",
            "value": 1
          }
        },
        "18383151d2ee43baa4916f109cb55f3a": {
          "model_module": "@jupyter-widgets/base",
          "model_name": "LayoutModel",
          "model_module_version": "1.2.0",
          "state": {
            "_model_module": "@jupyter-widgets/base",
            "_model_module_version": "1.2.0",
            "_model_name": "LayoutModel",
            "_view_count": null,
            "_view_module": "@jupyter-widgets/base",
            "_view_module_version": "1.2.0",
            "_view_name": "LayoutView",
            "align_content": null,
            "align_items": null,
            "align_self": null,
            "border": null,
            "bottom": null,
            "display": null,
            "flex": null,
            "flex_flow": null,
            "grid_area": null,
            "grid_auto_columns": null,
            "grid_auto_flow": null,
            "grid_auto_rows": null,
            "grid_column": null,
            "grid_gap": null,
            "grid_row": null,
            "grid_template_areas": null,
            "grid_template_columns": null,
            "grid_template_rows": null,
            "height": null,
            "justify_content": null,
            "justify_items": null,
            "left": null,
            "margin": null,
            "max_height": null,
            "max_width": null,
            "min_height": null,
            "min_width": null,
            "object_fit": null,
            "object_position": null,
            "order": null,
            "overflow": null,
            "overflow_x": null,
            "overflow_y": null,
            "padding": null,
            "right": null,
            "top": null,
            "visibility": null,
            "width": null
          }
        },
        "9f0e12e7b7e04eac82e99f1b9e5e29db": {
          "model_module": "@jupyter-widgets/base",
          "model_name": "LayoutModel",
          "model_module_version": "1.2.0",
          "state": {
            "_model_module": "@jupyter-widgets/base",
            "_model_module_version": "1.2.0",
            "_model_name": "LayoutModel",
            "_view_count": null,
            "_view_module": "@jupyter-widgets/base",
            "_view_module_version": "1.2.0",
            "_view_name": "LayoutView",
            "align_content": null,
            "align_items": null,
            "align_self": null,
            "border": null,
            "bottom": null,
            "display": null,
            "flex": null,
            "flex_flow": null,
            "grid_area": null,
            "grid_auto_columns": null,
            "grid_auto_flow": null,
            "grid_auto_rows": null,
            "grid_column": null,
            "grid_gap": null,
            "grid_row": null,
            "grid_template_areas": null,
            "grid_template_columns": null,
            "grid_template_rows": null,
            "height": null,
            "justify_content": null,
            "justify_items": null,
            "left": null,
            "margin": null,
            "max_height": null,
            "max_width": null,
            "min_height": null,
            "min_width": null,
            "object_fit": null,
            "object_position": null,
            "order": null,
            "overflow": null,
            "overflow_x": null,
            "overflow_y": null,
            "padding": null,
            "right": null,
            "top": null,
            "visibility": null,
            "width": null
          }
        },
        "1d468287e20941a3b5d68f3edb0735d2": {
          "model_module": "@jupyter-widgets/controls",
          "model_name": "DescriptionStyleModel",
          "model_module_version": "1.5.0",
          "state": {
            "_model_module": "@jupyter-widgets/controls",
            "_model_module_version": "1.5.0",
            "_model_name": "DescriptionStyleModel",
            "_view_count": null,
            "_view_module": "@jupyter-widgets/base",
            "_view_module_version": "1.2.0",
            "_view_name": "StyleView",
            "description_width": ""
          }
        },
        "ddc7e80d53654bccbe56c6e0a1140f30": {
          "model_module": "@jupyter-widgets/base",
          "model_name": "LayoutModel",
          "model_module_version": "1.2.0",
          "state": {
            "_model_module": "@jupyter-widgets/base",
            "_model_module_version": "1.2.0",
            "_model_name": "LayoutModel",
            "_view_count": null,
            "_view_module": "@jupyter-widgets/base",
            "_view_module_version": "1.2.0",
            "_view_name": "LayoutView",
            "align_content": null,
            "align_items": null,
            "align_self": null,
            "border": null,
            "bottom": null,
            "display": null,
            "flex": null,
            "flex_flow": null,
            "grid_area": null,
            "grid_auto_columns": null,
            "grid_auto_flow": null,
            "grid_auto_rows": null,
            "grid_column": null,
            "grid_gap": null,
            "grid_row": null,
            "grid_template_areas": null,
            "grid_template_columns": null,
            "grid_template_rows": null,
            "height": null,
            "justify_content": null,
            "justify_items": null,
            "left": null,
            "margin": null,
            "max_height": null,
            "max_width": null,
            "min_height": null,
            "min_width": null,
            "object_fit": null,
            "object_position": null,
            "order": null,
            "overflow": null,
            "overflow_x": null,
            "overflow_y": null,
            "padding": null,
            "right": null,
            "top": null,
            "visibility": null,
            "width": null
          }
        },
        "f2c94a47629e4c97b20fbacbd6eb4b94": {
          "model_module": "@jupyter-widgets/controls",
          "model_name": "ProgressStyleModel",
          "model_module_version": "1.5.0",
          "state": {
            "_model_module": "@jupyter-widgets/controls",
            "_model_module_version": "1.5.0",
            "_model_name": "ProgressStyleModel",
            "_view_count": null,
            "_view_module": "@jupyter-widgets/base",
            "_view_module_version": "1.2.0",
            "_view_name": "StyleView",
            "bar_color": null,
            "description_width": ""
          }
        },
        "6728de67aa7644968a5675eb7c205fc2": {
          "model_module": "@jupyter-widgets/controls",
          "model_name": "VBoxModel",
          "model_module_version": "1.5.0",
          "state": {
            "_dom_classes": [],
            "_model_module": "@jupyter-widgets/controls",
            "_model_module_version": "1.5.0",
            "_model_name": "VBoxModel",
            "_view_count": null,
            "_view_module": "@jupyter-widgets/controls",
            "_view_module_version": "1.5.0",
            "_view_name": "VBoxView",
            "box_style": "",
            "children": [
              "IPY_MODEL_f46024be553c44d4a6fad6c9a7554b2e",
              "IPY_MODEL_d7a2703978084784a3f70d1de1fc3825"
            ],
            "layout": "IPY_MODEL_b7572ae2346244e892f862db77da5195"
          }
        },
        "f46024be553c44d4a6fad6c9a7554b2e": {
          "model_module": "@jupyter-widgets/controls",
          "model_name": "LabelModel",
          "model_module_version": "1.5.0",
          "state": {
            "_dom_classes": [],
            "_model_module": "@jupyter-widgets/controls",
            "_model_module_version": "1.5.0",
            "_model_name": "LabelModel",
            "_view_count": null,
            "_view_module": "@jupyter-widgets/controls",
            "_view_module_version": "1.5.0",
            "_view_name": "LabelView",
            "description": "",
            "description_tooltip": null,
            "layout": "IPY_MODEL_e3b60c2804a64af2baed42a7fdd5c811",
            "placeholder": "​",
            "style": "IPY_MODEL_e16b821b1e54477c8c7a3b6bc01fe104",
            "value": "7.390 MB of 7.390 MB uploaded (0.000 MB deduped)\r"
          }
        },
        "d7a2703978084784a3f70d1de1fc3825": {
          "model_module": "@jupyter-widgets/controls",
          "model_name": "FloatProgressModel",
          "model_module_version": "1.5.0",
          "state": {
            "_dom_classes": [],
            "_model_module": "@jupyter-widgets/controls",
            "_model_module_version": "1.5.0",
            "_model_name": "FloatProgressModel",
            "_view_count": null,
            "_view_module": "@jupyter-widgets/controls",
            "_view_module_version": "1.5.0",
            "_view_name": "ProgressView",
            "bar_style": "",
            "description": "",
            "description_tooltip": null,
            "layout": "IPY_MODEL_c6081b9eff3e4e92b96d562537b6d5e3",
            "max": 1,
            "min": 0,
            "orientation": "horizontal",
            "style": "IPY_MODEL_d6c1d42d5f414f37b73d208b5bcccf48",
            "value": 1
          }
        },
        "b7572ae2346244e892f862db77da5195": {
          "model_module": "@jupyter-widgets/base",
          "model_name": "LayoutModel",
          "model_module_version": "1.2.0",
          "state": {
            "_model_module": "@jupyter-widgets/base",
            "_model_module_version": "1.2.0",
            "_model_name": "LayoutModel",
            "_view_count": null,
            "_view_module": "@jupyter-widgets/base",
            "_view_module_version": "1.2.0",
            "_view_name": "LayoutView",
            "align_content": null,
            "align_items": null,
            "align_self": null,
            "border": null,
            "bottom": null,
            "display": null,
            "flex": null,
            "flex_flow": null,
            "grid_area": null,
            "grid_auto_columns": null,
            "grid_auto_flow": null,
            "grid_auto_rows": null,
            "grid_column": null,
            "grid_gap": null,
            "grid_row": null,
            "grid_template_areas": null,
            "grid_template_columns": null,
            "grid_template_rows": null,
            "height": null,
            "justify_content": null,
            "justify_items": null,
            "left": null,
            "margin": null,
            "max_height": null,
            "max_width": null,
            "min_height": null,
            "min_width": null,
            "object_fit": null,
            "object_position": null,
            "order": null,
            "overflow": null,
            "overflow_x": null,
            "overflow_y": null,
            "padding": null,
            "right": null,
            "top": null,
            "visibility": null,
            "width": null
          }
        },
        "e3b60c2804a64af2baed42a7fdd5c811": {
          "model_module": "@jupyter-widgets/base",
          "model_name": "LayoutModel",
          "model_module_version": "1.2.0",
          "state": {
            "_model_module": "@jupyter-widgets/base",
            "_model_module_version": "1.2.0",
            "_model_name": "LayoutModel",
            "_view_count": null,
            "_view_module": "@jupyter-widgets/base",
            "_view_module_version": "1.2.0",
            "_view_name": "LayoutView",
            "align_content": null,
            "align_items": null,
            "align_self": null,
            "border": null,
            "bottom": null,
            "display": null,
            "flex": null,
            "flex_flow": null,
            "grid_area": null,
            "grid_auto_columns": null,
            "grid_auto_flow": null,
            "grid_auto_rows": null,
            "grid_column": null,
            "grid_gap": null,
            "grid_row": null,
            "grid_template_areas": null,
            "grid_template_columns": null,
            "grid_template_rows": null,
            "height": null,
            "justify_content": null,
            "justify_items": null,
            "left": null,
            "margin": null,
            "max_height": null,
            "max_width": null,
            "min_height": null,
            "min_width": null,
            "object_fit": null,
            "object_position": null,
            "order": null,
            "overflow": null,
            "overflow_x": null,
            "overflow_y": null,
            "padding": null,
            "right": null,
            "top": null,
            "visibility": null,
            "width": null
          }
        },
        "e16b821b1e54477c8c7a3b6bc01fe104": {
          "model_module": "@jupyter-widgets/controls",
          "model_name": "DescriptionStyleModel",
          "model_module_version": "1.5.0",
          "state": {
            "_model_module": "@jupyter-widgets/controls",
            "_model_module_version": "1.5.0",
            "_model_name": "DescriptionStyleModel",
            "_view_count": null,
            "_view_module": "@jupyter-widgets/base",
            "_view_module_version": "1.2.0",
            "_view_name": "StyleView",
            "description_width": ""
          }
        },
        "c6081b9eff3e4e92b96d562537b6d5e3": {
          "model_module": "@jupyter-widgets/base",
          "model_name": "LayoutModel",
          "model_module_version": "1.2.0",
          "state": {
            "_model_module": "@jupyter-widgets/base",
            "_model_module_version": "1.2.0",
            "_model_name": "LayoutModel",
            "_view_count": null,
            "_view_module": "@jupyter-widgets/base",
            "_view_module_version": "1.2.0",
            "_view_name": "LayoutView",
            "align_content": null,
            "align_items": null,
            "align_self": null,
            "border": null,
            "bottom": null,
            "display": null,
            "flex": null,
            "flex_flow": null,
            "grid_area": null,
            "grid_auto_columns": null,
            "grid_auto_flow": null,
            "grid_auto_rows": null,
            "grid_column": null,
            "grid_gap": null,
            "grid_row": null,
            "grid_template_areas": null,
            "grid_template_columns": null,
            "grid_template_rows": null,
            "height": null,
            "justify_content": null,
            "justify_items": null,
            "left": null,
            "margin": null,
            "max_height": null,
            "max_width": null,
            "min_height": null,
            "min_width": null,
            "object_fit": null,
            "object_position": null,
            "order": null,
            "overflow": null,
            "overflow_x": null,
            "overflow_y": null,
            "padding": null,
            "right": null,
            "top": null,
            "visibility": null,
            "width": null
          }
        },
        "d6c1d42d5f414f37b73d208b5bcccf48": {
          "model_module": "@jupyter-widgets/controls",
          "model_name": "ProgressStyleModel",
          "model_module_version": "1.5.0",
          "state": {
            "_model_module": "@jupyter-widgets/controls",
            "_model_module_version": "1.5.0",
            "_model_name": "ProgressStyleModel",
            "_view_count": null,
            "_view_module": "@jupyter-widgets/base",
            "_view_module_version": "1.2.0",
            "_view_name": "StyleView",
            "bar_color": null,
            "description_width": ""
          }
        },
        "a3611e3808474ad093865a99fc2d05a0": {
          "model_module": "@jupyter-widgets/controls",
          "model_name": "VBoxModel",
          "model_module_version": "1.5.0",
          "state": {
            "_dom_classes": [],
            "_model_module": "@jupyter-widgets/controls",
            "_model_module_version": "1.5.0",
            "_model_name": "VBoxModel",
            "_view_count": null,
            "_view_module": "@jupyter-widgets/controls",
            "_view_module_version": "1.5.0",
            "_view_name": "VBoxView",
            "box_style": "",
            "children": [
              "IPY_MODEL_da8815cb60aa45f8a417e1ed0fb54299",
              "IPY_MODEL_176e429135384ba78d72460fc1a222da"
            ],
            "layout": "IPY_MODEL_5a23f2ccd28d4fc48183c7f0d9ba65ef"
          }
        },
        "da8815cb60aa45f8a417e1ed0fb54299": {
          "model_module": "@jupyter-widgets/controls",
          "model_name": "LabelModel",
          "model_module_version": "1.5.0",
          "state": {
            "_dom_classes": [],
            "_model_module": "@jupyter-widgets/controls",
            "_model_module_version": "1.5.0",
            "_model_name": "LabelModel",
            "_view_count": null,
            "_view_module": "@jupyter-widgets/controls",
            "_view_module_version": "1.5.0",
            "_view_name": "LabelView",
            "description": "",
            "description_tooltip": null,
            "layout": "IPY_MODEL_566f365c48664b318e3dd5ea1c20c6bf",
            "placeholder": "​",
            "style": "IPY_MODEL_cbdd9f57c40d4004a2a466e02a222a23",
            "value": "0.010 MB of 0.010 MB uploaded (0.000 MB deduped)\r"
          }
        },
        "176e429135384ba78d72460fc1a222da": {
          "model_module": "@jupyter-widgets/controls",
          "model_name": "FloatProgressModel",
          "model_module_version": "1.5.0",
          "state": {
            "_dom_classes": [],
            "_model_module": "@jupyter-widgets/controls",
            "_model_module_version": "1.5.0",
            "_model_name": "FloatProgressModel",
            "_view_count": null,
            "_view_module": "@jupyter-widgets/controls",
            "_view_module_version": "1.5.0",
            "_view_name": "ProgressView",
            "bar_style": "",
            "description": "",
            "description_tooltip": null,
            "layout": "IPY_MODEL_a61ccfe7a98d4cb98e6208191726f73c",
            "max": 1,
            "min": 0,
            "orientation": "horizontal",
            "style": "IPY_MODEL_de1944055f4e4f3ca553e21aa1c49220",
            "value": 1
          }
        },
        "5a23f2ccd28d4fc48183c7f0d9ba65ef": {
          "model_module": "@jupyter-widgets/base",
          "model_name": "LayoutModel",
          "model_module_version": "1.2.0",
          "state": {
            "_model_module": "@jupyter-widgets/base",
            "_model_module_version": "1.2.0",
            "_model_name": "LayoutModel",
            "_view_count": null,
            "_view_module": "@jupyter-widgets/base",
            "_view_module_version": "1.2.0",
            "_view_name": "LayoutView",
            "align_content": null,
            "align_items": null,
            "align_self": null,
            "border": null,
            "bottom": null,
            "display": null,
            "flex": null,
            "flex_flow": null,
            "grid_area": null,
            "grid_auto_columns": null,
            "grid_auto_flow": null,
            "grid_auto_rows": null,
            "grid_column": null,
            "grid_gap": null,
            "grid_row": null,
            "grid_template_areas": null,
            "grid_template_columns": null,
            "grid_template_rows": null,
            "height": null,
            "justify_content": null,
            "justify_items": null,
            "left": null,
            "margin": null,
            "max_height": null,
            "max_width": null,
            "min_height": null,
            "min_width": null,
            "object_fit": null,
            "object_position": null,
            "order": null,
            "overflow": null,
            "overflow_x": null,
            "overflow_y": null,
            "padding": null,
            "right": null,
            "top": null,
            "visibility": null,
            "width": null
          }
        },
        "566f365c48664b318e3dd5ea1c20c6bf": {
          "model_module": "@jupyter-widgets/base",
          "model_name": "LayoutModel",
          "model_module_version": "1.2.0",
          "state": {
            "_model_module": "@jupyter-widgets/base",
            "_model_module_version": "1.2.0",
            "_model_name": "LayoutModel",
            "_view_count": null,
            "_view_module": "@jupyter-widgets/base",
            "_view_module_version": "1.2.0",
            "_view_name": "LayoutView",
            "align_content": null,
            "align_items": null,
            "align_self": null,
            "border": null,
            "bottom": null,
            "display": null,
            "flex": null,
            "flex_flow": null,
            "grid_area": null,
            "grid_auto_columns": null,
            "grid_auto_flow": null,
            "grid_auto_rows": null,
            "grid_column": null,
            "grid_gap": null,
            "grid_row": null,
            "grid_template_areas": null,
            "grid_template_columns": null,
            "grid_template_rows": null,
            "height": null,
            "justify_content": null,
            "justify_items": null,
            "left": null,
            "margin": null,
            "max_height": null,
            "max_width": null,
            "min_height": null,
            "min_width": null,
            "object_fit": null,
            "object_position": null,
            "order": null,
            "overflow": null,
            "overflow_x": null,
            "overflow_y": null,
            "padding": null,
            "right": null,
            "top": null,
            "visibility": null,
            "width": null
          }
        },
        "cbdd9f57c40d4004a2a466e02a222a23": {
          "model_module": "@jupyter-widgets/controls",
          "model_name": "DescriptionStyleModel",
          "model_module_version": "1.5.0",
          "state": {
            "_model_module": "@jupyter-widgets/controls",
            "_model_module_version": "1.5.0",
            "_model_name": "DescriptionStyleModel",
            "_view_count": null,
            "_view_module": "@jupyter-widgets/base",
            "_view_module_version": "1.2.0",
            "_view_name": "StyleView",
            "description_width": ""
          }
        },
        "a61ccfe7a98d4cb98e6208191726f73c": {
          "model_module": "@jupyter-widgets/base",
          "model_name": "LayoutModel",
          "model_module_version": "1.2.0",
          "state": {
            "_model_module": "@jupyter-widgets/base",
            "_model_module_version": "1.2.0",
            "_model_name": "LayoutModel",
            "_view_count": null,
            "_view_module": "@jupyter-widgets/base",
            "_view_module_version": "1.2.0",
            "_view_name": "LayoutView",
            "align_content": null,
            "align_items": null,
            "align_self": null,
            "border": null,
            "bottom": null,
            "display": null,
            "flex": null,
            "flex_flow": null,
            "grid_area": null,
            "grid_auto_columns": null,
            "grid_auto_flow": null,
            "grid_auto_rows": null,
            "grid_column": null,
            "grid_gap": null,
            "grid_row": null,
            "grid_template_areas": null,
            "grid_template_columns": null,
            "grid_template_rows": null,
            "height": null,
            "justify_content": null,
            "justify_items": null,
            "left": null,
            "margin": null,
            "max_height": null,
            "max_width": null,
            "min_height": null,
            "min_width": null,
            "object_fit": null,
            "object_position": null,
            "order": null,
            "overflow": null,
            "overflow_x": null,
            "overflow_y": null,
            "padding": null,
            "right": null,
            "top": null,
            "visibility": null,
            "width": null
          }
        },
        "de1944055f4e4f3ca553e21aa1c49220": {
          "model_module": "@jupyter-widgets/controls",
          "model_name": "ProgressStyleModel",
          "model_module_version": "1.5.0",
          "state": {
            "_model_module": "@jupyter-widgets/controls",
            "_model_module_version": "1.5.0",
            "_model_name": "ProgressStyleModel",
            "_view_count": null,
            "_view_module": "@jupyter-widgets/base",
            "_view_module_version": "1.2.0",
            "_view_name": "StyleView",
            "bar_color": null,
            "description_width": ""
          }
        },
        "355ad12fe84a4ba1b18fc9c3a15baba2": {
          "model_module": "@jupyter-widgets/controls",
          "model_name": "VBoxModel",
          "model_module_version": "1.5.0",
          "state": {
            "_dom_classes": [],
            "_model_module": "@jupyter-widgets/controls",
            "_model_module_version": "1.5.0",
            "_model_name": "VBoxModel",
            "_view_count": null,
            "_view_module": "@jupyter-widgets/controls",
            "_view_module_version": "1.5.0",
            "_view_name": "VBoxView",
            "box_style": "",
            "children": [
              "IPY_MODEL_4076ecc0e84841ef958dc9529a91c2b3",
              "IPY_MODEL_ade1289839784779aef99c3c9c07c12d"
            ],
            "layout": "IPY_MODEL_915abf347380442a9284a4e6698f2112"
          }
        },
        "4076ecc0e84841ef958dc9529a91c2b3": {
          "model_module": "@jupyter-widgets/controls",
          "model_name": "LabelModel",
          "model_module_version": "1.5.0",
          "state": {
            "_dom_classes": [],
            "_model_module": "@jupyter-widgets/controls",
            "_model_module_version": "1.5.0",
            "_model_name": "LabelModel",
            "_view_count": null,
            "_view_module": "@jupyter-widgets/controls",
            "_view_module_version": "1.5.0",
            "_view_name": "LabelView",
            "description": "",
            "description_tooltip": null,
            "layout": "IPY_MODEL_cdb4cf27340f48a2b5dc0824f23af56d",
            "placeholder": "​",
            "style": "IPY_MODEL_d1dfb0ee712f4a0484ae439f07ba632a",
            "value": "0.613 MB of 0.613 MB uploaded (0.000 MB deduped)\r"
          }
        },
        "ade1289839784779aef99c3c9c07c12d": {
          "model_module": "@jupyter-widgets/controls",
          "model_name": "FloatProgressModel",
          "model_module_version": "1.5.0",
          "state": {
            "_dom_classes": [],
            "_model_module": "@jupyter-widgets/controls",
            "_model_module_version": "1.5.0",
            "_model_name": "FloatProgressModel",
            "_view_count": null,
            "_view_module": "@jupyter-widgets/controls",
            "_view_module_version": "1.5.0",
            "_view_name": "ProgressView",
            "bar_style": "",
            "description": "",
            "description_tooltip": null,
            "layout": "IPY_MODEL_8ce732faa95442fdb54805d127eb5afd",
            "max": 1,
            "min": 0,
            "orientation": "horizontal",
            "style": "IPY_MODEL_89d7d85b53d7460fbc0adf5e3df84f85",
            "value": 1
          }
        },
        "915abf347380442a9284a4e6698f2112": {
          "model_module": "@jupyter-widgets/base",
          "model_name": "LayoutModel",
          "model_module_version": "1.2.0",
          "state": {
            "_model_module": "@jupyter-widgets/base",
            "_model_module_version": "1.2.0",
            "_model_name": "LayoutModel",
            "_view_count": null,
            "_view_module": "@jupyter-widgets/base",
            "_view_module_version": "1.2.0",
            "_view_name": "LayoutView",
            "align_content": null,
            "align_items": null,
            "align_self": null,
            "border": null,
            "bottom": null,
            "display": null,
            "flex": null,
            "flex_flow": null,
            "grid_area": null,
            "grid_auto_columns": null,
            "grid_auto_flow": null,
            "grid_auto_rows": null,
            "grid_column": null,
            "grid_gap": null,
            "grid_row": null,
            "grid_template_areas": null,
            "grid_template_columns": null,
            "grid_template_rows": null,
            "height": null,
            "justify_content": null,
            "justify_items": null,
            "left": null,
            "margin": null,
            "max_height": null,
            "max_width": null,
            "min_height": null,
            "min_width": null,
            "object_fit": null,
            "object_position": null,
            "order": null,
            "overflow": null,
            "overflow_x": null,
            "overflow_y": null,
            "padding": null,
            "right": null,
            "top": null,
            "visibility": null,
            "width": null
          }
        },
        "cdb4cf27340f48a2b5dc0824f23af56d": {
          "model_module": "@jupyter-widgets/base",
          "model_name": "LayoutModel",
          "model_module_version": "1.2.0",
          "state": {
            "_model_module": "@jupyter-widgets/base",
            "_model_module_version": "1.2.0",
            "_model_name": "LayoutModel",
            "_view_count": null,
            "_view_module": "@jupyter-widgets/base",
            "_view_module_version": "1.2.0",
            "_view_name": "LayoutView",
            "align_content": null,
            "align_items": null,
            "align_self": null,
            "border": null,
            "bottom": null,
            "display": null,
            "flex": null,
            "flex_flow": null,
            "grid_area": null,
            "grid_auto_columns": null,
            "grid_auto_flow": null,
            "grid_auto_rows": null,
            "grid_column": null,
            "grid_gap": null,
            "grid_row": null,
            "grid_template_areas": null,
            "grid_template_columns": null,
            "grid_template_rows": null,
            "height": null,
            "justify_content": null,
            "justify_items": null,
            "left": null,
            "margin": null,
            "max_height": null,
            "max_width": null,
            "min_height": null,
            "min_width": null,
            "object_fit": null,
            "object_position": null,
            "order": null,
            "overflow": null,
            "overflow_x": null,
            "overflow_y": null,
            "padding": null,
            "right": null,
            "top": null,
            "visibility": null,
            "width": null
          }
        },
        "d1dfb0ee712f4a0484ae439f07ba632a": {
          "model_module": "@jupyter-widgets/controls",
          "model_name": "DescriptionStyleModel",
          "model_module_version": "1.5.0",
          "state": {
            "_model_module": "@jupyter-widgets/controls",
            "_model_module_version": "1.5.0",
            "_model_name": "DescriptionStyleModel",
            "_view_count": null,
            "_view_module": "@jupyter-widgets/base",
            "_view_module_version": "1.2.0",
            "_view_name": "StyleView",
            "description_width": ""
          }
        },
        "8ce732faa95442fdb54805d127eb5afd": {
          "model_module": "@jupyter-widgets/base",
          "model_name": "LayoutModel",
          "model_module_version": "1.2.0",
          "state": {
            "_model_module": "@jupyter-widgets/base",
            "_model_module_version": "1.2.0",
            "_model_name": "LayoutModel",
            "_view_count": null,
            "_view_module": "@jupyter-widgets/base",
            "_view_module_version": "1.2.0",
            "_view_name": "LayoutView",
            "align_content": null,
            "align_items": null,
            "align_self": null,
            "border": null,
            "bottom": null,
            "display": null,
            "flex": null,
            "flex_flow": null,
            "grid_area": null,
            "grid_auto_columns": null,
            "grid_auto_flow": null,
            "grid_auto_rows": null,
            "grid_column": null,
            "grid_gap": null,
            "grid_row": null,
            "grid_template_areas": null,
            "grid_template_columns": null,
            "grid_template_rows": null,
            "height": null,
            "justify_content": null,
            "justify_items": null,
            "left": null,
            "margin": null,
            "max_height": null,
            "max_width": null,
            "min_height": null,
            "min_width": null,
            "object_fit": null,
            "object_position": null,
            "order": null,
            "overflow": null,
            "overflow_x": null,
            "overflow_y": null,
            "padding": null,
            "right": null,
            "top": null,
            "visibility": null,
            "width": null
          }
        },
        "89d7d85b53d7460fbc0adf5e3df84f85": {
          "model_module": "@jupyter-widgets/controls",
          "model_name": "ProgressStyleModel",
          "model_module_version": "1.5.0",
          "state": {
            "_model_module": "@jupyter-widgets/controls",
            "_model_module_version": "1.5.0",
            "_model_name": "ProgressStyleModel",
            "_view_count": null,
            "_view_module": "@jupyter-widgets/base",
            "_view_module_version": "1.2.0",
            "_view_name": "StyleView",
            "bar_color": null,
            "description_width": ""
          }
        },
        "f2cbe6cdcb7143a5986cdf243ef704d1": {
          "model_module": "@jupyter-widgets/controls",
          "model_name": "VBoxModel",
          "model_module_version": "1.5.0",
          "state": {
            "_dom_classes": [],
            "_model_module": "@jupyter-widgets/controls",
            "_model_module_version": "1.5.0",
            "_model_name": "VBoxModel",
            "_view_count": null,
            "_view_module": "@jupyter-widgets/controls",
            "_view_module_version": "1.5.0",
            "_view_name": "VBoxView",
            "box_style": "",
            "children": [
              "IPY_MODEL_37e1624b68364b458d853f2db56f1a73",
              "IPY_MODEL_03f73a82dec64209b91b7aa5a308c237"
            ],
            "layout": "IPY_MODEL_6858781daa5d4198b8ed8d05f0b9c9e0"
          }
        },
        "37e1624b68364b458d853f2db56f1a73": {
          "model_module": "@jupyter-widgets/controls",
          "model_name": "LabelModel",
          "model_module_version": "1.5.0",
          "state": {
            "_dom_classes": [],
            "_model_module": "@jupyter-widgets/controls",
            "_model_module_version": "1.5.0",
            "_model_name": "LabelModel",
            "_view_count": null,
            "_view_module": "@jupyter-widgets/controls",
            "_view_module_version": "1.5.0",
            "_view_name": "LabelView",
            "description": "",
            "description_tooltip": null,
            "layout": "IPY_MODEL_4c339f3acbe64902a62890362999cf96",
            "placeholder": "​",
            "style": "IPY_MODEL_df4f8495710643db9ed4db5d3be4fab1",
            "value": "126.183 MB of 126.183 MB uploaded (0.000 MB deduped)\r"
          }
        },
        "03f73a82dec64209b91b7aa5a308c237": {
          "model_module": "@jupyter-widgets/controls",
          "model_name": "FloatProgressModel",
          "model_module_version": "1.5.0",
          "state": {
            "_dom_classes": [],
            "_model_module": "@jupyter-widgets/controls",
            "_model_module_version": "1.5.0",
            "_model_name": "FloatProgressModel",
            "_view_count": null,
            "_view_module": "@jupyter-widgets/controls",
            "_view_module_version": "1.5.0",
            "_view_name": "ProgressView",
            "bar_style": "",
            "description": "",
            "description_tooltip": null,
            "layout": "IPY_MODEL_485d8a4cc35c470297010f24258c545f",
            "max": 1,
            "min": 0,
            "orientation": "horizontal",
            "style": "IPY_MODEL_fdeab64c8f3d46b9ae8939f628ffc588",
            "value": 1
          }
        },
        "6858781daa5d4198b8ed8d05f0b9c9e0": {
          "model_module": "@jupyter-widgets/base",
          "model_name": "LayoutModel",
          "model_module_version": "1.2.0",
          "state": {
            "_model_module": "@jupyter-widgets/base",
            "_model_module_version": "1.2.0",
            "_model_name": "LayoutModel",
            "_view_count": null,
            "_view_module": "@jupyter-widgets/base",
            "_view_module_version": "1.2.0",
            "_view_name": "LayoutView",
            "align_content": null,
            "align_items": null,
            "align_self": null,
            "border": null,
            "bottom": null,
            "display": null,
            "flex": null,
            "flex_flow": null,
            "grid_area": null,
            "grid_auto_columns": null,
            "grid_auto_flow": null,
            "grid_auto_rows": null,
            "grid_column": null,
            "grid_gap": null,
            "grid_row": null,
            "grid_template_areas": null,
            "grid_template_columns": null,
            "grid_template_rows": null,
            "height": null,
            "justify_content": null,
            "justify_items": null,
            "left": null,
            "margin": null,
            "max_height": null,
            "max_width": null,
            "min_height": null,
            "min_width": null,
            "object_fit": null,
            "object_position": null,
            "order": null,
            "overflow": null,
            "overflow_x": null,
            "overflow_y": null,
            "padding": null,
            "right": null,
            "top": null,
            "visibility": null,
            "width": null
          }
        },
        "4c339f3acbe64902a62890362999cf96": {
          "model_module": "@jupyter-widgets/base",
          "model_name": "LayoutModel",
          "model_module_version": "1.2.0",
          "state": {
            "_model_module": "@jupyter-widgets/base",
            "_model_module_version": "1.2.0",
            "_model_name": "LayoutModel",
            "_view_count": null,
            "_view_module": "@jupyter-widgets/base",
            "_view_module_version": "1.2.0",
            "_view_name": "LayoutView",
            "align_content": null,
            "align_items": null,
            "align_self": null,
            "border": null,
            "bottom": null,
            "display": null,
            "flex": null,
            "flex_flow": null,
            "grid_area": null,
            "grid_auto_columns": null,
            "grid_auto_flow": null,
            "grid_auto_rows": null,
            "grid_column": null,
            "grid_gap": null,
            "grid_row": null,
            "grid_template_areas": null,
            "grid_template_columns": null,
            "grid_template_rows": null,
            "height": null,
            "justify_content": null,
            "justify_items": null,
            "left": null,
            "margin": null,
            "max_height": null,
            "max_width": null,
            "min_height": null,
            "min_width": null,
            "object_fit": null,
            "object_position": null,
            "order": null,
            "overflow": null,
            "overflow_x": null,
            "overflow_y": null,
            "padding": null,
            "right": null,
            "top": null,
            "visibility": null,
            "width": null
          }
        },
        "df4f8495710643db9ed4db5d3be4fab1": {
          "model_module": "@jupyter-widgets/controls",
          "model_name": "DescriptionStyleModel",
          "model_module_version": "1.5.0",
          "state": {
            "_model_module": "@jupyter-widgets/controls",
            "_model_module_version": "1.5.0",
            "_model_name": "DescriptionStyleModel",
            "_view_count": null,
            "_view_module": "@jupyter-widgets/base",
            "_view_module_version": "1.2.0",
            "_view_name": "StyleView",
            "description_width": ""
          }
        },
        "485d8a4cc35c470297010f24258c545f": {
          "model_module": "@jupyter-widgets/base",
          "model_name": "LayoutModel",
          "model_module_version": "1.2.0",
          "state": {
            "_model_module": "@jupyter-widgets/base",
            "_model_module_version": "1.2.0",
            "_model_name": "LayoutModel",
            "_view_count": null,
            "_view_module": "@jupyter-widgets/base",
            "_view_module_version": "1.2.0",
            "_view_name": "LayoutView",
            "align_content": null,
            "align_items": null,
            "align_self": null,
            "border": null,
            "bottom": null,
            "display": null,
            "flex": null,
            "flex_flow": null,
            "grid_area": null,
            "grid_auto_columns": null,
            "grid_auto_flow": null,
            "grid_auto_rows": null,
            "grid_column": null,
            "grid_gap": null,
            "grid_row": null,
            "grid_template_areas": null,
            "grid_template_columns": null,
            "grid_template_rows": null,
            "height": null,
            "justify_content": null,
            "justify_items": null,
            "left": null,
            "margin": null,
            "max_height": null,
            "max_width": null,
            "min_height": null,
            "min_width": null,
            "object_fit": null,
            "object_position": null,
            "order": null,
            "overflow": null,
            "overflow_x": null,
            "overflow_y": null,
            "padding": null,
            "right": null,
            "top": null,
            "visibility": null,
            "width": null
          }
        },
        "fdeab64c8f3d46b9ae8939f628ffc588": {
          "model_module": "@jupyter-widgets/controls",
          "model_name": "ProgressStyleModel",
          "model_module_version": "1.5.0",
          "state": {
            "_model_module": "@jupyter-widgets/controls",
            "_model_module_version": "1.5.0",
            "_model_name": "ProgressStyleModel",
            "_view_count": null,
            "_view_module": "@jupyter-widgets/base",
            "_view_module_version": "1.2.0",
            "_view_name": "StyleView",
            "bar_color": null,
            "description_width": ""
          }
        },
        "03ff619cca184c17a6bff661e0518155": {
          "model_module": "@jupyter-widgets/controls",
          "model_name": "VBoxModel",
          "model_module_version": "1.5.0",
          "state": {
            "_dom_classes": [],
            "_model_module": "@jupyter-widgets/controls",
            "_model_module_version": "1.5.0",
            "_model_name": "VBoxModel",
            "_view_count": null,
            "_view_module": "@jupyter-widgets/controls",
            "_view_module_version": "1.5.0",
            "_view_name": "VBoxView",
            "box_style": "",
            "children": [
              "IPY_MODEL_fbf6edb6a7794970abe8417a01b2576f",
              "IPY_MODEL_142133d5a22b4cd6b7336cbc484769bc"
            ],
            "layout": "IPY_MODEL_69da0d6b63284396a01fc08744cdb56c"
          }
        },
        "fbf6edb6a7794970abe8417a01b2576f": {
          "model_module": "@jupyter-widgets/controls",
          "model_name": "LabelModel",
          "model_module_version": "1.5.0",
          "state": {
            "_dom_classes": [],
            "_model_module": "@jupyter-widgets/controls",
            "_model_module_version": "1.5.0",
            "_model_name": "LabelModel",
            "_view_count": null,
            "_view_module": "@jupyter-widgets/controls",
            "_view_module_version": "1.5.0",
            "_view_name": "LabelView",
            "description": "",
            "description_tooltip": null,
            "layout": "IPY_MODEL_6c9aa7f74e9242d1b125a587598479ee",
            "placeholder": "​",
            "style": "IPY_MODEL_339d79ddcf2d469fa2e561cd7b9c7bca",
            "value": "0.706 MB of 0.706 MB uploaded (0.000 MB deduped)\r"
          }
        },
        "142133d5a22b4cd6b7336cbc484769bc": {
          "model_module": "@jupyter-widgets/controls",
          "model_name": "FloatProgressModel",
          "model_module_version": "1.5.0",
          "state": {
            "_dom_classes": [],
            "_model_module": "@jupyter-widgets/controls",
            "_model_module_version": "1.5.0",
            "_model_name": "FloatProgressModel",
            "_view_count": null,
            "_view_module": "@jupyter-widgets/controls",
            "_view_module_version": "1.5.0",
            "_view_name": "ProgressView",
            "bar_style": "",
            "description": "",
            "description_tooltip": null,
            "layout": "IPY_MODEL_38912058d4ef4ec4bd63de5075c6b5ef",
            "max": 1,
            "min": 0,
            "orientation": "horizontal",
            "style": "IPY_MODEL_c28de683549f42ca958d89f2e35445ea",
            "value": 1
          }
        },
        "69da0d6b63284396a01fc08744cdb56c": {
          "model_module": "@jupyter-widgets/base",
          "model_name": "LayoutModel",
          "model_module_version": "1.2.0",
          "state": {
            "_model_module": "@jupyter-widgets/base",
            "_model_module_version": "1.2.0",
            "_model_name": "LayoutModel",
            "_view_count": null,
            "_view_module": "@jupyter-widgets/base",
            "_view_module_version": "1.2.0",
            "_view_name": "LayoutView",
            "align_content": null,
            "align_items": null,
            "align_self": null,
            "border": null,
            "bottom": null,
            "display": null,
            "flex": null,
            "flex_flow": null,
            "grid_area": null,
            "grid_auto_columns": null,
            "grid_auto_flow": null,
            "grid_auto_rows": null,
            "grid_column": null,
            "grid_gap": null,
            "grid_row": null,
            "grid_template_areas": null,
            "grid_template_columns": null,
            "grid_template_rows": null,
            "height": null,
            "justify_content": null,
            "justify_items": null,
            "left": null,
            "margin": null,
            "max_height": null,
            "max_width": null,
            "min_height": null,
            "min_width": null,
            "object_fit": null,
            "object_position": null,
            "order": null,
            "overflow": null,
            "overflow_x": null,
            "overflow_y": null,
            "padding": null,
            "right": null,
            "top": null,
            "visibility": null,
            "width": null
          }
        },
        "6c9aa7f74e9242d1b125a587598479ee": {
          "model_module": "@jupyter-widgets/base",
          "model_name": "LayoutModel",
          "model_module_version": "1.2.0",
          "state": {
            "_model_module": "@jupyter-widgets/base",
            "_model_module_version": "1.2.0",
            "_model_name": "LayoutModel",
            "_view_count": null,
            "_view_module": "@jupyter-widgets/base",
            "_view_module_version": "1.2.0",
            "_view_name": "LayoutView",
            "align_content": null,
            "align_items": null,
            "align_self": null,
            "border": null,
            "bottom": null,
            "display": null,
            "flex": null,
            "flex_flow": null,
            "grid_area": null,
            "grid_auto_columns": null,
            "grid_auto_flow": null,
            "grid_auto_rows": null,
            "grid_column": null,
            "grid_gap": null,
            "grid_row": null,
            "grid_template_areas": null,
            "grid_template_columns": null,
            "grid_template_rows": null,
            "height": null,
            "justify_content": null,
            "justify_items": null,
            "left": null,
            "margin": null,
            "max_height": null,
            "max_width": null,
            "min_height": null,
            "min_width": null,
            "object_fit": null,
            "object_position": null,
            "order": null,
            "overflow": null,
            "overflow_x": null,
            "overflow_y": null,
            "padding": null,
            "right": null,
            "top": null,
            "visibility": null,
            "width": null
          }
        },
        "339d79ddcf2d469fa2e561cd7b9c7bca": {
          "model_module": "@jupyter-widgets/controls",
          "model_name": "DescriptionStyleModel",
          "model_module_version": "1.5.0",
          "state": {
            "_model_module": "@jupyter-widgets/controls",
            "_model_module_version": "1.5.0",
            "_model_name": "DescriptionStyleModel",
            "_view_count": null,
            "_view_module": "@jupyter-widgets/base",
            "_view_module_version": "1.2.0",
            "_view_name": "StyleView",
            "description_width": ""
          }
        },
        "38912058d4ef4ec4bd63de5075c6b5ef": {
          "model_module": "@jupyter-widgets/base",
          "model_name": "LayoutModel",
          "model_module_version": "1.2.0",
          "state": {
            "_model_module": "@jupyter-widgets/base",
            "_model_module_version": "1.2.0",
            "_model_name": "LayoutModel",
            "_view_count": null,
            "_view_module": "@jupyter-widgets/base",
            "_view_module_version": "1.2.0",
            "_view_name": "LayoutView",
            "align_content": null,
            "align_items": null,
            "align_self": null,
            "border": null,
            "bottom": null,
            "display": null,
            "flex": null,
            "flex_flow": null,
            "grid_area": null,
            "grid_auto_columns": null,
            "grid_auto_flow": null,
            "grid_auto_rows": null,
            "grid_column": null,
            "grid_gap": null,
            "grid_row": null,
            "grid_template_areas": null,
            "grid_template_columns": null,
            "grid_template_rows": null,
            "height": null,
            "justify_content": null,
            "justify_items": null,
            "left": null,
            "margin": null,
            "max_height": null,
            "max_width": null,
            "min_height": null,
            "min_width": null,
            "object_fit": null,
            "object_position": null,
            "order": null,
            "overflow": null,
            "overflow_x": null,
            "overflow_y": null,
            "padding": null,
            "right": null,
            "top": null,
            "visibility": null,
            "width": null
          }
        },
        "c28de683549f42ca958d89f2e35445ea": {
          "model_module": "@jupyter-widgets/controls",
          "model_name": "ProgressStyleModel",
          "model_module_version": "1.5.0",
          "state": {
            "_model_module": "@jupyter-widgets/controls",
            "_model_module_version": "1.5.0",
            "_model_name": "ProgressStyleModel",
            "_view_count": null,
            "_view_module": "@jupyter-widgets/base",
            "_view_module_version": "1.2.0",
            "_view_name": "StyleView",
            "bar_color": null,
            "description_width": ""
          }
        },
        "8ed1b9fe019249adaef56295d3520617": {
          "model_module": "@jupyter-widgets/controls",
          "model_name": "VBoxModel",
          "model_module_version": "1.5.0",
          "state": {
            "_dom_classes": [],
            "_model_module": "@jupyter-widgets/controls",
            "_model_module_version": "1.5.0",
            "_model_name": "VBoxModel",
            "_view_count": null,
            "_view_module": "@jupyter-widgets/controls",
            "_view_module_version": "1.5.0",
            "_view_name": "VBoxView",
            "box_style": "",
            "children": [
              "IPY_MODEL_43acfaa7a318431abffa8764524122d9",
              "IPY_MODEL_65b66268a7574ca5a5dfd9d89e7e4008"
            ],
            "layout": "IPY_MODEL_d4adaa1278cc4b50954f871cf2d8d52a"
          }
        },
        "43acfaa7a318431abffa8764524122d9": {
          "model_module": "@jupyter-widgets/controls",
          "model_name": "LabelModel",
          "model_module_version": "1.5.0",
          "state": {
            "_dom_classes": [],
            "_model_module": "@jupyter-widgets/controls",
            "_model_module_version": "1.5.0",
            "_model_name": "LabelModel",
            "_view_count": null,
            "_view_module": "@jupyter-widgets/controls",
            "_view_module_version": "1.5.0",
            "_view_name": "LabelView",
            "description": "",
            "description_tooltip": null,
            "layout": "IPY_MODEL_2eabb1080bec49b3bbc93c2ced834ff8",
            "placeholder": "​",
            "style": "IPY_MODEL_8a40fa42086f41c19d35f0c6e6f1aca7",
            "value": "45.135 MB of 45.135 MB uploaded (0.000 MB deduped)\r"
          }
        },
        "65b66268a7574ca5a5dfd9d89e7e4008": {
          "model_module": "@jupyter-widgets/controls",
          "model_name": "FloatProgressModel",
          "model_module_version": "1.5.0",
          "state": {
            "_dom_classes": [],
            "_model_module": "@jupyter-widgets/controls",
            "_model_module_version": "1.5.0",
            "_model_name": "FloatProgressModel",
            "_view_count": null,
            "_view_module": "@jupyter-widgets/controls",
            "_view_module_version": "1.5.0",
            "_view_name": "ProgressView",
            "bar_style": "",
            "description": "",
            "description_tooltip": null,
            "layout": "IPY_MODEL_62040e6a0ec64c1e88982583f8ba309f",
            "max": 1,
            "min": 0,
            "orientation": "horizontal",
            "style": "IPY_MODEL_6f33eba872644009baac94ed1a6cb1e9",
            "value": 1
          }
        },
        "d4adaa1278cc4b50954f871cf2d8d52a": {
          "model_module": "@jupyter-widgets/base",
          "model_name": "LayoutModel",
          "model_module_version": "1.2.0",
          "state": {
            "_model_module": "@jupyter-widgets/base",
            "_model_module_version": "1.2.0",
            "_model_name": "LayoutModel",
            "_view_count": null,
            "_view_module": "@jupyter-widgets/base",
            "_view_module_version": "1.2.0",
            "_view_name": "LayoutView",
            "align_content": null,
            "align_items": null,
            "align_self": null,
            "border": null,
            "bottom": null,
            "display": null,
            "flex": null,
            "flex_flow": null,
            "grid_area": null,
            "grid_auto_columns": null,
            "grid_auto_flow": null,
            "grid_auto_rows": null,
            "grid_column": null,
            "grid_gap": null,
            "grid_row": null,
            "grid_template_areas": null,
            "grid_template_columns": null,
            "grid_template_rows": null,
            "height": null,
            "justify_content": null,
            "justify_items": null,
            "left": null,
            "margin": null,
            "max_height": null,
            "max_width": null,
            "min_height": null,
            "min_width": null,
            "object_fit": null,
            "object_position": null,
            "order": null,
            "overflow": null,
            "overflow_x": null,
            "overflow_y": null,
            "padding": null,
            "right": null,
            "top": null,
            "visibility": null,
            "width": null
          }
        },
        "2eabb1080bec49b3bbc93c2ced834ff8": {
          "model_module": "@jupyter-widgets/base",
          "model_name": "LayoutModel",
          "model_module_version": "1.2.0",
          "state": {
            "_model_module": "@jupyter-widgets/base",
            "_model_module_version": "1.2.0",
            "_model_name": "LayoutModel",
            "_view_count": null,
            "_view_module": "@jupyter-widgets/base",
            "_view_module_version": "1.2.0",
            "_view_name": "LayoutView",
            "align_content": null,
            "align_items": null,
            "align_self": null,
            "border": null,
            "bottom": null,
            "display": null,
            "flex": null,
            "flex_flow": null,
            "grid_area": null,
            "grid_auto_columns": null,
            "grid_auto_flow": null,
            "grid_auto_rows": null,
            "grid_column": null,
            "grid_gap": null,
            "grid_row": null,
            "grid_template_areas": null,
            "grid_template_columns": null,
            "grid_template_rows": null,
            "height": null,
            "justify_content": null,
            "justify_items": null,
            "left": null,
            "margin": null,
            "max_height": null,
            "max_width": null,
            "min_height": null,
            "min_width": null,
            "object_fit": null,
            "object_position": null,
            "order": null,
            "overflow": null,
            "overflow_x": null,
            "overflow_y": null,
            "padding": null,
            "right": null,
            "top": null,
            "visibility": null,
            "width": null
          }
        },
        "8a40fa42086f41c19d35f0c6e6f1aca7": {
          "model_module": "@jupyter-widgets/controls",
          "model_name": "DescriptionStyleModel",
          "model_module_version": "1.5.0",
          "state": {
            "_model_module": "@jupyter-widgets/controls",
            "_model_module_version": "1.5.0",
            "_model_name": "DescriptionStyleModel",
            "_view_count": null,
            "_view_module": "@jupyter-widgets/base",
            "_view_module_version": "1.2.0",
            "_view_name": "StyleView",
            "description_width": ""
          }
        },
        "62040e6a0ec64c1e88982583f8ba309f": {
          "model_module": "@jupyter-widgets/base",
          "model_name": "LayoutModel",
          "model_module_version": "1.2.0",
          "state": {
            "_model_module": "@jupyter-widgets/base",
            "_model_module_version": "1.2.0",
            "_model_name": "LayoutModel",
            "_view_count": null,
            "_view_module": "@jupyter-widgets/base",
            "_view_module_version": "1.2.0",
            "_view_name": "LayoutView",
            "align_content": null,
            "align_items": null,
            "align_self": null,
            "border": null,
            "bottom": null,
            "display": null,
            "flex": null,
            "flex_flow": null,
            "grid_area": null,
            "grid_auto_columns": null,
            "grid_auto_flow": null,
            "grid_auto_rows": null,
            "grid_column": null,
            "grid_gap": null,
            "grid_row": null,
            "grid_template_areas": null,
            "grid_template_columns": null,
            "grid_template_rows": null,
            "height": null,
            "justify_content": null,
            "justify_items": null,
            "left": null,
            "margin": null,
            "max_height": null,
            "max_width": null,
            "min_height": null,
            "min_width": null,
            "object_fit": null,
            "object_position": null,
            "order": null,
            "overflow": null,
            "overflow_x": null,
            "overflow_y": null,
            "padding": null,
            "right": null,
            "top": null,
            "visibility": null,
            "width": null
          }
        },
        "6f33eba872644009baac94ed1a6cb1e9": {
          "model_module": "@jupyter-widgets/controls",
          "model_name": "ProgressStyleModel",
          "model_module_version": "1.5.0",
          "state": {
            "_model_module": "@jupyter-widgets/controls",
            "_model_module_version": "1.5.0",
            "_model_name": "ProgressStyleModel",
            "_view_count": null,
            "_view_module": "@jupyter-widgets/base",
            "_view_module_version": "1.2.0",
            "_view_name": "StyleView",
            "bar_color": null,
            "description_width": ""
          }
        }
      }
    }
  },
  "cells": [
    {
      "cell_type": "markdown",
      "metadata": {
        "id": "view-in-github",
        "colab_type": "text"
      },
      "source": [
        "<a href=\"https://colab.research.google.com/github/safikhanSoofiyani/CS6910-Assignment-2/blob/main/CS6910_Assignment2.ipynb\" target=\"_parent\"><img src=\"https://colab.research.google.com/assets/colab-badge.svg\" alt=\"Open In Colab\"/></a>"
      ]
    },
    {
      "cell_type": "code",
      "execution_count": 17,
      "metadata": {
        "id": "3Sq11UttEtFE"
      },
      "outputs": [],
      "source": [
        "import numpy as np\n",
        "import tensorflow as tf\n",
        "import random\n",
        "\n",
        "# Importing libraries related to Image Preprocessing\n",
        "from tensorflow.keras.utils import image_dataset_from_directory\n",
        "from tensorflow.keras.preprocessing.image import ImageDataGenerator\n",
        "from tensorflow.keras.layers.experimental.preprocessing import Rescaling\n",
        "\n",
        "# Importing libraries related to CNN Model building\n",
        "from tensorflow import keras\n",
        "from tensorflow.keras.models import Sequential,Model\n",
        "from tensorflow.keras.layers import Dense,Flatten,Conv2D,MaxPool2D,Activation,Dropout,BatchNormalization\n",
        "\n",
        "random.seed(hash(\"seriously you compete with me\") % 2**32 - 1)\n",
        "np.random.seed(hash(\"i am mohammed safi\") % 2**32 - 1)\n",
        "tf.random.set_seed(hash(\"ur rahman khan\") % 2**32 - 1)\n"
      ]
    },
    {
      "cell_type": "code",
      "source": [
        "from tensorflow.python.keras import backend as K\n",
        "K._get_available_gpus()"
      ],
      "metadata": {
        "colab": {
          "base_uri": "https://localhost:8080/"
        },
        "id": "RiNGDUatoyqw",
        "outputId": "e4a92fac-127c-482c-bde0-fdeccef296eb"
      },
      "execution_count": 2,
      "outputs": [
        {
          "output_type": "execute_result",
          "data": {
            "text/plain": [
              "['/device:GPU:0']"
            ]
          },
          "metadata": {},
          "execution_count": 2
        }
      ]
    },
    {
      "cell_type": "code",
      "source": [
        "!nvidia-smi"
      ],
      "metadata": {
        "colab": {
          "base_uri": "https://localhost:8080/"
        },
        "id": "Px49lI1ccxO4",
        "outputId": "6359988b-0fbe-4812-e8cd-c383604e8458"
      },
      "execution_count": 3,
      "outputs": [
        {
          "output_type": "stream",
          "name": "stdout",
          "text": [
            "Sat Mar 26 17:04:35 2022       \n",
            "+-----------------------------------------------------------------------------+\n",
            "| NVIDIA-SMI 460.32.03    Driver Version: 460.32.03    CUDA Version: 11.2     |\n",
            "|-------------------------------+----------------------+----------------------+\n",
            "| GPU  Name        Persistence-M| Bus-Id        Disp.A | Volatile Uncorr. ECC |\n",
            "| Fan  Temp  Perf  Pwr:Usage/Cap|         Memory-Usage | GPU-Util  Compute M. |\n",
            "|                               |                      |               MIG M. |\n",
            "|===============================+======================+======================|\n",
            "|   0  Tesla P100-PCIE...  Off  | 00000000:00:04.0 Off |                    0 |\n",
            "| N/A   33C    P0    32W / 250W |    375MiB / 16280MiB |      0%      Default |\n",
            "|                               |                      |                  N/A |\n",
            "+-------------------------------+----------------------+----------------------+\n",
            "                                                                               \n",
            "+-----------------------------------------------------------------------------+\n",
            "| Processes:                                                                  |\n",
            "|  GPU   GI   CI        PID   Type   Process name                  GPU Memory |\n",
            "|        ID   ID                                                   Usage      |\n",
            "|=============================================================================|\n",
            "+-----------------------------------------------------------------------------+\n"
          ]
        }
      ]
    },
    {
      "cell_type": "code",
      "source": [
        "!pip install wandb\n",
        "import wandb\n",
        "\n",
        "from wandb.keras import WandbCallback"
      ],
      "metadata": {
        "id": "ZRsWFbsjFs8w",
        "colab": {
          "base_uri": "https://localhost:8080/"
        },
        "outputId": "14aaf23d-4f3d-4348-e467-e6df15ae78a7"
      },
      "execution_count": 4,
      "outputs": [
        {
          "output_type": "stream",
          "name": "stdout",
          "text": [
            "Collecting wandb\n",
            "  Downloading wandb-0.12.11-py2.py3-none-any.whl (1.7 MB)\n",
            "\u001b[?25l\r\u001b[K     |▏                               | 10 kB 27.3 MB/s eta 0:00:01\r\u001b[K     |▍                               | 20 kB 20.7 MB/s eta 0:00:01\r\u001b[K     |▋                               | 30 kB 10.8 MB/s eta 0:00:01\r\u001b[K     |▊                               | 40 kB 8.6 MB/s eta 0:00:01\r\u001b[K     |█                               | 51 kB 4.5 MB/s eta 0:00:01\r\u001b[K     |█▏                              | 61 kB 5.3 MB/s eta 0:00:01\r\u001b[K     |█▎                              | 71 kB 5.4 MB/s eta 0:00:01\r\u001b[K     |█▌                              | 81 kB 5.4 MB/s eta 0:00:01\r\u001b[K     |█▊                              | 92 kB 6.0 MB/s eta 0:00:01\r\u001b[K     |█▉                              | 102 kB 5.1 MB/s eta 0:00:01\r\u001b[K     |██                              | 112 kB 5.1 MB/s eta 0:00:01\r\u001b[K     |██▎                             | 122 kB 5.1 MB/s eta 0:00:01\r\u001b[K     |██▍                             | 133 kB 5.1 MB/s eta 0:00:01\r\u001b[K     |██▋                             | 143 kB 5.1 MB/s eta 0:00:01\r\u001b[K     |██▉                             | 153 kB 5.1 MB/s eta 0:00:01\r\u001b[K     |███                             | 163 kB 5.1 MB/s eta 0:00:01\r\u001b[K     |███▏                            | 174 kB 5.1 MB/s eta 0:00:01\r\u001b[K     |███▍                            | 184 kB 5.1 MB/s eta 0:00:01\r\u001b[K     |███▋                            | 194 kB 5.1 MB/s eta 0:00:01\r\u001b[K     |███▊                            | 204 kB 5.1 MB/s eta 0:00:01\r\u001b[K     |████                            | 215 kB 5.1 MB/s eta 0:00:01\r\u001b[K     |████▏                           | 225 kB 5.1 MB/s eta 0:00:01\r\u001b[K     |████▎                           | 235 kB 5.1 MB/s eta 0:00:01\r\u001b[K     |████▌                           | 245 kB 5.1 MB/s eta 0:00:01\r\u001b[K     |████▊                           | 256 kB 5.1 MB/s eta 0:00:01\r\u001b[K     |████▉                           | 266 kB 5.1 MB/s eta 0:00:01\r\u001b[K     |█████                           | 276 kB 5.1 MB/s eta 0:00:01\r\u001b[K     |█████▎                          | 286 kB 5.1 MB/s eta 0:00:01\r\u001b[K     |█████▌                          | 296 kB 5.1 MB/s eta 0:00:01\r\u001b[K     |█████▋                          | 307 kB 5.1 MB/s eta 0:00:01\r\u001b[K     |█████▉                          | 317 kB 5.1 MB/s eta 0:00:01\r\u001b[K     |██████                          | 327 kB 5.1 MB/s eta 0:00:01\r\u001b[K     |██████▏                         | 337 kB 5.1 MB/s eta 0:00:01\r\u001b[K     |██████▍                         | 348 kB 5.1 MB/s eta 0:00:01\r\u001b[K     |██████▋                         | 358 kB 5.1 MB/s eta 0:00:01\r\u001b[K     |██████▊                         | 368 kB 5.1 MB/s eta 0:00:01\r\u001b[K     |███████                         | 378 kB 5.1 MB/s eta 0:00:01\r\u001b[K     |███████▏                        | 389 kB 5.1 MB/s eta 0:00:01\r\u001b[K     |███████▎                        | 399 kB 5.1 MB/s eta 0:00:01\r\u001b[K     |███████▌                        | 409 kB 5.1 MB/s eta 0:00:01\r\u001b[K     |███████▊                        | 419 kB 5.1 MB/s eta 0:00:01\r\u001b[K     |███████▉                        | 430 kB 5.1 MB/s eta 0:00:01\r\u001b[K     |████████                        | 440 kB 5.1 MB/s eta 0:00:01\r\u001b[K     |████████▎                       | 450 kB 5.1 MB/s eta 0:00:01\r\u001b[K     |████████▌                       | 460 kB 5.1 MB/s eta 0:00:01\r\u001b[K     |████████▋                       | 471 kB 5.1 MB/s eta 0:00:01\r\u001b[K     |████████▉                       | 481 kB 5.1 MB/s eta 0:00:01\r\u001b[K     |█████████                       | 491 kB 5.1 MB/s eta 0:00:01\r\u001b[K     |█████████▏                      | 501 kB 5.1 MB/s eta 0:00:01\r\u001b[K     |█████████▍                      | 512 kB 5.1 MB/s eta 0:00:01\r\u001b[K     |█████████▋                      | 522 kB 5.1 MB/s eta 0:00:01\r\u001b[K     |█████████▊                      | 532 kB 5.1 MB/s eta 0:00:01\r\u001b[K     |██████████                      | 542 kB 5.1 MB/s eta 0:00:01\r\u001b[K     |██████████▏                     | 552 kB 5.1 MB/s eta 0:00:01\r\u001b[K     |██████████▎                     | 563 kB 5.1 MB/s eta 0:00:01\r\u001b[K     |██████████▌                     | 573 kB 5.1 MB/s eta 0:00:01\r\u001b[K     |██████████▊                     | 583 kB 5.1 MB/s eta 0:00:01\r\u001b[K     |███████████                     | 593 kB 5.1 MB/s eta 0:00:01\r\u001b[K     |███████████                     | 604 kB 5.1 MB/s eta 0:00:01\r\u001b[K     |███████████▎                    | 614 kB 5.1 MB/s eta 0:00:01\r\u001b[K     |███████████▌                    | 624 kB 5.1 MB/s eta 0:00:01\r\u001b[K     |███████████▋                    | 634 kB 5.1 MB/s eta 0:00:01\r\u001b[K     |███████████▉                    | 645 kB 5.1 MB/s eta 0:00:01\r\u001b[K     |████████████                    | 655 kB 5.1 MB/s eta 0:00:01\r\u001b[K     |████████████▏                   | 665 kB 5.1 MB/s eta 0:00:01\r\u001b[K     |████████████▍                   | 675 kB 5.1 MB/s eta 0:00:01\r\u001b[K     |████████████▋                   | 686 kB 5.1 MB/s eta 0:00:01\r\u001b[K     |████████████▊                   | 696 kB 5.1 MB/s eta 0:00:01\r\u001b[K     |█████████████                   | 706 kB 5.1 MB/s eta 0:00:01\r\u001b[K     |█████████████▏                  | 716 kB 5.1 MB/s eta 0:00:01\r\u001b[K     |█████████████▍                  | 727 kB 5.1 MB/s eta 0:00:01\r\u001b[K     |█████████████▌                  | 737 kB 5.1 MB/s eta 0:00:01\r\u001b[K     |█████████████▊                  | 747 kB 5.1 MB/s eta 0:00:01\r\u001b[K     |██████████████                  | 757 kB 5.1 MB/s eta 0:00:01\r\u001b[K     |██████████████                  | 768 kB 5.1 MB/s eta 0:00:01\r\u001b[K     |██████████████▎                 | 778 kB 5.1 MB/s eta 0:00:01\r\u001b[K     |██████████████▌                 | 788 kB 5.1 MB/s eta 0:00:01\r\u001b[K     |██████████████▋                 | 798 kB 5.1 MB/s eta 0:00:01\r\u001b[K     |██████████████▉                 | 808 kB 5.1 MB/s eta 0:00:01\r\u001b[K     |███████████████                 | 819 kB 5.1 MB/s eta 0:00:01\r\u001b[K     |███████████████▏                | 829 kB 5.1 MB/s eta 0:00:01\r\u001b[K     |███████████████▍                | 839 kB 5.1 MB/s eta 0:00:01\r\u001b[K     |███████████████▋                | 849 kB 5.1 MB/s eta 0:00:01\r\u001b[K     |███████████████▊                | 860 kB 5.1 MB/s eta 0:00:01\r\u001b[K     |████████████████                | 870 kB 5.1 MB/s eta 0:00:01\r\u001b[K     |████████████████▏               | 880 kB 5.1 MB/s eta 0:00:01\r\u001b[K     |████████████████▍               | 890 kB 5.1 MB/s eta 0:00:01\r\u001b[K     |████████████████▌               | 901 kB 5.1 MB/s eta 0:00:01\r\u001b[K     |████████████████▊               | 911 kB 5.1 MB/s eta 0:00:01\r\u001b[K     |█████████████████               | 921 kB 5.1 MB/s eta 0:00:01\r\u001b[K     |█████████████████               | 931 kB 5.1 MB/s eta 0:00:01\r\u001b[K     |█████████████████▎              | 942 kB 5.1 MB/s eta 0:00:01\r\u001b[K     |█████████████████▌              | 952 kB 5.1 MB/s eta 0:00:01\r\u001b[K     |█████████████████▋              | 962 kB 5.1 MB/s eta 0:00:01\r\u001b[K     |█████████████████▉              | 972 kB 5.1 MB/s eta 0:00:01\r\u001b[K     |██████████████████              | 983 kB 5.1 MB/s eta 0:00:01\r\u001b[K     |██████████████████▏             | 993 kB 5.1 MB/s eta 0:00:01\r\u001b[K     |██████████████████▍             | 1.0 MB 5.1 MB/s eta 0:00:01\r\u001b[K     |██████████████████▋             | 1.0 MB 5.1 MB/s eta 0:00:01\r\u001b[K     |██████████████████▉             | 1.0 MB 5.1 MB/s eta 0:00:01\r\u001b[K     |███████████████████             | 1.0 MB 5.1 MB/s eta 0:00:01\r\u001b[K     |███████████████████▏            | 1.0 MB 5.1 MB/s eta 0:00:01\r\u001b[K     |███████████████████▍            | 1.1 MB 5.1 MB/s eta 0:00:01\r\u001b[K     |███████████████████▌            | 1.1 MB 5.1 MB/s eta 0:00:01\r\u001b[K     |███████████████████▊            | 1.1 MB 5.1 MB/s eta 0:00:01\r\u001b[K     |████████████████████            | 1.1 MB 5.1 MB/s eta 0:00:01\r\u001b[K     |████████████████████            | 1.1 MB 5.1 MB/s eta 0:00:01\r\u001b[K     |████████████████████▎           | 1.1 MB 5.1 MB/s eta 0:00:01\r\u001b[K     |████████████████████▌           | 1.1 MB 5.1 MB/s eta 0:00:01\r\u001b[K     |████████████████████▋           | 1.1 MB 5.1 MB/s eta 0:00:01\r\u001b[K     |████████████████████▉           | 1.1 MB 5.1 MB/s eta 0:00:01\r\u001b[K     |█████████████████████           | 1.1 MB 5.1 MB/s eta 0:00:01\r\u001b[K     |█████████████████████▏          | 1.2 MB 5.1 MB/s eta 0:00:01\r\u001b[K     |█████████████████████▍          | 1.2 MB 5.1 MB/s eta 0:00:01\r\u001b[K     |█████████████████████▋          | 1.2 MB 5.1 MB/s eta 0:00:01\r\u001b[K     |█████████████████████▉          | 1.2 MB 5.1 MB/s eta 0:00:01\r\u001b[K     |██████████████████████          | 1.2 MB 5.1 MB/s eta 0:00:01\r\u001b[K     |██████████████████████▏         | 1.2 MB 5.1 MB/s eta 0:00:01\r\u001b[K     |██████████████████████▍         | 1.2 MB 5.1 MB/s eta 0:00:01\r\u001b[K     |██████████████████████▌         | 1.2 MB 5.1 MB/s eta 0:00:01\r\u001b[K     |██████████████████████▊         | 1.2 MB 5.1 MB/s eta 0:00:01\r\u001b[K     |███████████████████████         | 1.2 MB 5.1 MB/s eta 0:00:01\r\u001b[K     |███████████████████████         | 1.3 MB 5.1 MB/s eta 0:00:01\r\u001b[K     |███████████████████████▎        | 1.3 MB 5.1 MB/s eta 0:00:01\r\u001b[K     |███████████████████████▌        | 1.3 MB 5.1 MB/s eta 0:00:01\r\u001b[K     |███████████████████████▋        | 1.3 MB 5.1 MB/s eta 0:00:01\r\u001b[K     |███████████████████████▉        | 1.3 MB 5.1 MB/s eta 0:00:01\r\u001b[K     |████████████████████████        | 1.3 MB 5.1 MB/s eta 0:00:01\r\u001b[K     |████████████████████████▎       | 1.3 MB 5.1 MB/s eta 0:00:01\r\u001b[K     |████████████████████████▍       | 1.3 MB 5.1 MB/s eta 0:00:01\r\u001b[K     |████████████████████████▋       | 1.3 MB 5.1 MB/s eta 0:00:01\r\u001b[K     |████████████████████████▉       | 1.4 MB 5.1 MB/s eta 0:00:01\r\u001b[K     |█████████████████████████       | 1.4 MB 5.1 MB/s eta 0:00:01\r\u001b[K     |█████████████████████████▏      | 1.4 MB 5.1 MB/s eta 0:00:01\r\u001b[K     |█████████████████████████▍      | 1.4 MB 5.1 MB/s eta 0:00:01\r\u001b[K     |█████████████████████████▌      | 1.4 MB 5.1 MB/s eta 0:00:01\r\u001b[K     |█████████████████████████▊      | 1.4 MB 5.1 MB/s eta 0:00:01\r\u001b[K     |██████████████████████████      | 1.4 MB 5.1 MB/s eta 0:00:01\r\u001b[K     |██████████████████████████      | 1.4 MB 5.1 MB/s eta 0:00:01\r\u001b[K     |██████████████████████████▎     | 1.4 MB 5.1 MB/s eta 0:00:01\r\u001b[K     |██████████████████████████▌     | 1.4 MB 5.1 MB/s eta 0:00:01\r\u001b[K     |██████████████████████████▊     | 1.5 MB 5.1 MB/s eta 0:00:01\r\u001b[K     |██████████████████████████▉     | 1.5 MB 5.1 MB/s eta 0:00:01\r\u001b[K     |███████████████████████████     | 1.5 MB 5.1 MB/s eta 0:00:01\r\u001b[K     |███████████████████████████▎    | 1.5 MB 5.1 MB/s eta 0:00:01\r\u001b[K     |███████████████████████████▍    | 1.5 MB 5.1 MB/s eta 0:00:01\r\u001b[K     |███████████████████████████▋    | 1.5 MB 5.1 MB/s eta 0:00:01\r\u001b[K     |███████████████████████████▉    | 1.5 MB 5.1 MB/s eta 0:00:01\r\u001b[K     |████████████████████████████    | 1.5 MB 5.1 MB/s eta 0:00:01\r\u001b[K     |████████████████████████████▏   | 1.5 MB 5.1 MB/s eta 0:00:01\r\u001b[K     |████████████████████████████▍   | 1.5 MB 5.1 MB/s eta 0:00:01\r\u001b[K     |████████████████████████████▌   | 1.6 MB 5.1 MB/s eta 0:00:01\r\u001b[K     |████████████████████████████▊   | 1.6 MB 5.1 MB/s eta 0:00:01\r\u001b[K     |█████████████████████████████   | 1.6 MB 5.1 MB/s eta 0:00:01\r\u001b[K     |█████████████████████████████   | 1.6 MB 5.1 MB/s eta 0:00:01\r\u001b[K     |█████████████████████████████▎  | 1.6 MB 5.1 MB/s eta 0:00:01\r\u001b[K     |█████████████████████████████▌  | 1.6 MB 5.1 MB/s eta 0:00:01\r\u001b[K     |█████████████████████████████▊  | 1.6 MB 5.1 MB/s eta 0:00:01\r\u001b[K     |█████████████████████████████▉  | 1.6 MB 5.1 MB/s eta 0:00:01\r\u001b[K     |██████████████████████████████  | 1.6 MB 5.1 MB/s eta 0:00:01\r\u001b[K     |██████████████████████████████▎ | 1.6 MB 5.1 MB/s eta 0:00:01\r\u001b[K     |██████████████████████████████▍ | 1.7 MB 5.1 MB/s eta 0:00:01\r\u001b[K     |██████████████████████████████▋ | 1.7 MB 5.1 MB/s eta 0:00:01\r\u001b[K     |██████████████████████████████▉ | 1.7 MB 5.1 MB/s eta 0:00:01\r\u001b[K     |███████████████████████████████ | 1.7 MB 5.1 MB/s eta 0:00:01\r\u001b[K     |███████████████████████████████▏| 1.7 MB 5.1 MB/s eta 0:00:01\r\u001b[K     |███████████████████████████████▍| 1.7 MB 5.1 MB/s eta 0:00:01\r\u001b[K     |███████████████████████████████▌| 1.7 MB 5.1 MB/s eta 0:00:01\r\u001b[K     |███████████████████████████████▊| 1.7 MB 5.1 MB/s eta 0:00:01\r\u001b[K     |████████████████████████████████| 1.7 MB 5.1 MB/s eta 0:00:01\r\u001b[K     |████████████████████████████████| 1.7 MB 5.1 MB/s \n",
            "\u001b[?25hCollecting yaspin>=1.0.0\n",
            "  Downloading yaspin-2.1.0-py3-none-any.whl (18 kB)\n",
            "Requirement already satisfied: python-dateutil>=2.6.1 in /usr/local/lib/python3.7/dist-packages (from wandb) (2.8.2)\n",
            "Requirement already satisfied: six>=1.13.0 in /usr/local/lib/python3.7/dist-packages (from wandb) (1.15.0)\n",
            "Collecting docker-pycreds>=0.4.0\n",
            "  Downloading docker_pycreds-0.4.0-py2.py3-none-any.whl (9.0 kB)\n",
            "Collecting sentry-sdk>=1.0.0\n",
            "  Downloading sentry_sdk-1.5.8-py2.py3-none-any.whl (144 kB)\n",
            "\u001b[K     |████████████████████████████████| 144 kB 62.9 MB/s \n",
            "\u001b[?25hRequirement already satisfied: promise<3,>=2.0 in /usr/local/lib/python3.7/dist-packages (from wandb) (2.3)\n",
            "Collecting GitPython>=1.0.0\n",
            "  Downloading GitPython-3.1.27-py3-none-any.whl (181 kB)\n",
            "\u001b[K     |████████████████████████████████| 181 kB 73.4 MB/s \n",
            "\u001b[?25hRequirement already satisfied: psutil>=5.0.0 in /usr/local/lib/python3.7/dist-packages (from wandb) (5.4.8)\n",
            "Collecting setproctitle\n",
            "  Downloading setproctitle-1.2.2-cp37-cp37m-manylinux1_x86_64.whl (36 kB)\n",
            "Requirement already satisfied: Click!=8.0.0,>=7.0 in /usr/local/lib/python3.7/dist-packages (from wandb) (7.1.2)\n",
            "Requirement already satisfied: requests<3,>=2.0.0 in /usr/local/lib/python3.7/dist-packages (from wandb) (2.23.0)\n",
            "Collecting shortuuid>=0.5.0\n",
            "  Downloading shortuuid-1.0.8-py3-none-any.whl (9.5 kB)\n",
            "Requirement already satisfied: protobuf>=3.12.0 in /usr/local/lib/python3.7/dist-packages (from wandb) (3.17.3)\n",
            "Collecting pathtools\n",
            "  Downloading pathtools-0.1.2.tar.gz (11 kB)\n",
            "Requirement already satisfied: PyYAML in /usr/local/lib/python3.7/dist-packages (from wandb) (3.13)\n",
            "Collecting gitdb<5,>=4.0.1\n",
            "  Downloading gitdb-4.0.9-py3-none-any.whl (63 kB)\n",
            "\u001b[K     |████████████████████████████████| 63 kB 2.3 MB/s \n",
            "\u001b[?25hRequirement already satisfied: typing-extensions>=3.7.4.3 in /usr/local/lib/python3.7/dist-packages (from GitPython>=1.0.0->wandb) (3.10.0.2)\n",
            "Collecting smmap<6,>=3.0.1\n",
            "  Downloading smmap-5.0.0-py3-none-any.whl (24 kB)\n",
            "Requirement already satisfied: idna<3,>=2.5 in /usr/local/lib/python3.7/dist-packages (from requests<3,>=2.0.0->wandb) (2.10)\n",
            "Requirement already satisfied: certifi>=2017.4.17 in /usr/local/lib/python3.7/dist-packages (from requests<3,>=2.0.0->wandb) (2021.10.8)\n",
            "Requirement already satisfied: urllib3!=1.25.0,!=1.25.1,<1.26,>=1.21.1 in /usr/local/lib/python3.7/dist-packages (from requests<3,>=2.0.0->wandb) (1.24.3)\n",
            "Requirement already satisfied: chardet<4,>=3.0.2 in /usr/local/lib/python3.7/dist-packages (from requests<3,>=2.0.0->wandb) (3.0.4)\n",
            "Requirement already satisfied: termcolor<2.0.0,>=1.1.0 in /usr/local/lib/python3.7/dist-packages (from yaspin>=1.0.0->wandb) (1.1.0)\n",
            "Building wheels for collected packages: pathtools\n",
            "  Building wheel for pathtools (setup.py) ... \u001b[?25l\u001b[?25hdone\n",
            "  Created wheel for pathtools: filename=pathtools-0.1.2-py3-none-any.whl size=8806 sha256=b6b67fe7cc3f787a42d99a0a46a59aa1df8c8848d1c24ab89f9ba96459021583\n",
            "  Stored in directory: /root/.cache/pip/wheels/3e/31/09/fa59cef12cdcfecc627b3d24273699f390e71828921b2cbba2\n",
            "Successfully built pathtools\n",
            "Installing collected packages: smmap, gitdb, yaspin, shortuuid, setproctitle, sentry-sdk, pathtools, GitPython, docker-pycreds, wandb\n",
            "Successfully installed GitPython-3.1.27 docker-pycreds-0.4.0 gitdb-4.0.9 pathtools-0.1.2 sentry-sdk-1.5.8 setproctitle-1.2.2 shortuuid-1.0.8 smmap-5.0.0 wandb-0.12.11 yaspin-2.1.0\n"
          ]
        }
      ]
    },
    {
      "cell_type": "code",
      "source": [
        "from google.colab import drive\n",
        "drive.mount('/content/drive')"
      ],
      "metadata": {
        "id": "CY6uKcSlGSjG",
        "colab": {
          "base_uri": "https://localhost:8080/"
        },
        "outputId": "36bf93c3-a2ce-4a96-e088-f373294be640"
      },
      "execution_count": 5,
      "outputs": [
        {
          "output_type": "stream",
          "name": "stdout",
          "text": [
            "Mounted at /content/drive\n"
          ]
        }
      ]
    },
    {
      "cell_type": "code",
      "source": [
        "# # Creating a CNN: number of filters, size of filters, activation function has to be \n",
        "# # user specified\n",
        "# img_shape=(256,256,3)\n",
        "# def build_cnn( batch_norm, num_filters, dropout, conv_activation, dense_activation, filter_size, pool_kernel_size, dense_layer):\n",
        "#   # batch_norm       : \"Boolean\" set to True, if you are using batch normalization\n",
        "#   # num_filters      : \"List\" number of activation filters for each layer\n",
        "#   # dropout          : \"float or double\" specify the dropout % for regularization (in decimals)\n",
        "#   # conv_activation  : \"List\" activation used for convolution layer\n",
        "#   # dense_activation : \"String\" acitvation used for densely connected layers\n",
        "#   # filter_size      : \"List\" kernel sizes for convultion layers\n",
        "#   # pool_kernel_size : \"List\" kernel sizes for maxpooling layers\n",
        "#   # dense_layer      : \"Integer\" number of neurons in the dense layer\n",
        "  \n",
        "  \n",
        "#   model=Sequential()\n",
        "#   # Adding the first conv,activ,maxpool layers\n",
        "#   model.add(Conv2D(filters = num_filters[0],\n",
        "#                    kernel_size = filter_size[0],\n",
        "#                    input_shape=img_shape))\n",
        "  \n",
        "#   # Add batch normalization layer, if the user specifies\n",
        "#   if batch_norm:\n",
        "#     model.add(BatchNormalization())\n",
        "  \n",
        "#   model.add(Activation(conv_activation[0]))\n",
        "\n",
        "#   model.add(MaxPool2D(pool_size = pool_kernel_size[0], strides = (2,2)))\n",
        "\n",
        "#   # Adding the next 4 layer blocks\n",
        "#   for i in range(1,5):\n",
        "#     model.add(Conv2D(filters = num_filters[i],kernel_size = filter_size[i]))\n",
        "#     if batch_norm:\n",
        "#       model.add(BatchNormalization())\n",
        "#     model.add(Activation(conv_activation[i]))\n",
        "#     model.add(MaxPool2D(pool_size = pool_kernel_size[i], strides = (2,2)))\n",
        "  \n",
        "#   # Flattening the feature map to a column vector\n",
        "#   model.add(Flatten())\n",
        "#   model.add(Dense(units = dense_layer, activation = dense_activation))\n",
        "#   # Adding dropout regularization\n",
        "#   model.add(Dropout(dropout))\n",
        "#   # Adding the final Dense layer with dimensions equal to number of classes and softmax activation\n",
        "#   model.add(Dense(10, activation = \"softmax\"))\n",
        "\n",
        "#   return model\n"
      ],
      "metadata": {
        "id": "5Wg2lDFoRLyc"
      },
      "execution_count": 5,
      "outputs": []
    },
    {
      "cell_type": "code",
      "source": [
        "# Creating a CNN: number of filters, size of filters, activation function has to be \n",
        "# user specified\n",
        "img_shape=(256,256,3)\n",
        "def build_cnn(conv_activation , dense_activation, num_filters, conv_filter_size, pool_filter_size, batch_norm, dense_layer, dropout):\n",
        "  # conv_activation         : \"List\" activation used for convolution layer\n",
        "  # dense_act        : \"String\" acitvation used for densely connected layers\n",
        "  # num_filters      : \"List\" number of activation filters for each layer\n",
        "  # conv_filter_size : \"List\" kernel sizes for convultion layers\n",
        "  # pool_filter_size : \"List\" kernel sizes for maxpooling layers\n",
        "  # batch_norm       : \"Boolean\" set to True, if you are using batch normalization\n",
        "  # dim_final        : \"Integer\" dimensionality of output space after 5 blocks of convultion, maxpooling blocks\n",
        "  # dropout          : \"float or double\" specify the dropout % for regularization (in decimals)\n",
        "  \n",
        "  model=Sequential()\n",
        "  # Adding the first conv,activ,maxpool layers\n",
        "  model.add(Conv2D(filters=num_filters[0],\n",
        "                   kernel_size=conv_filter_size[0],\n",
        "                   input_shape=img_shape))\n",
        "  \n",
        "  # Add batch normalization layer, if the user specifies\n",
        "  if batch_norm:\n",
        "    model.add(BatchNormalization())\n",
        "  \n",
        "  model.add(Activation(conv_activation[0]))\n",
        "  model.add(MaxPool2D(pool_size=pool_filter_size[0],strides=(2,2)))\n",
        "\n",
        "  # Adding the next 4 layer blocks\n",
        "  for i in range(1,5):\n",
        "    model.add(Conv2D(filters=num_filters[i],kernel_size=conv_filter_size[i]))\n",
        "    if batch_norm:\n",
        "      model.add(BatchNormalization())\n",
        "    model.add(Activation(conv_activation[i]))\n",
        "    model.add(MaxPool2D(pool_size=pool_filter_size[i],strides=(2,2)))\n",
        "  \n",
        "  # Flattening the feature map to a column vector\n",
        "  model.add(Flatten())\n",
        "  model.add(Dense(units=dense_layer ,activation = dense_activation))\n",
        "  # Adding dropout regularization\n",
        "  model.add(Dropout(dropout))\n",
        "  # Adding the final Dense layer with dimensions equal to number of classes and softmax activation\n",
        "  model.add(Dense(10,activation=\"softmax\"))\n",
        "\n",
        "  return model"
      ],
      "metadata": {
        "id": "tId6nXDptlrm"
      },
      "execution_count": 18,
      "outputs": []
    },
    {
      "cell_type": "code",
      "source": [
        "conv=[\"relu\",\"relu\",\"relu\",\"relu\",\"relu\"]\n",
        "den=\"relu\"\n",
        "filt=[32,64,128,256,512]\n",
        "conv_size=[(3, 3), (3, 3), (3, 3), (5, 5), (7, 7)]\n",
        "pool_size = [(2, 2), (2, 2), (2, 2), (2, 2), (2, 2)]\n",
        "model=build_cnn(conv,den,filt,conv_size,pool_size,True,512,0.8)"
      ],
      "metadata": {
        "id": "VCP7oioPtxKg"
      },
      "execution_count": 7,
      "outputs": []
    },
    {
      "cell_type": "markdown",
      "source": [
        "Input pipeline for image classification reference :\n",
        "https://towardsdatascience.com/what-is-the-best-input-pipeline-to-train-image-classification-models-with-tf-keras-eb3fe26d3cc5"
      ],
      "metadata": {
        "id": "p2qktvDTENP9"
      }
    },
    {
      "cell_type": "code",
      "source": [
        "# Dataset without augmentation\n",
        "\n",
        "# Enter the path of dataset\n",
        "path=r\"/content/drive/MyDrive/nature_12K/inaturalist_12K/train\"\n",
        "\n",
        "# Training dataset:\n",
        "train_dataset=tf.keras.preprocessing.image_dataset_from_directory(\n",
        "    directory=path,\n",
        "    labels='inferred',\n",
        "    label_mode='categorical',\n",
        "    color_mode='rgb',\n",
        "    batch_size=32,\n",
        "    image_size=(256,256),\n",
        "    shuffle=True,\n",
        "    seed=19,\n",
        "    validation_split=0.1,\n",
        "    subset='training'\n",
        ")\n",
        "# Validation dataset:\n",
        "valid_dataset=tf.keras.preprocessing.image_dataset_from_directory(\n",
        "    directory=path,\n",
        "    labels='inferred',\n",
        "    label_mode='categorical',\n",
        "    color_mode='rgb',\n",
        "    batch_size=32,\n",
        "    image_size=(256,256),\n",
        "    shuffle=True,\n",
        "    seed=19,\n",
        "    validation_split=0.1,\n",
        "    subset='validation'\n",
        ")"
      ],
      "metadata": {
        "id": "NSN6_D4rfk0V",
        "colab": {
          "base_uri": "https://localhost:8080/"
        },
        "outputId": "ec5ae589-eb74-4803-ac65-fa5a1a230c95"
      },
      "execution_count": 12,
      "outputs": [
        {
          "output_type": "stream",
          "name": "stdout",
          "text": [
            "Found 9999 files belonging to 10 classes.\n",
            "Using 9000 files for training.\n",
            "Found 9999 files belonging to 10 classes.\n",
            "Using 999 files for validation.\n"
          ]
        }
      ]
    },
    {
      "cell_type": "code",
      "source": [
        "len_train,len_valid=len(train_dataset),len(valid_dataset)\n",
        "# # Retaining 10% of data for hyperparameter tuning\n",
        "# train_data=train_dataset.take(int(0.9*len_train))\n",
        "# valid_data=valid_dataset.take(int(0.1*len_valid))\n",
        "print(len(train_dataset))"
      ],
      "metadata": {
        "id": "3Ya9UDKmBjqe",
        "colab": {
          "base_uri": "https://localhost:8080/"
        },
        "outputId": "22e9c96a-9fd4-4ea3-c493-0fd66af6b381"
      },
      "execution_count": 13,
      "outputs": [
        {
          "output_type": "stream",
          "name": "stdout",
          "text": [
            "282\n"
          ]
        }
      ]
    },
    {
      "cell_type": "code",
      "source": [
        "# Dataset with augmentation\n",
        "path=r\"/content/drive/MyDrive/nature_12K/inaturalist_12K/train\"\n",
        "training_data_augmentation=ImageDataGenerator(rescale=1./255,\n",
        "                                        height_shift_range=0.2,\n",
        "                                        width_shift_range=0.2,\n",
        "                                        horizontal_flip=True,\n",
        "                                        zoom_range=0.2,\n",
        "                                        fill_mode=\"nearest\",\n",
        "                                        validation_split = 0.1)\n",
        "\n",
        "# Validation data is not being augmented\n",
        "validation_data_augmentation=ImageDataGenerator(\n",
        "    validation_split=0.1\n",
        ")\n",
        "\n",
        "train_aug=training_data_augmentation.flow_from_directory(path,shuffle=True,seed=19,subset='training')\n",
        "valid_aug=validation_data_augmentation.flow_from_directory(path,shuffle=True,seed=19,subset='validation')\n",
        "\n"
      ],
      "metadata": {
        "id": "Hsdo-tPv0u3t",
        "colab": {
          "base_uri": "https://localhost:8080/"
        },
        "outputId": "1b8937e1-a341-4a32-e8b7-c4264551c329"
      },
      "execution_count": 17,
      "outputs": [
        {
          "output_type": "stream",
          "name": "stdout",
          "text": [
            "Found 9000 images belonging to 10 classes.\n",
            "Found 999 images belonging to 10 classes.\n"
          ]
        }
      ]
    },
    {
      "cell_type": "code",
      "source": [
        "model.compile(optimizer=tf.keras.optimizers.Adam(learning_rate=0.0001),\n",
        "              loss=tf.keras.losses.CategoricalCrossentropy(name='loss'),\n",
        "              metrics=[tf.keras.metrics.CategoricalAccuracy(name='acc')])\n",
        "\n",
        "history=model.fit(x=train_aug,\n",
        "                  epochs=10,\n",
        "                  validation_data=valid_aug,callbacks = [tf.keras.callbacks.EarlyStopping(monitor = 'val_acc', patience = 5)]\n",
        "                  )"
      ],
      "metadata": {
        "id": "7u0hpnXiFD9l",
        "colab": {
          "base_uri": "https://localhost:8080/"
        },
        "outputId": "5d05a861-6920-42b2-baa8-429ed70ee460"
      },
      "execution_count": 18,
      "outputs": [
        {
          "output_type": "stream",
          "name": "stdout",
          "text": [
            "Epoch 1/10\n",
            "282/282 [==============================] - 240s 850ms/step - loss: 2.1631 - acc: 0.2042 - val_loss: 6.4374 - val_acc: 0.1311\n",
            "Epoch 2/10\n",
            "282/282 [==============================] - 234s 829ms/step - loss: 2.1433 - acc: 0.2123 - val_loss: 5.8009 - val_acc: 0.1512\n",
            "Epoch 3/10\n",
            "282/282 [==============================] - 233s 825ms/step - loss: 2.1249 - acc: 0.2214 - val_loss: 26.9332 - val_acc: 0.1481\n",
            "Epoch 4/10\n",
            "282/282 [==============================] - 232s 824ms/step - loss: 2.1291 - acc: 0.2188 - val_loss: 109.4804 - val_acc: 0.1301\n",
            "Epoch 5/10\n",
            "282/282 [==============================] - 245s 869ms/step - loss: 2.0949 - acc: 0.2309 - val_loss: 106.5589 - val_acc: 0.1732\n",
            "Epoch 6/10\n",
            "282/282 [==============================] - 241s 856ms/step - loss: 2.0807 - acc: 0.2476 - val_loss: 82.7952 - val_acc: 0.1411\n",
            "Epoch 7/10\n",
            "282/282 [==============================] - 234s 828ms/step - loss: 2.0762 - acc: 0.2507 - val_loss: 151.6951 - val_acc: 0.1692\n",
            "Epoch 8/10\n",
            "282/282 [==============================] - 235s 833ms/step - loss: 2.0577 - acc: 0.2646 - val_loss: 77.5727 - val_acc: 0.1612\n",
            "Epoch 9/10\n",
            "282/282 [==============================] - 233s 826ms/step - loss: 2.0474 - acc: 0.2682 - val_loss: 163.1140 - val_acc: 0.2022\n",
            "Epoch 10/10\n",
            "282/282 [==============================] - 240s 851ms/step - loss: 2.0488 - acc: 0.2664 - val_loss: 272.3186 - val_acc: 0.2132\n"
          ]
        }
      ]
    },
    {
      "cell_type": "code",
      "source": [
        "def get_data():\n",
        "    path=r\"/content/drive/MyDrive/nature_12K/inaturalist_12K/train\"\n",
        "\n",
        "    # Training dataset:\n",
        "    train_dataset=tf.keras.preprocessing.image_dataset_from_directory(\n",
        "        directory=path,\n",
        "        labels='inferred',\n",
        "        label_mode='categorical',\n",
        "        color_mode='rgb',\n",
        "        batch_size=32,\n",
        "        image_size=(256,256),\n",
        "        shuffle=True,\n",
        "        seed=19,\n",
        "        validation_split=0.1,\n",
        "        subset='training'\n",
        "    )\n",
        "    # Validation dataset:\n",
        "    valid_dataset=tf.keras.preprocessing.image_dataset_from_directory(\n",
        "        directory=path,\n",
        "        labels='inferred',\n",
        "        label_mode='categorical',\n",
        "        color_mode='rgb',\n",
        "        batch_size=32,\n",
        "        image_size=(256,256),\n",
        "        shuffle=True,\n",
        "        seed=19,\n",
        "        validation_split=0.1,\n",
        "        subset='validation'\n",
        "    )\n",
        "    \n",
        "    #return train_data, valid_data\n",
        "    return train_dataset, valid_dataset\n"
      ],
      "metadata": {
        "id": "CAzJVYB3lhhR"
      },
      "execution_count": 19,
      "outputs": []
    },
    {
      "cell_type": "code",
      "source": [
        "def get_augmented_data():\n",
        "    training_data_augmentation=ImageDataGenerator(rescale=1./255,\n",
        "                                        height_shift_range=0.2,\n",
        "                                        width_shift_range=0.2,\n",
        "                                        horizontal_flip=True,\n",
        "                                        zoom_range=0.2,\n",
        "                                        fill_mode=\"nearest\",\n",
        "                                        validation_split = 0.1)\n",
        "\n",
        "    # Validation data is not being augmented\n",
        "    validation_data_augmentation=ImageDataGenerator(\n",
        "        validation_split=0.1\n",
        "    )\n",
        "\n",
        "    train_aug=training_data_augmentation.flow_from_directory(path,shuffle=True,seed=19,subset='training')\n",
        "    valid_aug=validation_data_augmentation.flow_from_directory(path,shuffle=True,seed=19,subset='validation')\n",
        "\n",
        "    return train_aug, valid_aug\n"
      ],
      "metadata": {
        "id": "LG295gra7PM_"
      },
      "execution_count": 20,
      "outputs": []
    },
    {
      "cell_type": "code",
      "source": [
        "def train():\n",
        "    config_defaults = {\n",
        "      'batch_norm': True,\n",
        "      'num_filters': 32,\n",
        "      'filter_org': 0.5,\n",
        "      'dropout': 0.0,\n",
        "      'data_augmentation': True,\n",
        "      'num_epochs' : 10,\n",
        "      'batch_size': 64,\n",
        "      'dense_layer': 64,\n",
        "      'learning_rate': 0.001,\n",
        "      'kernel_size': 3\n",
        "      \n",
        "    }\n",
        "\n",
        "  # Initializing the wandb run\n",
        "    wandb.init(config=config_defaults)\n",
        "    config = wandb.config\n",
        "\n",
        "    conv_activation = [\"relu\",\"relu\",\"relu\",\"relu\",\"relu\"]\n",
        "    dense_activation = \"relu\"\n",
        "\n",
        "    num_filters = []\n",
        "    filters = config.num_filters\n",
        "    for i in range(5):\n",
        "        num_filters.append(filters)\n",
        "        filters = filters * config.filter_org\n",
        "    \n",
        "    conv_filter_size = []\n",
        "    F = config.kernel_size\n",
        "    for i in range(5):\n",
        "        conv_filter_size.append((F,F))\n",
        "\n",
        "    pool_filter_size = [(2, 2), (2, 2), (2, 2), (2, 2), (2, 2)]\n",
        "    \n",
        "   \n",
        "    #tf.keras.backend.clear_session()\n",
        "\n",
        "    #Creating model architecture here\n",
        "    model = build_cnn(conv_activation, dense_activation, num_filters, conv_filter_size, \n",
        "                      pool_filter_size, config.batch_norm, config.dense_layer, \n",
        "                      config.dropout)\n",
        "    model.summary()\n",
        "\n",
        "    #Getting the data here\n",
        "\n",
        "\n",
        "    if config.data_augmentation:\n",
        "        train_data, valid_data = get_augmented_data()\n",
        "    else:\n",
        "        train_data, valid_data = get_data()\n",
        "\n",
        "    name_run = str(config.batch_norm) + \"_\" + str(config.num_filters) + \\\n",
        "                \"_\" + str(config.filter_org) + \"_\" + str(config.dropout) + \\\n",
        "                \"_\" + str(config.data_augmentation) + \"_\" + str(config.num_epochs)\n",
        "    \n",
        "    wandb.run.name = name_run\n",
        "    wandb_log = True\n",
        "\n",
        "    model.compile(optimizer = tf.keras.optimizers.Adam(learning_rate=0.0001),\n",
        "              loss = tf.keras.losses.CategoricalCrossentropy(name='loss'),\n",
        "              metrics = [tf.keras.metrics.CategoricalAccuracy(name='acc')])\n",
        "\n",
        "    history = model.fit(x = train_data,\n",
        "                  epochs=10,\n",
        "                  validation_data=valid_data,\n",
        "                  callbacks = [WandbCallback()]\n",
        "                  )\n",
        "\n",
        "    #wandb.run.save()\n",
        "    wandb.run.finish()\n",
        "\n",
        "\n",
        "\n",
        "\n",
        "\n"
      ],
      "metadata": {
        "id": "RawG5bqA08E4"
      },
      "execution_count": 21,
      "outputs": []
    },
    {
      "cell_type": "code",
      "source": [
        "entity_name = \"safi-vamsi-cs6910\"\n",
        "project_name = \"Assignment 2\""
      ],
      "metadata": {
        "id": "bxzwlniIJ2w0"
      },
      "execution_count": 26,
      "outputs": []
    },
    {
      "cell_type": "code",
      "source": [
        "def sweeper(entity_name, project_name):\n",
        "    #Declaring the necessary hyperparameters.\n",
        "    hyperparameters={\n",
        "    \n",
        "    'batch_norm': {\n",
        "        'values':[True, False]\n",
        "    },\n",
        "    'num_filter':{\n",
        "        'values':[32, 64, 128, 256]\n",
        "\n",
        "    },\n",
        "\n",
        "    'filter_org':{\n",
        "        'values':[0.5, 1, 2]\n",
        "    },\n",
        "\n",
        "    'dropout':{\n",
        "        'values':[0.0, 0.5, 0.6, 0.4]\n",
        "    },\n",
        "\n",
        "    'data_augmentation':{\n",
        "        'values':[True, False]\n",
        "    },\n",
        "\n",
        "    'num_epochs': {\n",
        "        'values':[10, 20, 30]\n",
        "    },\n",
        "\n",
        "    'batch_size': {\n",
        "        'values':[32, 64, 128]\n",
        "    },\n",
        "\n",
        "    'dense_layer': {\n",
        "        'values':[32, 64, 128, 512]\n",
        "    },\n",
        "\n",
        "    'learning_rate': {\n",
        "        'values':[0.001, 0.0001]\n",
        "    },\n",
        "\n",
        "    'kernel_size': {\n",
        "        'values': [3, 5, 7]\n",
        "    }\n",
        "    \n",
        "    }   \n",
        "\n",
        "    #Using bayes method for hyperparameter sweeps to curb the unnecessary configurations\n",
        "    sweep_config = {\n",
        "      'method' : 'bayes',\n",
        "      'metric' :{\n",
        "          'name': 'val_acc',\n",
        "          'goal': 'maximize'\n",
        "      },\n",
        "      'parameters': hyperparameters\n",
        "    }\n",
        "\n",
        "    sweep_id = wandb.sweep(sweep_config, entity=entity_name, project=project_name)\n",
        "    wandb.agent(sweep_id, train)\n",
        "\n"
      ],
      "metadata": {
        "id": "Gz3wDPMY0QYZ"
      },
      "execution_count": 24,
      "outputs": []
    },
    {
      "cell_type": "code",
      "source": [
        "sweeper(entity_name, project_name)"
      ],
      "metadata": {
        "colab": {
          "base_uri": "https://localhost:8080/",
          "height": 1000,
          "referenced_widgets": [
            "d5fa3828dc1543dab7bcebee165fd08e",
            "77435642deb94f01a9e6829246919c04",
            "199928c0a20e47afa234ad3bf6c6f505",
            "dbfb0c2ad7814ce0b0a2d9531e62fc64",
            "bebf6c37217240eba7d806fa57db4b84",
            "15a4ee3c8f624af9985539a8f295f3a3",
            "976b530b94a64de680168fb1744a3fa2",
            "83d5765052d742008e6f676277b0cc5e",
            "a188203de6214f6290009478cbf91010",
            "76d98ee8296841faa8c73ea76f190417",
            "9dadc290078b4767b811d4b7355a2553",
            "1f3e961cfa4a4edf9b566fbee78e9618",
            "70d9e7995d514639a86664ed7721a628",
            "9e64acdff0e44bcca76e20c4b3946995",
            "8faccd1230864a62978270495ff7cc81",
            "aaa5c3a69c904d559df6bc4e0a431604",
            "920e6e7c04214d91a0de0dbfe931e9c1",
            "63f865e47f5e4350a6ed39ee2e94d5b1",
            "7cdf4a58e7b44ad6b21d9a5fa8c89376",
            "8868b4747c974e1387991c5a8e203a9d",
            "006231c8c8454a6783995914f216eb5e",
            "760909f6e1a0413f9d463663839d0a65",
            "fc0e649add5b415aa55ec2ca3a26cb99",
            "8b40914320e848d1a932df951f91f8e2",
            "dc3647d3be4d4fd28b7d05a3132fe178",
            "5243b27a8805425da1a9620fe0087305",
            "5696b3e7797e40889fba317289b269a4",
            "a1ab5e3548584060be19859cfa92004e",
            "c61392409bfa473ea44137099dfe2bde",
            "97999ad6854e4a23be903a942b676b68",
            "02973d2ff0354677b0d69db67d7ec75b",
            "049b7b9c1259439f84df626f994fca35",
            "213e510e67284a878f1e99351c9c2b80",
            "d09cfb6993a5489b9d70717398cc0c97",
            "61c6f545b9d84ed284d61dea9b8e9fdd",
            "f2776d2c14c049d29162240e9ce5e20a",
            "1ac8c438a843414ea6fcfa7958350c3c",
            "6461e4ad7eec4c6abf9531146ce5122e",
            "27d7f86d14e642cda8a618d4c9a540aa",
            "5ba4a9a3762341aa9d5ec1b02a6bb89c",
            "11feb4ba51f74201adb4384cf261b36f",
            "fd9b5174548c45b48e810c4cc2f92570",
            "72eed78afc0048d7a16c1f00bdc13532",
            "31a2e705072e45fa80853a284c53c84d",
            "16da19f51936420797c45f7b6bf59803",
            "c3ed9f751fe14eb1a63931d178544bf7",
            "d0665e924d83400480ef4c05496fbe7d",
            "e44b6335027f474e8e1ee7347c9d4a34",
            "c2d447f3dba442c1b2c0a21ada95b035",
            "235f41057f2642e99d767172226fc22a",
            "88f2dac3ab7243be871aade9308db0f7",
            "f9959af05bc5447b8a44a3a6d11aac71",
            "802eb8e01fc34ea599e3042b4dbfc8e0",
            "04388285b5e2409698aa93db7695e283",
            "830454191d47461cb4abc4f3b506c133",
            "1abf798eaa9349ddb9b40eb7933fc291",
            "fb8eb1d5a23d4915a4c6bc0691f29b7c",
            "438f23cafcac42e68ae819008edfa724",
            "5007035a26eb4a168838d67bbd333a36",
            "aed400b804df4205a88cd0c4d8ce3916",
            "caf20b981efa45e5b19f98f2f2ef26d7",
            "37a0654881cb4857bc9cb2360b4d5079",
            "cb3d951a325c409f936192fb89716721",
            "aea74f69f48e437cad192ce5de9ccc75",
            "445181ca52434e8da6200595f7344e86",
            "9751d439c81548e0a4d6291053f02ba8",
            "9c3bef1c9291422cb830b4c9fc5eed8d",
            "7ca1488ae737492c9fb152e9cfaf05da",
            "893f15b4f72c4bff87636021739741d1",
            "50c5f8b447174170a01d2ad790d06edb",
            "86600ec81eba4a4295d8c9c4dea45797",
            "d21b2a176ac1437ba6297f4688b71bd9",
            "b6f9de7c53594546a7639725d6268bce",
            "6a61cc8189004e03b79d70bb30d9de98",
            "b12c44acdf1e43bb95bc39de94d1340b",
            "5cac5f240ba346ba81a9e7edec05ef01",
            "829ee2bd77754edd976cc6ab9159d52d",
            "0dd21dd86b964673b5bfba9502952107",
            "a69a8fd4608b41a3838930b4cf3e5b32",
            "e9af234ee6ed4a738c0f18543c00c7a1",
            "ffbe4c1f167745748f4007f10cc66f96",
            "d6a58edcae3b462486041c509b73a7af",
            "beb46646b0ee42b0979bbaed9c3e3999",
            "ac91e6ac74eb4c9aa63d2e783a42fcf4",
            "27dae3308bc34eeea3c287248491c062",
            "bfd9c2c271f847259b2d81b0457b2852",
            "abafe9d9e4a3442290a4acdbdc0d187d",
            "c9cb107529d540bda6df2bdc67a345b5",
            "cb13b78e1c9347fea58b67b2e3b888e1",
            "89dc440323864bb5ba501d0f78b46fd5",
            "894cf8515be5400a983521e4af324137",
            "9fa3889a3e894c31bd9403646511a4f5",
            "dcfc133aa5c74f0984d5a13d44967c40",
            "ff4c3e3e301345358ea583818c45439a",
            "b320b00f2ca046ea8b34ebd2452b535f",
            "d29a20560add43b69badfab857761126",
            "cf5c549e0af14f12a2e2addae7271dca",
            "6321b727a3d047ccbb0ee9c8dfc6d8ec",
            "d2e4eceec6bf4bc484c7f2914c726e1f",
            "7f5352408991423da25dfcff97d2d7fd",
            "9ddba037b1894934ad2de0123babbbbd",
            "5bef736a78344f8fa320893f60c531a3",
            "993800c0658248db9234a75518bd4ddb",
            "9e7453d804a8406092fa0e40d2d58b40",
            "c8ff06523d4041fe9fa624b416c6ef6d",
            "9ad08a66a9a947c4b521c3e7f95b32d5",
            "04ed03cd57954ee39f7f90cb2cb1a96f",
            "06449615d44742268f6db1ff70e77580",
            "21539c2e6ec74dd29cd8860714ec34fa",
            "76e9afb40df64e4fa11e8aff12afe816",
            "be959d0faa304c5d8c490256d97cce02",
            "3db6638ec2b747ba977df235b6e077a5",
            "dbcd877072ca4f02bca26065f79f135c",
            "8f362234a1a04362b374a81ae2e7fe1f",
            "5b0508b2c72e416eadb6fe6dd8c71e9e",
            "6e5d4872b26c4c3b8a04f4036f0eedb3",
            "e02572e8e19445f1b88f0b58899578ad",
            "7453a85ddef34e838c5e2c7465cd8dc1",
            "a084e7f3531941e381c6e92ff74b2eec",
            "7a46f8ee848f4e2d828d458a5f746754",
            "9d85aebd9f834e5bb5f09347b8892a2d",
            "f8f06f3e3c54437594160a1ef397ba4f",
            "43b5171e856840f9a7f116456cb250ab",
            "8df6210fdb6444c08f6dc8989de8b12c",
            "b3340d7a115742e187827076aee66632",
            "679d8445222b4ca8baa3c1aa4c54644a",
            "8221e702fd1c45dfa23930b00de9f5d4",
            "ac16b28ef46442dc8e3c5b2c55418569",
            "dc1510441aa74fe5b084bf98b42fcac1",
            "f8470fac36764dd9ac69805b9fb6ab7f",
            "ce3b5b81516241e9867814025f701a1a",
            "bada4a7864104c9fbde7574227c83b9c",
            "5f41d28a63d74a6a97a4d5c410921bef",
            "82435781822a4ad7b2cb6e9418858ffa",
            "7ef4a946a450432da8169d06f5ba999a",
            "08267125e8b34f8cb3517386e6585fec",
            "fefba1f92c534786adad347ffe4f16ce",
            "73dbe1782f384f62a5fe8ec82fd1caee",
            "d0d214f272574a3598c4ef2afb1090d7",
            "4309c552ba5945d7b044982b4fc34807",
            "8a21836082624d72a69d67391c34176f",
            "15862b39e38b43b58d8d423f54abfdd7",
            "114462818f8f482795e6a590c60ba997",
            "7c21eff39d6b44119e5416bdbe95c0a5",
            "f6e4a5bf67d040a88c66fa785a25b3c7",
            "67a7e4a8f12c469d9276f8c703d316be",
            "6aca244dea2d48df8370e4a41a176d18",
            "595841bca65242a2ad842d2e868713a9",
            "2f42652b52ed4b9fbe68d4686558a9f8",
            "41b74cbb02454e659efa819f684f3a26",
            "d38a96c957f24b30bc7bd59c2862ba55",
            "dd9f3e5b3b4c4a6e8c9b1e2cf3176fd3",
            "a72cab83e2ab456788779c990d0e5e90",
            "6c25731dfacb4e198bbff4d66ecd7e42",
            "b3edb89d1fa94ceeadb20eb63ac5b8c8",
            "84e75cd3d96b4febb7aab47646f57983",
            "93f2968ba79549cb810aa92f8c080051",
            "ce615cfd7b274272a060df4a86318ae4",
            "f6c94b5b36a64fd9ba391289d94575fd",
            "3307984e6c8c47e283a27fdd7f01e043",
            "7034c54409a64bb497a46c31c06290f1",
            "1eff78fdf3e140f3b20339ac149306fc",
            "1781df09f272441aa275902c7315376b",
            "6dcfd1193e2e4061b7af259599e73f7b",
            "93efa897e53b4cb2b95f393ad585eddb",
            "8ab4d347914f4ae18b30c8d33603478c",
            "ade9b0d44cd845319bc6029f8a10ae04",
            "90572ed32f404b6889f6244fba0dce29",
            "346c30a6905b412bba86802ef119c344",
            "7e01d7f5babd44e4b34d8e9e32782f9c",
            "40cea2d96d314941a15e09272256a5e0",
            "74395837c6cc4341a5565a79f3e6e9bb",
            "569da6e6401745c69a4bea7a208d535f",
            "13b9a230661e4b629150c03f5651b4fb",
            "d6a97d4556e347beb6d27339635bf93a",
            "b0f8863a55334e93a7345e62d8e7ffdd",
            "35c05ae92a7348bf9b7c175701406521",
            "fd21622a1e5b4f38a91311b2dcdf9f5d",
            "690251a17bb748bfb636925d3aa4cf32",
            "e48a29411b0447c7a943beaba37c1ee8",
            "f9166f22de0e43b7b3fdabc6fbdfc34d",
            "697e3572d9b34b3491eb347118e9bc68",
            "58d05e2f5eee4c88bc0db7175164f8d1",
            "721a38d50ead4a009005386ec8ac88a1",
            "9602f86252444cdfb7230fb81edff303",
            "1bbcb2453cb240d3bf3bd8bf79f144c8",
            "760c1441ca474ccca51e711d13a18eea",
            "39686f9eabc24144af229b68473cdf08",
            "c7fa26de12b34afdb99276c7f86c94f5",
            "8f928454df7c4b889b113d7de9484aae",
            "41378d3c263f4cf59b29e9fc7a8340a2",
            "b65aee9a2a8c4c0a8aa2c40750755197",
            "4755168cbb7343e5af985e8095b61c34",
            "c8828ba5cf5d4d8aa8741ac903886a36",
            "12d0f9e0325c40c0b10508909c069130",
            "72892c5cd3ae4681a92952cd77587871",
            "f3507e06ca97416d888cb669008f18e4",
            "02a59756b44040da833a4c6c903cbeb7",
            "6becbb7fc75d4e9d94e16ba0806868ec",
            "8a2c139c13624bdba3af362cc763ce78",
            "64b74d45d5124a33a8c0aa640160660a",
            "9099274fe3a84944afd746b2264af4ba",
            "03071a1a8b7b472c9eaa4236a026d091",
            "ee5d29a6836047d385e3796e08e27044",
            "d4656f3c0d3044439060706518eaf0bb",
            "6bca9ca196f44904ab6bf15143d6b818",
            "dd0301d64fab42be956d0e39236fb3a1",
            "7b9729f8c9514d1fb380d71014667c0c",
            "4348a8720b3c469480150c12cd838046",
            "cea551eeb8ee49f5b91f51dea9886d59",
            "effd3472ce3f42d483822717222ced13",
            "ea953b8d527c4f4589b66e3365817e5d",
            "abb241fa1a4a4166b71275bc38ddf328",
            "beb2b13e5120491cb32f18d9f0d31ea5",
            "0ae27a6e18d04a7a9ef46585f79858c2",
            "abde9421c468455f95c0537ce5f7ede0",
            "545878b7a45f402096c1c37abbda3d9f",
            "3813353031eb4bd587aa647471c938aa",
            "c5da41383d064786adeb84933b2cbe21",
            "34102bd8b39949e7b1c3852a6a764d4a",
            "1968d7c495934367b3c4f8007976e396",
            "7292432e322a4324a56ce705742646ca",
            "6c437776a0a04f888befd575fed55e19",
            "e713305e6e604fe98fde72cf28bcf657",
            "e29531e6d8c9458592c3c43ecec61fe2",
            "c426d4232424418fb5747b26d446e804",
            "658ecf099b70414c84da60448fc28fb3",
            "18383151d2ee43baa4916f109cb55f3a",
            "9f0e12e7b7e04eac82e99f1b9e5e29db",
            "1d468287e20941a3b5d68f3edb0735d2",
            "ddc7e80d53654bccbe56c6e0a1140f30",
            "f2c94a47629e4c97b20fbacbd6eb4b94",
            "6728de67aa7644968a5675eb7c205fc2",
            "f46024be553c44d4a6fad6c9a7554b2e",
            "d7a2703978084784a3f70d1de1fc3825",
            "b7572ae2346244e892f862db77da5195",
            "e3b60c2804a64af2baed42a7fdd5c811",
            "e16b821b1e54477c8c7a3b6bc01fe104",
            "c6081b9eff3e4e92b96d562537b6d5e3",
            "d6c1d42d5f414f37b73d208b5bcccf48",
            "a3611e3808474ad093865a99fc2d05a0",
            "da8815cb60aa45f8a417e1ed0fb54299",
            "176e429135384ba78d72460fc1a222da",
            "5a23f2ccd28d4fc48183c7f0d9ba65ef",
            "566f365c48664b318e3dd5ea1c20c6bf",
            "cbdd9f57c40d4004a2a466e02a222a23",
            "a61ccfe7a98d4cb98e6208191726f73c",
            "de1944055f4e4f3ca553e21aa1c49220",
            "355ad12fe84a4ba1b18fc9c3a15baba2",
            "4076ecc0e84841ef958dc9529a91c2b3",
            "ade1289839784779aef99c3c9c07c12d",
            "915abf347380442a9284a4e6698f2112",
            "cdb4cf27340f48a2b5dc0824f23af56d",
            "d1dfb0ee712f4a0484ae439f07ba632a",
            "8ce732faa95442fdb54805d127eb5afd",
            "89d7d85b53d7460fbc0adf5e3df84f85",
            "f2cbe6cdcb7143a5986cdf243ef704d1",
            "37e1624b68364b458d853f2db56f1a73",
            "03f73a82dec64209b91b7aa5a308c237",
            "6858781daa5d4198b8ed8d05f0b9c9e0",
            "4c339f3acbe64902a62890362999cf96",
            "df4f8495710643db9ed4db5d3be4fab1",
            "485d8a4cc35c470297010f24258c545f",
            "fdeab64c8f3d46b9ae8939f628ffc588",
            "03ff619cca184c17a6bff661e0518155",
            "fbf6edb6a7794970abe8417a01b2576f",
            "142133d5a22b4cd6b7336cbc484769bc",
            "69da0d6b63284396a01fc08744cdb56c",
            "6c9aa7f74e9242d1b125a587598479ee",
            "339d79ddcf2d469fa2e561cd7b9c7bca",
            "38912058d4ef4ec4bd63de5075c6b5ef",
            "c28de683549f42ca958d89f2e35445ea",
            "8ed1b9fe019249adaef56295d3520617",
            "43acfaa7a318431abffa8764524122d9",
            "65b66268a7574ca5a5dfd9d89e7e4008",
            "d4adaa1278cc4b50954f871cf2d8d52a",
            "2eabb1080bec49b3bbc93c2ced834ff8",
            "8a40fa42086f41c19d35f0c6e6f1aca7",
            "62040e6a0ec64c1e88982583f8ba309f",
            "6f33eba872644009baac94ed1a6cb1e9"
          ]
        },
        "id": "94jxsQuAMOiO",
        "outputId": "5f19b773-1a8d-4e42-856a-109854ab83c6"
      },
      "execution_count": 25,
      "outputs": [
        {
          "output_type": "stream",
          "name": "stdout",
          "text": [
            "Create sweep with ID: b6ej9uqk\n",
            "Sweep URL: https://wandb.ai/safi-vamsi-cs6910/assgn2%20trial/sweeps/b6ej9uqk\n"
          ]
        },
        {
          "output_type": "stream",
          "name": "stderr",
          "text": [
            "\u001b[34m\u001b[1mwandb\u001b[0m: Agent Starting Run: bejuh12g with config:\n",
            "\u001b[34m\u001b[1mwandb\u001b[0m: \tbatch_norm: True\n",
            "\u001b[34m\u001b[1mwandb\u001b[0m: \tbatch_size: 32\n",
            "\u001b[34m\u001b[1mwandb\u001b[0m: \tdata_augmentation: False\n",
            "\u001b[34m\u001b[1mwandb\u001b[0m: \tdense_layer: 64\n",
            "\u001b[34m\u001b[1mwandb\u001b[0m: \tdropout: 0.5\n",
            "\u001b[34m\u001b[1mwandb\u001b[0m: \tfilter_org: 2\n",
            "\u001b[34m\u001b[1mwandb\u001b[0m: \tkernel_size: 3\n",
            "\u001b[34m\u001b[1mwandb\u001b[0m: \tlearning_rate: 0.0001\n",
            "\u001b[34m\u001b[1mwandb\u001b[0m: \tnum_epochs: 10\n",
            "\u001b[34m\u001b[1mwandb\u001b[0m: \tnum_filter: 32\n"
          ]
        },
        {
          "output_type": "display_data",
          "data": {
            "text/plain": [
              "<IPython.core.display.HTML object>"
            ],
            "text/html": [
              "Tracking run with wandb version 0.12.11"
            ]
          },
          "metadata": {}
        },
        {
          "output_type": "display_data",
          "data": {
            "text/plain": [
              "<IPython.core.display.HTML object>"
            ],
            "text/html": [
              "Run data is saved locally in <code>/content/wandb/run-20220326_172512-bejuh12g</code>"
            ]
          },
          "metadata": {}
        },
        {
          "output_type": "display_data",
          "data": {
            "text/plain": [
              "<IPython.core.display.HTML object>"
            ],
            "text/html": [
              "Syncing run <strong><a href=\"https://wandb.ai/safi-vamsi-cs6910/assgn2%20trial/runs/bejuh12g\" target=\"_blank\">gentle-sweep-1</a></strong> to <a href=\"https://wandb.ai/safi-vamsi-cs6910/assgn2%20trial\" target=\"_blank\">Weights & Biases</a> (<a href=\"https://wandb.me/run\" target=\"_blank\">docs</a>)<br/>Sweep page:  <a href=\"https://wandb.ai/safi-vamsi-cs6910/assgn2%20trial/sweeps/b6ej9uqk\" target=\"_blank\">https://wandb.ai/safi-vamsi-cs6910/assgn2%20trial/sweeps/b6ej9uqk</a>"
            ]
          },
          "metadata": {}
        },
        {
          "output_type": "stream",
          "name": "stdout",
          "text": [
            "Model: \"sequential\"\n",
            "_________________________________________________________________\n",
            " Layer (type)                Output Shape              Param #   \n",
            "=================================================================\n",
            " conv2d (Conv2D)             (None, 254, 254, 32)      896       \n",
            "                                                                 \n",
            " batch_normalization (BatchN  (None, 254, 254, 32)     128       \n",
            " ormalization)                                                   \n",
            "                                                                 \n",
            " activation (Activation)     (None, 254, 254, 32)      0         \n",
            "                                                                 \n",
            " max_pooling2d (MaxPooling2D  (None, 127, 127, 32)     0         \n",
            " )                                                               \n",
            "                                                                 \n",
            " conv2d_1 (Conv2D)           (None, 125, 125, 64)      18496     \n",
            "                                                                 \n",
            " batch_normalization_1 (Batc  (None, 125, 125, 64)     256       \n",
            " hNormalization)                                                 \n",
            "                                                                 \n",
            " activation_1 (Activation)   (None, 125, 125, 64)      0         \n",
            "                                                                 \n",
            " max_pooling2d_1 (MaxPooling  (None, 62, 62, 64)       0         \n",
            " 2D)                                                             \n",
            "                                                                 \n",
            " conv2d_2 (Conv2D)           (None, 60, 60, 128)       73856     \n",
            "                                                                 \n",
            " batch_normalization_2 (Batc  (None, 60, 60, 128)      512       \n",
            " hNormalization)                                                 \n",
            "                                                                 \n",
            " activation_2 (Activation)   (None, 60, 60, 128)       0         \n",
            "                                                                 \n",
            " max_pooling2d_2 (MaxPooling  (None, 30, 30, 128)      0         \n",
            " 2D)                                                             \n",
            "                                                                 \n",
            " conv2d_3 (Conv2D)           (None, 28, 28, 256)       295168    \n",
            "                                                                 \n",
            " batch_normalization_3 (Batc  (None, 28, 28, 256)      1024      \n",
            " hNormalization)                                                 \n",
            "                                                                 \n",
            " activation_3 (Activation)   (None, 28, 28, 256)       0         \n",
            "                                                                 \n",
            " max_pooling2d_3 (MaxPooling  (None, 14, 14, 256)      0         \n",
            " 2D)                                                             \n",
            "                                                                 \n",
            " conv2d_4 (Conv2D)           (None, 12, 12, 512)       1180160   \n",
            "                                                                 \n",
            " batch_normalization_4 (Batc  (None, 12, 12, 512)      2048      \n",
            " hNormalization)                                                 \n",
            "                                                                 \n",
            " activation_4 (Activation)   (None, 12, 12, 512)       0         \n",
            "                                                                 \n",
            " max_pooling2d_4 (MaxPooling  (None, 6, 6, 512)        0         \n",
            " 2D)                                                             \n",
            "                                                                 \n",
            " flatten (Flatten)           (None, 18432)             0         \n",
            "                                                                 \n",
            " dense (Dense)               (None, 64)                1179712   \n",
            "                                                                 \n",
            " dropout (Dropout)           (None, 64)                0         \n",
            "                                                                 \n",
            " dense_1 (Dense)             (None, 10)                650       \n",
            "                                                                 \n",
            "=================================================================\n",
            "Total params: 2,752,906\n",
            "Trainable params: 2,750,922\n",
            "Non-trainable params: 1,984\n",
            "_________________________________________________________________\n",
            "Found 9999 files belonging to 10 classes.\n",
            "Using 9000 files for training.\n",
            "Found 9999 files belonging to 10 classes.\n",
            "Using 999 files for validation.\n",
            "Epoch 1/10\n",
            "282/282 [==============================] - 810s 3s/step - loss: 2.3037 - acc: 0.1138 - val_loss: 2.2710 - val_acc: 0.1191 - _timestamp: 1648316327.0000 - _runtime: 815.0000\n",
            "Epoch 2/10\n",
            "282/282 [==============================] - 63s 217ms/step - loss: 2.2719 - acc: 0.1280 - val_loss: 2.2497 - val_acc: 0.1782 - _timestamp: 1648316390.0000 - _runtime: 878.0000\n",
            "Epoch 3/10\n",
            "282/282 [==============================] - 62s 213ms/step - loss: 2.2619 - acc: 0.1377 - val_loss: 2.2500 - val_acc: 0.1682 - _timestamp: 1648316471.0000 - _runtime: 959.0000\n",
            "Epoch 4/10\n",
            "282/282 [==============================] - 61s 211ms/step - loss: 2.2540 - acc: 0.1378 - val_loss: 2.2360 - val_acc: 0.1702 - _timestamp: 1648316552.0000 - _runtime: 1040.0000\n",
            "Epoch 5/10\n",
            "282/282 [==============================] - 60s 208ms/step - loss: 2.2462 - acc: 0.1421 - val_loss: 2.2443 - val_acc: 0.1762 - _timestamp: 1648316633.0000 - _runtime: 1121.0000\n",
            "Epoch 6/10\n",
            "282/282 [==============================] - 60s 209ms/step - loss: 2.2374 - acc: 0.1447 - val_loss: 2.2335 - val_acc: 0.1832 - _timestamp: 1648316715.0000 - _runtime: 1203.0000\n",
            "Epoch 7/10\n",
            "282/282 [==============================] - 61s 210ms/step - loss: 2.2249 - acc: 0.1488 - val_loss: 2.2171 - val_acc: 0.1742 - _timestamp: 1648316776.0000 - _runtime: 1264.0000\n",
            "Epoch 8/10\n",
            "282/282 [==============================] - 61s 212ms/step - loss: 2.2169 - acc: 0.1533 - val_loss: 2.2173 - val_acc: 0.1842 - _timestamp: 1648316837.0000 - _runtime: 1325.0000\n",
            "Epoch 9/10\n",
            "282/282 [==============================] - 60s 210ms/step - loss: 2.2060 - acc: 0.1563 - val_loss: 2.2122 - val_acc: 0.1972 - _timestamp: 1648316897.0000 - _runtime: 1385.0000\n",
            "Epoch 10/10\n",
            "282/282 [==============================] - 60s 207ms/step - loss: 2.2008 - acc: 0.1549 - val_loss: 2.2581 - val_acc: 0.1582 - _timestamp: 1648316957.0000 - _runtime: 1445.0000\n",
            "\n"
          ]
        },
        {
          "output_type": "display_data",
          "data": {
            "text/plain": [
              "<IPython.core.display.HTML object>"
            ],
            "text/html": [
              "Waiting for W&B process to finish... <strong style=\"color:green\">(success).</strong>"
            ]
          },
          "metadata": {}
        },
        {
          "output_type": "display_data",
          "data": {
            "text/plain": [
              "VBox(children=(Label(value='31.613 MB of 31.613 MB uploaded (0.000 MB deduped)\\r'), FloatProgress(value=1.0, m…"
            ],
            "application/vnd.jupyter.widget-view+json": {
              "version_major": 2,
              "version_minor": 0,
              "model_id": "d5fa3828dc1543dab7bcebee165fd08e"
            }
          },
          "metadata": {}
        },
        {
          "output_type": "display_data",
          "data": {
            "text/plain": [
              "<IPython.core.display.HTML object>"
            ],
            "text/html": [
              "<style>\n",
              "    table.wandb td:nth-child(1) { padding: 0 10px; text-align: right }\n",
              "    .wandb-row { display: flex; flex-direction: row; flex-wrap: wrap; width: 100% }\n",
              "    .wandb-col { display: flex; flex-direction: column; flex-basis: 100%; flex: 1; padding: 10px; }\n",
              "    </style>\n",
              "<div class=\"wandb-row\"><div class=\"wandb-col\"><h3>Run history:</h3><br/><table class=\"wandb\"><tr><td>acc</td><td>▁▃▅▅▆▆▇███</td></tr><tr><td>epoch</td><td>▁▂▃▃▄▅▆▆▇█</td></tr><tr><td>loss</td><td>█▆▅▅▄▃▃▂▁▁</td></tr><tr><td>val_acc</td><td>▁▆▅▆▆▇▆▇█▄</td></tr><tr><td>val_loss</td><td>█▅▅▄▅▄▂▂▁▆</td></tr></table><br/></div><div class=\"wandb-col\"><h3>Run summary:</h3><br/><table class=\"wandb\"><tr><td>acc</td><td>0.15489</td></tr><tr><td>best_epoch</td><td>8</td></tr><tr><td>best_val_loss</td><td>2.21225</td></tr><tr><td>epoch</td><td>9</td></tr><tr><td>loss</td><td>2.20076</td></tr><tr><td>val_acc</td><td>0.15816</td></tr><tr><td>val_loss</td><td>2.25806</td></tr></table><br/></div></div>"
            ]
          },
          "metadata": {}
        },
        {
          "output_type": "display_data",
          "data": {
            "text/plain": [
              "<IPython.core.display.HTML object>"
            ],
            "text/html": [
              "Synced <strong style=\"color:#cdcd00\">gentle-sweep-1</strong>: <a href=\"https://wandb.ai/safi-vamsi-cs6910/assgn2%20trial/runs/bejuh12g\" target=\"_blank\">https://wandb.ai/safi-vamsi-cs6910/assgn2%20trial/runs/bejuh12g</a><br/>Synced 5 W&B file(s), 1 media file(s), 0 artifact file(s) and 1 other file(s)"
            ]
          },
          "metadata": {}
        },
        {
          "output_type": "display_data",
          "data": {
            "text/plain": [
              "<IPython.core.display.HTML object>"
            ],
            "text/html": [
              "Find logs at: <code>./wandb/run-20220326_172512-bejuh12g/logs</code>"
            ]
          },
          "metadata": {}
        },
        {
          "output_type": "stream",
          "name": "stderr",
          "text": [
            "\u001b[34m\u001b[1mwandb\u001b[0m: Agent Starting Run: e5s7o22t with config:\n",
            "\u001b[34m\u001b[1mwandb\u001b[0m: \tbatch_norm: False\n",
            "\u001b[34m\u001b[1mwandb\u001b[0m: \tbatch_size: 64\n",
            "\u001b[34m\u001b[1mwandb\u001b[0m: \tdata_augmentation: False\n",
            "\u001b[34m\u001b[1mwandb\u001b[0m: \tdense_layer: 64\n",
            "\u001b[34m\u001b[1mwandb\u001b[0m: \tdropout: 0.5\n",
            "\u001b[34m\u001b[1mwandb\u001b[0m: \tfilter_org: 2\n",
            "\u001b[34m\u001b[1mwandb\u001b[0m: \tkernel_size: 7\n",
            "\u001b[34m\u001b[1mwandb\u001b[0m: \tlearning_rate: 0.0001\n",
            "\u001b[34m\u001b[1mwandb\u001b[0m: \tnum_epochs: 30\n",
            "\u001b[34m\u001b[1mwandb\u001b[0m: \tnum_filter: 64\n"
          ]
        },
        {
          "output_type": "display_data",
          "data": {
            "text/plain": [
              "<IPython.core.display.HTML object>"
            ],
            "text/html": [
              "Tracking run with wandb version 0.12.11"
            ]
          },
          "metadata": {}
        },
        {
          "output_type": "display_data",
          "data": {
            "text/plain": [
              "<IPython.core.display.HTML object>"
            ],
            "text/html": [
              "Run data is saved locally in <code>/content/wandb/run-20220326_174928-e5s7o22t</code>"
            ]
          },
          "metadata": {}
        },
        {
          "output_type": "display_data",
          "data": {
            "text/plain": [
              "<IPython.core.display.HTML object>"
            ],
            "text/html": [
              "Syncing run <strong><a href=\"https://wandb.ai/safi-vamsi-cs6910/assgn2%20trial/runs/e5s7o22t\" target=\"_blank\">vibrant-sweep-2</a></strong> to <a href=\"https://wandb.ai/safi-vamsi-cs6910/assgn2%20trial\" target=\"_blank\">Weights & Biases</a> (<a href=\"https://wandb.me/run\" target=\"_blank\">docs</a>)<br/>Sweep page:  <a href=\"https://wandb.ai/safi-vamsi-cs6910/assgn2%20trial/sweeps/b6ej9uqk\" target=\"_blank\">https://wandb.ai/safi-vamsi-cs6910/assgn2%20trial/sweeps/b6ej9uqk</a>"
            ]
          },
          "metadata": {}
        },
        {
          "output_type": "stream",
          "name": "stdout",
          "text": [
            "Model: \"sequential\"\n",
            "_________________________________________________________________\n",
            " Layer (type)                Output Shape              Param #   \n",
            "=================================================================\n",
            " conv2d (Conv2D)             (None, 250, 250, 32)      4736      \n",
            "                                                                 \n",
            " activation (Activation)     (None, 250, 250, 32)      0         \n",
            "                                                                 \n",
            " max_pooling2d (MaxPooling2D  (None, 125, 125, 32)     0         \n",
            " )                                                               \n",
            "                                                                 \n",
            " conv2d_1 (Conv2D)           (None, 119, 119, 64)      100416    \n",
            "                                                                 \n",
            " activation_1 (Activation)   (None, 119, 119, 64)      0         \n",
            "                                                                 \n",
            " max_pooling2d_1 (MaxPooling  (None, 59, 59, 64)       0         \n",
            " 2D)                                                             \n",
            "                                                                 \n",
            " conv2d_2 (Conv2D)           (None, 53, 53, 128)       401536    \n",
            "                                                                 \n",
            " activation_2 (Activation)   (None, 53, 53, 128)       0         \n",
            "                                                                 \n",
            " max_pooling2d_2 (MaxPooling  (None, 26, 26, 128)      0         \n",
            " 2D)                                                             \n",
            "                                                                 \n",
            " conv2d_3 (Conv2D)           (None, 20, 20, 256)       1605888   \n",
            "                                                                 \n",
            " activation_3 (Activation)   (None, 20, 20, 256)       0         \n",
            "                                                                 \n",
            " max_pooling2d_3 (MaxPooling  (None, 10, 10, 256)      0         \n",
            " 2D)                                                             \n",
            "                                                                 \n",
            " conv2d_4 (Conv2D)           (None, 4, 4, 512)         6423040   \n",
            "                                                                 \n",
            " activation_4 (Activation)   (None, 4, 4, 512)         0         \n",
            "                                                                 \n",
            " max_pooling2d_4 (MaxPooling  (None, 2, 2, 512)        0         \n",
            " 2D)                                                             \n",
            "                                                                 \n",
            " flatten (Flatten)           (None, 2048)              0         \n",
            "                                                                 \n",
            " dense (Dense)               (None, 64)                131136    \n",
            "                                                                 \n",
            " dropout (Dropout)           (None, 64)                0         \n",
            "                                                                 \n",
            " dense_1 (Dense)             (None, 10)                650       \n",
            "                                                                 \n",
            "=================================================================\n",
            "Total params: 8,667,402\n",
            "Trainable params: 8,667,402\n",
            "Non-trainable params: 0\n",
            "_________________________________________________________________\n",
            "Found 9999 files belonging to 10 classes.\n",
            "Using 9000 files for training.\n",
            "Found 9999 files belonging to 10 classes.\n",
            "Using 999 files for validation.\n",
            "Epoch 1/10\n",
            "282/282 [==============================] - 62s 210ms/step - loss: 2.5276 - acc: 0.0964 - val_loss: 2.3026 - val_acc: 0.0961 - _timestamp: 1648317038.0000 - _runtime: 70.0000\n",
            "Epoch 2/10\n",
            "282/282 [==============================] - 60s 207ms/step - loss: 2.3026 - acc: 0.0964 - val_loss: 2.3026 - val_acc: 0.0941 - _timestamp: 1648317099.0000 - _runtime: 131.0000\n",
            "Epoch 3/10\n",
            "282/282 [==============================] - 60s 208ms/step - loss: 2.3026 - acc: 0.0950 - val_loss: 2.3026 - val_acc: 0.0941 - _timestamp: 1648317180.0000 - _runtime: 212.0000\n",
            "Epoch 4/10\n",
            "282/282 [==============================] - 60s 207ms/step - loss: 2.3026 - acc: 0.0944 - val_loss: 2.3026 - val_acc: 0.0941 - _timestamp: 1648317240.0000 - _runtime: 272.0000\n",
            "Epoch 5/10\n",
            "282/282 [==============================] - 60s 207ms/step - loss: 2.3026 - acc: 0.0947 - val_loss: 2.3026 - val_acc: 0.0941 - _timestamp: 1648317322.0000 - _runtime: 354.0000\n",
            "Epoch 6/10\n",
            "282/282 [==============================] - 60s 208ms/step - loss: 2.3026 - acc: 0.0970 - val_loss: 2.3027 - val_acc: 0.0941 - _timestamp: 1648317404.0000 - _runtime: 436.0000\n",
            "Epoch 7/10\n",
            "282/282 [==============================] - 60s 209ms/step - loss: 2.3026 - acc: 0.0997 - val_loss: 2.3027 - val_acc: 0.0941 - _timestamp: 1648317465.0000 - _runtime: 497.0000\n",
            "Epoch 8/10\n",
            "282/282 [==============================] - 60s 207ms/step - loss: 2.3026 - acc: 0.0974 - val_loss: 2.3027 - val_acc: 0.0941 - _timestamp: 1648317525.0000 - _runtime: 557.0000\n",
            "Epoch 9/10\n",
            "282/282 [==============================] - 60s 207ms/step - loss: 2.3026 - acc: 0.0959 - val_loss: 2.3027 - val_acc: 0.0941 - _timestamp: 1648317584.0000 - _runtime: 616.0000\n",
            "Epoch 10/10\n",
            "282/282 [==============================] - 61s 210ms/step - loss: 2.3026 - acc: 0.0976 - val_loss: 2.3027 - val_acc: 0.0941 - _timestamp: 1648317667.0000 - _runtime: 699.0000\n",
            "\n"
          ]
        },
        {
          "output_type": "display_data",
          "data": {
            "text/plain": [
              "<IPython.core.display.HTML object>"
            ],
            "text/html": [
              "Waiting for W&B process to finish... <strong style=\"color:green\">(success).</strong>"
            ]
          },
          "metadata": {}
        },
        {
          "output_type": "display_data",
          "data": {
            "text/plain": [
              "VBox(children=(Label(value='99.271 MB of 99.271 MB uploaded (0.000 MB deduped)\\r'), FloatProgress(value=1.0, m…"
            ],
            "application/vnd.jupyter.widget-view+json": {
              "version_major": 2,
              "version_minor": 0,
              "model_id": "a188203de6214f6290009478cbf91010"
            }
          },
          "metadata": {}
        },
        {
          "output_type": "display_data",
          "data": {
            "text/plain": [
              "<IPython.core.display.HTML object>"
            ],
            "text/html": [
              "<style>\n",
              "    table.wandb td:nth-child(1) { padding: 0 10px; text-align: right }\n",
              "    .wandb-row { display: flex; flex-direction: row; flex-wrap: wrap; width: 100% }\n",
              "    .wandb-col { display: flex; flex-direction: column; flex-basis: 100%; flex: 1; padding: 10px; }\n",
              "    </style>\n",
              "<div class=\"wandb-row\"><div class=\"wandb-col\"><h3>Run history:</h3><br/><table class=\"wandb\"><tr><td>acc</td><td>▄▄▂▁▁▄█▅▃▅</td></tr><tr><td>epoch</td><td>▁▂▃▃▄▅▆▆▇█</td></tr><tr><td>loss</td><td>█▁▁▁▁▁▁▁▁▁</td></tr><tr><td>val_acc</td><td>█▁▁▁▁▁▁▁▁▁</td></tr><tr><td>val_loss</td><td>▁▁▂▃▄▅▆▇▇█</td></tr></table><br/></div><div class=\"wandb-col\"><h3>Run summary:</h3><br/><table class=\"wandb\"><tr><td>acc</td><td>0.09756</td></tr><tr><td>best_epoch</td><td>0</td></tr><tr><td>best_val_loss</td><td>2.30259</td></tr><tr><td>epoch</td><td>9</td></tr><tr><td>loss</td><td>2.3026</td></tr><tr><td>val_acc</td><td>0.09409</td></tr><tr><td>val_loss</td><td>2.30271</td></tr></table><br/></div></div>"
            ]
          },
          "metadata": {}
        },
        {
          "output_type": "display_data",
          "data": {
            "text/plain": [
              "<IPython.core.display.HTML object>"
            ],
            "text/html": [
              "Synced <strong style=\"color:#cdcd00\">vibrant-sweep-2</strong>: <a href=\"https://wandb.ai/safi-vamsi-cs6910/assgn2%20trial/runs/e5s7o22t\" target=\"_blank\">https://wandb.ai/safi-vamsi-cs6910/assgn2%20trial/runs/e5s7o22t</a><br/>Synced 5 W&B file(s), 1 media file(s), 0 artifact file(s) and 1 other file(s)"
            ]
          },
          "metadata": {}
        },
        {
          "output_type": "display_data",
          "data": {
            "text/plain": [
              "<IPython.core.display.HTML object>"
            ],
            "text/html": [
              "Find logs at: <code>./wandb/run-20220326_174928-e5s7o22t/logs</code>"
            ]
          },
          "metadata": {}
        },
        {
          "output_type": "stream",
          "name": "stderr",
          "text": [
            "\u001b[34m\u001b[1mwandb\u001b[0m: Agent Starting Run: n78iwn53 with config:\n",
            "\u001b[34m\u001b[1mwandb\u001b[0m: \tbatch_norm: False\n",
            "\u001b[34m\u001b[1mwandb\u001b[0m: \tbatch_size: 128\n",
            "\u001b[34m\u001b[1mwandb\u001b[0m: \tdata_augmentation: True\n",
            "\u001b[34m\u001b[1mwandb\u001b[0m: \tdense_layer: 128\n",
            "\u001b[34m\u001b[1mwandb\u001b[0m: \tdropout: 0.6\n",
            "\u001b[34m\u001b[1mwandb\u001b[0m: \tfilter_org: 2\n",
            "\u001b[34m\u001b[1mwandb\u001b[0m: \tkernel_size: 3\n",
            "\u001b[34m\u001b[1mwandb\u001b[0m: \tlearning_rate: 0.0001\n",
            "\u001b[34m\u001b[1mwandb\u001b[0m: \tnum_epochs: 30\n",
            "\u001b[34m\u001b[1mwandb\u001b[0m: \tnum_filter: 32\n"
          ]
        },
        {
          "output_type": "display_data",
          "data": {
            "text/plain": [
              "<IPython.core.display.HTML object>"
            ],
            "text/html": [
              "Tracking run with wandb version 0.12.11"
            ]
          },
          "metadata": {}
        },
        {
          "output_type": "display_data",
          "data": {
            "text/plain": [
              "<IPython.core.display.HTML object>"
            ],
            "text/html": [
              "Run data is saved locally in <code>/content/wandb/run-20220326_180135-n78iwn53</code>"
            ]
          },
          "metadata": {}
        },
        {
          "output_type": "display_data",
          "data": {
            "text/plain": [
              "<IPython.core.display.HTML object>"
            ],
            "text/html": [
              "Syncing run <strong><a href=\"https://wandb.ai/safi-vamsi-cs6910/assgn2%20trial/runs/n78iwn53\" target=\"_blank\">balmy-sweep-3</a></strong> to <a href=\"https://wandb.ai/safi-vamsi-cs6910/assgn2%20trial\" target=\"_blank\">Weights & Biases</a> (<a href=\"https://wandb.me/run\" target=\"_blank\">docs</a>)<br/>Sweep page:  <a href=\"https://wandb.ai/safi-vamsi-cs6910/assgn2%20trial/sweeps/b6ej9uqk\" target=\"_blank\">https://wandb.ai/safi-vamsi-cs6910/assgn2%20trial/sweeps/b6ej9uqk</a>"
            ]
          },
          "metadata": {}
        },
        {
          "output_type": "stream",
          "name": "stdout",
          "text": [
            "Model: \"sequential\"\n",
            "_________________________________________________________________\n",
            " Layer (type)                Output Shape              Param #   \n",
            "=================================================================\n",
            " conv2d (Conv2D)             (None, 254, 254, 32)      896       \n",
            "                                                                 \n",
            " activation (Activation)     (None, 254, 254, 32)      0         \n",
            "                                                                 \n",
            " max_pooling2d (MaxPooling2D  (None, 127, 127, 32)     0         \n",
            " )                                                               \n",
            "                                                                 \n",
            " conv2d_1 (Conv2D)           (None, 125, 125, 64)      18496     \n",
            "                                                                 \n",
            " activation_1 (Activation)   (None, 125, 125, 64)      0         \n",
            "                                                                 \n",
            " max_pooling2d_1 (MaxPooling  (None, 62, 62, 64)       0         \n",
            " 2D)                                                             \n",
            "                                                                 \n",
            " conv2d_2 (Conv2D)           (None, 60, 60, 128)       73856     \n",
            "                                                                 \n",
            " activation_2 (Activation)   (None, 60, 60, 128)       0         \n",
            "                                                                 \n",
            " max_pooling2d_2 (MaxPooling  (None, 30, 30, 128)      0         \n",
            " 2D)                                                             \n",
            "                                                                 \n",
            " conv2d_3 (Conv2D)           (None, 28, 28, 256)       295168    \n",
            "                                                                 \n",
            " activation_3 (Activation)   (None, 28, 28, 256)       0         \n",
            "                                                                 \n",
            " max_pooling2d_3 (MaxPooling  (None, 14, 14, 256)      0         \n",
            " 2D)                                                             \n",
            "                                                                 \n",
            " conv2d_4 (Conv2D)           (None, 12, 12, 512)       1180160   \n",
            "                                                                 \n",
            " activation_4 (Activation)   (None, 12, 12, 512)       0         \n",
            "                                                                 \n",
            " max_pooling2d_4 (MaxPooling  (None, 6, 6, 512)        0         \n",
            " 2D)                                                             \n",
            "                                                                 \n",
            " flatten (Flatten)           (None, 18432)             0         \n",
            "                                                                 \n",
            " dense (Dense)               (None, 128)               2359424   \n",
            "                                                                 \n",
            " dropout (Dropout)           (None, 128)               0         \n",
            "                                                                 \n",
            " dense_1 (Dense)             (None, 10)                1290      \n",
            "                                                                 \n",
            "=================================================================\n",
            "Total params: 3,929,290\n",
            "Trainable params: 3,929,290\n",
            "Non-trainable params: 0\n",
            "_________________________________________________________________\n",
            "\n"
          ]
        },
        {
          "output_type": "display_data",
          "data": {
            "text/plain": [
              "<IPython.core.display.HTML object>"
            ],
            "text/html": [
              "Waiting for W&B process to finish... <strong style=\"color:red\">(failed 1).</strong> Press Control-C to abort syncing."
            ]
          },
          "metadata": {}
        },
        {
          "output_type": "display_data",
          "data": {
            "text/plain": [
              "VBox(children=(Label(value='0.001 MB of 0.001 MB uploaded (0.000 MB deduped)\\r'), FloatProgress(value=1.0, max…"
            ],
            "application/vnd.jupyter.widget-view+json": {
              "version_major": 2,
              "version_minor": 0,
              "model_id": "920e6e7c04214d91a0de0dbfe931e9c1"
            }
          },
          "metadata": {}
        },
        {
          "output_type": "display_data",
          "data": {
            "text/plain": [
              "<IPython.core.display.HTML object>"
            ],
            "text/html": [
              "Synced <strong style=\"color:#cdcd00\">balmy-sweep-3</strong>: <a href=\"https://wandb.ai/safi-vamsi-cs6910/assgn2%20trial/runs/n78iwn53\" target=\"_blank\">https://wandb.ai/safi-vamsi-cs6910/assgn2%20trial/runs/n78iwn53</a><br/>Synced 5 W&B file(s), 0 media file(s), 0 artifact file(s) and 0 other file(s)"
            ]
          },
          "metadata": {}
        },
        {
          "output_type": "display_data",
          "data": {
            "text/plain": [
              "<IPython.core.display.HTML object>"
            ],
            "text/html": [
              "Find logs at: <code>./wandb/run-20220326_180135-n78iwn53/logs</code>"
            ]
          },
          "metadata": {}
        },
        {
          "output_type": "stream",
          "name": "stderr",
          "text": [
            "Run n78iwn53 errored: NameError(\"name 'path' is not defined\")\n",
            "\u001b[34m\u001b[1mwandb\u001b[0m: \u001b[32m\u001b[41mERROR\u001b[0m Run n78iwn53 errored: NameError(\"name 'path' is not defined\")\n",
            "\u001b[34m\u001b[1mwandb\u001b[0m: Agent Starting Run: pm00p3lg with config:\n",
            "\u001b[34m\u001b[1mwandb\u001b[0m: \tbatch_norm: False\n",
            "\u001b[34m\u001b[1mwandb\u001b[0m: \tbatch_size: 64\n",
            "\u001b[34m\u001b[1mwandb\u001b[0m: \tdata_augmentation: False\n",
            "\u001b[34m\u001b[1mwandb\u001b[0m: \tdense_layer: 128\n",
            "\u001b[34m\u001b[1mwandb\u001b[0m: \tdropout: 0.6\n",
            "\u001b[34m\u001b[1mwandb\u001b[0m: \tfilter_org: 2\n",
            "\u001b[34m\u001b[1mwandb\u001b[0m: \tkernel_size: 3\n",
            "\u001b[34m\u001b[1mwandb\u001b[0m: \tlearning_rate: 0.0001\n",
            "\u001b[34m\u001b[1mwandb\u001b[0m: \tnum_epochs: 10\n",
            "\u001b[34m\u001b[1mwandb\u001b[0m: \tnum_filter: 32\n"
          ]
        },
        {
          "output_type": "display_data",
          "data": {
            "text/plain": [
              "<IPython.core.display.HTML object>"
            ],
            "text/html": [
              "Tracking run with wandb version 0.12.11"
            ]
          },
          "metadata": {}
        },
        {
          "output_type": "display_data",
          "data": {
            "text/plain": [
              "<IPython.core.display.HTML object>"
            ],
            "text/html": [
              "Run data is saved locally in <code>/content/wandb/run-20220326_180145-pm00p3lg</code>"
            ]
          },
          "metadata": {}
        },
        {
          "output_type": "display_data",
          "data": {
            "text/plain": [
              "<IPython.core.display.HTML object>"
            ],
            "text/html": [
              "Syncing run <strong><a href=\"https://wandb.ai/safi-vamsi-cs6910/assgn2%20trial/runs/pm00p3lg\" target=\"_blank\">electric-sweep-4</a></strong> to <a href=\"https://wandb.ai/safi-vamsi-cs6910/assgn2%20trial\" target=\"_blank\">Weights & Biases</a> (<a href=\"https://wandb.me/run\" target=\"_blank\">docs</a>)<br/>Sweep page:  <a href=\"https://wandb.ai/safi-vamsi-cs6910/assgn2%20trial/sweeps/b6ej9uqk\" target=\"_blank\">https://wandb.ai/safi-vamsi-cs6910/assgn2%20trial/sweeps/b6ej9uqk</a>"
            ]
          },
          "metadata": {}
        },
        {
          "output_type": "stream",
          "name": "stdout",
          "text": [
            "Model: \"sequential\"\n",
            "_________________________________________________________________\n",
            " Layer (type)                Output Shape              Param #   \n",
            "=================================================================\n",
            " conv2d (Conv2D)             (None, 254, 254, 32)      896       \n",
            "                                                                 \n",
            " activation (Activation)     (None, 254, 254, 32)      0         \n",
            "                                                                 \n",
            " max_pooling2d (MaxPooling2D  (None, 127, 127, 32)     0         \n",
            " )                                                               \n",
            "                                                                 \n",
            " conv2d_1 (Conv2D)           (None, 125, 125, 64)      18496     \n",
            "                                                                 \n",
            " activation_1 (Activation)   (None, 125, 125, 64)      0         \n",
            "                                                                 \n",
            " max_pooling2d_1 (MaxPooling  (None, 62, 62, 64)       0         \n",
            " 2D)                                                             \n",
            "                                                                 \n",
            " conv2d_2 (Conv2D)           (None, 60, 60, 128)       73856     \n",
            "                                                                 \n",
            " activation_2 (Activation)   (None, 60, 60, 128)       0         \n",
            "                                                                 \n",
            " max_pooling2d_2 (MaxPooling  (None, 30, 30, 128)      0         \n",
            " 2D)                                                             \n",
            "                                                                 \n",
            " conv2d_3 (Conv2D)           (None, 28, 28, 256)       295168    \n",
            "                                                                 \n",
            " activation_3 (Activation)   (None, 28, 28, 256)       0         \n",
            "                                                                 \n",
            " max_pooling2d_3 (MaxPooling  (None, 14, 14, 256)      0         \n",
            " 2D)                                                             \n",
            "                                                                 \n",
            " conv2d_4 (Conv2D)           (None, 12, 12, 512)       1180160   \n",
            "                                                                 \n",
            " activation_4 (Activation)   (None, 12, 12, 512)       0         \n",
            "                                                                 \n",
            " max_pooling2d_4 (MaxPooling  (None, 6, 6, 512)        0         \n",
            " 2D)                                                             \n",
            "                                                                 \n",
            " flatten (Flatten)           (None, 18432)             0         \n",
            "                                                                 \n",
            " dense (Dense)               (None, 128)               2359424   \n",
            "                                                                 \n",
            " dropout (Dropout)           (None, 128)               0         \n",
            "                                                                 \n",
            " dense_1 (Dense)             (None, 10)                1290      \n",
            "                                                                 \n",
            "=================================================================\n",
            "Total params: 3,929,290\n",
            "Trainable params: 3,929,290\n",
            "Non-trainable params: 0\n",
            "_________________________________________________________________\n",
            "Found 9999 files belonging to 10 classes.\n",
            "Using 9000 files for training.\n",
            "Found 9999 files belonging to 10 classes.\n",
            "Using 999 files for validation.\n",
            "Epoch 1/10\n",
            "282/282 [==============================] - 60s 204ms/step - loss: 3.0323 - acc: 0.0979 - val_loss: 2.3026 - val_acc: 0.0931 - _timestamp: 1648317773.0000 - _runtime: 68.0000\n",
            "Epoch 2/10\n",
            "282/282 [==============================] - 58s 202ms/step - loss: 2.3034 - acc: 0.0967 - val_loss: 2.3029 - val_acc: 0.0931 - _timestamp: 1648317831.0000 - _runtime: 126.0000\n",
            "Epoch 3/10\n",
            "282/282 [==============================] - 58s 202ms/step - loss: 2.3034 - acc: 0.0988 - val_loss: 2.3028 - val_acc: 0.0931 - _timestamp: 1648317913.0000 - _runtime: 208.0000\n",
            "Epoch 4/10\n",
            "282/282 [==============================] - 58s 203ms/step - loss: 2.3026 - acc: 0.1008 - val_loss: 2.3028 - val_acc: 0.0931 - _timestamp: 1648317995.0000 - _runtime: 290.0000\n",
            "Epoch 5/10\n",
            "282/282 [==============================] - 59s 203ms/step - loss: 2.3026 - acc: 0.0994 - val_loss: 2.3028 - val_acc: 0.0931 - _timestamp: 1648318077.0000 - _runtime: 372.0000\n",
            "Epoch 6/10\n",
            "282/282 [==============================] - 58s 202ms/step - loss: 2.3026 - acc: 0.0989 - val_loss: 2.3028 - val_acc: 0.0931 - _timestamp: 1648318136.0000 - _runtime: 431.0000\n",
            "Epoch 7/10\n",
            "282/282 [==============================] - 58s 202ms/step - loss: 2.3026 - acc: 0.0986 - val_loss: 2.3028 - val_acc: 0.0931 - _timestamp: 1648318218.0000 - _runtime: 513.0000\n",
            "Epoch 8/10\n",
            "282/282 [==============================] - 58s 202ms/step - loss: 2.3026 - acc: 0.0990 - val_loss: 2.3028 - val_acc: 0.0931 - _timestamp: 1648318276.0000 - _runtime: 571.0000\n",
            "Epoch 9/10\n",
            "282/282 [==============================] - 58s 203ms/step - loss: 2.3026 - acc: 0.0991 - val_loss: 2.3028 - val_acc: 0.0931 - _timestamp: 1648318358.0000 - _runtime: 653.0000\n",
            "Epoch 10/10\n",
            "282/282 [==============================] - 58s 202ms/step - loss: 2.3026 - acc: 0.0982 - val_loss: 2.3029 - val_acc: 0.0931 - _timestamp: 1648318440.0000 - _runtime: 735.0000\n",
            "\n"
          ]
        },
        {
          "output_type": "display_data",
          "data": {
            "text/plain": [
              "<IPython.core.display.HTML object>"
            ],
            "text/html": [
              "Waiting for W&B process to finish... <strong style=\"color:green\">(success).</strong>"
            ]
          },
          "metadata": {}
        },
        {
          "output_type": "display_data",
          "data": {
            "text/plain": [
              "VBox(children=(Label(value='45.048 MB of 45.048 MB uploaded (0.000 MB deduped)\\r'), FloatProgress(value=1.0, m…"
            ],
            "application/vnd.jupyter.widget-view+json": {
              "version_major": 2,
              "version_minor": 0,
              "model_id": "dc3647d3be4d4fd28b7d05a3132fe178"
            }
          },
          "metadata": {}
        },
        {
          "output_type": "display_data",
          "data": {
            "text/plain": [
              "<IPython.core.display.HTML object>"
            ],
            "text/html": [
              "<style>\n",
              "    table.wandb td:nth-child(1) { padding: 0 10px; text-align: right }\n",
              "    .wandb-row { display: flex; flex-direction: row; flex-wrap: wrap; width: 100% }\n",
              "    .wandb-col { display: flex; flex-direction: column; flex-basis: 100%; flex: 1; padding: 10px; }\n",
              "    </style>\n",
              "<div class=\"wandb-row\"><div class=\"wandb-col\"><h3>Run history:</h3><br/><table class=\"wandb\"><tr><td>acc</td><td>▃▁▅█▆▅▄▅▅▄</td></tr><tr><td>epoch</td><td>▁▂▃▃▄▅▆▆▇█</td></tr><tr><td>loss</td><td>█▁▁▁▁▁▁▁▁▁</td></tr><tr><td>val_acc</td><td>▁▁▁▁▁▁▁▁▁▁</td></tr><tr><td>val_loss</td><td>▁█▅▆▅▅▆▆▆▇</td></tr></table><br/></div><div class=\"wandb-col\"><h3>Run summary:</h3><br/><table class=\"wandb\"><tr><td>acc</td><td>0.09822</td></tr><tr><td>best_epoch</td><td>0</td></tr><tr><td>best_val_loss</td><td>2.30262</td></tr><tr><td>epoch</td><td>9</td></tr><tr><td>loss</td><td>2.3026</td></tr><tr><td>val_acc</td><td>0.09309</td></tr><tr><td>val_loss</td><td>2.30285</td></tr></table><br/></div></div>"
            ]
          },
          "metadata": {}
        },
        {
          "output_type": "display_data",
          "data": {
            "text/plain": [
              "<IPython.core.display.HTML object>"
            ],
            "text/html": [
              "Synced <strong style=\"color:#cdcd00\">electric-sweep-4</strong>: <a href=\"https://wandb.ai/safi-vamsi-cs6910/assgn2%20trial/runs/pm00p3lg\" target=\"_blank\">https://wandb.ai/safi-vamsi-cs6910/assgn2%20trial/runs/pm00p3lg</a><br/>Synced 5 W&B file(s), 1 media file(s), 0 artifact file(s) and 1 other file(s)"
            ]
          },
          "metadata": {}
        },
        {
          "output_type": "display_data",
          "data": {
            "text/plain": [
              "<IPython.core.display.HTML object>"
            ],
            "text/html": [
              "Find logs at: <code>./wandb/run-20220326_180145-pm00p3lg/logs</code>"
            ]
          },
          "metadata": {}
        },
        {
          "output_type": "stream",
          "name": "stderr",
          "text": [
            "\u001b[34m\u001b[1mwandb\u001b[0m: Agent Starting Run: ov8iet3h with config:\n",
            "\u001b[34m\u001b[1mwandb\u001b[0m: \tbatch_norm: False\n",
            "\u001b[34m\u001b[1mwandb\u001b[0m: \tbatch_size: 64\n",
            "\u001b[34m\u001b[1mwandb\u001b[0m: \tdata_augmentation: True\n",
            "\u001b[34m\u001b[1mwandb\u001b[0m: \tdense_layer: 64\n",
            "\u001b[34m\u001b[1mwandb\u001b[0m: \tdropout: 0.4\n",
            "\u001b[34m\u001b[1mwandb\u001b[0m: \tfilter_org: 2\n",
            "\u001b[34m\u001b[1mwandb\u001b[0m: \tkernel_size: 7\n",
            "\u001b[34m\u001b[1mwandb\u001b[0m: \tlearning_rate: 0.0001\n",
            "\u001b[34m\u001b[1mwandb\u001b[0m: \tnum_epochs: 20\n",
            "\u001b[34m\u001b[1mwandb\u001b[0m: \tnum_filter: 64\n"
          ]
        },
        {
          "output_type": "display_data",
          "data": {
            "text/plain": [
              "<IPython.core.display.HTML object>"
            ],
            "text/html": [
              "Tracking run with wandb version 0.12.11"
            ]
          },
          "metadata": {}
        },
        {
          "output_type": "display_data",
          "data": {
            "text/plain": [
              "<IPython.core.display.HTML object>"
            ],
            "text/html": [
              "Run data is saved locally in <code>/content/wandb/run-20220326_181432-ov8iet3h</code>"
            ]
          },
          "metadata": {}
        },
        {
          "output_type": "display_data",
          "data": {
            "text/plain": [
              "<IPython.core.display.HTML object>"
            ],
            "text/html": [
              "Syncing run <strong><a href=\"https://wandb.ai/safi-vamsi-cs6910/assgn2%20trial/runs/ov8iet3h\" target=\"_blank\">mild-sweep-5</a></strong> to <a href=\"https://wandb.ai/safi-vamsi-cs6910/assgn2%20trial\" target=\"_blank\">Weights & Biases</a> (<a href=\"https://wandb.me/run\" target=\"_blank\">docs</a>)<br/>Sweep page:  <a href=\"https://wandb.ai/safi-vamsi-cs6910/assgn2%20trial/sweeps/b6ej9uqk\" target=\"_blank\">https://wandb.ai/safi-vamsi-cs6910/assgn2%20trial/sweeps/b6ej9uqk</a>"
            ]
          },
          "metadata": {}
        },
        {
          "output_type": "stream",
          "name": "stdout",
          "text": [
            "Model: \"sequential\"\n",
            "_________________________________________________________________\n",
            " Layer (type)                Output Shape              Param #   \n",
            "=================================================================\n",
            " conv2d (Conv2D)             (None, 250, 250, 32)      4736      \n",
            "                                                                 \n",
            " activation (Activation)     (None, 250, 250, 32)      0         \n",
            "                                                                 \n",
            " max_pooling2d (MaxPooling2D  (None, 125, 125, 32)     0         \n",
            " )                                                               \n",
            "                                                                 \n",
            " conv2d_1 (Conv2D)           (None, 119, 119, 64)      100416    \n",
            "                                                                 \n",
            " activation_1 (Activation)   (None, 119, 119, 64)      0         \n",
            "                                                                 \n",
            " max_pooling2d_1 (MaxPooling  (None, 59, 59, 64)       0         \n",
            " 2D)                                                             \n",
            "                                                                 \n",
            " conv2d_2 (Conv2D)           (None, 53, 53, 128)       401536    \n",
            "                                                                 \n",
            " activation_2 (Activation)   (None, 53, 53, 128)       0         \n",
            "                                                                 \n",
            " max_pooling2d_2 (MaxPooling  (None, 26, 26, 128)      0         \n",
            " 2D)                                                             \n",
            "                                                                 \n",
            " conv2d_3 (Conv2D)           (None, 20, 20, 256)       1605888   \n",
            "                                                                 \n",
            " activation_3 (Activation)   (None, 20, 20, 256)       0         \n",
            "                                                                 \n",
            " max_pooling2d_3 (MaxPooling  (None, 10, 10, 256)      0         \n",
            " 2D)                                                             \n",
            "                                                                 \n",
            " conv2d_4 (Conv2D)           (None, 4, 4, 512)         6423040   \n",
            "                                                                 \n",
            " activation_4 (Activation)   (None, 4, 4, 512)         0         \n",
            "                                                                 \n",
            " max_pooling2d_4 (MaxPooling  (None, 2, 2, 512)        0         \n",
            " 2D)                                                             \n",
            "                                                                 \n",
            " flatten (Flatten)           (None, 2048)              0         \n",
            "                                                                 \n",
            " dense (Dense)               (None, 64)                131136    \n",
            "                                                                 \n",
            " dropout (Dropout)           (None, 64)                0         \n",
            "                                                                 \n",
            " dense_1 (Dense)             (None, 10)                650       \n",
            "                                                                 \n",
            "=================================================================\n",
            "Total params: 8,667,402\n",
            "Trainable params: 8,667,402\n",
            "Non-trainable params: 0\n",
            "_________________________________________________________________\n",
            "\n"
          ]
        },
        {
          "output_type": "display_data",
          "data": {
            "text/plain": [
              "<IPython.core.display.HTML object>"
            ],
            "text/html": [
              "Waiting for W&B process to finish... <strong style=\"color:red\">(failed 1).</strong> Press Control-C to abort syncing."
            ]
          },
          "metadata": {}
        },
        {
          "output_type": "display_data",
          "data": {
            "text/plain": [
              "VBox(children=(Label(value='0.001 MB of 0.001 MB uploaded (0.000 MB deduped)\\r'), FloatProgress(value=1.0, max…"
            ],
            "application/vnd.jupyter.widget-view+json": {
              "version_major": 2,
              "version_minor": 0,
              "model_id": "213e510e67284a878f1e99351c9c2b80"
            }
          },
          "metadata": {}
        },
        {
          "output_type": "display_data",
          "data": {
            "text/plain": [
              "<IPython.core.display.HTML object>"
            ],
            "text/html": [
              "Synced <strong style=\"color:#cdcd00\">mild-sweep-5</strong>: <a href=\"https://wandb.ai/safi-vamsi-cs6910/assgn2%20trial/runs/ov8iet3h\" target=\"_blank\">https://wandb.ai/safi-vamsi-cs6910/assgn2%20trial/runs/ov8iet3h</a><br/>Synced 5 W&B file(s), 0 media file(s), 0 artifact file(s) and 0 other file(s)"
            ]
          },
          "metadata": {}
        },
        {
          "output_type": "display_data",
          "data": {
            "text/plain": [
              "<IPython.core.display.HTML object>"
            ],
            "text/html": [
              "Find logs at: <code>./wandb/run-20220326_181432-ov8iet3h/logs</code>"
            ]
          },
          "metadata": {}
        },
        {
          "output_type": "stream",
          "name": "stderr",
          "text": [
            "Run ov8iet3h errored: NameError(\"name 'path' is not defined\")\n",
            "\u001b[34m\u001b[1mwandb\u001b[0m: \u001b[32m\u001b[41mERROR\u001b[0m Run ov8iet3h errored: NameError(\"name 'path' is not defined\")\n",
            "\u001b[34m\u001b[1mwandb\u001b[0m: Agent Starting Run: dof8k7dm with config:\n",
            "\u001b[34m\u001b[1mwandb\u001b[0m: \tbatch_norm: True\n",
            "\u001b[34m\u001b[1mwandb\u001b[0m: \tbatch_size: 64\n",
            "\u001b[34m\u001b[1mwandb\u001b[0m: \tdata_augmentation: True\n",
            "\u001b[34m\u001b[1mwandb\u001b[0m: \tdense_layer: 64\n",
            "\u001b[34m\u001b[1mwandb\u001b[0m: \tdropout: 0\n",
            "\u001b[34m\u001b[1mwandb\u001b[0m: \tfilter_org: 1\n",
            "\u001b[34m\u001b[1mwandb\u001b[0m: \tkernel_size: 5\n",
            "\u001b[34m\u001b[1mwandb\u001b[0m: \tlearning_rate: 0.001\n",
            "\u001b[34m\u001b[1mwandb\u001b[0m: \tnum_epochs: 30\n",
            "\u001b[34m\u001b[1mwandb\u001b[0m: \tnum_filter: 32\n"
          ]
        },
        {
          "output_type": "display_data",
          "data": {
            "text/plain": [
              "<IPython.core.display.HTML object>"
            ],
            "text/html": [
              "Tracking run with wandb version 0.12.11"
            ]
          },
          "metadata": {}
        },
        {
          "output_type": "display_data",
          "data": {
            "text/plain": [
              "<IPython.core.display.HTML object>"
            ],
            "text/html": [
              "Run data is saved locally in <code>/content/wandb/run-20220326_181448-dof8k7dm</code>"
            ]
          },
          "metadata": {}
        },
        {
          "output_type": "display_data",
          "data": {
            "text/plain": [
              "<IPython.core.display.HTML object>"
            ],
            "text/html": [
              "Syncing run <strong><a href=\"https://wandb.ai/safi-vamsi-cs6910/assgn2%20trial/runs/dof8k7dm\" target=\"_blank\">revived-sweep-6</a></strong> to <a href=\"https://wandb.ai/safi-vamsi-cs6910/assgn2%20trial\" target=\"_blank\">Weights & Biases</a> (<a href=\"https://wandb.me/run\" target=\"_blank\">docs</a>)<br/>Sweep page:  <a href=\"https://wandb.ai/safi-vamsi-cs6910/assgn2%20trial/sweeps/b6ej9uqk\" target=\"_blank\">https://wandb.ai/safi-vamsi-cs6910/assgn2%20trial/sweeps/b6ej9uqk</a>"
            ]
          },
          "metadata": {}
        },
        {
          "output_type": "stream",
          "name": "stdout",
          "text": [
            "Model: \"sequential\"\n",
            "_________________________________________________________________\n",
            " Layer (type)                Output Shape              Param #   \n",
            "=================================================================\n",
            " conv2d (Conv2D)             (None, 252, 252, 32)      2432      \n",
            "                                                                 \n",
            " batch_normalization (BatchN  (None, 252, 252, 32)     128       \n",
            " ormalization)                                                   \n",
            "                                                                 \n",
            " activation (Activation)     (None, 252, 252, 32)      0         \n",
            "                                                                 \n",
            " max_pooling2d (MaxPooling2D  (None, 126, 126, 32)     0         \n",
            " )                                                               \n",
            "                                                                 \n",
            " conv2d_1 (Conv2D)           (None, 122, 122, 32)      25632     \n",
            "                                                                 \n",
            " batch_normalization_1 (Batc  (None, 122, 122, 32)     128       \n",
            " hNormalization)                                                 \n",
            "                                                                 \n",
            " activation_1 (Activation)   (None, 122, 122, 32)      0         \n",
            "                                                                 \n",
            " max_pooling2d_1 (MaxPooling  (None, 61, 61, 32)       0         \n",
            " 2D)                                                             \n",
            "                                                                 \n",
            " conv2d_2 (Conv2D)           (None, 57, 57, 32)        25632     \n",
            "                                                                 \n",
            " batch_normalization_2 (Batc  (None, 57, 57, 32)       128       \n",
            " hNormalization)                                                 \n",
            "                                                                 \n",
            " activation_2 (Activation)   (None, 57, 57, 32)        0         \n",
            "                                                                 \n",
            " max_pooling2d_2 (MaxPooling  (None, 28, 28, 32)       0         \n",
            " 2D)                                                             \n",
            "                                                                 \n",
            " conv2d_3 (Conv2D)           (None, 24, 24, 32)        25632     \n",
            "                                                                 \n",
            " batch_normalization_3 (Batc  (None, 24, 24, 32)       128       \n",
            " hNormalization)                                                 \n",
            "                                                                 \n",
            " activation_3 (Activation)   (None, 24, 24, 32)        0         \n",
            "                                                                 \n",
            " max_pooling2d_3 (MaxPooling  (None, 12, 12, 32)       0         \n",
            " 2D)                                                             \n",
            "                                                                 \n",
            " conv2d_4 (Conv2D)           (None, 8, 8, 32)          25632     \n",
            "                                                                 \n",
            " batch_normalization_4 (Batc  (None, 8, 8, 32)         128       \n",
            " hNormalization)                                                 \n",
            "                                                                 \n",
            " activation_4 (Activation)   (None, 8, 8, 32)          0         \n",
            "                                                                 \n",
            " max_pooling2d_4 (MaxPooling  (None, 4, 4, 32)         0         \n",
            " 2D)                                                             \n",
            "                                                                 \n",
            " flatten (Flatten)           (None, 512)               0         \n",
            "                                                                 \n",
            " dense (Dense)               (None, 64)                32832     \n",
            "                                                                 \n",
            " dropout (Dropout)           (None, 64)                0         \n",
            "                                                                 \n",
            " dense_1 (Dense)             (None, 10)                650       \n",
            "                                                                 \n",
            "=================================================================\n",
            "Total params: 139,082\n",
            "Trainable params: 138,762\n",
            "Non-trainable params: 320\n",
            "_________________________________________________________________\n",
            "\n"
          ]
        },
        {
          "output_type": "display_data",
          "data": {
            "text/plain": [
              "<IPython.core.display.HTML object>"
            ],
            "text/html": [
              "Waiting for W&B process to finish... <strong style=\"color:red\">(failed 1).</strong> Press Control-C to abort syncing."
            ]
          },
          "metadata": {}
        },
        {
          "output_type": "display_data",
          "data": {
            "text/plain": [
              "VBox(children=(Label(value='0.001 MB of 0.001 MB uploaded (0.000 MB deduped)\\r'), FloatProgress(value=1.0, max…"
            ],
            "application/vnd.jupyter.widget-view+json": {
              "version_major": 2,
              "version_minor": 0,
              "model_id": "11feb4ba51f74201adb4384cf261b36f"
            }
          },
          "metadata": {}
        },
        {
          "output_type": "display_data",
          "data": {
            "text/plain": [
              "<IPython.core.display.HTML object>"
            ],
            "text/html": [
              "Synced <strong style=\"color:#cdcd00\">revived-sweep-6</strong>: <a href=\"https://wandb.ai/safi-vamsi-cs6910/assgn2%20trial/runs/dof8k7dm\" target=\"_blank\">https://wandb.ai/safi-vamsi-cs6910/assgn2%20trial/runs/dof8k7dm</a><br/>Synced 5 W&B file(s), 0 media file(s), 0 artifact file(s) and 0 other file(s)"
            ]
          },
          "metadata": {}
        },
        {
          "output_type": "display_data",
          "data": {
            "text/plain": [
              "<IPython.core.display.HTML object>"
            ],
            "text/html": [
              "Find logs at: <code>./wandb/run-20220326_181448-dof8k7dm/logs</code>"
            ]
          },
          "metadata": {}
        },
        {
          "output_type": "stream",
          "name": "stderr",
          "text": [
            "Run dof8k7dm errored: NameError(\"name 'path' is not defined\")\n",
            "\u001b[34m\u001b[1mwandb\u001b[0m: \u001b[32m\u001b[41mERROR\u001b[0m Run dof8k7dm errored: NameError(\"name 'path' is not defined\")\n",
            "\u001b[34m\u001b[1mwandb\u001b[0m: Agent Starting Run: ukw1kp6t with config:\n",
            "\u001b[34m\u001b[1mwandb\u001b[0m: \tbatch_norm: False\n",
            "\u001b[34m\u001b[1mwandb\u001b[0m: \tbatch_size: 128\n",
            "\u001b[34m\u001b[1mwandb\u001b[0m: \tdata_augmentation: False\n",
            "\u001b[34m\u001b[1mwandb\u001b[0m: \tdense_layer: 128\n",
            "\u001b[34m\u001b[1mwandb\u001b[0m: \tdropout: 0.6\n",
            "\u001b[34m\u001b[1mwandb\u001b[0m: \tfilter_org: 1\n",
            "\u001b[34m\u001b[1mwandb\u001b[0m: \tkernel_size: 5\n",
            "\u001b[34m\u001b[1mwandb\u001b[0m: \tlearning_rate: 0.0001\n",
            "\u001b[34m\u001b[1mwandb\u001b[0m: \tnum_epochs: 30\n",
            "\u001b[34m\u001b[1mwandb\u001b[0m: \tnum_filter: 64\n"
          ]
        },
        {
          "output_type": "display_data",
          "data": {
            "text/plain": [
              "<IPython.core.display.HTML object>"
            ],
            "text/html": [
              "Tracking run with wandb version 0.12.11"
            ]
          },
          "metadata": {}
        },
        {
          "output_type": "display_data",
          "data": {
            "text/plain": [
              "<IPython.core.display.HTML object>"
            ],
            "text/html": [
              "Run data is saved locally in <code>/content/wandb/run-20220326_181504-ukw1kp6t</code>"
            ]
          },
          "metadata": {}
        },
        {
          "output_type": "display_data",
          "data": {
            "text/plain": [
              "<IPython.core.display.HTML object>"
            ],
            "text/html": [
              "Syncing run <strong><a href=\"https://wandb.ai/safi-vamsi-cs6910/assgn2%20trial/runs/ukw1kp6t\" target=\"_blank\">worthy-sweep-7</a></strong> to <a href=\"https://wandb.ai/safi-vamsi-cs6910/assgn2%20trial\" target=\"_blank\">Weights & Biases</a> (<a href=\"https://wandb.me/run\" target=\"_blank\">docs</a>)<br/>Sweep page:  <a href=\"https://wandb.ai/safi-vamsi-cs6910/assgn2%20trial/sweeps/b6ej9uqk\" target=\"_blank\">https://wandb.ai/safi-vamsi-cs6910/assgn2%20trial/sweeps/b6ej9uqk</a>"
            ]
          },
          "metadata": {}
        },
        {
          "output_type": "stream",
          "name": "stdout",
          "text": [
            "Model: \"sequential\"\n",
            "_________________________________________________________________\n",
            " Layer (type)                Output Shape              Param #   \n",
            "=================================================================\n",
            " conv2d (Conv2D)             (None, 252, 252, 32)      2432      \n",
            "                                                                 \n",
            " activation (Activation)     (None, 252, 252, 32)      0         \n",
            "                                                                 \n",
            " max_pooling2d (MaxPooling2D  (None, 126, 126, 32)     0         \n",
            " )                                                               \n",
            "                                                                 \n",
            " conv2d_1 (Conv2D)           (None, 122, 122, 32)      25632     \n",
            "                                                                 \n",
            " activation_1 (Activation)   (None, 122, 122, 32)      0         \n",
            "                                                                 \n",
            " max_pooling2d_1 (MaxPooling  (None, 61, 61, 32)       0         \n",
            " 2D)                                                             \n",
            "                                                                 \n",
            " conv2d_2 (Conv2D)           (None, 57, 57, 32)        25632     \n",
            "                                                                 \n",
            " activation_2 (Activation)   (None, 57, 57, 32)        0         \n",
            "                                                                 \n",
            " max_pooling2d_2 (MaxPooling  (None, 28, 28, 32)       0         \n",
            " 2D)                                                             \n",
            "                                                                 \n",
            " conv2d_3 (Conv2D)           (None, 24, 24, 32)        25632     \n",
            "                                                                 \n",
            " activation_3 (Activation)   (None, 24, 24, 32)        0         \n",
            "                                                                 \n",
            " max_pooling2d_3 (MaxPooling  (None, 12, 12, 32)       0         \n",
            " 2D)                                                             \n",
            "                                                                 \n",
            " conv2d_4 (Conv2D)           (None, 8, 8, 32)          25632     \n",
            "                                                                 \n",
            " activation_4 (Activation)   (None, 8, 8, 32)          0         \n",
            "                                                                 \n",
            " max_pooling2d_4 (MaxPooling  (None, 4, 4, 32)         0         \n",
            " 2D)                                                             \n",
            "                                                                 \n",
            " flatten (Flatten)           (None, 512)               0         \n",
            "                                                                 \n",
            " dense (Dense)               (None, 128)               65664     \n",
            "                                                                 \n",
            " dropout (Dropout)           (None, 128)               0         \n",
            "                                                                 \n",
            " dense_1 (Dense)             (None, 10)                1290      \n",
            "                                                                 \n",
            "=================================================================\n",
            "Total params: 171,914\n",
            "Trainable params: 171,914\n",
            "Non-trainable params: 0\n",
            "_________________________________________________________________\n",
            "Found 9999 files belonging to 10 classes.\n",
            "Using 9000 files for training.\n",
            "Found 9999 files belonging to 10 classes.\n",
            "Using 999 files for validation.\n",
            "Epoch 1/10\n",
            "282/282 [==============================] - 60s 203ms/step - loss: 3.2562 - acc: 0.0977 - val_loss: 2.2984 - val_acc: 0.1141 - _timestamp: 1648318570.0000 - _runtime: 66.0000\n",
            "Epoch 2/10\n",
            "282/282 [==============================] - 58s 200ms/step - loss: 2.3032 - acc: 0.1143 - val_loss: 2.2926 - val_acc: 0.1381 - _timestamp: 1648318627.0000 - _runtime: 123.0000\n",
            "Epoch 3/10\n",
            "282/282 [==============================] - 58s 201ms/step - loss: 2.2950 - acc: 0.1200 - val_loss: 2.2811 - val_acc: 0.1411 - _timestamp: 1648318685.0000 - _runtime: 181.0000\n",
            "Epoch 4/10\n",
            "282/282 [==============================] - 58s 201ms/step - loss: 2.2899 - acc: 0.1170 - val_loss: 2.2814 - val_acc: 0.1421 - _timestamp: 1648318743.0000 - _runtime: 239.0000\n",
            "Epoch 5/10\n",
            "282/282 [==============================] - 58s 201ms/step - loss: 2.2805 - acc: 0.1254 - val_loss: 2.2724 - val_acc: 0.1371 - _timestamp: 1648318801.0000 - _runtime: 297.0000\n",
            "Epoch 6/10\n",
            "282/282 [==============================] - 58s 200ms/step - loss: 2.2758 - acc: 0.1389 - val_loss: 2.2785 - val_acc: 0.1341 - _timestamp: 1648318859.0000 - _runtime: 355.0000\n",
            "Epoch 7/10\n",
            "282/282 [==============================] - 58s 201ms/step - loss: 2.2710 - acc: 0.1424 - val_loss: 2.2643 - val_acc: 0.1461 - _timestamp: 1648318941.0000 - _runtime: 437.0000\n",
            "Epoch 8/10\n",
            "282/282 [==============================] - 58s 201ms/step - loss: 2.2584 - acc: 0.1468 - val_loss: 2.2642 - val_acc: 0.1642 - _timestamp: 1648318999.0000 - _runtime: 495.0000\n",
            "Epoch 9/10\n",
            "282/282 [==============================] - 58s 202ms/step - loss: 2.2534 - acc: 0.1516 - val_loss: 2.2280 - val_acc: 0.2092 - _timestamp: 1648319058.0000 - _runtime: 554.0000\n",
            "Epoch 10/10\n",
            "282/282 [==============================] - 58s 202ms/step - loss: 2.2190 - acc: 0.1808 - val_loss: 2.1811 - val_acc: 0.2022 - _timestamp: 1648319140.0000 - _runtime: 636.0000\n",
            "\n"
          ]
        },
        {
          "output_type": "display_data",
          "data": {
            "text/plain": [
              "<IPython.core.display.HTML object>"
            ],
            "text/html": [
              "Waiting for W&B process to finish... <strong style=\"color:green\">(success).</strong>"
            ]
          },
          "metadata": {}
        },
        {
          "output_type": "display_data",
          "data": {
            "text/plain": [
              "VBox(children=(Label(value='2.049 MB of 2.049 MB uploaded (0.000 MB deduped)\\r'), FloatProgress(value=1.0, max…"
            ],
            "application/vnd.jupyter.widget-view+json": {
              "version_major": 2,
              "version_minor": 0,
              "model_id": "c2d447f3dba442c1b2c0a21ada95b035"
            }
          },
          "metadata": {}
        },
        {
          "output_type": "display_data",
          "data": {
            "text/plain": [
              "<IPython.core.display.HTML object>"
            ],
            "text/html": [
              "<style>\n",
              "    table.wandb td:nth-child(1) { padding: 0 10px; text-align: right }\n",
              "    .wandb-row { display: flex; flex-direction: row; flex-wrap: wrap; width: 100% }\n",
              "    .wandb-col { display: flex; flex-direction: column; flex-basis: 100%; flex: 1; padding: 10px; }\n",
              "    </style>\n",
              "<div class=\"wandb-row\"><div class=\"wandb-col\"><h3>Run history:</h3><br/><table class=\"wandb\"><tr><td>acc</td><td>▁▂▃▃▃▄▅▅▆█</td></tr><tr><td>epoch</td><td>▁▂▃▃▄▅▆▆▇█</td></tr><tr><td>loss</td><td>█▂▂▁▁▁▁▁▁▁</td></tr><tr><td>val_acc</td><td>▁▃▃▃▃▂▃▅█▇</td></tr><tr><td>val_loss</td><td>██▇▇▆▇▆▆▄▁</td></tr></table><br/></div><div class=\"wandb-col\"><h3>Run summary:</h3><br/><table class=\"wandb\"><tr><td>acc</td><td>0.18078</td></tr><tr><td>best_epoch</td><td>9</td></tr><tr><td>best_val_loss</td><td>2.1811</td></tr><tr><td>epoch</td><td>9</td></tr><tr><td>loss</td><td>2.21905</td></tr><tr><td>val_acc</td><td>0.2022</td></tr><tr><td>val_loss</td><td>2.1811</td></tr></table><br/></div></div>"
            ]
          },
          "metadata": {}
        },
        {
          "output_type": "display_data",
          "data": {
            "text/plain": [
              "<IPython.core.display.HTML object>"
            ],
            "text/html": [
              "Synced <strong style=\"color:#cdcd00\">worthy-sweep-7</strong>: <a href=\"https://wandb.ai/safi-vamsi-cs6910/assgn2%20trial/runs/ukw1kp6t\" target=\"_blank\">https://wandb.ai/safi-vamsi-cs6910/assgn2%20trial/runs/ukw1kp6t</a><br/>Synced 5 W&B file(s), 1 media file(s), 0 artifact file(s) and 1 other file(s)"
            ]
          },
          "metadata": {}
        },
        {
          "output_type": "display_data",
          "data": {
            "text/plain": [
              "<IPython.core.display.HTML object>"
            ],
            "text/html": [
              "Find logs at: <code>./wandb/run-20220326_181504-ukw1kp6t/logs</code>"
            ]
          },
          "metadata": {}
        },
        {
          "output_type": "stream",
          "name": "stderr",
          "text": [
            "\u001b[34m\u001b[1mwandb\u001b[0m: Agent Starting Run: gtnn3jh7 with config:\n",
            "\u001b[34m\u001b[1mwandb\u001b[0m: \tbatch_norm: True\n",
            "\u001b[34m\u001b[1mwandb\u001b[0m: \tbatch_size: 32\n",
            "\u001b[34m\u001b[1mwandb\u001b[0m: \tdata_augmentation: False\n",
            "\u001b[34m\u001b[1mwandb\u001b[0m: \tdense_layer: 128\n",
            "\u001b[34m\u001b[1mwandb\u001b[0m: \tdropout: 0\n",
            "\u001b[34m\u001b[1mwandb\u001b[0m: \tfilter_org: 2\n",
            "\u001b[34m\u001b[1mwandb\u001b[0m: \tkernel_size: 7\n",
            "\u001b[34m\u001b[1mwandb\u001b[0m: \tlearning_rate: 0.0001\n",
            "\u001b[34m\u001b[1mwandb\u001b[0m: \tnum_epochs: 10\n",
            "\u001b[34m\u001b[1mwandb\u001b[0m: \tnum_filter: 64\n"
          ]
        },
        {
          "output_type": "display_data",
          "data": {
            "text/plain": [
              "<IPython.core.display.HTML object>"
            ],
            "text/html": [
              "Tracking run with wandb version 0.12.11"
            ]
          },
          "metadata": {}
        },
        {
          "output_type": "display_data",
          "data": {
            "text/plain": [
              "<IPython.core.display.HTML object>"
            ],
            "text/html": [
              "Run data is saved locally in <code>/content/wandb/run-20220326_182548-gtnn3jh7</code>"
            ]
          },
          "metadata": {}
        },
        {
          "output_type": "display_data",
          "data": {
            "text/plain": [
              "<IPython.core.display.HTML object>"
            ],
            "text/html": [
              "Syncing run <strong><a href=\"https://wandb.ai/safi-vamsi-cs6910/assgn2%20trial/runs/gtnn3jh7\" target=\"_blank\">treasured-sweep-8</a></strong> to <a href=\"https://wandb.ai/safi-vamsi-cs6910/assgn2%20trial\" target=\"_blank\">Weights & Biases</a> (<a href=\"https://wandb.me/run\" target=\"_blank\">docs</a>)<br/>Sweep page:  <a href=\"https://wandb.ai/safi-vamsi-cs6910/assgn2%20trial/sweeps/b6ej9uqk\" target=\"_blank\">https://wandb.ai/safi-vamsi-cs6910/assgn2%20trial/sweeps/b6ej9uqk</a>"
            ]
          },
          "metadata": {}
        },
        {
          "output_type": "stream",
          "name": "stdout",
          "text": [
            "Model: \"sequential\"\n",
            "_________________________________________________________________\n",
            " Layer (type)                Output Shape              Param #   \n",
            "=================================================================\n",
            " conv2d (Conv2D)             (None, 250, 250, 32)      4736      \n",
            "                                                                 \n",
            " batch_normalization (BatchN  (None, 250, 250, 32)     128       \n",
            " ormalization)                                                   \n",
            "                                                                 \n",
            " activation (Activation)     (None, 250, 250, 32)      0         \n",
            "                                                                 \n",
            " max_pooling2d (MaxPooling2D  (None, 125, 125, 32)     0         \n",
            " )                                                               \n",
            "                                                                 \n",
            " conv2d_1 (Conv2D)           (None, 119, 119, 64)      100416    \n",
            "                                                                 \n",
            " batch_normalization_1 (Batc  (None, 119, 119, 64)     256       \n",
            " hNormalization)                                                 \n",
            "                                                                 \n",
            " activation_1 (Activation)   (None, 119, 119, 64)      0         \n",
            "                                                                 \n",
            " max_pooling2d_1 (MaxPooling  (None, 59, 59, 64)       0         \n",
            " 2D)                                                             \n",
            "                                                                 \n",
            " conv2d_2 (Conv2D)           (None, 53, 53, 128)       401536    \n",
            "                                                                 \n",
            " batch_normalization_2 (Batc  (None, 53, 53, 128)      512       \n",
            " hNormalization)                                                 \n",
            "                                                                 \n",
            " activation_2 (Activation)   (None, 53, 53, 128)       0         \n",
            "                                                                 \n",
            " max_pooling2d_2 (MaxPooling  (None, 26, 26, 128)      0         \n",
            " 2D)                                                             \n",
            "                                                                 \n",
            " conv2d_3 (Conv2D)           (None, 20, 20, 256)       1605888   \n",
            "                                                                 \n",
            " batch_normalization_3 (Batc  (None, 20, 20, 256)      1024      \n",
            " hNormalization)                                                 \n",
            "                                                                 \n",
            " activation_3 (Activation)   (None, 20, 20, 256)       0         \n",
            "                                                                 \n",
            " max_pooling2d_3 (MaxPooling  (None, 10, 10, 256)      0         \n",
            " 2D)                                                             \n",
            "                                                                 \n",
            " conv2d_4 (Conv2D)           (None, 4, 4, 512)         6423040   \n",
            "                                                                 \n",
            " batch_normalization_4 (Batc  (None, 4, 4, 512)        2048      \n",
            " hNormalization)                                                 \n",
            "                                                                 \n",
            " activation_4 (Activation)   (None, 4, 4, 512)         0         \n",
            "                                                                 \n",
            " max_pooling2d_4 (MaxPooling  (None, 2, 2, 512)        0         \n",
            " 2D)                                                             \n",
            "                                                                 \n",
            " flatten (Flatten)           (None, 2048)              0         \n",
            "                                                                 \n",
            " dense (Dense)               (None, 128)               262272    \n",
            "                                                                 \n",
            " dropout (Dropout)           (None, 128)               0         \n",
            "                                                                 \n",
            " dense_1 (Dense)             (None, 10)                1290      \n",
            "                                                                 \n",
            "=================================================================\n",
            "Total params: 8,803,146\n",
            "Trainable params: 8,801,162\n",
            "Non-trainable params: 1,984\n",
            "_________________________________________________________________\n",
            "Found 9999 files belonging to 10 classes.\n",
            "Using 9000 files for training.\n",
            "Found 9999 files belonging to 10 classes.\n",
            "Using 999 files for validation.\n",
            "Epoch 1/10\n",
            "282/282 [==============================] - 63s 215ms/step - loss: 2.1076 - acc: 0.2611 - val_loss: 2.1418 - val_acc: 0.2462 - _timestamp: 1648319217.0000 - _runtime: 69.0000\n",
            "Epoch 2/10\n",
            "282/282 [==============================] - 62s 214ms/step - loss: 1.9035 - acc: 0.3277 - val_loss: 2.0359 - val_acc: 0.3103 - _timestamp: 1648319298.0000 - _runtime: 150.0000\n",
            "Epoch 3/10\n",
            "282/282 [==============================] - 62s 215ms/step - loss: 1.7301 - acc: 0.4008 - val_loss: 2.0038 - val_acc: 0.3103 - _timestamp: 1648319380.0000 - _runtime: 232.0000\n",
            "Epoch 4/10\n",
            "282/282 [==============================] - 61s 212ms/step - loss: 1.5098 - acc: 0.4804 - val_loss: 2.2655 - val_acc: 0.2763 - _timestamp: 1648319461.0000 - _runtime: 313.0000\n",
            "Epoch 5/10\n",
            "282/282 [==============================] - 61s 213ms/step - loss: 1.2019 - acc: 0.6002 - val_loss: 2.0845 - val_acc: 0.2763 - _timestamp: 1648319523.0000 - _runtime: 375.0000\n",
            "Epoch 6/10\n",
            "282/282 [==============================] - 63s 217ms/step - loss: 0.8211 - acc: 0.7583 - val_loss: 2.2680 - val_acc: 0.2723 - _timestamp: 1648319585.0000 - _runtime: 437.0000\n",
            "Epoch 7/10\n",
            "282/282 [==============================] - 61s 213ms/step - loss: 0.4325 - acc: 0.9001 - val_loss: 2.6510 - val_acc: 0.2823 - _timestamp: 1648319666.0000 - _runtime: 518.0000\n",
            "Epoch 8/10\n",
            "282/282 [==============================] - 61s 212ms/step - loss: 0.2006 - acc: 0.9664 - val_loss: 2.9311 - val_acc: 0.2412 - _timestamp: 1648319748.0000 - _runtime: 600.0000\n",
            "Epoch 9/10\n",
            "282/282 [==============================] - 61s 213ms/step - loss: 0.0867 - acc: 0.9892 - val_loss: 2.4592 - val_acc: 0.3073 - _timestamp: 1648319830.0000 - _runtime: 682.0000\n",
            "Epoch 10/10\n",
            "282/282 [==============================] - 61s 212ms/step - loss: 0.0406 - acc: 0.9962 - val_loss: 2.6147 - val_acc: 0.2933 - _timestamp: 1648319912.0000 - _runtime: 764.0000\n",
            "\n"
          ]
        },
        {
          "output_type": "display_data",
          "data": {
            "text/plain": [
              "<IPython.core.display.HTML object>"
            ],
            "text/html": [
              "Waiting for W&B process to finish... <strong style=\"color:green\">(success).</strong>"
            ]
          },
          "metadata": {}
        },
        {
          "output_type": "display_data",
          "data": {
            "text/plain": [
              "VBox(children=(Label(value='100.854 MB of 100.854 MB uploaded (0.000 MB deduped)\\r'), FloatProgress(value=1.0,…"
            ],
            "application/vnd.jupyter.widget-view+json": {
              "version_major": 2,
              "version_minor": 0,
              "model_id": "fb8eb1d5a23d4915a4c6bc0691f29b7c"
            }
          },
          "metadata": {}
        },
        {
          "output_type": "display_data",
          "data": {
            "text/plain": [
              "<IPython.core.display.HTML object>"
            ],
            "text/html": [
              "<style>\n",
              "    table.wandb td:nth-child(1) { padding: 0 10px; text-align: right }\n",
              "    .wandb-row { display: flex; flex-direction: row; flex-wrap: wrap; width: 100% }\n",
              "    .wandb-col { display: flex; flex-direction: column; flex-basis: 100%; flex: 1; padding: 10px; }\n",
              "    </style>\n",
              "<div class=\"wandb-row\"><div class=\"wandb-col\"><h3>Run history:</h3><br/><table class=\"wandb\"><tr><td>acc</td><td>▁▂▂▃▄▆▇███</td></tr><tr><td>epoch</td><td>▁▂▃▃▄▅▆▆▇█</td></tr><tr><td>loss</td><td>█▇▇▆▅▄▂▂▁▁</td></tr><tr><td>val_acc</td><td>▂██▅▅▄▅▁█▆</td></tr><tr><td>val_loss</td><td>▂▁▁▃▂▃▆█▄▆</td></tr></table><br/></div><div class=\"wandb-col\"><h3>Run summary:</h3><br/><table class=\"wandb\"><tr><td>acc</td><td>0.99622</td></tr><tr><td>best_epoch</td><td>2</td></tr><tr><td>best_val_loss</td><td>2.0038</td></tr><tr><td>epoch</td><td>9</td></tr><tr><td>loss</td><td>0.04059</td></tr><tr><td>val_acc</td><td>0.29329</td></tr><tr><td>val_loss</td><td>2.61472</td></tr></table><br/></div></div>"
            ]
          },
          "metadata": {}
        },
        {
          "output_type": "display_data",
          "data": {
            "text/plain": [
              "<IPython.core.display.HTML object>"
            ],
            "text/html": [
              "Synced <strong style=\"color:#cdcd00\">treasured-sweep-8</strong>: <a href=\"https://wandb.ai/safi-vamsi-cs6910/assgn2%20trial/runs/gtnn3jh7\" target=\"_blank\">https://wandb.ai/safi-vamsi-cs6910/assgn2%20trial/runs/gtnn3jh7</a><br/>Synced 5 W&B file(s), 1 media file(s), 0 artifact file(s) and 1 other file(s)"
            ]
          },
          "metadata": {}
        },
        {
          "output_type": "display_data",
          "data": {
            "text/plain": [
              "<IPython.core.display.HTML object>"
            ],
            "text/html": [
              "Find logs at: <code>./wandb/run-20220326_182548-gtnn3jh7/logs</code>"
            ]
          },
          "metadata": {}
        },
        {
          "output_type": "stream",
          "name": "stderr",
          "text": [
            "\u001b[34m\u001b[1mwandb\u001b[0m: Agent Starting Run: yi2ykllj with config:\n",
            "\u001b[34m\u001b[1mwandb\u001b[0m: \tbatch_norm: False\n",
            "\u001b[34m\u001b[1mwandb\u001b[0m: \tbatch_size: 64\n",
            "\u001b[34m\u001b[1mwandb\u001b[0m: \tdata_augmentation: False\n",
            "\u001b[34m\u001b[1mwandb\u001b[0m: \tdense_layer: 128\n",
            "\u001b[34m\u001b[1mwandb\u001b[0m: \tdropout: 0.4\n",
            "\u001b[34m\u001b[1mwandb\u001b[0m: \tfilter_org: 1\n",
            "\u001b[34m\u001b[1mwandb\u001b[0m: \tkernel_size: 3\n",
            "\u001b[34m\u001b[1mwandb\u001b[0m: \tlearning_rate: 0.001\n",
            "\u001b[34m\u001b[1mwandb\u001b[0m: \tnum_epochs: 20\n",
            "\u001b[34m\u001b[1mwandb\u001b[0m: \tnum_filter: 32\n"
          ]
        },
        {
          "output_type": "display_data",
          "data": {
            "text/plain": [
              "<IPython.core.display.HTML object>"
            ],
            "text/html": [
              "Tracking run with wandb version 0.12.11"
            ]
          },
          "metadata": {}
        },
        {
          "output_type": "display_data",
          "data": {
            "text/plain": [
              "<IPython.core.display.HTML object>"
            ],
            "text/html": [
              "Run data is saved locally in <code>/content/wandb/run-20220326_183905-yi2ykllj</code>"
            ]
          },
          "metadata": {}
        },
        {
          "output_type": "display_data",
          "data": {
            "text/plain": [
              "<IPython.core.display.HTML object>"
            ],
            "text/html": [
              "Syncing run <strong><a href=\"https://wandb.ai/safi-vamsi-cs6910/assgn2%20trial/runs/yi2ykllj\" target=\"_blank\">wise-sweep-9</a></strong> to <a href=\"https://wandb.ai/safi-vamsi-cs6910/assgn2%20trial\" target=\"_blank\">Weights & Biases</a> (<a href=\"https://wandb.me/run\" target=\"_blank\">docs</a>)<br/>Sweep page:  <a href=\"https://wandb.ai/safi-vamsi-cs6910/assgn2%20trial/sweeps/b6ej9uqk\" target=\"_blank\">https://wandb.ai/safi-vamsi-cs6910/assgn2%20trial/sweeps/b6ej9uqk</a>"
            ]
          },
          "metadata": {}
        },
        {
          "output_type": "stream",
          "name": "stdout",
          "text": [
            "Model: \"sequential\"\n",
            "_________________________________________________________________\n",
            " Layer (type)                Output Shape              Param #   \n",
            "=================================================================\n",
            " conv2d (Conv2D)             (None, 254, 254, 32)      896       \n",
            "                                                                 \n",
            " activation (Activation)     (None, 254, 254, 32)      0         \n",
            "                                                                 \n",
            " max_pooling2d (MaxPooling2D  (None, 127, 127, 32)     0         \n",
            " )                                                               \n",
            "                                                                 \n",
            " conv2d_1 (Conv2D)           (None, 125, 125, 32)      9248      \n",
            "                                                                 \n",
            " activation_1 (Activation)   (None, 125, 125, 32)      0         \n",
            "                                                                 \n",
            " max_pooling2d_1 (MaxPooling  (None, 62, 62, 32)       0         \n",
            " 2D)                                                             \n",
            "                                                                 \n",
            " conv2d_2 (Conv2D)           (None, 60, 60, 32)        9248      \n",
            "                                                                 \n",
            " activation_2 (Activation)   (None, 60, 60, 32)        0         \n",
            "                                                                 \n",
            " max_pooling2d_2 (MaxPooling  (None, 30, 30, 32)       0         \n",
            " 2D)                                                             \n",
            "                                                                 \n",
            " conv2d_3 (Conv2D)           (None, 28, 28, 32)        9248      \n",
            "                                                                 \n",
            " activation_3 (Activation)   (None, 28, 28, 32)        0         \n",
            "                                                                 \n",
            " max_pooling2d_3 (MaxPooling  (None, 14, 14, 32)       0         \n",
            " 2D)                                                             \n",
            "                                                                 \n",
            " conv2d_4 (Conv2D)           (None, 12, 12, 32)        9248      \n",
            "                                                                 \n",
            " activation_4 (Activation)   (None, 12, 12, 32)        0         \n",
            "                                                                 \n",
            " max_pooling2d_4 (MaxPooling  (None, 6, 6, 32)         0         \n",
            " 2D)                                                             \n",
            "                                                                 \n",
            " flatten (Flatten)           (None, 1152)              0         \n",
            "                                                                 \n",
            " dense (Dense)               (None, 128)               147584    \n",
            "                                                                 \n",
            " dropout (Dropout)           (None, 128)               0         \n",
            "                                                                 \n",
            " dense_1 (Dense)             (None, 10)                1290      \n",
            "                                                                 \n",
            "=================================================================\n",
            "Total params: 186,762\n",
            "Trainable params: 186,762\n",
            "Non-trainable params: 0\n",
            "_________________________________________________________________\n",
            "Found 9999 files belonging to 10 classes.\n",
            "Using 9000 files for training.\n",
            "Found 9999 files belonging to 10 classes.\n",
            "Using 999 files for validation.\n",
            "Epoch 1/10\n",
            "282/282 [==============================] - 59s 201ms/step - loss: 3.8761 - acc: 0.1123 - val_loss: 2.2931 - val_acc: 0.1141 - _timestamp: 1648320010.0000 - _runtime: 65.0000\n",
            "Epoch 2/10\n",
            "282/282 [==============================] - 58s 200ms/step - loss: 2.2892 - acc: 0.1296 - val_loss: 2.2763 - val_acc: 0.1371 - _timestamp: 1648320091.0000 - _runtime: 146.0000\n",
            "Epoch 3/10\n",
            "282/282 [==============================] - 58s 200ms/step - loss: 2.2656 - acc: 0.1516 - val_loss: 2.2591 - val_acc: 0.1411 - _timestamp: 1648320173.0000 - _runtime: 228.0000\n",
            "Epoch 4/10\n",
            "282/282 [==============================] - 58s 200ms/step - loss: 2.2518 - acc: 0.1643 - val_loss: 2.2300 - val_acc: 0.1742 - _timestamp: 1648320255.0000 - _runtime: 310.0000\n",
            "Epoch 5/10\n",
            "282/282 [==============================] - 58s 201ms/step - loss: 2.2279 - acc: 0.1771 - val_loss: 2.2015 - val_acc: 0.1922 - _timestamp: 1648320337.0000 - _runtime: 392.0000\n",
            "Epoch 6/10\n",
            "282/282 [==============================] - 58s 201ms/step - loss: 2.2106 - acc: 0.1878 - val_loss: 2.1700 - val_acc: 0.2272 - _timestamp: 1648320419.0000 - _runtime: 474.0000\n",
            "Epoch 7/10\n",
            "282/282 [==============================] - 58s 200ms/step - loss: 2.1755 - acc: 0.2041 - val_loss: 2.1309 - val_acc: 0.2342 - _timestamp: 1648320501.0000 - _runtime: 556.0000\n",
            "Epoch 8/10\n",
            "282/282 [==============================] - 58s 200ms/step - loss: 2.1433 - acc: 0.2203 - val_loss: 2.1117 - val_acc: 0.2452 - _timestamp: 1648320583.0000 - _runtime: 638.0000\n",
            "Epoch 9/10\n",
            "282/282 [==============================] - 58s 200ms/step - loss: 2.1146 - acc: 0.2323 - val_loss: 2.0929 - val_acc: 0.2422 - _timestamp: 1648320641.0000 - _runtime: 696.0000\n",
            "Epoch 10/10\n",
            "282/282 [==============================] - 58s 200ms/step - loss: 2.1006 - acc: 0.2423 - val_loss: 2.0752 - val_acc: 0.2583 - _timestamp: 1648320722.0000 - _runtime: 777.0000\n",
            "\n"
          ]
        },
        {
          "output_type": "display_data",
          "data": {
            "text/plain": [
              "<IPython.core.display.HTML object>"
            ],
            "text/html": [
              "Waiting for W&B process to finish... <strong style=\"color:green\">(success).</strong>"
            ]
          },
          "metadata": {}
        },
        {
          "output_type": "display_data",
          "data": {
            "text/plain": [
              "VBox(children=(Label(value='2.219 MB of 2.219 MB uploaded (0.000 MB deduped)\\r'), FloatProgress(value=1.0, max…"
            ],
            "application/vnd.jupyter.widget-view+json": {
              "version_major": 2,
              "version_minor": 0,
              "model_id": "445181ca52434e8da6200595f7344e86"
            }
          },
          "metadata": {}
        },
        {
          "output_type": "display_data",
          "data": {
            "text/plain": [
              "<IPython.core.display.HTML object>"
            ],
            "text/html": [
              "<style>\n",
              "    table.wandb td:nth-child(1) { padding: 0 10px; text-align: right }\n",
              "    .wandb-row { display: flex; flex-direction: row; flex-wrap: wrap; width: 100% }\n",
              "    .wandb-col { display: flex; flex-direction: column; flex-basis: 100%; flex: 1; padding: 10px; }\n",
              "    </style>\n",
              "<div class=\"wandb-row\"><div class=\"wandb-col\"><h3>Run history:</h3><br/><table class=\"wandb\"><tr><td>acc</td><td>▁▂▃▄▄▅▆▇▇█</td></tr><tr><td>epoch</td><td>▁▂▃▃▄▅▆▆▇█</td></tr><tr><td>loss</td><td>█▂▂▂▂▁▁▁▁▁</td></tr><tr><td>val_acc</td><td>▁▂▂▄▅▆▇▇▇█</td></tr><tr><td>val_loss</td><td>█▇▇▆▅▄▃▂▂▁</td></tr></table><br/></div><div class=\"wandb-col\"><h3>Run summary:</h3><br/><table class=\"wandb\"><tr><td>acc</td><td>0.24233</td></tr><tr><td>best_epoch</td><td>9</td></tr><tr><td>best_val_loss</td><td>2.07519</td></tr><tr><td>epoch</td><td>9</td></tr><tr><td>loss</td><td>2.10063</td></tr><tr><td>val_acc</td><td>0.25826</td></tr><tr><td>val_loss</td><td>2.07519</td></tr></table><br/></div></div>"
            ]
          },
          "metadata": {}
        },
        {
          "output_type": "display_data",
          "data": {
            "text/plain": [
              "<IPython.core.display.HTML object>"
            ],
            "text/html": [
              "Synced <strong style=\"color:#cdcd00\">wise-sweep-9</strong>: <a href=\"https://wandb.ai/safi-vamsi-cs6910/assgn2%20trial/runs/yi2ykllj\" target=\"_blank\">https://wandb.ai/safi-vamsi-cs6910/assgn2%20trial/runs/yi2ykllj</a><br/>Synced 5 W&B file(s), 1 media file(s), 0 artifact file(s) and 1 other file(s)"
            ]
          },
          "metadata": {}
        },
        {
          "output_type": "display_data",
          "data": {
            "text/plain": [
              "<IPython.core.display.HTML object>"
            ],
            "text/html": [
              "Find logs at: <code>./wandb/run-20220326_183905-yi2ykllj/logs</code>"
            ]
          },
          "metadata": {}
        },
        {
          "output_type": "stream",
          "name": "stderr",
          "text": [
            "\u001b[34m\u001b[1mwandb\u001b[0m: Agent Starting Run: sej33bws with config:\n",
            "\u001b[34m\u001b[1mwandb\u001b[0m: \tbatch_norm: True\n",
            "\u001b[34m\u001b[1mwandb\u001b[0m: \tbatch_size: 32\n",
            "\u001b[34m\u001b[1mwandb\u001b[0m: \tdata_augmentation: False\n",
            "\u001b[34m\u001b[1mwandb\u001b[0m: \tdense_layer: 64\n",
            "\u001b[34m\u001b[1mwandb\u001b[0m: \tdropout: 0.6\n",
            "\u001b[34m\u001b[1mwandb\u001b[0m: \tfilter_org: 2\n",
            "\u001b[34m\u001b[1mwandb\u001b[0m: \tkernel_size: 5\n",
            "\u001b[34m\u001b[1mwandb\u001b[0m: \tlearning_rate: 0.001\n",
            "\u001b[34m\u001b[1mwandb\u001b[0m: \tnum_epochs: 30\n",
            "\u001b[34m\u001b[1mwandb\u001b[0m: \tnum_filter: 128\n"
          ]
        },
        {
          "output_type": "display_data",
          "data": {
            "text/plain": [
              "<IPython.core.display.HTML object>"
            ],
            "text/html": [
              "Tracking run with wandb version 0.12.11"
            ]
          },
          "metadata": {}
        },
        {
          "output_type": "display_data",
          "data": {
            "text/plain": [
              "<IPython.core.display.HTML object>"
            ],
            "text/html": [
              "Run data is saved locally in <code>/content/wandb/run-20220326_185239-sej33bws</code>"
            ]
          },
          "metadata": {}
        },
        {
          "output_type": "display_data",
          "data": {
            "text/plain": [
              "<IPython.core.display.HTML object>"
            ],
            "text/html": [
              "Syncing run <strong><a href=\"https://wandb.ai/safi-vamsi-cs6910/assgn2%20trial/runs/sej33bws\" target=\"_blank\">royal-sweep-10</a></strong> to <a href=\"https://wandb.ai/safi-vamsi-cs6910/assgn2%20trial\" target=\"_blank\">Weights & Biases</a> (<a href=\"https://wandb.me/run\" target=\"_blank\">docs</a>)<br/>Sweep page:  <a href=\"https://wandb.ai/safi-vamsi-cs6910/assgn2%20trial/sweeps/b6ej9uqk\" target=\"_blank\">https://wandb.ai/safi-vamsi-cs6910/assgn2%20trial/sweeps/b6ej9uqk</a>"
            ]
          },
          "metadata": {}
        },
        {
          "output_type": "stream",
          "name": "stdout",
          "text": [
            "Model: \"sequential\"\n",
            "_________________________________________________________________\n",
            " Layer (type)                Output Shape              Param #   \n",
            "=================================================================\n",
            " conv2d (Conv2D)             (None, 252, 252, 32)      2432      \n",
            "                                                                 \n",
            " batch_normalization (BatchN  (None, 252, 252, 32)     128       \n",
            " ormalization)                                                   \n",
            "                                                                 \n",
            " activation (Activation)     (None, 252, 252, 32)      0         \n",
            "                                                                 \n",
            " max_pooling2d (MaxPooling2D  (None, 126, 126, 32)     0         \n",
            " )                                                               \n",
            "                                                                 \n",
            " conv2d_1 (Conv2D)           (None, 122, 122, 64)      51264     \n",
            "                                                                 \n",
            " batch_normalization_1 (Batc  (None, 122, 122, 64)     256       \n",
            " hNormalization)                                                 \n",
            "                                                                 \n",
            " activation_1 (Activation)   (None, 122, 122, 64)      0         \n",
            "                                                                 \n",
            " max_pooling2d_1 (MaxPooling  (None, 61, 61, 64)       0         \n",
            " 2D)                                                             \n",
            "                                                                 \n",
            " conv2d_2 (Conv2D)           (None, 57, 57, 128)       204928    \n",
            "                                                                 \n",
            " batch_normalization_2 (Batc  (None, 57, 57, 128)      512       \n",
            " hNormalization)                                                 \n",
            "                                                                 \n",
            " activation_2 (Activation)   (None, 57, 57, 128)       0         \n",
            "                                                                 \n",
            " max_pooling2d_2 (MaxPooling  (None, 28, 28, 128)      0         \n",
            " 2D)                                                             \n",
            "                                                                 \n",
            " conv2d_3 (Conv2D)           (None, 24, 24, 256)       819456    \n",
            "                                                                 \n",
            " batch_normalization_3 (Batc  (None, 24, 24, 256)      1024      \n",
            " hNormalization)                                                 \n",
            "                                                                 \n",
            " activation_3 (Activation)   (None, 24, 24, 256)       0         \n",
            "                                                                 \n",
            " max_pooling2d_3 (MaxPooling  (None, 12, 12, 256)      0         \n",
            " 2D)                                                             \n",
            "                                                                 \n",
            " conv2d_4 (Conv2D)           (None, 8, 8, 512)         3277312   \n",
            "                                                                 \n",
            " batch_normalization_4 (Batc  (None, 8, 8, 512)        2048      \n",
            " hNormalization)                                                 \n",
            "                                                                 \n",
            " activation_4 (Activation)   (None, 8, 8, 512)         0         \n",
            "                                                                 \n",
            " max_pooling2d_4 (MaxPooling  (None, 4, 4, 512)        0         \n",
            " 2D)                                                             \n",
            "                                                                 \n",
            " flatten (Flatten)           (None, 8192)              0         \n",
            "                                                                 \n",
            " dense (Dense)               (None, 64)                524352    \n",
            "                                                                 \n",
            " dropout (Dropout)           (None, 64)                0         \n",
            "                                                                 \n",
            " dense_1 (Dense)             (None, 10)                650       \n",
            "                                                                 \n",
            "=================================================================\n",
            "Total params: 4,884,362\n",
            "Trainable params: 4,882,378\n",
            "Non-trainable params: 1,984\n",
            "_________________________________________________________________\n",
            "Found 9999 files belonging to 10 classes.\n",
            "Using 9000 files for training.\n",
            "Found 9999 files belonging to 10 classes.\n",
            "Using 999 files for validation.\n",
            "Epoch 1/10\n",
            "282/282 [==============================] - 63s 213ms/step - loss: 2.3243 - acc: 0.1188 - val_loss: 2.2556 - val_acc: 0.1602 - _timestamp: 1648320828.0000 - _runtime: 69.0000\n",
            "Epoch 2/10\n",
            "282/282 [==============================] - 61s 212ms/step - loss: 2.2789 - acc: 0.1322 - val_loss: 2.2508 - val_acc: 0.1982 - _timestamp: 1648320909.0000 - _runtime: 150.0000\n",
            "Epoch 3/10\n",
            "282/282 [==============================] - 61s 212ms/step - loss: 2.2621 - acc: 0.1424 - val_loss: 2.2339 - val_acc: 0.1942 - _timestamp: 1648320970.0000 - _runtime: 211.0000\n",
            "Epoch 4/10\n",
            "282/282 [==============================] - 62s 215ms/step - loss: 2.2612 - acc: 0.1543 - val_loss: 2.2109 - val_acc: 0.2012 - _timestamp: 1648321053.0000 - _runtime: 294.0000\n",
            "Epoch 5/10\n",
            "282/282 [==============================] - 61s 211ms/step - loss: 2.2378 - acc: 0.1604 - val_loss: 2.2157 - val_acc: 0.1812 - _timestamp: 1648321114.0000 - _runtime: 355.0000\n",
            "Epoch 6/10\n",
            "282/282 [==============================] - 62s 216ms/step - loss: 2.2182 - acc: 0.1690 - val_loss: 2.1736 - val_acc: 0.2162 - _timestamp: 1648321176.0000 - _runtime: 417.0000\n",
            "Epoch 7/10\n",
            "282/282 [==============================] - 62s 213ms/step - loss: 2.2021 - acc: 0.1859 - val_loss: 2.1696 - val_acc: 0.2012 - _timestamp: 1648321237.0000 - _runtime: 478.0000\n",
            "Epoch 8/10\n",
            "282/282 [==============================] - 61s 211ms/step - loss: 2.1977 - acc: 0.1816 - val_loss: 2.1681 - val_acc: 0.2322 - _timestamp: 1648321298.0000 - _runtime: 539.0000\n",
            "Epoch 9/10\n",
            "282/282 [==============================] - 60s 210ms/step - loss: 2.1697 - acc: 0.1920 - val_loss: 2.1859 - val_acc: 0.2082 - _timestamp: 1648321359.0000 - _runtime: 600.0000\n",
            "Epoch 10/10\n",
            "282/282 [==============================] - 61s 210ms/step - loss: 2.1626 - acc: 0.1926 - val_loss: 2.1497 - val_acc: 0.2142 - _timestamp: 1648321419.0000 - _runtime: 660.0000\n",
            "\n"
          ]
        },
        {
          "output_type": "display_data",
          "data": {
            "text/plain": [
              "<IPython.core.display.HTML object>"
            ],
            "text/html": [
              "Waiting for W&B process to finish... <strong style=\"color:green\">(success).</strong>"
            ]
          },
          "metadata": {}
        },
        {
          "output_type": "display_data",
          "data": {
            "text/plain": [
              "VBox(children=(Label(value='56.006 MB of 56.006 MB uploaded (0.000 MB deduped)\\r'), FloatProgress(value=1.0, m…"
            ],
            "application/vnd.jupyter.widget-view+json": {
              "version_major": 2,
              "version_minor": 0,
              "model_id": "b6f9de7c53594546a7639725d6268bce"
            }
          },
          "metadata": {}
        },
        {
          "output_type": "display_data",
          "data": {
            "text/plain": [
              "<IPython.core.display.HTML object>"
            ],
            "text/html": [
              "<style>\n",
              "    table.wandb td:nth-child(1) { padding: 0 10px; text-align: right }\n",
              "    .wandb-row { display: flex; flex-direction: row; flex-wrap: wrap; width: 100% }\n",
              "    .wandb-col { display: flex; flex-direction: column; flex-basis: 100%; flex: 1; padding: 10px; }\n",
              "    </style>\n",
              "<div class=\"wandb-row\"><div class=\"wandb-col\"><h3>Run history:</h3><br/><table class=\"wandb\"><tr><td>acc</td><td>▁▂▃▄▅▆▇▇██</td></tr><tr><td>epoch</td><td>▁▂▃▃▄▅▆▆▇█</td></tr><tr><td>loss</td><td>█▆▅▅▄▃▃▃▁▁</td></tr><tr><td>val_acc</td><td>▁▅▄▅▃▆▅█▆▆</td></tr><tr><td>val_loss</td><td>██▇▅▅▃▂▂▃▁</td></tr></table><br/></div><div class=\"wandb-col\"><h3>Run summary:</h3><br/><table class=\"wandb\"><tr><td>acc</td><td>0.19256</td></tr><tr><td>best_epoch</td><td>9</td></tr><tr><td>best_val_loss</td><td>2.14967</td></tr><tr><td>epoch</td><td>9</td></tr><tr><td>loss</td><td>2.16262</td></tr><tr><td>val_acc</td><td>0.21421</td></tr><tr><td>val_loss</td><td>2.14967</td></tr></table><br/></div></div>"
            ]
          },
          "metadata": {}
        },
        {
          "output_type": "display_data",
          "data": {
            "text/plain": [
              "<IPython.core.display.HTML object>"
            ],
            "text/html": [
              "Synced <strong style=\"color:#cdcd00\">royal-sweep-10</strong>: <a href=\"https://wandb.ai/safi-vamsi-cs6910/assgn2%20trial/runs/sej33bws\" target=\"_blank\">https://wandb.ai/safi-vamsi-cs6910/assgn2%20trial/runs/sej33bws</a><br/>Synced 5 W&B file(s), 1 media file(s), 0 artifact file(s) and 1 other file(s)"
            ]
          },
          "metadata": {}
        },
        {
          "output_type": "display_data",
          "data": {
            "text/plain": [
              "<IPython.core.display.HTML object>"
            ],
            "text/html": [
              "Find logs at: <code>./wandb/run-20220326_185239-sej33bws/logs</code>"
            ]
          },
          "metadata": {}
        },
        {
          "output_type": "stream",
          "name": "stderr",
          "text": [
            "\u001b[34m\u001b[1mwandb\u001b[0m: Agent Starting Run: uum0v7p0 with config:\n",
            "\u001b[34m\u001b[1mwandb\u001b[0m: \tbatch_norm: False\n",
            "\u001b[34m\u001b[1mwandb\u001b[0m: \tbatch_size: 128\n",
            "\u001b[34m\u001b[1mwandb\u001b[0m: \tdata_augmentation: True\n",
            "\u001b[34m\u001b[1mwandb\u001b[0m: \tdense_layer: 512\n",
            "\u001b[34m\u001b[1mwandb\u001b[0m: \tdropout: 0\n",
            "\u001b[34m\u001b[1mwandb\u001b[0m: \tfilter_org: 2\n",
            "\u001b[34m\u001b[1mwandb\u001b[0m: \tkernel_size: 3\n",
            "\u001b[34m\u001b[1mwandb\u001b[0m: \tlearning_rate: 0.001\n",
            "\u001b[34m\u001b[1mwandb\u001b[0m: \tnum_epochs: 10\n",
            "\u001b[34m\u001b[1mwandb\u001b[0m: \tnum_filter: 128\n"
          ]
        },
        {
          "output_type": "display_data",
          "data": {
            "text/plain": [
              "<IPython.core.display.HTML object>"
            ],
            "text/html": [
              "Tracking run with wandb version 0.12.11"
            ]
          },
          "metadata": {}
        },
        {
          "output_type": "display_data",
          "data": {
            "text/plain": [
              "<IPython.core.display.HTML object>"
            ],
            "text/html": [
              "Run data is saved locally in <code>/content/wandb/run-20220326_190412-uum0v7p0</code>"
            ]
          },
          "metadata": {}
        },
        {
          "output_type": "display_data",
          "data": {
            "text/plain": [
              "<IPython.core.display.HTML object>"
            ],
            "text/html": [
              "Syncing run <strong><a href=\"https://wandb.ai/safi-vamsi-cs6910/assgn2%20trial/runs/uum0v7p0\" target=\"_blank\">rural-sweep-11</a></strong> to <a href=\"https://wandb.ai/safi-vamsi-cs6910/assgn2%20trial\" target=\"_blank\">Weights & Biases</a> (<a href=\"https://wandb.me/run\" target=\"_blank\">docs</a>)<br/>Sweep page:  <a href=\"https://wandb.ai/safi-vamsi-cs6910/assgn2%20trial/sweeps/b6ej9uqk\" target=\"_blank\">https://wandb.ai/safi-vamsi-cs6910/assgn2%20trial/sweeps/b6ej9uqk</a>"
            ]
          },
          "metadata": {}
        },
        {
          "output_type": "stream",
          "name": "stdout",
          "text": [
            "Model: \"sequential\"\n",
            "_________________________________________________________________\n",
            " Layer (type)                Output Shape              Param #   \n",
            "=================================================================\n",
            " conv2d (Conv2D)             (None, 254, 254, 32)      896       \n",
            "                                                                 \n",
            " activation (Activation)     (None, 254, 254, 32)      0         \n",
            "                                                                 \n",
            " max_pooling2d (MaxPooling2D  (None, 127, 127, 32)     0         \n",
            " )                                                               \n",
            "                                                                 \n",
            " conv2d_1 (Conv2D)           (None, 125, 125, 64)      18496     \n",
            "                                                                 \n",
            " activation_1 (Activation)   (None, 125, 125, 64)      0         \n",
            "                                                                 \n",
            " max_pooling2d_1 (MaxPooling  (None, 62, 62, 64)       0         \n",
            " 2D)                                                             \n",
            "                                                                 \n",
            " conv2d_2 (Conv2D)           (None, 60, 60, 128)       73856     \n",
            "                                                                 \n",
            " activation_2 (Activation)   (None, 60, 60, 128)       0         \n",
            "                                                                 \n",
            " max_pooling2d_2 (MaxPooling  (None, 30, 30, 128)      0         \n",
            " 2D)                                                             \n",
            "                                                                 \n",
            " conv2d_3 (Conv2D)           (None, 28, 28, 256)       295168    \n",
            "                                                                 \n",
            " activation_3 (Activation)   (None, 28, 28, 256)       0         \n",
            "                                                                 \n",
            " max_pooling2d_3 (MaxPooling  (None, 14, 14, 256)      0         \n",
            " 2D)                                                             \n",
            "                                                                 \n",
            " conv2d_4 (Conv2D)           (None, 12, 12, 512)       1180160   \n",
            "                                                                 \n",
            " activation_4 (Activation)   (None, 12, 12, 512)       0         \n",
            "                                                                 \n",
            " max_pooling2d_4 (MaxPooling  (None, 6, 6, 512)        0         \n",
            " 2D)                                                             \n",
            "                                                                 \n",
            " flatten (Flatten)           (None, 18432)             0         \n",
            "                                                                 \n",
            " dense (Dense)               (None, 512)               9437696   \n",
            "                                                                 \n",
            " dropout (Dropout)           (None, 512)               0         \n",
            "                                                                 \n",
            " dense_1 (Dense)             (None, 10)                5130      \n",
            "                                                                 \n",
            "=================================================================\n",
            "Total params: 11,011,402\n",
            "Trainable params: 11,011,402\n",
            "Non-trainable params: 0\n",
            "_________________________________________________________________\n",
            "\n"
          ]
        },
        {
          "output_type": "display_data",
          "data": {
            "text/plain": [
              "<IPython.core.display.HTML object>"
            ],
            "text/html": [
              "Waiting for W&B process to finish... <strong style=\"color:red\">(failed 1).</strong> Press Control-C to abort syncing."
            ]
          },
          "metadata": {}
        },
        {
          "output_type": "display_data",
          "data": {
            "text/plain": [
              "VBox(children=(Label(value='0.001 MB of 0.001 MB uploaded (0.000 MB deduped)\\r'), FloatProgress(value=1.0, max…"
            ],
            "application/vnd.jupyter.widget-view+json": {
              "version_major": 2,
              "version_minor": 0,
              "model_id": "ffbe4c1f167745748f4007f10cc66f96"
            }
          },
          "metadata": {}
        },
        {
          "output_type": "display_data",
          "data": {
            "text/plain": [
              "<IPython.core.display.HTML object>"
            ],
            "text/html": [
              "Synced <strong style=\"color:#cdcd00\">rural-sweep-11</strong>: <a href=\"https://wandb.ai/safi-vamsi-cs6910/assgn2%20trial/runs/uum0v7p0\" target=\"_blank\">https://wandb.ai/safi-vamsi-cs6910/assgn2%20trial/runs/uum0v7p0</a><br/>Synced 5 W&B file(s), 0 media file(s), 0 artifact file(s) and 0 other file(s)"
            ]
          },
          "metadata": {}
        },
        {
          "output_type": "display_data",
          "data": {
            "text/plain": [
              "<IPython.core.display.HTML object>"
            ],
            "text/html": [
              "Find logs at: <code>./wandb/run-20220326_190412-uum0v7p0/logs</code>"
            ]
          },
          "metadata": {}
        },
        {
          "output_type": "stream",
          "name": "stderr",
          "text": [
            "Run uum0v7p0 errored: NameError(\"name 'path' is not defined\")\n",
            "\u001b[34m\u001b[1mwandb\u001b[0m: \u001b[32m\u001b[41mERROR\u001b[0m Run uum0v7p0 errored: NameError(\"name 'path' is not defined\")\n",
            "\u001b[34m\u001b[1mwandb\u001b[0m: Agent Starting Run: z2u7d3da with config:\n",
            "\u001b[34m\u001b[1mwandb\u001b[0m: \tbatch_norm: True\n",
            "\u001b[34m\u001b[1mwandb\u001b[0m: \tbatch_size: 32\n",
            "\u001b[34m\u001b[1mwandb\u001b[0m: \tdata_augmentation: False\n",
            "\u001b[34m\u001b[1mwandb\u001b[0m: \tdense_layer: 128\n",
            "\u001b[34m\u001b[1mwandb\u001b[0m: \tdropout: 0.4\n",
            "\u001b[34m\u001b[1mwandb\u001b[0m: \tfilter_org: 2\n",
            "\u001b[34m\u001b[1mwandb\u001b[0m: \tkernel_size: 3\n",
            "\u001b[34m\u001b[1mwandb\u001b[0m: \tlearning_rate: 0.001\n",
            "\u001b[34m\u001b[1mwandb\u001b[0m: \tnum_epochs: 20\n",
            "\u001b[34m\u001b[1mwandb\u001b[0m: \tnum_filter: 128\n"
          ]
        },
        {
          "output_type": "display_data",
          "data": {
            "text/plain": [
              "<IPython.core.display.HTML object>"
            ],
            "text/html": [
              "Tracking run with wandb version 0.12.11"
            ]
          },
          "metadata": {}
        },
        {
          "output_type": "display_data",
          "data": {
            "text/plain": [
              "<IPython.core.display.HTML object>"
            ],
            "text/html": [
              "Run data is saved locally in <code>/content/wandb/run-20220326_190432-z2u7d3da</code>"
            ]
          },
          "metadata": {}
        },
        {
          "output_type": "display_data",
          "data": {
            "text/plain": [
              "<IPython.core.display.HTML object>"
            ],
            "text/html": [
              "Syncing run <strong><a href=\"https://wandb.ai/safi-vamsi-cs6910/assgn2%20trial/runs/z2u7d3da\" target=\"_blank\">glowing-sweep-12</a></strong> to <a href=\"https://wandb.ai/safi-vamsi-cs6910/assgn2%20trial\" target=\"_blank\">Weights & Biases</a> (<a href=\"https://wandb.me/run\" target=\"_blank\">docs</a>)<br/>Sweep page:  <a href=\"https://wandb.ai/safi-vamsi-cs6910/assgn2%20trial/sweeps/b6ej9uqk\" target=\"_blank\">https://wandb.ai/safi-vamsi-cs6910/assgn2%20trial/sweeps/b6ej9uqk</a>"
            ]
          },
          "metadata": {}
        },
        {
          "output_type": "stream",
          "name": "stdout",
          "text": [
            "Model: \"sequential\"\n",
            "_________________________________________________________________\n",
            " Layer (type)                Output Shape              Param #   \n",
            "=================================================================\n",
            " conv2d (Conv2D)             (None, 254, 254, 32)      896       \n",
            "                                                                 \n",
            " batch_normalization (BatchN  (None, 254, 254, 32)     128       \n",
            " ormalization)                                                   \n",
            "                                                                 \n",
            " activation (Activation)     (None, 254, 254, 32)      0         \n",
            "                                                                 \n",
            " max_pooling2d (MaxPooling2D  (None, 127, 127, 32)     0         \n",
            " )                                                               \n",
            "                                                                 \n",
            " conv2d_1 (Conv2D)           (None, 125, 125, 64)      18496     \n",
            "                                                                 \n",
            " batch_normalization_1 (Batc  (None, 125, 125, 64)     256       \n",
            " hNormalization)                                                 \n",
            "                                                                 \n",
            " activation_1 (Activation)   (None, 125, 125, 64)      0         \n",
            "                                                                 \n",
            " max_pooling2d_1 (MaxPooling  (None, 62, 62, 64)       0         \n",
            " 2D)                                                             \n",
            "                                                                 \n",
            " conv2d_2 (Conv2D)           (None, 60, 60, 128)       73856     \n",
            "                                                                 \n",
            " batch_normalization_2 (Batc  (None, 60, 60, 128)      512       \n",
            " hNormalization)                                                 \n",
            "                                                                 \n",
            " activation_2 (Activation)   (None, 60, 60, 128)       0         \n",
            "                                                                 \n",
            " max_pooling2d_2 (MaxPooling  (None, 30, 30, 128)      0         \n",
            " 2D)                                                             \n",
            "                                                                 \n",
            " conv2d_3 (Conv2D)           (None, 28, 28, 256)       295168    \n",
            "                                                                 \n",
            " batch_normalization_3 (Batc  (None, 28, 28, 256)      1024      \n",
            " hNormalization)                                                 \n",
            "                                                                 \n",
            " activation_3 (Activation)   (None, 28, 28, 256)       0         \n",
            "                                                                 \n",
            " max_pooling2d_3 (MaxPooling  (None, 14, 14, 256)      0         \n",
            " 2D)                                                             \n",
            "                                                                 \n",
            " conv2d_4 (Conv2D)           (None, 12, 12, 512)       1180160   \n",
            "                                                                 \n",
            " batch_normalization_4 (Batc  (None, 12, 12, 512)      2048      \n",
            " hNormalization)                                                 \n",
            "                                                                 \n",
            " activation_4 (Activation)   (None, 12, 12, 512)       0         \n",
            "                                                                 \n",
            " max_pooling2d_4 (MaxPooling  (None, 6, 6, 512)        0         \n",
            " 2D)                                                             \n",
            "                                                                 \n",
            " flatten (Flatten)           (None, 18432)             0         \n",
            "                                                                 \n",
            " dense (Dense)               (None, 128)               2359424   \n",
            "                                                                 \n",
            " dropout (Dropout)           (None, 128)               0         \n",
            "                                                                 \n",
            " dense_1 (Dense)             (None, 10)                1290      \n",
            "                                                                 \n",
            "=================================================================\n",
            "Total params: 3,933,258\n",
            "Trainable params: 3,931,274\n",
            "Non-trainable params: 1,984\n",
            "_________________________________________________________________\n",
            "Found 9999 files belonging to 10 classes.\n",
            "Using 9000 files for training.\n",
            "Found 9999 files belonging to 10 classes.\n",
            "Using 999 files for validation.\n",
            "Epoch 1/10\n",
            "282/282 [==============================] - 62s 209ms/step - loss: 2.2624 - acc: 0.1719 - val_loss: 2.1756 - val_acc: 0.1932 - _timestamp: 1648321541.0000 - _runtime: 69.0000\n",
            "Epoch 2/10\n",
            "282/282 [==============================] - 60s 208ms/step - loss: 2.1635 - acc: 0.2004 - val_loss: 2.0916 - val_acc: 0.2412 - _timestamp: 1648321622.0000 - _runtime: 150.0000\n",
            "Epoch 3/10\n",
            "282/282 [==============================] - 60s 208ms/step - loss: 2.1122 - acc: 0.2231 - val_loss: 2.0619 - val_acc: 0.2523 - _timestamp: 1648321704.0000 - _runtime: 232.0000\n",
            "Epoch 4/10\n",
            "282/282 [==============================] - 60s 208ms/step - loss: 2.0594 - acc: 0.2333 - val_loss: 2.0323 - val_acc: 0.2753 - _timestamp: 1648321764.0000 - _runtime: 292.0000\n",
            "Epoch 5/10\n",
            "282/282 [==============================] - 60s 208ms/step - loss: 2.0231 - acc: 0.2476 - val_loss: 2.0432 - val_acc: 0.2813 - _timestamp: 1648321824.0000 - _runtime: 352.0000\n",
            "Epoch 6/10\n",
            "282/282 [==============================] - 60s 208ms/step - loss: 1.9768 - acc: 0.2620 - val_loss: 1.9897 - val_acc: 0.2913 - _timestamp: 1648321884.0000 - _runtime: 412.0000\n",
            "Epoch 7/10\n",
            "282/282 [==============================] - 60s 208ms/step - loss: 1.9219 - acc: 0.2780 - val_loss: 1.9904 - val_acc: 0.2833 - _timestamp: 1648321944.0000 - _runtime: 472.0000\n",
            "Epoch 8/10\n",
            "282/282 [==============================] - 60s 208ms/step - loss: 1.8507 - acc: 0.3040 - val_loss: 1.9532 - val_acc: 0.3173 - _timestamp: 1648322026.0000 - _runtime: 554.0000\n",
            "Epoch 9/10\n",
            "282/282 [==============================] - 62s 215ms/step - loss: 1.8056 - acc: 0.3141 - val_loss: 1.9308 - val_acc: 0.3213 - _timestamp: 1648322088.0000 - _runtime: 616.0000\n",
            "Epoch 10/10\n",
            "282/282 [==============================] - 60s 209ms/step - loss: 1.7304 - acc: 0.3393 - val_loss: 1.9156 - val_acc: 0.3313 - _timestamp: 1648322168.0000 - _runtime: 696.0000\n",
            "\n"
          ]
        },
        {
          "output_type": "display_data",
          "data": {
            "text/plain": [
              "<IPython.core.display.HTML object>"
            ],
            "text/html": [
              "Waiting for W&B process to finish... <strong style=\"color:green\">(success).</strong>"
            ]
          },
          "metadata": {}
        },
        {
          "output_type": "display_data",
          "data": {
            "text/plain": [
              "VBox(children=(Label(value='45.122 MB of 45.122 MB uploaded (0.000 MB deduped)\\r'), FloatProgress(value=1.0, m…"
            ],
            "application/vnd.jupyter.widget-view+json": {
              "version_major": 2,
              "version_minor": 0,
              "model_id": "cb13b78e1c9347fea58b67b2e3b888e1"
            }
          },
          "metadata": {}
        },
        {
          "output_type": "display_data",
          "data": {
            "text/plain": [
              "<IPython.core.display.HTML object>"
            ],
            "text/html": [
              "<style>\n",
              "    table.wandb td:nth-child(1) { padding: 0 10px; text-align: right }\n",
              "    .wandb-row { display: flex; flex-direction: row; flex-wrap: wrap; width: 100% }\n",
              "    .wandb-col { display: flex; flex-direction: column; flex-basis: 100%; flex: 1; padding: 10px; }\n",
              "    </style>\n",
              "<div class=\"wandb-row\"><div class=\"wandb-col\"><h3>Run history:</h3><br/><table class=\"wandb\"><tr><td>acc</td><td>▁▂▃▄▄▅▅▇▇█</td></tr><tr><td>epoch</td><td>▁▂▃▃▄▅▆▆▇█</td></tr><tr><td>loss</td><td>█▇▆▅▅▄▄▃▂▁</td></tr><tr><td>val_acc</td><td>▁▃▄▅▅▆▆▇▇█</td></tr><tr><td>val_loss</td><td>█▆▅▄▄▃▃▂▁▁</td></tr></table><br/></div><div class=\"wandb-col\"><h3>Run summary:</h3><br/><table class=\"wandb\"><tr><td>acc</td><td>0.33933</td></tr><tr><td>best_epoch</td><td>9</td></tr><tr><td>best_val_loss</td><td>1.91563</td></tr><tr><td>epoch</td><td>9</td></tr><tr><td>loss</td><td>1.73038</td></tr><tr><td>val_acc</td><td>0.33133</td></tr><tr><td>val_loss</td><td>1.91563</td></tr></table><br/></div></div>"
            ]
          },
          "metadata": {}
        },
        {
          "output_type": "display_data",
          "data": {
            "text/plain": [
              "<IPython.core.display.HTML object>"
            ],
            "text/html": [
              "Synced <strong style=\"color:#cdcd00\">glowing-sweep-12</strong>: <a href=\"https://wandb.ai/safi-vamsi-cs6910/assgn2%20trial/runs/z2u7d3da\" target=\"_blank\">https://wandb.ai/safi-vamsi-cs6910/assgn2%20trial/runs/z2u7d3da</a><br/>Synced 5 W&B file(s), 1 media file(s), 0 artifact file(s) and 1 other file(s)"
            ]
          },
          "metadata": {}
        },
        {
          "output_type": "display_data",
          "data": {
            "text/plain": [
              "<IPython.core.display.HTML object>"
            ],
            "text/html": [
              "Find logs at: <code>./wandb/run-20220326_190432-z2u7d3da/logs</code>"
            ]
          },
          "metadata": {}
        },
        {
          "output_type": "stream",
          "name": "stderr",
          "text": [
            "\u001b[34m\u001b[1mwandb\u001b[0m: Agent Starting Run: jn0l21pt with config:\n",
            "\u001b[34m\u001b[1mwandb\u001b[0m: \tbatch_norm: True\n",
            "\u001b[34m\u001b[1mwandb\u001b[0m: \tbatch_size: 64\n",
            "\u001b[34m\u001b[1mwandb\u001b[0m: \tdata_augmentation: False\n",
            "\u001b[34m\u001b[1mwandb\u001b[0m: \tdense_layer: 512\n",
            "\u001b[34m\u001b[1mwandb\u001b[0m: \tdropout: 0.4\n",
            "\u001b[34m\u001b[1mwandb\u001b[0m: \tfilter_org: 2\n",
            "\u001b[34m\u001b[1mwandb\u001b[0m: \tkernel_size: 3\n",
            "\u001b[34m\u001b[1mwandb\u001b[0m: \tlearning_rate: 0.0001\n",
            "\u001b[34m\u001b[1mwandb\u001b[0m: \tnum_epochs: 30\n",
            "\u001b[34m\u001b[1mwandb\u001b[0m: \tnum_filter: 256\n"
          ]
        },
        {
          "output_type": "display_data",
          "data": {
            "text/plain": [
              "<IPython.core.display.HTML object>"
            ],
            "text/html": [
              "Tracking run with wandb version 0.12.11"
            ]
          },
          "metadata": {}
        },
        {
          "output_type": "display_data",
          "data": {
            "text/plain": [
              "<IPython.core.display.HTML object>"
            ],
            "text/html": [
              "Run data is saved locally in <code>/content/wandb/run-20220326_191637-jn0l21pt</code>"
            ]
          },
          "metadata": {}
        },
        {
          "output_type": "display_data",
          "data": {
            "text/plain": [
              "<IPython.core.display.HTML object>"
            ],
            "text/html": [
              "Syncing run <strong><a href=\"https://wandb.ai/safi-vamsi-cs6910/assgn2%20trial/runs/jn0l21pt\" target=\"_blank\">prime-sweep-13</a></strong> to <a href=\"https://wandb.ai/safi-vamsi-cs6910/assgn2%20trial\" target=\"_blank\">Weights & Biases</a> (<a href=\"https://wandb.me/run\" target=\"_blank\">docs</a>)<br/>Sweep page:  <a href=\"https://wandb.ai/safi-vamsi-cs6910/assgn2%20trial/sweeps/b6ej9uqk\" target=\"_blank\">https://wandb.ai/safi-vamsi-cs6910/assgn2%20trial/sweeps/b6ej9uqk</a>"
            ]
          },
          "metadata": {}
        },
        {
          "output_type": "stream",
          "name": "stdout",
          "text": [
            "Model: \"sequential\"\n",
            "_________________________________________________________________\n",
            " Layer (type)                Output Shape              Param #   \n",
            "=================================================================\n",
            " conv2d (Conv2D)             (None, 254, 254, 32)      896       \n",
            "                                                                 \n",
            " batch_normalization (BatchN  (None, 254, 254, 32)     128       \n",
            " ormalization)                                                   \n",
            "                                                                 \n",
            " activation (Activation)     (None, 254, 254, 32)      0         \n",
            "                                                                 \n",
            " max_pooling2d (MaxPooling2D  (None, 127, 127, 32)     0         \n",
            " )                                                               \n",
            "                                                                 \n",
            " conv2d_1 (Conv2D)           (None, 125, 125, 64)      18496     \n",
            "                                                                 \n",
            " batch_normalization_1 (Batc  (None, 125, 125, 64)     256       \n",
            " hNormalization)                                                 \n",
            "                                                                 \n",
            " activation_1 (Activation)   (None, 125, 125, 64)      0         \n",
            "                                                                 \n",
            " max_pooling2d_1 (MaxPooling  (None, 62, 62, 64)       0         \n",
            " 2D)                                                             \n",
            "                                                                 \n",
            " conv2d_2 (Conv2D)           (None, 60, 60, 128)       73856     \n",
            "                                                                 \n",
            " batch_normalization_2 (Batc  (None, 60, 60, 128)      512       \n",
            " hNormalization)                                                 \n",
            "                                                                 \n",
            " activation_2 (Activation)   (None, 60, 60, 128)       0         \n",
            "                                                                 \n",
            " max_pooling2d_2 (MaxPooling  (None, 30, 30, 128)      0         \n",
            " 2D)                                                             \n",
            "                                                                 \n",
            " conv2d_3 (Conv2D)           (None, 28, 28, 256)       295168    \n",
            "                                                                 \n",
            " batch_normalization_3 (Batc  (None, 28, 28, 256)      1024      \n",
            " hNormalization)                                                 \n",
            "                                                                 \n",
            " activation_3 (Activation)   (None, 28, 28, 256)       0         \n",
            "                                                                 \n",
            " max_pooling2d_3 (MaxPooling  (None, 14, 14, 256)      0         \n",
            " 2D)                                                             \n",
            "                                                                 \n",
            " conv2d_4 (Conv2D)           (None, 12, 12, 512)       1180160   \n",
            "                                                                 \n",
            " batch_normalization_4 (Batc  (None, 12, 12, 512)      2048      \n",
            " hNormalization)                                                 \n",
            "                                                                 \n",
            " activation_4 (Activation)   (None, 12, 12, 512)       0         \n",
            "                                                                 \n",
            " max_pooling2d_4 (MaxPooling  (None, 6, 6, 512)        0         \n",
            " 2D)                                                             \n",
            "                                                                 \n",
            " flatten (Flatten)           (None, 18432)             0         \n",
            "                                                                 \n",
            " dense (Dense)               (None, 512)               9437696   \n",
            "                                                                 \n",
            " dropout (Dropout)           (None, 512)               0         \n",
            "                                                                 \n",
            " dense_1 (Dense)             (None, 10)                5130      \n",
            "                                                                 \n",
            "=================================================================\n",
            "Total params: 11,015,370\n",
            "Trainable params: 11,013,386\n",
            "Non-trainable params: 1,984\n",
            "_________________________________________________________________\n",
            "Found 9999 files belonging to 10 classes.\n",
            "Using 9000 files for training.\n",
            "Found 9999 files belonging to 10 classes.\n",
            "Using 999 files for validation.\n",
            "Epoch 1/10\n",
            "282/282 [==============================] - 62s 211ms/step - loss: 2.2584 - acc: 0.2152 - val_loss: 2.0716 - val_acc: 0.2543 - _timestamp: 1648322265.0000 - _runtime: 68.0000\n",
            "Epoch 2/10\n",
            "282/282 [==============================] - 60s 210ms/step - loss: 2.0676 - acc: 0.2532 - val_loss: 1.9749 - val_acc: 0.3173 - _timestamp: 1648322347.0000 - _runtime: 150.0000\n",
            "Epoch 3/10\n",
            "282/282 [==============================] - 61s 210ms/step - loss: 1.9943 - acc: 0.2959 - val_loss: 1.9551 - val_acc: 0.3133 - _timestamp: 1648322429.0000 - _runtime: 232.0000\n",
            "Epoch 4/10\n",
            "282/282 [==============================] - 60s 208ms/step - loss: 1.9210 - acc: 0.3160 - val_loss: 1.9804 - val_acc: 0.3083 - _timestamp: 1648322510.0000 - _runtime: 313.0000\n",
            "Epoch 5/10\n",
            "282/282 [==============================] - 60s 210ms/step - loss: 1.8624 - acc: 0.3368 - val_loss: 1.9118 - val_acc: 0.3233 - _timestamp: 1648322570.0000 - _runtime: 373.0000\n",
            "Epoch 6/10\n",
            "282/282 [==============================] - 60s 208ms/step - loss: 1.8083 - acc: 0.3631 - val_loss: 1.9841 - val_acc: 0.3083 - _timestamp: 1648322631.0000 - _runtime: 434.0000\n",
            "Epoch 7/10\n",
            "282/282 [==============================] - 60s 208ms/step - loss: 1.7149 - acc: 0.3973 - val_loss: 2.0782 - val_acc: 0.2863 - _timestamp: 1648322691.0000 - _runtime: 494.0000\n",
            "Epoch 8/10\n",
            "282/282 [==============================] - 60s 209ms/step - loss: 1.6590 - acc: 0.4124 - val_loss: 1.8998 - val_acc: 0.3243 - _timestamp: 1648322751.0000 - _runtime: 554.0000\n",
            "Epoch 9/10\n",
            "282/282 [==============================] - 61s 210ms/step - loss: 1.5726 - acc: 0.4383 - val_loss: 1.8428 - val_acc: 0.3724 - _timestamp: 1648322833.0000 - _runtime: 636.0000\n",
            "Epoch 10/10\n",
            "282/282 [==============================] - 60s 208ms/step - loss: 1.4864 - acc: 0.4767 - val_loss: 1.8835 - val_acc: 0.3403 - _timestamp: 1648322893.0000 - _runtime: 696.0000\n",
            "\n"
          ]
        },
        {
          "output_type": "display_data",
          "data": {
            "text/plain": [
              "<IPython.core.display.HTML object>"
            ],
            "text/html": [
              "Waiting for W&B process to finish... <strong style=\"color:green\">(success).</strong>"
            ]
          },
          "metadata": {}
        },
        {
          "output_type": "display_data",
          "data": {
            "text/plain": [
              "VBox(children=(Label(value='126.171 MB of 126.171 MB uploaded (0.000 MB deduped)\\r'), FloatProgress(value=1.0,…"
            ],
            "application/vnd.jupyter.widget-view+json": {
              "version_major": 2,
              "version_minor": 0,
              "model_id": "cf5c549e0af14f12a2e2addae7271dca"
            }
          },
          "metadata": {}
        },
        {
          "output_type": "display_data",
          "data": {
            "text/plain": [
              "<IPython.core.display.HTML object>"
            ],
            "text/html": [
              "<style>\n",
              "    table.wandb td:nth-child(1) { padding: 0 10px; text-align: right }\n",
              "    .wandb-row { display: flex; flex-direction: row; flex-wrap: wrap; width: 100% }\n",
              "    .wandb-col { display: flex; flex-direction: column; flex-basis: 100%; flex: 1; padding: 10px; }\n",
              "    </style>\n",
              "<div class=\"wandb-row\"><div class=\"wandb-col\"><h3>Run history:</h3><br/><table class=\"wandb\"><tr><td>acc</td><td>▁▂▃▄▄▅▆▆▇█</td></tr><tr><td>epoch</td><td>▁▂▃▃▄▅▆▆▇█</td></tr><tr><td>loss</td><td>█▆▆▅▄▄▃▃▂▁</td></tr><tr><td>val_acc</td><td>▁▅▅▄▅▄▃▅█▆</td></tr><tr><td>val_loss</td><td>█▅▄▅▃▅█▃▁▂</td></tr></table><br/></div><div class=\"wandb-col\"><h3>Run summary:</h3><br/><table class=\"wandb\"><tr><td>acc</td><td>0.47667</td></tr><tr><td>best_epoch</td><td>8</td></tr><tr><td>best_val_loss</td><td>1.84284</td></tr><tr><td>epoch</td><td>9</td></tr><tr><td>loss</td><td>1.48637</td></tr><tr><td>val_acc</td><td>0.34034</td></tr><tr><td>val_loss</td><td>1.88351</td></tr></table><br/></div></div>"
            ]
          },
          "metadata": {}
        },
        {
          "output_type": "display_data",
          "data": {
            "text/plain": [
              "<IPython.core.display.HTML object>"
            ],
            "text/html": [
              "Synced <strong style=\"color:#cdcd00\">prime-sweep-13</strong>: <a href=\"https://wandb.ai/safi-vamsi-cs6910/assgn2%20trial/runs/jn0l21pt\" target=\"_blank\">https://wandb.ai/safi-vamsi-cs6910/assgn2%20trial/runs/jn0l21pt</a><br/>Synced 5 W&B file(s), 1 media file(s), 0 artifact file(s) and 1 other file(s)"
            ]
          },
          "metadata": {}
        },
        {
          "output_type": "display_data",
          "data": {
            "text/plain": [
              "<IPython.core.display.HTML object>"
            ],
            "text/html": [
              "Find logs at: <code>./wandb/run-20220326_191637-jn0l21pt/logs</code>"
            ]
          },
          "metadata": {}
        },
        {
          "output_type": "stream",
          "name": "stderr",
          "text": [
            "\u001b[34m\u001b[1mwandb\u001b[0m: Agent Starting Run: b8t8x9zi with config:\n",
            "\u001b[34m\u001b[1mwandb\u001b[0m: \tbatch_norm: False\n",
            "\u001b[34m\u001b[1mwandb\u001b[0m: \tbatch_size: 32\n",
            "\u001b[34m\u001b[1mwandb\u001b[0m: \tdata_augmentation: False\n",
            "\u001b[34m\u001b[1mwandb\u001b[0m: \tdense_layer: 512\n",
            "\u001b[34m\u001b[1mwandb\u001b[0m: \tdropout: 0.4\n",
            "\u001b[34m\u001b[1mwandb\u001b[0m: \tfilter_org: 1\n",
            "\u001b[34m\u001b[1mwandb\u001b[0m: \tkernel_size: 5\n",
            "\u001b[34m\u001b[1mwandb\u001b[0m: \tlearning_rate: 0.0001\n",
            "\u001b[34m\u001b[1mwandb\u001b[0m: \tnum_epochs: 20\n",
            "\u001b[34m\u001b[1mwandb\u001b[0m: \tnum_filter: 256\n"
          ]
        },
        {
          "output_type": "display_data",
          "data": {
            "text/plain": [
              "<IPython.core.display.HTML object>"
            ],
            "text/html": [
              "Tracking run with wandb version 0.12.11"
            ]
          },
          "metadata": {}
        },
        {
          "output_type": "display_data",
          "data": {
            "text/plain": [
              "<IPython.core.display.HTML object>"
            ],
            "text/html": [
              "Run data is saved locally in <code>/content/wandb/run-20220326_192825-b8t8x9zi</code>"
            ]
          },
          "metadata": {}
        },
        {
          "output_type": "display_data",
          "data": {
            "text/plain": [
              "<IPython.core.display.HTML object>"
            ],
            "text/html": [
              "Syncing run <strong><a href=\"https://wandb.ai/safi-vamsi-cs6910/assgn2%20trial/runs/b8t8x9zi\" target=\"_blank\">hopeful-sweep-14</a></strong> to <a href=\"https://wandb.ai/safi-vamsi-cs6910/assgn2%20trial\" target=\"_blank\">Weights & Biases</a> (<a href=\"https://wandb.me/run\" target=\"_blank\">docs</a>)<br/>Sweep page:  <a href=\"https://wandb.ai/safi-vamsi-cs6910/assgn2%20trial/sweeps/b6ej9uqk\" target=\"_blank\">https://wandb.ai/safi-vamsi-cs6910/assgn2%20trial/sweeps/b6ej9uqk</a>"
            ]
          },
          "metadata": {}
        },
        {
          "output_type": "stream",
          "name": "stdout",
          "text": [
            "Model: \"sequential\"\n",
            "_________________________________________________________________\n",
            " Layer (type)                Output Shape              Param #   \n",
            "=================================================================\n",
            " conv2d (Conv2D)             (None, 252, 252, 32)      2432      \n",
            "                                                                 \n",
            " activation (Activation)     (None, 252, 252, 32)      0         \n",
            "                                                                 \n",
            " max_pooling2d (MaxPooling2D  (None, 126, 126, 32)     0         \n",
            " )                                                               \n",
            "                                                                 \n",
            " conv2d_1 (Conv2D)           (None, 122, 122, 32)      25632     \n",
            "                                                                 \n",
            " activation_1 (Activation)   (None, 122, 122, 32)      0         \n",
            "                                                                 \n",
            " max_pooling2d_1 (MaxPooling  (None, 61, 61, 32)       0         \n",
            " 2D)                                                             \n",
            "                                                                 \n",
            " conv2d_2 (Conv2D)           (None, 57, 57, 32)        25632     \n",
            "                                                                 \n",
            " activation_2 (Activation)   (None, 57, 57, 32)        0         \n",
            "                                                                 \n",
            " max_pooling2d_2 (MaxPooling  (None, 28, 28, 32)       0         \n",
            " 2D)                                                             \n",
            "                                                                 \n",
            " conv2d_3 (Conv2D)           (None, 24, 24, 32)        25632     \n",
            "                                                                 \n",
            " activation_3 (Activation)   (None, 24, 24, 32)        0         \n",
            "                                                                 \n",
            " max_pooling2d_3 (MaxPooling  (None, 12, 12, 32)       0         \n",
            " 2D)                                                             \n",
            "                                                                 \n",
            " conv2d_4 (Conv2D)           (None, 8, 8, 32)          25632     \n",
            "                                                                 \n",
            " activation_4 (Activation)   (None, 8, 8, 32)          0         \n",
            "                                                                 \n",
            " max_pooling2d_4 (MaxPooling  (None, 4, 4, 32)         0         \n",
            " 2D)                                                             \n",
            "                                                                 \n",
            " flatten (Flatten)           (None, 512)               0         \n",
            "                                                                 \n",
            " dense (Dense)               (None, 512)               262656    \n",
            "                                                                 \n",
            " dropout (Dropout)           (None, 512)               0         \n",
            "                                                                 \n",
            " dense_1 (Dense)             (None, 10)                5130      \n",
            "                                                                 \n",
            "=================================================================\n",
            "Total params: 372,746\n",
            "Trainable params: 372,746\n",
            "Non-trainable params: 0\n",
            "_________________________________________________________________\n",
            "Found 9999 files belonging to 10 classes.\n",
            "Using 9000 files for training.\n",
            "Found 9999 files belonging to 10 classes.\n",
            "Using 999 files for validation.\n",
            "Epoch 1/10\n",
            "282/282 [==============================] - 60s 203ms/step - loss: 2.5350 - acc: 0.0979 - val_loss: 2.3038 - val_acc: 0.1151 - _timestamp: 1648322972.0000 - _runtime: 67.0000\n",
            "Epoch 2/10\n",
            "282/282 [==============================] - 59s 203ms/step - loss: 2.3029 - acc: 0.1032 - val_loss: 2.2996 - val_acc: 0.1091 - _timestamp: 1648323030.0000 - _runtime: 125.0000\n",
            "Epoch 3/10\n",
            "282/282 [==============================] - 59s 205ms/step - loss: 2.2908 - acc: 0.1190 - val_loss: 2.2604 - val_acc: 0.1542 - _timestamp: 1648323113.0000 - _runtime: 208.0000\n",
            "Epoch 4/10\n",
            "282/282 [==============================] - 59s 204ms/step - loss: 2.2566 - acc: 0.1526 - val_loss: 2.2556 - val_acc: 0.1542 - _timestamp: 1648323172.0000 - _runtime: 267.0000\n",
            "Epoch 5/10\n",
            "282/282 [==============================] - 59s 204ms/step - loss: 2.2148 - acc: 0.1763 - val_loss: 2.1618 - val_acc: 0.1992 - _timestamp: 1648323230.0000 - _runtime: 325.0000\n",
            "Epoch 6/10\n",
            "282/282 [==============================] - 59s 203ms/step - loss: 2.1477 - acc: 0.2157 - val_loss: 2.0829 - val_acc: 0.2372 - _timestamp: 1648323289.0000 - _runtime: 384.0000\n",
            "Epoch 7/10\n",
            "282/282 [==============================] - 59s 204ms/step - loss: 2.0840 - acc: 0.2446 - val_loss: 2.0721 - val_acc: 0.2523 - _timestamp: 1648323348.0000 - _runtime: 443.0000\n",
            "Epoch 8/10\n",
            "282/282 [==============================] - 59s 204ms/step - loss: 2.0477 - acc: 0.2611 - val_loss: 2.0315 - val_acc: 0.2573 - _timestamp: 1648323430.0000 - _runtime: 525.0000\n",
            "Epoch 9/10\n",
            "282/282 [==============================] - 59s 204ms/step - loss: 2.0096 - acc: 0.2739 - val_loss: 2.0156 - val_acc: 0.2663 - _timestamp: 1648323512.0000 - _runtime: 607.0000\n",
            "Epoch 10/10\n",
            "282/282 [==============================] - 59s 204ms/step - loss: 1.9661 - acc: 0.2942 - val_loss: 2.0026 - val_acc: 0.2743 - _timestamp: 1648323594.0000 - _runtime: 689.0000\n",
            "\n"
          ]
        },
        {
          "output_type": "display_data",
          "data": {
            "text/plain": [
              "<IPython.core.display.HTML object>"
            ],
            "text/html": [
              "Waiting for W&B process to finish... <strong style=\"color:green\">(success).</strong>"
            ]
          },
          "metadata": {}
        },
        {
          "output_type": "display_data",
          "data": {
            "text/plain": [
              "VBox(children=(Label(value='4.347 MB of 4.347 MB uploaded (0.000 MB deduped)\\r'), FloatProgress(value=1.0, max…"
            ],
            "application/vnd.jupyter.widget-view+json": {
              "version_major": 2,
              "version_minor": 0,
              "model_id": "c8ff06523d4041fe9fa624b416c6ef6d"
            }
          },
          "metadata": {}
        },
        {
          "output_type": "display_data",
          "data": {
            "text/plain": [
              "<IPython.core.display.HTML object>"
            ],
            "text/html": [
              "<style>\n",
              "    table.wandb td:nth-child(1) { padding: 0 10px; text-align: right }\n",
              "    .wandb-row { display: flex; flex-direction: row; flex-wrap: wrap; width: 100% }\n",
              "    .wandb-col { display: flex; flex-direction: column; flex-basis: 100%; flex: 1; padding: 10px; }\n",
              "    </style>\n",
              "<div class=\"wandb-row\"><div class=\"wandb-col\"><h3>Run history:</h3><br/><table class=\"wandb\"><tr><td>acc</td><td>▁▁▂▃▄▅▆▇▇█</td></tr><tr><td>epoch</td><td>▁▂▃▃▄▅▆▆▇█</td></tr><tr><td>loss</td><td>█▅▅▅▄▃▂▂▂▁</td></tr><tr><td>val_acc</td><td>▁▁▃▃▅▆▇▇██</td></tr><tr><td>val_loss</td><td>██▇▇▅▃▃▂▁▁</td></tr></table><br/></div><div class=\"wandb-col\"><h3>Run summary:</h3><br/><table class=\"wandb\"><tr><td>acc</td><td>0.29422</td></tr><tr><td>best_epoch</td><td>9</td></tr><tr><td>best_val_loss</td><td>2.00257</td></tr><tr><td>epoch</td><td>9</td></tr><tr><td>loss</td><td>1.96609</td></tr><tr><td>val_acc</td><td>0.27427</td></tr><tr><td>val_loss</td><td>2.00257</td></tr></table><br/></div></div>"
            ]
          },
          "metadata": {}
        },
        {
          "output_type": "display_data",
          "data": {
            "text/plain": [
              "<IPython.core.display.HTML object>"
            ],
            "text/html": [
              "Synced <strong style=\"color:#cdcd00\">hopeful-sweep-14</strong>: <a href=\"https://wandb.ai/safi-vamsi-cs6910/assgn2%20trial/runs/b8t8x9zi\" target=\"_blank\">https://wandb.ai/safi-vamsi-cs6910/assgn2%20trial/runs/b8t8x9zi</a><br/>Synced 5 W&B file(s), 1 media file(s), 0 artifact file(s) and 1 other file(s)"
            ]
          },
          "metadata": {}
        },
        {
          "output_type": "display_data",
          "data": {
            "text/plain": [
              "<IPython.core.display.HTML object>"
            ],
            "text/html": [
              "Find logs at: <code>./wandb/run-20220326_192825-b8t8x9zi/logs</code>"
            ]
          },
          "metadata": {}
        },
        {
          "output_type": "stream",
          "name": "stderr",
          "text": [
            "\u001b[34m\u001b[1mwandb\u001b[0m: Agent Starting Run: 8un4qy9r with config:\n",
            "\u001b[34m\u001b[1mwandb\u001b[0m: \tbatch_norm: True\n",
            "\u001b[34m\u001b[1mwandb\u001b[0m: \tbatch_size: 32\n",
            "\u001b[34m\u001b[1mwandb\u001b[0m: \tdata_augmentation: False\n",
            "\u001b[34m\u001b[1mwandb\u001b[0m: \tdense_layer: 128\n",
            "\u001b[34m\u001b[1mwandb\u001b[0m: \tdropout: 0.4\n",
            "\u001b[34m\u001b[1mwandb\u001b[0m: \tfilter_org: 1\n",
            "\u001b[34m\u001b[1mwandb\u001b[0m: \tkernel_size: 3\n",
            "\u001b[34m\u001b[1mwandb\u001b[0m: \tlearning_rate: 0.0001\n",
            "\u001b[34m\u001b[1mwandb\u001b[0m: \tnum_epochs: 30\n",
            "\u001b[34m\u001b[1mwandb\u001b[0m: \tnum_filter: 128\n"
          ]
        },
        {
          "output_type": "display_data",
          "data": {
            "text/plain": [
              "<IPython.core.display.HTML object>"
            ],
            "text/html": [
              "Tracking run with wandb version 0.12.11"
            ]
          },
          "metadata": {}
        },
        {
          "output_type": "display_data",
          "data": {
            "text/plain": [
              "<IPython.core.display.HTML object>"
            ],
            "text/html": [
              "Run data is saved locally in <code>/content/wandb/run-20220326_194026-8un4qy9r</code>"
            ]
          },
          "metadata": {}
        },
        {
          "output_type": "display_data",
          "data": {
            "text/plain": [
              "<IPython.core.display.HTML object>"
            ],
            "text/html": [
              "Syncing run <strong><a href=\"https://wandb.ai/safi-vamsi-cs6910/assgn2%20trial/runs/8un4qy9r\" target=\"_blank\">happy-sweep-15</a></strong> to <a href=\"https://wandb.ai/safi-vamsi-cs6910/assgn2%20trial\" target=\"_blank\">Weights & Biases</a> (<a href=\"https://wandb.me/run\" target=\"_blank\">docs</a>)<br/>Sweep page:  <a href=\"https://wandb.ai/safi-vamsi-cs6910/assgn2%20trial/sweeps/b6ej9uqk\" target=\"_blank\">https://wandb.ai/safi-vamsi-cs6910/assgn2%20trial/sweeps/b6ej9uqk</a>"
            ]
          },
          "metadata": {}
        },
        {
          "output_type": "stream",
          "name": "stdout",
          "text": [
            "Model: \"sequential\"\n",
            "_________________________________________________________________\n",
            " Layer (type)                Output Shape              Param #   \n",
            "=================================================================\n",
            " conv2d (Conv2D)             (None, 254, 254, 32)      896       \n",
            "                                                                 \n",
            " batch_normalization (BatchN  (None, 254, 254, 32)     128       \n",
            " ormalization)                                                   \n",
            "                                                                 \n",
            " activation (Activation)     (None, 254, 254, 32)      0         \n",
            "                                                                 \n",
            " max_pooling2d (MaxPooling2D  (None, 127, 127, 32)     0         \n",
            " )                                                               \n",
            "                                                                 \n",
            " conv2d_1 (Conv2D)           (None, 125, 125, 32)      9248      \n",
            "                                                                 \n",
            " batch_normalization_1 (Batc  (None, 125, 125, 32)     128       \n",
            " hNormalization)                                                 \n",
            "                                                                 \n",
            " activation_1 (Activation)   (None, 125, 125, 32)      0         \n",
            "                                                                 \n",
            " max_pooling2d_1 (MaxPooling  (None, 62, 62, 32)       0         \n",
            " 2D)                                                             \n",
            "                                                                 \n",
            " conv2d_2 (Conv2D)           (None, 60, 60, 32)        9248      \n",
            "                                                                 \n",
            " batch_normalization_2 (Batc  (None, 60, 60, 32)       128       \n",
            " hNormalization)                                                 \n",
            "                                                                 \n",
            " activation_2 (Activation)   (None, 60, 60, 32)        0         \n",
            "                                                                 \n",
            " max_pooling2d_2 (MaxPooling  (None, 30, 30, 32)       0         \n",
            " 2D)                                                             \n",
            "                                                                 \n",
            " conv2d_3 (Conv2D)           (None, 28, 28, 32)        9248      \n",
            "                                                                 \n",
            " batch_normalization_3 (Batc  (None, 28, 28, 32)       128       \n",
            " hNormalization)                                                 \n",
            "                                                                 \n",
            " activation_3 (Activation)   (None, 28, 28, 32)        0         \n",
            "                                                                 \n",
            " max_pooling2d_3 (MaxPooling  (None, 14, 14, 32)       0         \n",
            " 2D)                                                             \n",
            "                                                                 \n",
            " conv2d_4 (Conv2D)           (None, 12, 12, 32)        9248      \n",
            "                                                                 \n",
            " batch_normalization_4 (Batc  (None, 12, 12, 32)       128       \n",
            " hNormalization)                                                 \n",
            "                                                                 \n",
            " activation_4 (Activation)   (None, 12, 12, 32)        0         \n",
            "                                                                 \n",
            " max_pooling2d_4 (MaxPooling  (None, 6, 6, 32)         0         \n",
            " 2D)                                                             \n",
            "                                                                 \n",
            " flatten (Flatten)           (None, 1152)              0         \n",
            "                                                                 \n",
            " dense (Dense)               (None, 128)               147584    \n",
            "                                                                 \n",
            " dropout (Dropout)           (None, 128)               0         \n",
            "                                                                 \n",
            " dense_1 (Dense)             (None, 10)                1290      \n",
            "                                                                 \n",
            "=================================================================\n",
            "Total params: 187,402\n",
            "Trainable params: 187,082\n",
            "Non-trainable params: 320\n",
            "_________________________________________________________________\n",
            "Found 9999 files belonging to 10 classes.\n",
            "Using 9000 files for training.\n",
            "Found 9999 files belonging to 10 classes.\n",
            "Using 999 files for validation.\n",
            "Epoch 1/10\n",
            "282/282 [==============================] - 60s 205ms/step - loss: 2.3406 - acc: 0.1682 - val_loss: 2.1528 - val_acc: 0.2232 - _timestamp: 1648323694.0000 - _runtime: 68.0000\n",
            "Epoch 2/10\n",
            "282/282 [==============================] - 59s 203ms/step - loss: 2.1324 - acc: 0.2310 - val_loss: 2.0684 - val_acc: 0.2593 - _timestamp: 1648323775.0000 - _runtime: 149.0000\n",
            "Epoch 3/10\n",
            "282/282 [==============================] - 59s 203ms/step - loss: 2.0665 - acc: 0.2501 - val_loss: 2.0213 - val_acc: 0.2783 - _timestamp: 1648323857.0000 - _runtime: 231.0000\n",
            "Epoch 4/10\n",
            "282/282 [==============================] - 59s 203ms/step - loss: 2.0051 - acc: 0.2853 - val_loss: 1.9889 - val_acc: 0.2943 - _timestamp: 1648323938.0000 - _runtime: 312.0000\n",
            "Epoch 5/10\n",
            "282/282 [==============================] - 59s 204ms/step - loss: 1.9742 - acc: 0.3009 - val_loss: 1.9776 - val_acc: 0.2973 - _timestamp: 1648323997.0000 - _runtime: 371.0000\n",
            "Epoch 6/10\n",
            "282/282 [==============================] - 59s 205ms/step - loss: 1.9299 - acc: 0.3136 - val_loss: 1.9531 - val_acc: 0.3083 - _timestamp: 1648324079.0000 - _runtime: 453.0000\n",
            "Epoch 7/10\n",
            "282/282 [==============================] - 59s 205ms/step - loss: 1.8928 - acc: 0.3291 - val_loss: 1.9177 - val_acc: 0.3253 - _timestamp: 1648324138.0000 - _runtime: 512.0000\n",
            "Epoch 8/10\n",
            "282/282 [==============================] - 60s 208ms/step - loss: 1.8542 - acc: 0.3490 - val_loss: 1.9577 - val_acc: 0.3113 - _timestamp: 1648324221.0000 - _runtime: 595.0000\n",
            "Epoch 9/10\n",
            "282/282 [==============================] - 62s 214ms/step - loss: 1.8302 - acc: 0.3491 - val_loss: 1.9542 - val_acc: 0.3083 - _timestamp: 1648324283.0000 - _runtime: 657.0000\n",
            "Epoch 10/10\n",
            "282/282 [==============================] - 61s 211ms/step - loss: 1.7894 - acc: 0.3651 - val_loss: 1.9338 - val_acc: 0.3283 - _timestamp: 1648324344.0000 - _runtime: 718.0000\n",
            "\n"
          ]
        },
        {
          "output_type": "display_data",
          "data": {
            "text/plain": [
              "<IPython.core.display.HTML object>"
            ],
            "text/html": [
              "Waiting for W&B process to finish... <strong style=\"color:green\">(success).</strong>"
            ]
          },
          "metadata": {}
        },
        {
          "output_type": "display_data",
          "data": {
            "text/plain": [
              "VBox(children=(Label(value='2.266 MB of 2.266 MB uploaded (0.000 MB deduped)\\r'), FloatProgress(value=1.0, max…"
            ],
            "application/vnd.jupyter.widget-view+json": {
              "version_major": 2,
              "version_minor": 0,
              "model_id": "dbcd877072ca4f02bca26065f79f135c"
            }
          },
          "metadata": {}
        },
        {
          "output_type": "display_data",
          "data": {
            "text/plain": [
              "<IPython.core.display.HTML object>"
            ],
            "text/html": [
              "<style>\n",
              "    table.wandb td:nth-child(1) { padding: 0 10px; text-align: right }\n",
              "    .wandb-row { display: flex; flex-direction: row; flex-wrap: wrap; width: 100% }\n",
              "    .wandb-col { display: flex; flex-direction: column; flex-basis: 100%; flex: 1; padding: 10px; }\n",
              "    </style>\n",
              "<div class=\"wandb-row\"><div class=\"wandb-col\"><h3>Run history:</h3><br/><table class=\"wandb\"><tr><td>acc</td><td>▁▃▄▅▆▆▇▇▇█</td></tr><tr><td>epoch</td><td>▁▂▃▃▄▅▆▆▇█</td></tr><tr><td>loss</td><td>█▅▅▄▃▃▂▂▂▁</td></tr><tr><td>val_acc</td><td>▁▃▅▆▆▇█▇▇█</td></tr><tr><td>val_loss</td><td>█▅▄▃▃▂▁▂▂▁</td></tr></table><br/></div><div class=\"wandb-col\"><h3>Run summary:</h3><br/><table class=\"wandb\"><tr><td>acc</td><td>0.36511</td></tr><tr><td>best_epoch</td><td>6</td></tr><tr><td>best_val_loss</td><td>1.91767</td></tr><tr><td>epoch</td><td>9</td></tr><tr><td>loss</td><td>1.78942</td></tr><tr><td>val_acc</td><td>0.32833</td></tr><tr><td>val_loss</td><td>1.93377</td></tr></table><br/></div></div>"
            ]
          },
          "metadata": {}
        },
        {
          "output_type": "display_data",
          "data": {
            "text/plain": [
              "<IPython.core.display.HTML object>"
            ],
            "text/html": [
              "Synced <strong style=\"color:#cdcd00\">happy-sweep-15</strong>: <a href=\"https://wandb.ai/safi-vamsi-cs6910/assgn2%20trial/runs/8un4qy9r\" target=\"_blank\">https://wandb.ai/safi-vamsi-cs6910/assgn2%20trial/runs/8un4qy9r</a><br/>Synced 5 W&B file(s), 1 media file(s), 0 artifact file(s) and 1 other file(s)"
            ]
          },
          "metadata": {}
        },
        {
          "output_type": "display_data",
          "data": {
            "text/plain": [
              "<IPython.core.display.HTML object>"
            ],
            "text/html": [
              "Find logs at: <code>./wandb/run-20220326_194026-8un4qy9r/logs</code>"
            ]
          },
          "metadata": {}
        },
        {
          "output_type": "stream",
          "name": "stderr",
          "text": [
            "\u001b[34m\u001b[1mwandb\u001b[0m: Agent Starting Run: wpns85tx with config:\n",
            "\u001b[34m\u001b[1mwandb\u001b[0m: \tbatch_norm: True\n",
            "\u001b[34m\u001b[1mwandb\u001b[0m: \tbatch_size: 32\n",
            "\u001b[34m\u001b[1mwandb\u001b[0m: \tdata_augmentation: False\n",
            "\u001b[34m\u001b[1mwandb\u001b[0m: \tdense_layer: 128\n",
            "\u001b[34m\u001b[1mwandb\u001b[0m: \tdropout: 0.4\n",
            "\u001b[34m\u001b[1mwandb\u001b[0m: \tfilter_org: 1\n",
            "\u001b[34m\u001b[1mwandb\u001b[0m: \tkernel_size: 3\n",
            "\u001b[34m\u001b[1mwandb\u001b[0m: \tlearning_rate: 0.001\n",
            "\u001b[34m\u001b[1mwandb\u001b[0m: \tnum_epochs: 10\n",
            "\u001b[34m\u001b[1mwandb\u001b[0m: \tnum_filter: 256\n"
          ]
        },
        {
          "output_type": "display_data",
          "data": {
            "text/plain": [
              "<IPython.core.display.HTML object>"
            ],
            "text/html": [
              "Tracking run with wandb version 0.12.11"
            ]
          },
          "metadata": {}
        },
        {
          "output_type": "display_data",
          "data": {
            "text/plain": [
              "<IPython.core.display.HTML object>"
            ],
            "text/html": [
              "Run data is saved locally in <code>/content/wandb/run-20220326_195237-wpns85tx</code>"
            ]
          },
          "metadata": {}
        },
        {
          "output_type": "display_data",
          "data": {
            "text/plain": [
              "<IPython.core.display.HTML object>"
            ],
            "text/html": [
              "Syncing run <strong><a href=\"https://wandb.ai/safi-vamsi-cs6910/assgn2%20trial/runs/wpns85tx\" target=\"_blank\">cool-sweep-16</a></strong> to <a href=\"https://wandb.ai/safi-vamsi-cs6910/assgn2%20trial\" target=\"_blank\">Weights & Biases</a> (<a href=\"https://wandb.me/run\" target=\"_blank\">docs</a>)<br/>Sweep page:  <a href=\"https://wandb.ai/safi-vamsi-cs6910/assgn2%20trial/sweeps/b6ej9uqk\" target=\"_blank\">https://wandb.ai/safi-vamsi-cs6910/assgn2%20trial/sweeps/b6ej9uqk</a>"
            ]
          },
          "metadata": {}
        },
        {
          "output_type": "stream",
          "name": "stdout",
          "text": [
            "Model: \"sequential\"\n",
            "_________________________________________________________________\n",
            " Layer (type)                Output Shape              Param #   \n",
            "=================================================================\n",
            " conv2d (Conv2D)             (None, 254, 254, 32)      896       \n",
            "                                                                 \n",
            " batch_normalization (BatchN  (None, 254, 254, 32)     128       \n",
            " ormalization)                                                   \n",
            "                                                                 \n",
            " activation (Activation)     (None, 254, 254, 32)      0         \n",
            "                                                                 \n",
            " max_pooling2d (MaxPooling2D  (None, 127, 127, 32)     0         \n",
            " )                                                               \n",
            "                                                                 \n",
            " conv2d_1 (Conv2D)           (None, 125, 125, 32)      9248      \n",
            "                                                                 \n",
            " batch_normalization_1 (Batc  (None, 125, 125, 32)     128       \n",
            " hNormalization)                                                 \n",
            "                                                                 \n",
            " activation_1 (Activation)   (None, 125, 125, 32)      0         \n",
            "                                                                 \n",
            " max_pooling2d_1 (MaxPooling  (None, 62, 62, 32)       0         \n",
            " 2D)                                                             \n",
            "                                                                 \n",
            " conv2d_2 (Conv2D)           (None, 60, 60, 32)        9248      \n",
            "                                                                 \n",
            " batch_normalization_2 (Batc  (None, 60, 60, 32)       128       \n",
            " hNormalization)                                                 \n",
            "                                                                 \n",
            " activation_2 (Activation)   (None, 60, 60, 32)        0         \n",
            "                                                                 \n",
            " max_pooling2d_2 (MaxPooling  (None, 30, 30, 32)       0         \n",
            " 2D)                                                             \n",
            "                                                                 \n",
            " conv2d_3 (Conv2D)           (None, 28, 28, 32)        9248      \n",
            "                                                                 \n",
            " batch_normalization_3 (Batc  (None, 28, 28, 32)       128       \n",
            " hNormalization)                                                 \n",
            "                                                                 \n",
            " activation_3 (Activation)   (None, 28, 28, 32)        0         \n",
            "                                                                 \n",
            " max_pooling2d_3 (MaxPooling  (None, 14, 14, 32)       0         \n",
            " 2D)                                                             \n",
            "                                                                 \n",
            " conv2d_4 (Conv2D)           (None, 12, 12, 32)        9248      \n",
            "                                                                 \n",
            " batch_normalization_4 (Batc  (None, 12, 12, 32)       128       \n",
            " hNormalization)                                                 \n",
            "                                                                 \n",
            " activation_4 (Activation)   (None, 12, 12, 32)        0         \n",
            "                                                                 \n",
            " max_pooling2d_4 (MaxPooling  (None, 6, 6, 32)         0         \n",
            " 2D)                                                             \n",
            "                                                                 \n",
            " flatten (Flatten)           (None, 1152)              0         \n",
            "                                                                 \n",
            " dense (Dense)               (None, 128)               147584    \n",
            "                                                                 \n",
            " dropout (Dropout)           (None, 128)               0         \n",
            "                                                                 \n",
            " dense_1 (Dense)             (None, 10)                1290      \n",
            "                                                                 \n",
            "=================================================================\n",
            "Total params: 187,402\n",
            "Trainable params: 187,082\n",
            "Non-trainable params: 320\n",
            "_________________________________________________________________\n",
            "Found 9999 files belonging to 10 classes.\n",
            "Using 9000 files for training.\n",
            "Found 9999 files belonging to 10 classes.\n",
            "Using 999 files for validation.\n",
            "Epoch 1/10\n",
            "282/282 [==============================] - 61s 208ms/step - loss: 2.3483 - acc: 0.1667 - val_loss: 2.1425 - val_acc: 0.2392 - _timestamp: 1648324425.0000 - _runtime: 68.0000\n",
            "Epoch 2/10\n",
            "282/282 [==============================] - 60s 206ms/step - loss: 2.1346 - acc: 0.2238 - val_loss: 2.0682 - val_acc: 0.2603 - _timestamp: 1648324485.0000 - _runtime: 128.0000\n",
            "Epoch 3/10\n",
            "282/282 [==============================] - 60s 206ms/step - loss: 2.0556 - acc: 0.2624 - val_loss: 2.0086 - val_acc: 0.2863 - _timestamp: 1648324544.0000 - _runtime: 187.0000\n",
            "Epoch 4/10\n",
            "282/282 [==============================] - 59s 206ms/step - loss: 2.0045 - acc: 0.2853 - val_loss: 1.9714 - val_acc: 0.2893 - _timestamp: 1648324626.0000 - _runtime: 269.0000\n",
            "Epoch 5/10\n",
            "282/282 [==============================] - 59s 206ms/step - loss: 1.9730 - acc: 0.3030 - val_loss: 1.9598 - val_acc: 0.3113 - _timestamp: 1648324686.0000 - _runtime: 329.0000\n",
            "Epoch 6/10\n",
            "282/282 [==============================] - 59s 206ms/step - loss: 1.9280 - acc: 0.3200 - val_loss: 1.9432 - val_acc: 0.3123 - _timestamp: 1648324745.0000 - _runtime: 388.0000\n",
            "Epoch 7/10\n",
            "282/282 [==============================] - 59s 206ms/step - loss: 1.8913 - acc: 0.3329 - val_loss: 1.9139 - val_acc: 0.3183 - _timestamp: 1648324827.0000 - _runtime: 470.0000\n",
            "Epoch 8/10\n",
            "282/282 [==============================] - 60s 207ms/step - loss: 1.8553 - acc: 0.3389 - val_loss: 1.9633 - val_acc: 0.3053 - _timestamp: 1648324887.0000 - _runtime: 530.0000\n",
            "Epoch 9/10\n",
            "282/282 [==============================] - 59s 206ms/step - loss: 1.8235 - acc: 0.3593 - val_loss: 1.9186 - val_acc: 0.3213 - _timestamp: 1648324968.0000 - _runtime: 611.0000\n",
            "Epoch 10/10\n",
            "282/282 [==============================] - 59s 206ms/step - loss: 1.7881 - acc: 0.3714 - val_loss: 1.9072 - val_acc: 0.3383 - _timestamp: 1648325028.0000 - _runtime: 671.0000\n",
            "\n"
          ]
        },
        {
          "output_type": "display_data",
          "data": {
            "text/plain": [
              "<IPython.core.display.HTML object>"
            ],
            "text/html": [
              "Waiting for W&B process to finish... <strong style=\"color:green\">(success).</strong>"
            ]
          },
          "metadata": {}
        },
        {
          "output_type": "display_data",
          "data": {
            "text/plain": [
              "VBox(children=(Label(value='2.266 MB of 2.266 MB uploaded (0.000 MB deduped)\\r'), FloatProgress(value=1.0, max…"
            ],
            "application/vnd.jupyter.widget-view+json": {
              "version_major": 2,
              "version_minor": 0,
              "model_id": "9d85aebd9f834e5bb5f09347b8892a2d"
            }
          },
          "metadata": {}
        },
        {
          "output_type": "display_data",
          "data": {
            "text/plain": [
              "<IPython.core.display.HTML object>"
            ],
            "text/html": [
              "<style>\n",
              "    table.wandb td:nth-child(1) { padding: 0 10px; text-align: right }\n",
              "    .wandb-row { display: flex; flex-direction: row; flex-wrap: wrap; width: 100% }\n",
              "    .wandb-col { display: flex; flex-direction: column; flex-basis: 100%; flex: 1; padding: 10px; }\n",
              "    </style>\n",
              "<div class=\"wandb-row\"><div class=\"wandb-col\"><h3>Run history:</h3><br/><table class=\"wandb\"><tr><td>acc</td><td>▁▃▄▅▆▆▇▇██</td></tr><tr><td>epoch</td><td>▁▂▃▃▄▅▆▆▇█</td></tr><tr><td>loss</td><td>█▅▄▄▃▃▂▂▁▁</td></tr><tr><td>val_acc</td><td>▁▂▄▅▆▆▇▆▇█</td></tr><tr><td>val_loss</td><td>█▆▄▃▃▂▁▃▁▁</td></tr></table><br/></div><div class=\"wandb-col\"><h3>Run summary:</h3><br/><table class=\"wandb\"><tr><td>acc</td><td>0.37144</td></tr><tr><td>best_epoch</td><td>9</td></tr><tr><td>best_val_loss</td><td>1.90719</td></tr><tr><td>epoch</td><td>9</td></tr><tr><td>loss</td><td>1.7881</td></tr><tr><td>val_acc</td><td>0.33834</td></tr><tr><td>val_loss</td><td>1.90719</td></tr></table><br/></div></div>"
            ]
          },
          "metadata": {}
        },
        {
          "output_type": "display_data",
          "data": {
            "text/plain": [
              "<IPython.core.display.HTML object>"
            ],
            "text/html": [
              "Synced <strong style=\"color:#cdcd00\">cool-sweep-16</strong>: <a href=\"https://wandb.ai/safi-vamsi-cs6910/assgn2%20trial/runs/wpns85tx\" target=\"_blank\">https://wandb.ai/safi-vamsi-cs6910/assgn2%20trial/runs/wpns85tx</a><br/>Synced 5 W&B file(s), 1 media file(s), 0 artifact file(s) and 1 other file(s)"
            ]
          },
          "metadata": {}
        },
        {
          "output_type": "display_data",
          "data": {
            "text/plain": [
              "<IPython.core.display.HTML object>"
            ],
            "text/html": [
              "Find logs at: <code>./wandb/run-20220326_195237-wpns85tx/logs</code>"
            ]
          },
          "metadata": {}
        },
        {
          "output_type": "stream",
          "name": "stderr",
          "text": [
            "\u001b[34m\u001b[1mwandb\u001b[0m: Agent Starting Run: p8aq3js0 with config:\n",
            "\u001b[34m\u001b[1mwandb\u001b[0m: \tbatch_norm: True\n",
            "\u001b[34m\u001b[1mwandb\u001b[0m: \tbatch_size: 32\n",
            "\u001b[34m\u001b[1mwandb\u001b[0m: \tdata_augmentation: False\n",
            "\u001b[34m\u001b[1mwandb\u001b[0m: \tdense_layer: 512\n",
            "\u001b[34m\u001b[1mwandb\u001b[0m: \tdropout: 0.6\n",
            "\u001b[34m\u001b[1mwandb\u001b[0m: \tfilter_org: 2\n",
            "\u001b[34m\u001b[1mwandb\u001b[0m: \tkernel_size: 3\n",
            "\u001b[34m\u001b[1mwandb\u001b[0m: \tlearning_rate: 0.001\n",
            "\u001b[34m\u001b[1mwandb\u001b[0m: \tnum_epochs: 20\n",
            "\u001b[34m\u001b[1mwandb\u001b[0m: \tnum_filter: 256\n"
          ]
        },
        {
          "output_type": "display_data",
          "data": {
            "text/plain": [
              "<IPython.core.display.HTML object>"
            ],
            "text/html": [
              "Tracking run with wandb version 0.12.11"
            ]
          },
          "metadata": {}
        },
        {
          "output_type": "display_data",
          "data": {
            "text/plain": [
              "<IPython.core.display.HTML object>"
            ],
            "text/html": [
              "Run data is saved locally in <code>/content/wandb/run-20220326_200421-p8aq3js0</code>"
            ]
          },
          "metadata": {}
        },
        {
          "output_type": "display_data",
          "data": {
            "text/plain": [
              "<IPython.core.display.HTML object>"
            ],
            "text/html": [
              "Syncing run <strong><a href=\"https://wandb.ai/safi-vamsi-cs6910/assgn2%20trial/runs/p8aq3js0\" target=\"_blank\">lilac-sweep-17</a></strong> to <a href=\"https://wandb.ai/safi-vamsi-cs6910/assgn2%20trial\" target=\"_blank\">Weights & Biases</a> (<a href=\"https://wandb.me/run\" target=\"_blank\">docs</a>)<br/>Sweep page:  <a href=\"https://wandb.ai/safi-vamsi-cs6910/assgn2%20trial/sweeps/b6ej9uqk\" target=\"_blank\">https://wandb.ai/safi-vamsi-cs6910/assgn2%20trial/sweeps/b6ej9uqk</a>"
            ]
          },
          "metadata": {}
        },
        {
          "output_type": "stream",
          "name": "stdout",
          "text": [
            "Model: \"sequential\"\n",
            "_________________________________________________________________\n",
            " Layer (type)                Output Shape              Param #   \n",
            "=================================================================\n",
            " conv2d (Conv2D)             (None, 254, 254, 32)      896       \n",
            "                                                                 \n",
            " batch_normalization (BatchN  (None, 254, 254, 32)     128       \n",
            " ormalization)                                                   \n",
            "                                                                 \n",
            " activation (Activation)     (None, 254, 254, 32)      0         \n",
            "                                                                 \n",
            " max_pooling2d (MaxPooling2D  (None, 127, 127, 32)     0         \n",
            " )                                                               \n",
            "                                                                 \n",
            " conv2d_1 (Conv2D)           (None, 125, 125, 64)      18496     \n",
            "                                                                 \n",
            " batch_normalization_1 (Batc  (None, 125, 125, 64)     256       \n",
            " hNormalization)                                                 \n",
            "                                                                 \n",
            " activation_1 (Activation)   (None, 125, 125, 64)      0         \n",
            "                                                                 \n",
            " max_pooling2d_1 (MaxPooling  (None, 62, 62, 64)       0         \n",
            " 2D)                                                             \n",
            "                                                                 \n",
            " conv2d_2 (Conv2D)           (None, 60, 60, 128)       73856     \n",
            "                                                                 \n",
            " batch_normalization_2 (Batc  (None, 60, 60, 128)      512       \n",
            " hNormalization)                                                 \n",
            "                                                                 \n",
            " activation_2 (Activation)   (None, 60, 60, 128)       0         \n",
            "                                                                 \n",
            " max_pooling2d_2 (MaxPooling  (None, 30, 30, 128)      0         \n",
            " 2D)                                                             \n",
            "                                                                 \n",
            " conv2d_3 (Conv2D)           (None, 28, 28, 256)       295168    \n",
            "                                                                 \n",
            " batch_normalization_3 (Batc  (None, 28, 28, 256)      1024      \n",
            " hNormalization)                                                 \n",
            "                                                                 \n",
            " activation_3 (Activation)   (None, 28, 28, 256)       0         \n",
            "                                                                 \n",
            " max_pooling2d_3 (MaxPooling  (None, 14, 14, 256)      0         \n",
            " 2D)                                                             \n",
            "                                                                 \n",
            " conv2d_4 (Conv2D)           (None, 12, 12, 512)       1180160   \n",
            "                                                                 \n",
            " batch_normalization_4 (Batc  (None, 12, 12, 512)      2048      \n",
            " hNormalization)                                                 \n",
            "                                                                 \n",
            " activation_4 (Activation)   (None, 12, 12, 512)       0         \n",
            "                                                                 \n",
            " max_pooling2d_4 (MaxPooling  (None, 6, 6, 512)        0         \n",
            " 2D)                                                             \n",
            "                                                                 \n",
            " flatten (Flatten)           (None, 18432)             0         \n",
            "                                                                 \n",
            " dense (Dense)               (None, 512)               9437696   \n",
            "                                                                 \n",
            " dropout (Dropout)           (None, 512)               0         \n",
            "                                                                 \n",
            " dense_1 (Dense)             (None, 10)                5130      \n",
            "                                                                 \n",
            "=================================================================\n",
            "Total params: 11,015,370\n",
            "Trainable params: 11,013,386\n",
            "Non-trainable params: 1,984\n",
            "_________________________________________________________________\n",
            "Found 9999 files belonging to 10 classes.\n",
            "Using 9000 files for training.\n",
            "Found 9999 files belonging to 10 classes.\n",
            "Using 999 files for validation.\n",
            "Epoch 1/10\n",
            "282/282 [==============================] - 62s 213ms/step - loss: 2.3483 - acc: 0.1840 - val_loss: 2.1300 - val_acc: 0.2452 - _timestamp: 1648325131.0000 - _runtime: 70.0000\n",
            "Epoch 2/10\n",
            "282/282 [==============================] - 62s 214ms/step - loss: 2.1466 - acc: 0.2206 - val_loss: 2.0668 - val_acc: 0.2823 - _timestamp: 1648325194.0000 - _runtime: 133.0000\n",
            "Epoch 3/10\n",
            "282/282 [==============================] - 61s 212ms/step - loss: 2.1077 - acc: 0.2370 - val_loss: 2.0311 - val_acc: 0.2923 - _timestamp: 1648325255.0000 - _runtime: 194.0000\n",
            "Epoch 4/10\n",
            "282/282 [==============================] - 62s 215ms/step - loss: 2.0649 - acc: 0.2519 - val_loss: 1.9999 - val_acc: 0.2963 - _timestamp: 1648325338.0000 - _runtime: 277.0000\n",
            "Epoch 5/10\n",
            "282/282 [==============================] - 62s 214ms/step - loss: 2.0434 - acc: 0.2641 - val_loss: 1.9668 - val_acc: 0.3093 - _timestamp: 1648325419.0000 - _runtime: 358.0000\n",
            "Epoch 6/10\n",
            "282/282 [==============================] - 61s 212ms/step - loss: 2.0131 - acc: 0.2676 - val_loss: 2.1324 - val_acc: 0.2633 - _timestamp: 1648325481.0000 - _runtime: 420.0000\n",
            "Epoch 7/10\n",
            "282/282 [==============================] - 62s 213ms/step - loss: 1.9847 - acc: 0.2841 - val_loss: 1.9261 - val_acc: 0.3273 - _timestamp: 1648325563.0000 - _runtime: 502.0000\n",
            "Epoch 8/10\n",
            "282/282 [==============================] - 62s 215ms/step - loss: 1.9534 - acc: 0.2909 - val_loss: 1.9913 - val_acc: 0.2843 - _timestamp: 1648325625.0000 - _runtime: 564.0000\n",
            "Epoch 9/10\n",
            "282/282 [==============================] - 62s 215ms/step - loss: 1.9239 - acc: 0.2939 - val_loss: 1.9078 - val_acc: 0.3153 - _timestamp: 1648325706.0000 - _runtime: 645.0000\n",
            "Epoch 10/10\n",
            "282/282 [==============================] - 62s 214ms/step - loss: 1.8786 - acc: 0.3149 - val_loss: 2.0182 - val_acc: 0.2883 - _timestamp: 1648325769.0000 - _runtime: 708.0000\n",
            "\n"
          ]
        },
        {
          "output_type": "display_data",
          "data": {
            "text/plain": [
              "<IPython.core.display.HTML object>"
            ],
            "text/html": [
              "Waiting for W&B process to finish... <strong style=\"color:green\">(success).</strong>"
            ]
          },
          "metadata": {}
        },
        {
          "output_type": "display_data",
          "data": {
            "text/plain": [
              "VBox(children=(Label(value='126.171 MB of 126.171 MB uploaded (0.000 MB deduped)\\r'), FloatProgress(value=1.0,…"
            ],
            "application/vnd.jupyter.widget-view+json": {
              "version_major": 2,
              "version_minor": 0,
              "model_id": "dc1510441aa74fe5b084bf98b42fcac1"
            }
          },
          "metadata": {}
        },
        {
          "output_type": "display_data",
          "data": {
            "text/plain": [
              "<IPython.core.display.HTML object>"
            ],
            "text/html": [
              "<style>\n",
              "    table.wandb td:nth-child(1) { padding: 0 10px; text-align: right }\n",
              "    .wandb-row { display: flex; flex-direction: row; flex-wrap: wrap; width: 100% }\n",
              "    .wandb-col { display: flex; flex-direction: column; flex-basis: 100%; flex: 1; padding: 10px; }\n",
              "    </style>\n",
              "<div class=\"wandb-row\"><div class=\"wandb-col\"><h3>Run history:</h3><br/><table class=\"wandb\"><tr><td>acc</td><td>▁▃▄▅▅▅▆▇▇█</td></tr><tr><td>epoch</td><td>▁▂▃▃▄▅▆▆▇█</td></tr><tr><td>loss</td><td>█▅▄▄▃▃▃▂▂▁</td></tr><tr><td>val_acc</td><td>▁▄▅▅▆▃█▄▇▅</td></tr><tr><td>val_loss</td><td>█▆▅▄▃█▂▄▁▄</td></tr></table><br/></div><div class=\"wandb-col\"><h3>Run summary:</h3><br/><table class=\"wandb\"><tr><td>acc</td><td>0.31489</td></tr><tr><td>best_epoch</td><td>8</td></tr><tr><td>best_val_loss</td><td>1.90778</td></tr><tr><td>epoch</td><td>9</td></tr><tr><td>loss</td><td>1.87859</td></tr><tr><td>val_acc</td><td>0.28829</td></tr><tr><td>val_loss</td><td>2.01821</td></tr></table><br/></div></div>"
            ]
          },
          "metadata": {}
        },
        {
          "output_type": "display_data",
          "data": {
            "text/plain": [
              "<IPython.core.display.HTML object>"
            ],
            "text/html": [
              "Synced <strong style=\"color:#cdcd00\">lilac-sweep-17</strong>: <a href=\"https://wandb.ai/safi-vamsi-cs6910/assgn2%20trial/runs/p8aq3js0\" target=\"_blank\">https://wandb.ai/safi-vamsi-cs6910/assgn2%20trial/runs/p8aq3js0</a><br/>Synced 5 W&B file(s), 1 media file(s), 0 artifact file(s) and 1 other file(s)"
            ]
          },
          "metadata": {}
        },
        {
          "output_type": "display_data",
          "data": {
            "text/plain": [
              "<IPython.core.display.HTML object>"
            ],
            "text/html": [
              "Find logs at: <code>./wandb/run-20220326_200421-p8aq3js0/logs</code>"
            ]
          },
          "metadata": {}
        },
        {
          "output_type": "stream",
          "name": "stderr",
          "text": [
            "\u001b[34m\u001b[1mwandb\u001b[0m: Agent Starting Run: m92lzn62 with config:\n",
            "\u001b[34m\u001b[1mwandb\u001b[0m: \tbatch_norm: True\n",
            "\u001b[34m\u001b[1mwandb\u001b[0m: \tbatch_size: 128\n",
            "\u001b[34m\u001b[1mwandb\u001b[0m: \tdata_augmentation: False\n",
            "\u001b[34m\u001b[1mwandb\u001b[0m: \tdense_layer: 512\n",
            "\u001b[34m\u001b[1mwandb\u001b[0m: \tdropout: 0.4\n",
            "\u001b[34m\u001b[1mwandb\u001b[0m: \tfilter_org: 1\n",
            "\u001b[34m\u001b[1mwandb\u001b[0m: \tkernel_size: 7\n",
            "\u001b[34m\u001b[1mwandb\u001b[0m: \tlearning_rate: 0.001\n",
            "\u001b[34m\u001b[1mwandb\u001b[0m: \tnum_epochs: 20\n",
            "\u001b[34m\u001b[1mwandb\u001b[0m: \tnum_filter: 256\n"
          ]
        },
        {
          "output_type": "display_data",
          "data": {
            "text/plain": [
              "<IPython.core.display.HTML object>"
            ],
            "text/html": [
              "Tracking run with wandb version 0.12.11"
            ]
          },
          "metadata": {}
        },
        {
          "output_type": "display_data",
          "data": {
            "text/plain": [
              "<IPython.core.display.HTML object>"
            ],
            "text/html": [
              "Run data is saved locally in <code>/content/wandb/run-20220326_201640-m92lzn62</code>"
            ]
          },
          "metadata": {}
        },
        {
          "output_type": "display_data",
          "data": {
            "text/plain": [
              "<IPython.core.display.HTML object>"
            ],
            "text/html": [
              "Syncing run <strong><a href=\"https://wandb.ai/safi-vamsi-cs6910/assgn2%20trial/runs/m92lzn62\" target=\"_blank\">deft-sweep-18</a></strong> to <a href=\"https://wandb.ai/safi-vamsi-cs6910/assgn2%20trial\" target=\"_blank\">Weights & Biases</a> (<a href=\"https://wandb.me/run\" target=\"_blank\">docs</a>)<br/>Sweep page:  <a href=\"https://wandb.ai/safi-vamsi-cs6910/assgn2%20trial/sweeps/b6ej9uqk\" target=\"_blank\">https://wandb.ai/safi-vamsi-cs6910/assgn2%20trial/sweeps/b6ej9uqk</a>"
            ]
          },
          "metadata": {}
        },
        {
          "output_type": "stream",
          "name": "stdout",
          "text": [
            "Model: \"sequential\"\n",
            "_________________________________________________________________\n",
            " Layer (type)                Output Shape              Param #   \n",
            "=================================================================\n",
            " conv2d (Conv2D)             (None, 250, 250, 32)      4736      \n",
            "                                                                 \n",
            " batch_normalization (BatchN  (None, 250, 250, 32)     128       \n",
            " ormalization)                                                   \n",
            "                                                                 \n",
            " activation (Activation)     (None, 250, 250, 32)      0         \n",
            "                                                                 \n",
            " max_pooling2d (MaxPooling2D  (None, 125, 125, 32)     0         \n",
            " )                                                               \n",
            "                                                                 \n",
            " conv2d_1 (Conv2D)           (None, 119, 119, 32)      50208     \n",
            "                                                                 \n",
            " batch_normalization_1 (Batc  (None, 119, 119, 32)     128       \n",
            " hNormalization)                                                 \n",
            "                                                                 \n",
            " activation_1 (Activation)   (None, 119, 119, 32)      0         \n",
            "                                                                 \n",
            " max_pooling2d_1 (MaxPooling  (None, 59, 59, 32)       0         \n",
            " 2D)                                                             \n",
            "                                                                 \n",
            " conv2d_2 (Conv2D)           (None, 53, 53, 32)        50208     \n",
            "                                                                 \n",
            " batch_normalization_2 (Batc  (None, 53, 53, 32)       128       \n",
            " hNormalization)                                                 \n",
            "                                                                 \n",
            " activation_2 (Activation)   (None, 53, 53, 32)        0         \n",
            "                                                                 \n",
            " max_pooling2d_2 (MaxPooling  (None, 26, 26, 32)       0         \n",
            " 2D)                                                             \n",
            "                                                                 \n",
            " conv2d_3 (Conv2D)           (None, 20, 20, 32)        50208     \n",
            "                                                                 \n",
            " batch_normalization_3 (Batc  (None, 20, 20, 32)       128       \n",
            " hNormalization)                                                 \n",
            "                                                                 \n",
            " activation_3 (Activation)   (None, 20, 20, 32)        0         \n",
            "                                                                 \n",
            " max_pooling2d_3 (MaxPooling  (None, 10, 10, 32)       0         \n",
            " 2D)                                                             \n",
            "                                                                 \n",
            " conv2d_4 (Conv2D)           (None, 4, 4, 32)          50208     \n",
            "                                                                 \n",
            " batch_normalization_4 (Batc  (None, 4, 4, 32)         128       \n",
            " hNormalization)                                                 \n",
            "                                                                 \n",
            " activation_4 (Activation)   (None, 4, 4, 32)          0         \n",
            "                                                                 \n",
            " max_pooling2d_4 (MaxPooling  (None, 2, 2, 32)         0         \n",
            " 2D)                                                             \n",
            "                                                                 \n",
            " flatten (Flatten)           (None, 128)               0         \n",
            "                                                                 \n",
            " dense (Dense)               (None, 512)               66048     \n",
            "                                                                 \n",
            " dropout (Dropout)           (None, 512)               0         \n",
            "                                                                 \n",
            " dense_1 (Dense)             (None, 10)                5130      \n",
            "                                                                 \n",
            "=================================================================\n",
            "Total params: 277,386\n",
            "Trainable params: 277,066\n",
            "Non-trainable params: 320\n",
            "_________________________________________________________________\n",
            "Found 9999 files belonging to 10 classes.\n",
            "Using 9000 files for training.\n",
            "Found 9999 files belonging to 10 classes.\n",
            "Using 999 files for validation.\n",
            "Epoch 1/10\n",
            "282/282 [==============================] - 63s 211ms/step - loss: 2.2368 - acc: 0.1939 - val_loss: 2.0988 - val_acc: 0.2322 - _timestamp: 1648325870.0000 - _runtime: 70.0000\n",
            "Epoch 2/10\n",
            "282/282 [==============================] - 60s 209ms/step - loss: 2.0570 - acc: 0.2641 - val_loss: 2.0365 - val_acc: 0.2422 - _timestamp: 1648325950.0000 - _runtime: 150.0000\n",
            "Epoch 3/10\n",
            "282/282 [==============================] - 61s 210ms/step - loss: 1.9705 - acc: 0.2993 - val_loss: 1.9673 - val_acc: 0.2943 - _timestamp: 1648326033.0000 - _runtime: 233.0000\n",
            "Epoch 4/10\n",
            "282/282 [==============================] - 60s 209ms/step - loss: 1.9254 - acc: 0.3239 - val_loss: 1.9990 - val_acc: 0.3033 - _timestamp: 1648326093.0000 - _runtime: 293.0000\n",
            "Epoch 5/10\n",
            "282/282 [==============================] - 60s 209ms/step - loss: 1.8685 - acc: 0.3462 - val_loss: 2.1286 - val_acc: 0.2382 - _timestamp: 1648326153.0000 - _runtime: 353.0000\n",
            "Epoch 6/10\n",
            "282/282 [==============================] - 60s 209ms/step - loss: 1.8316 - acc: 0.3604 - val_loss: 1.9814 - val_acc: 0.3023 - _timestamp: 1648326235.0000 - _runtime: 435.0000\n",
            "Epoch 7/10\n",
            "282/282 [==============================] - 60s 210ms/step - loss: 1.7690 - acc: 0.3846 - val_loss: 2.0005 - val_acc: 0.2943 - _timestamp: 1648326317.0000 - _runtime: 517.0000\n",
            "Epoch 8/10\n",
            "282/282 [==============================] - 61s 210ms/step - loss: 1.7228 - acc: 0.4043 - val_loss: 2.0239 - val_acc: 0.2923 - _timestamp: 1648326378.0000 - _runtime: 578.0000\n",
            "Epoch 9/10\n",
            "282/282 [==============================] - 60s 209ms/step - loss: 1.6645 - acc: 0.4252 - val_loss: 1.9484 - val_acc: 0.3023 - _timestamp: 1648326438.0000 - _runtime: 638.0000\n",
            "Epoch 10/10\n",
            "282/282 [==============================] - 60s 209ms/step - loss: 1.6058 - acc: 0.4443 - val_loss: 1.9503 - val_acc: 0.3193 - _timestamp: 1648326520.0000 - _runtime: 720.0000\n",
            "\n"
          ]
        },
        {
          "output_type": "display_data",
          "data": {
            "text/plain": [
              "<IPython.core.display.HTML object>"
            ],
            "text/html": [
              "Waiting for W&B process to finish... <strong style=\"color:green\">(success).</strong>"
            ]
          },
          "metadata": {}
        },
        {
          "output_type": "display_data",
          "data": {
            "text/plain": [
              "VBox(children=(Label(value='3.297 MB of 3.297 MB uploaded (0.000 MB deduped)\\r'), FloatProgress(value=1.0, max…"
            ],
            "application/vnd.jupyter.widget-view+json": {
              "version_major": 2,
              "version_minor": 0,
              "model_id": "fefba1f92c534786adad347ffe4f16ce"
            }
          },
          "metadata": {}
        },
        {
          "output_type": "display_data",
          "data": {
            "text/plain": [
              "<IPython.core.display.HTML object>"
            ],
            "text/html": [
              "<style>\n",
              "    table.wandb td:nth-child(1) { padding: 0 10px; text-align: right }\n",
              "    .wandb-row { display: flex; flex-direction: row; flex-wrap: wrap; width: 100% }\n",
              "    .wandb-col { display: flex; flex-direction: column; flex-basis: 100%; flex: 1; padding: 10px; }\n",
              "    </style>\n",
              "<div class=\"wandb-row\"><div class=\"wandb-col\"><h3>Run history:</h3><br/><table class=\"wandb\"><tr><td>acc</td><td>▁▃▄▅▅▆▆▇▇█</td></tr><tr><td>epoch</td><td>▁▂▃▃▄▅▆▆▇█</td></tr><tr><td>loss</td><td>█▆▅▅▄▄▃▂▂▁</td></tr><tr><td>val_acc</td><td>▁▂▆▇▁▇▆▆▇█</td></tr><tr><td>val_loss</td><td>▇▄▂▃█▂▃▄▁▁</td></tr></table><br/></div><div class=\"wandb-col\"><h3>Run summary:</h3><br/><table class=\"wandb\"><tr><td>acc</td><td>0.44433</td></tr><tr><td>best_epoch</td><td>8</td></tr><tr><td>best_val_loss</td><td>1.94839</td></tr><tr><td>epoch</td><td>9</td></tr><tr><td>loss</td><td>1.60576</td></tr><tr><td>val_acc</td><td>0.31932</td></tr><tr><td>val_loss</td><td>1.95028</td></tr></table><br/></div></div>"
            ]
          },
          "metadata": {}
        },
        {
          "output_type": "display_data",
          "data": {
            "text/plain": [
              "<IPython.core.display.HTML object>"
            ],
            "text/html": [
              "Synced <strong style=\"color:#cdcd00\">deft-sweep-18</strong>: <a href=\"https://wandb.ai/safi-vamsi-cs6910/assgn2%20trial/runs/m92lzn62\" target=\"_blank\">https://wandb.ai/safi-vamsi-cs6910/assgn2%20trial/runs/m92lzn62</a><br/>Synced 5 W&B file(s), 1 media file(s), 0 artifact file(s) and 1 other file(s)"
            ]
          },
          "metadata": {}
        },
        {
          "output_type": "display_data",
          "data": {
            "text/plain": [
              "<IPython.core.display.HTML object>"
            ],
            "text/html": [
              "Find logs at: <code>./wandb/run-20220326_201640-m92lzn62/logs</code>"
            ]
          },
          "metadata": {}
        },
        {
          "output_type": "stream",
          "name": "stderr",
          "text": [
            "\u001b[34m\u001b[1mwandb\u001b[0m: Agent Starting Run: voxb2iae with config:\n",
            "\u001b[34m\u001b[1mwandb\u001b[0m: \tbatch_norm: True\n",
            "\u001b[34m\u001b[1mwandb\u001b[0m: \tbatch_size: 64\n",
            "\u001b[34m\u001b[1mwandb\u001b[0m: \tdata_augmentation: False\n",
            "\u001b[34m\u001b[1mwandb\u001b[0m: \tdense_layer: 128\n",
            "\u001b[34m\u001b[1mwandb\u001b[0m: \tdropout: 0.4\n",
            "\u001b[34m\u001b[1mwandb\u001b[0m: \tfilter_org: 1\n",
            "\u001b[34m\u001b[1mwandb\u001b[0m: \tkernel_size: 3\n",
            "\u001b[34m\u001b[1mwandb\u001b[0m: \tlearning_rate: 0.0001\n",
            "\u001b[34m\u001b[1mwandb\u001b[0m: \tnum_epochs: 20\n",
            "\u001b[34m\u001b[1mwandb\u001b[0m: \tnum_filter: 128\n"
          ]
        },
        {
          "output_type": "display_data",
          "data": {
            "text/plain": [
              "<IPython.core.display.HTML object>"
            ],
            "text/html": [
              "Tracking run with wandb version 0.12.11"
            ]
          },
          "metadata": {}
        },
        {
          "output_type": "display_data",
          "data": {
            "text/plain": [
              "<IPython.core.display.HTML object>"
            ],
            "text/html": [
              "Run data is saved locally in <code>/content/wandb/run-20220326_202848-voxb2iae</code>"
            ]
          },
          "metadata": {}
        },
        {
          "output_type": "display_data",
          "data": {
            "text/plain": [
              "<IPython.core.display.HTML object>"
            ],
            "text/html": [
              "Syncing run <strong><a href=\"https://wandb.ai/safi-vamsi-cs6910/assgn2%20trial/runs/voxb2iae\" target=\"_blank\">fresh-sweep-19</a></strong> to <a href=\"https://wandb.ai/safi-vamsi-cs6910/assgn2%20trial\" target=\"_blank\">Weights & Biases</a> (<a href=\"https://wandb.me/run\" target=\"_blank\">docs</a>)<br/>Sweep page:  <a href=\"https://wandb.ai/safi-vamsi-cs6910/assgn2%20trial/sweeps/b6ej9uqk\" target=\"_blank\">https://wandb.ai/safi-vamsi-cs6910/assgn2%20trial/sweeps/b6ej9uqk</a>"
            ]
          },
          "metadata": {}
        },
        {
          "output_type": "stream",
          "name": "stdout",
          "text": [
            "Model: \"sequential\"\n",
            "_________________________________________________________________\n",
            " Layer (type)                Output Shape              Param #   \n",
            "=================================================================\n",
            " conv2d (Conv2D)             (None, 254, 254, 32)      896       \n",
            "                                                                 \n",
            " batch_normalization (BatchN  (None, 254, 254, 32)     128       \n",
            " ormalization)                                                   \n",
            "                                                                 \n",
            " activation (Activation)     (None, 254, 254, 32)      0         \n",
            "                                                                 \n",
            " max_pooling2d (MaxPooling2D  (None, 127, 127, 32)     0         \n",
            " )                                                               \n",
            "                                                                 \n",
            " conv2d_1 (Conv2D)           (None, 125, 125, 32)      9248      \n",
            "                                                                 \n",
            " batch_normalization_1 (Batc  (None, 125, 125, 32)     128       \n",
            " hNormalization)                                                 \n",
            "                                                                 \n",
            " activation_1 (Activation)   (None, 125, 125, 32)      0         \n",
            "                                                                 \n",
            " max_pooling2d_1 (MaxPooling  (None, 62, 62, 32)       0         \n",
            " 2D)                                                             \n",
            "                                                                 \n",
            " conv2d_2 (Conv2D)           (None, 60, 60, 32)        9248      \n",
            "                                                                 \n",
            " batch_normalization_2 (Batc  (None, 60, 60, 32)       128       \n",
            " hNormalization)                                                 \n",
            "                                                                 \n",
            " activation_2 (Activation)   (None, 60, 60, 32)        0         \n",
            "                                                                 \n",
            " max_pooling2d_2 (MaxPooling  (None, 30, 30, 32)       0         \n",
            " 2D)                                                             \n",
            "                                                                 \n",
            " conv2d_3 (Conv2D)           (None, 28, 28, 32)        9248      \n",
            "                                                                 \n",
            " batch_normalization_3 (Batc  (None, 28, 28, 32)       128       \n",
            " hNormalization)                                                 \n",
            "                                                                 \n",
            " activation_3 (Activation)   (None, 28, 28, 32)        0         \n",
            "                                                                 \n",
            " max_pooling2d_3 (MaxPooling  (None, 14, 14, 32)       0         \n",
            " 2D)                                                             \n",
            "                                                                 \n",
            " conv2d_4 (Conv2D)           (None, 12, 12, 32)        9248      \n",
            "                                                                 \n",
            " batch_normalization_4 (Batc  (None, 12, 12, 32)       128       \n",
            " hNormalization)                                                 \n",
            "                                                                 \n",
            " activation_4 (Activation)   (None, 12, 12, 32)        0         \n",
            "                                                                 \n",
            " max_pooling2d_4 (MaxPooling  (None, 6, 6, 32)         0         \n",
            " 2D)                                                             \n",
            "                                                                 \n",
            " flatten (Flatten)           (None, 1152)              0         \n",
            "                                                                 \n",
            " dense (Dense)               (None, 128)               147584    \n",
            "                                                                 \n",
            " dropout (Dropout)           (None, 128)               0         \n",
            "                                                                 \n",
            " dense_1 (Dense)             (None, 10)                1290      \n",
            "                                                                 \n",
            "=================================================================\n",
            "Total params: 187,402\n",
            "Trainable params: 187,082\n",
            "Non-trainable params: 320\n",
            "_________________________________________________________________\n",
            "Found 9999 files belonging to 10 classes.\n",
            "Using 9000 files for training.\n",
            "Found 9999 files belonging to 10 classes.\n",
            "Using 999 files for validation.\n",
            "Epoch 1/10\n",
            "282/282 [==============================] - 61s 207ms/step - loss: 2.3764 - acc: 0.1601 - val_loss: 2.1569 - val_acc: 0.2422 - _timestamp: 1648326597.0000 - _runtime: 69.0000\n",
            "Epoch 2/10\n",
            "282/282 [==============================] - 60s 208ms/step - loss: 2.1450 - acc: 0.2259 - val_loss: 2.0723 - val_acc: 0.2743 - _timestamp: 1648326657.0000 - _runtime: 129.0000\n",
            "Epoch 3/10\n",
            "282/282 [==============================] - 60s 208ms/step - loss: 2.0642 - acc: 0.2640 - val_loss: 2.0136 - val_acc: 0.2893 - _timestamp: 1648326739.0000 - _runtime: 211.0000\n",
            "Epoch 4/10\n",
            "282/282 [==============================] - 61s 211ms/step - loss: 2.0022 - acc: 0.2842 - val_loss: 1.9785 - val_acc: 0.3123 - _timestamp: 1648326800.0000 - _runtime: 272.0000\n",
            "Epoch 5/10\n",
            "282/282 [==============================] - 59s 206ms/step - loss: 1.9641 - acc: 0.3073 - val_loss: 1.9801 - val_acc: 0.3073 - _timestamp: 1648326880.0000 - _runtime: 352.0000\n",
            "Epoch 6/10\n",
            "282/282 [==============================] - 60s 208ms/step - loss: 1.9346 - acc: 0.3133 - val_loss: 1.9445 - val_acc: 0.3233 - _timestamp: 1648326940.0000 - _runtime: 412.0000\n",
            "Epoch 7/10\n",
            "282/282 [==============================] - 60s 209ms/step - loss: 1.8918 - acc: 0.3326 - val_loss: 1.9246 - val_acc: 0.3263 - _timestamp: 1648327001.0000 - _runtime: 473.0000\n",
            "Epoch 8/10\n",
            "282/282 [==============================] - 59s 206ms/step - loss: 1.8512 - acc: 0.3439 - val_loss: 1.9858 - val_acc: 0.3103 - _timestamp: 1648327060.0000 - _runtime: 532.0000\n",
            "Epoch 9/10\n",
            "282/282 [==============================] - 61s 211ms/step - loss: 1.8246 - acc: 0.3516 - val_loss: 1.9202 - val_acc: 0.3303 - _timestamp: 1648327121.0000 - _runtime: 593.0000\n",
            "Epoch 10/10\n",
            "282/282 [==============================] - 61s 212ms/step - loss: 1.7929 - acc: 0.3647 - val_loss: 1.9331 - val_acc: 0.3143 - _timestamp: 1648327182.0000 - _runtime: 654.0000\n",
            "\n"
          ]
        },
        {
          "output_type": "display_data",
          "data": {
            "text/plain": [
              "<IPython.core.display.HTML object>"
            ],
            "text/html": [
              "Waiting for W&B process to finish... <strong style=\"color:green\">(success).</strong>"
            ]
          },
          "metadata": {}
        },
        {
          "output_type": "display_data",
          "data": {
            "text/plain": [
              "VBox(children=(Label(value='2.266 MB of 2.266 MB uploaded (0.000 MB deduped)\\r'), FloatProgress(value=1.0, max…"
            ],
            "application/vnd.jupyter.widget-view+json": {
              "version_major": 2,
              "version_minor": 0,
              "model_id": "f6e4a5bf67d040a88c66fa785a25b3c7"
            }
          },
          "metadata": {}
        },
        {
          "output_type": "display_data",
          "data": {
            "text/plain": [
              "<IPython.core.display.HTML object>"
            ],
            "text/html": [
              "<style>\n",
              "    table.wandb td:nth-child(1) { padding: 0 10px; text-align: right }\n",
              "    .wandb-row { display: flex; flex-direction: row; flex-wrap: wrap; width: 100% }\n",
              "    .wandb-col { display: flex; flex-direction: column; flex-basis: 100%; flex: 1; padding: 10px; }\n",
              "    </style>\n",
              "<div class=\"wandb-row\"><div class=\"wandb-col\"><h3>Run history:</h3><br/><table class=\"wandb\"><tr><td>acc</td><td>▁▃▅▅▆▆▇▇██</td></tr><tr><td>epoch</td><td>▁▂▃▃▄▅▆▆▇█</td></tr><tr><td>loss</td><td>█▅▄▄▃▃▂▂▁▁</td></tr><tr><td>val_acc</td><td>▁▄▅▇▆▇█▆█▇</td></tr><tr><td>val_loss</td><td>█▅▄▃▃▂▁▃▁▁</td></tr></table><br/></div><div class=\"wandb-col\"><h3>Run summary:</h3><br/><table class=\"wandb\"><tr><td>acc</td><td>0.36467</td></tr><tr><td>best_epoch</td><td>8</td></tr><tr><td>best_val_loss</td><td>1.92025</td></tr><tr><td>epoch</td><td>9</td></tr><tr><td>loss</td><td>1.79295</td></tr><tr><td>val_acc</td><td>0.31431</td></tr><tr><td>val_loss</td><td>1.93307</td></tr></table><br/></div></div>"
            ]
          },
          "metadata": {}
        },
        {
          "output_type": "display_data",
          "data": {
            "text/plain": [
              "<IPython.core.display.HTML object>"
            ],
            "text/html": [
              "Synced <strong style=\"color:#cdcd00\">fresh-sweep-19</strong>: <a href=\"https://wandb.ai/safi-vamsi-cs6910/assgn2%20trial/runs/voxb2iae\" target=\"_blank\">https://wandb.ai/safi-vamsi-cs6910/assgn2%20trial/runs/voxb2iae</a><br/>Synced 5 W&B file(s), 1 media file(s), 0 artifact file(s) and 1 other file(s)"
            ]
          },
          "metadata": {}
        },
        {
          "output_type": "display_data",
          "data": {
            "text/plain": [
              "<IPython.core.display.HTML object>"
            ],
            "text/html": [
              "Find logs at: <code>./wandb/run-20220326_202848-voxb2iae/logs</code>"
            ]
          },
          "metadata": {}
        },
        {
          "output_type": "stream",
          "name": "stderr",
          "text": [
            "\u001b[34m\u001b[1mwandb\u001b[0m: Agent Starting Run: 7hzi4nq0 with config:\n",
            "\u001b[34m\u001b[1mwandb\u001b[0m: \tbatch_norm: True\n",
            "\u001b[34m\u001b[1mwandb\u001b[0m: \tbatch_size: 64\n",
            "\u001b[34m\u001b[1mwandb\u001b[0m: \tdata_augmentation: False\n",
            "\u001b[34m\u001b[1mwandb\u001b[0m: \tdense_layer: 512\n",
            "\u001b[34m\u001b[1mwandb\u001b[0m: \tdropout: 0.4\n",
            "\u001b[34m\u001b[1mwandb\u001b[0m: \tfilter_org: 2\n",
            "\u001b[34m\u001b[1mwandb\u001b[0m: \tkernel_size: 7\n",
            "\u001b[34m\u001b[1mwandb\u001b[0m: \tlearning_rate: 0.0001\n",
            "\u001b[34m\u001b[1mwandb\u001b[0m: \tnum_epochs: 10\n",
            "\u001b[34m\u001b[1mwandb\u001b[0m: \tnum_filter: 256\n"
          ]
        },
        {
          "output_type": "display_data",
          "data": {
            "text/plain": [
              "<IPython.core.display.HTML object>"
            ],
            "text/html": [
              "Tracking run with wandb version 0.12.11"
            ]
          },
          "metadata": {}
        },
        {
          "output_type": "display_data",
          "data": {
            "text/plain": [
              "<IPython.core.display.HTML object>"
            ],
            "text/html": [
              "Run data is saved locally in <code>/content/wandb/run-20220326_203952-7hzi4nq0</code>"
            ]
          },
          "metadata": {}
        },
        {
          "output_type": "display_data",
          "data": {
            "text/plain": [
              "<IPython.core.display.HTML object>"
            ],
            "text/html": [
              "Syncing run <strong><a href=\"https://wandb.ai/safi-vamsi-cs6910/assgn2%20trial/runs/7hzi4nq0\" target=\"_blank\">fresh-sweep-20</a></strong> to <a href=\"https://wandb.ai/safi-vamsi-cs6910/assgn2%20trial\" target=\"_blank\">Weights & Biases</a> (<a href=\"https://wandb.me/run\" target=\"_blank\">docs</a>)<br/>Sweep page:  <a href=\"https://wandb.ai/safi-vamsi-cs6910/assgn2%20trial/sweeps/b6ej9uqk\" target=\"_blank\">https://wandb.ai/safi-vamsi-cs6910/assgn2%20trial/sweeps/b6ej9uqk</a>"
            ]
          },
          "metadata": {}
        },
        {
          "output_type": "stream",
          "name": "stdout",
          "text": [
            "Model: \"sequential\"\n",
            "_________________________________________________________________\n",
            " Layer (type)                Output Shape              Param #   \n",
            "=================================================================\n",
            " conv2d (Conv2D)             (None, 250, 250, 32)      4736      \n",
            "                                                                 \n",
            " batch_normalization (BatchN  (None, 250, 250, 32)     128       \n",
            " ormalization)                                                   \n",
            "                                                                 \n",
            " activation (Activation)     (None, 250, 250, 32)      0         \n",
            "                                                                 \n",
            " max_pooling2d (MaxPooling2D  (None, 125, 125, 32)     0         \n",
            " )                                                               \n",
            "                                                                 \n",
            " conv2d_1 (Conv2D)           (None, 119, 119, 64)      100416    \n",
            "                                                                 \n",
            " batch_normalization_1 (Batc  (None, 119, 119, 64)     256       \n",
            " hNormalization)                                                 \n",
            "                                                                 \n",
            " activation_1 (Activation)   (None, 119, 119, 64)      0         \n",
            "                                                                 \n",
            " max_pooling2d_1 (MaxPooling  (None, 59, 59, 64)       0         \n",
            " 2D)                                                             \n",
            "                                                                 \n",
            " conv2d_2 (Conv2D)           (None, 53, 53, 128)       401536    \n",
            "                                                                 \n",
            " batch_normalization_2 (Batc  (None, 53, 53, 128)      512       \n",
            " hNormalization)                                                 \n",
            "                                                                 \n",
            " activation_2 (Activation)   (None, 53, 53, 128)       0         \n",
            "                                                                 \n",
            " max_pooling2d_2 (MaxPooling  (None, 26, 26, 128)      0         \n",
            " 2D)                                                             \n",
            "                                                                 \n",
            " conv2d_3 (Conv2D)           (None, 20, 20, 256)       1605888   \n",
            "                                                                 \n",
            " batch_normalization_3 (Batc  (None, 20, 20, 256)      1024      \n",
            " hNormalization)                                                 \n",
            "                                                                 \n",
            " activation_3 (Activation)   (None, 20, 20, 256)       0         \n",
            "                                                                 \n",
            " max_pooling2d_3 (MaxPooling  (None, 10, 10, 256)      0         \n",
            " 2D)                                                             \n",
            "                                                                 \n",
            " conv2d_4 (Conv2D)           (None, 4, 4, 512)         6423040   \n",
            "                                                                 \n",
            " batch_normalization_4 (Batc  (None, 4, 4, 512)        2048      \n",
            " hNormalization)                                                 \n",
            "                                                                 \n",
            " activation_4 (Activation)   (None, 4, 4, 512)         0         \n",
            "                                                                 \n",
            " max_pooling2d_4 (MaxPooling  (None, 2, 2, 512)        0         \n",
            " 2D)                                                             \n",
            "                                                                 \n",
            " flatten (Flatten)           (None, 2048)              0         \n",
            "                                                                 \n",
            " dense (Dense)               (None, 512)               1049088   \n",
            "                                                                 \n",
            " dropout (Dropout)           (None, 512)               0         \n",
            "                                                                 \n",
            " dense_1 (Dense)             (None, 10)                5130      \n",
            "                                                                 \n",
            "=================================================================\n",
            "Total params: 9,593,802\n",
            "Trainable params: 9,591,818\n",
            "Non-trainable params: 1,984\n",
            "_________________________________________________________________\n",
            "Found 9999 files belonging to 10 classes.\n",
            "Using 9000 files for training.\n",
            "Found 9999 files belonging to 10 classes.\n",
            "Using 999 files for validation.\n",
            "Epoch 1/10\n",
            "282/282 [==============================] - 65s 219ms/step - loss: 2.2070 - acc: 0.2387 - val_loss: 2.1879 - val_acc: 0.2302 - _timestamp: 1648327264.0000 - _runtime: 72.0000\n",
            "Epoch 2/10\n",
            "282/282 [==============================] - 63s 217ms/step - loss: 2.0123 - acc: 0.2889 - val_loss: 2.0131 - val_acc: 0.2973 - _timestamp: 1648327328.0000 - _runtime: 136.0000\n",
            "Epoch 3/10\n",
            "282/282 [==============================] - 63s 218ms/step - loss: 1.9137 - acc: 0.3251 - val_loss: 1.9639 - val_acc: 0.3143 - _timestamp: 1648327390.0000 - _runtime: 198.0000\n",
            "Epoch 4/10\n",
            "282/282 [==============================] - 62s 217ms/step - loss: 1.8485 - acc: 0.3536 - val_loss: 2.1095 - val_acc: 0.2683 - _timestamp: 1648327453.0000 - _runtime: 261.0000\n",
            "Epoch 5/10\n",
            "282/282 [==============================] - 63s 218ms/step - loss: 1.7640 - acc: 0.3773 - val_loss: 1.9551 - val_acc: 0.3233 - _timestamp: 1648327515.0000 - _runtime: 323.0000\n",
            "Epoch 6/10\n",
            "282/282 [==============================] - 63s 217ms/step - loss: 1.6667 - acc: 0.4112 - val_loss: 2.0123 - val_acc: 0.3283 - _timestamp: 1648327578.0000 - _runtime: 386.0000\n",
            "Epoch 7/10\n",
            "282/282 [==============================] - 62s 217ms/step - loss: 1.5597 - acc: 0.4569 - val_loss: 2.0037 - val_acc: 0.3153 - _timestamp: 1648327660.0000 - _runtime: 468.0000\n",
            "Epoch 8/10\n",
            "282/282 [==============================] - 63s 217ms/step - loss: 1.4398 - acc: 0.4980 - val_loss: 2.0826 - val_acc: 0.3023 - _timestamp: 1648327742.0000 - _runtime: 550.0000\n",
            "Epoch 9/10\n",
            "282/282 [==============================] - 62s 217ms/step - loss: 1.2962 - acc: 0.5568 - val_loss: 2.0759 - val_acc: 0.3413 - _timestamp: 1648327805.0000 - _runtime: 613.0000\n",
            "Epoch 10/10\n",
            "282/282 [==============================] - 62s 217ms/step - loss: 1.1225 - acc: 0.6166 - val_loss: 1.9898 - val_acc: 0.3413 - _timestamp: 1648327887.0000 - _runtime: 695.0000\n",
            "\n"
          ]
        },
        {
          "output_type": "display_data",
          "data": {
            "text/plain": [
              "<IPython.core.display.HTML object>"
            ],
            "text/html": [
              "Waiting for W&B process to finish... <strong style=\"color:green\">(success).</strong>"
            ]
          },
          "metadata": {}
        },
        {
          "output_type": "display_data",
          "data": {
            "text/plain": [
              "VBox(children=(Label(value='109.902 MB of 109.902 MB uploaded (0.000 MB deduped)\\r'), FloatProgress(value=1.0,…"
            ],
            "application/vnd.jupyter.widget-view+json": {
              "version_major": 2,
              "version_minor": 0,
              "model_id": "a72cab83e2ab456788779c990d0e5e90"
            }
          },
          "metadata": {}
        },
        {
          "output_type": "display_data",
          "data": {
            "text/plain": [
              "<IPython.core.display.HTML object>"
            ],
            "text/html": [
              "<style>\n",
              "    table.wandb td:nth-child(1) { padding: 0 10px; text-align: right }\n",
              "    .wandb-row { display: flex; flex-direction: row; flex-wrap: wrap; width: 100% }\n",
              "    .wandb-col { display: flex; flex-direction: column; flex-basis: 100%; flex: 1; padding: 10px; }\n",
              "    </style>\n",
              "<div class=\"wandb-row\"><div class=\"wandb-col\"><h3>Run history:</h3><br/><table class=\"wandb\"><tr><td>acc</td><td>▁▂▃▃▄▄▅▆▇█</td></tr><tr><td>epoch</td><td>▁▂▃▃▄▅▆▆▇█</td></tr><tr><td>loss</td><td>█▇▆▆▅▅▄▃▂▁</td></tr><tr><td>val_acc</td><td>▁▅▆▃▇▇▆▆██</td></tr><tr><td>val_loss</td><td>█▃▁▆▁▃▂▅▅▂</td></tr></table><br/></div><div class=\"wandb-col\"><h3>Run summary:</h3><br/><table class=\"wandb\"><tr><td>acc</td><td>0.61656</td></tr><tr><td>best_epoch</td><td>4</td></tr><tr><td>best_val_loss</td><td>1.95515</td></tr><tr><td>epoch</td><td>9</td></tr><tr><td>loss</td><td>1.12247</td></tr><tr><td>val_acc</td><td>0.34134</td></tr><tr><td>val_loss</td><td>1.98977</td></tr></table><br/></div></div>"
            ]
          },
          "metadata": {}
        },
        {
          "output_type": "display_data",
          "data": {
            "text/plain": [
              "<IPython.core.display.HTML object>"
            ],
            "text/html": [
              "Synced <strong style=\"color:#cdcd00\">fresh-sweep-20</strong>: <a href=\"https://wandb.ai/safi-vamsi-cs6910/assgn2%20trial/runs/7hzi4nq0\" target=\"_blank\">https://wandb.ai/safi-vamsi-cs6910/assgn2%20trial/runs/7hzi4nq0</a><br/>Synced 5 W&B file(s), 1 media file(s), 0 artifact file(s) and 1 other file(s)"
            ]
          },
          "metadata": {}
        },
        {
          "output_type": "display_data",
          "data": {
            "text/plain": [
              "<IPython.core.display.HTML object>"
            ],
            "text/html": [
              "Find logs at: <code>./wandb/run-20220326_203952-7hzi4nq0/logs</code>"
            ]
          },
          "metadata": {}
        },
        {
          "output_type": "stream",
          "name": "stderr",
          "text": [
            "\u001b[34m\u001b[1mwandb\u001b[0m: Agent Starting Run: 3lsaw6y5 with config:\n",
            "\u001b[34m\u001b[1mwandb\u001b[0m: \tbatch_norm: True\n",
            "\u001b[34m\u001b[1mwandb\u001b[0m: \tbatch_size: 32\n",
            "\u001b[34m\u001b[1mwandb\u001b[0m: \tdata_augmentation: False\n",
            "\u001b[34m\u001b[1mwandb\u001b[0m: \tdense_layer: 512\n",
            "\u001b[34m\u001b[1mwandb\u001b[0m: \tdropout: 0.4\n",
            "\u001b[34m\u001b[1mwandb\u001b[0m: \tfilter_org: 2\n",
            "\u001b[34m\u001b[1mwandb\u001b[0m: \tkernel_size: 3\n",
            "\u001b[34m\u001b[1mwandb\u001b[0m: \tlearning_rate: 0.0001\n",
            "\u001b[34m\u001b[1mwandb\u001b[0m: \tnum_epochs: 30\n",
            "\u001b[34m\u001b[1mwandb\u001b[0m: \tnum_filter: 256\n"
          ]
        },
        {
          "output_type": "display_data",
          "data": {
            "text/plain": [
              "<IPython.core.display.HTML object>"
            ],
            "text/html": [
              "Tracking run with wandb version 0.12.11"
            ]
          },
          "metadata": {}
        },
        {
          "output_type": "display_data",
          "data": {
            "text/plain": [
              "<IPython.core.display.HTML object>"
            ],
            "text/html": [
              "Run data is saved locally in <code>/content/wandb/run-20220326_205200-3lsaw6y5</code>"
            ]
          },
          "metadata": {}
        },
        {
          "output_type": "display_data",
          "data": {
            "text/plain": [
              "<IPython.core.display.HTML object>"
            ],
            "text/html": [
              "Syncing run <strong><a href=\"https://wandb.ai/safi-vamsi-cs6910/assgn2%20trial/runs/3lsaw6y5\" target=\"_blank\">dauntless-sweep-21</a></strong> to <a href=\"https://wandb.ai/safi-vamsi-cs6910/assgn2%20trial\" target=\"_blank\">Weights & Biases</a> (<a href=\"https://wandb.me/run\" target=\"_blank\">docs</a>)<br/>Sweep page:  <a href=\"https://wandb.ai/safi-vamsi-cs6910/assgn2%20trial/sweeps/b6ej9uqk\" target=\"_blank\">https://wandb.ai/safi-vamsi-cs6910/assgn2%20trial/sweeps/b6ej9uqk</a>"
            ]
          },
          "metadata": {}
        },
        {
          "output_type": "stream",
          "name": "stdout",
          "text": [
            "Model: \"sequential\"\n",
            "_________________________________________________________________\n",
            " Layer (type)                Output Shape              Param #   \n",
            "=================================================================\n",
            " conv2d (Conv2D)             (None, 254, 254, 32)      896       \n",
            "                                                                 \n",
            " batch_normalization (BatchN  (None, 254, 254, 32)     128       \n",
            " ormalization)                                                   \n",
            "                                                                 \n",
            " activation (Activation)     (None, 254, 254, 32)      0         \n",
            "                                                                 \n",
            " max_pooling2d (MaxPooling2D  (None, 127, 127, 32)     0         \n",
            " )                                                               \n",
            "                                                                 \n",
            " conv2d_1 (Conv2D)           (None, 125, 125, 64)      18496     \n",
            "                                                                 \n",
            " batch_normalization_1 (Batc  (None, 125, 125, 64)     256       \n",
            " hNormalization)                                                 \n",
            "                                                                 \n",
            " activation_1 (Activation)   (None, 125, 125, 64)      0         \n",
            "                                                                 \n",
            " max_pooling2d_1 (MaxPooling  (None, 62, 62, 64)       0         \n",
            " 2D)                                                             \n",
            "                                                                 \n",
            " conv2d_2 (Conv2D)           (None, 60, 60, 128)       73856     \n",
            "                                                                 \n",
            " batch_normalization_2 (Batc  (None, 60, 60, 128)      512       \n",
            " hNormalization)                                                 \n",
            "                                                                 \n",
            " activation_2 (Activation)   (None, 60, 60, 128)       0         \n",
            "                                                                 \n",
            " max_pooling2d_2 (MaxPooling  (None, 30, 30, 128)      0         \n",
            " 2D)                                                             \n",
            "                                                                 \n",
            " conv2d_3 (Conv2D)           (None, 28, 28, 256)       295168    \n",
            "                                                                 \n",
            " batch_normalization_3 (Batc  (None, 28, 28, 256)      1024      \n",
            " hNormalization)                                                 \n",
            "                                                                 \n",
            " activation_3 (Activation)   (None, 28, 28, 256)       0         \n",
            "                                                                 \n",
            " max_pooling2d_3 (MaxPooling  (None, 14, 14, 256)      0         \n",
            " 2D)                                                             \n",
            "                                                                 \n",
            " conv2d_4 (Conv2D)           (None, 12, 12, 512)       1180160   \n",
            "                                                                 \n",
            " batch_normalization_4 (Batc  (None, 12, 12, 512)      2048      \n",
            " hNormalization)                                                 \n",
            "                                                                 \n",
            " activation_4 (Activation)   (None, 12, 12, 512)       0         \n",
            "                                                                 \n",
            " max_pooling2d_4 (MaxPooling  (None, 6, 6, 512)        0         \n",
            " 2D)                                                             \n",
            "                                                                 \n",
            " flatten (Flatten)           (None, 18432)             0         \n",
            "                                                                 \n",
            " dense (Dense)               (None, 512)               9437696   \n",
            "                                                                 \n",
            " dropout (Dropout)           (None, 512)               0         \n",
            "                                                                 \n",
            " dense_1 (Dense)             (None, 10)                5130      \n",
            "                                                                 \n",
            "=================================================================\n",
            "Total params: 11,015,370\n",
            "Trainable params: 11,013,386\n",
            "Non-trainable params: 1,984\n",
            "_________________________________________________________________\n",
            "Found 9999 files belonging to 10 classes.\n",
            "Using 9000 files for training.\n",
            "Found 9999 files belonging to 10 classes.\n",
            "Using 999 files for validation.\n",
            "Epoch 1/10\n",
            "282/282 [==============================] - 63s 214ms/step - loss: 2.2800 - acc: 0.2159 - val_loss: 2.1002 - val_acc: 0.2382 - _timestamp: 1648327991.0000 - _runtime: 71.0000\n",
            "Epoch 2/10\n",
            "282/282 [==============================] - 62s 214ms/step - loss: 2.0510 - acc: 0.2706 - val_loss: 1.9582 - val_acc: 0.3333 - _timestamp: 1648328053.0000 - _runtime: 133.0000\n",
            "Epoch 3/10\n",
            "282/282 [==============================] - 62s 214ms/step - loss: 1.9710 - acc: 0.2940 - val_loss: 1.9309 - val_acc: 0.3443 - _timestamp: 1648328135.0000 - _runtime: 215.0000\n",
            "Epoch 4/10\n",
            "282/282 [==============================] - 62s 214ms/step - loss: 1.9056 - acc: 0.3232 - val_loss: 1.9376 - val_acc: 0.3233 - _timestamp: 1648328197.0000 - _runtime: 277.0000\n",
            "Epoch 5/10\n",
            "282/282 [==============================] - 62s 215ms/step - loss: 1.8486 - acc: 0.3369 - val_loss: 1.8813 - val_acc: 0.3463 - _timestamp: 1648328259.0000 - _runtime: 339.0000\n",
            "Epoch 6/10\n",
            "282/282 [==============================] - 62s 214ms/step - loss: 1.7827 - acc: 0.3666 - val_loss: 2.0205 - val_acc: 0.3163 - _timestamp: 1648328321.0000 - _runtime: 401.0000\n",
            "Epoch 7/10\n",
            "282/282 [==============================] - 61s 212ms/step - loss: 1.7096 - acc: 0.3940 - val_loss: 1.9698 - val_acc: 0.3463 - _timestamp: 1648328382.0000 - _runtime: 462.0000\n",
            "Epoch 8/10\n",
            "282/282 [==============================] - 62s 215ms/step - loss: 1.6409 - acc: 0.4174 - val_loss: 1.7870 - val_acc: 0.3764 - _timestamp: 1648328464.0000 - _runtime: 544.0000\n",
            "Epoch 9/10\n",
            "282/282 [==============================] - 62s 214ms/step - loss: 1.5710 - acc: 0.4426 - val_loss: 1.8809 - val_acc: 0.3674 - _timestamp: 1648328527.0000 - _runtime: 607.0000\n",
            "Epoch 10/10\n",
            "282/282 [==============================] - 62s 215ms/step - loss: 1.5006 - acc: 0.4688 - val_loss: 1.8346 - val_acc: 0.3624 - _timestamp: 1648328588.0000 - _runtime: 668.0000\n",
            "\n"
          ]
        },
        {
          "output_type": "display_data",
          "data": {
            "text/plain": [
              "<IPython.core.display.HTML object>"
            ],
            "text/html": [
              "Waiting for W&B process to finish... <strong style=\"color:green\">(success).</strong>"
            ]
          },
          "metadata": {}
        },
        {
          "output_type": "display_data",
          "data": {
            "text/plain": [
              "VBox(children=(Label(value='0.031 MB of 0.031 MB uploaded (0.000 MB deduped)\\r'), FloatProgress(value=1.0, max…"
            ],
            "application/vnd.jupyter.widget-view+json": {
              "version_major": 2,
              "version_minor": 0,
              "model_id": "7034c54409a64bb497a46c31c06290f1"
            }
          },
          "metadata": {}
        },
        {
          "output_type": "display_data",
          "data": {
            "text/plain": [
              "<IPython.core.display.HTML object>"
            ],
            "text/html": [
              "<style>\n",
              "    table.wandb td:nth-child(1) { padding: 0 10px; text-align: right }\n",
              "    .wandb-row { display: flex; flex-direction: row; flex-wrap: wrap; width: 100% }\n",
              "    .wandb-col { display: flex; flex-direction: column; flex-basis: 100%; flex: 1; padding: 10px; }\n",
              "    </style>\n",
              "<div class=\"wandb-row\"><div class=\"wandb-col\"><h3>Run history:</h3><br/><table class=\"wandb\"><tr><td>acc</td><td>▁▃▃▄▄▅▆▇▇█</td></tr><tr><td>epoch</td><td>▁▂▃▃▄▅▆▆▇█</td></tr><tr><td>loss</td><td>█▆▅▅▄▄▃▂▂▁</td></tr><tr><td>val_acc</td><td>▁▆▆▅▆▅▆██▇</td></tr><tr><td>val_loss</td><td>█▅▄▄▃▆▅▁▃▂</td></tr></table><br/></div><div class=\"wandb-col\"><h3>Run summary:</h3><br/><table class=\"wandb\"><tr><td>acc</td><td>0.46878</td></tr><tr><td>best_epoch</td><td>7</td></tr><tr><td>best_val_loss</td><td>1.787</td></tr><tr><td>epoch</td><td>9</td></tr><tr><td>loss</td><td>1.5006</td></tr><tr><td>val_acc</td><td>0.36236</td></tr><tr><td>val_loss</td><td>1.83458</td></tr></table><br/></div></div>"
            ]
          },
          "metadata": {}
        },
        {
          "output_type": "display_data",
          "data": {
            "text/plain": [
              "<IPython.core.display.HTML object>"
            ],
            "text/html": [
              "Synced <strong style=\"color:#cdcd00\">dauntless-sweep-21</strong>: <a href=\"https://wandb.ai/safi-vamsi-cs6910/assgn2%20trial/runs/3lsaw6y5\" target=\"_blank\">https://wandb.ai/safi-vamsi-cs6910/assgn2%20trial/runs/3lsaw6y5</a><br/>Synced 5 W&B file(s), 1 media file(s), 0 artifact file(s) and 1 other file(s)"
            ]
          },
          "metadata": {}
        },
        {
          "output_type": "display_data",
          "data": {
            "text/plain": [
              "<IPython.core.display.HTML object>"
            ],
            "text/html": [
              "Find logs at: <code>./wandb/run-20220326_205200-3lsaw6y5/logs</code>"
            ]
          },
          "metadata": {}
        },
        {
          "output_type": "stream",
          "name": "stderr",
          "text": [
            "\u001b[34m\u001b[1mwandb\u001b[0m: Agent Starting Run: 1jssrs7r with config:\n",
            "\u001b[34m\u001b[1mwandb\u001b[0m: \tbatch_norm: True\n",
            "\u001b[34m\u001b[1mwandb\u001b[0m: \tbatch_size: 32\n",
            "\u001b[34m\u001b[1mwandb\u001b[0m: \tdata_augmentation: False\n",
            "\u001b[34m\u001b[1mwandb\u001b[0m: \tdense_layer: 512\n",
            "\u001b[34m\u001b[1mwandb\u001b[0m: \tdropout: 0.4\n",
            "\u001b[34m\u001b[1mwandb\u001b[0m: \tfilter_org: 0.5\n",
            "\u001b[34m\u001b[1mwandb\u001b[0m: \tkernel_size: 3\n",
            "\u001b[34m\u001b[1mwandb\u001b[0m: \tlearning_rate: 0.0001\n",
            "\u001b[34m\u001b[1mwandb\u001b[0m: \tnum_epochs: 30\n",
            "\u001b[34m\u001b[1mwandb\u001b[0m: \tnum_filter: 256\n"
          ]
        },
        {
          "output_type": "display_data",
          "data": {
            "text/plain": [
              "<IPython.core.display.HTML object>"
            ],
            "text/html": [
              "Tracking run with wandb version 0.12.11"
            ]
          },
          "metadata": {}
        },
        {
          "output_type": "display_data",
          "data": {
            "text/plain": [
              "<IPython.core.display.HTML object>"
            ],
            "text/html": [
              "Run data is saved locally in <code>/content/wandb/run-20220326_210341-1jssrs7r</code>"
            ]
          },
          "metadata": {}
        },
        {
          "output_type": "display_data",
          "data": {
            "text/plain": [
              "<IPython.core.display.HTML object>"
            ],
            "text/html": [
              "Syncing run <strong><a href=\"https://wandb.ai/safi-vamsi-cs6910/assgn2%20trial/runs/1jssrs7r\" target=\"_blank\">tough-sweep-22</a></strong> to <a href=\"https://wandb.ai/safi-vamsi-cs6910/assgn2%20trial\" target=\"_blank\">Weights & Biases</a> (<a href=\"https://wandb.me/run\" target=\"_blank\">docs</a>)<br/>Sweep page:  <a href=\"https://wandb.ai/safi-vamsi-cs6910/assgn2%20trial/sweeps/b6ej9uqk\" target=\"_blank\">https://wandb.ai/safi-vamsi-cs6910/assgn2%20trial/sweeps/b6ej9uqk</a>"
            ]
          },
          "metadata": {}
        },
        {
          "output_type": "stream",
          "name": "stdout",
          "text": [
            "Model: \"sequential\"\n",
            "_________________________________________________________________\n",
            " Layer (type)                Output Shape              Param #   \n",
            "=================================================================\n",
            " conv2d (Conv2D)             (None, 254, 254, 32)      896       \n",
            "                                                                 \n",
            " batch_normalization (BatchN  (None, 254, 254, 32)     128       \n",
            " ormalization)                                                   \n",
            "                                                                 \n",
            " activation (Activation)     (None, 254, 254, 32)      0         \n",
            "                                                                 \n",
            " max_pooling2d (MaxPooling2D  (None, 127, 127, 32)     0         \n",
            " )                                                               \n",
            "                                                                 \n",
            " conv2d_1 (Conv2D)           (None, 125, 125, 16)      4624      \n",
            "                                                                 \n",
            " batch_normalization_1 (Batc  (None, 125, 125, 16)     64        \n",
            " hNormalization)                                                 \n",
            "                                                                 \n",
            " activation_1 (Activation)   (None, 125, 125, 16)      0         \n",
            "                                                                 \n",
            " max_pooling2d_1 (MaxPooling  (None, 62, 62, 16)       0         \n",
            " 2D)                                                             \n",
            "                                                                 \n",
            " conv2d_2 (Conv2D)           (None, 60, 60, 8)         1160      \n",
            "                                                                 \n",
            " batch_normalization_2 (Batc  (None, 60, 60, 8)        32        \n",
            " hNormalization)                                                 \n",
            "                                                                 \n",
            " activation_2 (Activation)   (None, 60, 60, 8)         0         \n",
            "                                                                 \n",
            " max_pooling2d_2 (MaxPooling  (None, 30, 30, 8)        0         \n",
            " 2D)                                                             \n",
            "                                                                 \n",
            " conv2d_3 (Conv2D)           (None, 28, 28, 4)         292       \n",
            "                                                                 \n",
            " batch_normalization_3 (Batc  (None, 28, 28, 4)        16        \n",
            " hNormalization)                                                 \n",
            "                                                                 \n",
            " activation_3 (Activation)   (None, 28, 28, 4)         0         \n",
            "                                                                 \n",
            " max_pooling2d_3 (MaxPooling  (None, 14, 14, 4)        0         \n",
            " 2D)                                                             \n",
            "                                                                 \n",
            " conv2d_4 (Conv2D)           (None, 12, 12, 2)         74        \n",
            "                                                                 \n",
            " batch_normalization_4 (Batc  (None, 12, 12, 2)        8         \n",
            " hNormalization)                                                 \n",
            "                                                                 \n",
            " activation_4 (Activation)   (None, 12, 12, 2)         0         \n",
            "                                                                 \n",
            " max_pooling2d_4 (MaxPooling  (None, 6, 6, 2)          0         \n",
            " 2D)                                                             \n",
            "                                                                 \n",
            " flatten (Flatten)           (None, 72)                0         \n",
            "                                                                 \n",
            " dense (Dense)               (None, 512)               37376     \n",
            "                                                                 \n",
            " dropout (Dropout)           (None, 512)               0         \n",
            "                                                                 \n",
            " dense_1 (Dense)             (None, 10)                5130      \n",
            "                                                                 \n",
            "=================================================================\n",
            "Total params: 49,800\n",
            "Trainable params: 49,676\n",
            "Non-trainable params: 124\n",
            "_________________________________________________________________\n",
            "Found 9999 files belonging to 10 classes.\n",
            "Using 9000 files for training.\n",
            "Found 9999 files belonging to 10 classes.\n",
            "Using 999 files for validation.\n",
            "Epoch 1/10\n",
            "282/282 [==============================] - 61s 208ms/step - loss: 2.3692 - acc: 0.1188 - val_loss: 2.2450 - val_acc: 0.1562 - _timestamp: 1648328691.0000 - _runtime: 70.0000\n",
            "Epoch 2/10\n",
            "282/282 [==============================] - 60s 208ms/step - loss: 2.2378 - acc: 0.1687 - val_loss: 2.2016 - val_acc: 0.1972 - _timestamp: 1648328751.0000 - _runtime: 130.0000\n",
            "Epoch 3/10\n",
            "282/282 [==============================] - 60s 207ms/step - loss: 2.1812 - acc: 0.1918 - val_loss: 2.1560 - val_acc: 0.2242 - _timestamp: 1648328833.0000 - _runtime: 212.0000\n",
            "Epoch 4/10\n",
            "282/282 [==============================] - 60s 208ms/step - loss: 2.1461 - acc: 0.2141 - val_loss: 2.1371 - val_acc: 0.2302 - _timestamp: 1648328915.0000 - _runtime: 294.0000\n",
            "Epoch 5/10\n",
            "282/282 [==============================] - 60s 208ms/step - loss: 2.1191 - acc: 0.2237 - val_loss: 2.1219 - val_acc: 0.2442 - _timestamp: 1648328975.0000 - _runtime: 354.0000\n",
            "Epoch 6/10\n",
            "282/282 [==============================] - 60s 208ms/step - loss: 2.1028 - acc: 0.2306 - val_loss: 2.1046 - val_acc: 0.2402 - _timestamp: 1648329035.0000 - _runtime: 414.0000\n",
            "Epoch 7/10\n",
            "282/282 [==============================] - 60s 207ms/step - loss: 2.0840 - acc: 0.2390 - val_loss: 2.0944 - val_acc: 0.2362 - _timestamp: 1648329117.0000 - _runtime: 496.0000\n",
            "Epoch 8/10\n",
            "282/282 [==============================] - 60s 207ms/step - loss: 2.0677 - acc: 0.2518 - val_loss: 2.0860 - val_acc: 0.2372 - _timestamp: 1648329177.0000 - _runtime: 556.0000\n",
            "Epoch 9/10\n",
            "282/282 [==============================] - 60s 207ms/step - loss: 2.0532 - acc: 0.2577 - val_loss: 2.0728 - val_acc: 0.2573 - _timestamp: 1648329236.0000 - _runtime: 615.0000\n",
            "Epoch 10/10\n",
            "282/282 [==============================] - 60s 208ms/step - loss: 2.0424 - acc: 0.2658 - val_loss: 2.0986 - val_acc: 0.2372 - _timestamp: 1648329319.0000 - _runtime: 698.0000\n",
            "\n"
          ]
        },
        {
          "output_type": "display_data",
          "data": {
            "text/plain": [
              "<IPython.core.display.HTML object>"
            ],
            "text/html": [
              "Waiting for W&B process to finish... <strong style=\"color:green\">(success).</strong>"
            ]
          },
          "metadata": {}
        },
        {
          "output_type": "display_data",
          "data": {
            "text/plain": [
              "VBox(children=(Label(value='0.694 MB of 0.694 MB uploaded (0.000 MB deduped)\\r'), FloatProgress(value=1.0, max…"
            ],
            "application/vnd.jupyter.widget-view+json": {
              "version_major": 2,
              "version_minor": 0,
              "model_id": "346c30a6905b412bba86802ef119c344"
            }
          },
          "metadata": {}
        },
        {
          "output_type": "display_data",
          "data": {
            "text/plain": [
              "<IPython.core.display.HTML object>"
            ],
            "text/html": [
              "<style>\n",
              "    table.wandb td:nth-child(1) { padding: 0 10px; text-align: right }\n",
              "    .wandb-row { display: flex; flex-direction: row; flex-wrap: wrap; width: 100% }\n",
              "    .wandb-col { display: flex; flex-direction: column; flex-basis: 100%; flex: 1; padding: 10px; }\n",
              "    </style>\n",
              "<div class=\"wandb-row\"><div class=\"wandb-col\"><h3>Run history:</h3><br/><table class=\"wandb\"><tr><td>acc</td><td>▁▃▄▆▆▆▇▇██</td></tr><tr><td>epoch</td><td>▁▂▃▃▄▅▆▆▇█</td></tr><tr><td>loss</td><td>█▅▄▃▃▂▂▂▁▁</td></tr><tr><td>val_acc</td><td>▁▄▆▆▇▇▇▇█▇</td></tr><tr><td>val_loss</td><td>█▆▄▄▃▂▂▂▁▂</td></tr></table><br/></div><div class=\"wandb-col\"><h3>Run summary:</h3><br/><table class=\"wandb\"><tr><td>acc</td><td>0.26578</td></tr><tr><td>best_epoch</td><td>8</td></tr><tr><td>best_val_loss</td><td>2.07281</td></tr><tr><td>epoch</td><td>9</td></tr><tr><td>loss</td><td>2.04236</td></tr><tr><td>val_acc</td><td>0.23724</td></tr><tr><td>val_loss</td><td>2.09858</td></tr></table><br/></div></div>"
            ]
          },
          "metadata": {}
        },
        {
          "output_type": "display_data",
          "data": {
            "text/plain": [
              "<IPython.core.display.HTML object>"
            ],
            "text/html": [
              "Synced <strong style=\"color:#cdcd00\">tough-sweep-22</strong>: <a href=\"https://wandb.ai/safi-vamsi-cs6910/assgn2%20trial/runs/1jssrs7r\" target=\"_blank\">https://wandb.ai/safi-vamsi-cs6910/assgn2%20trial/runs/1jssrs7r</a><br/>Synced 5 W&B file(s), 1 media file(s), 0 artifact file(s) and 1 other file(s)"
            ]
          },
          "metadata": {}
        },
        {
          "output_type": "display_data",
          "data": {
            "text/plain": [
              "<IPython.core.display.HTML object>"
            ],
            "text/html": [
              "Find logs at: <code>./wandb/run-20220326_210341-1jssrs7r/logs</code>"
            ]
          },
          "metadata": {}
        },
        {
          "output_type": "stream",
          "name": "stderr",
          "text": [
            "\u001b[34m\u001b[1mwandb\u001b[0m: Agent Starting Run: uih95v3t with config:\n",
            "\u001b[34m\u001b[1mwandb\u001b[0m: \tbatch_norm: True\n",
            "\u001b[34m\u001b[1mwandb\u001b[0m: \tbatch_size: 64\n",
            "\u001b[34m\u001b[1mwandb\u001b[0m: \tdata_augmentation: False\n",
            "\u001b[34m\u001b[1mwandb\u001b[0m: \tdense_layer: 128\n",
            "\u001b[34m\u001b[1mwandb\u001b[0m: \tdropout: 0.4\n",
            "\u001b[34m\u001b[1mwandb\u001b[0m: \tfilter_org: 1\n",
            "\u001b[34m\u001b[1mwandb\u001b[0m: \tkernel_size: 5\n",
            "\u001b[34m\u001b[1mwandb\u001b[0m: \tlearning_rate: 0.001\n",
            "\u001b[34m\u001b[1mwandb\u001b[0m: \tnum_epochs: 10\n",
            "\u001b[34m\u001b[1mwandb\u001b[0m: \tnum_filter: 256\n"
          ]
        },
        {
          "output_type": "display_data",
          "data": {
            "text/plain": [
              "<IPython.core.display.HTML object>"
            ],
            "text/html": [
              "Tracking run with wandb version 0.12.11"
            ]
          },
          "metadata": {}
        },
        {
          "output_type": "display_data",
          "data": {
            "text/plain": [
              "<IPython.core.display.HTML object>"
            ],
            "text/html": [
              "Run data is saved locally in <code>/content/wandb/run-20220326_211531-uih95v3t</code>"
            ]
          },
          "metadata": {}
        },
        {
          "output_type": "display_data",
          "data": {
            "text/plain": [
              "<IPython.core.display.HTML object>"
            ],
            "text/html": [
              "Syncing run <strong><a href=\"https://wandb.ai/safi-vamsi-cs6910/assgn2%20trial/runs/uih95v3t\" target=\"_blank\">logical-sweep-23</a></strong> to <a href=\"https://wandb.ai/safi-vamsi-cs6910/assgn2%20trial\" target=\"_blank\">Weights & Biases</a> (<a href=\"https://wandb.me/run\" target=\"_blank\">docs</a>)<br/>Sweep page:  <a href=\"https://wandb.ai/safi-vamsi-cs6910/assgn2%20trial/sweeps/b6ej9uqk\" target=\"_blank\">https://wandb.ai/safi-vamsi-cs6910/assgn2%20trial/sweeps/b6ej9uqk</a>"
            ]
          },
          "metadata": {}
        },
        {
          "output_type": "stream",
          "name": "stdout",
          "text": [
            "Model: \"sequential\"\n",
            "_________________________________________________________________\n",
            " Layer (type)                Output Shape              Param #   \n",
            "=================================================================\n",
            " conv2d (Conv2D)             (None, 252, 252, 32)      2432      \n",
            "                                                                 \n",
            " batch_normalization (BatchN  (None, 252, 252, 32)     128       \n",
            " ormalization)                                                   \n",
            "                                                                 \n",
            " activation (Activation)     (None, 252, 252, 32)      0         \n",
            "                                                                 \n",
            " max_pooling2d (MaxPooling2D  (None, 126, 126, 32)     0         \n",
            " )                                                               \n",
            "                                                                 \n",
            " conv2d_1 (Conv2D)           (None, 122, 122, 32)      25632     \n",
            "                                                                 \n",
            " batch_normalization_1 (Batc  (None, 122, 122, 32)     128       \n",
            " hNormalization)                                                 \n",
            "                                                                 \n",
            " activation_1 (Activation)   (None, 122, 122, 32)      0         \n",
            "                                                                 \n",
            " max_pooling2d_1 (MaxPooling  (None, 61, 61, 32)       0         \n",
            " 2D)                                                             \n",
            "                                                                 \n",
            " conv2d_2 (Conv2D)           (None, 57, 57, 32)        25632     \n",
            "                                                                 \n",
            " batch_normalization_2 (Batc  (None, 57, 57, 32)       128       \n",
            " hNormalization)                                                 \n",
            "                                                                 \n",
            " activation_2 (Activation)   (None, 57, 57, 32)        0         \n",
            "                                                                 \n",
            " max_pooling2d_2 (MaxPooling  (None, 28, 28, 32)       0         \n",
            " 2D)                                                             \n",
            "                                                                 \n",
            " conv2d_3 (Conv2D)           (None, 24, 24, 32)        25632     \n",
            "                                                                 \n",
            " batch_normalization_3 (Batc  (None, 24, 24, 32)       128       \n",
            " hNormalization)                                                 \n",
            "                                                                 \n",
            " activation_3 (Activation)   (None, 24, 24, 32)        0         \n",
            "                                                                 \n",
            " max_pooling2d_3 (MaxPooling  (None, 12, 12, 32)       0         \n",
            " 2D)                                                             \n",
            "                                                                 \n",
            " conv2d_4 (Conv2D)           (None, 8, 8, 32)          25632     \n",
            "                                                                 \n",
            " batch_normalization_4 (Batc  (None, 8, 8, 32)         128       \n",
            " hNormalization)                                                 \n",
            "                                                                 \n",
            " activation_4 (Activation)   (None, 8, 8, 32)          0         \n",
            "                                                                 \n",
            " max_pooling2d_4 (MaxPooling  (None, 4, 4, 32)         0         \n",
            " 2D)                                                             \n",
            "                                                                 \n",
            " flatten (Flatten)           (None, 512)               0         \n",
            "                                                                 \n",
            " dense (Dense)               (None, 128)               65664     \n",
            "                                                                 \n",
            " dropout (Dropout)           (None, 128)               0         \n",
            "                                                                 \n",
            " dense_1 (Dense)             (None, 10)                1290      \n",
            "                                                                 \n",
            "=================================================================\n",
            "Total params: 172,554\n",
            "Trainable params: 172,234\n",
            "Non-trainable params: 320\n",
            "_________________________________________________________________\n",
            "Found 9999 files belonging to 10 classes.\n",
            "Using 9000 files for training.\n",
            "Found 9999 files belonging to 10 classes.\n",
            "Using 999 files for validation.\n",
            "Epoch 1/10\n",
            "282/282 [==============================] - 62s 211ms/step - loss: 2.3614 - acc: 0.1709 - val_loss: 2.1814 - val_acc: 0.2072 - _timestamp: 1648329402.0000 - _runtime: 71.0000\n",
            "Epoch 2/10\n",
            "282/282 [==============================] - 61s 211ms/step - loss: 2.1295 - acc: 0.2329 - val_loss: 2.0978 - val_acc: 0.2412 - _timestamp: 1648329483.0000 - _runtime: 152.0000\n",
            "Epoch 3/10\n",
            "282/282 [==============================] - 61s 211ms/step - loss: 2.0583 - acc: 0.2636 - val_loss: 2.0738 - val_acc: 0.2773 - _timestamp: 1648329565.0000 - _runtime: 234.0000\n",
            "Epoch 4/10\n",
            "282/282 [==============================] - 61s 211ms/step - loss: 2.0046 - acc: 0.2861 - val_loss: 2.0802 - val_acc: 0.2563 - _timestamp: 1648329647.0000 - _runtime: 316.0000\n",
            "Epoch 5/10\n",
            "282/282 [==============================] - 61s 210ms/step - loss: 1.9663 - acc: 0.3041 - val_loss: 2.0745 - val_acc: 0.2583 - _timestamp: 1648329729.0000 - _runtime: 398.0000\n",
            "Epoch 6/10\n",
            "282/282 [==============================] - 60s 210ms/step - loss: 1.9290 - acc: 0.3206 - val_loss: 2.0486 - val_acc: 0.2923 - _timestamp: 1648329810.0000 - _runtime: 479.0000\n",
            "Epoch 7/10\n",
            "282/282 [==============================] - 61s 211ms/step - loss: 1.8887 - acc: 0.3379 - val_loss: 2.0053 - val_acc: 0.3173 - _timestamp: 1648329893.0000 - _runtime: 562.0000\n",
            "Epoch 8/10\n",
            "282/282 [==============================] - 61s 211ms/step - loss: 1.8476 - acc: 0.3498 - val_loss: 2.1637 - val_acc: 0.2663 - _timestamp: 1648329975.0000 - _runtime: 644.0000\n",
            "Epoch 9/10\n",
            "282/282 [==============================] - 61s 210ms/step - loss: 1.8102 - acc: 0.3601 - val_loss: 2.0465 - val_acc: 0.3123 - _timestamp: 1648330056.0000 - _runtime: 725.0000\n",
            "Epoch 10/10\n",
            "282/282 [==============================] - 61s 210ms/step - loss: 1.7688 - acc: 0.3810 - val_loss: 2.0477 - val_acc: 0.2903 - _timestamp: 1648330138.0000 - _runtime: 807.0000\n",
            "\n"
          ]
        },
        {
          "output_type": "display_data",
          "data": {
            "text/plain": [
              "<IPython.core.display.HTML object>"
            ],
            "text/html": [
              "Waiting for W&B process to finish... <strong style=\"color:green\">(success).</strong>"
            ]
          },
          "metadata": {}
        },
        {
          "output_type": "display_data",
          "data": {
            "text/plain": [
              "VBox(children=(Label(value='2.096 MB of 2.096 MB uploaded (0.000 MB deduped)\\r'), FloatProgress(value=1.0, max…"
            ],
            "application/vnd.jupyter.widget-view+json": {
              "version_major": 2,
              "version_minor": 0,
              "model_id": "35c05ae92a7348bf9b7c175701406521"
            }
          },
          "metadata": {}
        },
        {
          "output_type": "display_data",
          "data": {
            "text/plain": [
              "<IPython.core.display.HTML object>"
            ],
            "text/html": [
              "<style>\n",
              "    table.wandb td:nth-child(1) { padding: 0 10px; text-align: right }\n",
              "    .wandb-row { display: flex; flex-direction: row; flex-wrap: wrap; width: 100% }\n",
              "    .wandb-col { display: flex; flex-direction: column; flex-basis: 100%; flex: 1; padding: 10px; }\n",
              "    </style>\n",
              "<div class=\"wandb-row\"><div class=\"wandb-col\"><h3>Run history:</h3><br/><table class=\"wandb\"><tr><td>acc</td><td>▁▃▄▅▅▆▇▇▇█</td></tr><tr><td>epoch</td><td>▁▂▃▃▄▅▆▆▇█</td></tr><tr><td>loss</td><td>█▅▄▄▃▃▂▂▁▁</td></tr><tr><td>val_acc</td><td>▁▃▅▄▄▆█▅█▆</td></tr><tr><td>val_loss</td><td>█▅▄▄▄▃▁▇▃▃</td></tr></table><br/></div><div class=\"wandb-col\"><h3>Run summary:</h3><br/><table class=\"wandb\"><tr><td>acc</td><td>0.381</td></tr><tr><td>best_epoch</td><td>6</td></tr><tr><td>best_val_loss</td><td>2.0053</td></tr><tr><td>epoch</td><td>9</td></tr><tr><td>loss</td><td>1.76884</td></tr><tr><td>val_acc</td><td>0.29029</td></tr><tr><td>val_loss</td><td>2.04767</td></tr></table><br/></div></div>"
            ]
          },
          "metadata": {}
        },
        {
          "output_type": "display_data",
          "data": {
            "text/plain": [
              "<IPython.core.display.HTML object>"
            ],
            "text/html": [
              "Synced <strong style=\"color:#cdcd00\">logical-sweep-23</strong>: <a href=\"https://wandb.ai/safi-vamsi-cs6910/assgn2%20trial/runs/uih95v3t\" target=\"_blank\">https://wandb.ai/safi-vamsi-cs6910/assgn2%20trial/runs/uih95v3t</a><br/>Synced 5 W&B file(s), 1 media file(s), 0 artifact file(s) and 1 other file(s)"
            ]
          },
          "metadata": {}
        },
        {
          "output_type": "display_data",
          "data": {
            "text/plain": [
              "<IPython.core.display.HTML object>"
            ],
            "text/html": [
              "Find logs at: <code>./wandb/run-20220326_211531-uih95v3t/logs</code>"
            ]
          },
          "metadata": {}
        },
        {
          "output_type": "stream",
          "name": "stderr",
          "text": [
            "\u001b[34m\u001b[1mwandb\u001b[0m: Agent Starting Run: uxigp71a with config:\n",
            "\u001b[34m\u001b[1mwandb\u001b[0m: \tbatch_norm: True\n",
            "\u001b[34m\u001b[1mwandb\u001b[0m: \tbatch_size: 32\n",
            "\u001b[34m\u001b[1mwandb\u001b[0m: \tdata_augmentation: False\n",
            "\u001b[34m\u001b[1mwandb\u001b[0m: \tdense_layer: 512\n",
            "\u001b[34m\u001b[1mwandb\u001b[0m: \tdropout: 0.4\n",
            "\u001b[34m\u001b[1mwandb\u001b[0m: \tfilter_org: 0.5\n",
            "\u001b[34m\u001b[1mwandb\u001b[0m: \tkernel_size: 7\n",
            "\u001b[34m\u001b[1mwandb\u001b[0m: \tlearning_rate: 0.001\n",
            "\u001b[34m\u001b[1mwandb\u001b[0m: \tnum_epochs: 10\n",
            "\u001b[34m\u001b[1mwandb\u001b[0m: \tnum_filter: 64\n"
          ]
        },
        {
          "output_type": "display_data",
          "data": {
            "text/plain": [
              "<IPython.core.display.HTML object>"
            ],
            "text/html": [
              "Tracking run with wandb version 0.12.11"
            ]
          },
          "metadata": {}
        },
        {
          "output_type": "display_data",
          "data": {
            "text/plain": [
              "<IPython.core.display.HTML object>"
            ],
            "text/html": [
              "Run data is saved locally in <code>/content/wandb/run-20220326_212933-uxigp71a</code>"
            ]
          },
          "metadata": {}
        },
        {
          "output_type": "display_data",
          "data": {
            "text/plain": [
              "<IPython.core.display.HTML object>"
            ],
            "text/html": [
              "Syncing run <strong><a href=\"https://wandb.ai/safi-vamsi-cs6910/assgn2%20trial/runs/uxigp71a\" target=\"_blank\">major-sweep-24</a></strong> to <a href=\"https://wandb.ai/safi-vamsi-cs6910/assgn2%20trial\" target=\"_blank\">Weights & Biases</a> (<a href=\"https://wandb.me/run\" target=\"_blank\">docs</a>)<br/>Sweep page:  <a href=\"https://wandb.ai/safi-vamsi-cs6910/assgn2%20trial/sweeps/b6ej9uqk\" target=\"_blank\">https://wandb.ai/safi-vamsi-cs6910/assgn2%20trial/sweeps/b6ej9uqk</a>"
            ]
          },
          "metadata": {}
        },
        {
          "output_type": "stream",
          "name": "stdout",
          "text": [
            "Model: \"sequential\"\n",
            "_________________________________________________________________\n",
            " Layer (type)                Output Shape              Param #   \n",
            "=================================================================\n",
            " conv2d (Conv2D)             (None, 250, 250, 32)      4736      \n",
            "                                                                 \n",
            " batch_normalization (BatchN  (None, 250, 250, 32)     128       \n",
            " ormalization)                                                   \n",
            "                                                                 \n",
            " activation (Activation)     (None, 250, 250, 32)      0         \n",
            "                                                                 \n",
            " max_pooling2d (MaxPooling2D  (None, 125, 125, 32)     0         \n",
            " )                                                               \n",
            "                                                                 \n",
            " conv2d_1 (Conv2D)           (None, 119, 119, 16)      25104     \n",
            "                                                                 \n",
            " batch_normalization_1 (Batc  (None, 119, 119, 16)     64        \n",
            " hNormalization)                                                 \n",
            "                                                                 \n",
            " activation_1 (Activation)   (None, 119, 119, 16)      0         \n",
            "                                                                 \n",
            " max_pooling2d_1 (MaxPooling  (None, 59, 59, 16)       0         \n",
            " 2D)                                                             \n",
            "                                                                 \n",
            " conv2d_2 (Conv2D)           (None, 53, 53, 8)         6280      \n",
            "                                                                 \n",
            " batch_normalization_2 (Batc  (None, 53, 53, 8)        32        \n",
            " hNormalization)                                                 \n",
            "                                                                 \n",
            " activation_2 (Activation)   (None, 53, 53, 8)         0         \n",
            "                                                                 \n",
            " max_pooling2d_2 (MaxPooling  (None, 26, 26, 8)        0         \n",
            " 2D)                                                             \n",
            "                                                                 \n",
            " conv2d_3 (Conv2D)           (None, 20, 20, 4)         1572      \n",
            "                                                                 \n",
            " batch_normalization_3 (Batc  (None, 20, 20, 4)        16        \n",
            " hNormalization)                                                 \n",
            "                                                                 \n",
            " activation_3 (Activation)   (None, 20, 20, 4)         0         \n",
            "                                                                 \n",
            " max_pooling2d_3 (MaxPooling  (None, 10, 10, 4)        0         \n",
            " 2D)                                                             \n",
            "                                                                 \n",
            " conv2d_4 (Conv2D)           (None, 4, 4, 2)           394       \n",
            "                                                                 \n",
            " batch_normalization_4 (Batc  (None, 4, 4, 2)          8         \n",
            " hNormalization)                                                 \n",
            "                                                                 \n",
            " activation_4 (Activation)   (None, 4, 4, 2)           0         \n",
            "                                                                 \n",
            " max_pooling2d_4 (MaxPooling  (None, 2, 2, 2)          0         \n",
            " 2D)                                                             \n",
            "                                                                 \n",
            " flatten (Flatten)           (None, 8)                 0         \n",
            "                                                                 \n",
            " dense (Dense)               (None, 512)               4608      \n",
            "                                                                 \n",
            " dropout (Dropout)           (None, 512)               0         \n",
            "                                                                 \n",
            " dense_1 (Dense)             (None, 10)                5130      \n",
            "                                                                 \n",
            "=================================================================\n",
            "Total params: 48,072\n",
            "Trainable params: 47,948\n",
            "Non-trainable params: 124\n",
            "_________________________________________________________________\n",
            "Found 9999 files belonging to 10 classes.\n",
            "Using 9000 files for training.\n",
            "Found 9999 files belonging to 10 classes.\n",
            "Using 999 files for validation.\n",
            "Epoch 1/10\n",
            "282/282 [==============================] - 62s 211ms/step - loss: 2.2928 - acc: 0.1241 - val_loss: 2.2490 - val_acc: 0.1552 - _timestamp: 1648330244.0000 - _runtime: 71.0000\n",
            "Epoch 2/10\n",
            "282/282 [==============================] - 61s 211ms/step - loss: 2.2348 - acc: 0.1570 - val_loss: 2.2118 - val_acc: 0.2042 - _timestamp: 1648330326.0000 - _runtime: 153.0000\n",
            "Epoch 3/10\n",
            "282/282 [==============================] - 61s 210ms/step - loss: 2.1983 - acc: 0.1831 - val_loss: 2.1934 - val_acc: 0.1892 - _timestamp: 1648330407.0000 - _runtime: 234.0000\n",
            "Epoch 4/10\n",
            "282/282 [==============================] - 60s 209ms/step - loss: 2.1646 - acc: 0.1974 - val_loss: 2.2294 - val_acc: 0.1672 - _timestamp: 1648330489.0000 - _runtime: 316.0000\n",
            "Epoch 5/10\n",
            "282/282 [==============================] - 61s 210ms/step - loss: 2.1311 - acc: 0.2213 - val_loss: 2.1925 - val_acc: 0.1932 - _timestamp: 1648330571.0000 - _runtime: 398.0000\n",
            "Epoch 6/10\n",
            "282/282 [==============================] - 60s 209ms/step - loss: 2.1059 - acc: 0.2281 - val_loss: 2.1501 - val_acc: 0.2272 - _timestamp: 1648330632.0000 - _runtime: 459.0000\n",
            "Epoch 7/10\n",
            "282/282 [==============================] - 61s 211ms/step - loss: 2.0894 - acc: 0.2350 - val_loss: 2.1297 - val_acc: 0.2392 - _timestamp: 1648330714.0000 - _runtime: 541.0000\n",
            "Epoch 8/10\n",
            "282/282 [==============================] - 61s 210ms/step - loss: 2.0665 - acc: 0.2383 - val_loss: 2.1603 - val_acc: 0.1902 - _timestamp: 1648330774.0000 - _runtime: 601.0000\n",
            "Epoch 9/10\n",
            "282/282 [==============================] - 61s 210ms/step - loss: 2.0556 - acc: 0.2443 - val_loss: 2.1907 - val_acc: 0.1952 - _timestamp: 1648330835.0000 - _runtime: 662.0000\n",
            "Epoch 10/10\n",
            "282/282 [==============================] - 60s 210ms/step - loss: 2.0432 - acc: 0.2473 - val_loss: 2.1348 - val_acc: 0.2092 - _timestamp: 1648330896.0000 - _runtime: 723.0000\n",
            "\n"
          ]
        },
        {
          "output_type": "display_data",
          "data": {
            "text/plain": [
              "<IPython.core.display.HTML object>"
            ],
            "text/html": [
              "Waiting for W&B process to finish... <strong style=\"color:green\">(success).</strong>"
            ]
          },
          "metadata": {}
        },
        {
          "output_type": "display_data",
          "data": {
            "text/plain": [
              "VBox(children=(Label(value='0.674 MB of 0.674 MB uploaded (0.000 MB deduped)\\r'), FloatProgress(value=1.0, max…"
            ],
            "application/vnd.jupyter.widget-view+json": {
              "version_major": 2,
              "version_minor": 0,
              "model_id": "9602f86252444cdfb7230fb81edff303"
            }
          },
          "metadata": {}
        },
        {
          "output_type": "display_data",
          "data": {
            "text/plain": [
              "<IPython.core.display.HTML object>"
            ],
            "text/html": [
              "<style>\n",
              "    table.wandb td:nth-child(1) { padding: 0 10px; text-align: right }\n",
              "    .wandb-row { display: flex; flex-direction: row; flex-wrap: wrap; width: 100% }\n",
              "    .wandb-col { display: flex; flex-direction: column; flex-basis: 100%; flex: 1; padding: 10px; }\n",
              "    </style>\n",
              "<div class=\"wandb-row\"><div class=\"wandb-col\"><h3>Run history:</h3><br/><table class=\"wandb\"><tr><td>acc</td><td>▁▃▄▅▇▇▇▇██</td></tr><tr><td>epoch</td><td>▁▂▃▃▄▅▆▆▇█</td></tr><tr><td>loss</td><td>█▆▅▄▃▃▂▂▁▁</td></tr><tr><td>val_acc</td><td>▁▅▄▂▄▇█▄▄▅</td></tr><tr><td>val_loss</td><td>█▆▅▇▅▂▁▃▅▁</td></tr></table><br/></div><div class=\"wandb-col\"><h3>Run summary:</h3><br/><table class=\"wandb\"><tr><td>acc</td><td>0.24733</td></tr><tr><td>best_epoch</td><td>6</td></tr><tr><td>best_val_loss</td><td>2.12973</td></tr><tr><td>epoch</td><td>9</td></tr><tr><td>loss</td><td>2.04316</td></tr><tr><td>val_acc</td><td>0.20921</td></tr><tr><td>val_loss</td><td>2.13479</td></tr></table><br/></div></div>"
            ]
          },
          "metadata": {}
        },
        {
          "output_type": "display_data",
          "data": {
            "text/plain": [
              "<IPython.core.display.HTML object>"
            ],
            "text/html": [
              "Synced <strong style=\"color:#cdcd00\">major-sweep-24</strong>: <a href=\"https://wandb.ai/safi-vamsi-cs6910/assgn2%20trial/runs/uxigp71a\" target=\"_blank\">https://wandb.ai/safi-vamsi-cs6910/assgn2%20trial/runs/uxigp71a</a><br/>Synced 5 W&B file(s), 1 media file(s), 0 artifact file(s) and 1 other file(s)"
            ]
          },
          "metadata": {}
        },
        {
          "output_type": "display_data",
          "data": {
            "text/plain": [
              "<IPython.core.display.HTML object>"
            ],
            "text/html": [
              "Find logs at: <code>./wandb/run-20220326_212933-uxigp71a/logs</code>"
            ]
          },
          "metadata": {}
        },
        {
          "output_type": "stream",
          "name": "stderr",
          "text": [
            "\u001b[34m\u001b[1mwandb\u001b[0m: Sweep Agent: Waiting for job.\n",
            "\u001b[34m\u001b[1mwandb\u001b[0m: Job received.\n",
            "\u001b[34m\u001b[1mwandb\u001b[0m: Agent Starting Run: 2bqodbde with config:\n",
            "\u001b[34m\u001b[1mwandb\u001b[0m: \tbatch_norm: True\n",
            "\u001b[34m\u001b[1mwandb\u001b[0m: \tbatch_size: 32\n",
            "\u001b[34m\u001b[1mwandb\u001b[0m: \tdata_augmentation: False\n",
            "\u001b[34m\u001b[1mwandb\u001b[0m: \tdense_layer: 512\n",
            "\u001b[34m\u001b[1mwandb\u001b[0m: \tdropout: 0.4\n",
            "\u001b[34m\u001b[1mwandb\u001b[0m: \tfilter_org: 1\n",
            "\u001b[34m\u001b[1mwandb\u001b[0m: \tkernel_size: 5\n",
            "\u001b[34m\u001b[1mwandb\u001b[0m: \tlearning_rate: 0.0001\n",
            "\u001b[34m\u001b[1mwandb\u001b[0m: \tnum_epochs: 20\n",
            "\u001b[34m\u001b[1mwandb\u001b[0m: \tnum_filter: 256\n"
          ]
        },
        {
          "output_type": "display_data",
          "data": {
            "text/plain": [
              "<IPython.core.display.HTML object>"
            ],
            "text/html": [
              "Tracking run with wandb version 0.12.11"
            ]
          },
          "metadata": {}
        },
        {
          "output_type": "display_data",
          "data": {
            "text/plain": [
              "<IPython.core.display.HTML object>"
            ],
            "text/html": [
              "Run data is saved locally in <code>/content/wandb/run-20220326_214154-2bqodbde</code>"
            ]
          },
          "metadata": {}
        },
        {
          "output_type": "display_data",
          "data": {
            "text/plain": [
              "<IPython.core.display.HTML object>"
            ],
            "text/html": [
              "Syncing run <strong><a href=\"https://wandb.ai/safi-vamsi-cs6910/assgn2%20trial/runs/2bqodbde\" target=\"_blank\">fast-sweep-25</a></strong> to <a href=\"https://wandb.ai/safi-vamsi-cs6910/assgn2%20trial\" target=\"_blank\">Weights & Biases</a> (<a href=\"https://wandb.me/run\" target=\"_blank\">docs</a>)<br/>Sweep page:  <a href=\"https://wandb.ai/safi-vamsi-cs6910/assgn2%20trial/sweeps/b6ej9uqk\" target=\"_blank\">https://wandb.ai/safi-vamsi-cs6910/assgn2%20trial/sweeps/b6ej9uqk</a>"
            ]
          },
          "metadata": {}
        },
        {
          "output_type": "stream",
          "name": "stdout",
          "text": [
            "Model: \"sequential\"\n",
            "_________________________________________________________________\n",
            " Layer (type)                Output Shape              Param #   \n",
            "=================================================================\n",
            " conv2d (Conv2D)             (None, 252, 252, 32)      2432      \n",
            "                                                                 \n",
            " batch_normalization (BatchN  (None, 252, 252, 32)     128       \n",
            " ormalization)                                                   \n",
            "                                                                 \n",
            " activation (Activation)     (None, 252, 252, 32)      0         \n",
            "                                                                 \n",
            " max_pooling2d (MaxPooling2D  (None, 126, 126, 32)     0         \n",
            " )                                                               \n",
            "                                                                 \n",
            " conv2d_1 (Conv2D)           (None, 122, 122, 32)      25632     \n",
            "                                                                 \n",
            " batch_normalization_1 (Batc  (None, 122, 122, 32)     128       \n",
            " hNormalization)                                                 \n",
            "                                                                 \n",
            " activation_1 (Activation)   (None, 122, 122, 32)      0         \n",
            "                                                                 \n",
            " max_pooling2d_1 (MaxPooling  (None, 61, 61, 32)       0         \n",
            " 2D)                                                             \n",
            "                                                                 \n",
            " conv2d_2 (Conv2D)           (None, 57, 57, 32)        25632     \n",
            "                                                                 \n",
            " batch_normalization_2 (Batc  (None, 57, 57, 32)       128       \n",
            " hNormalization)                                                 \n",
            "                                                                 \n",
            " activation_2 (Activation)   (None, 57, 57, 32)        0         \n",
            "                                                                 \n",
            " max_pooling2d_2 (MaxPooling  (None, 28, 28, 32)       0         \n",
            " 2D)                                                             \n",
            "                                                                 \n",
            " conv2d_3 (Conv2D)           (None, 24, 24, 32)        25632     \n",
            "                                                                 \n",
            " batch_normalization_3 (Batc  (None, 24, 24, 32)       128       \n",
            " hNormalization)                                                 \n",
            "                                                                 \n",
            " activation_3 (Activation)   (None, 24, 24, 32)        0         \n",
            "                                                                 \n",
            " max_pooling2d_3 (MaxPooling  (None, 12, 12, 32)       0         \n",
            " 2D)                                                             \n",
            "                                                                 \n",
            " conv2d_4 (Conv2D)           (None, 8, 8, 32)          25632     \n",
            "                                                                 \n",
            " batch_normalization_4 (Batc  (None, 8, 8, 32)         128       \n",
            " hNormalization)                                                 \n",
            "                                                                 \n",
            " activation_4 (Activation)   (None, 8, 8, 32)          0         \n",
            "                                                                 \n",
            " max_pooling2d_4 (MaxPooling  (None, 4, 4, 32)         0         \n",
            " 2D)                                                             \n",
            "                                                                 \n",
            " flatten (Flatten)           (None, 512)               0         \n",
            "                                                                 \n",
            " dense (Dense)               (None, 512)               262656    \n",
            "                                                                 \n",
            " dropout (Dropout)           (None, 512)               0         \n",
            "                                                                 \n",
            " dense_1 (Dense)             (None, 10)                5130      \n",
            "                                                                 \n",
            "=================================================================\n",
            "Total params: 373,386\n",
            "Trainable params: 373,066\n",
            "Non-trainable params: 320\n",
            "_________________________________________________________________\n",
            "Found 9999 files belonging to 10 classes.\n",
            "Using 9000 files for training.\n",
            "Found 9999 files belonging to 10 classes.\n",
            "Using 999 files for validation.\n",
            "Epoch 1/10\n",
            "282/282 [==============================] - 62s 209ms/step - loss: 2.3184 - acc: 0.1909 - val_loss: 2.0932 - val_acc: 0.2472 - _timestamp: 1648330985.0000 - _runtime: 71.0000\n",
            "Epoch 2/10\n",
            "282/282 [==============================] - 60s 209ms/step - loss: 2.0705 - acc: 0.2640 - val_loss: 2.0240 - val_acc: 0.2763 - _timestamp: 1648331066.0000 - _runtime: 152.0000\n",
            "Epoch 3/10\n",
            "282/282 [==============================] - 61s 213ms/step - loss: 1.9783 - acc: 0.3089 - val_loss: 1.9718 - val_acc: 0.3053 - _timestamp: 1648331127.0000 - _runtime: 213.0000\n",
            "Epoch 4/10\n",
            "282/282 [==============================] - 61s 212ms/step - loss: 1.9196 - acc: 0.3253 - val_loss: 1.9717 - val_acc: 0.3033 - _timestamp: 1648331209.0000 - _runtime: 295.0000\n",
            "Epoch 5/10\n",
            "282/282 [==============================] - 61s 211ms/step - loss: 1.8688 - acc: 0.3440 - val_loss: 1.9663 - val_acc: 0.2873 - _timestamp: 1648331291.0000 - _runtime: 377.0000\n",
            "Epoch 6/10\n",
            "282/282 [==============================] - 61s 210ms/step - loss: 1.8262 - acc: 0.3636 - val_loss: 2.0015 - val_acc: 0.2943 - _timestamp: 1648331373.0000 - _runtime: 459.0000\n",
            "Epoch 7/10\n",
            "282/282 [==============================] - 61s 212ms/step - loss: 1.7663 - acc: 0.3840 - val_loss: 2.1218 - val_acc: 0.2783 - _timestamp: 1648331434.0000 - _runtime: 520.0000\n",
            "Epoch 8/10\n",
            "282/282 [==============================] - 61s 211ms/step - loss: 1.7240 - acc: 0.3950 - val_loss: 1.9822 - val_acc: 0.3093 - _timestamp: 1648331495.0000 - _runtime: 581.0000\n",
            "Epoch 9/10\n",
            "282/282 [==============================] - 61s 212ms/step - loss: 1.6762 - acc: 0.4174 - val_loss: 1.9492 - val_acc: 0.3113 - _timestamp: 1648331556.0000 - _runtime: 642.0000\n",
            "Epoch 10/10\n",
            "282/282 [==============================] - 61s 211ms/step - loss: 1.6253 - acc: 0.4334 - val_loss: 1.9391 - val_acc: 0.3223 - _timestamp: 1648331616.0000 - _runtime: 702.0000\n",
            "\n"
          ]
        },
        {
          "output_type": "display_data",
          "data": {
            "text/plain": [
              "<IPython.core.display.HTML object>"
            ],
            "text/html": [
              "Waiting for W&B process to finish... <strong style=\"color:green\">(success).</strong>"
            ]
          },
          "metadata": {}
        },
        {
          "output_type": "display_data",
          "data": {
            "text/plain": [
              "VBox(children=(Label(value='4.395 MB of 4.395 MB uploaded (0.000 MB deduped)\\r'), FloatProgress(value=1.0, max…"
            ],
            "application/vnd.jupyter.widget-view+json": {
              "version_major": 2,
              "version_minor": 0,
              "model_id": "4755168cbb7343e5af985e8095b61c34"
            }
          },
          "metadata": {}
        },
        {
          "output_type": "display_data",
          "data": {
            "text/plain": [
              "<IPython.core.display.HTML object>"
            ],
            "text/html": [
              "<style>\n",
              "    table.wandb td:nth-child(1) { padding: 0 10px; text-align: right }\n",
              "    .wandb-row { display: flex; flex-direction: row; flex-wrap: wrap; width: 100% }\n",
              "    .wandb-col { display: flex; flex-direction: column; flex-basis: 100%; flex: 1; padding: 10px; }\n",
              "    </style>\n",
              "<div class=\"wandb-row\"><div class=\"wandb-col\"><h3>Run history:</h3><br/><table class=\"wandb\"><tr><td>acc</td><td>▁▃▄▅▅▆▇▇██</td></tr><tr><td>epoch</td><td>▁▂▃▃▄▅▆▆▇█</td></tr><tr><td>loss</td><td>█▅▅▄▃▃▂▂▂▁</td></tr><tr><td>val_acc</td><td>▁▄▆▆▅▅▄▇▇█</td></tr><tr><td>val_loss</td><td>▇▄▂▂▂▃█▃▁▁</td></tr></table><br/></div><div class=\"wandb-col\"><h3>Run summary:</h3><br/><table class=\"wandb\"><tr><td>acc</td><td>0.43344</td></tr><tr><td>best_epoch</td><td>9</td></tr><tr><td>best_val_loss</td><td>1.93911</td></tr><tr><td>epoch</td><td>9</td></tr><tr><td>loss</td><td>1.62534</td></tr><tr><td>val_acc</td><td>0.32232</td></tr><tr><td>val_loss</td><td>1.93911</td></tr></table><br/></div></div>"
            ]
          },
          "metadata": {}
        },
        {
          "output_type": "display_data",
          "data": {
            "text/plain": [
              "<IPython.core.display.HTML object>"
            ],
            "text/html": [
              "Synced <strong style=\"color:#cdcd00\">fast-sweep-25</strong>: <a href=\"https://wandb.ai/safi-vamsi-cs6910/assgn2%20trial/runs/2bqodbde\" target=\"_blank\">https://wandb.ai/safi-vamsi-cs6910/assgn2%20trial/runs/2bqodbde</a><br/>Synced 5 W&B file(s), 1 media file(s), 0 artifact file(s) and 1 other file(s)"
            ]
          },
          "metadata": {}
        },
        {
          "output_type": "display_data",
          "data": {
            "text/plain": [
              "<IPython.core.display.HTML object>"
            ],
            "text/html": [
              "Find logs at: <code>./wandb/run-20220326_214154-2bqodbde/logs</code>"
            ]
          },
          "metadata": {}
        },
        {
          "output_type": "stream",
          "name": "stderr",
          "text": [
            "\u001b[34m\u001b[1mwandb\u001b[0m: Agent Starting Run: 7iqa7x8p with config:\n",
            "\u001b[34m\u001b[1mwandb\u001b[0m: \tbatch_norm: True\n",
            "\u001b[34m\u001b[1mwandb\u001b[0m: \tbatch_size: 32\n",
            "\u001b[34m\u001b[1mwandb\u001b[0m: \tdata_augmentation: False\n",
            "\u001b[34m\u001b[1mwandb\u001b[0m: \tdense_layer: 64\n",
            "\u001b[34m\u001b[1mwandb\u001b[0m: \tdropout: 0.4\n",
            "\u001b[34m\u001b[1mwandb\u001b[0m: \tfilter_org: 2\n",
            "\u001b[34m\u001b[1mwandb\u001b[0m: \tkernel_size: 3\n",
            "\u001b[34m\u001b[1mwandb\u001b[0m: \tlearning_rate: 0.001\n",
            "\u001b[34m\u001b[1mwandb\u001b[0m: \tnum_epochs: 10\n",
            "\u001b[34m\u001b[1mwandb\u001b[0m: \tnum_filter: 128\n"
          ]
        },
        {
          "output_type": "display_data",
          "data": {
            "text/plain": [
              "<IPython.core.display.HTML object>"
            ],
            "text/html": [
              "Tracking run with wandb version 0.12.11"
            ]
          },
          "metadata": {}
        },
        {
          "output_type": "display_data",
          "data": {
            "text/plain": [
              "<IPython.core.display.HTML object>"
            ],
            "text/html": [
              "Run data is saved locally in <code>/content/wandb/run-20220326_215350-7iqa7x8p</code>"
            ]
          },
          "metadata": {}
        },
        {
          "output_type": "display_data",
          "data": {
            "text/plain": [
              "<IPython.core.display.HTML object>"
            ],
            "text/html": [
              "Syncing run <strong><a href=\"https://wandb.ai/safi-vamsi-cs6910/assgn2%20trial/runs/7iqa7x8p\" target=\"_blank\">stoic-sweep-26</a></strong> to <a href=\"https://wandb.ai/safi-vamsi-cs6910/assgn2%20trial\" target=\"_blank\">Weights & Biases</a> (<a href=\"https://wandb.me/run\" target=\"_blank\">docs</a>)<br/>Sweep page:  <a href=\"https://wandb.ai/safi-vamsi-cs6910/assgn2%20trial/sweeps/b6ej9uqk\" target=\"_blank\">https://wandb.ai/safi-vamsi-cs6910/assgn2%20trial/sweeps/b6ej9uqk</a>"
            ]
          },
          "metadata": {}
        },
        {
          "output_type": "stream",
          "name": "stdout",
          "text": [
            "Model: \"sequential\"\n",
            "_________________________________________________________________\n",
            " Layer (type)                Output Shape              Param #   \n",
            "=================================================================\n",
            " conv2d (Conv2D)             (None, 254, 254, 32)      896       \n",
            "                                                                 \n",
            " batch_normalization (BatchN  (None, 254, 254, 32)     128       \n",
            " ormalization)                                                   \n",
            "                                                                 \n",
            " activation (Activation)     (None, 254, 254, 32)      0         \n",
            "                                                                 \n",
            " max_pooling2d (MaxPooling2D  (None, 127, 127, 32)     0         \n",
            " )                                                               \n",
            "                                                                 \n",
            " conv2d_1 (Conv2D)           (None, 125, 125, 64)      18496     \n",
            "                                                                 \n",
            " batch_normalization_1 (Batc  (None, 125, 125, 64)     256       \n",
            " hNormalization)                                                 \n",
            "                                                                 \n",
            " activation_1 (Activation)   (None, 125, 125, 64)      0         \n",
            "                                                                 \n",
            " max_pooling2d_1 (MaxPooling  (None, 62, 62, 64)       0         \n",
            " 2D)                                                             \n",
            "                                                                 \n",
            " conv2d_2 (Conv2D)           (None, 60, 60, 128)       73856     \n",
            "                                                                 \n",
            " batch_normalization_2 (Batc  (None, 60, 60, 128)      512       \n",
            " hNormalization)                                                 \n",
            "                                                                 \n",
            " activation_2 (Activation)   (None, 60, 60, 128)       0         \n",
            "                                                                 \n",
            " max_pooling2d_2 (MaxPooling  (None, 30, 30, 128)      0         \n",
            " 2D)                                                             \n",
            "                                                                 \n",
            " conv2d_3 (Conv2D)           (None, 28, 28, 256)       295168    \n",
            "                                                                 \n",
            " batch_normalization_3 (Batc  (None, 28, 28, 256)      1024      \n",
            " hNormalization)                                                 \n",
            "                                                                 \n",
            " activation_3 (Activation)   (None, 28, 28, 256)       0         \n",
            "                                                                 \n",
            " max_pooling2d_3 (MaxPooling  (None, 14, 14, 256)      0         \n",
            " 2D)                                                             \n",
            "                                                                 \n",
            " conv2d_4 (Conv2D)           (None, 12, 12, 512)       1180160   \n",
            "                                                                 \n",
            " batch_normalization_4 (Batc  (None, 12, 12, 512)      2048      \n",
            " hNormalization)                                                 \n",
            "                                                                 \n",
            " activation_4 (Activation)   (None, 12, 12, 512)       0         \n",
            "                                                                 \n",
            " max_pooling2d_4 (MaxPooling  (None, 6, 6, 512)        0         \n",
            " 2D)                                                             \n",
            "                                                                 \n",
            " flatten (Flatten)           (None, 18432)             0         \n",
            "                                                                 \n",
            " dense (Dense)               (None, 64)                1179712   \n",
            "                                                                 \n",
            " dropout (Dropout)           (None, 64)                0         \n",
            "                                                                 \n",
            " dense_1 (Dense)             (None, 10)                650       \n",
            "                                                                 \n",
            "=================================================================\n",
            "Total params: 2,752,906\n",
            "Trainable params: 2,750,922\n",
            "Non-trainable params: 1,984\n",
            "_________________________________________________________________\n",
            "Found 9999 files belonging to 10 classes.\n",
            "Using 9000 files for training.\n",
            "Found 9999 files belonging to 10 classes.\n",
            "Using 999 files for validation.\n",
            "Epoch 1/10\n",
            "282/282 [==============================] - 64s 216ms/step - loss: 2.2864 - acc: 0.1402 - val_loss: 2.2755 - val_acc: 0.1481 - _timestamp: 1648331702.0000 - _runtime: 72.0000\n",
            "Epoch 2/10\n",
            "282/282 [==============================] - 62s 215ms/step - loss: 2.2503 - acc: 0.1542 - val_loss: 2.2236 - val_acc: 0.1842 - _timestamp: 1648331764.0000 - _runtime: 134.0000\n",
            "Epoch 3/10\n",
            "282/282 [==============================] - 62s 215ms/step - loss: 2.2250 - acc: 0.1556 - val_loss: 2.1849 - val_acc: 0.1782 - _timestamp: 1648331826.0000 - _runtime: 196.0000\n",
            "Epoch 4/10\n",
            "282/282 [==============================] - 62s 215ms/step - loss: 2.1961 - acc: 0.1694 - val_loss: 2.1742 - val_acc: 0.2102 - _timestamp: 1648331908.0000 - _runtime: 278.0000\n",
            "Epoch 5/10\n",
            "282/282 [==============================] - 62s 216ms/step - loss: 2.1873 - acc: 0.1763 - val_loss: 2.1728 - val_acc: 0.2042 - _timestamp: 1648331970.0000 - _runtime: 340.0000\n",
            "Epoch 6/10\n",
            "282/282 [==============================] - 62s 215ms/step - loss: 2.1669 - acc: 0.1844 - val_loss: 2.1597 - val_acc: 0.2212 - _timestamp: 1648332052.0000 - _runtime: 422.0000\n",
            "Epoch 7/10\n",
            "282/282 [==============================] - 62s 215ms/step - loss: 2.1362 - acc: 0.1887 - val_loss: 2.1603 - val_acc: 0.1782 - _timestamp: 1648332134.0000 - _runtime: 504.0000\n",
            "Epoch 8/10\n",
            "282/282 [==============================] - 62s 215ms/step - loss: 2.1165 - acc: 0.1933 - val_loss: 2.1107 - val_acc: 0.2252 - _timestamp: 1648332216.0000 - _runtime: 586.0000\n",
            "Epoch 9/10\n",
            "282/282 [==============================] - 62s 214ms/step - loss: 2.0975 - acc: 0.1917 - val_loss: 2.0936 - val_acc: 0.2222 - _timestamp: 1648332298.0000 - _runtime: 668.0000\n",
            "Epoch 10/10\n",
            "282/282 [==============================] - 62s 214ms/step - loss: 2.0685 - acc: 0.2016 - val_loss: 2.0995 - val_acc: 0.2292 - _timestamp: 1648332360.0000 - _runtime: 730.0000\n",
            "\n"
          ]
        },
        {
          "output_type": "display_data",
          "data": {
            "text/plain": [
              "<IPython.core.display.HTML object>"
            ],
            "text/html": [
              "Waiting for W&B process to finish... <strong style=\"color:green\">(success).</strong>"
            ]
          },
          "metadata": {}
        },
        {
          "output_type": "display_data",
          "data": {
            "text/plain": [
              "VBox(children=(Label(value='31.613 MB of 31.613 MB uploaded (0.000 MB deduped)\\r'), FloatProgress(value=1.0, m…"
            ],
            "application/vnd.jupyter.widget-view+json": {
              "version_major": 2,
              "version_minor": 0,
              "model_id": "64b74d45d5124a33a8c0aa640160660a"
            }
          },
          "metadata": {}
        },
        {
          "output_type": "display_data",
          "data": {
            "text/plain": [
              "<IPython.core.display.HTML object>"
            ],
            "text/html": [
              "<style>\n",
              "    table.wandb td:nth-child(1) { padding: 0 10px; text-align: right }\n",
              "    .wandb-row { display: flex; flex-direction: row; flex-wrap: wrap; width: 100% }\n",
              "    .wandb-col { display: flex; flex-direction: column; flex-basis: 100%; flex: 1; padding: 10px; }\n",
              "    </style>\n",
              "<div class=\"wandb-row\"><div class=\"wandb-col\"><h3>Run history:</h3><br/><table class=\"wandb\"><tr><td>acc</td><td>▁▃▃▄▅▆▇▇▇█</td></tr><tr><td>epoch</td><td>▁▂▃▃▄▅▆▆▇█</td></tr><tr><td>loss</td><td>█▇▆▅▅▄▃▃▂▁</td></tr><tr><td>val_acc</td><td>▁▄▄▆▆▇▄█▇█</td></tr><tr><td>val_loss</td><td>█▆▅▄▄▄▄▂▁▁</td></tr></table><br/></div><div class=\"wandb-col\"><h3>Run summary:</h3><br/><table class=\"wandb\"><tr><td>acc</td><td>0.20156</td></tr><tr><td>best_epoch</td><td>8</td></tr><tr><td>best_val_loss</td><td>2.09364</td></tr><tr><td>epoch</td><td>9</td></tr><tr><td>loss</td><td>2.06848</td></tr><tr><td>val_acc</td><td>0.22923</td></tr><tr><td>val_loss</td><td>2.09955</td></tr></table><br/></div></div>"
            ]
          },
          "metadata": {}
        },
        {
          "output_type": "display_data",
          "data": {
            "text/plain": [
              "<IPython.core.display.HTML object>"
            ],
            "text/html": [
              "Synced <strong style=\"color:#cdcd00\">stoic-sweep-26</strong>: <a href=\"https://wandb.ai/safi-vamsi-cs6910/assgn2%20trial/runs/7iqa7x8p\" target=\"_blank\">https://wandb.ai/safi-vamsi-cs6910/assgn2%20trial/runs/7iqa7x8p</a><br/>Synced 5 W&B file(s), 1 media file(s), 0 artifact file(s) and 1 other file(s)"
            ]
          },
          "metadata": {}
        },
        {
          "output_type": "display_data",
          "data": {
            "text/plain": [
              "<IPython.core.display.HTML object>"
            ],
            "text/html": [
              "Find logs at: <code>./wandb/run-20220326_215350-7iqa7x8p/logs</code>"
            ]
          },
          "metadata": {}
        },
        {
          "output_type": "stream",
          "name": "stderr",
          "text": [
            "\u001b[34m\u001b[1mwandb\u001b[0m: Agent Starting Run: 6h21xa64 with config:\n",
            "\u001b[34m\u001b[1mwandb\u001b[0m: \tbatch_norm: True\n",
            "\u001b[34m\u001b[1mwandb\u001b[0m: \tbatch_size: 32\n",
            "\u001b[34m\u001b[1mwandb\u001b[0m: \tdata_augmentation: False\n",
            "\u001b[34m\u001b[1mwandb\u001b[0m: \tdense_layer: 512\n",
            "\u001b[34m\u001b[1mwandb\u001b[0m: \tdropout: 0.4\n",
            "\u001b[34m\u001b[1mwandb\u001b[0m: \tfilter_org: 2\n",
            "\u001b[34m\u001b[1mwandb\u001b[0m: \tkernel_size: 7\n",
            "\u001b[34m\u001b[1mwandb\u001b[0m: \tlearning_rate: 0.0001\n",
            "\u001b[34m\u001b[1mwandb\u001b[0m: \tnum_epochs: 10\n",
            "\u001b[34m\u001b[1mwandb\u001b[0m: \tnum_filter: 128\n"
          ]
        },
        {
          "output_type": "display_data",
          "data": {
            "text/plain": [
              "<IPython.core.display.HTML object>"
            ],
            "text/html": [
              "Tracking run with wandb version 0.12.11"
            ]
          },
          "metadata": {}
        },
        {
          "output_type": "display_data",
          "data": {
            "text/plain": [
              "<IPython.core.display.HTML object>"
            ],
            "text/html": [
              "Run data is saved locally in <code>/content/wandb/run-20220326_220614-6h21xa64</code>"
            ]
          },
          "metadata": {}
        },
        {
          "output_type": "display_data",
          "data": {
            "text/plain": [
              "<IPython.core.display.HTML object>"
            ],
            "text/html": [
              "Syncing run <strong><a href=\"https://wandb.ai/safi-vamsi-cs6910/assgn2%20trial/runs/6h21xa64\" target=\"_blank\">clear-sweep-27</a></strong> to <a href=\"https://wandb.ai/safi-vamsi-cs6910/assgn2%20trial\" target=\"_blank\">Weights & Biases</a> (<a href=\"https://wandb.me/run\" target=\"_blank\">docs</a>)<br/>Sweep page:  <a href=\"https://wandb.ai/safi-vamsi-cs6910/assgn2%20trial/sweeps/b6ej9uqk\" target=\"_blank\">https://wandb.ai/safi-vamsi-cs6910/assgn2%20trial/sweeps/b6ej9uqk</a>"
            ]
          },
          "metadata": {}
        },
        {
          "output_type": "stream",
          "name": "stdout",
          "text": [
            "Model: \"sequential\"\n",
            "_________________________________________________________________\n",
            " Layer (type)                Output Shape              Param #   \n",
            "=================================================================\n",
            " conv2d (Conv2D)             (None, 250, 250, 32)      4736      \n",
            "                                                                 \n",
            " batch_normalization (BatchN  (None, 250, 250, 32)     128       \n",
            " ormalization)                                                   \n",
            "                                                                 \n",
            " activation (Activation)     (None, 250, 250, 32)      0         \n",
            "                                                                 \n",
            " max_pooling2d (MaxPooling2D  (None, 125, 125, 32)     0         \n",
            " )                                                               \n",
            "                                                                 \n",
            " conv2d_1 (Conv2D)           (None, 119, 119, 64)      100416    \n",
            "                                                                 \n",
            " batch_normalization_1 (Batc  (None, 119, 119, 64)     256       \n",
            " hNormalization)                                                 \n",
            "                                                                 \n",
            " activation_1 (Activation)   (None, 119, 119, 64)      0         \n",
            "                                                                 \n",
            " max_pooling2d_1 (MaxPooling  (None, 59, 59, 64)       0         \n",
            " 2D)                                                             \n",
            "                                                                 \n",
            " conv2d_2 (Conv2D)           (None, 53, 53, 128)       401536    \n",
            "                                                                 \n",
            " batch_normalization_2 (Batc  (None, 53, 53, 128)      512       \n",
            " hNormalization)                                                 \n",
            "                                                                 \n",
            " activation_2 (Activation)   (None, 53, 53, 128)       0         \n",
            "                                                                 \n",
            " max_pooling2d_2 (MaxPooling  (None, 26, 26, 128)      0         \n",
            " 2D)                                                             \n",
            "                                                                 \n",
            " conv2d_3 (Conv2D)           (None, 20, 20, 256)       1605888   \n",
            "                                                                 \n",
            " batch_normalization_3 (Batc  (None, 20, 20, 256)      1024      \n",
            " hNormalization)                                                 \n",
            "                                                                 \n",
            " activation_3 (Activation)   (None, 20, 20, 256)       0         \n",
            "                                                                 \n",
            " max_pooling2d_3 (MaxPooling  (None, 10, 10, 256)      0         \n",
            " 2D)                                                             \n",
            "                                                                 \n",
            " conv2d_4 (Conv2D)           (None, 4, 4, 512)         6423040   \n",
            "                                                                 \n",
            " batch_normalization_4 (Batc  (None, 4, 4, 512)        2048      \n",
            " hNormalization)                                                 \n",
            "                                                                 \n",
            " activation_4 (Activation)   (None, 4, 4, 512)         0         \n",
            "                                                                 \n",
            " max_pooling2d_4 (MaxPooling  (None, 2, 2, 512)        0         \n",
            " 2D)                                                             \n",
            "                                                                 \n",
            " flatten (Flatten)           (None, 2048)              0         \n",
            "                                                                 \n",
            " dense (Dense)               (None, 512)               1049088   \n",
            "                                                                 \n",
            " dropout (Dropout)           (None, 512)               0         \n",
            "                                                                 \n",
            " dense_1 (Dense)             (None, 10)                5130      \n",
            "                                                                 \n",
            "=================================================================\n",
            "Total params: 9,593,802\n",
            "Trainable params: 9,591,818\n",
            "Non-trainable params: 1,984\n",
            "_________________________________________________________________\n",
            "Found 9999 files belonging to 10 classes.\n",
            "Using 9000 files for training.\n",
            "Found 9999 files belonging to 10 classes.\n",
            "Using 999 files for validation.\n",
            "Epoch 1/10\n",
            "282/282 [==============================] - 65s 220ms/step - loss: 2.2235 - acc: 0.2338 - val_loss: 2.0492 - val_acc: 0.2803 - _timestamp: 1648332448.0000 - _runtime: 74.0000\n",
            "Epoch 2/10\n",
            "282/282 [==============================] - 64s 221ms/step - loss: 2.0093 - acc: 0.2842 - val_loss: 2.0152 - val_acc: 0.2933 - _timestamp: 1648332529.0000 - _runtime: 155.0000\n",
            "Epoch 3/10\n",
            "282/282 [==============================] - 63s 219ms/step - loss: 1.9167 - acc: 0.3237 - val_loss: 2.0602 - val_acc: 0.2973 - _timestamp: 1648332611.0000 - _runtime: 237.0000\n",
            "Epoch 4/10\n",
            "282/282 [==============================] - 63s 220ms/step - loss: 1.8362 - acc: 0.3553 - val_loss: 2.1338 - val_acc: 0.2713 - _timestamp: 1648332674.0000 - _runtime: 300.0000\n",
            "Epoch 5/10\n",
            "282/282 [==============================] - 64s 221ms/step - loss: 1.7547 - acc: 0.3873 - val_loss: 2.0143 - val_acc: 0.2893 - _timestamp: 1648332756.0000 - _runtime: 382.0000\n",
            "Epoch 6/10\n",
            "282/282 [==============================] - 64s 221ms/step - loss: 1.6589 - acc: 0.4187 - val_loss: 1.9614 - val_acc: 0.3063 - _timestamp: 1648332820.0000 - _runtime: 446.0000\n",
            "Epoch 7/10\n",
            "282/282 [==============================] - 64s 221ms/step - loss: 1.5317 - acc: 0.4659 - val_loss: 2.1584 - val_acc: 0.2593 - _timestamp: 1648332884.0000 - _runtime: 510.0000\n",
            "Epoch 8/10\n",
            "282/282 [==============================] - 63s 220ms/step - loss: 1.3946 - acc: 0.5102 - val_loss: 2.1234 - val_acc: 0.2773 - _timestamp: 1648332947.0000 - _runtime: 573.0000\n",
            "Epoch 9/10\n",
            "282/282 [==============================] - 64s 222ms/step - loss: 1.2337 - acc: 0.5749 - val_loss: 2.1605 - val_acc: 0.2543 - _timestamp: 1648333011.0000 - _runtime: 637.0000\n",
            "Epoch 10/10\n",
            "282/282 [==============================] - 63s 220ms/step - loss: 1.0461 - acc: 0.6452 - val_loss: 2.2636 - val_acc: 0.2913 - _timestamp: 1648333074.0000 - _runtime: 700.0000\n",
            "\n"
          ]
        },
        {
          "output_type": "display_data",
          "data": {
            "text/plain": [
              "<IPython.core.display.HTML object>"
            ],
            "text/html": [
              "Waiting for W&B process to finish... <strong style=\"color:green\">(success).</strong>"
            ]
          },
          "metadata": {}
        },
        {
          "output_type": "display_data",
          "data": {
            "text/plain": [
              "VBox(children=(Label(value='109.902 MB of 109.902 MB uploaded (0.000 MB deduped)\\r'), FloatProgress(value=1.0,…"
            ],
            "application/vnd.jupyter.widget-view+json": {
              "version_major": 2,
              "version_minor": 0,
              "model_id": "4348a8720b3c469480150c12cd838046"
            }
          },
          "metadata": {}
        },
        {
          "output_type": "display_data",
          "data": {
            "text/plain": [
              "<IPython.core.display.HTML object>"
            ],
            "text/html": [
              "<style>\n",
              "    table.wandb td:nth-child(1) { padding: 0 10px; text-align: right }\n",
              "    .wandb-row { display: flex; flex-direction: row; flex-wrap: wrap; width: 100% }\n",
              "    .wandb-col { display: flex; flex-direction: column; flex-basis: 100%; flex: 1; padding: 10px; }\n",
              "    </style>\n",
              "<div class=\"wandb-row\"><div class=\"wandb-col\"><h3>Run history:</h3><br/><table class=\"wandb\"><tr><td>acc</td><td>▁▂▃▃▄▄▅▆▇█</td></tr><tr><td>epoch</td><td>▁▂▃▃▄▅▆▆▇█</td></tr><tr><td>loss</td><td>█▇▆▆▅▅▄▃▂▁</td></tr><tr><td>val_acc</td><td>▅▆▇▃▆█▂▄▁▆</td></tr><tr><td>val_loss</td><td>▃▂▃▅▂▁▆▅▆█</td></tr></table><br/></div><div class=\"wandb-col\"><h3>Run summary:</h3><br/><table class=\"wandb\"><tr><td>acc</td><td>0.64522</td></tr><tr><td>best_epoch</td><td>5</td></tr><tr><td>best_val_loss</td><td>1.96141</td></tr><tr><td>epoch</td><td>9</td></tr><tr><td>loss</td><td>1.04606</td></tr><tr><td>val_acc</td><td>0.29129</td></tr><tr><td>val_loss</td><td>2.2636</td></tr></table><br/></div></div>"
            ]
          },
          "metadata": {}
        },
        {
          "output_type": "display_data",
          "data": {
            "text/plain": [
              "<IPython.core.display.HTML object>"
            ],
            "text/html": [
              "Synced <strong style=\"color:#cdcd00\">clear-sweep-27</strong>: <a href=\"https://wandb.ai/safi-vamsi-cs6910/assgn2%20trial/runs/6h21xa64\" target=\"_blank\">https://wandb.ai/safi-vamsi-cs6910/assgn2%20trial/runs/6h21xa64</a><br/>Synced 5 W&B file(s), 1 media file(s), 0 artifact file(s) and 1 other file(s)"
            ]
          },
          "metadata": {}
        },
        {
          "output_type": "display_data",
          "data": {
            "text/plain": [
              "<IPython.core.display.HTML object>"
            ],
            "text/html": [
              "Find logs at: <code>./wandb/run-20220326_220614-6h21xa64/logs</code>"
            ]
          },
          "metadata": {}
        },
        {
          "output_type": "stream",
          "name": "stderr",
          "text": [
            "\u001b[34m\u001b[1mwandb\u001b[0m: Agent Starting Run: z9frn0p0 with config:\n",
            "\u001b[34m\u001b[1mwandb\u001b[0m: \tbatch_norm: True\n",
            "\u001b[34m\u001b[1mwandb\u001b[0m: \tbatch_size: 32\n",
            "\u001b[34m\u001b[1mwandb\u001b[0m: \tdata_augmentation: False\n",
            "\u001b[34m\u001b[1mwandb\u001b[0m: \tdense_layer: 512\n",
            "\u001b[34m\u001b[1mwandb\u001b[0m: \tdropout: 0.4\n",
            "\u001b[34m\u001b[1mwandb\u001b[0m: \tfilter_org: 2\n",
            "\u001b[34m\u001b[1mwandb\u001b[0m: \tkernel_size: 3\n",
            "\u001b[34m\u001b[1mwandb\u001b[0m: \tlearning_rate: 0.0001\n",
            "\u001b[34m\u001b[1mwandb\u001b[0m: \tnum_epochs: 30\n",
            "\u001b[34m\u001b[1mwandb\u001b[0m: \tnum_filter: 256\n"
          ]
        },
        {
          "output_type": "display_data",
          "data": {
            "text/plain": [
              "<IPython.core.display.HTML object>"
            ],
            "text/html": [
              "Tracking run with wandb version 0.12.11"
            ]
          },
          "metadata": {}
        },
        {
          "output_type": "display_data",
          "data": {
            "text/plain": [
              "<IPython.core.display.HTML object>"
            ],
            "text/html": [
              "Run data is saved locally in <code>/content/wandb/run-20220326_221808-z9frn0p0</code>"
            ]
          },
          "metadata": {}
        },
        {
          "output_type": "display_data",
          "data": {
            "text/plain": [
              "<IPython.core.display.HTML object>"
            ],
            "text/html": [
              "Syncing run <strong><a href=\"https://wandb.ai/safi-vamsi-cs6910/assgn2%20trial/runs/z9frn0p0\" target=\"_blank\">avid-sweep-28</a></strong> to <a href=\"https://wandb.ai/safi-vamsi-cs6910/assgn2%20trial\" target=\"_blank\">Weights & Biases</a> (<a href=\"https://wandb.me/run\" target=\"_blank\">docs</a>)<br/>Sweep page:  <a href=\"https://wandb.ai/safi-vamsi-cs6910/assgn2%20trial/sweeps/b6ej9uqk\" target=\"_blank\">https://wandb.ai/safi-vamsi-cs6910/assgn2%20trial/sweeps/b6ej9uqk</a>"
            ]
          },
          "metadata": {}
        },
        {
          "output_type": "stream",
          "name": "stdout",
          "text": [
            "Model: \"sequential\"\n",
            "_________________________________________________________________\n",
            " Layer (type)                Output Shape              Param #   \n",
            "=================================================================\n",
            " conv2d (Conv2D)             (None, 254, 254, 32)      896       \n",
            "                                                                 \n",
            " batch_normalization (BatchN  (None, 254, 254, 32)     128       \n",
            " ormalization)                                                   \n",
            "                                                                 \n",
            " activation (Activation)     (None, 254, 254, 32)      0         \n",
            "                                                                 \n",
            " max_pooling2d (MaxPooling2D  (None, 127, 127, 32)     0         \n",
            " )                                                               \n",
            "                                                                 \n",
            " conv2d_1 (Conv2D)           (None, 125, 125, 64)      18496     \n",
            "                                                                 \n",
            " batch_normalization_1 (Batc  (None, 125, 125, 64)     256       \n",
            " hNormalization)                                                 \n",
            "                                                                 \n",
            " activation_1 (Activation)   (None, 125, 125, 64)      0         \n",
            "                                                                 \n",
            " max_pooling2d_1 (MaxPooling  (None, 62, 62, 64)       0         \n",
            " 2D)                                                             \n",
            "                                                                 \n",
            " conv2d_2 (Conv2D)           (None, 60, 60, 128)       73856     \n",
            "                                                                 \n",
            " batch_normalization_2 (Batc  (None, 60, 60, 128)      512       \n",
            " hNormalization)                                                 \n",
            "                                                                 \n",
            " activation_2 (Activation)   (None, 60, 60, 128)       0         \n",
            "                                                                 \n",
            " max_pooling2d_2 (MaxPooling  (None, 30, 30, 128)      0         \n",
            " 2D)                                                             \n",
            "                                                                 \n",
            " conv2d_3 (Conv2D)           (None, 28, 28, 256)       295168    \n",
            "                                                                 \n",
            " batch_normalization_3 (Batc  (None, 28, 28, 256)      1024      \n",
            " hNormalization)                                                 \n",
            "                                                                 \n",
            " activation_3 (Activation)   (None, 28, 28, 256)       0         \n",
            "                                                                 \n",
            " max_pooling2d_3 (MaxPooling  (None, 14, 14, 256)      0         \n",
            " 2D)                                                             \n",
            "                                                                 \n",
            " conv2d_4 (Conv2D)           (None, 12, 12, 512)       1180160   \n",
            "                                                                 \n",
            " batch_normalization_4 (Batc  (None, 12, 12, 512)      2048      \n",
            " hNormalization)                                                 \n",
            "                                                                 \n",
            " activation_4 (Activation)   (None, 12, 12, 512)       0         \n",
            "                                                                 \n",
            " max_pooling2d_4 (MaxPooling  (None, 6, 6, 512)        0         \n",
            " 2D)                                                             \n",
            "                                                                 \n",
            " flatten (Flatten)           (None, 18432)             0         \n",
            "                                                                 \n",
            " dense (Dense)               (None, 512)               9437696   \n",
            "                                                                 \n",
            " dropout (Dropout)           (None, 512)               0         \n",
            "                                                                 \n",
            " dense_1 (Dense)             (None, 10)                5130      \n",
            "                                                                 \n",
            "=================================================================\n",
            "Total params: 11,015,370\n",
            "Trainable params: 11,013,386\n",
            "Non-trainable params: 1,984\n",
            "_________________________________________________________________\n",
            "Found 9999 files belonging to 10 classes.\n",
            "Using 9000 files for training.\n",
            "Found 9999 files belonging to 10 classes.\n",
            "Using 999 files for validation.\n",
            "Epoch 1/10\n",
            "282/282 [==============================] - 64s 217ms/step - loss: 2.2455 - acc: 0.2201 - val_loss: 2.0319 - val_acc: 0.2873 - _timestamp: 1648333160.0000 - _runtime: 72.0000\n",
            "Epoch 2/10\n",
            "282/282 [==============================] - 63s 217ms/step - loss: 2.0384 - acc: 0.2677 - val_loss: 1.9441 - val_acc: 0.3203 - _timestamp: 1648333224.0000 - _runtime: 136.0000\n",
            "Epoch 3/10\n",
            "282/282 [==============================] - 63s 218ms/step - loss: 1.9560 - acc: 0.3054 - val_loss: 1.9421 - val_acc: 0.2933 - _timestamp: 1648333305.0000 - _runtime: 217.0000\n",
            "Epoch 4/10\n",
            "282/282 [==============================] - 63s 218ms/step - loss: 1.9045 - acc: 0.3236 - val_loss: 1.9039 - val_acc: 0.3323 - _timestamp: 1648333368.0000 - _runtime: 280.0000\n",
            "Epoch 5/10\n",
            "282/282 [==============================] - 62s 215ms/step - loss: 1.8432 - acc: 0.3524 - val_loss: 1.9425 - val_acc: 0.3183 - _timestamp: 1648333431.0000 - _runtime: 343.0000\n",
            "Epoch 6/10\n",
            "282/282 [==============================] - 62s 217ms/step - loss: 1.7797 - acc: 0.3654 - val_loss: 1.8851 - val_acc: 0.3504 - _timestamp: 1648333512.0000 - _runtime: 424.0000\n",
            "Epoch 7/10\n",
            "282/282 [==============================] - 62s 216ms/step - loss: 1.7040 - acc: 0.3917 - val_loss: 2.1160 - val_acc: 0.2883 - _timestamp: 1648333575.0000 - _runtime: 487.0000\n",
            "Epoch 8/10\n",
            "282/282 [==============================] - 63s 218ms/step - loss: 1.6336 - acc: 0.4280 - val_loss: 1.8084 - val_acc: 0.3814 - _timestamp: 1648333657.0000 - _runtime: 569.0000\n",
            "Epoch 9/10\n",
            "282/282 [==============================] - 62s 215ms/step - loss: 1.5653 - acc: 0.4436 - val_loss: 1.9002 - val_acc: 0.3614 - _timestamp: 1648333720.0000 - _runtime: 632.0000\n",
            "Epoch 10/10\n",
            "282/282 [==============================] - 62s 215ms/step - loss: 1.4666 - acc: 0.4756 - val_loss: 1.9039 - val_acc: 0.3423 - _timestamp: 1648333782.0000 - _runtime: 694.0000\n",
            "\n"
          ]
        },
        {
          "output_type": "display_data",
          "data": {
            "text/plain": [
              "<IPython.core.display.HTML object>"
            ],
            "text/html": [
              "Waiting for W&B process to finish... <strong style=\"color:green\">(success).</strong>"
            ]
          },
          "metadata": {}
        },
        {
          "output_type": "display_data",
          "data": {
            "text/plain": [
              "VBox(children=(Label(value='126.171 MB of 126.171 MB uploaded (0.000 MB deduped)\\r'), FloatProgress(value=1.0,…"
            ],
            "application/vnd.jupyter.widget-view+json": {
              "version_major": 2,
              "version_minor": 0,
              "model_id": "545878b7a45f402096c1c37abbda3d9f"
            }
          },
          "metadata": {}
        },
        {
          "output_type": "display_data",
          "data": {
            "text/plain": [
              "<IPython.core.display.HTML object>"
            ],
            "text/html": [
              "<style>\n",
              "    table.wandb td:nth-child(1) { padding: 0 10px; text-align: right }\n",
              "    .wandb-row { display: flex; flex-direction: row; flex-wrap: wrap; width: 100% }\n",
              "    .wandb-col { display: flex; flex-direction: column; flex-basis: 100%; flex: 1; padding: 10px; }\n",
              "    </style>\n",
              "<div class=\"wandb-row\"><div class=\"wandb-col\"><h3>Run history:</h3><br/><table class=\"wandb\"><tr><td>acc</td><td>▁▂▃▄▅▅▆▇▇█</td></tr><tr><td>epoch</td><td>▁▂▃▃▄▅▆▆▇█</td></tr><tr><td>loss</td><td>█▆▅▅▄▄▃▃▂▁</td></tr><tr><td>val_acc</td><td>▁▃▁▄▃▆▁█▇▅</td></tr><tr><td>val_loss</td><td>▆▄▄▃▄▃█▁▃▃</td></tr></table><br/></div><div class=\"wandb-col\"><h3>Run summary:</h3><br/><table class=\"wandb\"><tr><td>acc</td><td>0.47556</td></tr><tr><td>best_epoch</td><td>7</td></tr><tr><td>best_val_loss</td><td>1.8084</td></tr><tr><td>epoch</td><td>9</td></tr><tr><td>loss</td><td>1.4666</td></tr><tr><td>val_acc</td><td>0.34234</td></tr><tr><td>val_loss</td><td>1.9039</td></tr></table><br/></div></div>"
            ]
          },
          "metadata": {}
        },
        {
          "output_type": "display_data",
          "data": {
            "text/plain": [
              "<IPython.core.display.HTML object>"
            ],
            "text/html": [
              "Synced <strong style=\"color:#cdcd00\">avid-sweep-28</strong>: <a href=\"https://wandb.ai/safi-vamsi-cs6910/assgn2%20trial/runs/z9frn0p0\" target=\"_blank\">https://wandb.ai/safi-vamsi-cs6910/assgn2%20trial/runs/z9frn0p0</a><br/>Synced 5 W&B file(s), 1 media file(s), 0 artifact file(s) and 1 other file(s)"
            ]
          },
          "metadata": {}
        },
        {
          "output_type": "display_data",
          "data": {
            "text/plain": [
              "<IPython.core.display.HTML object>"
            ],
            "text/html": [
              "Find logs at: <code>./wandb/run-20220326_221808-z9frn0p0/logs</code>"
            ]
          },
          "metadata": {}
        },
        {
          "output_type": "stream",
          "name": "stderr",
          "text": [
            "\u001b[34m\u001b[1mwandb\u001b[0m: Sweep Agent: Waiting for job.\n",
            "\u001b[34m\u001b[1mwandb\u001b[0m: Job received.\n",
            "\u001b[34m\u001b[1mwandb\u001b[0m: Agent Starting Run: 2xecxpd5 with config:\n",
            "\u001b[34m\u001b[1mwandb\u001b[0m: \tbatch_norm: True\n",
            "\u001b[34m\u001b[1mwandb\u001b[0m: \tbatch_size: 32\n",
            "\u001b[34m\u001b[1mwandb\u001b[0m: \tdata_augmentation: False\n",
            "\u001b[34m\u001b[1mwandb\u001b[0m: \tdense_layer: 512\n",
            "\u001b[34m\u001b[1mwandb\u001b[0m: \tdropout: 0.4\n",
            "\u001b[34m\u001b[1mwandb\u001b[0m: \tfilter_org: 2\n",
            "\u001b[34m\u001b[1mwandb\u001b[0m: \tkernel_size: 3\n",
            "\u001b[34m\u001b[1mwandb\u001b[0m: \tlearning_rate: 0.001\n",
            "\u001b[34m\u001b[1mwandb\u001b[0m: \tnum_epochs: 30\n",
            "\u001b[34m\u001b[1mwandb\u001b[0m: \tnum_filter: 256\n"
          ]
        },
        {
          "output_type": "display_data",
          "data": {
            "text/plain": [
              "<IPython.core.display.HTML object>"
            ],
            "text/html": [
              "Tracking run with wandb version 0.12.11"
            ]
          },
          "metadata": {}
        },
        {
          "output_type": "display_data",
          "data": {
            "text/plain": [
              "<IPython.core.display.HTML object>"
            ],
            "text/html": [
              "Run data is saved locally in <code>/content/wandb/run-20220326_223022-2xecxpd5</code>"
            ]
          },
          "metadata": {}
        },
        {
          "output_type": "display_data",
          "data": {
            "text/plain": [
              "<IPython.core.display.HTML object>"
            ],
            "text/html": [
              "Syncing run <strong><a href=\"https://wandb.ai/safi-vamsi-cs6910/assgn2%20trial/runs/2xecxpd5\" target=\"_blank\">rosy-sweep-29</a></strong> to <a href=\"https://wandb.ai/safi-vamsi-cs6910/assgn2%20trial\" target=\"_blank\">Weights & Biases</a> (<a href=\"https://wandb.me/run\" target=\"_blank\">docs</a>)<br/>Sweep page:  <a href=\"https://wandb.ai/safi-vamsi-cs6910/assgn2%20trial/sweeps/b6ej9uqk\" target=\"_blank\">https://wandb.ai/safi-vamsi-cs6910/assgn2%20trial/sweeps/b6ej9uqk</a>"
            ]
          },
          "metadata": {}
        },
        {
          "output_type": "stream",
          "name": "stdout",
          "text": [
            "Model: \"sequential\"\n",
            "_________________________________________________________________\n",
            " Layer (type)                Output Shape              Param #   \n",
            "=================================================================\n",
            " conv2d (Conv2D)             (None, 254, 254, 32)      896       \n",
            "                                                                 \n",
            " batch_normalization (BatchN  (None, 254, 254, 32)     128       \n",
            " ormalization)                                                   \n",
            "                                                                 \n",
            " activation (Activation)     (None, 254, 254, 32)      0         \n",
            "                                                                 \n",
            " max_pooling2d (MaxPooling2D  (None, 127, 127, 32)     0         \n",
            " )                                                               \n",
            "                                                                 \n",
            " conv2d_1 (Conv2D)           (None, 125, 125, 64)      18496     \n",
            "                                                                 \n",
            " batch_normalization_1 (Batc  (None, 125, 125, 64)     256       \n",
            " hNormalization)                                                 \n",
            "                                                                 \n",
            " activation_1 (Activation)   (None, 125, 125, 64)      0         \n",
            "                                                                 \n",
            " max_pooling2d_1 (MaxPooling  (None, 62, 62, 64)       0         \n",
            " 2D)                                                             \n",
            "                                                                 \n",
            " conv2d_2 (Conv2D)           (None, 60, 60, 128)       73856     \n",
            "                                                                 \n",
            " batch_normalization_2 (Batc  (None, 60, 60, 128)      512       \n",
            " hNormalization)                                                 \n",
            "                                                                 \n",
            " activation_2 (Activation)   (None, 60, 60, 128)       0         \n",
            "                                                                 \n",
            " max_pooling2d_2 (MaxPooling  (None, 30, 30, 128)      0         \n",
            " 2D)                                                             \n",
            "                                                                 \n",
            " conv2d_3 (Conv2D)           (None, 28, 28, 256)       295168    \n",
            "                                                                 \n",
            " batch_normalization_3 (Batc  (None, 28, 28, 256)      1024      \n",
            " hNormalization)                                                 \n",
            "                                                                 \n",
            " activation_3 (Activation)   (None, 28, 28, 256)       0         \n",
            "                                                                 \n",
            " max_pooling2d_3 (MaxPooling  (None, 14, 14, 256)      0         \n",
            " 2D)                                                             \n",
            "                                                                 \n",
            " conv2d_4 (Conv2D)           (None, 12, 12, 512)       1180160   \n",
            "                                                                 \n",
            " batch_normalization_4 (Batc  (None, 12, 12, 512)      2048      \n",
            " hNormalization)                                                 \n",
            "                                                                 \n",
            " activation_4 (Activation)   (None, 12, 12, 512)       0         \n",
            "                                                                 \n",
            " max_pooling2d_4 (MaxPooling  (None, 6, 6, 512)        0         \n",
            " 2D)                                                             \n",
            "                                                                 \n",
            " flatten (Flatten)           (None, 18432)             0         \n",
            "                                                                 \n",
            " dense (Dense)               (None, 512)               9437696   \n",
            "                                                                 \n",
            " dropout (Dropout)           (None, 512)               0         \n",
            "                                                                 \n",
            " dense_1 (Dense)             (None, 10)                5130      \n",
            "                                                                 \n",
            "=================================================================\n",
            "Total params: 11,015,370\n",
            "Trainable params: 11,013,386\n",
            "Non-trainable params: 1,984\n",
            "_________________________________________________________________\n",
            "Found 9999 files belonging to 10 classes.\n",
            "Using 9000 files for training.\n",
            "Found 9999 files belonging to 10 classes.\n",
            "Using 999 files for validation.\n",
            "Epoch 1/10\n",
            "282/282 [==============================] - 63s 216ms/step - loss: 2.2529 - acc: 0.2260 - val_loss: 2.0354 - val_acc: 0.2703 - _timestamp: 1648333894.0000 - _runtime: 72.0000\n",
            "Epoch 2/10\n",
            "282/282 [==============================] - 62s 215ms/step - loss: 2.0533 - acc: 0.2618 - val_loss: 1.9748 - val_acc: 0.2963 - _timestamp: 1648333975.0000 - _runtime: 153.0000\n",
            "Epoch 3/10\n",
            "282/282 [==============================] - 62s 214ms/step - loss: 1.9687 - acc: 0.2970 - val_loss: 2.0178 - val_acc: 0.3063 - _timestamp: 1648334037.0000 - _runtime: 215.0000\n",
            "Epoch 4/10\n",
            "282/282 [==============================] - 62s 215ms/step - loss: 1.9225 - acc: 0.3190 - val_loss: 1.8867 - val_acc: 0.3433 - _timestamp: 1648334099.0000 - _runtime: 277.0000\n",
            "Epoch 5/10\n",
            "282/282 [==============================] - 62s 216ms/step - loss: 1.8349 - acc: 0.3483 - val_loss: 1.8728 - val_acc: 0.3564 - _timestamp: 1648334161.0000 - _runtime: 339.0000\n",
            "Epoch 6/10\n",
            "282/282 [==============================] - 62s 216ms/step - loss: 1.7820 - acc: 0.3716 - val_loss: 1.8704 - val_acc: 0.3594 - _timestamp: 1648334243.0000 - _runtime: 421.0000\n",
            "Epoch 7/10\n",
            "282/282 [==============================] - 62s 215ms/step - loss: 1.7003 - acc: 0.3948 - val_loss: 1.9498 - val_acc: 0.3483 - _timestamp: 1648334325.0000 - _runtime: 503.0000\n",
            "Epoch 8/10\n",
            "282/282 [==============================] - 62s 215ms/step - loss: 1.6425 - acc: 0.4157 - val_loss: 1.8411 - val_acc: 0.3584 - _timestamp: 1648334387.0000 - _runtime: 565.0000\n",
            "Epoch 9/10\n",
            "282/282 [==============================] - 62s 216ms/step - loss: 1.5633 - acc: 0.4349 - val_loss: 1.8401 - val_acc: 0.3554 - _timestamp: 1648334449.0000 - _runtime: 627.0000\n",
            "Epoch 10/10\n",
            "282/282 [==============================] - 62s 216ms/step - loss: 1.4752 - acc: 0.4769 - val_loss: 1.7846 - val_acc: 0.3984 - _timestamp: 1648334512.0000 - _runtime: 690.0000\n",
            "\n"
          ]
        },
        {
          "output_type": "display_data",
          "data": {
            "text/plain": [
              "<IPython.core.display.HTML object>"
            ],
            "text/html": [
              "Waiting for W&B process to finish... <strong style=\"color:green\">(success).</strong>"
            ]
          },
          "metadata": {}
        },
        {
          "output_type": "display_data",
          "data": {
            "text/plain": [
              "VBox(children=(Label(value='42.469 MB of 42.469 MB uploaded (0.000 MB deduped)\\r'), FloatProgress(value=1.0, m…"
            ],
            "application/vnd.jupyter.widget-view+json": {
              "version_major": 2,
              "version_minor": 0,
              "model_id": "e29531e6d8c9458592c3c43ecec61fe2"
            }
          },
          "metadata": {}
        },
        {
          "output_type": "display_data",
          "data": {
            "text/plain": [
              "<IPython.core.display.HTML object>"
            ],
            "text/html": [
              "<style>\n",
              "    table.wandb td:nth-child(1) { padding: 0 10px; text-align: right }\n",
              "    .wandb-row { display: flex; flex-direction: row; flex-wrap: wrap; width: 100% }\n",
              "    .wandb-col { display: flex; flex-direction: column; flex-basis: 100%; flex: 1; padding: 10px; }\n",
              "    </style>\n",
              "<div class=\"wandb-row\"><div class=\"wandb-col\"><h3>Run history:</h3><br/><table class=\"wandb\"><tr><td>acc</td><td>▁▂▃▄▄▅▆▆▇█</td></tr><tr><td>epoch</td><td>▁▂▃▃▄▅▆▆▇█</td></tr><tr><td>loss</td><td>█▆▅▅▄▄▃▃▂▁</td></tr><tr><td>val_acc</td><td>▁▂▃▅▆▆▅▆▆█</td></tr><tr><td>val_loss</td><td>█▆█▄▃▃▆▃▃▁</td></tr></table><br/></div><div class=\"wandb-col\"><h3>Run summary:</h3><br/><table class=\"wandb\"><tr><td>acc</td><td>0.47689</td></tr><tr><td>best_epoch</td><td>9</td></tr><tr><td>best_val_loss</td><td>1.78462</td></tr><tr><td>epoch</td><td>9</td></tr><tr><td>loss</td><td>1.4752</td></tr><tr><td>val_acc</td><td>0.3984</td></tr><tr><td>val_loss</td><td>1.78462</td></tr></table><br/></div></div>"
            ]
          },
          "metadata": {}
        },
        {
          "output_type": "display_data",
          "data": {
            "text/plain": [
              "<IPython.core.display.HTML object>"
            ],
            "text/html": [
              "Synced <strong style=\"color:#cdcd00\">rosy-sweep-29</strong>: <a href=\"https://wandb.ai/safi-vamsi-cs6910/assgn2%20trial/runs/2xecxpd5\" target=\"_blank\">https://wandb.ai/safi-vamsi-cs6910/assgn2%20trial/runs/2xecxpd5</a><br/>Synced 5 W&B file(s), 1 media file(s), 0 artifact file(s) and 1 other file(s)"
            ]
          },
          "metadata": {}
        },
        {
          "output_type": "display_data",
          "data": {
            "text/plain": [
              "<IPython.core.display.HTML object>"
            ],
            "text/html": [
              "Find logs at: <code>./wandb/run-20220326_223022-2xecxpd5/logs</code>"
            ]
          },
          "metadata": {}
        },
        {
          "output_type": "stream",
          "name": "stderr",
          "text": [
            "\u001b[34m\u001b[1mwandb\u001b[0m: Agent Starting Run: 8dfw0avm with config:\n",
            "\u001b[34m\u001b[1mwandb\u001b[0m: \tbatch_norm: True\n",
            "\u001b[34m\u001b[1mwandb\u001b[0m: \tbatch_size: 32\n",
            "\u001b[34m\u001b[1mwandb\u001b[0m: \tdata_augmentation: False\n",
            "\u001b[34m\u001b[1mwandb\u001b[0m: \tdense_layer: 512\n",
            "\u001b[34m\u001b[1mwandb\u001b[0m: \tdropout: 0.4\n",
            "\u001b[34m\u001b[1mwandb\u001b[0m: \tfilter_org: 1\n",
            "\u001b[34m\u001b[1mwandb\u001b[0m: \tkernel_size: 3\n",
            "\u001b[34m\u001b[1mwandb\u001b[0m: \tlearning_rate: 0.0001\n",
            "\u001b[34m\u001b[1mwandb\u001b[0m: \tnum_epochs: 30\n",
            "\u001b[34m\u001b[1mwandb\u001b[0m: \tnum_filter: 256\n"
          ]
        },
        {
          "output_type": "display_data",
          "data": {
            "text/plain": [
              "<IPython.core.display.HTML object>"
            ],
            "text/html": [
              "Tracking run with wandb version 0.12.11"
            ]
          },
          "metadata": {}
        },
        {
          "output_type": "display_data",
          "data": {
            "text/plain": [
              "<IPython.core.display.HTML object>"
            ],
            "text/html": [
              "Run data is saved locally in <code>/content/wandb/run-20220326_224205-8dfw0avm</code>"
            ]
          },
          "metadata": {}
        },
        {
          "output_type": "display_data",
          "data": {
            "text/plain": [
              "<IPython.core.display.HTML object>"
            ],
            "text/html": [
              "Syncing run <strong><a href=\"https://wandb.ai/safi-vamsi-cs6910/assgn2%20trial/runs/8dfw0avm\" target=\"_blank\">giddy-sweep-30</a></strong> to <a href=\"https://wandb.ai/safi-vamsi-cs6910/assgn2%20trial\" target=\"_blank\">Weights & Biases</a> (<a href=\"https://wandb.me/run\" target=\"_blank\">docs</a>)<br/>Sweep page:  <a href=\"https://wandb.ai/safi-vamsi-cs6910/assgn2%20trial/sweeps/b6ej9uqk\" target=\"_blank\">https://wandb.ai/safi-vamsi-cs6910/assgn2%20trial/sweeps/b6ej9uqk</a>"
            ]
          },
          "metadata": {}
        },
        {
          "output_type": "stream",
          "name": "stdout",
          "text": [
            "Model: \"sequential\"\n",
            "_________________________________________________________________\n",
            " Layer (type)                Output Shape              Param #   \n",
            "=================================================================\n",
            " conv2d (Conv2D)             (None, 254, 254, 32)      896       \n",
            "                                                                 \n",
            " batch_normalization (BatchN  (None, 254, 254, 32)     128       \n",
            " ormalization)                                                   \n",
            "                                                                 \n",
            " activation (Activation)     (None, 254, 254, 32)      0         \n",
            "                                                                 \n",
            " max_pooling2d (MaxPooling2D  (None, 127, 127, 32)     0         \n",
            " )                                                               \n",
            "                                                                 \n",
            " conv2d_1 (Conv2D)           (None, 125, 125, 32)      9248      \n",
            "                                                                 \n",
            " batch_normalization_1 (Batc  (None, 125, 125, 32)     128       \n",
            " hNormalization)                                                 \n",
            "                                                                 \n",
            " activation_1 (Activation)   (None, 125, 125, 32)      0         \n",
            "                                                                 \n",
            " max_pooling2d_1 (MaxPooling  (None, 62, 62, 32)       0         \n",
            " 2D)                                                             \n",
            "                                                                 \n",
            " conv2d_2 (Conv2D)           (None, 60, 60, 32)        9248      \n",
            "                                                                 \n",
            " batch_normalization_2 (Batc  (None, 60, 60, 32)       128       \n",
            " hNormalization)                                                 \n",
            "                                                                 \n",
            " activation_2 (Activation)   (None, 60, 60, 32)        0         \n",
            "                                                                 \n",
            " max_pooling2d_2 (MaxPooling  (None, 30, 30, 32)       0         \n",
            " 2D)                                                             \n",
            "                                                                 \n",
            " conv2d_3 (Conv2D)           (None, 28, 28, 32)        9248      \n",
            "                                                                 \n",
            " batch_normalization_3 (Batc  (None, 28, 28, 32)       128       \n",
            " hNormalization)                                                 \n",
            "                                                                 \n",
            " activation_3 (Activation)   (None, 28, 28, 32)        0         \n",
            "                                                                 \n",
            " max_pooling2d_3 (MaxPooling  (None, 14, 14, 32)       0         \n",
            " 2D)                                                             \n",
            "                                                                 \n",
            " conv2d_4 (Conv2D)           (None, 12, 12, 32)        9248      \n",
            "                                                                 \n",
            " batch_normalization_4 (Batc  (None, 12, 12, 32)       128       \n",
            " hNormalization)                                                 \n",
            "                                                                 \n",
            " activation_4 (Activation)   (None, 12, 12, 32)        0         \n",
            "                                                                 \n",
            " max_pooling2d_4 (MaxPooling  (None, 6, 6, 32)         0         \n",
            " 2D)                                                             \n",
            "                                                                 \n",
            " flatten (Flatten)           (None, 1152)              0         \n",
            "                                                                 \n",
            " dense (Dense)               (None, 512)               590336    \n",
            "                                                                 \n",
            " dropout (Dropout)           (None, 512)               0         \n",
            "                                                                 \n",
            " dense_1 (Dense)             (None, 10)                5130      \n",
            "                                                                 \n",
            "=================================================================\n",
            "Total params: 633,994\n",
            "Trainable params: 633,674\n",
            "Non-trainable params: 320\n",
            "_________________________________________________________________\n",
            "Found 9999 files belonging to 10 classes.\n",
            "Using 9000 files for training.\n",
            "Found 9999 files belonging to 10 classes.\n",
            "Using 999 files for validation.\n",
            "Epoch 1/10\n",
            "282/282 [==============================] - 62s 211ms/step - loss: 2.3233 - acc: 0.1949 - val_loss: 2.0642 - val_acc: 0.2663 - _timestamp: 1648334596.0000 - _runtime: 71.0000\n",
            "Epoch 2/10\n",
            "282/282 [==============================] - 61s 211ms/step - loss: 2.0433 - acc: 0.2726 - val_loss: 1.9860 - val_acc: 0.2913 - _timestamp: 1648334657.0000 - _runtime: 132.0000\n",
            "Epoch 3/10\n",
            "282/282 [==============================] - 61s 210ms/step - loss: 1.9619 - acc: 0.3004 - val_loss: 1.9530 - val_acc: 0.3303 - _timestamp: 1648334717.0000 - _runtime: 192.0000\n",
            "Epoch 4/10\n",
            "282/282 [==============================] - 60s 209ms/step - loss: 1.8869 - acc: 0.3349 - val_loss: 1.9611 - val_acc: 0.3213 - _timestamp: 1648334778.0000 - _runtime: 253.0000\n",
            "Epoch 5/10\n",
            "282/282 [==============================] - 60s 209ms/step - loss: 1.8332 - acc: 0.3549 - val_loss: 1.9592 - val_acc: 0.3103 - _timestamp: 1648334860.0000 - _runtime: 335.0000\n",
            "Epoch 6/10\n",
            "282/282 [==============================] - 60s 209ms/step - loss: 1.7800 - acc: 0.3740 - val_loss: 1.9091 - val_acc: 0.3203 - _timestamp: 1648334920.0000 - _runtime: 395.0000\n",
            "Epoch 7/10\n",
            "282/282 [==============================] - 60s 209ms/step - loss: 1.7309 - acc: 0.3898 - val_loss: 1.9845 - val_acc: 0.3093 - _timestamp: 1648334980.0000 - _runtime: 455.0000\n",
            "Epoch 8/10\n",
            "282/282 [==============================] - 61s 210ms/step - loss: 1.6796 - acc: 0.4144 - val_loss: 1.9334 - val_acc: 0.3273 - _timestamp: 1648335062.0000 - _runtime: 537.0000\n",
            "Epoch 9/10\n",
            "282/282 [==============================] - 60s 209ms/step - loss: 1.6178 - acc: 0.4333 - val_loss: 1.9299 - val_acc: 0.3183 - _timestamp: 1648335144.0000 - _runtime: 619.0000\n",
            "Epoch 10/10\n",
            "282/282 [==============================] - 61s 210ms/step - loss: 1.5672 - acc: 0.4639 - val_loss: 1.9013 - val_acc: 0.3413 - _timestamp: 1648335205.0000 - _runtime: 680.0000\n",
            "\n"
          ]
        },
        {
          "output_type": "display_data",
          "data": {
            "text/plain": [
              "<IPython.core.display.HTML object>"
            ],
            "text/html": [
              "Waiting for W&B process to finish... <strong style=\"color:green\">(success).</strong>"
            ]
          },
          "metadata": {}
        },
        {
          "output_type": "display_data",
          "data": {
            "text/plain": [
              "VBox(children=(Label(value='7.378 MB of 7.378 MB uploaded (0.000 MB deduped)\\r'), FloatProgress(value=1.0, max…"
            ],
            "application/vnd.jupyter.widget-view+json": {
              "version_major": 2,
              "version_minor": 0,
              "model_id": "6728de67aa7644968a5675eb7c205fc2"
            }
          },
          "metadata": {}
        },
        {
          "output_type": "display_data",
          "data": {
            "text/plain": [
              "<IPython.core.display.HTML object>"
            ],
            "text/html": [
              "<style>\n",
              "    table.wandb td:nth-child(1) { padding: 0 10px; text-align: right }\n",
              "    .wandb-row { display: flex; flex-direction: row; flex-wrap: wrap; width: 100% }\n",
              "    .wandb-col { display: flex; flex-direction: column; flex-basis: 100%; flex: 1; padding: 10px; }\n",
              "    </style>\n",
              "<div class=\"wandb-row\"><div class=\"wandb-col\"><h3>Run history:</h3><br/><table class=\"wandb\"><tr><td>acc</td><td>▁▃▄▅▅▆▆▇▇█</td></tr><tr><td>epoch</td><td>▁▂▃▃▄▅▆▆▇█</td></tr><tr><td>loss</td><td>█▅▅▄▃▃▃▂▁▁</td></tr><tr><td>val_acc</td><td>▁▃▇▆▅▆▅▇▆█</td></tr><tr><td>val_loss</td><td>█▅▃▄▃▁▅▂▂▁</td></tr></table><br/></div><div class=\"wandb-col\"><h3>Run summary:</h3><br/><table class=\"wandb\"><tr><td>acc</td><td>0.46389</td></tr><tr><td>best_epoch</td><td>9</td></tr><tr><td>best_val_loss</td><td>1.90135</td></tr><tr><td>epoch</td><td>9</td></tr><tr><td>loss</td><td>1.56717</td></tr><tr><td>val_acc</td><td>0.34134</td></tr><tr><td>val_loss</td><td>1.90135</td></tr></table><br/></div></div>"
            ]
          },
          "metadata": {}
        },
        {
          "output_type": "display_data",
          "data": {
            "text/plain": [
              "<IPython.core.display.HTML object>"
            ],
            "text/html": [
              "Synced <strong style=\"color:#cdcd00\">giddy-sweep-30</strong>: <a href=\"https://wandb.ai/safi-vamsi-cs6910/assgn2%20trial/runs/8dfw0avm\" target=\"_blank\">https://wandb.ai/safi-vamsi-cs6910/assgn2%20trial/runs/8dfw0avm</a><br/>Synced 5 W&B file(s), 1 media file(s), 0 artifact file(s) and 1 other file(s)"
            ]
          },
          "metadata": {}
        },
        {
          "output_type": "display_data",
          "data": {
            "text/plain": [
              "<IPython.core.display.HTML object>"
            ],
            "text/html": [
              "Find logs at: <code>./wandb/run-20220326_224205-8dfw0avm/logs</code>"
            ]
          },
          "metadata": {}
        },
        {
          "output_type": "stream",
          "name": "stderr",
          "text": [
            "\u001b[34m\u001b[1mwandb\u001b[0m: Agent Starting Run: avxcmuf0 with config:\n",
            "\u001b[34m\u001b[1mwandb\u001b[0m: \tbatch_norm: True\n",
            "\u001b[34m\u001b[1mwandb\u001b[0m: \tbatch_size: 32\n",
            "\u001b[34m\u001b[1mwandb\u001b[0m: \tdata_augmentation: True\n",
            "\u001b[34m\u001b[1mwandb\u001b[0m: \tdense_layer: 128\n",
            "\u001b[34m\u001b[1mwandb\u001b[0m: \tdropout: 0.4\n",
            "\u001b[34m\u001b[1mwandb\u001b[0m: \tfilter_org: 1\n",
            "\u001b[34m\u001b[1mwandb\u001b[0m: \tkernel_size: 3\n",
            "\u001b[34m\u001b[1mwandb\u001b[0m: \tlearning_rate: 0.001\n",
            "\u001b[34m\u001b[1mwandb\u001b[0m: \tnum_epochs: 30\n",
            "\u001b[34m\u001b[1mwandb\u001b[0m: \tnum_filter: 256\n"
          ]
        },
        {
          "output_type": "display_data",
          "data": {
            "text/plain": [
              "<IPython.core.display.HTML object>"
            ],
            "text/html": [
              "Tracking run with wandb version 0.12.11"
            ]
          },
          "metadata": {}
        },
        {
          "output_type": "display_data",
          "data": {
            "text/plain": [
              "<IPython.core.display.HTML object>"
            ],
            "text/html": [
              "Run data is saved locally in <code>/content/wandb/run-20220326_225359-avxcmuf0</code>"
            ]
          },
          "metadata": {}
        },
        {
          "output_type": "display_data",
          "data": {
            "text/plain": [
              "<IPython.core.display.HTML object>"
            ],
            "text/html": [
              "Syncing run <strong><a href=\"https://wandb.ai/safi-vamsi-cs6910/assgn2%20trial/runs/avxcmuf0\" target=\"_blank\">deep-sweep-31</a></strong> to <a href=\"https://wandb.ai/safi-vamsi-cs6910/assgn2%20trial\" target=\"_blank\">Weights & Biases</a> (<a href=\"https://wandb.me/run\" target=\"_blank\">docs</a>)<br/>Sweep page:  <a href=\"https://wandb.ai/safi-vamsi-cs6910/assgn2%20trial/sweeps/b6ej9uqk\" target=\"_blank\">https://wandb.ai/safi-vamsi-cs6910/assgn2%20trial/sweeps/b6ej9uqk</a>"
            ]
          },
          "metadata": {}
        },
        {
          "output_type": "stream",
          "name": "stdout",
          "text": [
            "Model: \"sequential\"\n",
            "_________________________________________________________________\n",
            " Layer (type)                Output Shape              Param #   \n",
            "=================================================================\n",
            " conv2d (Conv2D)             (None, 254, 254, 32)      896       \n",
            "                                                                 \n",
            " batch_normalization (BatchN  (None, 254, 254, 32)     128       \n",
            " ormalization)                                                   \n",
            "                                                                 \n",
            " activation (Activation)     (None, 254, 254, 32)      0         \n",
            "                                                                 \n",
            " max_pooling2d (MaxPooling2D  (None, 127, 127, 32)     0         \n",
            " )                                                               \n",
            "                                                                 \n",
            " conv2d_1 (Conv2D)           (None, 125, 125, 32)      9248      \n",
            "                                                                 \n",
            " batch_normalization_1 (Batc  (None, 125, 125, 32)     128       \n",
            " hNormalization)                                                 \n",
            "                                                                 \n",
            " activation_1 (Activation)   (None, 125, 125, 32)      0         \n",
            "                                                                 \n",
            " max_pooling2d_1 (MaxPooling  (None, 62, 62, 32)       0         \n",
            " 2D)                                                             \n",
            "                                                                 \n",
            " conv2d_2 (Conv2D)           (None, 60, 60, 32)        9248      \n",
            "                                                                 \n",
            " batch_normalization_2 (Batc  (None, 60, 60, 32)       128       \n",
            " hNormalization)                                                 \n",
            "                                                                 \n",
            " activation_2 (Activation)   (None, 60, 60, 32)        0         \n",
            "                                                                 \n",
            " max_pooling2d_2 (MaxPooling  (None, 30, 30, 32)       0         \n",
            " 2D)                                                             \n",
            "                                                                 \n",
            " conv2d_3 (Conv2D)           (None, 28, 28, 32)        9248      \n",
            "                                                                 \n",
            " batch_normalization_3 (Batc  (None, 28, 28, 32)       128       \n",
            " hNormalization)                                                 \n",
            "                                                                 \n",
            " activation_3 (Activation)   (None, 28, 28, 32)        0         \n",
            "                                                                 \n",
            " max_pooling2d_3 (MaxPooling  (None, 14, 14, 32)       0         \n",
            " 2D)                                                             \n",
            "                                                                 \n",
            " conv2d_4 (Conv2D)           (None, 12, 12, 32)        9248      \n",
            "                                                                 \n",
            " batch_normalization_4 (Batc  (None, 12, 12, 32)       128       \n",
            " hNormalization)                                                 \n",
            "                                                                 \n",
            " activation_4 (Activation)   (None, 12, 12, 32)        0         \n",
            "                                                                 \n",
            " max_pooling2d_4 (MaxPooling  (None, 6, 6, 32)         0         \n",
            " 2D)                                                             \n",
            "                                                                 \n",
            " flatten (Flatten)           (None, 1152)              0         \n",
            "                                                                 \n",
            " dense (Dense)               (None, 128)               147584    \n",
            "                                                                 \n",
            " dropout (Dropout)           (None, 128)               0         \n",
            "                                                                 \n",
            " dense_1 (Dense)             (None, 10)                1290      \n",
            "                                                                 \n",
            "=================================================================\n",
            "Total params: 187,402\n",
            "Trainable params: 187,082\n",
            "Non-trainable params: 320\n",
            "_________________________________________________________________\n",
            "\n"
          ]
        },
        {
          "output_type": "display_data",
          "data": {
            "text/plain": [
              "<IPython.core.display.HTML object>"
            ],
            "text/html": [
              "Waiting for W&B process to finish... <strong style=\"color:red\">(failed 1).</strong> Press Control-C to abort syncing."
            ]
          },
          "metadata": {}
        },
        {
          "output_type": "display_data",
          "data": {
            "text/plain": [
              "VBox(children=(Label(value='0.001 MB of 0.001 MB uploaded (0.000 MB deduped)\\r'), FloatProgress(value=1.0, max…"
            ],
            "application/vnd.jupyter.widget-view+json": {
              "version_major": 2,
              "version_minor": 0,
              "model_id": "a3611e3808474ad093865a99fc2d05a0"
            }
          },
          "metadata": {}
        },
        {
          "output_type": "display_data",
          "data": {
            "text/plain": [
              "<IPython.core.display.HTML object>"
            ],
            "text/html": [
              "Synced <strong style=\"color:#cdcd00\">deep-sweep-31</strong>: <a href=\"https://wandb.ai/safi-vamsi-cs6910/assgn2%20trial/runs/avxcmuf0\" target=\"_blank\">https://wandb.ai/safi-vamsi-cs6910/assgn2%20trial/runs/avxcmuf0</a><br/>Synced 5 W&B file(s), 0 media file(s), 0 artifact file(s) and 0 other file(s)"
            ]
          },
          "metadata": {}
        },
        {
          "output_type": "display_data",
          "data": {
            "text/plain": [
              "<IPython.core.display.HTML object>"
            ],
            "text/html": [
              "Find logs at: <code>./wandb/run-20220326_225359-avxcmuf0/logs</code>"
            ]
          },
          "metadata": {}
        },
        {
          "output_type": "stream",
          "name": "stderr",
          "text": [
            "Run avxcmuf0 errored: NameError(\"name 'path' is not defined\")\n",
            "\u001b[34m\u001b[1mwandb\u001b[0m: \u001b[32m\u001b[41mERROR\u001b[0m Run avxcmuf0 errored: NameError(\"name 'path' is not defined\")\n",
            "\u001b[34m\u001b[1mwandb\u001b[0m: Agent Starting Run: 9g2vsoy1 with config:\n",
            "\u001b[34m\u001b[1mwandb\u001b[0m: \tbatch_norm: True\n",
            "\u001b[34m\u001b[1mwandb\u001b[0m: \tbatch_size: 32\n",
            "\u001b[34m\u001b[1mwandb\u001b[0m: \tdata_augmentation: False\n",
            "\u001b[34m\u001b[1mwandb\u001b[0m: \tdense_layer: 512\n",
            "\u001b[34m\u001b[1mwandb\u001b[0m: \tdropout: 0\n",
            "\u001b[34m\u001b[1mwandb\u001b[0m: \tfilter_org: 0.5\n",
            "\u001b[34m\u001b[1mwandb\u001b[0m: \tkernel_size: 5\n",
            "\u001b[34m\u001b[1mwandb\u001b[0m: \tlearning_rate: 0.0001\n",
            "\u001b[34m\u001b[1mwandb\u001b[0m: \tnum_epochs: 10\n",
            "\u001b[34m\u001b[1mwandb\u001b[0m: \tnum_filter: 256\n"
          ]
        },
        {
          "output_type": "display_data",
          "data": {
            "text/plain": [
              "<IPython.core.display.HTML object>"
            ],
            "text/html": [
              "Tracking run with wandb version 0.12.11"
            ]
          },
          "metadata": {}
        },
        {
          "output_type": "display_data",
          "data": {
            "text/plain": [
              "<IPython.core.display.HTML object>"
            ],
            "text/html": [
              "Run data is saved locally in <code>/content/wandb/run-20220326_225420-9g2vsoy1</code>"
            ]
          },
          "metadata": {}
        },
        {
          "output_type": "display_data",
          "data": {
            "text/plain": [
              "<IPython.core.display.HTML object>"
            ],
            "text/html": [
              "Syncing run <strong><a href=\"https://wandb.ai/safi-vamsi-cs6910/assgn2%20trial/runs/9g2vsoy1\" target=\"_blank\">tough-sweep-32</a></strong> to <a href=\"https://wandb.ai/safi-vamsi-cs6910/assgn2%20trial\" target=\"_blank\">Weights & Biases</a> (<a href=\"https://wandb.me/run\" target=\"_blank\">docs</a>)<br/>Sweep page:  <a href=\"https://wandb.ai/safi-vamsi-cs6910/assgn2%20trial/sweeps/b6ej9uqk\" target=\"_blank\">https://wandb.ai/safi-vamsi-cs6910/assgn2%20trial/sweeps/b6ej9uqk</a>"
            ]
          },
          "metadata": {}
        },
        {
          "output_type": "stream",
          "name": "stdout",
          "text": [
            "Model: \"sequential\"\n",
            "_________________________________________________________________\n",
            " Layer (type)                Output Shape              Param #   \n",
            "=================================================================\n",
            " conv2d (Conv2D)             (None, 252, 252, 32)      2432      \n",
            "                                                                 \n",
            " batch_normalization (BatchN  (None, 252, 252, 32)     128       \n",
            " ormalization)                                                   \n",
            "                                                                 \n",
            " activation (Activation)     (None, 252, 252, 32)      0         \n",
            "                                                                 \n",
            " max_pooling2d (MaxPooling2D  (None, 126, 126, 32)     0         \n",
            " )                                                               \n",
            "                                                                 \n",
            " conv2d_1 (Conv2D)           (None, 122, 122, 16)      12816     \n",
            "                                                                 \n",
            " batch_normalization_1 (Batc  (None, 122, 122, 16)     64        \n",
            " hNormalization)                                                 \n",
            "                                                                 \n",
            " activation_1 (Activation)   (None, 122, 122, 16)      0         \n",
            "                                                                 \n",
            " max_pooling2d_1 (MaxPooling  (None, 61, 61, 16)       0         \n",
            " 2D)                                                             \n",
            "                                                                 \n",
            " conv2d_2 (Conv2D)           (None, 57, 57, 8)         3208      \n",
            "                                                                 \n",
            " batch_normalization_2 (Batc  (None, 57, 57, 8)        32        \n",
            " hNormalization)                                                 \n",
            "                                                                 \n",
            " activation_2 (Activation)   (None, 57, 57, 8)         0         \n",
            "                                                                 \n",
            " max_pooling2d_2 (MaxPooling  (None, 28, 28, 8)        0         \n",
            " 2D)                                                             \n",
            "                                                                 \n",
            " conv2d_3 (Conv2D)           (None, 24, 24, 4)         804       \n",
            "                                                                 \n",
            " batch_normalization_3 (Batc  (None, 24, 24, 4)        16        \n",
            " hNormalization)                                                 \n",
            "                                                                 \n",
            " activation_3 (Activation)   (None, 24, 24, 4)         0         \n",
            "                                                                 \n",
            " max_pooling2d_3 (MaxPooling  (None, 12, 12, 4)        0         \n",
            " 2D)                                                             \n",
            "                                                                 \n",
            " conv2d_4 (Conv2D)           (None, 8, 8, 2)           202       \n",
            "                                                                 \n",
            " batch_normalization_4 (Batc  (None, 8, 8, 2)          8         \n",
            " hNormalization)                                                 \n",
            "                                                                 \n",
            " activation_4 (Activation)   (None, 8, 8, 2)           0         \n",
            "                                                                 \n",
            " max_pooling2d_4 (MaxPooling  (None, 4, 4, 2)          0         \n",
            " 2D)                                                             \n",
            "                                                                 \n",
            " flatten (Flatten)           (None, 32)                0         \n",
            "                                                                 \n",
            " dense (Dense)               (None, 512)               16896     \n",
            "                                                                 \n",
            " dropout (Dropout)           (None, 512)               0         \n",
            "                                                                 \n",
            " dense_1 (Dense)             (None, 10)                5130      \n",
            "                                                                 \n",
            "=================================================================\n",
            "Total params: 41,736\n",
            "Trainable params: 41,612\n",
            "Non-trainable params: 124\n",
            "_________________________________________________________________\n",
            "Found 9999 files belonging to 10 classes.\n",
            "Using 9000 files for training.\n",
            "Found 9999 files belonging to 10 classes.\n",
            "Using 999 files for validation.\n",
            "Epoch 1/10\n",
            "282/282 [==============================] - 62s 211ms/step - loss: 2.2647 - acc: 0.1541 - val_loss: 2.2302 - val_acc: 0.1572 - _timestamp: 1648335331.0000 - _runtime: 71.0000\n",
            "Epoch 2/10\n",
            "282/282 [==============================] - 61s 211ms/step - loss: 2.1919 - acc: 0.2010 - val_loss: 2.1816 - val_acc: 0.2092 - _timestamp: 1648335412.0000 - _runtime: 152.0000\n",
            "Epoch 3/10\n",
            "282/282 [==============================] - 61s 210ms/step - loss: 2.1420 - acc: 0.2286 - val_loss: 2.1401 - val_acc: 0.2282 - _timestamp: 1648335494.0000 - _runtime: 234.0000\n",
            "Epoch 4/10\n",
            "282/282 [==============================] - 61s 211ms/step - loss: 2.1080 - acc: 0.2392 - val_loss: 2.1355 - val_acc: 0.2232 - _timestamp: 1648335576.0000 - _runtime: 316.0000\n",
            "Epoch 5/10\n",
            "282/282 [==============================] - 61s 211ms/step - loss: 2.0825 - acc: 0.2447 - val_loss: 2.1410 - val_acc: 0.2232 - _timestamp: 1648335637.0000 - _runtime: 377.0000\n",
            "Epoch 6/10\n",
            "282/282 [==============================] - 60s 210ms/step - loss: 2.0572 - acc: 0.2562 - val_loss: 2.1282 - val_acc: 0.2212 - _timestamp: 1648335697.0000 - _runtime: 437.0000\n",
            "Epoch 7/10\n",
            "282/282 [==============================] - 61s 211ms/step - loss: 2.0435 - acc: 0.2664 - val_loss: 2.1102 - val_acc: 0.2412 - _timestamp: 1648335758.0000 - _runtime: 498.0000\n",
            "Epoch 8/10\n",
            "282/282 [==============================] - 61s 211ms/step - loss: 2.0260 - acc: 0.2669 - val_loss: 2.1052 - val_acc: 0.2332 - _timestamp: 1648335819.0000 - _runtime: 559.0000\n",
            "Epoch 9/10\n",
            "282/282 [==============================] - 60s 210ms/step - loss: 2.0116 - acc: 0.2758 - val_loss: 2.1121 - val_acc: 0.2382 - _timestamp: 1648335880.0000 - _runtime: 620.0000\n",
            "Epoch 10/10\n",
            "282/282 [==============================] - 60s 209ms/step - loss: 1.9861 - acc: 0.2832 - val_loss: 2.1076 - val_acc: 0.2312 - _timestamp: 1648335961.0000 - _runtime: 701.0000\n",
            "\n"
          ]
        },
        {
          "output_type": "display_data",
          "data": {
            "text/plain": [
              "<IPython.core.display.HTML object>"
            ],
            "text/html": [
              "Waiting for W&B process to finish... <strong style=\"color:green\">(success).</strong>"
            ]
          },
          "metadata": {}
        },
        {
          "output_type": "display_data",
          "data": {
            "text/plain": [
              "VBox(children=(Label(value='0.600 MB of 0.600 MB uploaded (0.000 MB deduped)\\r'), FloatProgress(value=1.0, max…"
            ],
            "application/vnd.jupyter.widget-view+json": {
              "version_major": 2,
              "version_minor": 0,
              "model_id": "355ad12fe84a4ba1b18fc9c3a15baba2"
            }
          },
          "metadata": {}
        },
        {
          "output_type": "display_data",
          "data": {
            "text/plain": [
              "<IPython.core.display.HTML object>"
            ],
            "text/html": [
              "<style>\n",
              "    table.wandb td:nth-child(1) { padding: 0 10px; text-align: right }\n",
              "    .wandb-row { display: flex; flex-direction: row; flex-wrap: wrap; width: 100% }\n",
              "    .wandb-col { display: flex; flex-direction: column; flex-basis: 100%; flex: 1; padding: 10px; }\n",
              "    </style>\n",
              "<div class=\"wandb-row\"><div class=\"wandb-col\"><h3>Run history:</h3><br/><table class=\"wandb\"><tr><td>acc</td><td>▁▄▅▆▆▇▇▇██</td></tr><tr><td>epoch</td><td>▁▂▃▃▄▅▆▆▇█</td></tr><tr><td>loss</td><td>█▆▅▄▃▃▂▂▂▁</td></tr><tr><td>val_acc</td><td>▁▅▇▆▆▆█▇█▇</td></tr><tr><td>val_loss</td><td>█▅▃▃▃▂▁▁▁▁</td></tr></table><br/></div><div class=\"wandb-col\"><h3>Run summary:</h3><br/><table class=\"wandb\"><tr><td>acc</td><td>0.28322</td></tr><tr><td>best_epoch</td><td>7</td></tr><tr><td>best_val_loss</td><td>2.10515</td></tr><tr><td>epoch</td><td>9</td></tr><tr><td>loss</td><td>1.98611</td></tr><tr><td>val_acc</td><td>0.23123</td></tr><tr><td>val_loss</td><td>2.10758</td></tr></table><br/></div></div>"
            ]
          },
          "metadata": {}
        },
        {
          "output_type": "display_data",
          "data": {
            "text/plain": [
              "<IPython.core.display.HTML object>"
            ],
            "text/html": [
              "Synced <strong style=\"color:#cdcd00\">tough-sweep-32</strong>: <a href=\"https://wandb.ai/safi-vamsi-cs6910/assgn2%20trial/runs/9g2vsoy1\" target=\"_blank\">https://wandb.ai/safi-vamsi-cs6910/assgn2%20trial/runs/9g2vsoy1</a><br/>Synced 5 W&B file(s), 1 media file(s), 0 artifact file(s) and 1 other file(s)"
            ]
          },
          "metadata": {}
        },
        {
          "output_type": "display_data",
          "data": {
            "text/plain": [
              "<IPython.core.display.HTML object>"
            ],
            "text/html": [
              "Find logs at: <code>./wandb/run-20220326_225420-9g2vsoy1/logs</code>"
            ]
          },
          "metadata": {}
        },
        {
          "output_type": "stream",
          "name": "stderr",
          "text": [
            "\u001b[34m\u001b[1mwandb\u001b[0m: Sweep Agent: Waiting for job.\n",
            "\u001b[34m\u001b[1mwandb\u001b[0m: Job received.\n",
            "\u001b[34m\u001b[1mwandb\u001b[0m: Agent Starting Run: agpd5feo with config:\n",
            "\u001b[34m\u001b[1mwandb\u001b[0m: \tbatch_norm: True\n",
            "\u001b[34m\u001b[1mwandb\u001b[0m: \tbatch_size: 128\n",
            "\u001b[34m\u001b[1mwandb\u001b[0m: \tdata_augmentation: False\n",
            "\u001b[34m\u001b[1mwandb\u001b[0m: \tdense_layer: 512\n",
            "\u001b[34m\u001b[1mwandb\u001b[0m: \tdropout: 0.4\n",
            "\u001b[34m\u001b[1mwandb\u001b[0m: \tfilter_org: 2\n",
            "\u001b[34m\u001b[1mwandb\u001b[0m: \tkernel_size: 3\n",
            "\u001b[34m\u001b[1mwandb\u001b[0m: \tlearning_rate: 0.001\n",
            "\u001b[34m\u001b[1mwandb\u001b[0m: \tnum_epochs: 10\n",
            "\u001b[34m\u001b[1mwandb\u001b[0m: \tnum_filter: 128\n"
          ]
        },
        {
          "output_type": "display_data",
          "data": {
            "text/plain": [
              "<IPython.core.display.HTML object>"
            ],
            "text/html": [
              "Tracking run with wandb version 0.12.11"
            ]
          },
          "metadata": {}
        },
        {
          "output_type": "display_data",
          "data": {
            "text/plain": [
              "<IPython.core.display.HTML object>"
            ],
            "text/html": [
              "Run data is saved locally in <code>/content/wandb/run-20220326_230645-agpd5feo</code>"
            ]
          },
          "metadata": {}
        },
        {
          "output_type": "display_data",
          "data": {
            "text/plain": [
              "<IPython.core.display.HTML object>"
            ],
            "text/html": [
              "Syncing run <strong><a href=\"https://wandb.ai/safi-vamsi-cs6910/assgn2%20trial/runs/agpd5feo\" target=\"_blank\">treasured-sweep-33</a></strong> to <a href=\"https://wandb.ai/safi-vamsi-cs6910/assgn2%20trial\" target=\"_blank\">Weights & Biases</a> (<a href=\"https://wandb.me/run\" target=\"_blank\">docs</a>)<br/>Sweep page:  <a href=\"https://wandb.ai/safi-vamsi-cs6910/assgn2%20trial/sweeps/b6ej9uqk\" target=\"_blank\">https://wandb.ai/safi-vamsi-cs6910/assgn2%20trial/sweeps/b6ej9uqk</a>"
            ]
          },
          "metadata": {}
        },
        {
          "output_type": "stream",
          "name": "stdout",
          "text": [
            "Model: \"sequential\"\n",
            "_________________________________________________________________\n",
            " Layer (type)                Output Shape              Param #   \n",
            "=================================================================\n",
            " conv2d (Conv2D)             (None, 254, 254, 32)      896       \n",
            "                                                                 \n",
            " batch_normalization (BatchN  (None, 254, 254, 32)     128       \n",
            " ormalization)                                                   \n",
            "                                                                 \n",
            " activation (Activation)     (None, 254, 254, 32)      0         \n",
            "                                                                 \n",
            " max_pooling2d (MaxPooling2D  (None, 127, 127, 32)     0         \n",
            " )                                                               \n",
            "                                                                 \n",
            " conv2d_1 (Conv2D)           (None, 125, 125, 64)      18496     \n",
            "                                                                 \n",
            " batch_normalization_1 (Batc  (None, 125, 125, 64)     256       \n",
            " hNormalization)                                                 \n",
            "                                                                 \n",
            " activation_1 (Activation)   (None, 125, 125, 64)      0         \n",
            "                                                                 \n",
            " max_pooling2d_1 (MaxPooling  (None, 62, 62, 64)       0         \n",
            " 2D)                                                             \n",
            "                                                                 \n",
            " conv2d_2 (Conv2D)           (None, 60, 60, 128)       73856     \n",
            "                                                                 \n",
            " batch_normalization_2 (Batc  (None, 60, 60, 128)      512       \n",
            " hNormalization)                                                 \n",
            "                                                                 \n",
            " activation_2 (Activation)   (None, 60, 60, 128)       0         \n",
            "                                                                 \n",
            " max_pooling2d_2 (MaxPooling  (None, 30, 30, 128)      0         \n",
            " 2D)                                                             \n",
            "                                                                 \n",
            " conv2d_3 (Conv2D)           (None, 28, 28, 256)       295168    \n",
            "                                                                 \n",
            " batch_normalization_3 (Batc  (None, 28, 28, 256)      1024      \n",
            " hNormalization)                                                 \n",
            "                                                                 \n",
            " activation_3 (Activation)   (None, 28, 28, 256)       0         \n",
            "                                                                 \n",
            " max_pooling2d_3 (MaxPooling  (None, 14, 14, 256)      0         \n",
            " 2D)                                                             \n",
            "                                                                 \n",
            " conv2d_4 (Conv2D)           (None, 12, 12, 512)       1180160   \n",
            "                                                                 \n",
            " batch_normalization_4 (Batc  (None, 12, 12, 512)      2048      \n",
            " hNormalization)                                                 \n",
            "                                                                 \n",
            " activation_4 (Activation)   (None, 12, 12, 512)       0         \n",
            "                                                                 \n",
            " max_pooling2d_4 (MaxPooling  (None, 6, 6, 512)        0         \n",
            " 2D)                                                             \n",
            "                                                                 \n",
            " flatten (Flatten)           (None, 18432)             0         \n",
            "                                                                 \n",
            " dense (Dense)               (None, 512)               9437696   \n",
            "                                                                 \n",
            " dropout (Dropout)           (None, 512)               0         \n",
            "                                                                 \n",
            " dense_1 (Dense)             (None, 10)                5130      \n",
            "                                                                 \n",
            "=================================================================\n",
            "Total params: 11,015,370\n",
            "Trainable params: 11,013,386\n",
            "Non-trainable params: 1,984\n",
            "_________________________________________________________________\n",
            "Found 9999 files belonging to 10 classes.\n",
            "Using 9000 files for training.\n",
            "Found 9999 files belonging to 10 classes.\n",
            "Using 999 files for validation.\n",
            "Epoch 1/10\n",
            "282/282 [==============================] - 65s 218ms/step - loss: 2.2807 - acc: 0.2249 - val_loss: 2.0738 - val_acc: 0.2422 - _timestamp: 1648336079.0000 - _runtime: 74.0000\n",
            "Epoch 2/10\n",
            "282/282 [==============================] - 63s 216ms/step - loss: 2.0415 - acc: 0.2710 - val_loss: 1.9782 - val_acc: 0.3103 - _timestamp: 1648336142.0000 - _runtime: 137.0000\n",
            "Epoch 3/10\n",
            "282/282 [==============================] - 62s 216ms/step - loss: 1.9734 - acc: 0.2989 - val_loss: 1.9249 - val_acc: 0.3343 - _timestamp: 1648336223.0000 - _runtime: 218.0000\n",
            "Epoch 4/10\n",
            "282/282 [==============================] - 62s 216ms/step - loss: 1.9076 - acc: 0.3191 - val_loss: 1.9072 - val_acc: 0.3343 - _timestamp: 1648336305.0000 - _runtime: 300.0000\n",
            "Epoch 5/10\n",
            "282/282 [==============================] - 62s 216ms/step - loss: 1.8391 - acc: 0.3524 - val_loss: 2.1569 - val_acc: 0.2523 - _timestamp: 1648336387.0000 - _runtime: 382.0000\n",
            "Epoch 6/10\n",
            "282/282 [==============================] - 62s 216ms/step - loss: 1.7825 - acc: 0.3671 - val_loss: 2.2411 - val_acc: 0.2673 - _timestamp: 1648336449.0000 - _runtime: 444.0000\n",
            "Epoch 7/10\n",
            "282/282 [==============================] - 62s 216ms/step - loss: 1.7143 - acc: 0.3971 - val_loss: 1.9682 - val_acc: 0.3233 - _timestamp: 1648336511.0000 - _runtime: 506.0000\n",
            "Epoch 8/10\n",
            "282/282 [==============================] - 62s 217ms/step - loss: 1.6388 - acc: 0.4243 - val_loss: 1.7994 - val_acc: 0.3794 - _timestamp: 1648336593.0000 - _runtime: 588.0000\n",
            "Epoch 9/10\n",
            "282/282 [==============================] - 62s 215ms/step - loss: 1.5475 - acc: 0.4542 - val_loss: 1.8454 - val_acc: 0.3744 - _timestamp: 1648336675.0000 - _runtime: 670.0000\n",
            "Epoch 10/10\n",
            "282/282 [==============================] - 62s 215ms/step - loss: 1.4753 - acc: 0.4734 - val_loss: 1.8004 - val_acc: 0.3664 - _timestamp: 1648336737.0000 - _runtime: 732.0000\n",
            "\n"
          ]
        },
        {
          "output_type": "display_data",
          "data": {
            "text/plain": [
              "<IPython.core.display.HTML object>"
            ],
            "text/html": [
              "Waiting for W&B process to finish... <strong style=\"color:green\">(success).</strong>"
            ]
          },
          "metadata": {}
        },
        {
          "output_type": "display_data",
          "data": {
            "text/plain": [
              "VBox(children=(Label(value='126.171 MB of 126.171 MB uploaded (0.000 MB deduped)\\r'), FloatProgress(value=1.0,…"
            ],
            "application/vnd.jupyter.widget-view+json": {
              "version_major": 2,
              "version_minor": 0,
              "model_id": "f2cbe6cdcb7143a5986cdf243ef704d1"
            }
          },
          "metadata": {}
        },
        {
          "output_type": "display_data",
          "data": {
            "text/plain": [
              "<IPython.core.display.HTML object>"
            ],
            "text/html": [
              "<style>\n",
              "    table.wandb td:nth-child(1) { padding: 0 10px; text-align: right }\n",
              "    .wandb-row { display: flex; flex-direction: row; flex-wrap: wrap; width: 100% }\n",
              "    .wandb-col { display: flex; flex-direction: column; flex-basis: 100%; flex: 1; padding: 10px; }\n",
              "    </style>\n",
              "<div class=\"wandb-row\"><div class=\"wandb-col\"><h3>Run history:</h3><br/><table class=\"wandb\"><tr><td>acc</td><td>▁▂▃▄▅▅▆▇▇█</td></tr><tr><td>epoch</td><td>▁▂▃▃▄▅▆▆▇█</td></tr><tr><td>loss</td><td>█▆▅▅▄▄▃▂▂▁</td></tr><tr><td>val_acc</td><td>▁▄▆▆▂▂▅██▇</td></tr><tr><td>val_loss</td><td>▅▄▃▃▇█▄▁▂▁</td></tr></table><br/></div><div class=\"wandb-col\"><h3>Run summary:</h3><br/><table class=\"wandb\"><tr><td>acc</td><td>0.47344</td></tr><tr><td>best_epoch</td><td>7</td></tr><tr><td>best_val_loss</td><td>1.79939</td></tr><tr><td>epoch</td><td>9</td></tr><tr><td>loss</td><td>1.47532</td></tr><tr><td>val_acc</td><td>0.36637</td></tr><tr><td>val_loss</td><td>1.80042</td></tr></table><br/></div></div>"
            ]
          },
          "metadata": {}
        },
        {
          "output_type": "display_data",
          "data": {
            "text/plain": [
              "<IPython.core.display.HTML object>"
            ],
            "text/html": [
              "Synced <strong style=\"color:#cdcd00\">treasured-sweep-33</strong>: <a href=\"https://wandb.ai/safi-vamsi-cs6910/assgn2%20trial/runs/agpd5feo\" target=\"_blank\">https://wandb.ai/safi-vamsi-cs6910/assgn2%20trial/runs/agpd5feo</a><br/>Synced 5 W&B file(s), 1 media file(s), 0 artifact file(s) and 1 other file(s)"
            ]
          },
          "metadata": {}
        },
        {
          "output_type": "display_data",
          "data": {
            "text/plain": [
              "<IPython.core.display.HTML object>"
            ],
            "text/html": [
              "Find logs at: <code>./wandb/run-20220326_230645-agpd5feo/logs</code>"
            ]
          },
          "metadata": {}
        },
        {
          "output_type": "stream",
          "name": "stderr",
          "text": [
            "\u001b[34m\u001b[1mwandb\u001b[0m: Agent Starting Run: uwrvc3mh with config:\n",
            "\u001b[34m\u001b[1mwandb\u001b[0m: \tbatch_norm: True\n",
            "\u001b[34m\u001b[1mwandb\u001b[0m: \tbatch_size: 128\n",
            "\u001b[34m\u001b[1mwandb\u001b[0m: \tdata_augmentation: False\n",
            "\u001b[34m\u001b[1mwandb\u001b[0m: \tdense_layer: 512\n",
            "\u001b[34m\u001b[1mwandb\u001b[0m: \tdropout: 0.4\n",
            "\u001b[34m\u001b[1mwandb\u001b[0m: \tfilter_org: 0.5\n",
            "\u001b[34m\u001b[1mwandb\u001b[0m: \tkernel_size: 3\n",
            "\u001b[34m\u001b[1mwandb\u001b[0m: \tlearning_rate: 0.001\n",
            "\u001b[34m\u001b[1mwandb\u001b[0m: \tnum_epochs: 30\n",
            "\u001b[34m\u001b[1mwandb\u001b[0m: \tnum_filter: 64\n"
          ]
        },
        {
          "output_type": "display_data",
          "data": {
            "text/plain": [
              "<IPython.core.display.HTML object>"
            ],
            "text/html": [
              "Tracking run with wandb version 0.12.11"
            ]
          },
          "metadata": {}
        },
        {
          "output_type": "display_data",
          "data": {
            "text/plain": [
              "<IPython.core.display.HTML object>"
            ],
            "text/html": [
              "Run data is saved locally in <code>/content/wandb/run-20220326_231909-uwrvc3mh</code>"
            ]
          },
          "metadata": {}
        },
        {
          "output_type": "display_data",
          "data": {
            "text/plain": [
              "<IPython.core.display.HTML object>"
            ],
            "text/html": [
              "Syncing run <strong><a href=\"https://wandb.ai/safi-vamsi-cs6910/assgn2%20trial/runs/uwrvc3mh\" target=\"_blank\">unique-sweep-34</a></strong> to <a href=\"https://wandb.ai/safi-vamsi-cs6910/assgn2%20trial\" target=\"_blank\">Weights & Biases</a> (<a href=\"https://wandb.me/run\" target=\"_blank\">docs</a>)<br/>Sweep page:  <a href=\"https://wandb.ai/safi-vamsi-cs6910/assgn2%20trial/sweeps/b6ej9uqk\" target=\"_blank\">https://wandb.ai/safi-vamsi-cs6910/assgn2%20trial/sweeps/b6ej9uqk</a>"
            ]
          },
          "metadata": {}
        },
        {
          "output_type": "stream",
          "name": "stdout",
          "text": [
            "Model: \"sequential\"\n",
            "_________________________________________________________________\n",
            " Layer (type)                Output Shape              Param #   \n",
            "=================================================================\n",
            " conv2d (Conv2D)             (None, 254, 254, 32)      896       \n",
            "                                                                 \n",
            " batch_normalization (BatchN  (None, 254, 254, 32)     128       \n",
            " ormalization)                                                   \n",
            "                                                                 \n",
            " activation (Activation)     (None, 254, 254, 32)      0         \n",
            "                                                                 \n",
            " max_pooling2d (MaxPooling2D  (None, 127, 127, 32)     0         \n",
            " )                                                               \n",
            "                                                                 \n",
            " conv2d_1 (Conv2D)           (None, 125, 125, 16)      4624      \n",
            "                                                                 \n",
            " batch_normalization_1 (Batc  (None, 125, 125, 16)     64        \n",
            " hNormalization)                                                 \n",
            "                                                                 \n",
            " activation_1 (Activation)   (None, 125, 125, 16)      0         \n",
            "                                                                 \n",
            " max_pooling2d_1 (MaxPooling  (None, 62, 62, 16)       0         \n",
            " 2D)                                                             \n",
            "                                                                 \n",
            " conv2d_2 (Conv2D)           (None, 60, 60, 8)         1160      \n",
            "                                                                 \n",
            " batch_normalization_2 (Batc  (None, 60, 60, 8)        32        \n",
            " hNormalization)                                                 \n",
            "                                                                 \n",
            " activation_2 (Activation)   (None, 60, 60, 8)         0         \n",
            "                                                                 \n",
            " max_pooling2d_2 (MaxPooling  (None, 30, 30, 8)        0         \n",
            " 2D)                                                             \n",
            "                                                                 \n",
            " conv2d_3 (Conv2D)           (None, 28, 28, 4)         292       \n",
            "                                                                 \n",
            " batch_normalization_3 (Batc  (None, 28, 28, 4)        16        \n",
            " hNormalization)                                                 \n",
            "                                                                 \n",
            " activation_3 (Activation)   (None, 28, 28, 4)         0         \n",
            "                                                                 \n",
            " max_pooling2d_3 (MaxPooling  (None, 14, 14, 4)        0         \n",
            " 2D)                                                             \n",
            "                                                                 \n",
            " conv2d_4 (Conv2D)           (None, 12, 12, 2)         74        \n",
            "                                                                 \n",
            " batch_normalization_4 (Batc  (None, 12, 12, 2)        8         \n",
            " hNormalization)                                                 \n",
            "                                                                 \n",
            " activation_4 (Activation)   (None, 12, 12, 2)         0         \n",
            "                                                                 \n",
            " max_pooling2d_4 (MaxPooling  (None, 6, 6, 2)          0         \n",
            " 2D)                                                             \n",
            "                                                                 \n",
            " flatten (Flatten)           (None, 72)                0         \n",
            "                                                                 \n",
            " dense (Dense)               (None, 512)               37376     \n",
            "                                                                 \n",
            " dropout (Dropout)           (None, 512)               0         \n",
            "                                                                 \n",
            " dense_1 (Dense)             (None, 10)                5130      \n",
            "                                                                 \n",
            "=================================================================\n",
            "Total params: 49,800\n",
            "Trainable params: 49,676\n",
            "Non-trainable params: 124\n",
            "_________________________________________________________________\n",
            "Found 9999 files belonging to 10 classes.\n",
            "Using 9000 files for training.\n",
            "Found 9999 files belonging to 10 classes.\n",
            "Using 999 files for validation.\n",
            "Epoch 1/10\n",
            "282/282 [==============================] - 62s 210ms/step - loss: 2.3405 - acc: 0.1290 - val_loss: 2.2375 - val_acc: 0.1752 - _timestamp: 1648336820.0000 - _runtime: 71.0000\n",
            "Epoch 2/10\n",
            "282/282 [==============================] - 60s 210ms/step - loss: 2.2376 - acc: 0.1759 - val_loss: 2.1922 - val_acc: 0.2002 - _timestamp: 1648336881.0000 - _runtime: 132.0000\n",
            "Epoch 3/10\n",
            "282/282 [==============================] - 61s 210ms/step - loss: 2.1863 - acc: 0.2028 - val_loss: 2.1695 - val_acc: 0.2042 - _timestamp: 1648336941.0000 - _runtime: 192.0000\n",
            "Epoch 4/10\n",
            "282/282 [==============================] - 60s 210ms/step - loss: 2.1546 - acc: 0.2167 - val_loss: 2.1324 - val_acc: 0.2442 - _timestamp: 1648337002.0000 - _runtime: 253.0000\n",
            "Epoch 5/10\n",
            "282/282 [==============================] - 61s 211ms/step - loss: 2.1254 - acc: 0.2316 - val_loss: 2.1271 - val_acc: 0.2412 - _timestamp: 1648337062.0000 - _runtime: 313.0000\n",
            "Epoch 6/10\n",
            "282/282 [==============================] - 61s 210ms/step - loss: 2.0965 - acc: 0.2449 - val_loss: 2.1197 - val_acc: 0.2573 - _timestamp: 1648337123.0000 - _runtime: 374.0000\n",
            "Epoch 7/10\n",
            "282/282 [==============================] - 60s 209ms/step - loss: 2.0755 - acc: 0.2530 - val_loss: 2.1022 - val_acc: 0.2603 - _timestamp: 1648337205.0000 - _runtime: 456.0000\n",
            "Epoch 8/10\n",
            "282/282 [==============================] - 60s 209ms/step - loss: 2.0568 - acc: 0.2593 - val_loss: 2.1012 - val_acc: 0.2513 - _timestamp: 1648337287.0000 - _runtime: 538.0000\n",
            "Epoch 9/10\n",
            "282/282 [==============================] - 60s 209ms/step - loss: 2.0431 - acc: 0.2656 - val_loss: 2.0952 - val_acc: 0.2503 - _timestamp: 1648337368.0000 - _runtime: 619.0000\n",
            "Epoch 10/10\n",
            "282/282 [==============================] - 61s 213ms/step - loss: 2.0362 - acc: 0.2651 - val_loss: 2.0937 - val_acc: 0.2563 - _timestamp: 1648337451.0000 - _runtime: 702.0000\n",
            "\n"
          ]
        },
        {
          "output_type": "display_data",
          "data": {
            "text/plain": [
              "<IPython.core.display.HTML object>"
            ],
            "text/html": [
              "Waiting for W&B process to finish... <strong style=\"color:green\">(success).</strong>"
            ]
          },
          "metadata": {}
        },
        {
          "output_type": "display_data",
          "data": {
            "text/plain": [
              "VBox(children=(Label(value='0.694 MB of 0.694 MB uploaded (0.000 MB deduped)\\r'), FloatProgress(value=1.0, max…"
            ],
            "application/vnd.jupyter.widget-view+json": {
              "version_major": 2,
              "version_minor": 0,
              "model_id": "03ff619cca184c17a6bff661e0518155"
            }
          },
          "metadata": {}
        },
        {
          "output_type": "display_data",
          "data": {
            "text/plain": [
              "<IPython.core.display.HTML object>"
            ],
            "text/html": [
              "<style>\n",
              "    table.wandb td:nth-child(1) { padding: 0 10px; text-align: right }\n",
              "    .wandb-row { display: flex; flex-direction: row; flex-wrap: wrap; width: 100% }\n",
              "    .wandb-col { display: flex; flex-direction: column; flex-basis: 100%; flex: 1; padding: 10px; }\n",
              "    </style>\n",
              "<div class=\"wandb-row\"><div class=\"wandb-col\"><h3>Run history:</h3><br/><table class=\"wandb\"><tr><td>acc</td><td>▁▃▅▅▆▇▇███</td></tr><tr><td>epoch</td><td>▁▂▃▃▄▅▆▆▇█</td></tr><tr><td>loss</td><td>█▆▄▄▃▂▂▁▁▁</td></tr><tr><td>val_acc</td><td>▁▃▃▇▆██▇▇█</td></tr><tr><td>val_loss</td><td>█▆▅▃▃▂▁▁▁▁</td></tr></table><br/></div><div class=\"wandb-col\"><h3>Run summary:</h3><br/><table class=\"wandb\"><tr><td>acc</td><td>0.26511</td></tr><tr><td>best_epoch</td><td>9</td></tr><tr><td>best_val_loss</td><td>2.0937</td></tr><tr><td>epoch</td><td>9</td></tr><tr><td>loss</td><td>2.03621</td></tr><tr><td>val_acc</td><td>0.25626</td></tr><tr><td>val_loss</td><td>2.0937</td></tr></table><br/></div></div>"
            ]
          },
          "metadata": {}
        },
        {
          "output_type": "display_data",
          "data": {
            "text/plain": [
              "<IPython.core.display.HTML object>"
            ],
            "text/html": [
              "Synced <strong style=\"color:#cdcd00\">unique-sweep-34</strong>: <a href=\"https://wandb.ai/safi-vamsi-cs6910/assgn2%20trial/runs/uwrvc3mh\" target=\"_blank\">https://wandb.ai/safi-vamsi-cs6910/assgn2%20trial/runs/uwrvc3mh</a><br/>Synced 5 W&B file(s), 1 media file(s), 0 artifact file(s) and 1 other file(s)"
            ]
          },
          "metadata": {}
        },
        {
          "output_type": "display_data",
          "data": {
            "text/plain": [
              "<IPython.core.display.HTML object>"
            ],
            "text/html": [
              "Find logs at: <code>./wandb/run-20220326_231909-uwrvc3mh/logs</code>"
            ]
          },
          "metadata": {}
        },
        {
          "output_type": "stream",
          "name": "stderr",
          "text": [
            "\u001b[34m\u001b[1mwandb\u001b[0m: Agent Starting Run: 5stlgwy0 with config:\n",
            "\u001b[34m\u001b[1mwandb\u001b[0m: \tbatch_norm: True\n",
            "\u001b[34m\u001b[1mwandb\u001b[0m: \tbatch_size: 128\n",
            "\u001b[34m\u001b[1mwandb\u001b[0m: \tdata_augmentation: False\n",
            "\u001b[34m\u001b[1mwandb\u001b[0m: \tdense_layer: 128\n",
            "\u001b[34m\u001b[1mwandb\u001b[0m: \tdropout: 0.4\n",
            "\u001b[34m\u001b[1mwandb\u001b[0m: \tfilter_org: 2\n",
            "\u001b[34m\u001b[1mwandb\u001b[0m: \tkernel_size: 3\n",
            "\u001b[34m\u001b[1mwandb\u001b[0m: \tlearning_rate: 0.0001\n",
            "\u001b[34m\u001b[1mwandb\u001b[0m: \tnum_epochs: 10\n",
            "\u001b[34m\u001b[1mwandb\u001b[0m: \tnum_filter: 256\n"
          ]
        },
        {
          "output_type": "display_data",
          "data": {
            "text/plain": [
              "<IPython.core.display.HTML object>"
            ],
            "text/html": [
              "Tracking run with wandb version 0.12.11"
            ]
          },
          "metadata": {}
        },
        {
          "output_type": "display_data",
          "data": {
            "text/plain": [
              "<IPython.core.display.HTML object>"
            ],
            "text/html": [
              "Run data is saved locally in <code>/content/wandb/run-20220326_233123-5stlgwy0</code>"
            ]
          },
          "metadata": {}
        },
        {
          "output_type": "display_data",
          "data": {
            "text/plain": [
              "<IPython.core.display.HTML object>"
            ],
            "text/html": [
              "Syncing run <strong><a href=\"https://wandb.ai/safi-vamsi-cs6910/assgn2%20trial/runs/5stlgwy0\" target=\"_blank\">glorious-sweep-35</a></strong> to <a href=\"https://wandb.ai/safi-vamsi-cs6910/assgn2%20trial\" target=\"_blank\">Weights & Biases</a> (<a href=\"https://wandb.me/run\" target=\"_blank\">docs</a>)<br/>Sweep page:  <a href=\"https://wandb.ai/safi-vamsi-cs6910/assgn2%20trial/sweeps/b6ej9uqk\" target=\"_blank\">https://wandb.ai/safi-vamsi-cs6910/assgn2%20trial/sweeps/b6ej9uqk</a>"
            ]
          },
          "metadata": {}
        },
        {
          "output_type": "stream",
          "name": "stdout",
          "text": [
            "Model: \"sequential\"\n",
            "_________________________________________________________________\n",
            " Layer (type)                Output Shape              Param #   \n",
            "=================================================================\n",
            " conv2d (Conv2D)             (None, 254, 254, 32)      896       \n",
            "                                                                 \n",
            " batch_normalization (BatchN  (None, 254, 254, 32)     128       \n",
            " ormalization)                                                   \n",
            "                                                                 \n",
            " activation (Activation)     (None, 254, 254, 32)      0         \n",
            "                                                                 \n",
            " max_pooling2d (MaxPooling2D  (None, 127, 127, 32)     0         \n",
            " )                                                               \n",
            "                                                                 \n",
            " conv2d_1 (Conv2D)           (None, 125, 125, 64)      18496     \n",
            "                                                                 \n",
            " batch_normalization_1 (Batc  (None, 125, 125, 64)     256       \n",
            " hNormalization)                                                 \n",
            "                                                                 \n",
            " activation_1 (Activation)   (None, 125, 125, 64)      0         \n",
            "                                                                 \n",
            " max_pooling2d_1 (MaxPooling  (None, 62, 62, 64)       0         \n",
            " 2D)                                                             \n",
            "                                                                 \n",
            " conv2d_2 (Conv2D)           (None, 60, 60, 128)       73856     \n",
            "                                                                 \n",
            " batch_normalization_2 (Batc  (None, 60, 60, 128)      512       \n",
            " hNormalization)                                                 \n",
            "                                                                 \n",
            " activation_2 (Activation)   (None, 60, 60, 128)       0         \n",
            "                                                                 \n",
            " max_pooling2d_2 (MaxPooling  (None, 30, 30, 128)      0         \n",
            " 2D)                                                             \n",
            "                                                                 \n",
            " conv2d_3 (Conv2D)           (None, 28, 28, 256)       295168    \n",
            "                                                                 \n",
            " batch_normalization_3 (Batc  (None, 28, 28, 256)      1024      \n",
            " hNormalization)                                                 \n",
            "                                                                 \n",
            " activation_3 (Activation)   (None, 28, 28, 256)       0         \n",
            "                                                                 \n",
            " max_pooling2d_3 (MaxPooling  (None, 14, 14, 256)      0         \n",
            " 2D)                                                             \n",
            "                                                                 \n",
            " conv2d_4 (Conv2D)           (None, 12, 12, 512)       1180160   \n",
            "                                                                 \n",
            " batch_normalization_4 (Batc  (None, 12, 12, 512)      2048      \n",
            " hNormalization)                                                 \n",
            "                                                                 \n",
            " activation_4 (Activation)   (None, 12, 12, 512)       0         \n",
            "                                                                 \n",
            " max_pooling2d_4 (MaxPooling  (None, 6, 6, 512)        0         \n",
            " 2D)                                                             \n",
            "                                                                 \n",
            " flatten (Flatten)           (None, 18432)             0         \n",
            "                                                                 \n",
            " dense (Dense)               (None, 128)               2359424   \n",
            "                                                                 \n",
            " dropout (Dropout)           (None, 128)               0         \n",
            "                                                                 \n",
            " dense_1 (Dense)             (None, 10)                1290      \n",
            "                                                                 \n",
            "=================================================================\n",
            "Total params: 3,933,258\n",
            "Trainable params: 3,931,274\n",
            "Non-trainable params: 1,984\n",
            "_________________________________________________________________\n",
            "Found 9999 files belonging to 10 classes.\n",
            "Using 9000 files for training.\n",
            "Found 9999 files belonging to 10 classes.\n",
            "Using 999 files for validation.\n",
            "Epoch 1/10\n",
            "282/282 [==============================] - 64s 217ms/step - loss: 2.2697 - acc: 0.1743 - val_loss: 2.1698 - val_acc: 0.2462 - _timestamp: 1648337556.0000 - _runtime: 73.0000\n",
            "Epoch 2/10\n",
            "282/282 [==============================] - 63s 217ms/step - loss: 2.1813 - acc: 0.1970 - val_loss: 2.1041 - val_acc: 0.2292 - _timestamp: 1648337619.0000 - _runtime: 136.0000\n",
            "Epoch 3/10\n",
            "282/282 [==============================] - 62s 216ms/step - loss: 2.1330 - acc: 0.2157 - val_loss: 2.0696 - val_acc: 0.2713 - _timestamp: 1648337681.0000 - _runtime: 198.0000\n",
            "Epoch 4/10\n",
            "282/282 [==============================] - 62s 215ms/step - loss: 2.0885 - acc: 0.2410 - val_loss: 2.0486 - val_acc: 0.2593 - _timestamp: 1648337763.0000 - _runtime: 280.0000\n",
            "Epoch 5/10\n",
            "282/282 [==============================] - 62s 215ms/step - loss: 2.0358 - acc: 0.2537 - val_loss: 2.0514 - val_acc: 0.2763 - _timestamp: 1648337845.0000 - _runtime: 362.0000\n",
            "Epoch 6/10\n",
            "282/282 [==============================] - 62s 216ms/step - loss: 1.9797 - acc: 0.2790 - val_loss: 1.9809 - val_acc: 0.3113 - _timestamp: 1648337927.0000 - _runtime: 444.0000\n",
            "Epoch 7/10\n",
            "282/282 [==============================] - 62s 217ms/step - loss: 1.9132 - acc: 0.2969 - val_loss: 1.9641 - val_acc: 0.3223 - _timestamp: 1648338009.0000 - _runtime: 526.0000\n",
            "Epoch 8/10\n",
            "282/282 [==============================] - 62s 214ms/step - loss: 1.8528 - acc: 0.3161 - val_loss: 1.9317 - val_acc: 0.3393 - _timestamp: 1648338071.0000 - _runtime: 588.0000\n",
            "Epoch 9/10\n",
            "282/282 [==============================] - 62s 214ms/step - loss: 1.7960 - acc: 0.3384 - val_loss: 1.9429 - val_acc: 0.3243 - _timestamp: 1648338153.0000 - _runtime: 670.0000\n",
            "Epoch 10/10\n",
            "282/282 [==============================] - 62s 215ms/step - loss: 1.7138 - acc: 0.3694 - val_loss: 1.8908 - val_acc: 0.3383 - _timestamp: 1648338215.0000 - _runtime: 732.0000\n",
            "\n"
          ]
        },
        {
          "output_type": "display_data",
          "data": {
            "text/plain": [
              "<IPython.core.display.HTML object>"
            ],
            "text/html": [
              "Waiting for W&B process to finish... <strong style=\"color:green\">(success).</strong>"
            ]
          },
          "metadata": {}
        },
        {
          "output_type": "display_data",
          "data": {
            "text/plain": [
              "VBox(children=(Label(value='45.122 MB of 45.122 MB uploaded (0.000 MB deduped)\\r'), FloatProgress(value=1.0, m…"
            ],
            "application/vnd.jupyter.widget-view+json": {
              "version_major": 2,
              "version_minor": 0,
              "model_id": "8ed1b9fe019249adaef56295d3520617"
            }
          },
          "metadata": {}
        },
        {
          "output_type": "display_data",
          "data": {
            "text/plain": [
              "<IPython.core.display.HTML object>"
            ],
            "text/html": [
              "<style>\n",
              "    table.wandb td:nth-child(1) { padding: 0 10px; text-align: right }\n",
              "    .wandb-row { display: flex; flex-direction: row; flex-wrap: wrap; width: 100% }\n",
              "    .wandb-col { display: flex; flex-direction: column; flex-basis: 100%; flex: 1; padding: 10px; }\n",
              "    </style>\n",
              "<div class=\"wandb-row\"><div class=\"wandb-col\"><h3>Run history:</h3><br/><table class=\"wandb\"><tr><td>acc</td><td>▁▂▂▃▄▅▅▆▇█</td></tr><tr><td>epoch</td><td>▁▂▃▃▄▅▆▆▇█</td></tr><tr><td>loss</td><td>█▇▆▆▅▄▄▃▂▁</td></tr><tr><td>val_acc</td><td>▂▁▄▃▄▆▇█▇█</td></tr><tr><td>val_loss</td><td>█▆▅▅▅▃▃▂▂▁</td></tr></table><br/></div><div class=\"wandb-col\"><h3>Run summary:</h3><br/><table class=\"wandb\"><tr><td>acc</td><td>0.36944</td></tr><tr><td>best_epoch</td><td>9</td></tr><tr><td>best_val_loss</td><td>1.89083</td></tr><tr><td>epoch</td><td>9</td></tr><tr><td>loss</td><td>1.71381</td></tr><tr><td>val_acc</td><td>0.33834</td></tr><tr><td>val_loss</td><td>1.89083</td></tr></table><br/></div></div>"
            ]
          },
          "metadata": {}
        },
        {
          "output_type": "display_data",
          "data": {
            "text/plain": [
              "<IPython.core.display.HTML object>"
            ],
            "text/html": [
              "Synced <strong style=\"color:#cdcd00\">glorious-sweep-35</strong>: <a href=\"https://wandb.ai/safi-vamsi-cs6910/assgn2%20trial/runs/5stlgwy0\" target=\"_blank\">https://wandb.ai/safi-vamsi-cs6910/assgn2%20trial/runs/5stlgwy0</a><br/>Synced 5 W&B file(s), 1 media file(s), 0 artifact file(s) and 1 other file(s)"
            ]
          },
          "metadata": {}
        },
        {
          "output_type": "display_data",
          "data": {
            "text/plain": [
              "<IPython.core.display.HTML object>"
            ],
            "text/html": [
              "Find logs at: <code>./wandb/run-20220326_233123-5stlgwy0/logs</code>"
            ]
          },
          "metadata": {}
        },
        {
          "output_type": "stream",
          "name": "stderr",
          "text": [
            "\u001b[34m\u001b[1mwandb\u001b[0m: Agent Starting Run: w69fy4yr with config:\n",
            "\u001b[34m\u001b[1mwandb\u001b[0m: \tbatch_norm: True\n",
            "\u001b[34m\u001b[1mwandb\u001b[0m: \tbatch_size: 128\n",
            "\u001b[34m\u001b[1mwandb\u001b[0m: \tdata_augmentation: False\n",
            "\u001b[34m\u001b[1mwandb\u001b[0m: \tdense_layer: 128\n",
            "\u001b[34m\u001b[1mwandb\u001b[0m: \tdropout: 0.4\n",
            "\u001b[34m\u001b[1mwandb\u001b[0m: \tfilter_org: 2\n",
            "\u001b[34m\u001b[1mwandb\u001b[0m: \tkernel_size: 5\n",
            "\u001b[34m\u001b[1mwandb\u001b[0m: \tlearning_rate: 0.0001\n",
            "\u001b[34m\u001b[1mwandb\u001b[0m: \tnum_epochs: 10\n",
            "\u001b[34m\u001b[1mwandb\u001b[0m: \tnum_filter: 256\n"
          ]
        },
        {
          "output_type": "display_data",
          "data": {
            "text/plain": [
              "<IPython.core.display.HTML object>"
            ],
            "text/html": [
              "Tracking run with wandb version 0.12.11"
            ]
          },
          "metadata": {}
        },
        {
          "output_type": "display_data",
          "data": {
            "text/plain": [
              "<IPython.core.display.HTML object>"
            ],
            "text/html": [
              "Run data is saved locally in <code>/content/wandb/run-20220326_234408-w69fy4yr</code>"
            ]
          },
          "metadata": {}
        },
        {
          "output_type": "display_data",
          "data": {
            "text/plain": [
              "<IPython.core.display.HTML object>"
            ],
            "text/html": [
              "Syncing run <strong><a href=\"https://wandb.ai/safi-vamsi-cs6910/assgn2%20trial/runs/w69fy4yr\" target=\"_blank\">faithful-sweep-36</a></strong> to <a href=\"https://wandb.ai/safi-vamsi-cs6910/assgn2%20trial\" target=\"_blank\">Weights & Biases</a> (<a href=\"https://wandb.me/run\" target=\"_blank\">docs</a>)<br/>Sweep page:  <a href=\"https://wandb.ai/safi-vamsi-cs6910/assgn2%20trial/sweeps/b6ej9uqk\" target=\"_blank\">https://wandb.ai/safi-vamsi-cs6910/assgn2%20trial/sweeps/b6ej9uqk</a>"
            ]
          },
          "metadata": {}
        },
        {
          "output_type": "stream",
          "name": "stdout",
          "text": [
            "Model: \"sequential\"\n",
            "_________________________________________________________________\n",
            " Layer (type)                Output Shape              Param #   \n",
            "=================================================================\n",
            " conv2d (Conv2D)             (None, 252, 252, 32)      2432      \n",
            "                                                                 \n",
            " batch_normalization (BatchN  (None, 252, 252, 32)     128       \n",
            " ormalization)                                                   \n",
            "                                                                 \n",
            " activation (Activation)     (None, 252, 252, 32)      0         \n",
            "                                                                 \n",
            " max_pooling2d (MaxPooling2D  (None, 126, 126, 32)     0         \n",
            " )                                                               \n",
            "                                                                 \n",
            " conv2d_1 (Conv2D)           (None, 122, 122, 64)      51264     \n",
            "                                                                 \n",
            " batch_normalization_1 (Batc  (None, 122, 122, 64)     256       \n",
            " hNormalization)                                                 \n",
            "                                                                 \n",
            " activation_1 (Activation)   (None, 122, 122, 64)      0         \n",
            "                                                                 \n",
            " max_pooling2d_1 (MaxPooling  (None, 61, 61, 64)       0         \n",
            " 2D)                                                             \n",
            "                                                                 \n",
            " conv2d_2 (Conv2D)           (None, 57, 57, 128)       204928    \n",
            "                                                                 \n",
            " batch_normalization_2 (Batc  (None, 57, 57, 128)      512       \n",
            " hNormalization)                                                 \n",
            "                                                                 \n",
            " activation_2 (Activation)   (None, 57, 57, 128)       0         \n",
            "                                                                 \n",
            " max_pooling2d_2 (MaxPooling  (None, 28, 28, 128)      0         \n",
            " 2D)                                                             \n",
            "                                                                 \n",
            " conv2d_3 (Conv2D)           (None, 24, 24, 256)       819456    \n",
            "                                                                 \n",
            " batch_normalization_3 (Batc  (None, 24, 24, 256)      1024      \n",
            " hNormalization)                                                 \n",
            "                                                                 \n",
            " activation_3 (Activation)   (None, 24, 24, 256)       0         \n",
            "                                                                 \n",
            " max_pooling2d_3 (MaxPooling  (None, 12, 12, 256)      0         \n",
            " 2D)                                                             \n",
            "                                                                 \n",
            " conv2d_4 (Conv2D)           (None, 8, 8, 512)         3277312   \n",
            "                                                                 \n",
            " batch_normalization_4 (Batc  (None, 8, 8, 512)        2048      \n",
            " hNormalization)                                                 \n",
            "                                                                 \n",
            " activation_4 (Activation)   (None, 8, 8, 512)         0         \n",
            "                                                                 \n",
            " max_pooling2d_4 (MaxPooling  (None, 4, 4, 512)        0         \n",
            " 2D)                                                             \n",
            "                                                                 \n",
            " flatten (Flatten)           (None, 8192)              0         \n",
            "                                                                 \n",
            " dense (Dense)               (None, 128)               1048704   \n",
            "                                                                 \n",
            " dropout (Dropout)           (None, 128)               0         \n",
            "                                                                 \n",
            " dense_1 (Dense)             (None, 10)                1290      \n",
            "                                                                 \n",
            "=================================================================\n",
            "Total params: 5,409,354\n",
            "Trainable params: 5,407,370\n",
            "Non-trainable params: 1,984\n",
            "_________________________________________________________________\n",
            "Found 9999 files belonging to 10 classes.\n",
            "Using 9000 files for training.\n",
            "Found 9999 files belonging to 10 classes.\n",
            "Using 999 files for validation.\n",
            "Epoch 1/10\n",
            "282/282 [==============================] - 66s 222ms/step - loss: 2.2242 - acc: 0.2092 - val_loss: 2.1515 - val_acc: 0.2122 - _timestamp: 1648338323.0000 - _runtime: 75.0000\n",
            "Epoch 2/10\n",
            "282/282 [==============================] - 64s 222ms/step - loss: 2.1006 - acc: 0.2501 - val_loss: 2.0249 - val_acc: 0.2633 - _timestamp: 1648338404.0000 - _runtime: 156.0000\n",
            "Epoch 3/10\n",
            "282/282 [==============================] - 68s 235ms/step - loss: 2.0287 - acc: 0.2729 - val_loss: 2.0628 - val_acc: 0.2693 - _timestamp: 1648338471.0000 - _runtime: 223.0000\n",
            "Epoch 4/10\n",
            "282/282 [==============================] - 63s 219ms/step - loss: 1.9776 - acc: 0.2979 - val_loss: 2.0343 - val_acc: 0.2883 - _timestamp: 1648338534.0000 - _runtime: 286.0000\n",
            "Epoch 5/10\n",
            "282/282 [==============================] - 63s 220ms/step - loss: 1.9225 - acc: 0.3200 - val_loss: 2.0306 - val_acc: 0.2883 - _timestamp: 1648338598.0000 - _runtime: 350.0000\n",
            "Epoch 6/10\n",
            "282/282 [==============================] - 64s 221ms/step - loss: 1.8595 - acc: 0.3324 - val_loss: 1.9830 - val_acc: 0.3083 - _timestamp: 1648338661.0000 - _runtime: 413.0000\n",
            "Epoch 7/10\n",
            "282/282 [==============================] - 63s 220ms/step - loss: 1.7850 - acc: 0.3619 - val_loss: 1.9591 - val_acc: 0.3103 - _timestamp: 1648338725.0000 - _runtime: 477.0000\n",
            "Epoch 8/10\n",
            "282/282 [==============================] - 64s 222ms/step - loss: 1.6826 - acc: 0.4012 - val_loss: 1.9411 - val_acc: 0.3373 - _timestamp: 1648338807.0000 - _runtime: 559.0000\n",
            "Epoch 9/10\n",
            "282/282 [==============================] - 63s 218ms/step - loss: 1.6010 - acc: 0.4302 - val_loss: 1.8960 - val_acc: 0.3333 - _timestamp: 1648338888.0000 - _runtime: 640.0000\n",
            "Epoch 10/10\n",
            "146/282 [==============>...............] - ETA: 27s - loss: 1.5338 - acc: 0.4583"
          ]
        },
        {
          "output_type": "stream",
          "name": "stderr",
          "text": [
            "\u001b[34m\u001b[1mwandb\u001b[0m: Ctrl + C detected. Stopping sweep.\n"
          ]
        }
      ]
    }
  ]
}