{
  "nbformat": 4,
  "nbformat_minor": 0,
  "metadata": {
    "colab": {
      "name": "CS6910-Assignment2",
      "provenance": [],
      "collapsed_sections": [],
      "authorship_tag": "ABX9TyOajaCiDDCvqUK27MDJ4IuK",
      "include_colab_link": true
    },
    "kernelspec": {
      "name": "python3",
      "display_name": "Python 3"
    },
    "language_info": {
      "name": "python"
    },
    "accelerator": "GPU"
  },
  "cells": [
    {
      "cell_type": "markdown",
      "metadata": {
        "id": "view-in-github",
        "colab_type": "text"
      },
      "source": [
        "<a href=\"https://colab.research.google.com/github/safikhanSoofiyani/CS6910-Assignment-2/blob/main/CS6910_Assignment2.ipynb\" target=\"_parent\"><img src=\"https://colab.research.google.com/assets/colab-badge.svg\" alt=\"Open In Colab\"/></a>"
      ]
    },
    {
      "cell_type": "code",
      "execution_count": 3,
      "metadata": {
        "id": "3Sq11UttEtFE"
      },
      "outputs": [],
      "source": [
        "import numpy as np\n",
        "import tensorflow as tf\n",
        "\n",
        "# Importing libraries related to Image Preprocessing\n",
        "from tensorflow.keras.utils import image_dataset_from_directory\n",
        "from tensorflow.keras.preprocessing.image import ImageDataGenerator\n",
        "from tensorflow.keras.layers.experimental.preprocessing import Rescaling\n",
        "\n",
        "# Importing libraries related to CNN Model building\n",
        "from tensorflow import keras\n",
        "from tensorflow.keras.models import Sequential,Model\n",
        "from tensorflow.keras.layers import Dense,Flatten,Conv2D,MaxPool2D,Activation,Dropout,BatchNormalization\n",
        "\n",
        "\n"
      ]
    },
    {
      "cell_type": "code",
      "source": [
        "# !pip install wandb\n",
        "# import wandb"
      ],
      "metadata": {
        "id": "ZRsWFbsjFs8w"
      },
      "execution_count": null,
      "outputs": []
    },
    {
      "cell_type": "code",
      "source": [
        "from google.colab import drive\n",
        "drive.mount('/content/drive')"
      ],
      "metadata": {
        "id": "CY6uKcSlGSjG"
      },
      "execution_count": null,
      "outputs": []
    },
    {
      "cell_type": "code",
      "source": [
        "# Creating a CNN: number of filters, size of filters, activation function has to be \n",
        "# user specified\n",
        "\n",
        "def build_cnn(conv_act , dense_act,num_filters, conv_filter_size, pool_filter_size, batch_norm, dim_final, dropout):\n",
        "  # conv_act         : \"String\" activation used for convolution layer\n",
        "  # dense_act        : \"String\" acitvation used for densely connected layers\n",
        "  # conv_filter_size : \"List\" kernel sizes for convultion layers\n",
        "  # pool_filter_size : \"List\" kernel sizes for maxpooling layers\n",
        "  # batch_norm       : \"Boolean\" set to True, if you are using batch normalization\n",
        "  # dim_final        : \"Integer\" dimensionality of output space after 5 blocks of convultion, maxpooling blocks\n",
        "  # dropout          : \"float or double\" specify the dropout % for regularization (in decimals)\n",
        "  \n",
        "  model=Sequential()\n",
        "  # Adding the first conv,activ,maxpool layers\n",
        "  model.add(Conv2D(filters=num_filters[0],\n",
        "                   kernel_size=conv_filter_size[0],\n",
        "                   input_shape=img_shape))\n",
        "  \n",
        "  # Add batch normalization layer, if the user specifies\n",
        "  if batch_norm:\n",
        "    model.add(BatchNormalization())\n",
        "  \n",
        "  model.add(Activation(conv_act[0]))\n",
        "  model.add(MaxPool2D(pool_size=pool_filter_size[0],strides=(2,2)))\n",
        "\n",
        "  # Adding the next 4 layer blocks\n",
        "  for i in range(1,5):\n",
        "    model.add(Conv2D(filters=num_filters[i],kernel_size=conv_filter_size[i])\n",
        "    if batch_norm:\n",
        "      model.add(BatchNormalization())\n",
        "    model.add(Activation(conv_act[i]))\n",
        "    model.add(MaxPool2D(pool_size=pool_filter_size[i],strides=(2,2)))\n",
        "  \n",
        "  # Flattening the feature map to a column vector\n",
        "  model.add(Flatten())\n",
        "  model.add(Dense(units=dim_final,activation=dense_act))\n",
        "  # Adding dropout regularization\n",
        "  model.add(Dropout(dropout))\n",
        "  # Adding the final Dense layer with dimensions equal to number of classes and softmax activation\n",
        "  model.add(Dense(10,activation=\"softmax\"))\n",
        "\n",
        "  return model\n"
      ],
      "metadata": {
        "id": "5Wg2lDFoRLyc"
      },
      "execution_count": null,
      "outputs": []
    }
  ]
}