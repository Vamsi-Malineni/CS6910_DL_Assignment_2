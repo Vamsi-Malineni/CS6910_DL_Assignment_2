{
  "nbformat": 4,
  "nbformat_minor": 0,
  "metadata": {
    "colab": {
      "name": "CS6910-Assignment2-PartB",
      "provenance": [],
      "collapsed_sections": [],
      "mount_file_id": "1qRf0lYGxBXXRWoPM_eXzHfasy77Sp_DZ",
      "authorship_tag": "ABX9TyOvX465+V2CmXk6c5PkRyxk",
      "include_colab_link": true
    },
    "kernelspec": {
      "name": "python3",
      "display_name": "Python 3"
    },
    "language_info": {
      "name": "python"
    },
    "accelerator": "GPU",
    "widgets": {
      "application/vnd.jupyter.widget-state+json": {
        "0d610491d8dd4cecb93934010cb2b9fd": {
          "model_module": "@jupyter-widgets/controls",
          "model_name": "VBoxModel",
          "model_module_version": "1.5.0",
          "state": {
            "_dom_classes": [],
            "_model_module": "@jupyter-widgets/controls",
            "_model_module_version": "1.5.0",
            "_model_name": "VBoxModel",
            "_view_count": null,
            "_view_module": "@jupyter-widgets/controls",
            "_view_module_version": "1.5.0",
            "_view_name": "VBoxView",
            "box_style": "",
            "children": [
              "IPY_MODEL_b1254090e813482f845e3daeb0130a6c",
              "IPY_MODEL_c7c501e59f594e89823032848b3a8ae1"
            ],
            "layout": "IPY_MODEL_529693e63fea4e25b7d2bb511a615ed4"
          }
        },
        "b1254090e813482f845e3daeb0130a6c": {
          "model_module": "@jupyter-widgets/controls",
          "model_name": "LabelModel",
          "model_module_version": "1.5.0",
          "state": {
            "_dom_classes": [],
            "_model_module": "@jupyter-widgets/controls",
            "_model_module_version": "1.5.0",
            "_model_name": "LabelModel",
            "_view_count": null,
            "_view_module": "@jupyter-widgets/controls",
            "_view_module_version": "1.5.0",
            "_view_name": "LabelView",
            "description": "",
            "description_tooltip": null,
            "layout": "IPY_MODEL_1832818ab7574e7f9b83ac66b8788bd3",
            "placeholder": "​",
            "style": "IPY_MODEL_29eb31c416594880b7530d0f30098484",
            "value": "0.008 MB of 0.008 MB uploaded (0.000 MB deduped)\r"
          }
        },
        "c7c501e59f594e89823032848b3a8ae1": {
          "model_module": "@jupyter-widgets/controls",
          "model_name": "FloatProgressModel",
          "model_module_version": "1.5.0",
          "state": {
            "_dom_classes": [],
            "_model_module": "@jupyter-widgets/controls",
            "_model_module_version": "1.5.0",
            "_model_name": "FloatProgressModel",
            "_view_count": null,
            "_view_module": "@jupyter-widgets/controls",
            "_view_module_version": "1.5.0",
            "_view_name": "ProgressView",
            "bar_style": "",
            "description": "",
            "description_tooltip": null,
            "layout": "IPY_MODEL_fc31e6abc1e44c2d9425fd293b56e589",
            "max": 1,
            "min": 0,
            "orientation": "horizontal",
            "style": "IPY_MODEL_3ddbf50cf94345849f92bd06db458713",
            "value": 1
          }
        },
        "529693e63fea4e25b7d2bb511a615ed4": {
          "model_module": "@jupyter-widgets/base",
          "model_name": "LayoutModel",
          "model_module_version": "1.2.0",
          "state": {
            "_model_module": "@jupyter-widgets/base",
            "_model_module_version": "1.2.0",
            "_model_name": "LayoutModel",
            "_view_count": null,
            "_view_module": "@jupyter-widgets/base",
            "_view_module_version": "1.2.0",
            "_view_name": "LayoutView",
            "align_content": null,
            "align_items": null,
            "align_self": null,
            "border": null,
            "bottom": null,
            "display": null,
            "flex": null,
            "flex_flow": null,
            "grid_area": null,
            "grid_auto_columns": null,
            "grid_auto_flow": null,
            "grid_auto_rows": null,
            "grid_column": null,
            "grid_gap": null,
            "grid_row": null,
            "grid_template_areas": null,
            "grid_template_columns": null,
            "grid_template_rows": null,
            "height": null,
            "justify_content": null,
            "justify_items": null,
            "left": null,
            "margin": null,
            "max_height": null,
            "max_width": null,
            "min_height": null,
            "min_width": null,
            "object_fit": null,
            "object_position": null,
            "order": null,
            "overflow": null,
            "overflow_x": null,
            "overflow_y": null,
            "padding": null,
            "right": null,
            "top": null,
            "visibility": null,
            "width": null
          }
        },
        "1832818ab7574e7f9b83ac66b8788bd3": {
          "model_module": "@jupyter-widgets/base",
          "model_name": "LayoutModel",
          "model_module_version": "1.2.0",
          "state": {
            "_model_module": "@jupyter-widgets/base",
            "_model_module_version": "1.2.0",
            "_model_name": "LayoutModel",
            "_view_count": null,
            "_view_module": "@jupyter-widgets/base",
            "_view_module_version": "1.2.0",
            "_view_name": "LayoutView",
            "align_content": null,
            "align_items": null,
            "align_self": null,
            "border": null,
            "bottom": null,
            "display": null,
            "flex": null,
            "flex_flow": null,
            "grid_area": null,
            "grid_auto_columns": null,
            "grid_auto_flow": null,
            "grid_auto_rows": null,
            "grid_column": null,
            "grid_gap": null,
            "grid_row": null,
            "grid_template_areas": null,
            "grid_template_columns": null,
            "grid_template_rows": null,
            "height": null,
            "justify_content": null,
            "justify_items": null,
            "left": null,
            "margin": null,
            "max_height": null,
            "max_width": null,
            "min_height": null,
            "min_width": null,
            "object_fit": null,
            "object_position": null,
            "order": null,
            "overflow": null,
            "overflow_x": null,
            "overflow_y": null,
            "padding": null,
            "right": null,
            "top": null,
            "visibility": null,
            "width": null
          }
        },
        "29eb31c416594880b7530d0f30098484": {
          "model_module": "@jupyter-widgets/controls",
          "model_name": "DescriptionStyleModel",
          "model_module_version": "1.5.0",
          "state": {
            "_model_module": "@jupyter-widgets/controls",
            "_model_module_version": "1.5.0",
            "_model_name": "DescriptionStyleModel",
            "_view_count": null,
            "_view_module": "@jupyter-widgets/base",
            "_view_module_version": "1.2.0",
            "_view_name": "StyleView",
            "description_width": ""
          }
        },
        "fc31e6abc1e44c2d9425fd293b56e589": {
          "model_module": "@jupyter-widgets/base",
          "model_name": "LayoutModel",
          "model_module_version": "1.2.0",
          "state": {
            "_model_module": "@jupyter-widgets/base",
            "_model_module_version": "1.2.0",
            "_model_name": "LayoutModel",
            "_view_count": null,
            "_view_module": "@jupyter-widgets/base",
            "_view_module_version": "1.2.0",
            "_view_name": "LayoutView",
            "align_content": null,
            "align_items": null,
            "align_self": null,
            "border": null,
            "bottom": null,
            "display": null,
            "flex": null,
            "flex_flow": null,
            "grid_area": null,
            "grid_auto_columns": null,
            "grid_auto_flow": null,
            "grid_auto_rows": null,
            "grid_column": null,
            "grid_gap": null,
            "grid_row": null,
            "grid_template_areas": null,
            "grid_template_columns": null,
            "grid_template_rows": null,
            "height": null,
            "justify_content": null,
            "justify_items": null,
            "left": null,
            "margin": null,
            "max_height": null,
            "max_width": null,
            "min_height": null,
            "min_width": null,
            "object_fit": null,
            "object_position": null,
            "order": null,
            "overflow": null,
            "overflow_x": null,
            "overflow_y": null,
            "padding": null,
            "right": null,
            "top": null,
            "visibility": null,
            "width": null
          }
        },
        "3ddbf50cf94345849f92bd06db458713": {
          "model_module": "@jupyter-widgets/controls",
          "model_name": "ProgressStyleModel",
          "model_module_version": "1.5.0",
          "state": {
            "_model_module": "@jupyter-widgets/controls",
            "_model_module_version": "1.5.0",
            "_model_name": "ProgressStyleModel",
            "_view_count": null,
            "_view_module": "@jupyter-widgets/base",
            "_view_module_version": "1.2.0",
            "_view_name": "StyleView",
            "bar_color": null,
            "description_width": ""
          }
        },
        "047bef2de3e448ccba8d71379ab1c85b": {
          "model_module": "@jupyter-widgets/controls",
          "model_name": "VBoxModel",
          "model_module_version": "1.5.0",
          "state": {
            "_dom_classes": [],
            "_model_module": "@jupyter-widgets/controls",
            "_model_module_version": "1.5.0",
            "_model_name": "VBoxModel",
            "_view_count": null,
            "_view_module": "@jupyter-widgets/controls",
            "_view_module_version": "1.5.0",
            "_view_name": "VBoxView",
            "box_style": "",
            "children": [
              "IPY_MODEL_c59e07c7f8004f8681750de8939be485",
              "IPY_MODEL_cc383a2f8ea34ec29b97d93224b2647a"
            ],
            "layout": "IPY_MODEL_35e78dcd535d4aa1a232c556c2178911"
          }
        },
        "c59e07c7f8004f8681750de8939be485": {
          "model_module": "@jupyter-widgets/controls",
          "model_name": "LabelModel",
          "model_module_version": "1.5.0",
          "state": {
            "_dom_classes": [],
            "_model_module": "@jupyter-widgets/controls",
            "_model_module_version": "1.5.0",
            "_model_name": "LabelModel",
            "_view_count": null,
            "_view_module": "@jupyter-widgets/controls",
            "_view_module_version": "1.5.0",
            "_view_name": "LabelView",
            "description": "",
            "description_tooltip": null,
            "layout": "IPY_MODEL_1f2dad7081fc4102829ef9b1c2acc9ce",
            "placeholder": "​",
            "style": "IPY_MODEL_c9842307c50a47f19d955ff65f023766",
            "value": "0.011 MB of 0.011 MB uploaded (0.000 MB deduped)\r"
          }
        },
        "cc383a2f8ea34ec29b97d93224b2647a": {
          "model_module": "@jupyter-widgets/controls",
          "model_name": "FloatProgressModel",
          "model_module_version": "1.5.0",
          "state": {
            "_dom_classes": [],
            "_model_module": "@jupyter-widgets/controls",
            "_model_module_version": "1.5.0",
            "_model_name": "FloatProgressModel",
            "_view_count": null,
            "_view_module": "@jupyter-widgets/controls",
            "_view_module_version": "1.5.0",
            "_view_name": "ProgressView",
            "bar_style": "",
            "description": "",
            "description_tooltip": null,
            "layout": "IPY_MODEL_98d72ce38cd14919b20ea36ff9fe4d56",
            "max": 1,
            "min": 0,
            "orientation": "horizontal",
            "style": "IPY_MODEL_564c670b9bbe4fddb9cb7a4a8ac48e8c",
            "value": 1
          }
        },
        "35e78dcd535d4aa1a232c556c2178911": {
          "model_module": "@jupyter-widgets/base",
          "model_name": "LayoutModel",
          "model_module_version": "1.2.0",
          "state": {
            "_model_module": "@jupyter-widgets/base",
            "_model_module_version": "1.2.0",
            "_model_name": "LayoutModel",
            "_view_count": null,
            "_view_module": "@jupyter-widgets/base",
            "_view_module_version": "1.2.0",
            "_view_name": "LayoutView",
            "align_content": null,
            "align_items": null,
            "align_self": null,
            "border": null,
            "bottom": null,
            "display": null,
            "flex": null,
            "flex_flow": null,
            "grid_area": null,
            "grid_auto_columns": null,
            "grid_auto_flow": null,
            "grid_auto_rows": null,
            "grid_column": null,
            "grid_gap": null,
            "grid_row": null,
            "grid_template_areas": null,
            "grid_template_columns": null,
            "grid_template_rows": null,
            "height": null,
            "justify_content": null,
            "justify_items": null,
            "left": null,
            "margin": null,
            "max_height": null,
            "max_width": null,
            "min_height": null,
            "min_width": null,
            "object_fit": null,
            "object_position": null,
            "order": null,
            "overflow": null,
            "overflow_x": null,
            "overflow_y": null,
            "padding": null,
            "right": null,
            "top": null,
            "visibility": null,
            "width": null
          }
        },
        "1f2dad7081fc4102829ef9b1c2acc9ce": {
          "model_module": "@jupyter-widgets/base",
          "model_name": "LayoutModel",
          "model_module_version": "1.2.0",
          "state": {
            "_model_module": "@jupyter-widgets/base",
            "_model_module_version": "1.2.0",
            "_model_name": "LayoutModel",
            "_view_count": null,
            "_view_module": "@jupyter-widgets/base",
            "_view_module_version": "1.2.0",
            "_view_name": "LayoutView",
            "align_content": null,
            "align_items": null,
            "align_self": null,
            "border": null,
            "bottom": null,
            "display": null,
            "flex": null,
            "flex_flow": null,
            "grid_area": null,
            "grid_auto_columns": null,
            "grid_auto_flow": null,
            "grid_auto_rows": null,
            "grid_column": null,
            "grid_gap": null,
            "grid_row": null,
            "grid_template_areas": null,
            "grid_template_columns": null,
            "grid_template_rows": null,
            "height": null,
            "justify_content": null,
            "justify_items": null,
            "left": null,
            "margin": null,
            "max_height": null,
            "max_width": null,
            "min_height": null,
            "min_width": null,
            "object_fit": null,
            "object_position": null,
            "order": null,
            "overflow": null,
            "overflow_x": null,
            "overflow_y": null,
            "padding": null,
            "right": null,
            "top": null,
            "visibility": null,
            "width": null
          }
        },
        "c9842307c50a47f19d955ff65f023766": {
          "model_module": "@jupyter-widgets/controls",
          "model_name": "DescriptionStyleModel",
          "model_module_version": "1.5.0",
          "state": {
            "_model_module": "@jupyter-widgets/controls",
            "_model_module_version": "1.5.0",
            "_model_name": "DescriptionStyleModel",
            "_view_count": null,
            "_view_module": "@jupyter-widgets/base",
            "_view_module_version": "1.2.0",
            "_view_name": "StyleView",
            "description_width": ""
          }
        },
        "98d72ce38cd14919b20ea36ff9fe4d56": {
          "model_module": "@jupyter-widgets/base",
          "model_name": "LayoutModel",
          "model_module_version": "1.2.0",
          "state": {
            "_model_module": "@jupyter-widgets/base",
            "_model_module_version": "1.2.0",
            "_model_name": "LayoutModel",
            "_view_count": null,
            "_view_module": "@jupyter-widgets/base",
            "_view_module_version": "1.2.0",
            "_view_name": "LayoutView",
            "align_content": null,
            "align_items": null,
            "align_self": null,
            "border": null,
            "bottom": null,
            "display": null,
            "flex": null,
            "flex_flow": null,
            "grid_area": null,
            "grid_auto_columns": null,
            "grid_auto_flow": null,
            "grid_auto_rows": null,
            "grid_column": null,
            "grid_gap": null,
            "grid_row": null,
            "grid_template_areas": null,
            "grid_template_columns": null,
            "grid_template_rows": null,
            "height": null,
            "justify_content": null,
            "justify_items": null,
            "left": null,
            "margin": null,
            "max_height": null,
            "max_width": null,
            "min_height": null,
            "min_width": null,
            "object_fit": null,
            "object_position": null,
            "order": null,
            "overflow": null,
            "overflow_x": null,
            "overflow_y": null,
            "padding": null,
            "right": null,
            "top": null,
            "visibility": null,
            "width": null
          }
        },
        "564c670b9bbe4fddb9cb7a4a8ac48e8c": {
          "model_module": "@jupyter-widgets/controls",
          "model_name": "ProgressStyleModel",
          "model_module_version": "1.5.0",
          "state": {
            "_model_module": "@jupyter-widgets/controls",
            "_model_module_version": "1.5.0",
            "_model_name": "ProgressStyleModel",
            "_view_count": null,
            "_view_module": "@jupyter-widgets/base",
            "_view_module_version": "1.2.0",
            "_view_name": "StyleView",
            "bar_color": null,
            "description_width": ""
          }
        },
        "1a08af857c61429abb741b62efc08df3": {
          "model_module": "@jupyter-widgets/controls",
          "model_name": "VBoxModel",
          "model_module_version": "1.5.0",
          "state": {
            "_dom_classes": [],
            "_model_module": "@jupyter-widgets/controls",
            "_model_module_version": "1.5.0",
            "_model_name": "VBoxModel",
            "_view_count": null,
            "_view_module": "@jupyter-widgets/controls",
            "_view_module_version": "1.5.0",
            "_view_name": "VBoxView",
            "box_style": "",
            "children": [
              "IPY_MODEL_d9cbbfb5c05a43bbaf634ef315037039",
              "IPY_MODEL_a83bb2d73d3440939c7b614b77399b64"
            ],
            "layout": "IPY_MODEL_b190a4f49db148a2a84aa70445fe09a6"
          }
        },
        "d9cbbfb5c05a43bbaf634ef315037039": {
          "model_module": "@jupyter-widgets/controls",
          "model_name": "LabelModel",
          "model_module_version": "1.5.0",
          "state": {
            "_dom_classes": [],
            "_model_module": "@jupyter-widgets/controls",
            "_model_module_version": "1.5.0",
            "_model_name": "LabelModel",
            "_view_count": null,
            "_view_module": "@jupyter-widgets/controls",
            "_view_module_version": "1.5.0",
            "_view_name": "LabelView",
            "description": "",
            "description_tooltip": null,
            "layout": "IPY_MODEL_cd91afd9e65f49c7aa750529f78a3213",
            "placeholder": "​",
            "style": "IPY_MODEL_04c17b3675424e88840a5369d17829d2",
            "value": "0.008 MB of 0.008 MB uploaded (0.000 MB deduped)\r"
          }
        },
        "a83bb2d73d3440939c7b614b77399b64": {
          "model_module": "@jupyter-widgets/controls",
          "model_name": "FloatProgressModel",
          "model_module_version": "1.5.0",
          "state": {
            "_dom_classes": [],
            "_model_module": "@jupyter-widgets/controls",
            "_model_module_version": "1.5.0",
            "_model_name": "FloatProgressModel",
            "_view_count": null,
            "_view_module": "@jupyter-widgets/controls",
            "_view_module_version": "1.5.0",
            "_view_name": "ProgressView",
            "bar_style": "",
            "description": "",
            "description_tooltip": null,
            "layout": "IPY_MODEL_db7758f9f41847bea0dbeb1491e788c3",
            "max": 1,
            "min": 0,
            "orientation": "horizontal",
            "style": "IPY_MODEL_e7e7627cc06744aba797ae6f7b6c28f0",
            "value": 1
          }
        },
        "b190a4f49db148a2a84aa70445fe09a6": {
          "model_module": "@jupyter-widgets/base",
          "model_name": "LayoutModel",
          "model_module_version": "1.2.0",
          "state": {
            "_model_module": "@jupyter-widgets/base",
            "_model_module_version": "1.2.0",
            "_model_name": "LayoutModel",
            "_view_count": null,
            "_view_module": "@jupyter-widgets/base",
            "_view_module_version": "1.2.0",
            "_view_name": "LayoutView",
            "align_content": null,
            "align_items": null,
            "align_self": null,
            "border": null,
            "bottom": null,
            "display": null,
            "flex": null,
            "flex_flow": null,
            "grid_area": null,
            "grid_auto_columns": null,
            "grid_auto_flow": null,
            "grid_auto_rows": null,
            "grid_column": null,
            "grid_gap": null,
            "grid_row": null,
            "grid_template_areas": null,
            "grid_template_columns": null,
            "grid_template_rows": null,
            "height": null,
            "justify_content": null,
            "justify_items": null,
            "left": null,
            "margin": null,
            "max_height": null,
            "max_width": null,
            "min_height": null,
            "min_width": null,
            "object_fit": null,
            "object_position": null,
            "order": null,
            "overflow": null,
            "overflow_x": null,
            "overflow_y": null,
            "padding": null,
            "right": null,
            "top": null,
            "visibility": null,
            "width": null
          }
        },
        "cd91afd9e65f49c7aa750529f78a3213": {
          "model_module": "@jupyter-widgets/base",
          "model_name": "LayoutModel",
          "model_module_version": "1.2.0",
          "state": {
            "_model_module": "@jupyter-widgets/base",
            "_model_module_version": "1.2.0",
            "_model_name": "LayoutModel",
            "_view_count": null,
            "_view_module": "@jupyter-widgets/base",
            "_view_module_version": "1.2.0",
            "_view_name": "LayoutView",
            "align_content": null,
            "align_items": null,
            "align_self": null,
            "border": null,
            "bottom": null,
            "display": null,
            "flex": null,
            "flex_flow": null,
            "grid_area": null,
            "grid_auto_columns": null,
            "grid_auto_flow": null,
            "grid_auto_rows": null,
            "grid_column": null,
            "grid_gap": null,
            "grid_row": null,
            "grid_template_areas": null,
            "grid_template_columns": null,
            "grid_template_rows": null,
            "height": null,
            "justify_content": null,
            "justify_items": null,
            "left": null,
            "margin": null,
            "max_height": null,
            "max_width": null,
            "min_height": null,
            "min_width": null,
            "object_fit": null,
            "object_position": null,
            "order": null,
            "overflow": null,
            "overflow_x": null,
            "overflow_y": null,
            "padding": null,
            "right": null,
            "top": null,
            "visibility": null,
            "width": null
          }
        },
        "04c17b3675424e88840a5369d17829d2": {
          "model_module": "@jupyter-widgets/controls",
          "model_name": "DescriptionStyleModel",
          "model_module_version": "1.5.0",
          "state": {
            "_model_module": "@jupyter-widgets/controls",
            "_model_module_version": "1.5.0",
            "_model_name": "DescriptionStyleModel",
            "_view_count": null,
            "_view_module": "@jupyter-widgets/base",
            "_view_module_version": "1.2.0",
            "_view_name": "StyleView",
            "description_width": ""
          }
        },
        "db7758f9f41847bea0dbeb1491e788c3": {
          "model_module": "@jupyter-widgets/base",
          "model_name": "LayoutModel",
          "model_module_version": "1.2.0",
          "state": {
            "_model_module": "@jupyter-widgets/base",
            "_model_module_version": "1.2.0",
            "_model_name": "LayoutModel",
            "_view_count": null,
            "_view_module": "@jupyter-widgets/base",
            "_view_module_version": "1.2.0",
            "_view_name": "LayoutView",
            "align_content": null,
            "align_items": null,
            "align_self": null,
            "border": null,
            "bottom": null,
            "display": null,
            "flex": null,
            "flex_flow": null,
            "grid_area": null,
            "grid_auto_columns": null,
            "grid_auto_flow": null,
            "grid_auto_rows": null,
            "grid_column": null,
            "grid_gap": null,
            "grid_row": null,
            "grid_template_areas": null,
            "grid_template_columns": null,
            "grid_template_rows": null,
            "height": null,
            "justify_content": null,
            "justify_items": null,
            "left": null,
            "margin": null,
            "max_height": null,
            "max_width": null,
            "min_height": null,
            "min_width": null,
            "object_fit": null,
            "object_position": null,
            "order": null,
            "overflow": null,
            "overflow_x": null,
            "overflow_y": null,
            "padding": null,
            "right": null,
            "top": null,
            "visibility": null,
            "width": null
          }
        },
        "e7e7627cc06744aba797ae6f7b6c28f0": {
          "model_module": "@jupyter-widgets/controls",
          "model_name": "ProgressStyleModel",
          "model_module_version": "1.5.0",
          "state": {
            "_model_module": "@jupyter-widgets/controls",
            "_model_module_version": "1.5.0",
            "_model_name": "ProgressStyleModel",
            "_view_count": null,
            "_view_module": "@jupyter-widgets/base",
            "_view_module_version": "1.2.0",
            "_view_name": "StyleView",
            "bar_color": null,
            "description_width": ""
          }
        }
      }
    }
  },
  "cells": [
    {
      "cell_type": "markdown",
      "metadata": {
        "id": "view-in-github",
        "colab_type": "text"
      },
      "source": [
        "<a href=\"https://colab.research.google.com/github/safikhanSoofiyani/CS6910-Assignment-2/blob/main/CS6910_Assignment2_PartB.ipynb\" target=\"_parent\"><img src=\"https://colab.research.google.com/assets/colab-badge.svg\" alt=\"Open In Colab\"/></a>"
      ]
    },
    {
      "cell_type": "markdown",
      "source": [
        "# CS6910-Assignment2-Part B\n",
        "Using Pretrained model for Image Classification"
      ],
      "metadata": {
        "id": "XDeU2CS7WZMp"
      }
    },
    {
      "cell_type": "code",
      "source": [
        "!pip install -q wandb\n",
        "import wandb\n",
        "from wandb.keras import WandbCallback\n",
        "\n",
        "import numpy as np\n",
        "import pandas as pd\n",
        "import tensorflow as tf\n",
        "\n",
        "from tensorflow.keras.preprocessing import image_dataset_from_directory\n",
        "from tensorflow.keras.preprocessing.image import ImageDataGenerator\n",
        "from tensorflow.keras import layers, Model\n",
        "from tensorflow.keras.layers.experimental.preprocessing import Rescaling"
      ],
      "metadata": {
        "id": "XZS6Eod-WCXU"
      },
      "execution_count": 6,
      "outputs": []
    },
    {
      "cell_type": "code",
      "source": [
        "def get_data():\n",
        "    #path=r\"C:\\Users\\vamsi_oe20s302\\Downloads\\nature_12K\\inaturalist_12K\\train\"\n",
        "    path=r\"/content/drive/MyDrive/nature_12K/inaturalist_12K/train\"\n",
        "\n",
        "    # Training dataset:\n",
        "    train_dataset=tf.keras.preprocessing.image_dataset_from_directory(\n",
        "        directory=path,\n",
        "        labels='inferred',\n",
        "        label_mode='categorical',\n",
        "        color_mode='rgb',\n",
        "        batch_size=32,\n",
        "        image_size=(256,256),\n",
        "        shuffle=True,\n",
        "        seed=19,\n",
        "        validation_split=0.1,\n",
        "        subset='training'\n",
        "    )\n",
        "    # Validation dataset:\n",
        "    valid_dataset=tf.keras.preprocessing.image_dataset_from_directory(\n",
        "        directory=path,\n",
        "        labels='inferred',\n",
        "        label_mode='categorical',\n",
        "        color_mode='rgb',\n",
        "        batch_size=32,\n",
        "        image_size=(256,256),\n",
        "        shuffle=True,\n",
        "        seed=19,\n",
        "        validation_split=0.1,\n",
        "        subset='validation'\n",
        "    )\n",
        "    \n",
        "    #return train_data, valid_data\n",
        "    return train_dataset, valid_dataset\n"
      ],
      "metadata": {
        "id": "84oe-Pu4Wv2R"
      },
      "execution_count": 7,
      "outputs": []
    },
    {
      "cell_type": "code",
      "source": [
        "def get_augmented_data():\n",
        "    #path=r\"C:\\Users\\vamsi_oe20s302\\Downloads\\nature_12K\\inaturalist_12K\\train\"\n",
        "    path=r\"/content/drive/MyDrive/nature_12K/inaturalist_12K/train\"\n",
        "    training_data_augmentation=ImageDataGenerator(rescale=1./255,\n",
        "                                        height_shift_range=0.2,\n",
        "                                        width_shift_range=0.2,\n",
        "                                        horizontal_flip=True,\n",
        "                                        zoom_range=0.2,\n",
        "                                        fill_mode=\"nearest\",\n",
        "                                        validation_split = 0.1)\n",
        "\n",
        "    # Validation data is not being augmented\n",
        "    validation_data_augmentation=ImageDataGenerator(\n",
        "        validation_split=0.1\n",
        "    )\n",
        "\n",
        "    train_aug=training_data_augmentation.flow_from_directory(path,shuffle=True,seed=19,subset='training')\n",
        "    valid_aug=validation_data_augmentation.flow_from_directory(path,shuffle=True,seed=19,subset='validation')\n",
        "\n",
        "    return train_aug, valid_aug\n"
      ],
      "metadata": {
        "id": "Yg42DuXIYOJu"
      },
      "execution_count": 8,
      "outputs": []
    },
    {
      "cell_type": "markdown",
      "source": [
        "#Transfer Learning \n",
        "1. Reference 1: https://www.tensorflow.org/tutorials/images/transfer_learning\n",
        "2. Reference 2: https://towardsdatascience.com/transfer-learning-from-pre-trained-models-f2393f124751"
      ],
      "metadata": {
        "id": "YoqX0f_03oIb"
      }
    },
    {
      "cell_type": "code",
      "source": [
        "class build_cnn(Model):\n",
        "  \n",
        "  def __init__(self,model_name,tune=False,freeze=20):\n",
        "    \n",
        "    super(build_cnn,self).__init__()\n",
        "    \n",
        "    self.image_shape=(256,256,3)\n",
        "    self.model_name=model_name\n",
        "    self.initialize_model()\n",
        "\n",
        "    if tune == True:\n",
        "      self.model.trainable= True\n",
        "      train_and_tune=len(self.model.layers)-freeze\n",
        "\n",
        "      for layer in self.model.layers[:freeze]:\n",
        "        layer.trainable = False\n",
        "    else:\n",
        "      self.model.trainable = False\n",
        "\n",
        "  # here we are using global average pooling layer as classifier on top of \n",
        "  # the pretrained convolution layers \n",
        "    self.avg_pool=layers.GlobalAveragePooling2D()\n",
        "    self.dense=layers.Dense(10)\n",
        "  \n",
        "  # Initializing the model\n",
        "  # NOTE: By using include_top=False, we are not using the final classification\n",
        "  # layer of the pre trained model.\n",
        "  def inceptionv3(self):\n",
        "      model=tf.keras.applications.InceptionV3(input_shape=self.image_shape,\n",
        "                                            include_top=False,\n",
        "                                            weights='imagenet')\n",
        "      return model\n",
        "\n",
        "  def resnet50(self):\n",
        "      model=tf.keras.applications.ResNet50(input_shape=self.image_shape,\n",
        "                                         include_top=False,\n",
        "                                         weights='imagenet')\n",
        "      return model\n",
        "\n",
        "  def inceptionresnetv2(self):\n",
        "      model=tf.keras.applications.InceptionResNetV2(input_shape=self.image_shape,\n",
        "                                                        include_top=False,\n",
        "                                                        weights='imagenet')\n",
        "      return model\n",
        "  \n",
        "  def xception(self):\n",
        "      model=tf.keras.applications.Xception(input_shape=self.image_shape,\n",
        "                                         include_top=False,\n",
        "                                         weights='imagenet')\n",
        "      return model\n",
        "    \n",
        "  \n",
        "  def initialize_model(self):\n",
        "    \n",
        "    if self.model_name  == \"InceptionV3\":\n",
        "      self.model=self.inceptionv3()\n",
        "    \n",
        "    elif self.model_name == \"InceptionResNetV2\":\n",
        "      self.model=self.inceptionresnetv2()\n",
        "    \n",
        "    elif self.model_name == \"ResNet50\":\n",
        "      self.model=self.resnet50()\n",
        "\n",
        "    elif self.model_name == \"Xception\":\n",
        "      self.model=self.xception()\n",
        "    \n",
        "    else:\n",
        "      print(\"Enter a valid model name\")\n",
        "  \n",
        "  \n",
        "  def call(self,inputs):\n",
        "    a=self.model(inputs)\n",
        "    a=self.avg_pool(a)\n",
        "    a=self.dense(a)\n",
        "    return a"
      ],
      "metadata": {
        "id": "FeR6SgB7-B5l"
      },
      "execution_count": 9,
      "outputs": []
    },
    {
      "cell_type": "code",
      "source": [
        "# base_model = \"ResNet50\"\n",
        "# tune = False\n",
        "# freeze = 20\n",
        "\n",
        "# model = build_cnn(base_model, tune, freeze)\n",
        "\n",
        "# base_learning_rate = 0.0001\n",
        "# model.compile(optimizer=tf.keras.optimizers.Adam(lr=base_learning_rate),\n",
        "#                 loss=tf.keras.losses.CategoricalCrossentropy(from_logits=True),\n",
        "#                 metrics=['accuracy'])\n",
        "\n",
        "# train_aug_gen=get_augmented_data()[0]\n",
        "# val_aug_gen=get_augmented_data()[1]\n",
        "\n",
        "# history = model.fit(train_aug_gen, steps_per_epoch=62, \\\n",
        "#                     epochs=10, validation_data=val_aug_gen, \\\n",
        "#                     validation_steps=62, workers=8)"
      ],
      "metadata": {
        "id": "_K2aFZmNMX73"
      },
      "execution_count": 10,
      "outputs": []
    },
    {
      "cell_type": "markdown",
      "source": [
        "# Wandb Sweeping"
      ],
      "metadata": {
        "id": "I3AXG0drY4_T"
      }
    },
    {
      "cell_type": "code",
      "source": [
        "hyperparameters={\n",
        "    'model_name':{'values': [\"InceptionV3\",\"InceptionResNetV2\",\"ResNet50\",\"Xception\"]},\n",
        "    'tune':{'values':[False, True]},\n",
        "    'data_augmentation':{'values':[False,True]}\n",
        "}\n",
        "sweep_config = {\n",
        "      'method' : 'bayes',\n",
        "      'metric' :{\n",
        "          'name': 'val_acc',\n",
        "          'goal': 'maximize'\n",
        "      },\n",
        "      'parameters': hyperparameters\n",
        "    }"
      ],
      "metadata": {
        "id": "t-HGyE98MgEX"
      },
      "execution_count": 3,
      "outputs": []
    },
    {
      "cell_type": "code",
      "source": [
        "def wandb_train(config=sweep_config):\n",
        "  # initializing wandb with the above configuration\n",
        "  wandb.init(config=config)\n",
        "  # collecting the configuration information\n",
        "  config=wandb.init().config\n",
        "  # setting up the name for each run example : Model_Xception_tune_False_aug_True\n",
        "  run_name='Model_{}_tune_{}_Data_aug_{}'.format(config.model_name,config.tune,config.data_augmentation)\n",
        "  wandb.run.name=run_name\n",
        "  wandb_log=True\n",
        "  # caling the model \n",
        "  model=build_cnn(config.model_name,config.tune)\n",
        "  \n",
        "  learning_rate=0.0001\n",
        "  \n",
        "  model.compile(optimizer=tf.keras.optimizers.Adam(lr=learning_rate),\n",
        "                loss=tf.keras.losses.CategoricalCrossentropy(from_logits=True),\n",
        "                metrics=['accuracy'])\n",
        "  \n",
        "  # Getting data \n",
        "  train_data,val_data=get_data()\n",
        "  train_aug_data,val_aug_data=get_augmented_data()\n",
        "\n",
        "  if config.data_augmentation == False:\n",
        "    history = model.fit(train_data, epochs=10, validation_data=val_data,\n",
        "                        callbacks = [wandb.keras.WandbCallback()])\n",
        "  else:\n",
        "    history = model.fit(train_aug_data, steps_per_epoch=62, epochs=10,\n",
        "                        validation_data=val_aug_data, validation_steps=62,\n",
        "                        workers=10, callbacks = [wandb.keras.WandbCallback()])  \n",
        "  \n",
        "  wandb.run.finish()"
      ],
      "metadata": {
        "id": "4GoC1CH3Z2FT"
      },
      "execution_count": 17,
      "outputs": []
    },
    {
      "cell_type": "code",
      "source": [
        "!wandb login --relogin\n",
        "entity_name = \"safi-vamsi-cs6910\"\n",
        "project_name = \"Assignment 2\""
      ],
      "metadata": {
        "colab": {
          "base_uri": "https://localhost:8080/"
        },
        "id": "efQ1LFtzXsaE",
        "outputId": "04060749-1803-47e5-93a4-d2069b948071"
      },
      "execution_count": 19,
      "outputs": [
        {
          "output_type": "stream",
          "name": "stdout",
          "text": [
            "\u001b[34m\u001b[1mwandb\u001b[0m: You can find your API key in your browser here: https://wandb.ai/authorize\n",
            "\u001b[34m\u001b[1mwandb\u001b[0m: Paste an API key from your profile and hit enter, or press ctrl+c to quit: \n",
            "\u001b[34m\u001b[1mwandb\u001b[0m: Appending key for api.wandb.ai to your netrc file: /root/.netrc\n"
          ]
        }
      ]
    },
    {
      "cell_type": "code",
      "source": [
        "sweep_id=wandb.sweep(sweep_config,entity=entity_name,project=project_name)\n",
        "wandb.agent(sweep_id,wandb_train)"
      ],
      "metadata": {
        "colab": {
          "base_uri": "https://localhost:8080/",
          "height": 1000,
          "referenced_widgets": [
            "0d610491d8dd4cecb93934010cb2b9fd",
            "b1254090e813482f845e3daeb0130a6c",
            "c7c501e59f594e89823032848b3a8ae1",
            "529693e63fea4e25b7d2bb511a615ed4",
            "1832818ab7574e7f9b83ac66b8788bd3",
            "29eb31c416594880b7530d0f30098484",
            "fc31e6abc1e44c2d9425fd293b56e589",
            "3ddbf50cf94345849f92bd06db458713",
            "047bef2de3e448ccba8d71379ab1c85b",
            "c59e07c7f8004f8681750de8939be485",
            "cc383a2f8ea34ec29b97d93224b2647a",
            "35e78dcd535d4aa1a232c556c2178911",
            "1f2dad7081fc4102829ef9b1c2acc9ce",
            "c9842307c50a47f19d955ff65f023766",
            "98d72ce38cd14919b20ea36ff9fe4d56",
            "564c670b9bbe4fddb9cb7a4a8ac48e8c",
            "1a08af857c61429abb741b62efc08df3",
            "d9cbbfb5c05a43bbaf634ef315037039",
            "a83bb2d73d3440939c7b614b77399b64",
            "b190a4f49db148a2a84aa70445fe09a6",
            "cd91afd9e65f49c7aa750529f78a3213",
            "04c17b3675424e88840a5369d17829d2",
            "db7758f9f41847bea0dbeb1491e788c3",
            "e7e7627cc06744aba797ae6f7b6c28f0"
          ]
        },
        "id": "rlAWhNabdYi6",
        "outputId": "5652efec-7052-4e11-b170-a1397bc349df"
      },
      "execution_count": null,
      "outputs": [
        {
          "output_type": "stream",
          "name": "stdout",
          "text": [
            "Create sweep with ID: lkwg7x5q\n",
            "Sweep URL: https://wandb.ai/safi-vamsi-cs6910/Assignment%202/sweeps/lkwg7x5q\n"
          ]
        },
        {
          "output_type": "stream",
          "name": "stderr",
          "text": [
            "\u001b[34m\u001b[1mwandb\u001b[0m: Agent Starting Run: csq8ek2o with config:\n",
            "\u001b[34m\u001b[1mwandb\u001b[0m: \tdata_augmentation: True\n",
            "\u001b[34m\u001b[1mwandb\u001b[0m: \tmodel_name: Xception\n",
            "\u001b[34m\u001b[1mwandb\u001b[0m: \ttune: False\n"
          ]
        },
        {
          "output_type": "display_data",
          "data": {
            "text/plain": [
              "<IPython.core.display.HTML object>"
            ],
            "text/html": [
              "Tracking run with wandb version 0.12.11"
            ]
          },
          "metadata": {}
        },
        {
          "output_type": "display_data",
          "data": {
            "text/plain": [
              "<IPython.core.display.HTML object>"
            ],
            "text/html": [
              "Run data is saved locally in <code>/content/wandb/run-20220328_101056-csq8ek2o</code>"
            ]
          },
          "metadata": {}
        },
        {
          "output_type": "display_data",
          "data": {
            "text/plain": [
              "<IPython.core.display.HTML object>"
            ],
            "text/html": [
              "Syncing run <strong><a href=\"https://wandb.ai/safi-vamsi-cs6910/Assignment%202/runs/csq8ek2o\" target=\"_blank\">good-sweep-1</a></strong> to <a href=\"https://wandb.ai/safi-vamsi-cs6910/Assignment%202\" target=\"_blank\">Weights & Biases</a> (<a href=\"https://wandb.me/run\" target=\"_blank\">docs</a>)<br/>Sweep page:  <a href=\"https://wandb.ai/safi-vamsi-cs6910/Assignment%202/sweeps/lkwg7x5q\" target=\"_blank\">https://wandb.ai/safi-vamsi-cs6910/Assignment%202/sweeps/lkwg7x5q</a>"
            ]
          },
          "metadata": {}
        },
        {
          "output_type": "display_data",
          "data": {
            "text/plain": [
              "<IPython.core.display.HTML object>"
            ],
            "text/html": [
              "Finishing last run (ID:csq8ek2o) before initializing another..."
            ]
          },
          "metadata": {}
        },
        {
          "output_type": "stream",
          "name": "stdout",
          "text": [
            "\n"
          ]
        },
        {
          "output_type": "display_data",
          "data": {
            "text/plain": [
              "<IPython.core.display.HTML object>"
            ],
            "text/html": [
              "Waiting for W&B process to finish... <strong style=\"color:green\">(success).</strong>"
            ]
          },
          "metadata": {}
        },
        {
          "output_type": "display_data",
          "data": {
            "text/plain": [
              "VBox(children=(Label(value='0.001 MB of 0.001 MB uploaded (0.000 MB deduped)\\r'), FloatProgress(value=1.0, max…"
            ],
            "application/vnd.jupyter.widget-view+json": {
              "version_major": 2,
              "version_minor": 0,
              "model_id": "0d610491d8dd4cecb93934010cb2b9fd"
            }
          },
          "metadata": {}
        },
        {
          "output_type": "display_data",
          "data": {
            "text/plain": [
              "<IPython.core.display.HTML object>"
            ],
            "text/html": [
              "Synced <strong style=\"color:#cdcd00\">good-sweep-1</strong>: <a href=\"https://wandb.ai/safi-vamsi-cs6910/Assignment%202/runs/csq8ek2o\" target=\"_blank\">https://wandb.ai/safi-vamsi-cs6910/Assignment%202/runs/csq8ek2o</a><br/>Synced 4 W&B file(s), 0 media file(s), 0 artifact file(s) and 0 other file(s)"
            ]
          },
          "metadata": {}
        },
        {
          "output_type": "display_data",
          "data": {
            "text/plain": [
              "<IPython.core.display.HTML object>"
            ],
            "text/html": [
              "Find logs at: <code>./wandb/run-20220328_101056-csq8ek2o/logs</code>"
            ]
          },
          "metadata": {}
        },
        {
          "output_type": "display_data",
          "data": {
            "text/plain": [
              "<IPython.core.display.HTML object>"
            ],
            "text/html": [
              "Successfully finished last run (ID:csq8ek2o). Initializing new run:<br/>"
            ]
          },
          "metadata": {}
        },
        {
          "output_type": "display_data",
          "data": {
            "text/plain": [
              "<IPython.core.display.HTML object>"
            ],
            "text/html": [
              "Tracking run with wandb version 0.12.11"
            ]
          },
          "metadata": {}
        },
        {
          "output_type": "display_data",
          "data": {
            "text/plain": [
              "<IPython.core.display.HTML object>"
            ],
            "text/html": [
              "Run data is saved locally in <code>/content/wandb/run-20220328_101101-csq8ek2o</code>"
            ]
          },
          "metadata": {}
        },
        {
          "output_type": "display_data",
          "data": {
            "text/plain": [
              "<IPython.core.display.HTML object>"
            ],
            "text/html": [
              "Syncing run <strong><a href=\"https://wandb.ai/safi-vamsi-cs6910/Assignment%202/runs/csq8ek2o\" target=\"_blank\">good-sweep-1</a></strong> to <a href=\"https://wandb.ai/safi-vamsi-cs6910/Assignment%202\" target=\"_blank\">Weights & Biases</a> (<a href=\"https://wandb.me/run\" target=\"_blank\">docs</a>)<br/>Sweep page:  <a href=\"https://wandb.ai/safi-vamsi-cs6910/Assignment%202/sweeps/lkwg7x5q\" target=\"_blank\">https://wandb.ai/safi-vamsi-cs6910/Assignment%202/sweeps/lkwg7x5q</a>"
            ]
          },
          "metadata": {}
        },
        {
          "output_type": "stream",
          "name": "stderr",
          "text": [
            "/usr/local/lib/python3.7/dist-packages/keras/optimizer_v2/adam.py:105: UserWarning: The `lr` argument is deprecated, use `learning_rate` instead.\n",
            "  super(Adam, self).__init__(name, **kwargs)\n"
          ]
        },
        {
          "output_type": "stream",
          "name": "stdout",
          "text": [
            "Found 9999 files belonging to 10 classes.\n",
            "Using 9000 files for training.\n",
            "Found 9999 files belonging to 10 classes.\n",
            "Using 999 files for validation.\n",
            "Found 9000 images belonging to 10 classes.\n",
            "Found 999 images belonging to 10 classes.\n",
            "Epoch 1/10\n",
            "62/62 [==============================] - ETA: 0s - loss: 2.2772 - accuracy: 0.1613"
          ]
        },
        {
          "output_type": "stream",
          "name": "stderr",
          "text": [
            "\u001b[34m\u001b[1mwandb\u001b[0m: \u001b[32m\u001b[41mERROR\u001b[0m Can't save model, h5py returned error: Saving the model to HDF5 format requires the model to be a Functional model or a Sequential model. It does not work for subclassed models, because such models are defined via the body of a Python method, which isn't safely serializable. Consider saving to the Tensorflow SavedModel format (by setting save_format=\"tf\") or using `save_weights`.\n"
          ]
        },
        {
          "output_type": "stream",
          "name": "stdout",
          "text": [
            "\b\b\b\b\b\b\b\b\b\b\b\b\b\b\b\b\b\b\b\b\b\b\b\b\b\b\b\b\b\b\b\b\b\b\b\b\b\b\b\b\b\b\b\b\b\b\b\b\b\b\b\b\b\b\b\b\b\b\b\b\b\b\b\b\b\b\b\b\b\b\b\b\b\b\b\b\b\b\b\b\b\b\r62/62 [==============================] - 95s 1s/step - loss: 2.2772 - accuracy: 0.1613 - val_loss: 16.2578 - val_accuracy: 0.0949 - _timestamp: 1648462369.0000 - _runtime: 104.0000\n",
            "Epoch 2/10\n",
            "62/62 [==============================] - 87s 1s/step - loss: 2.0369 - accuracy: 0.3488 - val_loss: 16.9539 - val_accuracy: 0.1016 - _timestamp: 1648462456.0000 - _runtime: 191.0000\n",
            "Epoch 3/10\n",
            "62/62 [==============================] - 88s 1s/step - loss: 1.8528 - accuracy: 0.4940 - val_loss: 16.2483 - val_accuracy: 0.1026 - _timestamp: 1648462544.0000 - _runtime: 279.0000\n",
            "Epoch 4/10\n",
            "62/62 [==============================] - 88s 1s/step - loss: 1.6882 - accuracy: 0.5887 - val_loss: 16.7976 - val_accuracy: 0.1001 - _timestamp: 1648462632.0000 - _runtime: 367.0000\n",
            "Epoch 5/10\n",
            "62/62 [==============================] - 87s 1s/step - loss: 1.5547 - accuracy: 0.6255 - val_loss: 17.1447 - val_accuracy: 0.1016 - _timestamp: 1648462719.0000 - _runtime: 454.0000\n",
            "Epoch 6/10\n",
            "62/62 [==============================] - 88s 1s/step - loss: 1.4552 - accuracy: 0.6469 - val_loss: 17.8978 - val_accuracy: 0.1052 - _timestamp: 1648462807.0000 - _runtime: 542.0000\n",
            "Epoch 7/10\n",
            "62/62 [==============================] - 88s 1s/step - loss: 1.3662 - accuracy: 0.6673 - val_loss: 17.7645 - val_accuracy: 0.0995 - _timestamp: 1648462949.0000 - _runtime: 684.0000\n",
            "Epoch 8/10\n",
            "62/62 [==============================] - 88s 1s/step - loss: 1.2706 - accuracy: 0.6925 - val_loss: 18.2514 - val_accuracy: 0.1041 - _timestamp: 1648463037.0000 - _runtime: 772.0000\n",
            "Epoch 9/10\n",
            "62/62 [==============================] - 89s 1s/step - loss: 1.2439 - accuracy: 0.6719 - val_loss: 18.6308 - val_accuracy: 0.1016 - _timestamp: 1648463126.0000 - _runtime: 861.0000\n",
            "Epoch 10/10\n",
            "62/62 [==============================] - 88s 1s/step - loss: 1.1847 - accuracy: 0.6986 - val_loss: 19.2440 - val_accuracy: 0.1149 - _timestamp: 1648463214.0000 - _runtime: 949.0000\n",
            "\n"
          ]
        },
        {
          "output_type": "display_data",
          "data": {
            "text/plain": [
              "<IPython.core.display.HTML object>"
            ],
            "text/html": [
              "Waiting for W&B process to finish... <strong style=\"color:green\">(success).</strong>"
            ]
          },
          "metadata": {}
        },
        {
          "output_type": "display_data",
          "data": {
            "text/plain": [
              "VBox(children=(Label(value='0.001 MB of 0.001 MB uploaded (0.000 MB deduped)\\r'), FloatProgress(value=1.0, max…"
            ],
            "application/vnd.jupyter.widget-view+json": {
              "version_major": 2,
              "version_minor": 0,
              "model_id": "047bef2de3e448ccba8d71379ab1c85b"
            }
          },
          "metadata": {}
        },
        {
          "output_type": "display_data",
          "data": {
            "text/plain": [
              "<IPython.core.display.HTML object>"
            ],
            "text/html": [
              "<style>\n",
              "    table.wandb td:nth-child(1) { padding: 0 10px; text-align: right }\n",
              "    .wandb-row { display: flex; flex-direction: row; flex-wrap: wrap; width: 100% }\n",
              "    .wandb-col { display: flex; flex-direction: column; flex-basis: 100%; flex: 1; padding: 10px; }\n",
              "    </style>\n",
              "<div class=\"wandb-row\"><div class=\"wandb-col\"><h3>Run history:</h3><br/><table class=\"wandb\"><tr><td>accuracy</td><td>▁▃▅▇▇▇████</td></tr><tr><td>epoch</td><td>▁▂▃▃▄▅▆▆▇█</td></tr><tr><td>loss</td><td>█▆▅▄▃▃▂▂▁▁</td></tr><tr><td>val_accuracy</td><td>▁▃▄▃▃▅▃▄▃█</td></tr><tr><td>val_loss</td><td>▁▃▁▂▃▅▅▆▇█</td></tr></table><br/></div><div class=\"wandb-col\"><h3>Run summary:</h3><br/><table class=\"wandb\"><tr><td>accuracy</td><td>0.69859</td></tr><tr><td>best_epoch</td><td>2</td></tr><tr><td>best_val_loss</td><td>16.24827</td></tr><tr><td>epoch</td><td>9</td></tr><tr><td>loss</td><td>1.18472</td></tr><tr><td>val_accuracy</td><td>0.11485</td></tr><tr><td>val_loss</td><td>19.24404</td></tr></table><br/></div></div>"
            ]
          },
          "metadata": {}
        },
        {
          "output_type": "display_data",
          "data": {
            "text/plain": [
              "<IPython.core.display.HTML object>"
            ],
            "text/html": [
              "Synced <strong style=\"color:#cdcd00\">good-sweep-1</strong>: <a href=\"https://wandb.ai/safi-vamsi-cs6910/Assignment%202/runs/csq8ek2o\" target=\"_blank\">https://wandb.ai/safi-vamsi-cs6910/Assignment%202/runs/csq8ek2o</a><br/>Synced 5 W&B file(s), 1 media file(s), 0 artifact file(s) and 0 other file(s)"
            ]
          },
          "metadata": {}
        },
        {
          "output_type": "display_data",
          "data": {
            "text/plain": [
              "<IPython.core.display.HTML object>"
            ],
            "text/html": [
              "Find logs at: <code>./wandb/run-20220328_101101-csq8ek2o/logs</code>"
            ]
          },
          "metadata": {}
        },
        {
          "output_type": "stream",
          "name": "stderr",
          "text": [
            "\u001b[34m\u001b[1mwandb\u001b[0m: Agent Starting Run: 8i4e9o8h with config:\n",
            "\u001b[34m\u001b[1mwandb\u001b[0m: \tdata_augmentation: True\n",
            "\u001b[34m\u001b[1mwandb\u001b[0m: \tmodel_name: Xception\n",
            "\u001b[34m\u001b[1mwandb\u001b[0m: \ttune: False\n"
          ]
        },
        {
          "output_type": "display_data",
          "data": {
            "text/plain": [
              "<IPython.core.display.HTML object>"
            ],
            "text/html": [
              "Tracking run with wandb version 0.12.11"
            ]
          },
          "metadata": {}
        },
        {
          "output_type": "display_data",
          "data": {
            "text/plain": [
              "<IPython.core.display.HTML object>"
            ],
            "text/html": [
              "Run data is saved locally in <code>/content/wandb/run-20220328_102701-8i4e9o8h</code>"
            ]
          },
          "metadata": {}
        },
        {
          "output_type": "display_data",
          "data": {
            "text/plain": [
              "<IPython.core.display.HTML object>"
            ],
            "text/html": [
              "Syncing run <strong><a href=\"https://wandb.ai/safi-vamsi-cs6910/Assignment%202/runs/8i4e9o8h\" target=\"_blank\">absurd-sweep-2</a></strong> to <a href=\"https://wandb.ai/safi-vamsi-cs6910/Assignment%202\" target=\"_blank\">Weights & Biases</a> (<a href=\"https://wandb.me/run\" target=\"_blank\">docs</a>)<br/>Sweep page:  <a href=\"https://wandb.ai/safi-vamsi-cs6910/Assignment%202/sweeps/lkwg7x5q\" target=\"_blank\">https://wandb.ai/safi-vamsi-cs6910/Assignment%202/sweeps/lkwg7x5q</a>"
            ]
          },
          "metadata": {}
        },
        {
          "output_type": "display_data",
          "data": {
            "text/plain": [
              "<IPython.core.display.HTML object>"
            ],
            "text/html": [
              "Finishing last run (ID:8i4e9o8h) before initializing another..."
            ]
          },
          "metadata": {}
        },
        {
          "output_type": "stream",
          "name": "stdout",
          "text": [
            "\n"
          ]
        },
        {
          "output_type": "display_data",
          "data": {
            "text/plain": [
              "<IPython.core.display.HTML object>"
            ],
            "text/html": [
              "Waiting for W&B process to finish... <strong style=\"color:green\">(success).</strong>"
            ]
          },
          "metadata": {}
        },
        {
          "output_type": "display_data",
          "data": {
            "text/plain": [
              "VBox(children=(Label(value='0.001 MB of 0.001 MB uploaded (0.000 MB deduped)\\r'), FloatProgress(value=1.0, max…"
            ],
            "application/vnd.jupyter.widget-view+json": {
              "version_major": 2,
              "version_minor": 0,
              "model_id": "1a08af857c61429abb741b62efc08df3"
            }
          },
          "metadata": {}
        },
        {
          "output_type": "display_data",
          "data": {
            "text/plain": [
              "<IPython.core.display.HTML object>"
            ],
            "text/html": [
              "Synced <strong style=\"color:#cdcd00\">absurd-sweep-2</strong>: <a href=\"https://wandb.ai/safi-vamsi-cs6910/Assignment%202/runs/8i4e9o8h\" target=\"_blank\">https://wandb.ai/safi-vamsi-cs6910/Assignment%202/runs/8i4e9o8h</a><br/>Synced 4 W&B file(s), 0 media file(s), 0 artifact file(s) and 0 other file(s)"
            ]
          },
          "metadata": {}
        },
        {
          "output_type": "display_data",
          "data": {
            "text/plain": [
              "<IPython.core.display.HTML object>"
            ],
            "text/html": [
              "Find logs at: <code>./wandb/run-20220328_102701-8i4e9o8h/logs</code>"
            ]
          },
          "metadata": {}
        },
        {
          "output_type": "display_data",
          "data": {
            "text/plain": [
              "<IPython.core.display.HTML object>"
            ],
            "text/html": [
              "Successfully finished last run (ID:8i4e9o8h). Initializing new run:<br/>"
            ]
          },
          "metadata": {}
        },
        {
          "output_type": "display_data",
          "data": {
            "text/plain": [
              "<IPython.core.display.HTML object>"
            ],
            "text/html": [
              "Tracking run with wandb version 0.12.11"
            ]
          },
          "metadata": {}
        },
        {
          "output_type": "display_data",
          "data": {
            "text/plain": [
              "<IPython.core.display.HTML object>"
            ],
            "text/html": [
              "Run data is saved locally in <code>/content/wandb/run-20220328_102706-8i4e9o8h</code>"
            ]
          },
          "metadata": {}
        },
        {
          "output_type": "display_data",
          "data": {
            "text/plain": [
              "<IPython.core.display.HTML object>"
            ],
            "text/html": [
              "Syncing run <strong><a href=\"https://wandb.ai/safi-vamsi-cs6910/Assignment%202/runs/8i4e9o8h\" target=\"_blank\">absurd-sweep-2</a></strong> to <a href=\"https://wandb.ai/safi-vamsi-cs6910/Assignment%202\" target=\"_blank\">Weights & Biases</a> (<a href=\"https://wandb.me/run\" target=\"_blank\">docs</a>)<br/>Sweep page:  <a href=\"https://wandb.ai/safi-vamsi-cs6910/Assignment%202/sweeps/lkwg7x5q\" target=\"_blank\">https://wandb.ai/safi-vamsi-cs6910/Assignment%202/sweeps/lkwg7x5q</a>"
            ]
          },
          "metadata": {}
        },
        {
          "output_type": "stream",
          "name": "stdout",
          "text": [
            "Found 9999 files belonging to 10 classes.\n",
            "Using 9000 files for training.\n",
            "Found 9999 files belonging to 10 classes.\n",
            "Using 999 files for validation.\n",
            "Found 9000 images belonging to 10 classes.\n",
            "Found 999 images belonging to 10 classes.\n",
            "Epoch 1/10\n",
            "62/62 [==============================] - ETA: 0s - loss: 2.2263 - accuracy: 0.1996"
          ]
        },
        {
          "output_type": "stream",
          "name": "stderr",
          "text": [
            "\u001b[34m\u001b[1mwandb\u001b[0m: \u001b[32m\u001b[41mERROR\u001b[0m Can't save model, h5py returned error: Saving the model to HDF5 format requires the model to be a Functional model or a Sequential model. It does not work for subclassed models, because such models are defined via the body of a Python method, which isn't safely serializable. Consider saving to the Tensorflow SavedModel format (by setting save_format=\"tf\") or using `save_weights`.\n"
          ]
        },
        {
          "output_type": "stream",
          "name": "stdout",
          "text": [
            "\b\b\b\b\b\b\b\b\b\b\b\b\b\b\b\b\b\b\b\b\b\b\b\b\b\b\b\b\b\b\b\b\b\b\b\b\b\b\b\b\b\b\b\b\b\b\b\b\b\b\b\b\b\b\b\b\b\b\b\b\b\b\b\b\b\b\b\b\b\b\b\b\b\b\b\b\b\b\b\b\b\b\r62/62 [==============================] - 95s 1s/step - loss: 2.2263 - accuracy: 0.1996 - val_loss: 13.0990 - val_accuracy: 0.0730 - _timestamp: 1648463335.0000 - _runtime: 104.0000\n",
            "Epoch 2/10\n",
            "62/62 [==============================] - ETA: 0s - loss: 1.9941 - accuracy: 0.3985"
          ]
        }
      ]
    },
    {
      "cell_type": "code",
      "source": [
        ""
      ],
      "metadata": {
        "id": "wz5xILMke0oZ"
      },
      "execution_count": null,
      "outputs": []
    }
  ]
}